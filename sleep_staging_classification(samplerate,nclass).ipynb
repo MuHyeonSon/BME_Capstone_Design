{
  "cells": [
    {
      "cell_type": "markdown",
      "metadata": {
        "id": "view-in-github",
        "colab_type": "text"
      },
      "source": [
        "<a href=\"https://colab.research.google.com/github/MuHyeonSon/BME_Capstone_design/blob/main/sleep_staging_classification(samplerate%2Cnclass).ipynb\" target=\"_parent\"><img src=\"https://colab.research.google.com/assets/colab-badge.svg\" alt=\"Open In Colab\"/></a>"
      ]
    },
    {
      "cell_type": "markdown",
      "metadata": {
        "id": "4Z9T3RgTKU83"
      },
      "source": [
        "#데이터처리"
      ]
    },
    {
      "cell_type": "code",
      "execution_count": null,
      "metadata": {
        "colab": {
          "base_uri": "https://localhost:8080/"
        },
        "id": "vnVzBT3CDNfz",
        "outputId": "4779769e-fced-4b2c-dcde-963ff98d724b"
      },
      "outputs": [
        {
          "name": "stdout",
          "output_type": "stream",
          "text": [
            "Signals of 151 subjects  : [array([ 73.71938659,  70.93614099,  69.39803159, ..., -91.1512932 ,\n",
            "        14.83176928,  30.65232319]), array([-15.71068894, -48.37720302, -55.04234379, ..., 126.52780957,\n",
            "       135.17051957, 137.51430533]), array([137.44106203, 128.06591897, 133.41268025, ...,  14.53879606,\n",
            "        14.17257954,  12.56122683]), array([  8.60608835,  -5.0904097 , -12.78095674, ...,  53.65072099,\n",
            "        32.70313573,  14.97825589]), array([  0.54932479, -20.10528725, -40.68665599, ...,   0.18310826,\n",
            "        -8.23987182,  -2.38040742]), array([  2.89311055,   9.85122454,  17.76150149, ..., 125.64888991,\n",
            "       170.32730602, 242.10574502]), array([354.09475853, 478.90135042, 650.07095445, ..., -28.52826734,\n",
            "       -30.50583658, -38.049897  ]), array([ -40.61341268,  -37.75692378,  -31.09178302, ..., -296.08606088,\n",
            "       -538.814374  , -613.4493019 ]), array([-572.94575418, -462.93430991, -367.35179675, ...,  -10.29068437,\n",
            "        -11.53582055,  -17.02906844]), array([-24.57312886, -27.20988785, -14.61203937, ..., -87.56237125,\n",
            "       -81.62966354, -67.12748913])]\n",
            "Labels of 151 subjects : ['Sleep stage W', 'Sleep stage W', 'Sleep stage W', 'Sleep stage W', 'Sleep stage W', 'Sleep stage W', 'Sleep stage W', 'Sleep stage W', 'Sleep stage N1', 'Sleep stage N1']\n",
            "number of segment from Signals of 151 subjects  : 137243\n",
            "number of segment from Labels of 151 subjects : 137243\n"
          ]
        }
      ],
      "source": [
        "print(f'Signals of 151 subjects  : {Signals[:10]}')\n",
        "print(f'Labels of 151 subjects : {Labels[:10]}')\n",
        "print(f'number of segment from Signals of 151 subjects  : {len(Signals)}')\n",
        "print(f'number of segment from Labels of 151 subjects : {len(Labels)}')"
      ]
    },
    {
      "cell_type": "code",
      "execution_count": null,
      "metadata": {
        "colab": {
          "base_uri": "https://localhost:8080/"
        },
        "id": "mKuJ4cgBD3e4",
        "outputId": "dcc0a77c-bd5a-4cd2-b1c9-ab2415b8b988"
      },
      "outputs": [
        {
          "data": {
            "text/plain": [
              "974131200"
            ]
          },
          "execution_count": 12,
          "metadata": {},
          "output_type": "execute_result"
        }
      ],
      "source": [
        "256*30*2*60*7*151 #9억7만개의 정도의 sample"
      ]
    },
    {
      "cell_type": "code",
      "execution_count": null,
      "metadata": {
        "colab": {
          "base_uri": "https://localhost:8080/"
        },
        "id": "5O1hjjI2EUXQ",
        "outputId": "ec3fe39b-6ec9-45d3-f626-2e735efd3402"
      },
      "outputs": [
        {
          "data": {
            "text/plain": [
              "126840"
            ]
          },
          "execution_count": 13,
          "metadata": {},
          "output_type": "execute_result"
        }
      ],
      "source": [
        "2*60*7*151 #151명의 피험자에서 나온 segment의 대략적인 개수"
      ]
    },
    {
      "cell_type": "code",
      "execution_count": null,
      "metadata": {
        "colab": {
          "base_uri": "https://localhost:8080/"
        },
        "id": "kfSKqWLJv41B",
        "outputId": "79fb38b0-094d-4fd4-fe6a-e00cdbefd5ce"
      },
      "outputs": [
        {
          "name": "stdout",
          "output_type": "stream",
          "text": [
            "분할 전 :  [1, 2, 3, 4, 5, 6, 7, 8, 9, 10, 11, 12, 13, 14, 15, 16, 17, 18, 19, 20, 21, 22, 23, 24, 25, 26, 27, 28, 29, 30, 31]\n",
            "분할 후 :  [[1, 2, 3], [4, 5, 6], [7, 8, 9], [10, 11, 12], [13, 14, 15], [16, 17, 18], [19, 20, 21], [22, 23, 24], [25, 26, 27], [28, 29, 30]]\n"
          ]
        }
      ],
      "source": [
        "num_sample = 256*30\n",
        "\n",
        "def remove_remains(lst, n):\n",
        "    removed = [lst[i:i+n] for i in range(0, len(lst), n)]\n",
        "    removed.pop()\n",
        "    return removed\n",
        "\n",
        "list_test = list(range(1,32))\n",
        "print(\"분할 전 : \", list_test)\n",
        "\n",
        "list_chunked = remove_remains(list_test, 3) # paramter : 분할할 리스트, 리스트의 길이\n",
        "print(\"분할 후 : \", removed)"
      ]
    },
    {
      "cell_type": "code",
      "execution_count": null,
      "metadata": {
        "colab": {
          "base_uri": "https://localhost:8080/"
        },
        "id": "U3YtRmwY7Ryk",
        "outputId": "6718370a-cc79-4c4d-f8bd-a31d7b758afc"
      },
      "outputs": [
        {
          "name": "stdout",
          "output_type": "stream",
          "text": [
            "test_x=['/content/drive/MyDrive/physionet/HMC/hmc-sleep-staging/recordings/SN006.edf', '/content/drive/MyDrive/physionet/HMC/hmc-sleep-staging/recordings/SN012.edf', '/content/drive/MyDrive/physionet/HMC/hmc-sleep-staging/recordings/SN019.edf', '/content/drive/MyDrive/physionet/HMC/hmc-sleep-staging/recordings/SN025.edf', '/content/drive/MyDrive/physionet/HMC/hmc-sleep-staging/recordings/SN031.edf', '/content/drive/MyDrive/physionet/HMC/hmc-sleep-staging/recordings/SN037.edf', '/content/drive/MyDrive/physionet/HMC/hmc-sleep-staging/recordings/SN043.edf', '/content/drive/MyDrive/physionet/HMC/hmc-sleep-staging/recordings/SN049.edf', '/content/drive/MyDrive/physionet/HMC/hmc-sleep-staging/recordings/SN055.edf', '/content/drive/MyDrive/physionet/HMC/hmc-sleep-staging/recordings/SN061.edf', '/content/drive/MyDrive/physionet/HMC/hmc-sleep-staging/recordings/SN068.edf', '/content/drive/MyDrive/physionet/HMC/hmc-sleep-staging/recordings/SN074.edf', '/content/drive/MyDrive/physionet/HMC/hmc-sleep-staging/recordings/SN080.edf', '/content/drive/MyDrive/physionet/HMC/hmc-sleep-staging/recordings/SN086.edf', '/content/drive/MyDrive/physionet/HMC/hmc-sleep-staging/recordings/SN092.edf', '/content/drive/MyDrive/physionet/HMC/hmc-sleep-staging/recordings/SN098.edf', '/content/drive/MyDrive/physionet/HMC/hmc-sleep-staging/recordings/SN104.edf', '/content/drive/MyDrive/physionet/HMC/hmc-sleep-staging/recordings/SN110.edf', '/content/drive/MyDrive/physionet/HMC/hmc-sleep-staging/recordings/SN116.edf', '/content/drive/MyDrive/physionet/HMC/hmc-sleep-staging/recordings/SN122.edf', '/content/drive/MyDrive/physionet/HMC/hmc-sleep-staging/recordings/SN128.edf', '/content/drive/MyDrive/physionet/HMC/hmc-sleep-staging/recordings/SN134.edf', '/content/drive/MyDrive/physionet/HMC/hmc-sleep-staging/recordings/SN141.edf', '/content/drive/MyDrive/physionet/HMC/hmc-sleep-staging/recordings/SN147.edf', '/content/drive/MyDrive/physionet/HMC/hmc-sleep-staging/recordings/SN153.edf']\n",
            "test_y=['/content/drive/MyDrive/physionet/HMC/hmc-sleep-staging/recordings/SN006_sleepscoring.edf', '/content/drive/MyDrive/physionet/HMC/hmc-sleep-staging/recordings/SN012_sleepscoring.edf', '/content/drive/MyDrive/physionet/HMC/hmc-sleep-staging/recordings/SN019_sleepscoring.edf', '/content/drive/MyDrive/physionet/HMC/hmc-sleep-staging/recordings/SN025_sleepscoring.edf', '/content/drive/MyDrive/physionet/HMC/hmc-sleep-staging/recordings/SN031_sleepscoring.edf', '/content/drive/MyDrive/physionet/HMC/hmc-sleep-staging/recordings/SN037_sleepscoring.edf', '/content/drive/MyDrive/physionet/HMC/hmc-sleep-staging/recordings/SN043_sleepscoring.edf', '/content/drive/MyDrive/physionet/HMC/hmc-sleep-staging/recordings/SN049_sleepscoring.edf', '/content/drive/MyDrive/physionet/HMC/hmc-sleep-staging/recordings/SN055_sleepscoring.edf', '/content/drive/MyDrive/physionet/HMC/hmc-sleep-staging/recordings/SN061_sleepscoring.edf', '/content/drive/MyDrive/physionet/HMC/hmc-sleep-staging/recordings/SN068_sleepscoring.edf', '/content/drive/MyDrive/physionet/HMC/hmc-sleep-staging/recordings/SN074_sleepscoring.edf', '/content/drive/MyDrive/physionet/HMC/hmc-sleep-staging/recordings/SN080_sleepscoring.edf', '/content/drive/MyDrive/physionet/HMC/hmc-sleep-staging/recordings/SN086_sleepscoring.edf', '/content/drive/MyDrive/physionet/HMC/hmc-sleep-staging/recordings/SN092_sleepscoring.edf', '/content/drive/MyDrive/physionet/HMC/hmc-sleep-staging/recordings/SN098_sleepscoring.edf', '/content/drive/MyDrive/physionet/HMC/hmc-sleep-staging/recordings/SN104_sleepscoring.edf', '/content/drive/MyDrive/physionet/HMC/hmc-sleep-staging/recordings/SN110_sleepscoring.edf', '/content/drive/MyDrive/physionet/HMC/hmc-sleep-staging/recordings/SN116_sleepscoring.edf', '/content/drive/MyDrive/physionet/HMC/hmc-sleep-staging/recordings/SN122_sleepscoring.edf', '/content/drive/MyDrive/physionet/HMC/hmc-sleep-staging/recordings/SN128_sleepscoring.edf', '/content/drive/MyDrive/physionet/HMC/hmc-sleep-staging/recordings/SN134_sleepscoring.edf', '/content/drive/MyDrive/physionet/HMC/hmc-sleep-staging/recordings/SN141_sleepscoring.edf', '/content/drive/MyDrive/physionet/HMC/hmc-sleep-staging/recordings/SN147_sleepscoring.edf', '/content/drive/MyDrive/physionet/HMC/hmc-sleep-staging/recordings/SN153_sleepscoring.edf']\n"
          ]
        }
      ],
      "source": [
        "#151명 중 약 17%인 25명을 test set으로 선정\n",
        "# 첫번째 데이터부터 151번째 데이터까지 순서대로 6명마다 1명이 testset으로 뽑히도록\n",
        "\n",
        "test_x = []\n",
        "test_y = []\n",
        "test_index_list = []\n",
        "\n",
        "for i in range(len(trains)):\n",
        "  if (i+1) % 6 == 0:\n",
        "    test_x.append(trains[i])\n",
        "    test_y.append(labels[i])\n",
        "    test_index_list.append(i)\n",
        "\n",
        "\n",
        "print(f'test_x={test_x}')   \n",
        "print(f'test_y={test_y}') "
      ]
    },
    {
      "cell_type": "code",
      "execution_count": null,
      "metadata": {
        "colab": {
          "base_uri": "https://localhost:8080/"
        },
        "id": "GACxMWz5-TTA",
        "outputId": "9357c3b2-0182-4fbe-9328-ee51213d8c43"
      },
      "outputs": [
        {
          "name": "stdout",
          "output_type": "stream",
          "text": [
            "num_test_x=25\n",
            "num_test_y=25\n"
          ]
        }
      ],
      "source": [
        "print(f'num_test_x={len(test_x)}')   \n",
        "print(f'num_test_y={len(test_y)}') "
      ]
    },
    {
      "cell_type": "code",
      "execution_count": null,
      "metadata": {
        "colab": {
          "base_uri": "https://localhost:8080/"
        },
        "id": "o4xrgCBHEJC1",
        "outputId": "4388afff-0e9b-4edf-c735-e8dca975bb7c"
      },
      "outputs": [
        {
          "name": "stdout",
          "output_type": "stream",
          "text": [
            "test_set 목록\n",
            "/content/drive/MyDrive/physionet/HMC/hmc-sleep-staging/recordings/SN006.edf\n",
            "/content/drive/MyDrive/physionet/HMC/hmc-sleep-staging/recordings/SN012.edf\n",
            "/content/drive/MyDrive/physionet/HMC/hmc-sleep-staging/recordings/SN019.edf\n",
            "/content/drive/MyDrive/physionet/HMC/hmc-sleep-staging/recordings/SN025.edf\n",
            "/content/drive/MyDrive/physionet/HMC/hmc-sleep-staging/recordings/SN031.edf\n",
            "/content/drive/MyDrive/physionet/HMC/hmc-sleep-staging/recordings/SN037.edf\n",
            "/content/drive/MyDrive/physionet/HMC/hmc-sleep-staging/recordings/SN043.edf\n",
            "/content/drive/MyDrive/physionet/HMC/hmc-sleep-staging/recordings/SN049.edf\n",
            "/content/drive/MyDrive/physionet/HMC/hmc-sleep-staging/recordings/SN055.edf\n",
            "/content/drive/MyDrive/physionet/HMC/hmc-sleep-staging/recordings/SN061.edf\n",
            "/content/drive/MyDrive/physionet/HMC/hmc-sleep-staging/recordings/SN068.edf\n",
            "/content/drive/MyDrive/physionet/HMC/hmc-sleep-staging/recordings/SN074.edf\n",
            "/content/drive/MyDrive/physionet/HMC/hmc-sleep-staging/recordings/SN080.edf\n",
            "/content/drive/MyDrive/physionet/HMC/hmc-sleep-staging/recordings/SN086.edf\n",
            "/content/drive/MyDrive/physionet/HMC/hmc-sleep-staging/recordings/SN092.edf\n",
            "/content/drive/MyDrive/physionet/HMC/hmc-sleep-staging/recordings/SN098.edf\n",
            "/content/drive/MyDrive/physionet/HMC/hmc-sleep-staging/recordings/SN104.edf\n",
            "/content/drive/MyDrive/physionet/HMC/hmc-sleep-staging/recordings/SN110.edf\n",
            "/content/drive/MyDrive/physionet/HMC/hmc-sleep-staging/recordings/SN116.edf\n",
            "/content/drive/MyDrive/physionet/HMC/hmc-sleep-staging/recordings/SN122.edf\n",
            "/content/drive/MyDrive/physionet/HMC/hmc-sleep-staging/recordings/SN128.edf\n",
            "/content/drive/MyDrive/physionet/HMC/hmc-sleep-staging/recordings/SN134.edf\n",
            "/content/drive/MyDrive/physionet/HMC/hmc-sleep-staging/recordings/SN141.edf\n",
            "/content/drive/MyDrive/physionet/HMC/hmc-sleep-staging/recordings/SN147.edf\n",
            "/content/drive/MyDrive/physionet/HMC/hmc-sleep-staging/recordings/SN153.edf\n"
          ]
        }
      ],
      "source": [
        "print(\"test_set 목록\")\n",
        "for i in test_x:\n",
        "  print(i)"
      ]
    },
    {
      "cell_type": "code",
      "source": [
        "# 다운 샘플링을 위한 것\n",
        "# a가 256Hz 샘플링된 데이터라고 가정하면\n",
        "a = [1,2,3,4,5,6,7,8,9,10,11,12,13,14,15,16,17,18,19,20]\n",
        "\n",
        "# downsampling 256Hz -> 128Hz 방식\n",
        "print(a[1::2])\n",
        "# downsampling 256Hz -> 64Hz 방식\n",
        "print(a[3::4])"
      ],
      "metadata": {
        "id": "ycgN2I1roJlA"
      },
      "execution_count": null,
      "outputs": []
    },
    {
      "cell_type": "code",
      "source": [
        ""
      ],
      "metadata": {
        "id": "Vlbxgo2qoXqI"
      },
      "execution_count": null,
      "outputs": []
    },
    {
      "cell_type": "markdown",
      "metadata": {
        "id": "ZoNlzRoAMQSB"
      },
      "source": [
        "#Sleep_staging_classification"
      ]
    },
    {
      "cell_type": "code",
      "execution_count": 2,
      "metadata": {
        "colab": {
          "base_uri": "https://localhost:8080/"
        },
        "id": "y-3CllWCvl43",
        "outputId": "e5431a4c-2f88-4416-b1ca-4648a440439c"
      },
      "outputs": [
        {
          "output_type": "stream",
          "name": "stdout",
          "text": [
            "Mounted at /content/drive\n"
          ]
        }
      ],
      "source": [
        "from google.colab import drive\n",
        "drive.mount('/content/drive')"
      ]
    },
    {
      "cell_type": "markdown",
      "metadata": {
        "id": "JcZvqToaRkA_"
      },
      "source": [
        "download libraries"
      ]
    },
    {
      "cell_type": "code",
      "execution_count": 3,
      "metadata": {
        "colab": {
          "base_uri": "https://localhost:8080/"
        },
        "id": "x64sn_WzrioG",
        "outputId": "d0a7bf57-6718-4e11-b528-2e6421647cd5"
      },
      "outputs": [
        {
          "output_type": "stream",
          "name": "stdout",
          "text": [
            "Looking in indexes: https://pypi.org/simple, https://us-python.pkg.dev/colab-wheels/public/simple/\n",
            "Collecting pyEDFlib\n",
            "  Downloading pyEDFlib-0.1.28-cp37-cp37m-manylinux_2_17_x86_64.manylinux2014_x86_64.whl (2.4 MB)\n",
            "\u001b[K     |████████████████████████████████| 2.4 MB 4.1 MB/s \n",
            "\u001b[?25hRequirement already satisfied: numpy>=1.9.1 in /usr/local/lib/python3.7/dist-packages (from pyEDFlib) (1.21.6)\n",
            "Installing collected packages: pyEDFlib\n",
            "Successfully installed pyEDFlib-0.1.28\n"
          ]
        }
      ],
      "source": [
        "!pip install pyEDFlib  #pyEDFlib 라이브러리를 다운로드"
      ]
    },
    {
      "cell_type": "code",
      "execution_count": 4,
      "metadata": {
        "colab": {
          "base_uri": "https://localhost:8080/"
        },
        "id": "UcOjLy3V2vDQ",
        "outputId": "86df563f-9c9b-405d-8138-f570145e1a99"
      },
      "outputs": [
        {
          "output_type": "stream",
          "name": "stdout",
          "text": [
            "Looking in indexes: https://pypi.org/simple, https://us-python.pkg.dev/colab-wheels/public/simple/\n",
            "Requirement already satisfied: pyedflib in /usr/local/lib/python3.7/dist-packages (0.1.28)\n",
            "Requirement already satisfied: numpy>=1.9.1 in /usr/local/lib/python3.7/dist-packages (from pyedflib) (1.21.6)\n"
          ]
        }
      ],
      "source": [
        "!pip install pyedflib"
      ]
    },
    {
      "cell_type": "code",
      "execution_count": 5,
      "metadata": {
        "id": "w5HXh6cLd9rl"
      },
      "outputs": [],
      "source": [
        "#!pip install tensorflow"
      ]
    },
    {
      "cell_type": "markdown",
      "metadata": {
        "id": "qTT6dclBmd-_"
      },
      "source": [
        "import libraries"
      ]
    },
    {
      "cell_type": "code",
      "execution_count": 6,
      "metadata": {
        "id": "-QROK9uTz_3i"
      },
      "outputs": [],
      "source": [
        "import os  \n",
        "from pyedflib import highlevel\n",
        "import pyedflib\n",
        "import glob\n",
        "from itertools import accumulate\n",
        "import numpy as np \n",
        "import torch\n",
        "import matplotlib.pyplot as plt\n",
        "#모듈 import\n",
        "from sklearn.datasets import load_iris  #(2)sklearn라이브러리에 detasets패키지 모듈 import\n",
        "from sklearn.model_selection import train_test_split  #(3)sklearn.model_selection패키지의 train_test_split를 활용해 데이터셋 분리\n",
        "from sklearn.tree import DecisionTreeClassifier #(4)sklearn.tree패키지에 DecisionTreeClassifier import\n",
        "from sklearn.metrics import classification_report\n",
        "from sklearn.metrics import accuracy_score #정확도"
      ]
    },
    {
      "cell_type": "markdown",
      "metadata": {
        "id": "_bneYkG7Rtol"
      },
      "source": [
        "경로 설정"
      ]
    },
    {
      "cell_type": "code",
      "execution_count": 7,
      "metadata": {
        "id": "owHSlcJkuGaV"
      },
      "outputs": [],
      "source": [
        "r_path = \"/content/drive/MyDrive/physionet/HMC/hmc-sleep-staging/recordings/\" #데이터들이 있는 경로"
      ]
    },
    {
      "cell_type": "markdown",
      "metadata": {
        "id": "3jiTPJt6IB5Y"
      },
      "source": [
        "/content/drive/MyDrive/physionet/HMC/hmc-sleep-staging/recordings/SN001.#72번째 문자가 edf로 끝나는 경로명\n",
        "\n",
        "SNxxx.edf로 끝나는 signal데이터와 SNxxx_sleepscoring.edf를 구분하기 위해 \n",
        "\n"
      ]
    },
    {
      "cell_type": "code",
      "execution_count": 8,
      "metadata": {
        "colab": {
          "base_uri": "https://localhost:8080/"
        },
        "id": "eBoD5AqhtRCB",
        "outputId": "b7d66cca-ad94-44a9-8ddc-79f82155b375"
      },
      "outputs": [
        {
          "output_type": "stream",
          "name": "stdout",
          "text": [
            "데이터 경로 : ['/content/drive/MyDrive/physionet/HMC/hmc-sleep-staging/recordings/SN001.edf', '/content/drive/MyDrive/physionet/HMC/hmc-sleep-staging/recordings/SN001_sleepscoring.edf', '/content/drive/MyDrive/physionet/HMC/hmc-sleep-staging/recordings/SN001_sleepscoring.txt', '/content/drive/MyDrive/physionet/HMC/hmc-sleep-staging/recordings/SN002.edf', '/content/drive/MyDrive/physionet/HMC/hmc-sleep-staging/recordings/SN002_sleepscoring.edf', '/content/drive/MyDrive/physionet/HMC/hmc-sleep-staging/recordings/SN002_sleepscoring.txt', '/content/drive/MyDrive/physionet/HMC/hmc-sleep-staging/recordings/SN003.edf', '/content/drive/MyDrive/physionet/HMC/hmc-sleep-staging/recordings/SN003_sleepscoring.edf', '/content/drive/MyDrive/physionet/HMC/hmc-sleep-staging/recordings/SN003_sleepscoring.txt', '/content/drive/MyDrive/physionet/HMC/hmc-sleep-staging/recordings/SN004.edf', '/content/drive/MyDrive/physionet/HMC/hmc-sleep-staging/recordings/SN004_sleepscoring.edf', '/content/drive/MyDrive/physionet/HMC/hmc-sleep-staging/recordings/SN004_sleepscoring.txt', '/content/drive/MyDrive/physionet/HMC/hmc-sleep-staging/recordings/SN005.edf', '/content/drive/MyDrive/physionet/HMC/hmc-sleep-staging/recordings/SN005_sleepscoring.edf', '/content/drive/MyDrive/physionet/HMC/hmc-sleep-staging/recordings/SN005_sleepscoring.txt', '/content/drive/MyDrive/physionet/HMC/hmc-sleep-staging/recordings/SN006.edf', '/content/drive/MyDrive/physionet/HMC/hmc-sleep-staging/recordings/SN006_sleepscoring.edf', '/content/drive/MyDrive/physionet/HMC/hmc-sleep-staging/recordings/SN006_sleepscoring.txt', '/content/drive/MyDrive/physionet/HMC/hmc-sleep-staging/recordings/SN007.edf', '/content/drive/MyDrive/physionet/HMC/hmc-sleep-staging/recordings/SN007_sleepscoring.edf', '/content/drive/MyDrive/physionet/HMC/hmc-sleep-staging/recordings/SN007_sleepscoring.txt', '/content/drive/MyDrive/physionet/HMC/hmc-sleep-staging/recordings/SN008.edf', '/content/drive/MyDrive/physionet/HMC/hmc-sleep-staging/recordings/SN008_sleepscoring.edf', '/content/drive/MyDrive/physionet/HMC/hmc-sleep-staging/recordings/SN008_sleepscoring.txt', '/content/drive/MyDrive/physionet/HMC/hmc-sleep-staging/recordings/SN009.edf', '/content/drive/MyDrive/physionet/HMC/hmc-sleep-staging/recordings/SN009_sleepscoring.edf', '/content/drive/MyDrive/physionet/HMC/hmc-sleep-staging/recordings/SN009_sleepscoring.txt', '/content/drive/MyDrive/physionet/HMC/hmc-sleep-staging/recordings/SN010.edf', '/content/drive/MyDrive/physionet/HMC/hmc-sleep-staging/recordings/SN010_sleepscoring.edf', '/content/drive/MyDrive/physionet/HMC/hmc-sleep-staging/recordings/SN010_sleepscoring.txt', '/content/drive/MyDrive/physionet/HMC/hmc-sleep-staging/recordings/SN011.edf', '/content/drive/MyDrive/physionet/HMC/hmc-sleep-staging/recordings/SN011_sleepscoring.edf', '/content/drive/MyDrive/physionet/HMC/hmc-sleep-staging/recordings/SN011_sleepscoring.txt', '/content/drive/MyDrive/physionet/HMC/hmc-sleep-staging/recordings/SN012.edf', '/content/drive/MyDrive/physionet/HMC/hmc-sleep-staging/recordings/SN012_sleepscoring.edf', '/content/drive/MyDrive/physionet/HMC/hmc-sleep-staging/recordings/SN012_sleepscoring.txt', '/content/drive/MyDrive/physionet/HMC/hmc-sleep-staging/recordings/SN013.edf', '/content/drive/MyDrive/physionet/HMC/hmc-sleep-staging/recordings/SN013_sleepscoring.edf', '/content/drive/MyDrive/physionet/HMC/hmc-sleep-staging/recordings/SN013_sleepscoring.txt', '/content/drive/MyDrive/physionet/HMC/hmc-sleep-staging/recordings/SN015.edf', '/content/drive/MyDrive/physionet/HMC/hmc-sleep-staging/recordings/SN015_sleepscoring.edf', '/content/drive/MyDrive/physionet/HMC/hmc-sleep-staging/recordings/SN015_sleepscoring.txt', '/content/drive/MyDrive/physionet/HMC/hmc-sleep-staging/recordings/SN016.edf', '/content/drive/MyDrive/physionet/HMC/hmc-sleep-staging/recordings/SN016_sleepscoring.edf', '/content/drive/MyDrive/physionet/HMC/hmc-sleep-staging/recordings/SN016_sleepscoring.txt', '/content/drive/MyDrive/physionet/HMC/hmc-sleep-staging/recordings/SN017.edf', '/content/drive/MyDrive/physionet/HMC/hmc-sleep-staging/recordings/SN017_sleepscoring.edf', '/content/drive/MyDrive/physionet/HMC/hmc-sleep-staging/recordings/SN017_sleepscoring.txt', '/content/drive/MyDrive/physionet/HMC/hmc-sleep-staging/recordings/SN018.edf', '/content/drive/MyDrive/physionet/HMC/hmc-sleep-staging/recordings/SN018_sleepscoring.edf', '/content/drive/MyDrive/physionet/HMC/hmc-sleep-staging/recordings/SN018_sleepscoring.txt', '/content/drive/MyDrive/physionet/HMC/hmc-sleep-staging/recordings/SN019.edf', '/content/drive/MyDrive/physionet/HMC/hmc-sleep-staging/recordings/SN019_sleepscoring.edf', '/content/drive/MyDrive/physionet/HMC/hmc-sleep-staging/recordings/SN019_sleepscoring.txt', '/content/drive/MyDrive/physionet/HMC/hmc-sleep-staging/recordings/SN020.edf', '/content/drive/MyDrive/physionet/HMC/hmc-sleep-staging/recordings/SN020_sleepscoring.edf', '/content/drive/MyDrive/physionet/HMC/hmc-sleep-staging/recordings/SN020_sleepscoring.txt', '/content/drive/MyDrive/physionet/HMC/hmc-sleep-staging/recordings/SN021.edf', '/content/drive/MyDrive/physionet/HMC/hmc-sleep-staging/recordings/SN021_sleepscoring.edf', '/content/drive/MyDrive/physionet/HMC/hmc-sleep-staging/recordings/SN021_sleepscoring.txt', '/content/drive/MyDrive/physionet/HMC/hmc-sleep-staging/recordings/SN022.edf', '/content/drive/MyDrive/physionet/HMC/hmc-sleep-staging/recordings/SN022_sleepscoring.edf', '/content/drive/MyDrive/physionet/HMC/hmc-sleep-staging/recordings/SN022_sleepscoring.txt', '/content/drive/MyDrive/physionet/HMC/hmc-sleep-staging/recordings/SN023.edf', '/content/drive/MyDrive/physionet/HMC/hmc-sleep-staging/recordings/SN023_sleepscoring.edf', '/content/drive/MyDrive/physionet/HMC/hmc-sleep-staging/recordings/SN023_sleepscoring.txt', '/content/drive/MyDrive/physionet/HMC/hmc-sleep-staging/recordings/SN024.edf', '/content/drive/MyDrive/physionet/HMC/hmc-sleep-staging/recordings/SN024_sleepscoring.edf', '/content/drive/MyDrive/physionet/HMC/hmc-sleep-staging/recordings/SN024_sleepscoring.txt', '/content/drive/MyDrive/physionet/HMC/hmc-sleep-staging/recordings/SN025.edf', '/content/drive/MyDrive/physionet/HMC/hmc-sleep-staging/recordings/SN025_sleepscoring.edf', '/content/drive/MyDrive/physionet/HMC/hmc-sleep-staging/recordings/SN025_sleepscoring.txt', '/content/drive/MyDrive/physionet/HMC/hmc-sleep-staging/recordings/SN026.edf', '/content/drive/MyDrive/physionet/HMC/hmc-sleep-staging/recordings/SN026_sleepscoring.edf', '/content/drive/MyDrive/physionet/HMC/hmc-sleep-staging/recordings/SN026_sleepscoring.txt', '/content/drive/MyDrive/physionet/HMC/hmc-sleep-staging/recordings/SN027.edf', '/content/drive/MyDrive/physionet/HMC/hmc-sleep-staging/recordings/SN027_sleepscoring.edf', '/content/drive/MyDrive/physionet/HMC/hmc-sleep-staging/recordings/SN027_sleepscoring.txt', '/content/drive/MyDrive/physionet/HMC/hmc-sleep-staging/recordings/SN028.edf', '/content/drive/MyDrive/physionet/HMC/hmc-sleep-staging/recordings/SN028_sleepscoring.edf', '/content/drive/MyDrive/physionet/HMC/hmc-sleep-staging/recordings/SN028_sleepscoring.txt', '/content/drive/MyDrive/physionet/HMC/hmc-sleep-staging/recordings/SN029.edf', '/content/drive/MyDrive/physionet/HMC/hmc-sleep-staging/recordings/SN029_sleepscoring.edf', '/content/drive/MyDrive/physionet/HMC/hmc-sleep-staging/recordings/SN029_sleepscoring.txt', '/content/drive/MyDrive/physionet/HMC/hmc-sleep-staging/recordings/SN030.edf', '/content/drive/MyDrive/physionet/HMC/hmc-sleep-staging/recordings/SN030_sleepscoring.edf', '/content/drive/MyDrive/physionet/HMC/hmc-sleep-staging/recordings/SN030_sleepscoring.txt', '/content/drive/MyDrive/physionet/HMC/hmc-sleep-staging/recordings/SN031.edf', '/content/drive/MyDrive/physionet/HMC/hmc-sleep-staging/recordings/SN031_sleepscoring.edf', '/content/drive/MyDrive/physionet/HMC/hmc-sleep-staging/recordings/SN031_sleepscoring.txt', '/content/drive/MyDrive/physionet/HMC/hmc-sleep-staging/recordings/SN032.edf', '/content/drive/MyDrive/physionet/HMC/hmc-sleep-staging/recordings/SN032_sleepscoring.edf', '/content/drive/MyDrive/physionet/HMC/hmc-sleep-staging/recordings/SN032_sleepscoring.txt', '/content/drive/MyDrive/physionet/HMC/hmc-sleep-staging/recordings/SN033.edf', '/content/drive/MyDrive/physionet/HMC/hmc-sleep-staging/recordings/SN033_sleepscoring.edf', '/content/drive/MyDrive/physionet/HMC/hmc-sleep-staging/recordings/SN033_sleepscoring.txt', '/content/drive/MyDrive/physionet/HMC/hmc-sleep-staging/recordings/SN034.edf', '/content/drive/MyDrive/physionet/HMC/hmc-sleep-staging/recordings/SN034_sleepscoring.edf', '/content/drive/MyDrive/physionet/HMC/hmc-sleep-staging/recordings/SN034_sleepscoring.txt', '/content/drive/MyDrive/physionet/HMC/hmc-sleep-staging/recordings/SN035.edf', '/content/drive/MyDrive/physionet/HMC/hmc-sleep-staging/recordings/SN035_sleepscoring.edf', '/content/drive/MyDrive/physionet/HMC/hmc-sleep-staging/recordings/SN035_sleepscoring.txt', '/content/drive/MyDrive/physionet/HMC/hmc-sleep-staging/recordings/SN036.edf', '/content/drive/MyDrive/physionet/HMC/hmc-sleep-staging/recordings/SN036_sleepscoring.edf', '/content/drive/MyDrive/physionet/HMC/hmc-sleep-staging/recordings/SN036_sleepscoring.txt', '/content/drive/MyDrive/physionet/HMC/hmc-sleep-staging/recordings/SN037.edf', '/content/drive/MyDrive/physionet/HMC/hmc-sleep-staging/recordings/SN037_sleepscoring.edf', '/content/drive/MyDrive/physionet/HMC/hmc-sleep-staging/recordings/SN037_sleepscoring.txt', '/content/drive/MyDrive/physionet/HMC/hmc-sleep-staging/recordings/SN038.edf', '/content/drive/MyDrive/physionet/HMC/hmc-sleep-staging/recordings/SN038_sleepscoring.edf', '/content/drive/MyDrive/physionet/HMC/hmc-sleep-staging/recordings/SN038_sleepscoring.txt', '/content/drive/MyDrive/physionet/HMC/hmc-sleep-staging/recordings/SN039.edf', '/content/drive/MyDrive/physionet/HMC/hmc-sleep-staging/recordings/SN039_sleepscoring.edf', '/content/drive/MyDrive/physionet/HMC/hmc-sleep-staging/recordings/SN039_sleepscoring.txt', '/content/drive/MyDrive/physionet/HMC/hmc-sleep-staging/recordings/SN040.edf', '/content/drive/MyDrive/physionet/HMC/hmc-sleep-staging/recordings/SN040_sleepscoring.edf', '/content/drive/MyDrive/physionet/HMC/hmc-sleep-staging/recordings/SN040_sleepscoring.txt', '/content/drive/MyDrive/physionet/HMC/hmc-sleep-staging/recordings/SN041.edf', '/content/drive/MyDrive/physionet/HMC/hmc-sleep-staging/recordings/SN041_sleepscoring.edf', '/content/drive/MyDrive/physionet/HMC/hmc-sleep-staging/recordings/SN041_sleepscoring.txt', '/content/drive/MyDrive/physionet/HMC/hmc-sleep-staging/recordings/SN042.edf', '/content/drive/MyDrive/physionet/HMC/hmc-sleep-staging/recordings/SN042_sleepscoring.edf', '/content/drive/MyDrive/physionet/HMC/hmc-sleep-staging/recordings/SN042_sleepscoring.txt', '/content/drive/MyDrive/physionet/HMC/hmc-sleep-staging/recordings/SN043.edf', '/content/drive/MyDrive/physionet/HMC/hmc-sleep-staging/recordings/SN043_sleepscoring.edf', '/content/drive/MyDrive/physionet/HMC/hmc-sleep-staging/recordings/SN043_sleepscoring.txt', '/content/drive/MyDrive/physionet/HMC/hmc-sleep-staging/recordings/SN044.edf', '/content/drive/MyDrive/physionet/HMC/hmc-sleep-staging/recordings/SN044_sleepscoring.edf', '/content/drive/MyDrive/physionet/HMC/hmc-sleep-staging/recordings/SN044_sleepscoring.txt', '/content/drive/MyDrive/physionet/HMC/hmc-sleep-staging/recordings/SN045.edf', '/content/drive/MyDrive/physionet/HMC/hmc-sleep-staging/recordings/SN045_sleepscoring.edf', '/content/drive/MyDrive/physionet/HMC/hmc-sleep-staging/recordings/SN045_sleepscoring.txt', '/content/drive/MyDrive/physionet/HMC/hmc-sleep-staging/recordings/SN046.edf', '/content/drive/MyDrive/physionet/HMC/hmc-sleep-staging/recordings/SN046_sleepscoring.edf', '/content/drive/MyDrive/physionet/HMC/hmc-sleep-staging/recordings/SN046_sleepscoring.txt', '/content/drive/MyDrive/physionet/HMC/hmc-sleep-staging/recordings/SN047.edf', '/content/drive/MyDrive/physionet/HMC/hmc-sleep-staging/recordings/SN047_sleepscoring.edf', '/content/drive/MyDrive/physionet/HMC/hmc-sleep-staging/recordings/SN047_sleepscoring.txt', '/content/drive/MyDrive/physionet/HMC/hmc-sleep-staging/recordings/SN048.edf', '/content/drive/MyDrive/physionet/HMC/hmc-sleep-staging/recordings/SN048_sleepscoring.edf', '/content/drive/MyDrive/physionet/HMC/hmc-sleep-staging/recordings/SN048_sleepscoring.txt', '/content/drive/MyDrive/physionet/HMC/hmc-sleep-staging/recordings/SN049.edf', '/content/drive/MyDrive/physionet/HMC/hmc-sleep-staging/recordings/SN049_sleepscoring.edf', '/content/drive/MyDrive/physionet/HMC/hmc-sleep-staging/recordings/SN049_sleepscoring.txt', '/content/drive/MyDrive/physionet/HMC/hmc-sleep-staging/recordings/SN050.edf', '/content/drive/MyDrive/physionet/HMC/hmc-sleep-staging/recordings/SN050_sleepscoring.edf', '/content/drive/MyDrive/physionet/HMC/hmc-sleep-staging/recordings/SN050_sleepscoring.txt', '/content/drive/MyDrive/physionet/HMC/hmc-sleep-staging/recordings/SN051.edf', '/content/drive/MyDrive/physionet/HMC/hmc-sleep-staging/recordings/SN051_sleepscoring.edf', '/content/drive/MyDrive/physionet/HMC/hmc-sleep-staging/recordings/SN051_sleepscoring.txt', '/content/drive/MyDrive/physionet/HMC/hmc-sleep-staging/recordings/SN052.edf', '/content/drive/MyDrive/physionet/HMC/hmc-sleep-staging/recordings/SN052_sleepscoring.edf', '/content/drive/MyDrive/physionet/HMC/hmc-sleep-staging/recordings/SN052_sleepscoring.txt', '/content/drive/MyDrive/physionet/HMC/hmc-sleep-staging/recordings/SN053.edf', '/content/drive/MyDrive/physionet/HMC/hmc-sleep-staging/recordings/SN053_sleepscoring.edf', '/content/drive/MyDrive/physionet/HMC/hmc-sleep-staging/recordings/SN053_sleepscoring.txt', '/content/drive/MyDrive/physionet/HMC/hmc-sleep-staging/recordings/SN054.edf', '/content/drive/MyDrive/physionet/HMC/hmc-sleep-staging/recordings/SN054_sleepscoring.edf', '/content/drive/MyDrive/physionet/HMC/hmc-sleep-staging/recordings/SN054_sleepscoring.txt', '/content/drive/MyDrive/physionet/HMC/hmc-sleep-staging/recordings/SN055.edf', '/content/drive/MyDrive/physionet/HMC/hmc-sleep-staging/recordings/SN055_sleepscoring.edf', '/content/drive/MyDrive/physionet/HMC/hmc-sleep-staging/recordings/SN055_sleepscoring.txt', '/content/drive/MyDrive/physionet/HMC/hmc-sleep-staging/recordings/SN056.edf', '/content/drive/MyDrive/physionet/HMC/hmc-sleep-staging/recordings/SN056_sleepscoring.edf', '/content/drive/MyDrive/physionet/HMC/hmc-sleep-staging/recordings/SN056_sleepscoring.txt', '/content/drive/MyDrive/physionet/HMC/hmc-sleep-staging/recordings/SN057.edf', '/content/drive/MyDrive/physionet/HMC/hmc-sleep-staging/recordings/SN057_sleepscoring.edf', '/content/drive/MyDrive/physionet/HMC/hmc-sleep-staging/recordings/SN057_sleepscoring.txt', '/content/drive/MyDrive/physionet/HMC/hmc-sleep-staging/recordings/SN058.edf', '/content/drive/MyDrive/physionet/HMC/hmc-sleep-staging/recordings/SN058_sleepscoring.edf', '/content/drive/MyDrive/physionet/HMC/hmc-sleep-staging/recordings/SN058_sleepscoring.txt', '/content/drive/MyDrive/physionet/HMC/hmc-sleep-staging/recordings/SN059.edf', '/content/drive/MyDrive/physionet/HMC/hmc-sleep-staging/recordings/SN059_sleepscoring.edf', '/content/drive/MyDrive/physionet/HMC/hmc-sleep-staging/recordings/SN059_sleepscoring.txt', '/content/drive/MyDrive/physionet/HMC/hmc-sleep-staging/recordings/SN060.edf', '/content/drive/MyDrive/physionet/HMC/hmc-sleep-staging/recordings/SN060_sleepscoring.edf', '/content/drive/MyDrive/physionet/HMC/hmc-sleep-staging/recordings/SN060_sleepscoring.txt', '/content/drive/MyDrive/physionet/HMC/hmc-sleep-staging/recordings/SN061.edf', '/content/drive/MyDrive/physionet/HMC/hmc-sleep-staging/recordings/SN061_sleepscoring.edf', '/content/drive/MyDrive/physionet/HMC/hmc-sleep-staging/recordings/SN061_sleepscoring.txt', '/content/drive/MyDrive/physionet/HMC/hmc-sleep-staging/recordings/SN062.edf', '/content/drive/MyDrive/physionet/HMC/hmc-sleep-staging/recordings/SN062_sleepscoring.edf', '/content/drive/MyDrive/physionet/HMC/hmc-sleep-staging/recordings/SN062_sleepscoring.txt', '/content/drive/MyDrive/physionet/HMC/hmc-sleep-staging/recordings/SN063.edf', '/content/drive/MyDrive/physionet/HMC/hmc-sleep-staging/recordings/SN063_sleepscoring.edf', '/content/drive/MyDrive/physionet/HMC/hmc-sleep-staging/recordings/SN063_sleepscoring.txt', '/content/drive/MyDrive/physionet/HMC/hmc-sleep-staging/recordings/SN065.edf', '/content/drive/MyDrive/physionet/HMC/hmc-sleep-staging/recordings/SN065_sleepscoring.edf', '/content/drive/MyDrive/physionet/HMC/hmc-sleep-staging/recordings/SN065_sleepscoring.txt', '/content/drive/MyDrive/physionet/HMC/hmc-sleep-staging/recordings/SN066.edf', '/content/drive/MyDrive/physionet/HMC/hmc-sleep-staging/recordings/SN066_sleepscoring.edf', '/content/drive/MyDrive/physionet/HMC/hmc-sleep-staging/recordings/SN066_sleepscoring.txt', '/content/drive/MyDrive/physionet/HMC/hmc-sleep-staging/recordings/SN067.edf', '/content/drive/MyDrive/physionet/HMC/hmc-sleep-staging/recordings/SN067_sleepscoring.edf', '/content/drive/MyDrive/physionet/HMC/hmc-sleep-staging/recordings/SN067_sleepscoring.txt', '/content/drive/MyDrive/physionet/HMC/hmc-sleep-staging/recordings/SN068.edf', '/content/drive/MyDrive/physionet/HMC/hmc-sleep-staging/recordings/SN068_sleepscoring.edf', '/content/drive/MyDrive/physionet/HMC/hmc-sleep-staging/recordings/SN068_sleepscoring.txt', '/content/drive/MyDrive/physionet/HMC/hmc-sleep-staging/recordings/SN069.edf', '/content/drive/MyDrive/physionet/HMC/hmc-sleep-staging/recordings/SN069_sleepscoring.edf', '/content/drive/MyDrive/physionet/HMC/hmc-sleep-staging/recordings/SN069_sleepscoring.txt', '/content/drive/MyDrive/physionet/HMC/hmc-sleep-staging/recordings/SN070.edf', '/content/drive/MyDrive/physionet/HMC/hmc-sleep-staging/recordings/SN070_sleepscoring.edf', '/content/drive/MyDrive/physionet/HMC/hmc-sleep-staging/recordings/SN070_sleepscoring.txt', '/content/drive/MyDrive/physionet/HMC/hmc-sleep-staging/recordings/SN071.edf', '/content/drive/MyDrive/physionet/HMC/hmc-sleep-staging/recordings/SN071_sleepscoring.edf', '/content/drive/MyDrive/physionet/HMC/hmc-sleep-staging/recordings/SN071_sleepscoring.txt', '/content/drive/MyDrive/physionet/HMC/hmc-sleep-staging/recordings/SN072.edf', '/content/drive/MyDrive/physionet/HMC/hmc-sleep-staging/recordings/SN072_sleepscoring.edf', '/content/drive/MyDrive/physionet/HMC/hmc-sleep-staging/recordings/SN072_sleepscoring.txt', '/content/drive/MyDrive/physionet/HMC/hmc-sleep-staging/recordings/SN073.edf', '/content/drive/MyDrive/physionet/HMC/hmc-sleep-staging/recordings/SN073_sleepscoring.edf', '/content/drive/MyDrive/physionet/HMC/hmc-sleep-staging/recordings/SN073_sleepscoring.txt', '/content/drive/MyDrive/physionet/HMC/hmc-sleep-staging/recordings/SN074.edf', '/content/drive/MyDrive/physionet/HMC/hmc-sleep-staging/recordings/SN074_sleepscoring.edf', '/content/drive/MyDrive/physionet/HMC/hmc-sleep-staging/recordings/SN074_sleepscoring.txt', '/content/drive/MyDrive/physionet/HMC/hmc-sleep-staging/recordings/SN075.edf', '/content/drive/MyDrive/physionet/HMC/hmc-sleep-staging/recordings/SN075_sleepscoring.edf', '/content/drive/MyDrive/physionet/HMC/hmc-sleep-staging/recordings/SN075_sleepscoring.txt', '/content/drive/MyDrive/physionet/HMC/hmc-sleep-staging/recordings/SN076.edf', '/content/drive/MyDrive/physionet/HMC/hmc-sleep-staging/recordings/SN076_sleepscoring.edf', '/content/drive/MyDrive/physionet/HMC/hmc-sleep-staging/recordings/SN076_sleepscoring.txt', '/content/drive/MyDrive/physionet/HMC/hmc-sleep-staging/recordings/SN077.edf', '/content/drive/MyDrive/physionet/HMC/hmc-sleep-staging/recordings/SN077_sleepscoring.edf', '/content/drive/MyDrive/physionet/HMC/hmc-sleep-staging/recordings/SN077_sleepscoring.txt', '/content/drive/MyDrive/physionet/HMC/hmc-sleep-staging/recordings/SN078.edf', '/content/drive/MyDrive/physionet/HMC/hmc-sleep-staging/recordings/SN078_sleepscoring.edf', '/content/drive/MyDrive/physionet/HMC/hmc-sleep-staging/recordings/SN078_sleepscoring.txt', '/content/drive/MyDrive/physionet/HMC/hmc-sleep-staging/recordings/SN079.edf', '/content/drive/MyDrive/physionet/HMC/hmc-sleep-staging/recordings/SN079_sleepscoring.edf', '/content/drive/MyDrive/physionet/HMC/hmc-sleep-staging/recordings/SN079_sleepscoring.txt', '/content/drive/MyDrive/physionet/HMC/hmc-sleep-staging/recordings/SN080.edf', '/content/drive/MyDrive/physionet/HMC/hmc-sleep-staging/recordings/SN080_sleepscoring.edf', '/content/drive/MyDrive/physionet/HMC/hmc-sleep-staging/recordings/SN080_sleepscoring.txt', '/content/drive/MyDrive/physionet/HMC/hmc-sleep-staging/recordings/SN081.edf', '/content/drive/MyDrive/physionet/HMC/hmc-sleep-staging/recordings/SN081_sleepscoring.edf', '/content/drive/MyDrive/physionet/HMC/hmc-sleep-staging/recordings/SN081_sleepscoring.txt', '/content/drive/MyDrive/physionet/HMC/hmc-sleep-staging/recordings/SN082.edf', '/content/drive/MyDrive/physionet/HMC/hmc-sleep-staging/recordings/SN082_sleepscoring.edf', '/content/drive/MyDrive/physionet/HMC/hmc-sleep-staging/recordings/SN082_sleepscoring.txt', '/content/drive/MyDrive/physionet/HMC/hmc-sleep-staging/recordings/SN083.edf', '/content/drive/MyDrive/physionet/HMC/hmc-sleep-staging/recordings/SN083_sleepscoring.edf', '/content/drive/MyDrive/physionet/HMC/hmc-sleep-staging/recordings/SN083_sleepscoring.txt', '/content/drive/MyDrive/physionet/HMC/hmc-sleep-staging/recordings/SN084.edf', '/content/drive/MyDrive/physionet/HMC/hmc-sleep-staging/recordings/SN084_sleepscoring.edf', '/content/drive/MyDrive/physionet/HMC/hmc-sleep-staging/recordings/SN084_sleepscoring.txt', '/content/drive/MyDrive/physionet/HMC/hmc-sleep-staging/recordings/SN085.edf', '/content/drive/MyDrive/physionet/HMC/hmc-sleep-staging/recordings/SN085_sleepscoring.edf', '/content/drive/MyDrive/physionet/HMC/hmc-sleep-staging/recordings/SN085_sleepscoring.txt', '/content/drive/MyDrive/physionet/HMC/hmc-sleep-staging/recordings/SN086.edf', '/content/drive/MyDrive/physionet/HMC/hmc-sleep-staging/recordings/SN086_sleepscoring.edf', '/content/drive/MyDrive/physionet/HMC/hmc-sleep-staging/recordings/SN086_sleepscoring.txt', '/content/drive/MyDrive/physionet/HMC/hmc-sleep-staging/recordings/SN087.edf', '/content/drive/MyDrive/physionet/HMC/hmc-sleep-staging/recordings/SN087_sleepscoring.edf', '/content/drive/MyDrive/physionet/HMC/hmc-sleep-staging/recordings/SN087_sleepscoring.txt', '/content/drive/MyDrive/physionet/HMC/hmc-sleep-staging/recordings/SN088.edf', '/content/drive/MyDrive/physionet/HMC/hmc-sleep-staging/recordings/SN088_sleepscoring.edf', '/content/drive/MyDrive/physionet/HMC/hmc-sleep-staging/recordings/SN088_sleepscoring.txt', '/content/drive/MyDrive/physionet/HMC/hmc-sleep-staging/recordings/SN089.edf', '/content/drive/MyDrive/physionet/HMC/hmc-sleep-staging/recordings/SN089_sleepscoring.edf', '/content/drive/MyDrive/physionet/HMC/hmc-sleep-staging/recordings/SN089_sleepscoring.txt', '/content/drive/MyDrive/physionet/HMC/hmc-sleep-staging/recordings/SN090.edf', '/content/drive/MyDrive/physionet/HMC/hmc-sleep-staging/recordings/SN090_sleepscoring.edf', '/content/drive/MyDrive/physionet/HMC/hmc-sleep-staging/recordings/SN090_sleepscoring.txt', '/content/drive/MyDrive/physionet/HMC/hmc-sleep-staging/recordings/SN091.edf', '/content/drive/MyDrive/physionet/HMC/hmc-sleep-staging/recordings/SN091_sleepscoring.edf', '/content/drive/MyDrive/physionet/HMC/hmc-sleep-staging/recordings/SN091_sleepscoring.txt', '/content/drive/MyDrive/physionet/HMC/hmc-sleep-staging/recordings/SN092.edf', '/content/drive/MyDrive/physionet/HMC/hmc-sleep-staging/recordings/SN092_sleepscoring.edf', '/content/drive/MyDrive/physionet/HMC/hmc-sleep-staging/recordings/SN092_sleepscoring.txt', '/content/drive/MyDrive/physionet/HMC/hmc-sleep-staging/recordings/SN093.edf', '/content/drive/MyDrive/physionet/HMC/hmc-sleep-staging/recordings/SN093_sleepscoring.edf', '/content/drive/MyDrive/physionet/HMC/hmc-sleep-staging/recordings/SN093_sleepscoring.txt', '/content/drive/MyDrive/physionet/HMC/hmc-sleep-staging/recordings/SN094.edf', '/content/drive/MyDrive/physionet/HMC/hmc-sleep-staging/recordings/SN094_sleepscoring.edf', '/content/drive/MyDrive/physionet/HMC/hmc-sleep-staging/recordings/SN094_sleepscoring.txt', '/content/drive/MyDrive/physionet/HMC/hmc-sleep-staging/recordings/SN095.edf', '/content/drive/MyDrive/physionet/HMC/hmc-sleep-staging/recordings/SN095_sleepscoring.edf', '/content/drive/MyDrive/physionet/HMC/hmc-sleep-staging/recordings/SN095_sleepscoring.txt', '/content/drive/MyDrive/physionet/HMC/hmc-sleep-staging/recordings/SN096.edf', '/content/drive/MyDrive/physionet/HMC/hmc-sleep-staging/recordings/SN096_sleepscoring.edf', '/content/drive/MyDrive/physionet/HMC/hmc-sleep-staging/recordings/SN096_sleepscoring.txt', '/content/drive/MyDrive/physionet/HMC/hmc-sleep-staging/recordings/SN097.edf', '/content/drive/MyDrive/physionet/HMC/hmc-sleep-staging/recordings/SN097_sleepscoring.edf', '/content/drive/MyDrive/physionet/HMC/hmc-sleep-staging/recordings/SN097_sleepscoring.txt', '/content/drive/MyDrive/physionet/HMC/hmc-sleep-staging/recordings/SN098.edf', '/content/drive/MyDrive/physionet/HMC/hmc-sleep-staging/recordings/SN098_sleepscoring.edf', '/content/drive/MyDrive/physionet/HMC/hmc-sleep-staging/recordings/SN098_sleepscoring.txt', '/content/drive/MyDrive/physionet/HMC/hmc-sleep-staging/recordings/SN099.edf', '/content/drive/MyDrive/physionet/HMC/hmc-sleep-staging/recordings/SN099_sleepscoring.edf', '/content/drive/MyDrive/physionet/HMC/hmc-sleep-staging/recordings/SN099_sleepscoring.txt', '/content/drive/MyDrive/physionet/HMC/hmc-sleep-staging/recordings/SN100.edf', '/content/drive/MyDrive/physionet/HMC/hmc-sleep-staging/recordings/SN100_sleepscoring.edf', '/content/drive/MyDrive/physionet/HMC/hmc-sleep-staging/recordings/SN100_sleepscoring.txt', '/content/drive/MyDrive/physionet/HMC/hmc-sleep-staging/recordings/SN101.edf', '/content/drive/MyDrive/physionet/HMC/hmc-sleep-staging/recordings/SN101_sleepscoring.edf', '/content/drive/MyDrive/physionet/HMC/hmc-sleep-staging/recordings/SN101_sleepscoring.txt', '/content/drive/MyDrive/physionet/HMC/hmc-sleep-staging/recordings/SN102.edf', '/content/drive/MyDrive/physionet/HMC/hmc-sleep-staging/recordings/SN102_sleepscoring.edf', '/content/drive/MyDrive/physionet/HMC/hmc-sleep-staging/recordings/SN102_sleepscoring.txt', '/content/drive/MyDrive/physionet/HMC/hmc-sleep-staging/recordings/SN103.edf', '/content/drive/MyDrive/physionet/HMC/hmc-sleep-staging/recordings/SN103_sleepscoring.edf', '/content/drive/MyDrive/physionet/HMC/hmc-sleep-staging/recordings/SN103_sleepscoring.txt', '/content/drive/MyDrive/physionet/HMC/hmc-sleep-staging/recordings/SN104.edf', '/content/drive/MyDrive/physionet/HMC/hmc-sleep-staging/recordings/SN104_sleepscoring.edf', '/content/drive/MyDrive/physionet/HMC/hmc-sleep-staging/recordings/SN104_sleepscoring.txt', '/content/drive/MyDrive/physionet/HMC/hmc-sleep-staging/recordings/SN105.edf', '/content/drive/MyDrive/physionet/HMC/hmc-sleep-staging/recordings/SN105_sleepscoring.edf', '/content/drive/MyDrive/physionet/HMC/hmc-sleep-staging/recordings/SN105_sleepscoring.txt', '/content/drive/MyDrive/physionet/HMC/hmc-sleep-staging/recordings/SN106.edf', '/content/drive/MyDrive/physionet/HMC/hmc-sleep-staging/recordings/SN106_sleepscoring.edf', '/content/drive/MyDrive/physionet/HMC/hmc-sleep-staging/recordings/SN106_sleepscoring.txt', '/content/drive/MyDrive/physionet/HMC/hmc-sleep-staging/recordings/SN107.edf', '/content/drive/MyDrive/physionet/HMC/hmc-sleep-staging/recordings/SN107_sleepscoring.edf', '/content/drive/MyDrive/physionet/HMC/hmc-sleep-staging/recordings/SN107_sleepscoring.txt', '/content/drive/MyDrive/physionet/HMC/hmc-sleep-staging/recordings/SN108.edf', '/content/drive/MyDrive/physionet/HMC/hmc-sleep-staging/recordings/SN108_sleepscoring.edf', '/content/drive/MyDrive/physionet/HMC/hmc-sleep-staging/recordings/SN108_sleepscoring.txt', '/content/drive/MyDrive/physionet/HMC/hmc-sleep-staging/recordings/SN109.edf', '/content/drive/MyDrive/physionet/HMC/hmc-sleep-staging/recordings/SN109_sleepscoring.edf', '/content/drive/MyDrive/physionet/HMC/hmc-sleep-staging/recordings/SN109_sleepscoring.txt', '/content/drive/MyDrive/physionet/HMC/hmc-sleep-staging/recordings/SN110.edf', '/content/drive/MyDrive/physionet/HMC/hmc-sleep-staging/recordings/SN110_sleepscoring.edf', '/content/drive/MyDrive/physionet/HMC/hmc-sleep-staging/recordings/SN110_sleepscoring.txt', '/content/drive/MyDrive/physionet/HMC/hmc-sleep-staging/recordings/SN111.edf', '/content/drive/MyDrive/physionet/HMC/hmc-sleep-staging/recordings/SN111_sleepscoring.edf', '/content/drive/MyDrive/physionet/HMC/hmc-sleep-staging/recordings/SN111_sleepscoring.txt', '/content/drive/MyDrive/physionet/HMC/hmc-sleep-staging/recordings/SN112.edf', '/content/drive/MyDrive/physionet/HMC/hmc-sleep-staging/recordings/SN112_sleepscoring.edf', '/content/drive/MyDrive/physionet/HMC/hmc-sleep-staging/recordings/SN112_sleepscoring.txt', '/content/drive/MyDrive/physionet/HMC/hmc-sleep-staging/recordings/SN113.edf', '/content/drive/MyDrive/physionet/HMC/hmc-sleep-staging/recordings/SN113_sleepscoring.edf', '/content/drive/MyDrive/physionet/HMC/hmc-sleep-staging/recordings/SN113_sleepscoring.txt', '/content/drive/MyDrive/physionet/HMC/hmc-sleep-staging/recordings/SN114.edf', '/content/drive/MyDrive/physionet/HMC/hmc-sleep-staging/recordings/SN114_sleepscoring.edf', '/content/drive/MyDrive/physionet/HMC/hmc-sleep-staging/recordings/SN114_sleepscoring.txt', '/content/drive/MyDrive/physionet/HMC/hmc-sleep-staging/recordings/SN115.edf', '/content/drive/MyDrive/physionet/HMC/hmc-sleep-staging/recordings/SN115_sleepscoring.edf', '/content/drive/MyDrive/physionet/HMC/hmc-sleep-staging/recordings/SN115_sleepscoring.txt', '/content/drive/MyDrive/physionet/HMC/hmc-sleep-staging/recordings/SN116.edf', '/content/drive/MyDrive/physionet/HMC/hmc-sleep-staging/recordings/SN116_sleepscoring.edf', '/content/drive/MyDrive/physionet/HMC/hmc-sleep-staging/recordings/SN116_sleepscoring.txt', '/content/drive/MyDrive/physionet/HMC/hmc-sleep-staging/recordings/SN117.edf', '/content/drive/MyDrive/physionet/HMC/hmc-sleep-staging/recordings/SN117_sleepscoring.edf', '/content/drive/MyDrive/physionet/HMC/hmc-sleep-staging/recordings/SN117_sleepscoring.txt', '/content/drive/MyDrive/physionet/HMC/hmc-sleep-staging/recordings/SN118.edf', '/content/drive/MyDrive/physionet/HMC/hmc-sleep-staging/recordings/SN118_sleepscoring.edf', '/content/drive/MyDrive/physionet/HMC/hmc-sleep-staging/recordings/SN118_sleepscoring.txt', '/content/drive/MyDrive/physionet/HMC/hmc-sleep-staging/recordings/SN119.edf', '/content/drive/MyDrive/physionet/HMC/hmc-sleep-staging/recordings/SN119_sleepscoring.edf', '/content/drive/MyDrive/physionet/HMC/hmc-sleep-staging/recordings/SN119_sleepscoring.txt', '/content/drive/MyDrive/physionet/HMC/hmc-sleep-staging/recordings/SN120.edf', '/content/drive/MyDrive/physionet/HMC/hmc-sleep-staging/recordings/SN120_sleepscoring.edf', '/content/drive/MyDrive/physionet/HMC/hmc-sleep-staging/recordings/SN120_sleepscoring.txt', '/content/drive/MyDrive/physionet/HMC/hmc-sleep-staging/recordings/SN121.edf', '/content/drive/MyDrive/physionet/HMC/hmc-sleep-staging/recordings/SN121_sleepscoring.edf', '/content/drive/MyDrive/physionet/HMC/hmc-sleep-staging/recordings/SN121_sleepscoring.txt', '/content/drive/MyDrive/physionet/HMC/hmc-sleep-staging/recordings/SN122.edf', '/content/drive/MyDrive/physionet/HMC/hmc-sleep-staging/recordings/SN122_sleepscoring.edf', '/content/drive/MyDrive/physionet/HMC/hmc-sleep-staging/recordings/SN122_sleepscoring.txt', '/content/drive/MyDrive/physionet/HMC/hmc-sleep-staging/recordings/SN123.edf', '/content/drive/MyDrive/physionet/HMC/hmc-sleep-staging/recordings/SN123_sleepscoring.edf', '/content/drive/MyDrive/physionet/HMC/hmc-sleep-staging/recordings/SN123_sleepscoring.txt', '/content/drive/MyDrive/physionet/HMC/hmc-sleep-staging/recordings/SN124.edf', '/content/drive/MyDrive/physionet/HMC/hmc-sleep-staging/recordings/SN124_sleepscoring.edf', '/content/drive/MyDrive/physionet/HMC/hmc-sleep-staging/recordings/SN124_sleepscoring.txt', '/content/drive/MyDrive/physionet/HMC/hmc-sleep-staging/recordings/SN125.edf', '/content/drive/MyDrive/physionet/HMC/hmc-sleep-staging/recordings/SN125_sleepscoring.edf', '/content/drive/MyDrive/physionet/HMC/hmc-sleep-staging/recordings/SN125_sleepscoring.txt', '/content/drive/MyDrive/physionet/HMC/hmc-sleep-staging/recordings/SN126.edf', '/content/drive/MyDrive/physionet/HMC/hmc-sleep-staging/recordings/SN126_sleepscoring.edf', '/content/drive/MyDrive/physionet/HMC/hmc-sleep-staging/recordings/SN126_sleepscoring.txt', '/content/drive/MyDrive/physionet/HMC/hmc-sleep-staging/recordings/SN127.edf', '/content/drive/MyDrive/physionet/HMC/hmc-sleep-staging/recordings/SN127_sleepscoring.edf', '/content/drive/MyDrive/physionet/HMC/hmc-sleep-staging/recordings/SN127_sleepscoring.txt', '/content/drive/MyDrive/physionet/HMC/hmc-sleep-staging/recordings/SN128.edf', '/content/drive/MyDrive/physionet/HMC/hmc-sleep-staging/recordings/SN128_sleepscoring.edf', '/content/drive/MyDrive/physionet/HMC/hmc-sleep-staging/recordings/SN128_sleepscoring.txt', '/content/drive/MyDrive/physionet/HMC/hmc-sleep-staging/recordings/SN129.edf', '/content/drive/MyDrive/physionet/HMC/hmc-sleep-staging/recordings/SN129_sleepscoring.edf', '/content/drive/MyDrive/physionet/HMC/hmc-sleep-staging/recordings/SN129_sleepscoring.txt', '/content/drive/MyDrive/physionet/HMC/hmc-sleep-staging/recordings/SN130.edf', '/content/drive/MyDrive/physionet/HMC/hmc-sleep-staging/recordings/SN130_sleepscoring.edf', '/content/drive/MyDrive/physionet/HMC/hmc-sleep-staging/recordings/SN130_sleepscoring.txt', '/content/drive/MyDrive/physionet/HMC/hmc-sleep-staging/recordings/SN131.edf', '/content/drive/MyDrive/physionet/HMC/hmc-sleep-staging/recordings/SN131_sleepscoring.edf', '/content/drive/MyDrive/physionet/HMC/hmc-sleep-staging/recordings/SN131_sleepscoring.txt', '/content/drive/MyDrive/physionet/HMC/hmc-sleep-staging/recordings/SN132.edf', '/content/drive/MyDrive/physionet/HMC/hmc-sleep-staging/recordings/SN132_sleepscoring.edf', '/content/drive/MyDrive/physionet/HMC/hmc-sleep-staging/recordings/SN132_sleepscoring.txt', '/content/drive/MyDrive/physionet/HMC/hmc-sleep-staging/recordings/SN133.edf', '/content/drive/MyDrive/physionet/HMC/hmc-sleep-staging/recordings/SN133_sleepscoring.edf', '/content/drive/MyDrive/physionet/HMC/hmc-sleep-staging/recordings/SN133_sleepscoring.txt', '/content/drive/MyDrive/physionet/HMC/hmc-sleep-staging/recordings/SN134.edf', '/content/drive/MyDrive/physionet/HMC/hmc-sleep-staging/recordings/SN134_sleepscoring.edf', '/content/drive/MyDrive/physionet/HMC/hmc-sleep-staging/recordings/SN134_sleepscoring.txt', '/content/drive/MyDrive/physionet/HMC/hmc-sleep-staging/recordings/SN136.edf', '/content/drive/MyDrive/physionet/HMC/hmc-sleep-staging/recordings/SN136_sleepscoring.edf', '/content/drive/MyDrive/physionet/HMC/hmc-sleep-staging/recordings/SN136_sleepscoring.txt', '/content/drive/MyDrive/physionet/HMC/hmc-sleep-staging/recordings/SN137.edf', '/content/drive/MyDrive/physionet/HMC/hmc-sleep-staging/recordings/SN137_sleepscoring.edf', '/content/drive/MyDrive/physionet/HMC/hmc-sleep-staging/recordings/SN137_sleepscoring.txt', '/content/drive/MyDrive/physionet/HMC/hmc-sleep-staging/recordings/SN138.edf', '/content/drive/MyDrive/physionet/HMC/hmc-sleep-staging/recordings/SN138_sleepscoring.edf', '/content/drive/MyDrive/physionet/HMC/hmc-sleep-staging/recordings/SN138_sleepscoring.txt', '/content/drive/MyDrive/physionet/HMC/hmc-sleep-staging/recordings/SN139.edf', '/content/drive/MyDrive/physionet/HMC/hmc-sleep-staging/recordings/SN139_sleepscoring.edf', '/content/drive/MyDrive/physionet/HMC/hmc-sleep-staging/recordings/SN139_sleepscoring.txt', '/content/drive/MyDrive/physionet/HMC/hmc-sleep-staging/recordings/SN140.edf', '/content/drive/MyDrive/physionet/HMC/hmc-sleep-staging/recordings/SN140_sleepscoring.edf', '/content/drive/MyDrive/physionet/HMC/hmc-sleep-staging/recordings/SN140_sleepscoring.txt', '/content/drive/MyDrive/physionet/HMC/hmc-sleep-staging/recordings/SN141.edf', '/content/drive/MyDrive/physionet/HMC/hmc-sleep-staging/recordings/SN141_sleepscoring.edf', '/content/drive/MyDrive/physionet/HMC/hmc-sleep-staging/recordings/SN141_sleepscoring.txt', '/content/drive/MyDrive/physionet/HMC/hmc-sleep-staging/recordings/SN142.edf', '/content/drive/MyDrive/physionet/HMC/hmc-sleep-staging/recordings/SN142_sleepscoring.edf', '/content/drive/MyDrive/physionet/HMC/hmc-sleep-staging/recordings/SN142_sleepscoring.txt', '/content/drive/MyDrive/physionet/HMC/hmc-sleep-staging/recordings/SN143.edf', '/content/drive/MyDrive/physionet/HMC/hmc-sleep-staging/recordings/SN143_sleepscoring.edf', '/content/drive/MyDrive/physionet/HMC/hmc-sleep-staging/recordings/SN143_sleepscoring.txt', '/content/drive/MyDrive/physionet/HMC/hmc-sleep-staging/recordings/SN144.edf', '/content/drive/MyDrive/physionet/HMC/hmc-sleep-staging/recordings/SN144_sleepscoring.edf', '/content/drive/MyDrive/physionet/HMC/hmc-sleep-staging/recordings/SN144_sleepscoring.txt', '/content/drive/MyDrive/physionet/HMC/hmc-sleep-staging/recordings/SN145.edf', '/content/drive/MyDrive/physionet/HMC/hmc-sleep-staging/recordings/SN145_sleepscoring.edf', '/content/drive/MyDrive/physionet/HMC/hmc-sleep-staging/recordings/SN145_sleepscoring.txt', '/content/drive/MyDrive/physionet/HMC/hmc-sleep-staging/recordings/SN146.edf', '/content/drive/MyDrive/physionet/HMC/hmc-sleep-staging/recordings/SN146_sleepscoring.edf', '/content/drive/MyDrive/physionet/HMC/hmc-sleep-staging/recordings/SN146_sleepscoring.txt', '/content/drive/MyDrive/physionet/HMC/hmc-sleep-staging/recordings/SN147.edf', '/content/drive/MyDrive/physionet/HMC/hmc-sleep-staging/recordings/SN147_sleepscoring.edf', '/content/drive/MyDrive/physionet/HMC/hmc-sleep-staging/recordings/SN147_sleepscoring.txt', '/content/drive/MyDrive/physionet/HMC/hmc-sleep-staging/recordings/SN148.edf', '/content/drive/MyDrive/physionet/HMC/hmc-sleep-staging/recordings/SN148_sleepscoring.edf', '/content/drive/MyDrive/physionet/HMC/hmc-sleep-staging/recordings/SN148_sleepscoring.txt', '/content/drive/MyDrive/physionet/HMC/hmc-sleep-staging/recordings/SN149.edf', '/content/drive/MyDrive/physionet/HMC/hmc-sleep-staging/recordings/SN149_sleepscoring.edf', '/content/drive/MyDrive/physionet/HMC/hmc-sleep-staging/recordings/SN149_sleepscoring.txt', '/content/drive/MyDrive/physionet/HMC/hmc-sleep-staging/recordings/SN150.edf', '/content/drive/MyDrive/physionet/HMC/hmc-sleep-staging/recordings/SN150_sleepscoring.edf', '/content/drive/MyDrive/physionet/HMC/hmc-sleep-staging/recordings/SN150_sleepscoring.txt', '/content/drive/MyDrive/physionet/HMC/hmc-sleep-staging/recordings/SN151.edf', '/content/drive/MyDrive/physionet/HMC/hmc-sleep-staging/recordings/SN151_sleepscoring.edf', '/content/drive/MyDrive/physionet/HMC/hmc-sleep-staging/recordings/SN151_sleepscoring.txt', '/content/drive/MyDrive/physionet/HMC/hmc-sleep-staging/recordings/SN152.edf', '/content/drive/MyDrive/physionet/HMC/hmc-sleep-staging/recordings/SN152_sleepscoring.edf', '/content/drive/MyDrive/physionet/HMC/hmc-sleep-staging/recordings/SN152_sleepscoring.txt', '/content/drive/MyDrive/physionet/HMC/hmc-sleep-staging/recordings/SN153.edf', '/content/drive/MyDrive/physionet/HMC/hmc-sleep-staging/recordings/SN153_sleepscoring.edf', '/content/drive/MyDrive/physionet/HMC/hmc-sleep-staging/recordings/SN153_sleepscoring.txt', '/content/drive/MyDrive/physionet/HMC/hmc-sleep-staging/recordings/SN154.edf', '/content/drive/MyDrive/physionet/HMC/hmc-sleep-staging/recordings/SN154_sleepscoring.edf', '/content/drive/MyDrive/physionet/HMC/hmc-sleep-staging/recordings/SN154_sleepscoring.txt']\n",
            "\n",
            "\n",
            "signal_data 경로 : ['/content/drive/MyDrive/physionet/HMC/hmc-sleep-staging/recordings/SN001.edf', '/content/drive/MyDrive/physionet/HMC/hmc-sleep-staging/recordings/SN002.edf', '/content/drive/MyDrive/physionet/HMC/hmc-sleep-staging/recordings/SN003.edf', '/content/drive/MyDrive/physionet/HMC/hmc-sleep-staging/recordings/SN004.edf', '/content/drive/MyDrive/physionet/HMC/hmc-sleep-staging/recordings/SN005.edf', '/content/drive/MyDrive/physionet/HMC/hmc-sleep-staging/recordings/SN006.edf', '/content/drive/MyDrive/physionet/HMC/hmc-sleep-staging/recordings/SN007.edf', '/content/drive/MyDrive/physionet/HMC/hmc-sleep-staging/recordings/SN008.edf', '/content/drive/MyDrive/physionet/HMC/hmc-sleep-staging/recordings/SN009.edf', '/content/drive/MyDrive/physionet/HMC/hmc-sleep-staging/recordings/SN010.edf', '/content/drive/MyDrive/physionet/HMC/hmc-sleep-staging/recordings/SN011.edf', '/content/drive/MyDrive/physionet/HMC/hmc-sleep-staging/recordings/SN012.edf', '/content/drive/MyDrive/physionet/HMC/hmc-sleep-staging/recordings/SN013.edf', '/content/drive/MyDrive/physionet/HMC/hmc-sleep-staging/recordings/SN015.edf', '/content/drive/MyDrive/physionet/HMC/hmc-sleep-staging/recordings/SN016.edf', '/content/drive/MyDrive/physionet/HMC/hmc-sleep-staging/recordings/SN017.edf', '/content/drive/MyDrive/physionet/HMC/hmc-sleep-staging/recordings/SN018.edf', '/content/drive/MyDrive/physionet/HMC/hmc-sleep-staging/recordings/SN019.edf', '/content/drive/MyDrive/physionet/HMC/hmc-sleep-staging/recordings/SN020.edf', '/content/drive/MyDrive/physionet/HMC/hmc-sleep-staging/recordings/SN021.edf', '/content/drive/MyDrive/physionet/HMC/hmc-sleep-staging/recordings/SN022.edf', '/content/drive/MyDrive/physionet/HMC/hmc-sleep-staging/recordings/SN023.edf', '/content/drive/MyDrive/physionet/HMC/hmc-sleep-staging/recordings/SN024.edf', '/content/drive/MyDrive/physionet/HMC/hmc-sleep-staging/recordings/SN025.edf', '/content/drive/MyDrive/physionet/HMC/hmc-sleep-staging/recordings/SN026.edf', '/content/drive/MyDrive/physionet/HMC/hmc-sleep-staging/recordings/SN027.edf', '/content/drive/MyDrive/physionet/HMC/hmc-sleep-staging/recordings/SN028.edf', '/content/drive/MyDrive/physionet/HMC/hmc-sleep-staging/recordings/SN029.edf', '/content/drive/MyDrive/physionet/HMC/hmc-sleep-staging/recordings/SN030.edf', '/content/drive/MyDrive/physionet/HMC/hmc-sleep-staging/recordings/SN031.edf', '/content/drive/MyDrive/physionet/HMC/hmc-sleep-staging/recordings/SN032.edf', '/content/drive/MyDrive/physionet/HMC/hmc-sleep-staging/recordings/SN033.edf', '/content/drive/MyDrive/physionet/HMC/hmc-sleep-staging/recordings/SN034.edf', '/content/drive/MyDrive/physionet/HMC/hmc-sleep-staging/recordings/SN035.edf', '/content/drive/MyDrive/physionet/HMC/hmc-sleep-staging/recordings/SN036.edf', '/content/drive/MyDrive/physionet/HMC/hmc-sleep-staging/recordings/SN037.edf', '/content/drive/MyDrive/physionet/HMC/hmc-sleep-staging/recordings/SN038.edf', '/content/drive/MyDrive/physionet/HMC/hmc-sleep-staging/recordings/SN039.edf', '/content/drive/MyDrive/physionet/HMC/hmc-sleep-staging/recordings/SN040.edf', '/content/drive/MyDrive/physionet/HMC/hmc-sleep-staging/recordings/SN041.edf', '/content/drive/MyDrive/physionet/HMC/hmc-sleep-staging/recordings/SN042.edf', '/content/drive/MyDrive/physionet/HMC/hmc-sleep-staging/recordings/SN043.edf', '/content/drive/MyDrive/physionet/HMC/hmc-sleep-staging/recordings/SN044.edf', '/content/drive/MyDrive/physionet/HMC/hmc-sleep-staging/recordings/SN045.edf', '/content/drive/MyDrive/physionet/HMC/hmc-sleep-staging/recordings/SN046.edf', '/content/drive/MyDrive/physionet/HMC/hmc-sleep-staging/recordings/SN047.edf', '/content/drive/MyDrive/physionet/HMC/hmc-sleep-staging/recordings/SN048.edf', '/content/drive/MyDrive/physionet/HMC/hmc-sleep-staging/recordings/SN049.edf', '/content/drive/MyDrive/physionet/HMC/hmc-sleep-staging/recordings/SN050.edf', '/content/drive/MyDrive/physionet/HMC/hmc-sleep-staging/recordings/SN051.edf', '/content/drive/MyDrive/physionet/HMC/hmc-sleep-staging/recordings/SN052.edf', '/content/drive/MyDrive/physionet/HMC/hmc-sleep-staging/recordings/SN053.edf', '/content/drive/MyDrive/physionet/HMC/hmc-sleep-staging/recordings/SN054.edf', '/content/drive/MyDrive/physionet/HMC/hmc-sleep-staging/recordings/SN055.edf', '/content/drive/MyDrive/physionet/HMC/hmc-sleep-staging/recordings/SN056.edf', '/content/drive/MyDrive/physionet/HMC/hmc-sleep-staging/recordings/SN057.edf', '/content/drive/MyDrive/physionet/HMC/hmc-sleep-staging/recordings/SN058.edf', '/content/drive/MyDrive/physionet/HMC/hmc-sleep-staging/recordings/SN059.edf', '/content/drive/MyDrive/physionet/HMC/hmc-sleep-staging/recordings/SN060.edf', '/content/drive/MyDrive/physionet/HMC/hmc-sleep-staging/recordings/SN061.edf', '/content/drive/MyDrive/physionet/HMC/hmc-sleep-staging/recordings/SN062.edf', '/content/drive/MyDrive/physionet/HMC/hmc-sleep-staging/recordings/SN063.edf', '/content/drive/MyDrive/physionet/HMC/hmc-sleep-staging/recordings/SN065.edf', '/content/drive/MyDrive/physionet/HMC/hmc-sleep-staging/recordings/SN066.edf', '/content/drive/MyDrive/physionet/HMC/hmc-sleep-staging/recordings/SN067.edf', '/content/drive/MyDrive/physionet/HMC/hmc-sleep-staging/recordings/SN068.edf', '/content/drive/MyDrive/physionet/HMC/hmc-sleep-staging/recordings/SN069.edf', '/content/drive/MyDrive/physionet/HMC/hmc-sleep-staging/recordings/SN070.edf', '/content/drive/MyDrive/physionet/HMC/hmc-sleep-staging/recordings/SN071.edf', '/content/drive/MyDrive/physionet/HMC/hmc-sleep-staging/recordings/SN072.edf', '/content/drive/MyDrive/physionet/HMC/hmc-sleep-staging/recordings/SN073.edf', '/content/drive/MyDrive/physionet/HMC/hmc-sleep-staging/recordings/SN074.edf', '/content/drive/MyDrive/physionet/HMC/hmc-sleep-staging/recordings/SN075.edf', '/content/drive/MyDrive/physionet/HMC/hmc-sleep-staging/recordings/SN076.edf', '/content/drive/MyDrive/physionet/HMC/hmc-sleep-staging/recordings/SN077.edf', '/content/drive/MyDrive/physionet/HMC/hmc-sleep-staging/recordings/SN078.edf', '/content/drive/MyDrive/physionet/HMC/hmc-sleep-staging/recordings/SN079.edf', '/content/drive/MyDrive/physionet/HMC/hmc-sleep-staging/recordings/SN080.edf', '/content/drive/MyDrive/physionet/HMC/hmc-sleep-staging/recordings/SN081.edf', '/content/drive/MyDrive/physionet/HMC/hmc-sleep-staging/recordings/SN082.edf', '/content/drive/MyDrive/physionet/HMC/hmc-sleep-staging/recordings/SN083.edf', '/content/drive/MyDrive/physionet/HMC/hmc-sleep-staging/recordings/SN084.edf', '/content/drive/MyDrive/physionet/HMC/hmc-sleep-staging/recordings/SN085.edf', '/content/drive/MyDrive/physionet/HMC/hmc-sleep-staging/recordings/SN086.edf', '/content/drive/MyDrive/physionet/HMC/hmc-sleep-staging/recordings/SN087.edf', '/content/drive/MyDrive/physionet/HMC/hmc-sleep-staging/recordings/SN088.edf', '/content/drive/MyDrive/physionet/HMC/hmc-sleep-staging/recordings/SN089.edf', '/content/drive/MyDrive/physionet/HMC/hmc-sleep-staging/recordings/SN090.edf', '/content/drive/MyDrive/physionet/HMC/hmc-sleep-staging/recordings/SN091.edf', '/content/drive/MyDrive/physionet/HMC/hmc-sleep-staging/recordings/SN092.edf', '/content/drive/MyDrive/physionet/HMC/hmc-sleep-staging/recordings/SN093.edf', '/content/drive/MyDrive/physionet/HMC/hmc-sleep-staging/recordings/SN094.edf', '/content/drive/MyDrive/physionet/HMC/hmc-sleep-staging/recordings/SN095.edf', '/content/drive/MyDrive/physionet/HMC/hmc-sleep-staging/recordings/SN096.edf', '/content/drive/MyDrive/physionet/HMC/hmc-sleep-staging/recordings/SN097.edf', '/content/drive/MyDrive/physionet/HMC/hmc-sleep-staging/recordings/SN098.edf', '/content/drive/MyDrive/physionet/HMC/hmc-sleep-staging/recordings/SN099.edf', '/content/drive/MyDrive/physionet/HMC/hmc-sleep-staging/recordings/SN100.edf', '/content/drive/MyDrive/physionet/HMC/hmc-sleep-staging/recordings/SN101.edf', '/content/drive/MyDrive/physionet/HMC/hmc-sleep-staging/recordings/SN102.edf', '/content/drive/MyDrive/physionet/HMC/hmc-sleep-staging/recordings/SN103.edf', '/content/drive/MyDrive/physionet/HMC/hmc-sleep-staging/recordings/SN104.edf', '/content/drive/MyDrive/physionet/HMC/hmc-sleep-staging/recordings/SN105.edf', '/content/drive/MyDrive/physionet/HMC/hmc-sleep-staging/recordings/SN106.edf', '/content/drive/MyDrive/physionet/HMC/hmc-sleep-staging/recordings/SN107.edf', '/content/drive/MyDrive/physionet/HMC/hmc-sleep-staging/recordings/SN108.edf', '/content/drive/MyDrive/physionet/HMC/hmc-sleep-staging/recordings/SN109.edf', '/content/drive/MyDrive/physionet/HMC/hmc-sleep-staging/recordings/SN110.edf', '/content/drive/MyDrive/physionet/HMC/hmc-sleep-staging/recordings/SN111.edf', '/content/drive/MyDrive/physionet/HMC/hmc-sleep-staging/recordings/SN112.edf', '/content/drive/MyDrive/physionet/HMC/hmc-sleep-staging/recordings/SN113.edf', '/content/drive/MyDrive/physionet/HMC/hmc-sleep-staging/recordings/SN114.edf', '/content/drive/MyDrive/physionet/HMC/hmc-sleep-staging/recordings/SN115.edf', '/content/drive/MyDrive/physionet/HMC/hmc-sleep-staging/recordings/SN116.edf', '/content/drive/MyDrive/physionet/HMC/hmc-sleep-staging/recordings/SN117.edf', '/content/drive/MyDrive/physionet/HMC/hmc-sleep-staging/recordings/SN118.edf', '/content/drive/MyDrive/physionet/HMC/hmc-sleep-staging/recordings/SN119.edf', '/content/drive/MyDrive/physionet/HMC/hmc-sleep-staging/recordings/SN120.edf', '/content/drive/MyDrive/physionet/HMC/hmc-sleep-staging/recordings/SN121.edf', '/content/drive/MyDrive/physionet/HMC/hmc-sleep-staging/recordings/SN122.edf', '/content/drive/MyDrive/physionet/HMC/hmc-sleep-staging/recordings/SN123.edf', '/content/drive/MyDrive/physionet/HMC/hmc-sleep-staging/recordings/SN124.edf', '/content/drive/MyDrive/physionet/HMC/hmc-sleep-staging/recordings/SN125.edf', '/content/drive/MyDrive/physionet/HMC/hmc-sleep-staging/recordings/SN126.edf', '/content/drive/MyDrive/physionet/HMC/hmc-sleep-staging/recordings/SN127.edf', '/content/drive/MyDrive/physionet/HMC/hmc-sleep-staging/recordings/SN128.edf', '/content/drive/MyDrive/physionet/HMC/hmc-sleep-staging/recordings/SN129.edf', '/content/drive/MyDrive/physionet/HMC/hmc-sleep-staging/recordings/SN130.edf', '/content/drive/MyDrive/physionet/HMC/hmc-sleep-staging/recordings/SN131.edf', '/content/drive/MyDrive/physionet/HMC/hmc-sleep-staging/recordings/SN132.edf', '/content/drive/MyDrive/physionet/HMC/hmc-sleep-staging/recordings/SN133.edf', '/content/drive/MyDrive/physionet/HMC/hmc-sleep-staging/recordings/SN134.edf', '/content/drive/MyDrive/physionet/HMC/hmc-sleep-staging/recordings/SN136.edf', '/content/drive/MyDrive/physionet/HMC/hmc-sleep-staging/recordings/SN137.edf', '/content/drive/MyDrive/physionet/HMC/hmc-sleep-staging/recordings/SN138.edf', '/content/drive/MyDrive/physionet/HMC/hmc-sleep-staging/recordings/SN139.edf', '/content/drive/MyDrive/physionet/HMC/hmc-sleep-staging/recordings/SN140.edf', '/content/drive/MyDrive/physionet/HMC/hmc-sleep-staging/recordings/SN141.edf', '/content/drive/MyDrive/physionet/HMC/hmc-sleep-staging/recordings/SN142.edf', '/content/drive/MyDrive/physionet/HMC/hmc-sleep-staging/recordings/SN143.edf', '/content/drive/MyDrive/physionet/HMC/hmc-sleep-staging/recordings/SN144.edf', '/content/drive/MyDrive/physionet/HMC/hmc-sleep-staging/recordings/SN145.edf', '/content/drive/MyDrive/physionet/HMC/hmc-sleep-staging/recordings/SN146.edf', '/content/drive/MyDrive/physionet/HMC/hmc-sleep-staging/recordings/SN147.edf', '/content/drive/MyDrive/physionet/HMC/hmc-sleep-staging/recordings/SN148.edf', '/content/drive/MyDrive/physionet/HMC/hmc-sleep-staging/recordings/SN149.edf', '/content/drive/MyDrive/physionet/HMC/hmc-sleep-staging/recordings/SN150.edf', '/content/drive/MyDrive/physionet/HMC/hmc-sleep-staging/recordings/SN151.edf', '/content/drive/MyDrive/physionet/HMC/hmc-sleep-staging/recordings/SN152.edf', '/content/drive/MyDrive/physionet/HMC/hmc-sleep-staging/recordings/SN153.edf', '/content/drive/MyDrive/physionet/HMC/hmc-sleep-staging/recordings/SN154.edf']\n",
            "\n",
            "\n",
            "label_data 경로 : ['/content/drive/MyDrive/physionet/HMC/hmc-sleep-staging/recordings/SN001_sleepscoring.edf', '/content/drive/MyDrive/physionet/HMC/hmc-sleep-staging/recordings/SN002_sleepscoring.edf', '/content/drive/MyDrive/physionet/HMC/hmc-sleep-staging/recordings/SN003_sleepscoring.edf', '/content/drive/MyDrive/physionet/HMC/hmc-sleep-staging/recordings/SN004_sleepscoring.edf', '/content/drive/MyDrive/physionet/HMC/hmc-sleep-staging/recordings/SN005_sleepscoring.edf', '/content/drive/MyDrive/physionet/HMC/hmc-sleep-staging/recordings/SN006_sleepscoring.edf', '/content/drive/MyDrive/physionet/HMC/hmc-sleep-staging/recordings/SN007_sleepscoring.edf', '/content/drive/MyDrive/physionet/HMC/hmc-sleep-staging/recordings/SN008_sleepscoring.edf', '/content/drive/MyDrive/physionet/HMC/hmc-sleep-staging/recordings/SN009_sleepscoring.edf', '/content/drive/MyDrive/physionet/HMC/hmc-sleep-staging/recordings/SN010_sleepscoring.edf', '/content/drive/MyDrive/physionet/HMC/hmc-sleep-staging/recordings/SN011_sleepscoring.edf', '/content/drive/MyDrive/physionet/HMC/hmc-sleep-staging/recordings/SN012_sleepscoring.edf', '/content/drive/MyDrive/physionet/HMC/hmc-sleep-staging/recordings/SN013_sleepscoring.edf', '/content/drive/MyDrive/physionet/HMC/hmc-sleep-staging/recordings/SN015_sleepscoring.edf', '/content/drive/MyDrive/physionet/HMC/hmc-sleep-staging/recordings/SN016_sleepscoring.edf', '/content/drive/MyDrive/physionet/HMC/hmc-sleep-staging/recordings/SN017_sleepscoring.edf', '/content/drive/MyDrive/physionet/HMC/hmc-sleep-staging/recordings/SN018_sleepscoring.edf', '/content/drive/MyDrive/physionet/HMC/hmc-sleep-staging/recordings/SN019_sleepscoring.edf', '/content/drive/MyDrive/physionet/HMC/hmc-sleep-staging/recordings/SN020_sleepscoring.edf', '/content/drive/MyDrive/physionet/HMC/hmc-sleep-staging/recordings/SN021_sleepscoring.edf', '/content/drive/MyDrive/physionet/HMC/hmc-sleep-staging/recordings/SN022_sleepscoring.edf', '/content/drive/MyDrive/physionet/HMC/hmc-sleep-staging/recordings/SN023_sleepscoring.edf', '/content/drive/MyDrive/physionet/HMC/hmc-sleep-staging/recordings/SN024_sleepscoring.edf', '/content/drive/MyDrive/physionet/HMC/hmc-sleep-staging/recordings/SN025_sleepscoring.edf', '/content/drive/MyDrive/physionet/HMC/hmc-sleep-staging/recordings/SN026_sleepscoring.edf', '/content/drive/MyDrive/physionet/HMC/hmc-sleep-staging/recordings/SN027_sleepscoring.edf', '/content/drive/MyDrive/physionet/HMC/hmc-sleep-staging/recordings/SN028_sleepscoring.edf', '/content/drive/MyDrive/physionet/HMC/hmc-sleep-staging/recordings/SN029_sleepscoring.edf', '/content/drive/MyDrive/physionet/HMC/hmc-sleep-staging/recordings/SN030_sleepscoring.edf', '/content/drive/MyDrive/physionet/HMC/hmc-sleep-staging/recordings/SN031_sleepscoring.edf', '/content/drive/MyDrive/physionet/HMC/hmc-sleep-staging/recordings/SN032_sleepscoring.edf', '/content/drive/MyDrive/physionet/HMC/hmc-sleep-staging/recordings/SN033_sleepscoring.edf', '/content/drive/MyDrive/physionet/HMC/hmc-sleep-staging/recordings/SN034_sleepscoring.edf', '/content/drive/MyDrive/physionet/HMC/hmc-sleep-staging/recordings/SN035_sleepscoring.edf', '/content/drive/MyDrive/physionet/HMC/hmc-sleep-staging/recordings/SN036_sleepscoring.edf', '/content/drive/MyDrive/physionet/HMC/hmc-sleep-staging/recordings/SN037_sleepscoring.edf', '/content/drive/MyDrive/physionet/HMC/hmc-sleep-staging/recordings/SN038_sleepscoring.edf', '/content/drive/MyDrive/physionet/HMC/hmc-sleep-staging/recordings/SN039_sleepscoring.edf', '/content/drive/MyDrive/physionet/HMC/hmc-sleep-staging/recordings/SN040_sleepscoring.edf', '/content/drive/MyDrive/physionet/HMC/hmc-sleep-staging/recordings/SN041_sleepscoring.edf', '/content/drive/MyDrive/physionet/HMC/hmc-sleep-staging/recordings/SN042_sleepscoring.edf', '/content/drive/MyDrive/physionet/HMC/hmc-sleep-staging/recordings/SN043_sleepscoring.edf', '/content/drive/MyDrive/physionet/HMC/hmc-sleep-staging/recordings/SN044_sleepscoring.edf', '/content/drive/MyDrive/physionet/HMC/hmc-sleep-staging/recordings/SN045_sleepscoring.edf', '/content/drive/MyDrive/physionet/HMC/hmc-sleep-staging/recordings/SN046_sleepscoring.edf', '/content/drive/MyDrive/physionet/HMC/hmc-sleep-staging/recordings/SN047_sleepscoring.edf', '/content/drive/MyDrive/physionet/HMC/hmc-sleep-staging/recordings/SN048_sleepscoring.edf', '/content/drive/MyDrive/physionet/HMC/hmc-sleep-staging/recordings/SN049_sleepscoring.edf', '/content/drive/MyDrive/physionet/HMC/hmc-sleep-staging/recordings/SN050_sleepscoring.edf', '/content/drive/MyDrive/physionet/HMC/hmc-sleep-staging/recordings/SN051_sleepscoring.edf', '/content/drive/MyDrive/physionet/HMC/hmc-sleep-staging/recordings/SN052_sleepscoring.edf', '/content/drive/MyDrive/physionet/HMC/hmc-sleep-staging/recordings/SN053_sleepscoring.edf', '/content/drive/MyDrive/physionet/HMC/hmc-sleep-staging/recordings/SN054_sleepscoring.edf', '/content/drive/MyDrive/physionet/HMC/hmc-sleep-staging/recordings/SN055_sleepscoring.edf', '/content/drive/MyDrive/physionet/HMC/hmc-sleep-staging/recordings/SN056_sleepscoring.edf', '/content/drive/MyDrive/physionet/HMC/hmc-sleep-staging/recordings/SN057_sleepscoring.edf', '/content/drive/MyDrive/physionet/HMC/hmc-sleep-staging/recordings/SN058_sleepscoring.edf', '/content/drive/MyDrive/physionet/HMC/hmc-sleep-staging/recordings/SN059_sleepscoring.edf', '/content/drive/MyDrive/physionet/HMC/hmc-sleep-staging/recordings/SN060_sleepscoring.edf', '/content/drive/MyDrive/physionet/HMC/hmc-sleep-staging/recordings/SN061_sleepscoring.edf', '/content/drive/MyDrive/physionet/HMC/hmc-sleep-staging/recordings/SN062_sleepscoring.edf', '/content/drive/MyDrive/physionet/HMC/hmc-sleep-staging/recordings/SN063_sleepscoring.edf', '/content/drive/MyDrive/physionet/HMC/hmc-sleep-staging/recordings/SN065_sleepscoring.edf', '/content/drive/MyDrive/physionet/HMC/hmc-sleep-staging/recordings/SN066_sleepscoring.edf', '/content/drive/MyDrive/physionet/HMC/hmc-sleep-staging/recordings/SN067_sleepscoring.edf', '/content/drive/MyDrive/physionet/HMC/hmc-sleep-staging/recordings/SN068_sleepscoring.edf', '/content/drive/MyDrive/physionet/HMC/hmc-sleep-staging/recordings/SN069_sleepscoring.edf', '/content/drive/MyDrive/physionet/HMC/hmc-sleep-staging/recordings/SN070_sleepscoring.edf', '/content/drive/MyDrive/physionet/HMC/hmc-sleep-staging/recordings/SN071_sleepscoring.edf', '/content/drive/MyDrive/physionet/HMC/hmc-sleep-staging/recordings/SN072_sleepscoring.edf', '/content/drive/MyDrive/physionet/HMC/hmc-sleep-staging/recordings/SN073_sleepscoring.edf', '/content/drive/MyDrive/physionet/HMC/hmc-sleep-staging/recordings/SN074_sleepscoring.edf', '/content/drive/MyDrive/physionet/HMC/hmc-sleep-staging/recordings/SN075_sleepscoring.edf', '/content/drive/MyDrive/physionet/HMC/hmc-sleep-staging/recordings/SN076_sleepscoring.edf', '/content/drive/MyDrive/physionet/HMC/hmc-sleep-staging/recordings/SN077_sleepscoring.edf', '/content/drive/MyDrive/physionet/HMC/hmc-sleep-staging/recordings/SN078_sleepscoring.edf', '/content/drive/MyDrive/physionet/HMC/hmc-sleep-staging/recordings/SN079_sleepscoring.edf', '/content/drive/MyDrive/physionet/HMC/hmc-sleep-staging/recordings/SN080_sleepscoring.edf', '/content/drive/MyDrive/physionet/HMC/hmc-sleep-staging/recordings/SN081_sleepscoring.edf', '/content/drive/MyDrive/physionet/HMC/hmc-sleep-staging/recordings/SN082_sleepscoring.edf', '/content/drive/MyDrive/physionet/HMC/hmc-sleep-staging/recordings/SN083_sleepscoring.edf', '/content/drive/MyDrive/physionet/HMC/hmc-sleep-staging/recordings/SN084_sleepscoring.edf', '/content/drive/MyDrive/physionet/HMC/hmc-sleep-staging/recordings/SN085_sleepscoring.edf', '/content/drive/MyDrive/physionet/HMC/hmc-sleep-staging/recordings/SN086_sleepscoring.edf', '/content/drive/MyDrive/physionet/HMC/hmc-sleep-staging/recordings/SN087_sleepscoring.edf', '/content/drive/MyDrive/physionet/HMC/hmc-sleep-staging/recordings/SN088_sleepscoring.edf', '/content/drive/MyDrive/physionet/HMC/hmc-sleep-staging/recordings/SN089_sleepscoring.edf', '/content/drive/MyDrive/physionet/HMC/hmc-sleep-staging/recordings/SN090_sleepscoring.edf', '/content/drive/MyDrive/physionet/HMC/hmc-sleep-staging/recordings/SN091_sleepscoring.edf', '/content/drive/MyDrive/physionet/HMC/hmc-sleep-staging/recordings/SN092_sleepscoring.edf', '/content/drive/MyDrive/physionet/HMC/hmc-sleep-staging/recordings/SN093_sleepscoring.edf', '/content/drive/MyDrive/physionet/HMC/hmc-sleep-staging/recordings/SN094_sleepscoring.edf', '/content/drive/MyDrive/physionet/HMC/hmc-sleep-staging/recordings/SN095_sleepscoring.edf', '/content/drive/MyDrive/physionet/HMC/hmc-sleep-staging/recordings/SN096_sleepscoring.edf', '/content/drive/MyDrive/physionet/HMC/hmc-sleep-staging/recordings/SN097_sleepscoring.edf', '/content/drive/MyDrive/physionet/HMC/hmc-sleep-staging/recordings/SN098_sleepscoring.edf', '/content/drive/MyDrive/physionet/HMC/hmc-sleep-staging/recordings/SN099_sleepscoring.edf', '/content/drive/MyDrive/physionet/HMC/hmc-sleep-staging/recordings/SN100_sleepscoring.edf', '/content/drive/MyDrive/physionet/HMC/hmc-sleep-staging/recordings/SN101_sleepscoring.edf', '/content/drive/MyDrive/physionet/HMC/hmc-sleep-staging/recordings/SN102_sleepscoring.edf', '/content/drive/MyDrive/physionet/HMC/hmc-sleep-staging/recordings/SN103_sleepscoring.edf', '/content/drive/MyDrive/physionet/HMC/hmc-sleep-staging/recordings/SN104_sleepscoring.edf', '/content/drive/MyDrive/physionet/HMC/hmc-sleep-staging/recordings/SN105_sleepscoring.edf', '/content/drive/MyDrive/physionet/HMC/hmc-sleep-staging/recordings/SN106_sleepscoring.edf', '/content/drive/MyDrive/physionet/HMC/hmc-sleep-staging/recordings/SN107_sleepscoring.edf', '/content/drive/MyDrive/physionet/HMC/hmc-sleep-staging/recordings/SN108_sleepscoring.edf', '/content/drive/MyDrive/physionet/HMC/hmc-sleep-staging/recordings/SN109_sleepscoring.edf', '/content/drive/MyDrive/physionet/HMC/hmc-sleep-staging/recordings/SN110_sleepscoring.edf', '/content/drive/MyDrive/physionet/HMC/hmc-sleep-staging/recordings/SN111_sleepscoring.edf', '/content/drive/MyDrive/physionet/HMC/hmc-sleep-staging/recordings/SN112_sleepscoring.edf', '/content/drive/MyDrive/physionet/HMC/hmc-sleep-staging/recordings/SN113_sleepscoring.edf', '/content/drive/MyDrive/physionet/HMC/hmc-sleep-staging/recordings/SN114_sleepscoring.edf', '/content/drive/MyDrive/physionet/HMC/hmc-sleep-staging/recordings/SN115_sleepscoring.edf', '/content/drive/MyDrive/physionet/HMC/hmc-sleep-staging/recordings/SN116_sleepscoring.edf', '/content/drive/MyDrive/physionet/HMC/hmc-sleep-staging/recordings/SN117_sleepscoring.edf', '/content/drive/MyDrive/physionet/HMC/hmc-sleep-staging/recordings/SN118_sleepscoring.edf', '/content/drive/MyDrive/physionet/HMC/hmc-sleep-staging/recordings/SN119_sleepscoring.edf', '/content/drive/MyDrive/physionet/HMC/hmc-sleep-staging/recordings/SN120_sleepscoring.edf', '/content/drive/MyDrive/physionet/HMC/hmc-sleep-staging/recordings/SN121_sleepscoring.edf', '/content/drive/MyDrive/physionet/HMC/hmc-sleep-staging/recordings/SN122_sleepscoring.edf', '/content/drive/MyDrive/physionet/HMC/hmc-sleep-staging/recordings/SN123_sleepscoring.edf', '/content/drive/MyDrive/physionet/HMC/hmc-sleep-staging/recordings/SN124_sleepscoring.edf', '/content/drive/MyDrive/physionet/HMC/hmc-sleep-staging/recordings/SN125_sleepscoring.edf', '/content/drive/MyDrive/physionet/HMC/hmc-sleep-staging/recordings/SN126_sleepscoring.edf', '/content/drive/MyDrive/physionet/HMC/hmc-sleep-staging/recordings/SN127_sleepscoring.edf', '/content/drive/MyDrive/physionet/HMC/hmc-sleep-staging/recordings/SN128_sleepscoring.edf', '/content/drive/MyDrive/physionet/HMC/hmc-sleep-staging/recordings/SN129_sleepscoring.edf', '/content/drive/MyDrive/physionet/HMC/hmc-sleep-staging/recordings/SN130_sleepscoring.edf', '/content/drive/MyDrive/physionet/HMC/hmc-sleep-staging/recordings/SN131_sleepscoring.edf', '/content/drive/MyDrive/physionet/HMC/hmc-sleep-staging/recordings/SN132_sleepscoring.edf', '/content/drive/MyDrive/physionet/HMC/hmc-sleep-staging/recordings/SN133_sleepscoring.edf', '/content/drive/MyDrive/physionet/HMC/hmc-sleep-staging/recordings/SN134_sleepscoring.edf', '/content/drive/MyDrive/physionet/HMC/hmc-sleep-staging/recordings/SN136_sleepscoring.edf', '/content/drive/MyDrive/physionet/HMC/hmc-sleep-staging/recordings/SN137_sleepscoring.edf', '/content/drive/MyDrive/physionet/HMC/hmc-sleep-staging/recordings/SN138_sleepscoring.edf', '/content/drive/MyDrive/physionet/HMC/hmc-sleep-staging/recordings/SN139_sleepscoring.edf', '/content/drive/MyDrive/physionet/HMC/hmc-sleep-staging/recordings/SN140_sleepscoring.edf', '/content/drive/MyDrive/physionet/HMC/hmc-sleep-staging/recordings/SN141_sleepscoring.edf', '/content/drive/MyDrive/physionet/HMC/hmc-sleep-staging/recordings/SN142_sleepscoring.edf', '/content/drive/MyDrive/physionet/HMC/hmc-sleep-staging/recordings/SN143_sleepscoring.edf', '/content/drive/MyDrive/physionet/HMC/hmc-sleep-staging/recordings/SN144_sleepscoring.edf', '/content/drive/MyDrive/physionet/HMC/hmc-sleep-staging/recordings/SN145_sleepscoring.edf', '/content/drive/MyDrive/physionet/HMC/hmc-sleep-staging/recordings/SN146_sleepscoring.edf', '/content/drive/MyDrive/physionet/HMC/hmc-sleep-staging/recordings/SN147_sleepscoring.edf', '/content/drive/MyDrive/physionet/HMC/hmc-sleep-staging/recordings/SN148_sleepscoring.edf', '/content/drive/MyDrive/physionet/HMC/hmc-sleep-staging/recordings/SN149_sleepscoring.edf', '/content/drive/MyDrive/physionet/HMC/hmc-sleep-staging/recordings/SN150_sleepscoring.edf', '/content/drive/MyDrive/physionet/HMC/hmc-sleep-staging/recordings/SN151_sleepscoring.edf', '/content/drive/MyDrive/physionet/HMC/hmc-sleep-staging/recordings/SN152_sleepscoring.edf', '/content/drive/MyDrive/physionet/HMC/hmc-sleep-staging/recordings/SN153_sleepscoring.edf', '/content/drive/MyDrive/physionet/HMC/hmc-sleep-staging/recordings/SN154_sleepscoring.edf']\n",
            "\n",
            "\n",
            "첫번째 signal data : (array([[ 7.37193866e+01,  7.09361410e+01,  6.93980316e+01, ...,\n",
            "        -3.66216526e-02, -3.66216526e-02, -3.66216526e-02]]), [{'label': 'ECG', 'dimension': 'uV', 'sample_rate': 256.0, 'sample_frequency': 256.0, 'physical_max': 2400.0, 'physical_min': -2400.0, 'digital_max': 32767, 'digital_min': -32768, 'prefilter': 'HP:1.0Hz LP:150.0Hz', 'transducer': 'AgAgCl electrodes'}], {'technician': '', 'recording_additional': '', 'patientname': '', 'patient_additional': '', 'patientcode': '', 'equipment': '', 'admincode': '', 'gender': '', 'startdate': datetime.datetime(2001, 1, 1, 23, 59, 30), 'birthdate': '', 'annotations': []})\n",
            "\n",
            "\n",
            "첫번째 label data : (array([], dtype=float64), [], {'technician': '', 'recording_additional': '', 'patientname': 'X', 'patient_additional': '', 'patientcode': 'SN001', 'equipment': '', 'admincode': '', 'gender': '', 'startdate': datetime.datetime(2001, 1, 1, 23, 59, 30), 'birthdate': '', 'annotations': [[0.0, 30.0, 'Sleep stage W'], [30.0, 30.0, 'Sleep stage W'], [33.43, 0.0, 'Lights off@@EEG F4-A1'], [60.0, 30.0, 'Sleep stage W'], [90.0, 30.0, 'Sleep stage W'], [120.0, 30.0, 'Sleep stage W'], [150.0, 30.0, 'Sleep stage W'], [180.0, 30.0, 'Sleep stage W'], [210.0, 30.0, 'Sleep stage W'], [240.0, 30.0, 'Sleep stage N1'], [270.0, 30.0, 'Sleep stage N1'], [300.0, 30.0, 'Sleep stage N1'], [330.0, 30.0, 'Sleep stage N1'], [360.0, 30.0, 'Sleep stage N1'], [390.0, 30.0, 'Sleep stage N1'], [420.0, 30.0, 'Sleep stage N1'], [450.0, 30.0, 'Sleep stage N1'], [480.0, 30.0, 'Sleep stage N2'], [510.0, 30.0, 'Sleep stage N1'], [540.0, 30.0, 'Sleep stage N2'], [570.0, 30.0, 'Sleep stage N2'], [600.0, 30.0, 'Sleep stage N2'], [630.0, 30.0, 'Sleep stage N2'], [660.0, 30.0, 'Sleep stage N2'], [690.0, 30.0, 'Sleep stage N2'], [720.0, 30.0, 'Sleep stage N1'], [750.0, 30.0, 'Sleep stage N1'], [780.0, 30.0, 'Sleep stage W'], [810.0, 30.0, 'Sleep stage N1'], [840.0, 30.0, 'Sleep stage N1'], [870.0, 30.0, 'Sleep stage N1'], [900.0, 30.0, 'Sleep stage N1'], [930.0, 30.0, 'Sleep stage N1'], [960.0, 30.0, 'Sleep stage N1'], [990.0, 30.0, 'Sleep stage N2'], [1020.0, 30.0, 'Sleep stage N1'], [1050.0, 30.0, 'Sleep stage W'], [1080.0, 30.0, 'Sleep stage W'], [1110.0, 30.0, 'Sleep stage W'], [1140.0, 30.0, 'Sleep stage W'], [1170.0, 30.0, 'Sleep stage N1'], [1200.0, 30.0, 'Sleep stage N1'], [1230.0, 30.0, 'Sleep stage N1'], [1260.0, 30.0, 'Sleep stage N1'], [1290.0, 30.0, 'Sleep stage N1'], [1320.0, 30.0, 'Sleep stage N1'], [1350.0, 30.0, 'Sleep stage N1'], [1380.0, 30.0, 'Sleep stage N1'], [1410.0, 30.0, 'Sleep stage N1'], [1440.0, 30.0, 'Sleep stage N1'], [1470.0, 30.0, 'Sleep stage N1'], [1500.0, 30.0, 'Sleep stage N1'], [1530.0, 30.0, 'Sleep stage N2'], [1560.0, 30.0, 'Sleep stage N2'], [1590.0, 30.0, 'Sleep stage N2'], [1620.0, 30.0, 'Sleep stage N2'], [1650.0, 30.0, 'Sleep stage N2'], [1680.0, 30.0, 'Sleep stage N2'], [1710.0, 30.0, 'Sleep stage N2'], [1740.0, 30.0, 'Sleep stage N2'], [1770.0, 30.0, 'Sleep stage N2'], [1800.0, 30.0, 'Sleep stage N2'], [1830.0, 30.0, 'Sleep stage N2'], [1860.0, 30.0, 'Sleep stage N2'], [1890.0, 30.0, 'Sleep stage N2'], [1920.0, 30.0, 'Sleep stage N2'], [1950.0, 30.0, 'Sleep stage N2'], [1980.0, 30.0, 'Sleep stage N2'], [2010.0, 30.0, 'Sleep stage N2'], [2040.0, 30.0, 'Sleep stage N2'], [2070.0, 30.0, 'Sleep stage N2'], [2100.0, 30.0, 'Sleep stage N2'], [2130.0, 30.0, 'Sleep stage N2'], [2160.0, 30.0, 'Sleep stage N2'], [2190.0, 30.0, 'Sleep stage N2'], [2220.0, 30.0, 'Sleep stage N2'], [2250.0, 30.0, 'Sleep stage N2'], [2280.0, 30.0, 'Sleep stage N2'], [2310.0, 30.0, 'Sleep stage N2'], [2340.0, 30.0, 'Sleep stage N2'], [2370.0, 30.0, 'Sleep stage N2'], [2400.0, 30.0, 'Sleep stage N2'], [2430.0, 30.0, 'Sleep stage N2'], [2460.0, 30.0, 'Sleep stage N1'], [2490.0, 30.0, 'Sleep stage N2'], [2520.0, 30.0, 'Sleep stage N2'], [2550.0, 30.0, 'Sleep stage N2'], [2580.0, 30.0, 'Sleep stage N2'], [2610.0, 30.0, 'Sleep stage N2'], [2640.0, 30.0, 'Sleep stage N2'], [2670.0, 30.0, 'Sleep stage N2'], [2700.0, 30.0, 'Sleep stage N2'], [2730.0, 30.0, 'Sleep stage N2'], [2760.0, 30.0, 'Sleep stage N2'], [2790.0, 30.0, 'Sleep stage N2'], [2820.0, 30.0, 'Sleep stage N2'], [2850.0, 30.0, 'Sleep stage N2'], [2880.0, 30.0, 'Sleep stage N2'], [2910.0, 30.0, 'Sleep stage N2'], [2940.0, 30.0, 'Sleep stage N2'], [2970.0, 30.0, 'Sleep stage N2'], [3000.0, 30.0, 'Sleep stage N2'], [3030.0, 30.0, 'Sleep stage N2'], [3060.0, 30.0, 'Sleep stage N2'], [3090.0, 30.0, 'Sleep stage N2'], [3120.0, 30.0, 'Sleep stage N2'], [3150.0, 30.0, 'Sleep stage N3'], [3180.0, 30.0, 'Sleep stage N3'], [3210.0, 30.0, 'Sleep stage N2'], [3240.0, 30.0, 'Sleep stage N3'], [3270.0, 30.0, 'Sleep stage N3'], [3300.0, 30.0, 'Sleep stage N2'], [3330.0, 30.0, 'Sleep stage N3'], [3360.0, 30.0, 'Sleep stage N3'], [3390.0, 30.0, 'Sleep stage N3'], [3420.0, 30.0, 'Sleep stage N3'], [3450.0, 30.0, 'Sleep stage N3'], [3480.0, 30.0, 'Sleep stage N3'], [3510.0, 30.0, 'Sleep stage N2'], [3540.0, 30.0, 'Sleep stage N3'], [3570.0, 30.0, 'Sleep stage N3'], [3600.0, 30.0, 'Sleep stage N2'], [3630.0, 30.0, 'Sleep stage N3'], [3660.0, 30.0, 'Sleep stage N2'], [3690.0, 30.0, 'Sleep stage N2'], [3720.0, 30.0, 'Sleep stage N2'], [3750.0, 30.0, 'Sleep stage N2'], [3780.0, 30.0, 'Sleep stage N2'], [3810.0, 30.0, 'Sleep stage N2'], [3840.0, 30.0, 'Sleep stage N2'], [3870.0, 30.0, 'Sleep stage N2'], [3900.0, 30.0, 'Sleep stage N2'], [3930.0, 30.0, 'Sleep stage N2'], [3960.0, 30.0, 'Sleep stage N2'], [3990.0, 30.0, 'Sleep stage N2'], [4020.0, 30.0, 'Sleep stage N2'], [4050.0, 30.0, 'Sleep stage N2'], [4080.0, 30.0, 'Sleep stage N2'], [4110.0, 30.0, 'Sleep stage N2'], [4140.0, 30.0, 'Sleep stage N2'], [4170.0, 30.0, 'Sleep stage N2'], [4200.0, 30.0, 'Sleep stage N1'], [4230.0, 30.0, 'Sleep stage N2'], [4260.0, 30.0, 'Sleep stage N2'], [4290.0, 30.0, 'Sleep stage N2'], [4320.0, 30.0, 'Sleep stage N2'], [4350.0, 30.0, 'Sleep stage N2'], [4380.0, 30.0, 'Sleep stage N2'], [4410.0, 30.0, 'Sleep stage N2'], [4440.0, 30.0, 'Sleep stage N1'], [4470.0, 30.0, 'Sleep stage N2'], [4500.0, 30.0, 'Sleep stage N2'], [4530.0, 30.0, 'Sleep stage N2'], [4560.0, 30.0, 'Sleep stage N2'], [4590.0, 30.0, 'Sleep stage N1'], [4620.0, 30.0, 'Sleep stage N2'], [4650.0, 30.0, 'Sleep stage R'], [4680.0, 30.0, 'Sleep stage R'], [4710.0, 30.0, 'Sleep stage R'], [4740.0, 30.0, 'Sleep stage R'], [4770.0, 30.0, 'Sleep stage R'], [4800.0, 30.0, 'Sleep stage R'], [4830.0, 30.0, 'Sleep stage R'], [4860.0, 30.0, 'Sleep stage R'], [4890.0, 30.0, 'Sleep stage R'], [4920.0, 30.0, 'Sleep stage R'], [4950.0, 30.0, 'Sleep stage R'], [4980.0, 30.0, 'Sleep stage R'], [5010.0, 30.0, 'Sleep stage R'], [5040.0, 30.0, 'Sleep stage R'], [5070.0, 30.0, 'Sleep stage R'], [5100.0, 30.0, 'Sleep stage R'], [5130.0, 30.0, 'Sleep stage R'], [5160.0, 30.0, 'Sleep stage R'], [5190.0, 30.0, 'Sleep stage N1'], [5220.0, 30.0, 'Sleep stage R'], [5250.0, 30.0, 'Sleep stage R'], [5280.0, 30.0, 'Sleep stage R'], [5310.0, 30.0, 'Sleep stage R'], [5340.0, 30.0, 'Sleep stage R'], [5370.0, 30.0, 'Sleep stage R'], [5400.0, 30.0, 'Sleep stage W'], [5430.0, 30.0, 'Sleep stage W'], [5460.0, 30.0, 'Sleep stage W'], [5490.0, 30.0, 'Sleep stage W'], [5520.0, 30.0, 'Sleep stage W'], [5550.0, 30.0, 'Sleep stage W'], [5580.0, 30.0, 'Sleep stage W'], [5610.0, 30.0, 'Sleep stage W'], [5640.0, 30.0, 'Sleep stage W'], [5670.0, 30.0, 'Sleep stage W'], [5700.0, 30.0, 'Sleep stage W'], [5730.0, 30.0, 'Sleep stage W'], [5760.0, 30.0, 'Sleep stage N1'], [5790.0, 30.0, 'Sleep stage N1'], [5820.0, 30.0, 'Sleep stage N1'], [5850.0, 30.0, 'Sleep stage N1'], [5880.0, 30.0, 'Sleep stage N1'], [5910.0, 30.0, 'Sleep stage N1'], [5940.0, 30.0, 'Sleep stage N2'], [5970.0, 30.0, 'Sleep stage N2'], [6000.0, 30.0, 'Sleep stage N2'], [6030.0, 30.0, 'Sleep stage N2'], [6060.0, 30.0, 'Sleep stage N1'], [6090.0, 30.0, 'Sleep stage N1'], [6120.0, 30.0, 'Sleep stage N2'], [6150.0, 30.0, 'Sleep stage N2'], [6180.0, 30.0, 'Sleep stage N2'], [6210.0, 30.0, 'Sleep stage N2'], [6240.0, 30.0, 'Sleep stage N2'], [6270.0, 30.0, 'Sleep stage N2'], [6300.0, 30.0, 'Sleep stage N2'], [6330.0, 30.0, 'Sleep stage N2'], [6360.0, 30.0, 'Sleep stage N2'], [6390.0, 30.0, 'Sleep stage N2'], [6420.0, 30.0, 'Sleep stage N2'], [6450.0, 30.0, 'Sleep stage N2'], [6480.0, 30.0, 'Sleep stage N2'], [6510.0, 30.0, 'Sleep stage N2'], [6540.0, 30.0, 'Sleep stage N2'], [6570.0, 30.0, 'Sleep stage N2'], [6600.0, 30.0, 'Sleep stage N2'], [6630.0, 30.0, 'Sleep stage N2'], [6660.0, 30.0, 'Sleep stage N2'], [6690.0, 30.0, 'Sleep stage N2'], [6720.0, 30.0, 'Sleep stage N2'], [6750.0, 30.0, 'Sleep stage N2'], [6780.0, 30.0, 'Sleep stage N2'], [6810.0, 30.0, 'Sleep stage N2'], [6840.0, 30.0, 'Sleep stage N2'], [6870.0, 30.0, 'Sleep stage N2'], [6900.0, 30.0, 'Sleep stage N2'], [6930.0, 30.0, 'Sleep stage N2'], [6960.0, 30.0, 'Sleep stage N2'], [6990.0, 30.0, 'Sleep stage N2'], [7020.0, 30.0, 'Sleep stage N2'], [7050.0, 30.0, 'Sleep stage N2'], [7080.0, 30.0, 'Sleep stage N2'], [7110.0, 30.0, 'Sleep stage N2'], [7140.0, 30.0, 'Sleep stage N2'], [7170.0, 30.0, 'Sleep stage N2'], [7200.0, 30.0, 'Sleep stage N1'], [7230.0, 30.0, 'Sleep stage N1'], [7260.0, 30.0, 'Sleep stage N1'], [7290.0, 30.0, 'Sleep stage N1'], [7320.0, 30.0, 'Sleep stage N1'], [7350.0, 30.0, 'Sleep stage N1'], [7380.0, 30.0, 'Sleep stage N1'], [7410.0, 30.0, 'Sleep stage W'], [7440.0, 30.0, 'Sleep stage N1'], [7470.0, 30.0, 'Sleep stage N1'], [7500.0, 30.0, 'Sleep stage N1'], [7530.0, 30.0, 'Sleep stage N1'], [7560.0, 30.0, 'Sleep stage N1'], [7590.0, 30.0, 'Sleep stage N2'], [7620.0, 30.0, 'Sleep stage N2'], [7650.0, 30.0, 'Sleep stage N2'], [7680.0, 30.0, 'Sleep stage N2'], [7710.0, 30.0, 'Sleep stage N2'], [7740.0, 30.0, 'Sleep stage N2'], [7770.0, 30.0, 'Sleep stage N2'], [7800.0, 30.0, 'Sleep stage N2'], [7830.0, 30.0, 'Sleep stage N2'], [7860.0, 30.0, 'Sleep stage N2'], [7890.0, 30.0, 'Sleep stage N2'], [7920.0, 30.0, 'Sleep stage N2'], [7950.0, 30.0, 'Sleep stage N2'], [7980.0, 30.0, 'Sleep stage N2'], [8010.0, 30.0, 'Sleep stage N2'], [8040.0, 30.0, 'Sleep stage N2'], [8070.0, 30.0, 'Sleep stage N2'], [8100.0, 30.0, 'Sleep stage N2'], [8130.0, 30.0, 'Sleep stage N2'], [8160.0, 30.0, 'Sleep stage N2'], [8190.0, 30.0, 'Sleep stage N2'], [8220.0, 30.0, 'Sleep stage N2'], [8250.0, 30.0, 'Sleep stage N2'], [8280.0, 30.0, 'Sleep stage N2'], [8310.0, 30.0, 'Sleep stage N1'], [8340.0, 30.0, 'Sleep stage N2'], [8370.0, 30.0, 'Sleep stage N2'], [8400.0, 30.0, 'Sleep stage N2'], [8430.0, 30.0, 'Sleep stage N2'], [8460.0, 30.0, 'Sleep stage N2'], [8490.0, 30.0, 'Sleep stage N2'], [8520.0, 30.0, 'Sleep stage N2'], [8550.0, 30.0, 'Sleep stage N2'], [8580.0, 30.0, 'Sleep stage N2'], [8610.0, 30.0, 'Sleep stage N2'], [8640.0, 30.0, 'Sleep stage N1'], [8670.0, 30.0, 'Sleep stage N2'], [8700.0, 30.0, 'Sleep stage N2'], [8730.0, 30.0, 'Sleep stage N2'], [8760.0, 30.0, 'Sleep stage N2'], [8790.0, 30.0, 'Sleep stage N2'], [8820.0, 30.0, 'Sleep stage N2'], [8850.0, 30.0, 'Sleep stage N2'], [8880.0, 30.0, 'Sleep stage N2'], [8910.0, 30.0, 'Sleep stage N2'], [8940.0, 30.0, 'Sleep stage N2'], [8970.0, 30.0, 'Sleep stage N2'], [9000.0, 30.0, 'Sleep stage N1'], [9030.0, 30.0, 'Sleep stage N2'], [9060.0, 30.0, 'Sleep stage N2'], [9090.0, 30.0, 'Sleep stage N2'], [9120.0, 30.0, 'Sleep stage N2'], [9150.0, 30.0, 'Sleep stage N2'], [9180.0, 30.0, 'Sleep stage N2'], [9210.0, 30.0, 'Sleep stage N2'], [9240.0, 30.0, 'Sleep stage N2'], [9270.0, 30.0, 'Sleep stage N2'], [9300.0, 30.0, 'Sleep stage N2'], [9330.0, 30.0, 'Sleep stage N2'], [9360.0, 30.0, 'Sleep stage N2'], [9390.0, 30.0, 'Sleep stage R'], [9420.0, 30.0, 'Sleep stage N2'], [9450.0, 30.0, 'Sleep stage R'], [9480.0, 30.0, 'Sleep stage N1'], [9510.0, 30.0, 'Sleep stage W'], [9540.0, 30.0, 'Sleep stage W'], [9570.0, 30.0, 'Sleep stage W'], [9600.0, 30.0, 'Sleep stage W'], [9630.0, 30.0, 'Sleep stage W'], [9660.0, 30.0, 'Sleep stage W'], [9690.0, 30.0, 'Sleep stage W'], [9720.0, 30.0, 'Sleep stage W'], [9750.0, 30.0, 'Sleep stage W'], [9780.0, 30.0, 'Sleep stage W'], [9810.0, 30.0, 'Sleep stage W'], [9840.0, 30.0, 'Sleep stage W'], [9870.0, 30.0, 'Sleep stage W'], [9900.0, 30.0, 'Sleep stage W'], [9930.0, 30.0, 'Sleep stage W'], [9960.0, 30.0, 'Sleep stage W'], [9990.0, 30.0, 'Sleep stage W'], [10020.0, 30.0, 'Sleep stage W'], [10050.0, 30.0, 'Sleep stage W'], [10080.0, 30.0, 'Sleep stage W'], [10110.0, 30.0, 'Sleep stage W'], [10140.0, 30.0, 'Sleep stage W'], [10170.0, 30.0, 'Sleep stage W'], [10200.0, 30.0, 'Sleep stage W'], [10230.0, 30.0, 'Sleep stage W'], [10260.0, 30.0, 'Sleep stage W'], [10290.0, 30.0, 'Sleep stage W'], [10320.0, 30.0, 'Sleep stage W'], [10350.0, 30.0, 'Sleep stage W'], [10380.0, 30.0, 'Sleep stage W'], [10410.0, 30.0, 'Sleep stage W'], [10440.0, 30.0, 'Sleep stage W'], [10470.0, 30.0, 'Sleep stage W'], [10500.0, 30.0, 'Sleep stage W'], [10530.0, 30.0, 'Sleep stage W'], [10560.0, 30.0, 'Sleep stage W'], [10590.0, 30.0, 'Sleep stage W'], [10620.0, 30.0, 'Sleep stage W'], [10650.0, 30.0, 'Sleep stage W'], [10680.0, 30.0, 'Sleep stage W'], [10710.0, 30.0, 'Sleep stage W'], [10740.0, 30.0, 'Sleep stage W'], [10770.0, 30.0, 'Sleep stage W'], [10800.0, 30.0, 'Sleep stage W'], [10830.0, 30.0, 'Sleep stage W'], [10860.0, 30.0, 'Sleep stage W'], [10890.0, 30.0, 'Sleep stage W'], [10920.0, 30.0, 'Sleep stage W'], [10950.0, 30.0, 'Sleep stage W'], [10980.0, 30.0, 'Sleep stage W'], [11010.0, 30.0, 'Sleep stage W'], [11040.0, 30.0, 'Sleep stage W'], [11070.0, 30.0, 'Sleep stage W'], [11100.0, 30.0, 'Sleep stage W'], [11130.0, 30.0, 'Sleep stage W'], [11160.0, 30.0, 'Sleep stage W'], [11190.0, 30.0, 'Sleep stage W'], [11220.0, 30.0, 'Sleep stage W'], [11250.0, 30.0, 'Sleep stage W'], [11280.0, 30.0, 'Sleep stage W'], [11310.0, 30.0, 'Sleep stage W'], [11340.0, 30.0, 'Sleep stage W'], [11370.0, 30.0, 'Sleep stage W'], [11400.0, 30.0, 'Sleep stage W'], [11430.0, 30.0, 'Sleep stage W'], [11460.0, 30.0, 'Sleep stage W'], [11490.0, 30.0, 'Sleep stage W'], [11520.0, 30.0, 'Sleep stage W'], [11550.0, 30.0, 'Sleep stage W'], [11580.0, 30.0, 'Sleep stage W'], [11610.0, 30.0, 'Sleep stage W'], [11640.0, 30.0, 'Sleep stage W'], [11670.0, 30.0, 'Sleep stage W'], [11700.0, 30.0, 'Sleep stage W'], [11730.0, 30.0, 'Sleep stage W'], [11760.0, 30.0, 'Sleep stage W'], [11790.0, 30.0, 'Sleep stage W'], [11820.0, 30.0, 'Sleep stage W'], [11850.0, 30.0, 'Sleep stage W'], [11880.0, 30.0, 'Sleep stage W'], [11910.0, 30.0, 'Sleep stage W'], [11940.0, 30.0, 'Sleep stage W'], [11970.0, 30.0, 'Sleep stage W'], [12000.0, 30.0, 'Sleep stage W'], [12030.0, 30.0, 'Sleep stage N1'], [12060.0, 30.0, 'Sleep stage W'], [12090.0, 30.0, 'Sleep stage N1'], [12120.0, 30.0, 'Sleep stage W'], [12150.0, 30.0, 'Sleep stage W'], [12180.0, 30.0, 'Sleep stage N1'], [12210.0, 30.0, 'Sleep stage N1'], [12240.0, 30.0, 'Sleep stage N1'], [12270.0, 30.0, 'Sleep stage N1'], [12300.0, 30.0, 'Sleep stage N1'], [12330.0, 30.0, 'Sleep stage N1'], [12360.0, 30.0, 'Sleep stage N1'], [12390.0, 30.0, 'Sleep stage N1'], [12420.0, 30.0, 'Sleep stage N2'], [12450.0, 30.0, 'Sleep stage N2'], [12480.0, 30.0, 'Sleep stage N2'], [12510.0, 30.0, 'Sleep stage N2'], [12540.0, 30.0, 'Sleep stage N2'], [12570.0, 30.0, 'Sleep stage N2'], [12600.0, 30.0, 'Sleep stage N2'], [12630.0, 30.0, 'Sleep stage N2'], [12660.0, 30.0, 'Sleep stage N2'], [12690.0, 30.0, 'Sleep stage N2'], [12720.0, 30.0, 'Sleep stage N2'], [12750.0, 30.0, 'Sleep stage N2'], [12780.0, 30.0, 'Sleep stage N2'], [12810.0, 30.0, 'Sleep stage N2'], [12840.0, 30.0, 'Sleep stage N1'], [12870.0, 30.0, 'Sleep stage N2'], [12900.0, 30.0, 'Sleep stage N2'], [12930.0, 30.0, 'Sleep stage N2'], [12960.0, 30.0, 'Sleep stage N2'], [12990.0, 30.0, 'Sleep stage N2'], [13020.0, 30.0, 'Sleep stage N2'], [13050.0, 30.0, 'Sleep stage N2'], [13080.0, 30.0, 'Sleep stage N2'], [13110.0, 30.0, 'Sleep stage N2'], [13140.0, 30.0, 'Sleep stage N2'], [13170.0, 30.0, 'Sleep stage N2'], [13200.0, 30.0, 'Sleep stage N2'], [13230.0, 30.0, 'Sleep stage N1'], [13260.0, 30.0, 'Sleep stage N2'], [13290.0, 30.0, 'Sleep stage N2'], [13320.0, 30.0, 'Sleep stage N2'], [13350.0, 30.0, 'Sleep stage N2'], [13380.0, 30.0, 'Sleep stage N2'], [13410.0, 30.0, 'Sleep stage N2'], [13440.0, 30.0, 'Sleep stage N2'], [13470.0, 30.0, 'Sleep stage N2'], [13500.0, 30.0, 'Sleep stage N2'], [13530.0, 30.0, 'Sleep stage N2'], [13560.0, 30.0, 'Sleep stage N2'], [13590.0, 30.0, 'Sleep stage N2'], [13620.0, 30.0, 'Sleep stage N2'], [13650.0, 30.0, 'Sleep stage N2'], [13680.0, 30.0, 'Sleep stage N2'], [13710.0, 30.0, 'Sleep stage N2'], [13740.0, 30.0, 'Sleep stage N2'], [13770.0, 30.0, 'Sleep stage N2'], [13800.0, 30.0, 'Sleep stage N2'], [13830.0, 30.0, 'Sleep stage N2'], [13860.0, 30.0, 'Sleep stage N2'], [13890.0, 30.0, 'Sleep stage N2'], [13920.0, 30.0, 'Sleep stage N2'], [13950.0, 30.0, 'Sleep stage N3'], [13980.0, 30.0, 'Sleep stage N3'], [14010.0, 30.0, 'Sleep stage N3'], [14040.0, 30.0, 'Sleep stage N3'], [14070.0, 30.0, 'Sleep stage N3'], [14100.0, 30.0, 'Sleep stage N2'], [14130.0, 30.0, 'Sleep stage N2'], [14160.0, 30.0, 'Sleep stage N2'], [14190.0, 30.0, 'Sleep stage N2'], [14220.0, 30.0, 'Sleep stage N2'], [14250.0, 30.0, 'Sleep stage N2'], [14280.0, 30.0, 'Sleep stage N2'], [14310.0, 30.0, 'Sleep stage N1'], [14340.0, 30.0, 'Sleep stage N2'], [14370.0, 30.0, 'Sleep stage N2'], [14400.0, 30.0, 'Sleep stage N2'], [14430.0, 30.0, 'Sleep stage N2'], [14460.0, 30.0, 'Sleep stage N2'], [14490.0, 30.0, 'Sleep stage N2'], [14520.0, 30.0, 'Sleep stage N2'], [14550.0, 30.0, 'Sleep stage N2'], [14580.0, 30.0, 'Sleep stage N2'], [14610.0, 30.0, 'Sleep stage N2'], [14640.0, 30.0, 'Sleep stage N2'], [14670.0, 30.0, 'Sleep stage N2'], [14700.0, 30.0, 'Sleep stage N2'], [14730.0, 30.0, 'Sleep stage N2'], [14760.0, 30.0, 'Sleep stage N2'], [14790.0, 30.0, 'Sleep stage N2'], [14820.0, 30.0, 'Sleep stage N2'], [14850.0, 30.0, 'Sleep stage N2'], [14880.0, 30.0, 'Sleep stage N2'], [14910.0, 30.0, 'Sleep stage N2'], [14940.0, 30.0, 'Sleep stage N2'], [14970.0, 30.0, 'Sleep stage N2'], [15000.0, 30.0, 'Sleep stage N2'], [15030.0, 30.0, 'Sleep stage N2'], [15060.0, 30.0, 'Sleep stage N2'], [15090.0, 30.0, 'Sleep stage N2'], [15120.0, 30.0, 'Sleep stage N2'], [15150.0, 30.0, 'Sleep stage N1'], [15180.0, 30.0, 'Sleep stage N2'], [15210.0, 30.0, 'Sleep stage N2'], [15240.0, 30.0, 'Sleep stage N2'], [15270.0, 30.0, 'Sleep stage N2'], [15300.0, 30.0, 'Sleep stage N2'], [15330.0, 30.0, 'Sleep stage N2'], [15360.0, 30.0, 'Sleep stage N2'], [15390.0, 30.0, 'Sleep stage N2'], [15420.0, 30.0, 'Sleep stage N2'], [15450.0, 30.0, 'Sleep stage N2'], [15480.0, 30.0, 'Sleep stage N2'], [15510.0, 30.0, 'Sleep stage N2'], [15540.0, 30.0, 'Sleep stage R'], [15570.0, 30.0, 'Sleep stage R'], [15600.0, 30.0, 'Sleep stage R'], [15630.0, 30.0, 'Sleep stage R'], [15660.0, 30.0, 'Sleep stage R'], [15690.0, 30.0, 'Sleep stage R'], [15720.0, 30.0, 'Sleep stage R'], [15750.0, 30.0, 'Sleep stage R'], [15780.0, 30.0, 'Sleep stage R'], [15810.0, 30.0, 'Sleep stage R'], [15840.0, 30.0, 'Sleep stage R'], [15870.0, 30.0, 'Sleep stage R'], [15900.0, 30.0, 'Sleep stage R'], [15930.0, 30.0, 'Sleep stage R'], [15960.0, 30.0, 'Sleep stage R'], [15990.0, 30.0, 'Sleep stage R'], [16020.0, 30.0, 'Sleep stage R'], [16050.0, 30.0, 'Sleep stage R'], [16080.0, 30.0, 'Sleep stage R'], [16110.0, 30.0, 'Sleep stage R'], [16140.0, 30.0, 'Sleep stage R'], [16170.0, 30.0, 'Sleep stage R'], [16200.0, 30.0, 'Sleep stage R'], [16230.0, 30.0, 'Sleep stage R'], [16260.0, 30.0, 'Sleep stage R'], [16290.0, 30.0, 'Sleep stage R'], [16320.0, 30.0, 'Sleep stage R'], [16350.0, 30.0, 'Sleep stage R'], [16380.0, 30.0, 'Sleep stage N1'], [16410.0, 30.0, 'Sleep stage R'], [16440.0, 30.0, 'Sleep stage R'], [16470.0, 30.0, 'Sleep stage R'], [16500.0, 30.0, 'Sleep stage R'], [16530.0, 30.0, 'Sleep stage R'], [16560.0, 30.0, 'Sleep stage R'], [16590.0, 30.0, 'Sleep stage R'], [16620.0, 30.0, 'Sleep stage R'], [16650.0, 30.0, 'Sleep stage R'], [16680.0, 30.0, 'Sleep stage R'], [16710.0, 30.0, 'Sleep stage R'], [16740.0, 30.0, 'Sleep stage R'], [16770.0, 30.0, 'Sleep stage R'], [16800.0, 30.0, 'Sleep stage R'], [16830.0, 30.0, 'Sleep stage R'], [16860.0, 30.0, 'Sleep stage R'], [16890.0, 30.0, 'Sleep stage R'], [16920.0, 30.0, 'Sleep stage R'], [16950.0, 30.0, 'Sleep stage R'], [16980.0, 30.0, 'Sleep stage R'], [17010.0, 30.0, 'Sleep stage R'], [17040.0, 30.0, 'Sleep stage R'], [17070.0, 30.0, 'Sleep stage R'], [17100.0, 30.0, 'Sleep stage R'], [17130.0, 30.0, 'Sleep stage R'], [17160.0, 30.0, 'Sleep stage R'], [17190.0, 30.0, 'Sleep stage R'], [17220.0, 30.0, 'Sleep stage R'], [17250.0, 30.0, 'Sleep stage W'], [17280.0, 30.0, 'Sleep stage W'], [17310.0, 30.0, 'Sleep stage W'], [17340.0, 30.0, 'Sleep stage W'], [17370.0, 30.0, 'Sleep stage W'], [17400.0, 30.0, 'Sleep stage N1'], [17430.0, 30.0, 'Sleep stage N1'], [17460.0, 30.0, 'Sleep stage N1'], [17490.0, 30.0, 'Sleep stage N1'], [17520.0, 30.0, 'Sleep stage N1'], [17550.0, 30.0, 'Sleep stage N1'], [17580.0, 30.0, 'Sleep stage N1'], [17610.0, 30.0, 'Sleep stage N1'], [17640.0, 30.0, 'Sleep stage N1'], [17670.0, 30.0, 'Sleep stage N1'], [17700.0, 30.0, 'Sleep stage N1'], [17730.0, 30.0, 'Sleep stage N1'], [17760.0, 30.0, 'Sleep stage N2'], [17790.0, 30.0, 'Sleep stage N2'], [17820.0, 30.0, 'Sleep stage N2'], [17850.0, 30.0, 'Sleep stage N2'], [17880.0, 30.0, 'Sleep stage N2'], [17910.0, 30.0, 'Sleep stage N2'], [17940.0, 30.0, 'Sleep stage N2'], [17970.0, 30.0, 'Sleep stage N2'], [18000.0, 30.0, 'Sleep stage N2'], [18030.0, 30.0, 'Sleep stage N2'], [18060.0, 30.0, 'Sleep stage N2'], [18090.0, 30.0, 'Sleep stage N2'], [18120.0, 30.0, 'Sleep stage N2'], [18150.0, 30.0, 'Sleep stage N2'], [18180.0, 30.0, 'Sleep stage N2'], [18210.0, 30.0, 'Sleep stage N2'], [18240.0, 30.0, 'Sleep stage N2'], [18270.0, 30.0, 'Sleep stage N2'], [18300.0, 30.0, 'Sleep stage N2'], [18330.0, 30.0, 'Sleep stage N2'], [18360.0, 30.0, 'Sleep stage N2'], [18390.0, 30.0, 'Sleep stage N2'], [18420.0, 30.0, 'Sleep stage N2'], [18450.0, 30.0, 'Sleep stage N2'], [18480.0, 30.0, 'Sleep stage N2'], [18510.0, 30.0, 'Sleep stage N2'], [18540.0, 30.0, 'Sleep stage N2'], [18570.0, 30.0, 'Sleep stage N2'], [18600.0, 30.0, 'Sleep stage N2'], [18630.0, 30.0, 'Sleep stage N2'], [18660.0, 30.0, 'Sleep stage N2'], [18690.0, 30.0, 'Sleep stage N2'], [18720.0, 30.0, 'Sleep stage N2'], [18750.0, 30.0, 'Sleep stage N2'], [18780.0, 30.0, 'Sleep stage N2'], [18810.0, 30.0, 'Sleep stage N2'], [18840.0, 30.0, 'Sleep stage N2'], [18870.0, 30.0, 'Sleep stage N2'], [18900.0, 30.0, 'Sleep stage N2'], [18930.0, 30.0, 'Sleep stage N2'], [18960.0, 30.0, 'Sleep stage N2'], [18990.0, 30.0, 'Sleep stage N2'], [19020.0, 30.0, 'Sleep stage N2'], [19050.0, 30.0, 'Sleep stage N2'], [19080.0, 30.0, 'Sleep stage N2'], [19110.0, 30.0, 'Sleep stage N2'], [19140.0, 30.0, 'Sleep stage N2'], [19170.0, 30.0, 'Sleep stage N2'], [19200.0, 30.0, 'Sleep stage N2'], [19230.0, 30.0, 'Sleep stage N2'], [19260.0, 30.0, 'Sleep stage N2'], [19290.0, 30.0, 'Sleep stage N2'], [19320.0, 30.0, 'Sleep stage N3'], [19350.0, 30.0, 'Sleep stage N3'], [19380.0, 30.0, 'Sleep stage N3'], [19410.0, 30.0, 'Sleep stage N3'], [19440.0, 30.0, 'Sleep stage N2'], [19470.0, 30.0, 'Sleep stage N3'], [19500.0, 30.0, 'Sleep stage N2'], [19530.0, 30.0, 'Sleep stage N2'], [19560.0, 30.0, 'Sleep stage W'], [19590.0, 30.0, 'Sleep stage W'], [19620.0, 30.0, 'Sleep stage W'], [19650.0, 30.0, 'Sleep stage N1'], [19680.0, 30.0, 'Sleep stage N2'], [19710.0, 30.0, 'Sleep stage N2'], [19740.0, 30.0, 'Sleep stage N2'], [19770.0, 30.0, 'Sleep stage N2'], [19800.0, 30.0, 'Sleep stage N2'], [19830.0, 30.0, 'Sleep stage N2'], [19860.0, 30.0, 'Sleep stage N2'], [19890.0, 30.0, 'Sleep stage N2'], [19920.0, 30.0, 'Sleep stage N2'], [19950.0, 30.0, 'Sleep stage N2'], [19980.0, 30.0, 'Sleep stage N2'], [20010.0, 30.0, 'Sleep stage N2'], [20040.0, 30.0, 'Sleep stage N2'], [20070.0, 30.0, 'Sleep stage N2'], [20100.0, 30.0, 'Sleep stage N2'], [20130.0, 30.0, 'Sleep stage N2'], [20160.0, 30.0, 'Sleep stage N2'], [20190.0, 30.0, 'Sleep stage N2'], [20220.0, 30.0, 'Sleep stage N2'], [20250.0, 30.0, 'Sleep stage N2'], [20280.0, 30.0, 'Sleep stage N2'], [20310.0, 30.0, 'Sleep stage N2'], [20340.0, 30.0, 'Sleep stage N2'], [20370.0, 30.0, 'Sleep stage N2'], [20400.0, 30.0, 'Sleep stage N2'], [20430.0, 30.0, 'Sleep stage N2'], [20460.0, 30.0, 'Sleep stage N2'], [20490.0, 30.0, 'Sleep stage N2'], [20520.0, 30.0, 'Sleep stage N2'], [20550.0, 30.0, 'Sleep stage N2'], [20580.0, 30.0, 'Sleep stage N2'], [20610.0, 30.0, 'Sleep stage N2'], [20640.0, 30.0, 'Sleep stage N2'], [20670.0, 30.0, 'Sleep stage N2'], [20700.0, 30.0, 'Sleep stage R'], [20730.0, 30.0, 'Sleep stage N1'], [20760.0, 30.0, 'Sleep stage N1'], [20790.0, 30.0, 'Sleep stage N1'], [20820.0, 30.0, 'Sleep stage N1'], [20850.0, 30.0, 'Sleep stage N1'], [20880.0, 30.0, 'Sleep stage R'], [20910.0, 30.0, 'Sleep stage R'], [20940.0, 30.0, 'Sleep stage R'], [20970.0, 30.0, 'Sleep stage R'], [21000.0, 30.0, 'Sleep stage R'], [21030.0, 30.0, 'Sleep stage R'], [21060.0, 30.0, 'Sleep stage R'], [21090.0, 30.0, 'Sleep stage R'], [21120.0, 30.0, 'Sleep stage R'], [21150.0, 30.0, 'Sleep stage R'], [21180.0, 30.0, 'Sleep stage R'], [21210.0, 30.0, 'Sleep stage R'], [21240.0, 30.0, 'Sleep stage R'], [21270.0, 30.0, 'Sleep stage R'], [21300.0, 30.0, 'Sleep stage R'], [21330.0, 30.0, 'Sleep stage R'], [21360.0, 30.0, 'Sleep stage R'], [21390.0, 30.0, 'Sleep stage R'], [21420.0, 30.0, 'Sleep stage R'], [21450.0, 30.0, 'Sleep stage R'], [21480.0, 30.0, 'Sleep stage R'], [21510.0, 30.0, 'Sleep stage R'], [21540.0, 30.0, 'Sleep stage R'], [21570.0, 30.0, 'Sleep stage R'], [21600.0, 30.0, 'Sleep stage R'], [21630.0, 30.0, 'Sleep stage R'], [21660.0, 30.0, 'Sleep stage R'], [21690.0, 30.0, 'Sleep stage R'], [21720.0, 30.0, 'Sleep stage R'], [21750.0, 30.0, 'Sleep stage R'], [21780.0, 30.0, 'Sleep stage R'], [21810.0, 30.0, 'Sleep stage R'], [21840.0, 30.0, 'Sleep stage R'], [21870.0, 30.0, 'Sleep stage R'], [21900.0, 30.0, 'Sleep stage R'], [21930.0, 30.0, 'Sleep stage R'], [21960.0, 30.0, 'Sleep stage R'], [21990.0, 30.0, 'Sleep stage R'], [22020.0, 30.0, 'Sleep stage R'], [22050.0, 30.0, 'Sleep stage R'], [22080.0, 30.0, 'Sleep stage R'], [22110.0, 30.0, 'Sleep stage R'], [22140.0, 30.0, 'Sleep stage R'], [22170.0, 30.0, 'Sleep stage R'], [22200.0, 30.0, 'Sleep stage R'], [22230.0, 30.0, 'Sleep stage R'], [22260.0, 30.0, 'Sleep stage R'], [22290.0, 30.0, 'Sleep stage R'], [22320.0, 30.0, 'Sleep stage R'], [22350.0, 30.0, 'Sleep stage R'], [22380.0, 30.0, 'Sleep stage R'], [22410.0, 30.0, 'Sleep stage R'], [22440.0, 30.0, 'Sleep stage R'], [22470.0, 30.0, 'Sleep stage R'], [22500.0, 30.0, 'Sleep stage R'], [22530.0, 30.0, 'Sleep stage R'], [22560.0, 30.0, 'Sleep stage R'], [22590.0, 30.0, 'Sleep stage R'], [22620.0, 30.0, 'Sleep stage N1'], [22650.0, 30.0, 'Sleep stage W'], [22680.0, 30.0, 'Sleep stage N1'], [22710.0, 30.0, 'Sleep stage N1'], [22740.0, 30.0, 'Sleep stage N1'], [22770.0, 30.0, 'Sleep stage N1'], [22800.0, 30.0, 'Sleep stage N1'], [22830.0, 30.0, 'Sleep stage N1'], [22860.0, 30.0, 'Sleep stage N1'], [22890.0, 30.0, 'Sleep stage N2'], [22920.0, 30.0, 'Sleep stage N2'], [22950.0, 30.0, 'Sleep stage N2'], [22980.0, 30.0, 'Sleep stage N2'], [23010.0, 30.0, 'Sleep stage N2'], [23040.0, 30.0, 'Sleep stage N2'], [23070.0, 30.0, 'Sleep stage N2'], [23100.0, 30.0, 'Sleep stage N2'], [23130.0, 30.0, 'Sleep stage N2'], [23160.0, 30.0, 'Sleep stage N1'], [23190.0, 30.0, 'Sleep stage N2'], [23220.0, 30.0, 'Sleep stage N2'], [23250.0, 30.0, 'Sleep stage N1'], [23280.0, 30.0, 'Sleep stage W'], [23310.0, 30.0, 'Sleep stage N1'], [23340.0, 30.0, 'Sleep stage N1'], [23370.0, 30.0, 'Sleep stage W'], [23400.0, 30.0, 'Sleep stage W'], [23430.0, 30.0, 'Sleep stage W'], [23460.0, 30.0, 'Sleep stage W'], [23490.0, 30.0, 'Sleep stage W'], [23520.0, 30.0, 'Sleep stage W'], [23550.0, 30.0, 'Sleep stage W'], [23580.0, 30.0, 'Sleep stage W'], [23610.0, 30.0, 'Sleep stage W'], [23640.0, 30.0, 'Sleep stage W'], [23670.0, 30.0, 'Sleep stage W'], [23700.0, 30.0, 'Sleep stage W'], [23730.0, 30.0, 'Sleep stage W'], [23760.0, 30.0, 'Sleep stage W'], [23790.0, 30.0, 'Sleep stage W'], [23820.0, 30.0, 'Sleep stage W'], [23850.0, 30.0, 'Sleep stage W'], [23880.0, 30.0, 'Sleep stage W'], [23910.0, 30.0, 'Sleep stage N1'], [23940.0, 30.0, 'Sleep stage N1'], [23970.0, 30.0, 'Sleep stage N1'], [24000.0, 30.0, 'Sleep stage N1'], [24030.0, 30.0, 'Sleep stage N1'], [24060.0, 30.0, 'Sleep stage N2'], [24090.0, 30.0, 'Sleep stage N2'], [24120.0, 30.0, 'Sleep stage N2'], [24150.0, 30.0, 'Sleep stage N2'], [24180.0, 30.0, 'Sleep stage N2'], [24210.0, 30.0, 'Sleep stage N2'], [24240.0, 30.0, 'Sleep stage N2'], [24270.0, 30.0, 'Sleep stage N2'], [24300.0, 30.0, 'Sleep stage N2'], [24330.0, 30.0, 'Sleep stage N2'], [24360.0, 30.0, 'Sleep stage N2'], [24390.0, 30.0, 'Sleep stage N2'], [24420.0, 30.0, 'Sleep stage N2'], [24450.0, 30.0, 'Sleep stage N2'], [24480.0, 30.0, 'Sleep stage N2'], [24510.0, 30.0, 'Sleep stage N2'], [24540.0, 30.0, 'Sleep stage N2'], [24570.0, 30.0, 'Sleep stage N2'], [24600.0, 30.0, 'Sleep stage N2'], [24630.0, 30.0, 'Sleep stage N2'], [24660.0, 30.0, 'Sleep stage N2'], [24690.0, 30.0, 'Sleep stage N2'], [24720.0, 30.0, 'Sleep stage N2'], [24750.0, 30.0, 'Sleep stage N2'], [24780.0, 30.0, 'Sleep stage N2'], [24810.0, 30.0, 'Sleep stage N2'], [24840.0, 30.0, 'Sleep stage N2'], [24870.0, 30.0, 'Sleep stage N2'], [24900.0, 30.0, 'Sleep stage N2'], [24930.0, 30.0, 'Sleep stage N2'], [24960.0, 30.0, 'Sleep stage N2'], [24990.0, 30.0, 'Sleep stage N2'], [25020.0, 30.0, 'Sleep stage N2'], [25050.0, 30.0, 'Sleep stage N2'], [25080.0, 30.0, 'Sleep stage N2'], [25110.0, 30.0, 'Sleep stage N2'], [25140.0, 30.0, 'Sleep stage N2'], [25170.0, 30.0, 'Sleep stage N2'], [25200.0, 30.0, 'Sleep stage N2'], [25230.0, 30.0, 'Sleep stage N2'], [25260.0, 30.0, 'Sleep stage N2'], [25290.0, 30.0, 'Sleep stage N2'], [25320.0, 30.0, 'Sleep stage W'], [25350.0, 30.0, 'Sleep stage W'], [25380.0, 30.0, 'Sleep stage W'], [25410.0, 30.0, 'Sleep stage W'], [25440.0, 30.0, 'Sleep stage W'], [25470.0, 30.0, 'Sleep stage W'], [25500.0, 30.0, 'Sleep stage W'], [25530.0, 30.0, 'Sleep stage W'], [25560.0, 30.0, 'Sleep stage W'], [25590.0, 30.0, 'Sleep stage W'], [25618.74, 0.0, 'Lights on@@EEG Fpz-Cz']]})\n",
            "\n",
            "\n",
            "Total signal count: 151\n",
            "Label counts: 151\n"
          ]
        }
      ],
      "source": [
        "data_list = sorted(glob.glob(r_path+'/**')) #이름 순으로 정렬하여 r_path에 있는 데이터의 경로명들 전부 불러와 data_list에 할당\n",
        "\n",
        "l = len(data_list[0]) - 3 #SNxxx.edf로 끝나는 signal데이터와 SNxxx_sleepscoring.edf를 구분하기 위해\n",
        "                          # signal data( 예를 들어 '/content/drive/MyDrive/physionet/HMC/hmc-sleep-staging/recordings/SN002.edf')\n",
        "                          # signal data끼리는 경로명의 문자열길이가 다 같다\n",
        "                          # 하지만 label data는 'sleepscoring.edf'로 끝나 signal data의 경로명과 문자열 길이가 다름\n",
        "                          # signal data들만 따로 모아 리스트에 담기 위해서는 siganl data의 경로명 문자열 길이에서 3을 뺀것이\"edf\"가 되는 것들만 모아야됨\n",
        "\n",
        "print(f'데이터 경로 : {data_list}')\n",
        "print(\"\\n\")\n",
        "\n",
        "# signal data들의 경로를 모두 trains에 리스트에 담고, #train valid test와 헷갈리지 말 것.\n",
        "# labels data들의 경로들은 모두 labels 리스트에 담는다\n",
        "trains = [x for x in data_list if x.startswith('edf',l)] #signal data 경로의 길이에서 3을 뺀 인덱스의 문자가 edf로 끝나면 signal 데이터 리스트에 담는다\n",
        "labels = [x for x in data_list if x.endswith('_sleepscoring.edf')] #경로명이 \"_sleepscoring.edf\"로 끝나면 labels 리스트에 담는다\n",
        "\n",
        "\n",
        "# ram 과부하로 인해 100개 데이터만 사용 하려면 밑에 trains랑 labels 주석처리 지우고 사용\n",
        "#trains = trains[:100]\n",
        "#labels = labels[:100]\n",
        "\n",
        "print(f'signal_data 경로 : {trains}')\n",
        "print(\"\\n\")\n",
        "print(f'label_data 경로 : {labels}')\n",
        "print(\"\\n\")\n",
        "print(f\"첫번째 signal data : {highlevel.read_edf(trains[0],ch_names='ECG')}\")\n",
        "print(\"\\n\")\n",
        "print(f'첫번째 label data : {highlevel.read_edf(labels[0])}')\n",
        "print(\"\\n\")\n",
        "#print(highlevel.read_edf(trains[0],ch_names='ECG',digital=True))\n",
        "#a = highlevel.read_edf(trains[0],ch_names='ECG')\n",
        "#b = highlevel.read_edf(labels[0],ch_names='ECG')\n",
        "#print(type(highlevel.read_edf(trains[0])))\n",
        "#print(type(highlevel.read_edf(labels[0])))\n",
        "\n",
        "print(f\"Total signal count: {len(trains)}\")\n",
        "#print(f\"Label names: {class_names}\")\n",
        "print(f\"Label counts: {len(labels)}\")"
      ]
    },
    {
      "cell_type": "markdown",
      "metadata": {
        "id": "zvWSpvBIInRf"
      },
      "source": [
        "test set 분리 "
      ]
    },
    {
      "cell_type": "code",
      "execution_count": 9,
      "metadata": {
        "colab": {
          "base_uri": "https://localhost:8080/"
        },
        "id": "nUXFwKqzJdPz",
        "outputId": "045b2c5c-ae71-4fa9-a4b8-17b1dcfb7853"
      },
      "outputs": [
        {
          "output_type": "stream",
          "name": "stdout",
          "text": [
            "test_x=['/content/drive/MyDrive/physionet/HMC/hmc-sleep-staging/recordings/SN006.edf', '/content/drive/MyDrive/physionet/HMC/hmc-sleep-staging/recordings/SN012.edf', '/content/drive/MyDrive/physionet/HMC/hmc-sleep-staging/recordings/SN019.edf', '/content/drive/MyDrive/physionet/HMC/hmc-sleep-staging/recordings/SN025.edf', '/content/drive/MyDrive/physionet/HMC/hmc-sleep-staging/recordings/SN031.edf', '/content/drive/MyDrive/physionet/HMC/hmc-sleep-staging/recordings/SN037.edf', '/content/drive/MyDrive/physionet/HMC/hmc-sleep-staging/recordings/SN043.edf', '/content/drive/MyDrive/physionet/HMC/hmc-sleep-staging/recordings/SN049.edf', '/content/drive/MyDrive/physionet/HMC/hmc-sleep-staging/recordings/SN055.edf', '/content/drive/MyDrive/physionet/HMC/hmc-sleep-staging/recordings/SN061.edf', '/content/drive/MyDrive/physionet/HMC/hmc-sleep-staging/recordings/SN068.edf', '/content/drive/MyDrive/physionet/HMC/hmc-sleep-staging/recordings/SN074.edf', '/content/drive/MyDrive/physionet/HMC/hmc-sleep-staging/recordings/SN080.edf', '/content/drive/MyDrive/physionet/HMC/hmc-sleep-staging/recordings/SN086.edf', '/content/drive/MyDrive/physionet/HMC/hmc-sleep-staging/recordings/SN092.edf', '/content/drive/MyDrive/physionet/HMC/hmc-sleep-staging/recordings/SN098.edf', '/content/drive/MyDrive/physionet/HMC/hmc-sleep-staging/recordings/SN104.edf', '/content/drive/MyDrive/physionet/HMC/hmc-sleep-staging/recordings/SN110.edf', '/content/drive/MyDrive/physionet/HMC/hmc-sleep-staging/recordings/SN116.edf', '/content/drive/MyDrive/physionet/HMC/hmc-sleep-staging/recordings/SN122.edf', '/content/drive/MyDrive/physionet/HMC/hmc-sleep-staging/recordings/SN128.edf', '/content/drive/MyDrive/physionet/HMC/hmc-sleep-staging/recordings/SN134.edf', '/content/drive/MyDrive/physionet/HMC/hmc-sleep-staging/recordings/SN141.edf', '/content/drive/MyDrive/physionet/HMC/hmc-sleep-staging/recordings/SN147.edf', '/content/drive/MyDrive/physionet/HMC/hmc-sleep-staging/recordings/SN153.edf']\n",
            "test_y=['/content/drive/MyDrive/physionet/HMC/hmc-sleep-staging/recordings/SN006_sleepscoring.edf', '/content/drive/MyDrive/physionet/HMC/hmc-sleep-staging/recordings/SN012_sleepscoring.edf', '/content/drive/MyDrive/physionet/HMC/hmc-sleep-staging/recordings/SN019_sleepscoring.edf', '/content/drive/MyDrive/physionet/HMC/hmc-sleep-staging/recordings/SN025_sleepscoring.edf', '/content/drive/MyDrive/physionet/HMC/hmc-sleep-staging/recordings/SN031_sleepscoring.edf', '/content/drive/MyDrive/physionet/HMC/hmc-sleep-staging/recordings/SN037_sleepscoring.edf', '/content/drive/MyDrive/physionet/HMC/hmc-sleep-staging/recordings/SN043_sleepscoring.edf', '/content/drive/MyDrive/physionet/HMC/hmc-sleep-staging/recordings/SN049_sleepscoring.edf', '/content/drive/MyDrive/physionet/HMC/hmc-sleep-staging/recordings/SN055_sleepscoring.edf', '/content/drive/MyDrive/physionet/HMC/hmc-sleep-staging/recordings/SN061_sleepscoring.edf', '/content/drive/MyDrive/physionet/HMC/hmc-sleep-staging/recordings/SN068_sleepscoring.edf', '/content/drive/MyDrive/physionet/HMC/hmc-sleep-staging/recordings/SN074_sleepscoring.edf', '/content/drive/MyDrive/physionet/HMC/hmc-sleep-staging/recordings/SN080_sleepscoring.edf', '/content/drive/MyDrive/physionet/HMC/hmc-sleep-staging/recordings/SN086_sleepscoring.edf', '/content/drive/MyDrive/physionet/HMC/hmc-sleep-staging/recordings/SN092_sleepscoring.edf', '/content/drive/MyDrive/physionet/HMC/hmc-sleep-staging/recordings/SN098_sleepscoring.edf', '/content/drive/MyDrive/physionet/HMC/hmc-sleep-staging/recordings/SN104_sleepscoring.edf', '/content/drive/MyDrive/physionet/HMC/hmc-sleep-staging/recordings/SN110_sleepscoring.edf', '/content/drive/MyDrive/physionet/HMC/hmc-sleep-staging/recordings/SN116_sleepscoring.edf', '/content/drive/MyDrive/physionet/HMC/hmc-sleep-staging/recordings/SN122_sleepscoring.edf', '/content/drive/MyDrive/physionet/HMC/hmc-sleep-staging/recordings/SN128_sleepscoring.edf', '/content/drive/MyDrive/physionet/HMC/hmc-sleep-staging/recordings/SN134_sleepscoring.edf', '/content/drive/MyDrive/physionet/HMC/hmc-sleep-staging/recordings/SN141_sleepscoring.edf', '/content/drive/MyDrive/physionet/HMC/hmc-sleep-staging/recordings/SN147_sleepscoring.edf', '/content/drive/MyDrive/physionet/HMC/hmc-sleep-staging/recordings/SN153_sleepscoring.edf']\n"
          ]
        }
      ],
      "source": [
        "#151명 중 약 17%인 25명을 test set으로 선정\n",
        "# 첫번째 데이터부터 151번째 데이터까지 순서대로 6명마다 1명이 testset으로 뽑히도록\n",
        "\n",
        "test_x = []\n",
        "test_y = []\n",
        "test_index_list = []\n",
        "\n",
        "for i in range(len(trains)):\n",
        "  if (i+1) % 6 == 0:\n",
        "    test_x.append(trains[i])\n",
        "    test_y.append(labels[i])\n",
        "    test_index_list.append(i)\n",
        "\n",
        "\n",
        "print(f'test_x={test_x}')   \n",
        "print(f'test_y={test_y}') "
      ]
    },
    {
      "cell_type": "code",
      "execution_count": 10,
      "metadata": {
        "colab": {
          "base_uri": "https://localhost:8080/"
        },
        "id": "EZ1SSGRLG2d9",
        "outputId": "a2d6d73f-db85-4540-9589-2473a997497f"
      },
      "outputs": [
        {
          "output_type": "stream",
          "name": "stdout",
          "text": [
            "분리 후 test_set과 나머지 train_set의 수\n",
            "\n",
            "test_set\n",
            "num_test_x=25\n",
            "num_test_y=25\n",
            "\n",
            "train_set\n",
            "num_trains=126\n",
            "num_label=126\n"
          ]
        }
      ],
      "source": [
        "for i in test_x:\n",
        "  trains.remove(i)\n",
        "for i in test_y:\n",
        "  labels.remove(i)\n",
        "\n",
        "print(\"분리 후 test_set과 나머지 train_set의 수\\n\")\n",
        "print(\"test_set\")\n",
        "print(f'num_test_x={len(test_x)}')   \n",
        "print(f'num_test_y={len(test_y)}\\n')\n",
        "print(\"train_set\")\n",
        "print(f'num_trains={len(trains)}')   \n",
        "print(f'num_label={len(labels)}')  "
      ]
    },
    {
      "cell_type": "code",
      "execution_count": 11,
      "metadata": {
        "colab": {
          "base_uri": "https://localhost:8080/"
        },
        "id": "7mx_D6YqJxU3",
        "outputId": "a1cd8e2c-417f-4302-ea56-81ba77169b0e"
      },
      "outputs": [
        {
          "output_type": "stream",
          "name": "stdout",
          "text": [
            "test_set 목록\n",
            "/content/drive/MyDrive/physionet/HMC/hmc-sleep-staging/recordings/SN006.edf\n",
            "/content/drive/MyDrive/physionet/HMC/hmc-sleep-staging/recordings/SN012.edf\n",
            "/content/drive/MyDrive/physionet/HMC/hmc-sleep-staging/recordings/SN019.edf\n",
            "/content/drive/MyDrive/physionet/HMC/hmc-sleep-staging/recordings/SN025.edf\n",
            "/content/drive/MyDrive/physionet/HMC/hmc-sleep-staging/recordings/SN031.edf\n",
            "/content/drive/MyDrive/physionet/HMC/hmc-sleep-staging/recordings/SN037.edf\n",
            "/content/drive/MyDrive/physionet/HMC/hmc-sleep-staging/recordings/SN043.edf\n",
            "/content/drive/MyDrive/physionet/HMC/hmc-sleep-staging/recordings/SN049.edf\n",
            "/content/drive/MyDrive/physionet/HMC/hmc-sleep-staging/recordings/SN055.edf\n",
            "/content/drive/MyDrive/physionet/HMC/hmc-sleep-staging/recordings/SN061.edf\n",
            "/content/drive/MyDrive/physionet/HMC/hmc-sleep-staging/recordings/SN068.edf\n",
            "/content/drive/MyDrive/physionet/HMC/hmc-sleep-staging/recordings/SN074.edf\n",
            "/content/drive/MyDrive/physionet/HMC/hmc-sleep-staging/recordings/SN080.edf\n",
            "/content/drive/MyDrive/physionet/HMC/hmc-sleep-staging/recordings/SN086.edf\n",
            "/content/drive/MyDrive/physionet/HMC/hmc-sleep-staging/recordings/SN092.edf\n",
            "/content/drive/MyDrive/physionet/HMC/hmc-sleep-staging/recordings/SN098.edf\n",
            "/content/drive/MyDrive/physionet/HMC/hmc-sleep-staging/recordings/SN104.edf\n",
            "/content/drive/MyDrive/physionet/HMC/hmc-sleep-staging/recordings/SN110.edf\n",
            "/content/drive/MyDrive/physionet/HMC/hmc-sleep-staging/recordings/SN116.edf\n",
            "/content/drive/MyDrive/physionet/HMC/hmc-sleep-staging/recordings/SN122.edf\n",
            "/content/drive/MyDrive/physionet/HMC/hmc-sleep-staging/recordings/SN128.edf\n",
            "/content/drive/MyDrive/physionet/HMC/hmc-sleep-staging/recordings/SN134.edf\n",
            "/content/drive/MyDrive/physionet/HMC/hmc-sleep-staging/recordings/SN141.edf\n",
            "/content/drive/MyDrive/physionet/HMC/hmc-sleep-staging/recordings/SN147.edf\n",
            "/content/drive/MyDrive/physionet/HMC/hmc-sleep-staging/recordings/SN153.edf\n"
          ]
        }
      ],
      "source": [
        "print(\"test_set 목록\")\n",
        "for i in test_x:\n",
        "  print(i)"
      ]
    },
    {
      "cell_type": "markdown",
      "metadata": {
        "id": "62-uhO0o-1d-"
      },
      "source": [
        "전체 데이터 전처리(학습에 사용할 데이터셋)"
      ]
    },
    {
      "cell_type": "code",
      "source": [
        "# sampling rate 설정\n",
        "\n",
        "#sample_rate = \"256Hz\"\n",
        "#sample_rate = \"128Hz\"  \n",
        "sample_rate = \"64Hz\"  "
      ],
      "metadata": {
        "id": "yXEzMBGenXzT"
      },
      "execution_count": 16,
      "outputs": []
    },
    {
      "cell_type": "code",
      "execution_count": 17,
      "metadata": {
        "colab": {
          "base_uri": "https://localhost:8080/"
        },
        "id": "Nvuz6EAqKlH5",
        "outputId": "8c023839-3cb8-4859-f8d9-a373e283538c"
      },
      "outputs": [
        {
          "output_type": "stream",
          "name": "stdout",
          "text": [
            "num_matched : 126\n",
            "num_non_matched : 0\n",
            "non_matched_list : []\n",
            "max_length  : 1920\n",
            "min_length : 1920\n",
            "256Hz -> 7680, 128Hz -> 3840, 64Hz -> 1920\n"
          ]
        },
        {
          "output_type": "stream",
          "name": "stderr",
          "text": [
            "IOPub data rate exceeded.\n",
            "The notebook server will temporarily stop sending output\n",
            "to the client in order to avoid crashing it.\n",
            "To change this limit, set the config variable\n",
            "`--NotebookApp.iopub_data_rate_limit`.\n",
            "\n",
            "Current values:\n",
            "NotebookApp.iopub_data_rate_limit=1000000.0 (bytes/sec)\n",
            "NotebookApp.rate_limit_window=3.0 (secs)\n",
            "\n"
          ]
        }
      ],
      "source": [
        "# 한 피험자의 기록데이터에서 annotation이 되어 있지 않은 30초 이내의 remainder 영역을\n",
        "# 제거하기 위한 함수\n",
        "# lst : 한 피험자의 모든 signal sample로 구성된 리스트\n",
        "# n : 샘플주파수 x 30초 (ex 256Hz -> n = 256 x 30)\n",
        "\n",
        "Signals = []\n",
        "Labels = []\n",
        "\n",
        "def remove_remains(lst, n):\n",
        "    removed = [lst[i:i+n] for i in range(0, len(lst), n)]\n",
        "    removed.pop()\n",
        "    return removed\n",
        "\n",
        "match = 0\n",
        "non_match = []\n",
        "length = []\n",
        "\n",
        "if sample_rate == \"256Hz\":\n",
        "  num_sample = 256*30   #7680\n",
        "elif sample_rate == \"128Hz\":\n",
        "  num_sample = 256*30   #3840\n",
        "elif sample_rate == \"64Hz\":\n",
        "  num_sample = 256*30   #1920\n",
        "\n",
        "for i in range(len(trains)):\n",
        "  #print(f'trains[{i}] : {trains[i]}')\n",
        "  #print(f'trains[{i}] : {labels[i]}')\n",
        "\n",
        "  # label data 전처리 (Lights off, Lights on, duration 및 시간 정보 제거하여 수면staging 정보만 남김)\n",
        "  _, _, annotations_header = highlevel.read_edf(labels[i])\n",
        "  ann = annotations_header['annotations']\n",
        "  label = []\n",
        "  for j in range(len(ann)):\n",
        "    s = ann[j][2][0].upper()       #첫 번째 글자가 S인 것만 추출\n",
        "    if s == 'S':                   #Lights off & Lights on 제거\n",
        "      label.append(ann[j][2])\n",
        "  annotations_len = len(label)\n",
        "  \n",
        "  # signal data 전처리\n",
        "  signals, _, signals_header = highlevel.read_edf(trains[i],ch_names='ECG') #ECG신호만 추출\n",
        "  signal = remove_remains(signals[0], num_sample) # 검사 마지막 remains 영역 제거한 후 sample rate에 따라 30초 단위로 나눔\n",
        "  signals_len = len(signal)\n",
        "\n",
        "  #print(f'sinals_len : {signals_len}')\n",
        "  #print(f'annotations_len : {annotations_len}')\n",
        "  #print(\"\\n\")\n",
        "  \n",
        "  if signals_len == annotations_len:     # 30초 단위의 segment수와 label수가 일치해야만 Train data로 사용할 수 있도록\n",
        "    match += 1\n",
        "    \n",
        "    if sample_rate == \"256Hz\":\n",
        "      for sample in range(signals_len):\n",
        "        length.append(len(signal[sample])) #256Hz인 경우의 해당 sample의 segment 수\n",
        "        Signals.append(signal[sample]) #256Hz\n",
        "        Labels.append(label[sample])\n",
        "    elif sample_rate == \"128Hz\": \n",
        "      for sample in range(signals_len):\n",
        "        length.append(len(signal[sample][1::2])) #128Hz인 경우의 해당 sample의 segment 수\n",
        "        Signals.append(signal[sample][1::2]) #128Hz\n",
        "        Labels.append(label[sample])\n",
        "    elif sample_rate == \"64Hz\": \n",
        "      for sample in range(signals_len):\n",
        "        length.append(len(signal[sample][3::4])) #64Hz인 경우의 해당 sample의 segment 수\n",
        "        Signals.append(signal[sample][3::4]) #64Hz\n",
        "        Labels.append(label[sample])\n",
        "\n",
        "  else :\n",
        "    non_match.append((trains[i],labels[i])) \n",
        "\n",
        "# (초당 샘플수 (256HZ)) x 한 구간의 시간 = 256 * 30 = 7680\n",
        "# => 모든 데이터들이 256HZ로 샘플링 되어 있으니 한 구간에 샘플수는 7680이 되어야 하는데 7680이 아닌 것들이 나옴\n",
        "# => 해결해야될 것\n",
        "# => 데이터 담기 전에 모든 signal 데이터에 대해 30초 단위로 딱 끊기게 해야됨\n",
        "# => 레코딩 맨 마지막 부분에 경우 30초가 넘어 남는 부분들이 있는데 이부분 잘라내야됨\n",
        "# => 7680으로 나눠서 나머지 부분 다 잘라내야되는데 이부분 어떻게 할까? ecg_signal =[:7680*(전체 샘플수 // 30초)]\n",
        "print(f'num_matched : {match}')\n",
        "print(f'num_non_matched : {len(non_match)}')\n",
        "print(f'non_matched_list : {non_match}')\n",
        "print(f'max_length  : {max(length)}')\n",
        "print(f'min_length : {min(length)}')\n",
        "print(\"256Hz -> 7680, 128Hz -> 3840, 64Hz -> 1920\")\n",
        "print(f'Signals of 151 subjects  : {Signals}')\n",
        "print(f'Labels of 151 subjects : {Labels}')\n",
        "\n",
        "del non_match\n",
        "del length\n",
        "del label\n",
        "\n",
        "# 5/18\n",
        "# data가 sequential한 data다.\n",
        "# 그렇다면 피험자 단위로 data를 구분해야 의미가 있을 것이다\n",
        "# -> 그렇다면 이작업은 어떻게 진행할 것이고\n",
        "# -> 모델에 입력은 어떻게 하여 학습시킬 것인가..\n",
        "# 256Hz sampling의 경우 -> 총 paramter의 개수 : 모델의 입력 숫자(7680) * 모델의 출력 숫자(5) : 38400개\n",
        "\n",
        "# loss fucntion 정의를 용이하게 하기위해 softmax\n",
        "# loss function 어떻게 정의할 건지가 제일 중요\n",
        "# cross Entropy Loss -> 대소관계가 없는 class를(ex 개,고양이 분류) 맞췄다 아니다를 판단할 때 굉장히 유용한 matric임\n",
        "# loss function은 parameter를 업데이트 하기에 더 유리한 방법\n",
        "# accuracy : \n",
        "# accuracy : Sigma(T)/(Sigma(T) + Sigma(F)) // T, F 모두 개수\n",
        "# 사람한테 정보를 주는 것은 accuracy가 좀 더 나음 (Test inference 단계)\n",
        "\n",
        "\n",
        "#testset -> meta정보가 없으니 특징에 대해 피험자는 random하게 분포?해있다고 가정하고 1~154(151명)에서 대략적으로 일정한 구간마다 하나씩 총 30개의 test data 뽑음 \n",
        "#LSTM\n",
        "\n",
        "#signal = [[SN001],[SN002],...,[SN151]]\n",
        "#[SN001] : [[30초 단위의 segment(7680개의 sample)],[30초 단위의 segment(7680개의 sample)],..,[30초 단위의 segment(7680개의 sample)]]\n",
        "\n",
        "#LSTM을 사용한다면 위와 같은 형태로 바꿔야 될 것 같은데\n",
        "# 현재는 signal : [[30초 단위의 segment(7680개의 sample)],[30초 단위의 segment(7680개의 sample)],..,[30초 단위의 segment(7680개의 sample)]]\n",
        "# 피험자 구분없이 한 리스트에 다 담았음\n",
        "#        label : [Sleep stage W, Sleep stage W, Sleep stage N1]\n",
        "\n"
      ]
    },
    {
      "cell_type": "code",
      "execution_count": 18,
      "metadata": {
        "id": "nQlfjp78WFJA"
      },
      "outputs": [],
      "source": [
        "del data_list\n",
        "del trains\n",
        "del labels\n",
        "del test_index_list"
      ]
    },
    {
      "cell_type": "markdown",
      "metadata": {
        "id": "sCrUYfCBJzhF"
      },
      "source": [
        "##keras 사용할 때 이 셀 부터 \"keras timeseries classification\"전까지의 셀 들은 실행시키지 말 것"
      ]
    },
    {
      "cell_type": "code",
      "execution_count": null,
      "metadata": {
        "colab": {
          "base_uri": "https://localhost:8080/",
          "height": 245
        },
        "id": "wLo11hdGYuzR",
        "outputId": "ba323686-1890-4946-ce87-6c96e9419df5"
      },
      "outputs": [
        {
          "output_type": "error",
          "ename": "NameError",
          "evalue": "ignored",
          "traceback": [
            "\u001b[0;31m---------------------------------------------------------------------------\u001b[0m",
            "\u001b[0;31mNameError\u001b[0m                                 Traceback (most recent call last)",
            "\u001b[0;32m<ipython-input-14-5bdd9728bd3c>\u001b[0m in \u001b[0;36m<module>\u001b[0;34m()\u001b[0m\n\u001b[1;32m      2\u001b[0m \u001b[0;34m\u001b[0m\u001b[0m\n\u001b[1;32m      3\u001b[0m \u001b[0mval_frac\u001b[0m \u001b[0;34m=\u001b[0m \u001b[0;36m0.1\u001b[0m \u001b[0;31m# 전체 데이터 중 valid data의 비율\u001b[0m\u001b[0;34m\u001b[0m\u001b[0;34m\u001b[0m\u001b[0m\n\u001b[0;32m----> 4\u001b[0;31m \u001b[0mlength\u001b[0m \u001b[0;34m=\u001b[0m \u001b[0mlen\u001b[0m\u001b[0;34m(\u001b[0m\u001b[0mtrains\u001b[0m\u001b[0;34m)\u001b[0m \u001b[0;31m# 전체 데이터의 수\u001b[0m\u001b[0;34m\u001b[0m\u001b[0;34m\u001b[0m\u001b[0m\n\u001b[0m\u001b[1;32m      5\u001b[0m \u001b[0mindices\u001b[0m \u001b[0;34m=\u001b[0m \u001b[0mnp\u001b[0m\u001b[0;34m.\u001b[0m\u001b[0marange\u001b[0m\u001b[0;34m(\u001b[0m\u001b[0mlength\u001b[0m\u001b[0;34m)\u001b[0m \u001b[0;31m# ndarray를 생성 length=3으로 설정하면 -> array([0,1,2])가 리턴 됨\u001b[0m\u001b[0;34m\u001b[0m\u001b[0;34m\u001b[0m\u001b[0m\n\u001b[1;32m      6\u001b[0m \u001b[0mnp\u001b[0m\u001b[0;34m.\u001b[0m\u001b[0mrandom\u001b[0m\u001b[0;34m.\u001b[0m\u001b[0mshuffle\u001b[0m\u001b[0;34m(\u001b[0m\u001b[0mindices\u001b[0m\u001b[0;34m)\u001b[0m \u001b[0;31m#배열순서를 random하게 섞음 -> [SN045, SN075, SN112,...] 이런 식으로 섞이도록\u001b[0m\u001b[0;34m\u001b[0m\u001b[0;34m\u001b[0m\u001b[0m\n",
            "\u001b[0;31mNameError\u001b[0m: name 'trains' is not defined"
          ]
        }
      ],
      "source": [
        "# test data 부분 수정했음\n",
        "\n",
        "val_frac = 0.1 # 전체 데이터 중 valid data의 비율\n",
        "length = len(trains) # 전체 데이터의 수\n",
        "indices = np.arange(length) # ndarray를 생성 length=3으로 설정하면 -> array([0,1,2])가 리턴 됨\n",
        "np.random.shuffle(indices) #배열순서를 random하게 섞음 -> [SN045, SN075, SN112,...] 이런 식으로 섞이도록\n",
        "                            # 이부분 지워야되는지 , 학습시킬때마다 valid가 바뀌면 overfitting 됐는지 알 수 없으니까?\n",
        "\n",
        "#val_split = int(val_frac * length) + test_split #10%에 해당하는 데이터와 test data수를 합친 수를 저장  \n",
        "#val_indices = indices[test_split:val_split] #testsplite의 마지막 원소부터 val_split의수 만큼의 원소를 추출\n",
        "\n",
        "val_split = int(val_frac * length)\n",
        "val_indices = indices[:val_split]\n",
        "train_indices = indices[val_split:] # 나머지 인덱스에 해당하는 원소를 모두 train_indices로 저장\n",
        "\n",
        "train_x = [trains[i] for i in train_indices] # signal data들(trains리스트)로부터 인덱싱을 통해 train 데이터셋 추출\n",
        "train_y = [labels[i] for i in train_indices]      # label data들(labels리스트)로부터 train 데이터에 대한 레이블데이터 추출\n",
        "val_x = [trains[i] for i in val_indices]     # signal data들(trains리스트)로부터 인덱싱을 통해 valid 데이터셋 추출\n",
        "val_y = [labels[i] for i in val_indices]          # label data들(labels리스트)로부터 valid 데이터에 대한 레이블데이터 추출\n",
        "\n",
        "# train,valid,test 각 데이터의 수 출력\n",
        "print(\n",
        "    f\"Training count: {len(train_x)}, Validation count: \"\n",
        "    f\"{len(val_x)}\")"
      ]
    },
    {
      "cell_type": "code",
      "execution_count": null,
      "metadata": {
        "colab": {
          "base_uri": "https://localhost:8080/"
        },
        "id": "Tc2Qxv4eoXbx",
        "outputId": "5a7c0b94-f834-46cf-9f12-e9ec3a45d598"
      },
      "outputs": [
        {
          "name": "stdout",
          "output_type": "stream",
          "text": [
            "train_x : /content/drive/MyDrive/physionet/HMC/hmc-sleep-staging/recordings/SN026.edf\n",
            "train_y : /content/drive/MyDrive/physionet/HMC/hmc-sleep-staging/recordings/SN026_sleepscoring.edf\n"
          ]
        }
      ],
      "source": [
        "print(f'train_x : {train_x[3]}')\n",
        "print(f'train_y : {train_y[3]}')"
      ]
    },
    {
      "cell_type": "code",
      "execution_count": null,
      "metadata": {
        "colab": {
          "base_uri": "https://localhost:8080/"
        },
        "id": "kfvsXwcFcj6b",
        "outputId": "6cc1265d-9bc4-4553-8916-1904aa517dcf"
      },
      "outputs": [
        {
          "name": "stdout",
          "output_type": "stream",
          "text": [
            "train_x[0] : /content/drive/MyDrive/physionet/HMC/hmc-sleep-staging/recordings/SN005.edf\n",
            "train_y[0] : /content/drive/MyDrive/physionet/HMC/hmc-sleep-staging/recordings/SN005_sleepscoring.edf\n",
            "signals_len : 959\n",
            "annotations_len : 959\n",
            "\n",
            "\n",
            "train_x[1] : /content/drive/MyDrive/physionet/HMC/hmc-sleep-staging/recordings/SN046.edf\n",
            "train_y[1] : /content/drive/MyDrive/physionet/HMC/hmc-sleep-staging/recordings/SN046_sleepscoring.edf\n",
            "signals_len : 711\n",
            "annotations_len : 711\n",
            "\n",
            "\n",
            "train_x[2] : /content/drive/MyDrive/physionet/HMC/hmc-sleep-staging/recordings/SN082.edf\n",
            "train_y[2] : /content/drive/MyDrive/physionet/HMC/hmc-sleep-staging/recordings/SN082_sleepscoring.edf\n",
            "signals_len : 745\n",
            "annotations_len : 745\n",
            "\n",
            "\n",
            "train_x[3] : /content/drive/MyDrive/physionet/HMC/hmc-sleep-staging/recordings/SN026.edf\n",
            "train_y[3] : /content/drive/MyDrive/physionet/HMC/hmc-sleep-staging/recordings/SN026_sleepscoring.edf\n",
            "signals_len : 883\n",
            "annotations_len : 883\n",
            "\n",
            "\n",
            "train_x[4] : /content/drive/MyDrive/physionet/HMC/hmc-sleep-staging/recordings/SN130.edf\n",
            "train_y[4] : /content/drive/MyDrive/physionet/HMC/hmc-sleep-staging/recordings/SN130_sleepscoring.edf\n",
            "signals_len : 514\n",
            "annotations_len : 514\n",
            "\n",
            "\n",
            "train_x[5] : /content/drive/MyDrive/physionet/HMC/hmc-sleep-staging/recordings/SN121.edf\n",
            "train_y[5] : /content/drive/MyDrive/physionet/HMC/hmc-sleep-staging/recordings/SN121_sleepscoring.edf\n",
            "signals_len : 1083\n",
            "annotations_len : 1083\n",
            "\n",
            "\n",
            "train_x[6] : /content/drive/MyDrive/physionet/HMC/hmc-sleep-staging/recordings/SN007.edf\n",
            "train_y[6] : /content/drive/MyDrive/physionet/HMC/hmc-sleep-staging/recordings/SN007_sleepscoring.edf\n",
            "signals_len : 1034\n",
            "annotations_len : 1034\n",
            "\n",
            "\n",
            "train_x[7] : /content/drive/MyDrive/physionet/HMC/hmc-sleep-staging/recordings/SN093.edf\n",
            "train_y[7] : /content/drive/MyDrive/physionet/HMC/hmc-sleep-staging/recordings/SN093_sleepscoring.edf\n",
            "signals_len : 778\n",
            "annotations_len : 778\n",
            "\n",
            "\n",
            "train_x[8] : /content/drive/MyDrive/physionet/HMC/hmc-sleep-staging/recordings/SN062.edf\n",
            "train_y[8] : /content/drive/MyDrive/physionet/HMC/hmc-sleep-staging/recordings/SN062_sleepscoring.edf\n",
            "signals_len : 470\n",
            "annotations_len : 470\n",
            "\n",
            "\n",
            "train_x[9] : /content/drive/MyDrive/physionet/HMC/hmc-sleep-staging/recordings/SN078.edf\n",
            "train_y[9] : /content/drive/MyDrive/physionet/HMC/hmc-sleep-staging/recordings/SN078_sleepscoring.edf\n",
            "signals_len : 874\n",
            "annotations_len : 874\n",
            "\n",
            "\n",
            "train_x[10] : /content/drive/MyDrive/physionet/HMC/hmc-sleep-staging/recordings/SN063.edf\n",
            "train_y[10] : /content/drive/MyDrive/physionet/HMC/hmc-sleep-staging/recordings/SN063_sleepscoring.edf\n",
            "signals_len : 1240\n",
            "annotations_len : 1240\n",
            "\n",
            "\n",
            "train_x[11] : /content/drive/MyDrive/physionet/HMC/hmc-sleep-staging/recordings/SN024.edf\n",
            "train_y[11] : /content/drive/MyDrive/physionet/HMC/hmc-sleep-staging/recordings/SN024_sleepscoring.edf\n",
            "signals_len : 857\n",
            "annotations_len : 857\n",
            "\n",
            "\n",
            "train_x[12] : /content/drive/MyDrive/physionet/HMC/hmc-sleep-staging/recordings/SN106.edf\n",
            "train_y[12] : /content/drive/MyDrive/physionet/HMC/hmc-sleep-staging/recordings/SN106_sleepscoring.edf\n",
            "signals_len : 675\n",
            "annotations_len : 675\n",
            "\n",
            "\n",
            "train_x[13] : /content/drive/MyDrive/physionet/HMC/hmc-sleep-staging/recordings/SN047.edf\n",
            "train_y[13] : /content/drive/MyDrive/physionet/HMC/hmc-sleep-staging/recordings/SN047_sleepscoring.edf\n",
            "signals_len : 884\n",
            "annotations_len : 884\n",
            "\n",
            "\n",
            "train_x[14] : /content/drive/MyDrive/physionet/HMC/hmc-sleep-staging/recordings/SN027.edf\n",
            "train_y[14] : /content/drive/MyDrive/physionet/HMC/hmc-sleep-staging/recordings/SN027_sleepscoring.edf\n",
            "signals_len : 872\n",
            "annotations_len : 872\n",
            "\n",
            "\n",
            "train_x[15] : /content/drive/MyDrive/physionet/HMC/hmc-sleep-staging/recordings/SN054.edf\n",
            "train_y[15] : /content/drive/MyDrive/physionet/HMC/hmc-sleep-staging/recordings/SN054_sleepscoring.edf\n",
            "signals_len : 498\n",
            "annotations_len : 498\n",
            "\n",
            "\n",
            "train_x[16] : /content/drive/MyDrive/physionet/HMC/hmc-sleep-staging/recordings/SN096.edf\n",
            "train_y[16] : /content/drive/MyDrive/physionet/HMC/hmc-sleep-staging/recordings/SN096_sleepscoring.edf\n",
            "signals_len : 716\n",
            "annotations_len : 716\n",
            "\n",
            "\n",
            "train_x[17] : /content/drive/MyDrive/physionet/HMC/hmc-sleep-staging/recordings/SN118.edf\n",
            "train_y[17] : /content/drive/MyDrive/physionet/HMC/hmc-sleep-staging/recordings/SN118_sleepscoring.edf\n",
            "signals_len : 996\n",
            "annotations_len : 996\n",
            "\n",
            "\n",
            "train_x[18] : /content/drive/MyDrive/physionet/HMC/hmc-sleep-staging/recordings/SN038.edf\n",
            "train_y[18] : /content/drive/MyDrive/physionet/HMC/hmc-sleep-staging/recordings/SN038_sleepscoring.edf\n",
            "signals_len : 927\n",
            "annotations_len : 927\n",
            "\n",
            "\n",
            "train_x[19] : /content/drive/MyDrive/physionet/HMC/hmc-sleep-staging/recordings/SN045.edf\n",
            "train_y[19] : /content/drive/MyDrive/physionet/HMC/hmc-sleep-staging/recordings/SN045_sleepscoring.edf\n",
            "signals_len : 715\n",
            "annotations_len : 715\n",
            "\n",
            "\n",
            "train_x[20] : /content/drive/MyDrive/physionet/HMC/hmc-sleep-staging/recordings/SN083.edf\n",
            "train_y[20] : /content/drive/MyDrive/physionet/HMC/hmc-sleep-staging/recordings/SN083_sleepscoring.edf\n",
            "signals_len : 1087\n",
            "annotations_len : 1087\n",
            "\n",
            "\n",
            "train_x[21] : /content/drive/MyDrive/physionet/HMC/hmc-sleep-staging/recordings/SN018.edf\n",
            "train_y[21] : /content/drive/MyDrive/physionet/HMC/hmc-sleep-staging/recordings/SN018_sleepscoring.edf\n",
            "signals_len : 862\n",
            "annotations_len : 862\n",
            "\n",
            "\n",
            "train_x[22] : /content/drive/MyDrive/physionet/HMC/hmc-sleep-staging/recordings/SN067.edf\n",
            "train_y[22] : /content/drive/MyDrive/physionet/HMC/hmc-sleep-staging/recordings/SN067_sleepscoring.edf\n",
            "signals_len : 966\n",
            "annotations_len : 966\n",
            "\n",
            "\n",
            "train_x[23] : /content/drive/MyDrive/physionet/HMC/hmc-sleep-staging/recordings/SN042.edf\n",
            "train_y[23] : /content/drive/MyDrive/physionet/HMC/hmc-sleep-staging/recordings/SN042_sleepscoring.edf\n",
            "signals_len : 1150\n",
            "annotations_len : 1150\n",
            "\n",
            "\n",
            "train_x[24] : /content/drive/MyDrive/physionet/HMC/hmc-sleep-staging/recordings/SN081.edf\n",
            "train_y[24] : /content/drive/MyDrive/physionet/HMC/hmc-sleep-staging/recordings/SN081_sleepscoring.edf\n",
            "signals_len : 1148\n",
            "annotations_len : 1148\n",
            "\n",
            "\n",
            "train_x[25] : /content/drive/MyDrive/physionet/HMC/hmc-sleep-staging/recordings/SN072.edf\n",
            "train_y[25] : /content/drive/MyDrive/physionet/HMC/hmc-sleep-staging/recordings/SN072_sleepscoring.edf\n",
            "signals_len : 1058\n",
            "annotations_len : 1058\n",
            "\n",
            "\n",
            "train_x[26] : /content/drive/MyDrive/physionet/HMC/hmc-sleep-staging/recordings/SN050.edf\n",
            "train_y[26] : /content/drive/MyDrive/physionet/HMC/hmc-sleep-staging/recordings/SN050_sleepscoring.edf\n",
            "signals_len : 932\n",
            "annotations_len : 932\n",
            "\n",
            "\n",
            "train_x[27] : /content/drive/MyDrive/physionet/HMC/hmc-sleep-staging/recordings/SN131.edf\n",
            "train_y[27] : /content/drive/MyDrive/physionet/HMC/hmc-sleep-staging/recordings/SN131_sleepscoring.edf\n",
            "signals_len : 961\n",
            "annotations_len : 961\n",
            "\n",
            "\n",
            "train_x[28] : /content/drive/MyDrive/physionet/HMC/hmc-sleep-staging/recordings/SN030.edf\n",
            "train_y[28] : /content/drive/MyDrive/physionet/HMC/hmc-sleep-staging/recordings/SN030_sleepscoring.edf\n",
            "signals_len : 1056\n",
            "annotations_len : 1056\n",
            "\n",
            "\n",
            "train_x[29] : /content/drive/MyDrive/physionet/HMC/hmc-sleep-staging/recordings/SN124.edf\n",
            "train_y[29] : /content/drive/MyDrive/physionet/HMC/hmc-sleep-staging/recordings/SN124_sleepscoring.edf\n",
            "signals_len : 1036\n",
            "annotations_len : 1036\n",
            "\n",
            "\n",
            "train_x[30] : /content/drive/MyDrive/physionet/HMC/hmc-sleep-staging/recordings/SN107.edf\n",
            "train_y[30] : /content/drive/MyDrive/physionet/HMC/hmc-sleep-staging/recordings/SN107_sleepscoring.edf\n",
            "signals_len : 753\n",
            "annotations_len : 753\n",
            "\n",
            "\n",
            "train_x[31] : /content/drive/MyDrive/physionet/HMC/hmc-sleep-staging/recordings/SN029.edf\n",
            "train_y[31] : /content/drive/MyDrive/physionet/HMC/hmc-sleep-staging/recordings/SN029_sleepscoring.edf\n",
            "signals_len : 951\n",
            "annotations_len : 951\n",
            "\n",
            "\n",
            "train_x[32] : /content/drive/MyDrive/physionet/HMC/hmc-sleep-staging/recordings/SN034.edf\n",
            "train_y[32] : /content/drive/MyDrive/physionet/HMC/hmc-sleep-staging/recordings/SN034_sleepscoring.edf\n",
            "signals_len : 887\n",
            "annotations_len : 887\n",
            "\n",
            "\n",
            "train_x[33] : /content/drive/MyDrive/physionet/HMC/hmc-sleep-staging/recordings/SN016.edf\n",
            "train_y[33] : /content/drive/MyDrive/physionet/HMC/hmc-sleep-staging/recordings/SN016_sleepscoring.edf\n",
            "signals_len : 1088\n",
            "annotations_len : 1088\n",
            "\n",
            "\n",
            "train_x[34] : /content/drive/MyDrive/physionet/HMC/hmc-sleep-staging/recordings/SN099.edf\n",
            "train_y[34] : /content/drive/MyDrive/physionet/HMC/hmc-sleep-staging/recordings/SN099_sleepscoring.edf\n",
            "signals_len : 847\n",
            "annotations_len : 847\n",
            "\n",
            "\n",
            "train_x[35] : /content/drive/MyDrive/physionet/HMC/hmc-sleep-staging/recordings/SN111.edf\n",
            "train_y[35] : /content/drive/MyDrive/physionet/HMC/hmc-sleep-staging/recordings/SN111_sleepscoring.edf\n",
            "signals_len : 1077\n",
            "annotations_len : 1077\n",
            "\n",
            "\n",
            "train_x[36] : /content/drive/MyDrive/physionet/HMC/hmc-sleep-staging/recordings/SN088.edf\n",
            "train_y[36] : /content/drive/MyDrive/physionet/HMC/hmc-sleep-staging/recordings/SN088_sleepscoring.edf\n",
            "signals_len : 1006\n",
            "annotations_len : 1006\n",
            "\n",
            "\n",
            "train_x[37] : /content/drive/MyDrive/physionet/HMC/hmc-sleep-staging/recordings/SN097.edf\n",
            "train_y[37] : /content/drive/MyDrive/physionet/HMC/hmc-sleep-staging/recordings/SN097_sleepscoring.edf\n",
            "signals_len : 1050\n",
            "annotations_len : 1050\n",
            "\n",
            "\n",
            "train_x[38] : /content/drive/MyDrive/physionet/HMC/hmc-sleep-staging/recordings/SN010.edf\n",
            "train_y[38] : /content/drive/MyDrive/physionet/HMC/hmc-sleep-staging/recordings/SN010_sleepscoring.edf\n",
            "signals_len : 924\n",
            "annotations_len : 924\n",
            "\n",
            "\n",
            "train_x[39] : /content/drive/MyDrive/physionet/HMC/hmc-sleep-staging/recordings/SN101.edf\n",
            "train_y[39] : /content/drive/MyDrive/physionet/HMC/hmc-sleep-staging/recordings/SN101_sleepscoring.edf\n",
            "signals_len : 919\n",
            "annotations_len : 919\n",
            "\n",
            "\n",
            "train_x[40] : /content/drive/MyDrive/physionet/HMC/hmc-sleep-staging/recordings/SN129.edf\n",
            "train_y[40] : /content/drive/MyDrive/physionet/HMC/hmc-sleep-staging/recordings/SN129_sleepscoring.edf\n",
            "signals_len : 864\n",
            "annotations_len : 864\n",
            "\n",
            "\n",
            "train_x[41] : /content/drive/MyDrive/physionet/HMC/hmc-sleep-staging/recordings/SN079.edf\n",
            "train_y[41] : /content/drive/MyDrive/physionet/HMC/hmc-sleep-staging/recordings/SN079_sleepscoring.edf\n",
            "signals_len : 1117\n",
            "annotations_len : 1117\n",
            "\n",
            "\n",
            "train_x[42] : /content/drive/MyDrive/physionet/HMC/hmc-sleep-staging/recordings/SN003.edf\n",
            "train_y[42] : /content/drive/MyDrive/physionet/HMC/hmc-sleep-staging/recordings/SN003_sleepscoring.edf\n",
            "signals_len : 954\n",
            "annotations_len : 954\n",
            "\n",
            "\n",
            "train_x[43] : /content/drive/MyDrive/physionet/HMC/hmc-sleep-staging/recordings/SN137.edf\n",
            "train_y[43] : /content/drive/MyDrive/physionet/HMC/hmc-sleep-staging/recordings/SN137_sleepscoring.edf\n",
            "signals_len : 1069\n",
            "annotations_len : 1069\n",
            "\n",
            "\n",
            "train_x[44] : /content/drive/MyDrive/physionet/HMC/hmc-sleep-staging/recordings/SN077.edf\n",
            "train_y[44] : /content/drive/MyDrive/physionet/HMC/hmc-sleep-staging/recordings/SN077_sleepscoring.edf\n",
            "signals_len : 854\n",
            "annotations_len : 854\n",
            "\n",
            "\n",
            "train_x[45] : /content/drive/MyDrive/physionet/HMC/hmc-sleep-staging/recordings/SN120.edf\n",
            "train_y[45] : /content/drive/MyDrive/physionet/HMC/hmc-sleep-staging/recordings/SN120_sleepscoring.edf\n",
            "signals_len : 813\n",
            "annotations_len : 813\n",
            "\n",
            "\n",
            "train_x[46] : /content/drive/MyDrive/physionet/HMC/hmc-sleep-staging/recordings/SN058.edf\n",
            "train_y[46] : /content/drive/MyDrive/physionet/HMC/hmc-sleep-staging/recordings/SN058_sleepscoring.edf\n",
            "signals_len : 1049\n",
            "annotations_len : 1049\n",
            "\n",
            "\n",
            "train_x[47] : /content/drive/MyDrive/physionet/HMC/hmc-sleep-staging/recordings/SN044.edf\n",
            "train_y[47] : /content/drive/MyDrive/physionet/HMC/hmc-sleep-staging/recordings/SN044_sleepscoring.edf\n",
            "signals_len : 971\n",
            "annotations_len : 971\n",
            "\n",
            "\n",
            "train_x[48] : /content/drive/MyDrive/physionet/HMC/hmc-sleep-staging/recordings/SN150.edf\n",
            "train_y[48] : /content/drive/MyDrive/physionet/HMC/hmc-sleep-staging/recordings/SN150_sleepscoring.edf\n",
            "signals_len : 589\n",
            "annotations_len : 589\n",
            "\n",
            "\n",
            "train_x[49] : /content/drive/MyDrive/physionet/HMC/hmc-sleep-staging/recordings/SN073.edf\n",
            "train_y[49] : /content/drive/MyDrive/physionet/HMC/hmc-sleep-staging/recordings/SN073_sleepscoring.edf\n",
            "signals_len : 891\n",
            "annotations_len : 891\n",
            "\n",
            "\n",
            "train_x[50] : /content/drive/MyDrive/physionet/HMC/hmc-sleep-staging/recordings/SN125.edf\n",
            "train_y[50] : /content/drive/MyDrive/physionet/HMC/hmc-sleep-staging/recordings/SN125_sleepscoring.edf\n",
            "signals_len : 1202\n",
            "annotations_len : 1202\n",
            "\n",
            "\n",
            "train_x[51] : /content/drive/MyDrive/physionet/HMC/hmc-sleep-staging/recordings/SN051.edf\n",
            "train_y[51] : /content/drive/MyDrive/physionet/HMC/hmc-sleep-staging/recordings/SN051_sleepscoring.edf\n",
            "signals_len : 929\n",
            "annotations_len : 929\n",
            "\n",
            "\n",
            "train_x[52] : /content/drive/MyDrive/physionet/HMC/hmc-sleep-staging/recordings/SN060.edf\n",
            "train_y[52] : /content/drive/MyDrive/physionet/HMC/hmc-sleep-staging/recordings/SN060_sleepscoring.edf\n",
            "signals_len : 942\n",
            "annotations_len : 942\n",
            "\n",
            "\n",
            "train_x[53] : /content/drive/MyDrive/physionet/HMC/hmc-sleep-staging/recordings/SN133.edf\n",
            "train_y[53] : /content/drive/MyDrive/physionet/HMC/hmc-sleep-staging/recordings/SN133_sleepscoring.edf\n",
            "signals_len : 995\n",
            "annotations_len : 995\n",
            "\n",
            "\n",
            "train_x[54] : /content/drive/MyDrive/physionet/HMC/hmc-sleep-staging/recordings/SN035.edf\n",
            "train_y[54] : /content/drive/MyDrive/physionet/HMC/hmc-sleep-staging/recordings/SN035_sleepscoring.edf\n",
            "signals_len : 996\n",
            "annotations_len : 996\n",
            "\n",
            "\n",
            "train_x[55] : /content/drive/MyDrive/physionet/HMC/hmc-sleep-staging/recordings/SN139.edf\n",
            "train_y[55] : /content/drive/MyDrive/physionet/HMC/hmc-sleep-staging/recordings/SN139_sleepscoring.edf\n",
            "signals_len : 732\n",
            "annotations_len : 732\n",
            "\n",
            "\n",
            "train_x[56] : /content/drive/MyDrive/physionet/HMC/hmc-sleep-staging/recordings/SN039.edf\n",
            "train_y[56] : /content/drive/MyDrive/physionet/HMC/hmc-sleep-staging/recordings/SN039_sleepscoring.edf\n",
            "signals_len : 887\n",
            "annotations_len : 887\n",
            "\n",
            "\n",
            "train_x[57] : /content/drive/MyDrive/physionet/HMC/hmc-sleep-staging/recordings/SN021.edf\n",
            "train_y[57] : /content/drive/MyDrive/physionet/HMC/hmc-sleep-staging/recordings/SN021_sleepscoring.edf\n",
            "signals_len : 956\n",
            "annotations_len : 956\n",
            "\n",
            "\n",
            "train_x[58] : /content/drive/MyDrive/physionet/HMC/hmc-sleep-staging/recordings/SN069.edf\n",
            "train_y[58] : /content/drive/MyDrive/physionet/HMC/hmc-sleep-staging/recordings/SN069_sleepscoring.edf\n",
            "signals_len : 737\n",
            "annotations_len : 737\n",
            "\n",
            "\n",
            "train_x[59] : /content/drive/MyDrive/physionet/HMC/hmc-sleep-staging/recordings/SN017.edf\n",
            "train_y[59] : /content/drive/MyDrive/physionet/HMC/hmc-sleep-staging/recordings/SN017_sleepscoring.edf\n",
            "signals_len : 1114\n",
            "annotations_len : 1114\n",
            "\n",
            "\n",
            "train_x[60] : /content/drive/MyDrive/physionet/HMC/hmc-sleep-staging/recordings/SN115.edf\n",
            "train_y[60] : /content/drive/MyDrive/physionet/HMC/hmc-sleep-staging/recordings/SN115_sleepscoring.edf\n",
            "signals_len : 857\n",
            "annotations_len : 857\n",
            "\n",
            "\n",
            "train_x[61] : /content/drive/MyDrive/physionet/HMC/hmc-sleep-staging/recordings/SN056.edf\n",
            "train_y[61] : /content/drive/MyDrive/physionet/HMC/hmc-sleep-staging/recordings/SN056_sleepscoring.edf\n",
            "signals_len : 1153\n",
            "annotations_len : 1153\n",
            "\n",
            "\n",
            "train_x[62] : /content/drive/MyDrive/physionet/HMC/hmc-sleep-staging/recordings/SN036.edf\n",
            "train_y[62] : /content/drive/MyDrive/physionet/HMC/hmc-sleep-staging/recordings/SN036_sleepscoring.edf\n",
            "signals_len : 808\n",
            "annotations_len : 808\n",
            "\n",
            "\n",
            "train_x[63] : /content/drive/MyDrive/physionet/HMC/hmc-sleep-staging/recordings/SN002.edf\n",
            "train_y[63] : /content/drive/MyDrive/physionet/HMC/hmc-sleep-staging/recordings/SN002_sleepscoring.edf\n",
            "signals_len : 856\n",
            "annotations_len : 856\n",
            "\n",
            "\n",
            "train_x[64] : /content/drive/MyDrive/physionet/HMC/hmc-sleep-staging/recordings/SN041.edf\n",
            "train_y[64] : /content/drive/MyDrive/physionet/HMC/hmc-sleep-staging/recordings/SN041_sleepscoring.edf\n",
            "signals_len : 837\n",
            "annotations_len : 837\n",
            "\n",
            "\n",
            "train_x[65] : /content/drive/MyDrive/physionet/HMC/hmc-sleep-staging/recordings/SN152.edf\n",
            "train_y[65] : /content/drive/MyDrive/physionet/HMC/hmc-sleep-staging/recordings/SN152_sleepscoring.edf\n",
            "signals_len : 999\n",
            "annotations_len : 999\n",
            "\n",
            "\n",
            "train_x[66] : /content/drive/MyDrive/physionet/HMC/hmc-sleep-staging/recordings/SN022.edf\n",
            "train_y[66] : /content/drive/MyDrive/physionet/HMC/hmc-sleep-staging/recordings/SN022_sleepscoring.edf\n",
            "signals_len : 1002\n",
            "annotations_len : 1002\n",
            "\n",
            "\n",
            "train_x[67] : /content/drive/MyDrive/physionet/HMC/hmc-sleep-staging/recordings/SN154.edf\n",
            "train_y[67] : /content/drive/MyDrive/physionet/HMC/hmc-sleep-staging/recordings/SN154_sleepscoring.edf\n",
            "signals_len : 1003\n",
            "annotations_len : 1003\n",
            "\n",
            "\n",
            "train_x[68] : /content/drive/MyDrive/physionet/HMC/hmc-sleep-staging/recordings/SN087.edf\n",
            "train_y[68] : /content/drive/MyDrive/physionet/HMC/hmc-sleep-staging/recordings/SN087_sleepscoring.edf\n",
            "signals_len : 835\n",
            "annotations_len : 835\n",
            "\n",
            "\n",
            "train_x[69] : /content/drive/MyDrive/physionet/HMC/hmc-sleep-staging/recordings/SN113.edf\n",
            "train_y[69] : /content/drive/MyDrive/physionet/HMC/hmc-sleep-staging/recordings/SN113_sleepscoring.edf\n",
            "signals_len : 892\n",
            "annotations_len : 892\n",
            "\n",
            "\n",
            "train_x[70] : /content/drive/MyDrive/physionet/HMC/hmc-sleep-staging/recordings/SN011.edf\n",
            "train_y[70] : /content/drive/MyDrive/physionet/HMC/hmc-sleep-staging/recordings/SN011_sleepscoring.edf\n",
            "signals_len : 1141\n",
            "annotations_len : 1141\n",
            "\n",
            "\n",
            "train_x[71] : /content/drive/MyDrive/physionet/HMC/hmc-sleep-staging/recordings/SN065.edf\n",
            "train_y[71] : /content/drive/MyDrive/physionet/HMC/hmc-sleep-staging/recordings/SN065_sleepscoring.edf\n",
            "signals_len : 1039\n",
            "annotations_len : 1039\n",
            "\n",
            "\n",
            "train_x[72] : /content/drive/MyDrive/physionet/HMC/hmc-sleep-staging/recordings/SN009.edf\n",
            "train_y[72] : /content/drive/MyDrive/physionet/HMC/hmc-sleep-staging/recordings/SN009_sleepscoring.edf\n",
            "signals_len : 901\n",
            "annotations_len : 901\n",
            "\n",
            "\n",
            "train_x[73] : /content/drive/MyDrive/physionet/HMC/hmc-sleep-staging/recordings/SN126.edf\n",
            "train_y[73] : /content/drive/MyDrive/physionet/HMC/hmc-sleep-staging/recordings/SN126_sleepscoring.edf\n",
            "signals_len : 799\n",
            "annotations_len : 799\n",
            "\n",
            "\n",
            "train_x[74] : /content/drive/MyDrive/physionet/HMC/hmc-sleep-staging/recordings/SN112.edf\n",
            "train_y[74] : /content/drive/MyDrive/physionet/HMC/hmc-sleep-staging/recordings/SN112_sleepscoring.edf\n",
            "signals_len : 848\n",
            "annotations_len : 848\n",
            "\n",
            "\n",
            "train_x[75] : /content/drive/MyDrive/physionet/HMC/hmc-sleep-staging/recordings/SN105.edf\n",
            "train_y[75] : /content/drive/MyDrive/physionet/HMC/hmc-sleep-staging/recordings/SN105_sleepscoring.edf\n",
            "signals_len : 838\n",
            "annotations_len : 838\n",
            "\n",
            "\n",
            "train_x[76] : /content/drive/MyDrive/physionet/HMC/hmc-sleep-staging/recordings/SN052.edf\n",
            "train_y[76] : /content/drive/MyDrive/physionet/HMC/hmc-sleep-staging/recordings/SN052_sleepscoring.edf\n",
            "signals_len : 1011\n",
            "annotations_len : 1011\n",
            "\n",
            "\n",
            "train_x[77] : /content/drive/MyDrive/physionet/HMC/hmc-sleep-staging/recordings/SN091.edf\n",
            "train_y[77] : /content/drive/MyDrive/physionet/HMC/hmc-sleep-staging/recordings/SN091_sleepscoring.edf\n",
            "signals_len : 752\n",
            "annotations_len : 752\n",
            "\n",
            "\n",
            "train_x[78] : /content/drive/MyDrive/physionet/HMC/hmc-sleep-staging/recordings/SN004.edf\n",
            "train_y[78] : /content/drive/MyDrive/physionet/HMC/hmc-sleep-staging/recordings/SN004_sleepscoring.edf\n",
            "signals_len : 1016\n",
            "annotations_len : 1016\n",
            "\n",
            "\n",
            "train_x[79] : /content/drive/MyDrive/physionet/HMC/hmc-sleep-staging/recordings/SN138.edf\n",
            "train_y[79] : /content/drive/MyDrive/physionet/HMC/hmc-sleep-staging/recordings/SN138_sleepscoring.edf\n",
            "signals_len : 1120\n",
            "annotations_len : 1120\n",
            "\n",
            "\n",
            "train_x[80] : /content/drive/MyDrive/physionet/HMC/hmc-sleep-staging/recordings/SN033.edf\n",
            "train_y[80] : /content/drive/MyDrive/physionet/HMC/hmc-sleep-staging/recordings/SN033_sleepscoring.edf\n",
            "signals_len : 522\n",
            "annotations_len : 522\n",
            "\n",
            "\n",
            "train_x[81] : /content/drive/MyDrive/physionet/HMC/hmc-sleep-staging/recordings/SN103.edf\n",
            "train_y[81] : /content/drive/MyDrive/physionet/HMC/hmc-sleep-staging/recordings/SN103_sleepscoring.edf\n",
            "signals_len : 984\n",
            "annotations_len : 984\n",
            "\n",
            "\n",
            "train_x[82] : /content/drive/MyDrive/physionet/HMC/hmc-sleep-staging/recordings/SN149.edf\n",
            "train_y[82] : /content/drive/MyDrive/physionet/HMC/hmc-sleep-staging/recordings/SN149_sleepscoring.edf\n",
            "signals_len : 863\n",
            "annotations_len : 863\n",
            "\n",
            "\n",
            "train_x[83] : /content/drive/MyDrive/physionet/HMC/hmc-sleep-staging/recordings/SN071.edf\n",
            "train_y[83] : /content/drive/MyDrive/physionet/HMC/hmc-sleep-staging/recordings/SN071_sleepscoring.edf\n",
            "signals_len : 1090\n",
            "annotations_len : 1090\n",
            "\n",
            "\n",
            "train_x[84] : /content/drive/MyDrive/physionet/HMC/hmc-sleep-staging/recordings/SN127.edf\n",
            "train_y[84] : /content/drive/MyDrive/physionet/HMC/hmc-sleep-staging/recordings/SN127_sleepscoring.edf\n",
            "signals_len : 961\n",
            "annotations_len : 961\n",
            "\n",
            "\n",
            "train_x[85] : /content/drive/MyDrive/physionet/HMC/hmc-sleep-staging/recordings/SN048.edf\n",
            "train_y[85] : /content/drive/MyDrive/physionet/HMC/hmc-sleep-staging/recordings/SN048_sleepscoring.edf\n",
            "signals_len : 1256\n",
            "annotations_len : 1256\n",
            "\n",
            "\n",
            "train_x[86] : /content/drive/MyDrive/physionet/HMC/hmc-sleep-staging/recordings/SN117.edf\n",
            "train_y[86] : /content/drive/MyDrive/physionet/HMC/hmc-sleep-staging/recordings/SN117_sleepscoring.edf\n",
            "signals_len : 761\n",
            "annotations_len : 761\n",
            "\n",
            "\n",
            "train_x[87] : /content/drive/MyDrive/physionet/HMC/hmc-sleep-staging/recordings/SN114.edf\n",
            "train_y[87] : /content/drive/MyDrive/physionet/HMC/hmc-sleep-staging/recordings/SN114_sleepscoring.edf\n",
            "signals_len : 609\n",
            "annotations_len : 609\n",
            "\n",
            "\n",
            "train_x[88] : /content/drive/MyDrive/physionet/HMC/hmc-sleep-staging/recordings/SN151.edf\n",
            "train_y[88] : /content/drive/MyDrive/physionet/HMC/hmc-sleep-staging/recordings/SN151_sleepscoring.edf\n",
            "signals_len : 844\n",
            "annotations_len : 844\n",
            "\n",
            "\n",
            "train_x[89] : /content/drive/MyDrive/physionet/HMC/hmc-sleep-staging/recordings/SN140.edf\n",
            "train_y[89] : /content/drive/MyDrive/physionet/HMC/hmc-sleep-staging/recordings/SN140_sleepscoring.edf\n",
            "signals_len : 1311\n",
            "annotations_len : 1311\n",
            "\n",
            "\n",
            "train_x[90] : /content/drive/MyDrive/physionet/HMC/hmc-sleep-staging/recordings/SN136.edf\n",
            "train_y[90] : /content/drive/MyDrive/physionet/HMC/hmc-sleep-staging/recordings/SN136_sleepscoring.edf\n",
            "signals_len : 696\n",
            "annotations_len : 696\n",
            "\n",
            "\n",
            "train_x[91] : /content/drive/MyDrive/physionet/HMC/hmc-sleep-staging/recordings/SN008.edf\n",
            "train_y[91] : /content/drive/MyDrive/physionet/HMC/hmc-sleep-staging/recordings/SN008_sleepscoring.edf\n",
            "signals_len : 847\n",
            "annotations_len : 847\n",
            "\n",
            "\n",
            "train_x[92] : /content/drive/MyDrive/physionet/HMC/hmc-sleep-staging/recordings/SN119.edf\n",
            "train_y[92] : /content/drive/MyDrive/physionet/HMC/hmc-sleep-staging/recordings/SN119_sleepscoring.edf\n",
            "signals_len : 916\n",
            "annotations_len : 916\n",
            "\n",
            "\n",
            "train_x[93] : /content/drive/MyDrive/physionet/HMC/hmc-sleep-staging/recordings/SN020.edf\n",
            "train_y[93] : /content/drive/MyDrive/physionet/HMC/hmc-sleep-staging/recordings/SN020_sleepscoring.edf\n",
            "signals_len : 948\n",
            "annotations_len : 948\n",
            "\n",
            "\n",
            "train_x[94] : /content/drive/MyDrive/physionet/HMC/hmc-sleep-staging/recordings/SN032.edf\n",
            "train_y[94] : /content/drive/MyDrive/physionet/HMC/hmc-sleep-staging/recordings/SN032_sleepscoring.edf\n",
            "signals_len : 1188\n",
            "annotations_len : 1188\n",
            "\n",
            "\n",
            "train_x[95] : /content/drive/MyDrive/physionet/HMC/hmc-sleep-staging/recordings/SN076.edf\n",
            "train_y[95] : /content/drive/MyDrive/physionet/HMC/hmc-sleep-staging/recordings/SN076_sleepscoring.edf\n",
            "signals_len : 687\n",
            "annotations_len : 687\n",
            "\n",
            "\n",
            "train_x[96] : /content/drive/MyDrive/physionet/HMC/hmc-sleep-staging/recordings/SN085.edf\n",
            "train_y[96] : /content/drive/MyDrive/physionet/HMC/hmc-sleep-staging/recordings/SN085_sleepscoring.edf\n",
            "signals_len : 1006\n",
            "annotations_len : 1006\n",
            "\n",
            "\n",
            "train_x[97] : /content/drive/MyDrive/physionet/HMC/hmc-sleep-staging/recordings/SN094.edf\n",
            "train_y[97] : /content/drive/MyDrive/physionet/HMC/hmc-sleep-staging/recordings/SN094_sleepscoring.edf\n",
            "signals_len : 1050\n",
            "annotations_len : 1050\n",
            "\n",
            "\n",
            "train_x[98] : /content/drive/MyDrive/physionet/HMC/hmc-sleep-staging/recordings/SN123.edf\n",
            "train_y[98] : /content/drive/MyDrive/physionet/HMC/hmc-sleep-staging/recordings/SN123_sleepscoring.edf\n",
            "signals_len : 749\n",
            "annotations_len : 749\n",
            "\n",
            "\n",
            "train_x[99] : /content/drive/MyDrive/physionet/HMC/hmc-sleep-staging/recordings/SN143.edf\n",
            "train_y[99] : /content/drive/MyDrive/physionet/HMC/hmc-sleep-staging/recordings/SN143_sleepscoring.edf\n",
            "signals_len : 942\n",
            "annotations_len : 942\n",
            "\n",
            "\n",
            "train_x[100] : /content/drive/MyDrive/physionet/HMC/hmc-sleep-staging/recordings/SN040.edf\n",
            "train_y[100] : /content/drive/MyDrive/physionet/HMC/hmc-sleep-staging/recordings/SN040_sleepscoring.edf\n",
            "signals_len : 801\n",
            "annotations_len : 801\n",
            "\n",
            "\n",
            "train_x[101] : /content/drive/MyDrive/physionet/HMC/hmc-sleep-staging/recordings/SN057.edf\n",
            "train_y[101] : /content/drive/MyDrive/physionet/HMC/hmc-sleep-staging/recordings/SN057_sleepscoring.edf\n",
            "signals_len : 776\n",
            "annotations_len : 776\n",
            "\n",
            "\n",
            "train_x[102] : /content/drive/MyDrive/physionet/HMC/hmc-sleep-staging/recordings/SN095.edf\n",
            "train_y[102] : /content/drive/MyDrive/physionet/HMC/hmc-sleep-staging/recordings/SN095_sleepscoring.edf\n",
            "signals_len : 862\n",
            "annotations_len : 862\n",
            "\n",
            "\n",
            "train_x[103] : /content/drive/MyDrive/physionet/HMC/hmc-sleep-staging/recordings/SN023.edf\n",
            "train_y[103] : /content/drive/MyDrive/physionet/HMC/hmc-sleep-staging/recordings/SN023_sleepscoring.edf\n",
            "signals_len : 791\n",
            "annotations_len : 791\n",
            "\n",
            "\n",
            "train_x[104] : /content/drive/MyDrive/physionet/HMC/hmc-sleep-staging/recordings/SN146.edf\n",
            "train_y[104] : /content/drive/MyDrive/physionet/HMC/hmc-sleep-staging/recordings/SN146_sleepscoring.edf\n",
            "signals_len : 1022\n",
            "annotations_len : 1022\n",
            "\n",
            "\n",
            "train_x[105] : /content/drive/MyDrive/physionet/HMC/hmc-sleep-staging/recordings/SN001.edf\n",
            "train_y[105] : /content/drive/MyDrive/physionet/HMC/hmc-sleep-staging/recordings/SN001_sleepscoring.edf\n",
            "signals_len : 854\n",
            "annotations_len : 854\n",
            "\n",
            "\n",
            "train_x[106] : /content/drive/MyDrive/physionet/HMC/hmc-sleep-staging/recordings/SN148.edf\n",
            "train_y[106] : /content/drive/MyDrive/physionet/HMC/hmc-sleep-staging/recordings/SN148_sleepscoring.edf\n",
            "signals_len : 866\n",
            "annotations_len : 866\n",
            "\n",
            "\n",
            "train_x[107] : /content/drive/MyDrive/physionet/HMC/hmc-sleep-staging/recordings/SN145.edf\n",
            "train_y[107] : /content/drive/MyDrive/physionet/HMC/hmc-sleep-staging/recordings/SN145_sleepscoring.edf\n",
            "signals_len : 785\n",
            "annotations_len : 785\n",
            "\n",
            "\n",
            "train_x[108] : /content/drive/MyDrive/physionet/HMC/hmc-sleep-staging/recordings/SN084.edf\n",
            "train_y[108] : /content/drive/MyDrive/physionet/HMC/hmc-sleep-staging/recordings/SN084_sleepscoring.edf\n",
            "signals_len : 876\n",
            "annotations_len : 876\n",
            "\n",
            "\n",
            "train_x[109] : /content/drive/MyDrive/physionet/HMC/hmc-sleep-staging/recordings/SN089.edf\n",
            "train_y[109] : /content/drive/MyDrive/physionet/HMC/hmc-sleep-staging/recordings/SN089_sleepscoring.edf\n",
            "signals_len : 806\n",
            "annotations_len : 806\n",
            "\n",
            "\n",
            "train_x[110] : /content/drive/MyDrive/physionet/HMC/hmc-sleep-staging/recordings/SN108.edf\n",
            "train_y[110] : /content/drive/MyDrive/physionet/HMC/hmc-sleep-staging/recordings/SN108_sleepscoring.edf\n",
            "signals_len : 882\n",
            "annotations_len : 882\n",
            "\n",
            "\n",
            "train_x[111] : /content/drive/MyDrive/physionet/HMC/hmc-sleep-staging/recordings/SN066.edf\n",
            "train_y[111] : /content/drive/MyDrive/physionet/HMC/hmc-sleep-staging/recordings/SN066_sleepscoring.edf\n",
            "signals_len : 1010\n",
            "annotations_len : 1010\n",
            "\n",
            "\n",
            "train_x[112] : /content/drive/MyDrive/physionet/HMC/hmc-sleep-staging/recordings/SN053.edf\n",
            "train_y[112] : /content/drive/MyDrive/physionet/HMC/hmc-sleep-staging/recordings/SN053_sleepscoring.edf\n",
            "signals_len : 940\n",
            "annotations_len : 940\n",
            "\n",
            "\n",
            "train_x[113] : /content/drive/MyDrive/physionet/HMC/hmc-sleep-staging/recordings/SN015.edf\n",
            "train_y[113] : /content/drive/MyDrive/physionet/HMC/hmc-sleep-staging/recordings/SN015_sleepscoring.edf\n",
            "signals_len : 867\n",
            "annotations_len : 867\n",
            "\n",
            "\n",
            "num_train_matched : 114\n",
            "num_train_non_matched : 0\n",
            "train_non_matched_list : []\n",
            "val_x[0] : /content/drive/MyDrive/physionet/HMC/hmc-sleep-staging/recordings/SN144.edf\n",
            "val_y[0] : /content/drive/MyDrive/physionet/HMC/hmc-sleep-staging/recordings/SN144_sleepscoring.edf\n",
            "signals_len : 793\n",
            "annotations_len : 793\n",
            "\n",
            "\n",
            "val_x[1] : /content/drive/MyDrive/physionet/HMC/hmc-sleep-staging/recordings/SN028.edf\n",
            "val_y[1] : /content/drive/MyDrive/physionet/HMC/hmc-sleep-staging/recordings/SN028_sleepscoring.edf\n",
            "signals_len : 902\n",
            "annotations_len : 902\n",
            "\n",
            "\n",
            "val_x[2] : /content/drive/MyDrive/physionet/HMC/hmc-sleep-staging/recordings/SN102.edf\n",
            "val_y[2] : /content/drive/MyDrive/physionet/HMC/hmc-sleep-staging/recordings/SN102_sleepscoring.edf\n",
            "signals_len : 840\n",
            "annotations_len : 840\n",
            "\n",
            "\n",
            "val_x[3] : /content/drive/MyDrive/physionet/HMC/hmc-sleep-staging/recordings/SN090.edf\n",
            "val_y[3] : /content/drive/MyDrive/physionet/HMC/hmc-sleep-staging/recordings/SN090_sleepscoring.edf\n",
            "signals_len : 907\n",
            "annotations_len : 907\n",
            "\n",
            "\n",
            "val_x[4] : /content/drive/MyDrive/physionet/HMC/hmc-sleep-staging/recordings/SN059.edf\n",
            "val_y[4] : /content/drive/MyDrive/physionet/HMC/hmc-sleep-staging/recordings/SN059_sleepscoring.edf\n",
            "signals_len : 826\n",
            "annotations_len : 826\n",
            "\n",
            "\n",
            "val_x[5] : /content/drive/MyDrive/physionet/HMC/hmc-sleep-staging/recordings/SN075.edf\n",
            "val_y[5] : /content/drive/MyDrive/physionet/HMC/hmc-sleep-staging/recordings/SN075_sleepscoring.edf\n",
            "signals_len : 1089\n",
            "annotations_len : 1089\n",
            "\n",
            "\n",
            "val_x[6] : /content/drive/MyDrive/physionet/HMC/hmc-sleep-staging/recordings/SN100.edf\n",
            "val_y[6] : /content/drive/MyDrive/physionet/HMC/hmc-sleep-staging/recordings/SN100_sleepscoring.edf\n",
            "signals_len : 905\n",
            "annotations_len : 905\n",
            "\n",
            "\n",
            "val_x[7] : /content/drive/MyDrive/physionet/HMC/hmc-sleep-staging/recordings/SN013.edf\n",
            "val_y[7] : /content/drive/MyDrive/physionet/HMC/hmc-sleep-staging/recordings/SN013_sleepscoring.edf\n",
            "signals_len : 1004\n",
            "annotations_len : 1004\n",
            "\n",
            "\n",
            "val_x[8] : /content/drive/MyDrive/physionet/HMC/hmc-sleep-staging/recordings/SN142.edf\n",
            "val_y[8] : /content/drive/MyDrive/physionet/HMC/hmc-sleep-staging/recordings/SN142_sleepscoring.edf\n",
            "signals_len : 908\n",
            "annotations_len : 908\n",
            "\n",
            "\n",
            "val_x[9] : /content/drive/MyDrive/physionet/HMC/hmc-sleep-staging/recordings/SN070.edf\n",
            "val_y[9] : /content/drive/MyDrive/physionet/HMC/hmc-sleep-staging/recordings/SN070_sleepscoring.edf\n",
            "signals_len : 672\n",
            "annotations_len : 672\n",
            "\n",
            "\n",
            "val_x[10] : /content/drive/MyDrive/physionet/HMC/hmc-sleep-staging/recordings/SN132.edf\n",
            "val_y[10] : /content/drive/MyDrive/physionet/HMC/hmc-sleep-staging/recordings/SN132_sleepscoring.edf\n",
            "signals_len : 1019\n",
            "annotations_len : 1019\n",
            "\n",
            "\n",
            "val_x[11] : /content/drive/MyDrive/physionet/HMC/hmc-sleep-staging/recordings/SN109.edf\n",
            "val_y[11] : /content/drive/MyDrive/physionet/HMC/hmc-sleep-staging/recordings/SN109_sleepscoring.edf\n",
            "signals_len : 783\n",
            "annotations_len : 783\n",
            "\n",
            "\n",
            "num_val_matched : 12\n",
            "num_val_non_matched : 0\n",
            "val_non_matched_list : []\n"
          ]
        }
      ],
      "source": [
        "#여기 수정 필요\n",
        "\n",
        "# Prepare training, validation data lists (min_length)\n",
        "# length : 한 구간(30초)에서의 sample(진폭)data의 수\n",
        "\n",
        "Train_x = []\n",
        "Train_y = []\n",
        "Val_x = []\n",
        "Val_y = []\n",
        "\n",
        "train_non_match = []\n",
        "train_match = 0\n",
        "val_non_match = []\n",
        "val_match = 0\n",
        "\n",
        "num_sample = 256*30 #7680\n",
        "\n",
        "def remove_remains(lst, n):\n",
        "    removed = [lst[i:i+n] for i in range(0, len(lst), n)]\n",
        "    removed.pop()\n",
        "    return removed\n",
        "\n",
        "#tain data 준비\n",
        "\n",
        "for i in range(len(train_x)):\n",
        "  print(f'train_x[{i}] : {train_x[i]}')\n",
        "  print(f'train_y[{i}] : {train_y[i]}')\n",
        "\n",
        "  #label data 전처리\n",
        "  _, _, annotations_header = highlevel.read_edf(train_y[i])\n",
        "  ann = annotations_header['annotations']\n",
        "  label = []\n",
        "  for j in range(len(ann)):\n",
        "    s = ann[j][2][0].upper()       #첫 번째 글자가 S인 것만 추출\n",
        "    if s == 'S':                   #Lights off & Lights on 제거\n",
        "      label.append(ann[j][2])\n",
        "  annotations_len = len(label)    \n",
        "\n",
        "  #signal data 전처리\n",
        "\n",
        "  signals, _, signals_header = highlevel.read_edf(train_x[i],ch_names='ECG')\n",
        "  signal = remove_remains(signals[0], num_sample) # 검사 끝 부분에 존재하는 remains 영역 제거\n",
        "  signals_len = len(signal) \n",
        "  print(f'signals_len : {signals_len}') #\n",
        "  print(f'annotations_len : {annotations_len}') #\n",
        "  print(\"\\n\")\n",
        "  \n",
        "  if signals_len == annotations_len:     # 30초 단위의 signal sample수와 label 수가 일치해야만 Train data로 사용할 수 있도록\n",
        "    train_match += 1\n",
        "    \n",
        "    for sample in range(signals_len):\n",
        "      Train_x.append(signal[sample])\n",
        "      Train_y.append(label[sample])\n",
        "  else :\n",
        "    train_non_match.append((train_x[i],train_y[i])) \n",
        "\n",
        "print(f'num_train_matched : {train_match}')\n",
        "print(f'num_train_non_matched : {len(train_non_match)}')\n",
        "print(f'train_non_matched_list : {train_non_match}')\n",
        "\n",
        "\n",
        "#valid data 준비\n",
        "\n",
        "for i in range(len(val_x)):\n",
        "  print(f'val_x[{i}] : {val_x[i]}')\n",
        "  print(f'val_y[{i}] : {val_y[i]}')\n",
        "\n",
        "  #label data 전처리\n",
        "  _, _, annotations_header = highlevel.read_edf(val_y[i])\n",
        "  ann = annotations_header['annotations']\n",
        "  label = []\n",
        "  for j in range(len(ann)):\n",
        "    s = ann[j][2][0].upper()       # 첫 번째 글자가 S인 것만 추출\n",
        "    if s == 'S':                   # Lights off & Lights on 제거\n",
        "      label.append(ann[j][2])\n",
        "  annotations_len = len(label)    \n",
        "\n",
        "  #signal data 전처리\n",
        "\n",
        "  signals, _, signals_header = highlevel.read_edf(val_x[i],ch_names='ECG')\n",
        "  signal = remove_remains(signals[0], num_sample)\n",
        "  signals_len = len(signal)\n",
        "  print(f'signals_len : {signals_len}')\n",
        "  print(f'annotations_len : {annotations_len}')\n",
        "  print(\"\\n\")\n",
        "  \n",
        "  if signals_len == annotations_len:     # 30초 단위의 signal sample수와 label 수가 일치해야만 Train data로 사용할 수 있도록\n",
        "    val_match += 1\n",
        "    \n",
        "    for sample in range(signals_len):\n",
        "      Val_x.append(signal[sample])\n",
        "      Val_y.append(label[sample])\n",
        "  else :\n",
        "    val_non_match.append((val_x[i],val_y[i])) \n",
        "\n",
        "\n",
        "print(f'num_val_matched : {val_match}')\n",
        "print(f'num_val_non_matched : {len(val_non_match)}')\n",
        "print(f'val_non_matched_list : {val_non_match}')"
      ]
    },
    {
      "cell_type": "code",
      "execution_count": null,
      "metadata": {
        "colab": {
          "base_uri": "https://localhost:8080/"
        },
        "id": "B0l_97zvzhaw",
        "outputId": "c5831d4b-7e75-4d0c-c471-a4ccb95b084f"
      },
      "outputs": [
        {
          "name": "stdout",
          "output_type": "stream",
          "text": [
            "train_num_matched : 114\n",
            "train_num_non_matched : 0\n",
            "train_non_matched_list : []\n",
            "num_val_matched : 12\n",
            "num_val_non_matched : 0\n",
            "val_non_matched_list : []\n",
            "total_num_matched : 126\n",
            "total_num_non_matched : 0\n"
          ]
        }
      ],
      "source": [
        "# result\n",
        "\n",
        "print(f'train_num_matched : {train_match}')\n",
        "print(f'train_num_non_matched : {len(train_non_match)}')\n",
        "print(f'train_non_matched_list : {train_non_match}')\n",
        "print(f'num_val_matched : {val_match}')\n",
        "print(f'num_val_non_matched : {len(val_non_match)}')\n",
        "print(f'val_non_matched_list : {val_non_match}')\n",
        "print(f'total_num_matched : {train_match + val_match}')\n",
        "print(f'total_num_non_matched : {len(train_non_match) + len(val_non_match)}')\n"
      ]
    },
    {
      "cell_type": "markdown",
      "metadata": {
        "id": "YfooSb99-HsH"
      },
      "source": [
        "1개에 대해 전처리\n",
        "(이 코드들 기반으로 위에서 전체 데이터에 대해 전처리 과정 수행)\n",
        "\n",
        "실행할 필요 없음"
      ]
    },
    {
      "cell_type": "code",
      "execution_count": null,
      "metadata": {
        "colab": {
          "base_uri": "https://localhost:8080/"
        },
        "id": "-uUL-lOikqYZ",
        "outputId": "2880d51c-60e8-4e9d-90e4-0833dc785ea4"
      },
      "outputs": [
        {
          "name": "stdout",
          "output_type": "stream",
          "text": [
            "[[0.0, 30.0, 'Sleep stage W'], [30.0, 30.0, 'Sleep stage W'], [32.4, 0.0, 'Lights off@@SaO2'], [60.0, 30.0, 'Sleep stage W'], [90.0, 30.0, 'Sleep stage W'], [120.0, 30.0, 'Sleep stage W'], [150.0, 30.0, 'Sleep stage W'], [180.0, 30.0, 'Sleep stage W'], [210.0, 30.0, 'Sleep stage W'], [240.0, 30.0, 'Sleep stage W'], [270.0, 30.0, 'Sleep stage W'], [300.0, 30.0, 'Sleep stage W'], [330.0, 30.0, 'Sleep stage W'], [360.0, 30.0, 'Sleep stage W'], [390.0, 30.0, 'Sleep stage W'], [420.0, 30.0, 'Sleep stage W'], [450.0, 30.0, 'Sleep stage W'], [480.0, 30.0, 'Sleep stage W'], [510.0, 30.0, 'Sleep stage W'], [540.0, 30.0, 'Sleep stage W'], [570.0, 30.0, 'Sleep stage W'], [600.0, 30.0, 'Sleep stage W'], [630.0, 30.0, 'Sleep stage W'], [660.0, 30.0, 'Sleep stage W'], [690.0, 30.0, 'Sleep stage W'], [720.0, 30.0, 'Sleep stage N1'], [750.0, 30.0, 'Sleep stage W'], [780.0, 30.0, 'Sleep stage W'], [810.0, 30.0, 'Sleep stage W'], [840.0, 30.0, 'Sleep stage W'], [870.0, 30.0, 'Sleep stage W'], [900.0, 30.0, 'Sleep stage W'], [930.0, 30.0, 'Sleep stage W'], [960.0, 30.0, 'Sleep stage W'], [990.0, 30.0, 'Sleep stage N1'], [1020.0, 30.0, 'Sleep stage N1'], [1050.0, 30.0, 'Sleep stage N1'], [1080.0, 30.0, 'Sleep stage N1'], [1110.0, 30.0, 'Sleep stage N1'], [1140.0, 30.0, 'Sleep stage N1'], [1170.0, 30.0, 'Sleep stage N1'], [1200.0, 30.0, 'Sleep stage N1'], [1230.0, 30.0, 'Sleep stage N1'], [1260.0, 30.0, 'Sleep stage N1'], [1290.0, 30.0, 'Sleep stage N2'], [1320.0, 30.0, 'Sleep stage N1'], [1350.0, 30.0, 'Sleep stage W'], [1380.0, 30.0, 'Sleep stage W'], [1410.0, 30.0, 'Sleep stage N1'], [1440.0, 30.0, 'Sleep stage N1'], [1470.0, 30.0, 'Sleep stage N1'], [1500.0, 30.0, 'Sleep stage N2'], [1530.0, 30.0, 'Sleep stage N1'], [1560.0, 30.0, 'Sleep stage N2'], [1590.0, 30.0, 'Sleep stage N2'], [1620.0, 30.0, 'Sleep stage N2'], [1650.0, 30.0, 'Sleep stage N2'], [1680.0, 30.0, 'Sleep stage N2'], [1710.0, 30.0, 'Sleep stage N2'], [1740.0, 30.0, 'Sleep stage N2'], [1770.0, 30.0, 'Sleep stage N2'], [1800.0, 30.0, 'Sleep stage N2'], [1830.0, 30.0, 'Sleep stage N2'], [1860.0, 30.0, 'Sleep stage N2'], [1890.0, 30.0, 'Sleep stage N2'], [1920.0, 30.0, 'Sleep stage N2'], [1950.0, 30.0, 'Sleep stage N2'], [1980.0, 30.0, 'Sleep stage N2'], [2010.0, 30.0, 'Sleep stage N2'], [2040.0, 30.0, 'Sleep stage N2'], [2070.0, 30.0, 'Sleep stage N3'], [2100.0, 30.0, 'Sleep stage N3'], [2130.0, 30.0, 'Sleep stage N3'], [2160.0, 30.0, 'Sleep stage N3'], [2190.0, 30.0, 'Sleep stage N3'], [2220.0, 30.0, 'Sleep stage N3'], [2250.0, 30.0, 'Sleep stage N3'], [2280.0, 30.0, 'Sleep stage N3'], [2310.0, 30.0, 'Sleep stage N1'], [2340.0, 30.0, 'Sleep stage N2'], [2370.0, 30.0, 'Sleep stage N2'], [2400.0, 30.0, 'Sleep stage N2'], [2430.0, 30.0, 'Sleep stage N2'], [2460.0, 30.0, 'Sleep stage N2'], [2490.0, 30.0, 'Sleep stage N2'], [2520.0, 30.0, 'Sleep stage N2'], [2550.0, 30.0, 'Sleep stage N1'], [2580.0, 30.0, 'Sleep stage W'], [2610.0, 30.0, 'Sleep stage N1'], [2640.0, 30.0, 'Sleep stage N1'], [2670.0, 30.0, 'Sleep stage N1'], [2700.0, 30.0, 'Sleep stage N2'], [2730.0, 30.0, 'Sleep stage N1'], [2760.0, 30.0, 'Sleep stage N2'], [2790.0, 30.0, 'Sleep stage N2'], [2820.0, 30.0, 'Sleep stage N2'], [2850.0, 30.0, 'Sleep stage N2'], [2880.0, 30.0, 'Sleep stage N2'], [2910.0, 30.0, 'Sleep stage N2'], [2940.0, 30.0, 'Sleep stage N2'], [2970.0, 30.0, 'Sleep stage N2'], [3000.0, 30.0, 'Sleep stage N2'], [3030.0, 30.0, 'Sleep stage N3'], [3060.0, 30.0, 'Sleep stage N3'], [3090.0, 30.0, 'Sleep stage N3'], [3120.0, 30.0, 'Sleep stage N3'], [3150.0, 30.0, 'Sleep stage N3'], [3180.0, 30.0, 'Sleep stage N3'], [3210.0, 30.0, 'Sleep stage N3'], [3240.0, 30.0, 'Sleep stage N3'], [3270.0, 30.0, 'Sleep stage N3'], [3300.0, 30.0, 'Sleep stage N3'], [3330.0, 30.0, 'Sleep stage N3'], [3360.0, 30.0, 'Sleep stage N3'], [3390.0, 30.0, 'Sleep stage N3'], [3420.0, 30.0, 'Sleep stage N3'], [3450.0, 30.0, 'Sleep stage N3'], [3480.0, 30.0, 'Sleep stage N3'], [3510.0, 30.0, 'Sleep stage N3'], [3540.0, 30.0, 'Sleep stage N3'], [3570.0, 30.0, 'Sleep stage N3'], [3600.0, 30.0, 'Sleep stage N3'], [3630.0, 30.0, 'Sleep stage N3'], [3660.0, 30.0, 'Sleep stage N3'], [3690.0, 30.0, 'Sleep stage N3'], [3720.0, 30.0, 'Sleep stage N3'], [3750.0, 30.0, 'Sleep stage N3'], [3780.0, 30.0, 'Sleep stage N3'], [3810.0, 30.0, 'Sleep stage N3'], [3840.0, 30.0, 'Sleep stage N3'], [3870.0, 30.0, 'Sleep stage N3'], [3900.0, 30.0, 'Sleep stage R'], [3930.0, 30.0, 'Sleep stage R'], [3960.0, 30.0, 'Sleep stage R'], [3990.0, 30.0, 'Sleep stage R'], [4020.0, 30.0, 'Sleep stage N1'], [4050.0, 30.0, 'Sleep stage N1'], [4080.0, 30.0, 'Sleep stage N1'], [4110.0, 30.0, 'Sleep stage W'], [4140.0, 30.0, 'Sleep stage N1'], [4170.0, 30.0, 'Sleep stage R'], [4200.0, 30.0, 'Sleep stage R'], [4230.0, 30.0, 'Sleep stage R'], [4260.0, 30.0, 'Sleep stage R'], [4290.0, 30.0, 'Sleep stage N1'], [4320.0, 30.0, 'Sleep stage N1'], [4350.0, 30.0, 'Sleep stage N1'], [4380.0, 30.0, 'Sleep stage N1'], [4410.0, 30.0, 'Sleep stage N1'], [4440.0, 30.0, 'Sleep stage N1'], [4470.0, 30.0, 'Sleep stage R'], [4500.0, 30.0, 'Sleep stage R'], [4530.0, 30.0, 'Sleep stage N1'], [4560.0, 30.0, 'Sleep stage N1'], [4590.0, 30.0, 'Sleep stage N1'], [4620.0, 30.0, 'Sleep stage N1'], [4650.0, 30.0, 'Sleep stage N1'], [4680.0, 30.0, 'Sleep stage R'], [4710.0, 30.0, 'Sleep stage N1'], [4740.0, 30.0, 'Sleep stage N1'], [4770.0, 30.0, 'Sleep stage R'], [4800.0, 30.0, 'Sleep stage R'], [4830.0, 30.0, 'Sleep stage N1'], [4860.0, 30.0, 'Sleep stage N1'], [4890.0, 30.0, 'Sleep stage N1'], [4920.0, 30.0, 'Sleep stage R'], [4950.0, 30.0, 'Sleep stage N1'], [4980.0, 30.0, 'Sleep stage R'], [5010.0, 30.0, 'Sleep stage R'], [5040.0, 30.0, 'Sleep stage N1'], [5070.0, 30.0, 'Sleep stage N1'], [5100.0, 30.0, 'Sleep stage N1'], [5130.0, 30.0, 'Sleep stage N1'], [5160.0, 30.0, 'Sleep stage N1'], [5190.0, 30.0, 'Sleep stage N1'], [5220.0, 30.0, 'Sleep stage W'], [5250.0, 30.0, 'Sleep stage N1'], [5280.0, 30.0, 'Sleep stage N1'], [5310.0, 30.0, 'Sleep stage N1'], [5340.0, 30.0, 'Sleep stage N1'], [5370.0, 30.0, 'Sleep stage N1'], [5400.0, 30.0, 'Sleep stage N2'], [5430.0, 30.0, 'Sleep stage N2'], [5460.0, 30.0, 'Sleep stage N2'], [5490.0, 30.0, 'Sleep stage N2'], [5520.0, 30.0, 'Sleep stage N2'], [5550.0, 30.0, 'Sleep stage N2'], [5580.0, 30.0, 'Sleep stage N2'], [5610.0, 30.0, 'Sleep stage N2'], [5640.0, 30.0, 'Sleep stage N2'], [5670.0, 30.0, 'Sleep stage W'], [5700.0, 30.0, 'Sleep stage W'], [5730.0, 30.0, 'Sleep stage W'], [5760.0, 30.0, 'Sleep stage N1'], [5790.0, 30.0, 'Sleep stage W'], [5820.0, 30.0, 'Sleep stage W'], [5850.0, 30.0, 'Sleep stage N1'], [5880.0, 30.0, 'Sleep stage N2'], [5910.0, 30.0, 'Sleep stage N2'], [5940.0, 30.0, 'Sleep stage N1'], [5970.0, 30.0, 'Sleep stage N2'], [6000.0, 30.0, 'Sleep stage N2'], [6030.0, 30.0, 'Sleep stage N2'], [6060.0, 30.0, 'Sleep stage N2'], [6090.0, 30.0, 'Sleep stage N2'], [6120.0, 30.0, 'Sleep stage N2'], [6150.0, 30.0, 'Sleep stage N2'], [6180.0, 30.0, 'Sleep stage N2'], [6210.0, 30.0, 'Sleep stage N2'], [6240.0, 30.0, 'Sleep stage N2'], [6270.0, 30.0, 'Sleep stage N2'], [6300.0, 30.0, 'Sleep stage N2'], [6330.0, 30.0, 'Sleep stage N2'], [6360.0, 30.0, 'Sleep stage N2'], [6390.0, 30.0, 'Sleep stage N2'], [6420.0, 30.0, 'Sleep stage N2'], [6450.0, 30.0, 'Sleep stage N2'], [6480.0, 30.0, 'Sleep stage N2'], [6510.0, 30.0, 'Sleep stage N3'], [6540.0, 30.0, 'Sleep stage N3'], [6570.0, 30.0, 'Sleep stage N3'], [6600.0, 30.0, 'Sleep stage N3'], [6630.0, 30.0, 'Sleep stage N3'], [6660.0, 30.0, 'Sleep stage N3'], [6690.0, 30.0, 'Sleep stage N3'], [6720.0, 30.0, 'Sleep stage N3'], [6750.0, 30.0, 'Sleep stage N3'], [6780.0, 30.0, 'Sleep stage N3'], [6810.0, 30.0, 'Sleep stage N3'], [6840.0, 30.0, 'Sleep stage N3'], [6870.0, 30.0, 'Sleep stage N3'], [6900.0, 30.0, 'Sleep stage N3'], [6930.0, 30.0, 'Sleep stage N3'], [6960.0, 30.0, 'Sleep stage N3'], [6990.0, 30.0, 'Sleep stage N3'], [7020.0, 30.0, 'Sleep stage N3'], [7050.0, 30.0, 'Sleep stage N3'], [7080.0, 30.0, 'Sleep stage N3'], [7110.0, 30.0, 'Sleep stage N3'], [7140.0, 30.0, 'Sleep stage N3'], [7170.0, 30.0, 'Sleep stage N2'], [7200.0, 30.0, 'Sleep stage N3'], [7230.0, 30.0, 'Sleep stage N2'], [7260.0, 30.0, 'Sleep stage N1'], [7290.0, 30.0, 'Sleep stage W'], [7320.0, 30.0, 'Sleep stage N1'], [7350.0, 30.0, 'Sleep stage N1'], [7380.0, 30.0, 'Sleep stage N1'], [7410.0, 30.0, 'Sleep stage N1'], [7440.0, 30.0, 'Sleep stage N2'], [7470.0, 30.0, 'Sleep stage N2'], [7500.0, 30.0, 'Sleep stage N1'], [7530.0, 30.0, 'Sleep stage N1'], [7560.0, 30.0, 'Sleep stage W'], [7590.0, 30.0, 'Sleep stage N1'], [7620.0, 30.0, 'Sleep stage N1'], [7650.0, 30.0, 'Sleep stage N1'], [7680.0, 30.0, 'Sleep stage N1'], [7710.0, 30.0, 'Sleep stage N2'], [7740.0, 30.0, 'Sleep stage N2'], [7770.0, 30.0, 'Sleep stage N2'], [7800.0, 30.0, 'Sleep stage N2'], [7830.0, 30.0, 'Sleep stage N2'], [7860.0, 30.0, 'Sleep stage N2'], [7890.0, 30.0, 'Sleep stage N2'], [7920.0, 30.0, 'Sleep stage N2'], [7950.0, 30.0, 'Sleep stage N2'], [7980.0, 30.0, 'Sleep stage N2'], [8010.0, 30.0, 'Sleep stage N2'], [8040.0, 30.0, 'Sleep stage W'], [8070.0, 30.0, 'Sleep stage N1'], [8100.0, 30.0, 'Sleep stage N1'], [8130.0, 30.0, 'Sleep stage N2'], [8160.0, 30.0, 'Sleep stage N2'], [8190.0, 30.0, 'Sleep stage N2'], [8220.0, 30.0, 'Sleep stage N1'], [8250.0, 30.0, 'Sleep stage N2'], [8280.0, 30.0, 'Sleep stage N2'], [8310.0, 30.0, 'Sleep stage N2'], [8340.0, 30.0, 'Sleep stage N3'], [8370.0, 30.0, 'Sleep stage N3'], [8400.0, 30.0, 'Sleep stage N3'], [8430.0, 30.0, 'Sleep stage N3'], [8460.0, 30.0, 'Sleep stage N1'], [8490.0, 30.0, 'Sleep stage N1'], [8520.0, 30.0, 'Sleep stage N2'], [8550.0, 30.0, 'Sleep stage N2'], [8580.0, 30.0, 'Sleep stage N3'], [8610.0, 30.0, 'Sleep stage N3'], [8640.0, 30.0, 'Sleep stage N3'], [8670.0, 30.0, 'Sleep stage N3'], [8700.0, 30.0, 'Sleep stage N3'], [8730.0, 30.0, 'Sleep stage N3'], [8760.0, 30.0, 'Sleep stage N3'], [8790.0, 30.0, 'Sleep stage N3'], [8820.0, 30.0, 'Sleep stage N3'], [8850.0, 30.0, 'Sleep stage N1'], [8880.0, 30.0, 'Sleep stage N1'], [8910.0, 30.0, 'Sleep stage N2'], [8940.0, 30.0, 'Sleep stage N1'], [8970.0, 30.0, 'Sleep stage N2'], [9000.0, 30.0, 'Sleep stage N2'], [9030.0, 30.0, 'Sleep stage N1'], [9060.0, 30.0, 'Sleep stage N2'], [9090.0, 30.0, 'Sleep stage N2'], [9120.0, 30.0, 'Sleep stage N2'], [9150.0, 30.0, 'Sleep stage N1'], [9180.0, 30.0, 'Sleep stage R'], [9210.0, 30.0, 'Sleep stage R'], [9240.0, 30.0, 'Sleep stage R'], [9270.0, 30.0, 'Sleep stage R'], [9300.0, 30.0, 'Sleep stage N1'], [9330.0, 30.0, 'Sleep stage R'], [9360.0, 30.0, 'Sleep stage R'], [9390.0, 30.0, 'Sleep stage N1'], [9420.0, 30.0, 'Sleep stage N1'], [9450.0, 30.0, 'Sleep stage N1'], [9480.0, 30.0, 'Sleep stage R'], [9510.0, 30.0, 'Sleep stage N1'], [9540.0, 30.0, 'Sleep stage R'], [9570.0, 30.0, 'Sleep stage N1'], [9600.0, 30.0, 'Sleep stage R'], [9630.0, 30.0, 'Sleep stage R'], [9660.0, 30.0, 'Sleep stage N1'], [9690.0, 30.0, 'Sleep stage R'], [9720.0, 30.0, 'Sleep stage N1'], [9750.0, 30.0, 'Sleep stage N1'], [9780.0, 30.0, 'Sleep stage R'], [9810.0, 30.0, 'Sleep stage R'], [9840.0, 30.0, 'Sleep stage N1'], [9870.0, 30.0, 'Sleep stage R'], [9900.0, 30.0, 'Sleep stage R'], [9930.0, 30.0, 'Sleep stage N1'], [9960.0, 30.0, 'Sleep stage R'], [9990.0, 30.0, 'Sleep stage R'], [10020.0, 30.0, 'Sleep stage R'], [10050.0, 30.0, 'Sleep stage R'], [10080.0, 30.0, 'Sleep stage R'], [10110.0, 30.0, 'Sleep stage R'], [10140.0, 30.0, 'Sleep stage R'], [10170.0, 30.0, 'Sleep stage N1'], [10200.0, 30.0, 'Sleep stage R'], [10230.0, 30.0, 'Sleep stage R'], [10260.0, 30.0, 'Sleep stage N1'], [10290.0, 30.0, 'Sleep stage R'], [10320.0, 30.0, 'Sleep stage R'], [10350.0, 30.0, 'Sleep stage N1'], [10380.0, 30.0, 'Sleep stage R'], [10410.0, 30.0, 'Sleep stage R'], [10440.0, 30.0, 'Sleep stage N1'], [10470.0, 30.0, 'Sleep stage R'], [10500.0, 30.0, 'Sleep stage R'], [10530.0, 30.0, 'Sleep stage W'], [10560.0, 30.0, 'Sleep stage N1'], [10590.0, 30.0, 'Sleep stage N1'], [10620.0, 30.0, 'Sleep stage R'], [10650.0, 30.0, 'Sleep stage N1'], [10680.0, 30.0, 'Sleep stage R'], [10710.0, 30.0, 'Sleep stage R'], [10740.0, 30.0, 'Sleep stage N1'], [10770.0, 30.0, 'Sleep stage R'], [10800.0, 30.0, 'Sleep stage W'], [10830.0, 30.0, 'Sleep stage W'], [10860.0, 30.0, 'Sleep stage N1'], [10890.0, 30.0, 'Sleep stage N1'], [10920.0, 30.0, 'Sleep stage N1'], [10950.0, 30.0, 'Sleep stage N1'], [10980.0, 30.0, 'Sleep stage N1'], [11010.0, 30.0, 'Sleep stage N1'], [11040.0, 30.0, 'Sleep stage N2'], [11070.0, 30.0, 'Sleep stage N2'], [11100.0, 30.0, 'Sleep stage N2'], [11130.0, 30.0, 'Sleep stage N1'], [11160.0, 30.0, 'Sleep stage N1'], [11190.0, 30.0, 'Sleep stage N1'], [11220.0, 30.0, 'Sleep stage N2'], [11250.0, 30.0, 'Sleep stage N2'], [11280.0, 30.0, 'Sleep stage N2'], [11310.0, 30.0, 'Sleep stage N2'], [11340.0, 30.0, 'Sleep stage N2'], [11370.0, 30.0, 'Sleep stage N2'], [11400.0, 30.0, 'Sleep stage N2'], [11430.0, 30.0, 'Sleep stage N2'], [11460.0, 30.0, 'Sleep stage N2'], [11490.0, 30.0, 'Sleep stage N2'], [11520.0, 30.0, 'Sleep stage N2'], [11550.0, 30.0, 'Sleep stage N2'], [11580.0, 30.0, 'Sleep stage N2'], [11610.0, 30.0, 'Sleep stage N2'], [11640.0, 30.0, 'Sleep stage N2'], [11670.0, 30.0, 'Sleep stage N2'], [11700.0, 30.0, 'Sleep stage N2'], [11730.0, 30.0, 'Sleep stage N2'], [11760.0, 30.0, 'Sleep stage N2'], [11790.0, 30.0, 'Sleep stage N2'], [11820.0, 30.0, 'Sleep stage N3'], [11850.0, 30.0, 'Sleep stage N3'], [11880.0, 30.0, 'Sleep stage N3'], [11910.0, 30.0, 'Sleep stage N3'], [11940.0, 30.0, 'Sleep stage N3'], [11970.0, 30.0, 'Sleep stage N3'], [12000.0, 30.0, 'Sleep stage N3'], [12030.0, 30.0, 'Sleep stage N3'], [12060.0, 30.0, 'Sleep stage N3'], [12090.0, 30.0, 'Sleep stage N3'], [12120.0, 30.0, 'Sleep stage N3'], [12150.0, 30.0, 'Sleep stage N3'], [12180.0, 30.0, 'Sleep stage N3'], [12210.0, 30.0, 'Sleep stage N3'], [12240.0, 30.0, 'Sleep stage N3'], [12270.0, 30.0, 'Sleep stage N3'], [12300.0, 30.0, 'Sleep stage N3'], [12330.0, 30.0, 'Sleep stage N3'], [12360.0, 30.0, 'Sleep stage N3'], [12390.0, 30.0, 'Sleep stage N3'], [12420.0, 30.0, 'Sleep stage N3'], [12450.0, 30.0, 'Sleep stage N3'], [12480.0, 30.0, 'Sleep stage N3'], [12510.0, 30.0, 'Sleep stage N3'], [12540.0, 30.0, 'Sleep stage N3'], [12570.0, 30.0, 'Sleep stage N3'], [12600.0, 30.0, 'Sleep stage N3'], [12630.0, 30.0, 'Sleep stage N3'], [12660.0, 30.0, 'Sleep stage N3'], [12690.0, 30.0, 'Sleep stage N1'], [12720.0, 30.0, 'Sleep stage N2'], [12750.0, 30.0, 'Sleep stage N2'], [12780.0, 30.0, 'Sleep stage N2'], [12810.0, 30.0, 'Sleep stage N2'], [12840.0, 30.0, 'Sleep stage N2'], [12870.0, 30.0, 'Sleep stage N2'], [12900.0, 30.0, 'Sleep stage N2'], [12930.0, 30.0, 'Sleep stage N2'], [12960.0, 30.0, 'Sleep stage N2'], [12990.0, 30.0, 'Sleep stage N2'], [13020.0, 30.0, 'Sleep stage N2'], [13050.0, 30.0, 'Sleep stage N2'], [13080.0, 30.0, 'Sleep stage N2'], [13110.0, 30.0, 'Sleep stage N2'], [13140.0, 30.0, 'Sleep stage N2'], [13170.0, 30.0, 'Sleep stage N2'], [13200.0, 30.0, 'Sleep stage N2'], [13230.0, 30.0, 'Sleep stage N2'], [13260.0, 30.0, 'Sleep stage N2'], [13290.0, 30.0, 'Sleep stage N2'], [13320.0, 30.0, 'Sleep stage N2'], [13350.0, 30.0, 'Sleep stage N2'], [13380.0, 30.0, 'Sleep stage N2'], [13410.0, 30.0, 'Sleep stage N2'], [13440.0, 30.0, 'Sleep stage N2'], [13470.0, 30.0, 'Sleep stage N2'], [13500.0, 30.0, 'Sleep stage N2'], [13530.0, 30.0, 'Sleep stage N2'], [13560.0, 30.0, 'Sleep stage N2'], [13590.0, 30.0, 'Sleep stage N2'], [13620.0, 30.0, 'Sleep stage N2'], [13650.0, 30.0, 'Sleep stage N2'], [13680.0, 30.0, 'Sleep stage N2'], [13710.0, 30.0, 'Sleep stage N2'], [13740.0, 30.0, 'Sleep stage N1'], [13770.0, 30.0, 'Sleep stage N1'], [13800.0, 30.0, 'Sleep stage N1'], [13830.0, 30.0, 'Sleep stage N2'], [13860.0, 30.0, 'Sleep stage N1'], [13890.0, 30.0, 'Sleep stage N1'], [13920.0, 30.0, 'Sleep stage N1'], [13950.0, 30.0, 'Sleep stage N2'], [13980.0, 30.0, 'Sleep stage N1'], [14010.0, 30.0, 'Sleep stage N1'], [14040.0, 30.0, 'Sleep stage N1'], [14070.0, 30.0, 'Sleep stage N1'], [14100.0, 30.0, 'Sleep stage R'], [14130.0, 30.0, 'Sleep stage R'], [14160.0, 30.0, 'Sleep stage R'], [14190.0, 30.0, 'Sleep stage R'], [14220.0, 30.0, 'Sleep stage N1'], [14250.0, 30.0, 'Sleep stage R'], [14280.0, 30.0, 'Sleep stage R'], [14310.0, 30.0, 'Sleep stage R'], [14340.0, 30.0, 'Sleep stage R'], [14370.0, 30.0, 'Sleep stage N1'], [14400.0, 30.0, 'Sleep stage R'], [14430.0, 30.0, 'Sleep stage R'], [14460.0, 30.0, 'Sleep stage R'], [14490.0, 30.0, 'Sleep stage R'], [14520.0, 30.0, 'Sleep stage R'], [14550.0, 30.0, 'Sleep stage R'], [14580.0, 30.0, 'Sleep stage R'], [14610.0, 30.0, 'Sleep stage R'], [14640.0, 30.0, 'Sleep stage R'], [14670.0, 30.0, 'Sleep stage R'], [14700.0, 30.0, 'Sleep stage R'], [14730.0, 30.0, 'Sleep stage R'], [14760.0, 30.0, 'Sleep stage R'], [14790.0, 30.0, 'Sleep stage R'], [14820.0, 30.0, 'Sleep stage R'], [14850.0, 30.0, 'Sleep stage R'], [14880.0, 30.0, 'Sleep stage R'], [14910.0, 30.0, 'Sleep stage R'], [14940.0, 30.0, 'Sleep stage R'], [14970.0, 30.0, 'Sleep stage R'], [15000.0, 30.0, 'Sleep stage N1'], [15030.0, 30.0, 'Sleep stage R'], [15060.0, 30.0, 'Sleep stage R'], [15090.0, 30.0, 'Sleep stage R'], [15120.0, 30.0, 'Sleep stage W'], [15150.0, 30.0, 'Sleep stage N1'], [15180.0, 30.0, 'Sleep stage N1'], [15210.0, 30.0, 'Sleep stage N1'], [15240.0, 30.0, 'Sleep stage N1'], [15270.0, 30.0, 'Sleep stage N1'], [15300.0, 30.0, 'Sleep stage N1'], [15330.0, 30.0, 'Sleep stage N1'], [15360.0, 30.0, 'Sleep stage N1'], [15390.0, 30.0, 'Sleep stage N1'], [15420.0, 30.0, 'Sleep stage R'], [15450.0, 30.0, 'Sleep stage R'], [15480.0, 30.0, 'Sleep stage N1'], [15510.0, 30.0, 'Sleep stage R'], [15540.0, 30.0, 'Sleep stage N1'], [15570.0, 30.0, 'Sleep stage N1'], [15600.0, 30.0, 'Sleep stage R'], [15630.0, 30.0, 'Sleep stage N1'], [15660.0, 30.0, 'Sleep stage N1'], [15690.0, 30.0, 'Sleep stage N2'], [15720.0, 30.0, 'Sleep stage N2'], [15750.0, 30.0, 'Sleep stage N1'], [15780.0, 30.0, 'Sleep stage W'], [15810.0, 30.0, 'Sleep stage N1'], [15840.0, 30.0, 'Sleep stage N2'], [15870.0, 30.0, 'Sleep stage N2'], [15900.0, 30.0, 'Sleep stage N2'], [15930.0, 30.0, 'Sleep stage N2'], [15960.0, 30.0, 'Sleep stage N2'], [15990.0, 30.0, 'Sleep stage N1'], [16020.0, 30.0, 'Sleep stage N1'], [16050.0, 30.0, 'Sleep stage N2'], [16080.0, 30.0, 'Sleep stage N1'], [16110.0, 30.0, 'Sleep stage N1'], [16140.0, 30.0, 'Sleep stage N1'], [16170.0, 30.0, 'Sleep stage N1'], [16200.0, 30.0, 'Sleep stage N1'], [16230.0, 30.0, 'Sleep stage N2'], [16260.0, 30.0, 'Sleep stage N2'], [16290.0, 30.0, 'Sleep stage N1'], [16320.0, 30.0, 'Sleep stage N2'], [16350.0, 30.0, 'Sleep stage N1'], [16380.0, 30.0, 'Sleep stage N1'], [16410.0, 30.0, 'Sleep stage N1'], [16440.0, 30.0, 'Sleep stage N2'], [16470.0, 30.0, 'Sleep stage N2'], [16500.0, 30.0, 'Sleep stage N2'], [16530.0, 30.0, 'Sleep stage N1'], [16560.0, 30.0, 'Sleep stage N1'], [16590.0, 30.0, 'Sleep stage N2'], [16620.0, 30.0, 'Sleep stage N2'], [16650.0, 30.0, 'Sleep stage N2'], [16680.0, 30.0, 'Sleep stage N2'], [16710.0, 30.0, 'Sleep stage W'], [16740.0, 30.0, 'Sleep stage W'], [16770.0, 30.0, 'Sleep stage W'], [16800.0, 30.0, 'Sleep stage N1'], [16830.0, 30.0, 'Sleep stage N1'], [16860.0, 30.0, 'Sleep stage N1'], [16890.0, 30.0, 'Sleep stage N1'], [16920.0, 30.0, 'Sleep stage N1'], [16950.0, 30.0, 'Sleep stage N1'], [16980.0, 30.0, 'Sleep stage N1'], [17010.0, 30.0, 'Sleep stage N1'], [17040.0, 30.0, 'Sleep stage N1'], [17070.0, 30.0, 'Sleep stage N2'], [17100.0, 30.0, 'Sleep stage N1'], [17130.0, 30.0, 'Sleep stage N1'], [17160.0, 30.0, 'Sleep stage N1'], [17190.0, 30.0, 'Sleep stage N1'], [17220.0, 30.0, 'Sleep stage N2'], [17250.0, 30.0, 'Sleep stage N2'], [17280.0, 30.0, 'Sleep stage N2'], [17310.0, 30.0, 'Sleep stage N2'], [17340.0, 30.0, 'Sleep stage N2'], [17370.0, 30.0, 'Sleep stage N2'], [17400.0, 30.0, 'Sleep stage N2'], [17430.0, 30.0, 'Sleep stage N2'], [17460.0, 30.0, 'Sleep stage N2'], [17490.0, 30.0, 'Sleep stage N2'], [17520.0, 30.0, 'Sleep stage N2'], [17550.0, 30.0, 'Sleep stage N2'], [17580.0, 30.0, 'Sleep stage N2'], [17610.0, 30.0, 'Sleep stage N2'], [17640.0, 30.0, 'Sleep stage N2'], [17670.0, 30.0, 'Sleep stage N1'], [17700.0, 30.0, 'Sleep stage N1'], [17730.0, 30.0, 'Sleep stage N1'], [17760.0, 30.0, 'Sleep stage N1'], [17790.0, 30.0, 'Sleep stage N1'], [17820.0, 30.0, 'Sleep stage N2'], [17850.0, 30.0, 'Sleep stage N2'], [17880.0, 30.0, 'Sleep stage N2'], [17910.0, 30.0, 'Sleep stage N1'], [17940.0, 30.0, 'Sleep stage N1'], [17970.0, 30.0, 'Sleep stage N2'], [18000.0, 30.0, 'Sleep stage N1'], [18030.0, 30.0, 'Sleep stage N1'], [18060.0, 30.0, 'Sleep stage N1'], [18090.0, 30.0, 'Sleep stage N1'], [18120.0, 30.0, 'Sleep stage N1'], [18150.0, 30.0, 'Sleep stage N2'], [18180.0, 30.0, 'Sleep stage N2'], [18210.0, 30.0, 'Sleep stage N2'], [18240.0, 30.0, 'Sleep stage N2'], [18270.0, 30.0, 'Sleep stage N2'], [18300.0, 30.0, 'Sleep stage N2'], [18330.0, 30.0, 'Sleep stage N2'], [18360.0, 30.0, 'Sleep stage N2'], [18390.0, 30.0, 'Sleep stage N2'], [18420.0, 30.0, 'Sleep stage N2'], [18450.0, 30.0, 'Sleep stage N2'], [18480.0, 30.0, 'Sleep stage N2'], [18510.0, 30.0, 'Sleep stage N2'], [18540.0, 30.0, 'Sleep stage N2'], [18570.0, 30.0, 'Sleep stage N2'], [18600.0, 30.0, 'Sleep stage N2'], [18630.0, 30.0, 'Sleep stage N2'], [18660.0, 30.0, 'Sleep stage N2'], [18690.0, 30.0, 'Sleep stage N2'], [18720.0, 30.0, 'Sleep stage N2'], [18750.0, 30.0, 'Sleep stage N3'], [18780.0, 30.0, 'Sleep stage N2'], [18810.0, 30.0, 'Sleep stage N3'], [18840.0, 30.0, 'Sleep stage N3'], [18870.0, 30.0, 'Sleep stage N3'], [18900.0, 30.0, 'Sleep stage N3'], [18930.0, 30.0, 'Sleep stage N1'], [18960.0, 30.0, 'Sleep stage N1'], [18990.0, 30.0, 'Sleep stage N2'], [19020.0, 30.0, 'Sleep stage N2'], [19050.0, 30.0, 'Sleep stage N2'], [19080.0, 30.0, 'Sleep stage N2'], [19110.0, 30.0, 'Sleep stage N2'], [19140.0, 30.0, 'Sleep stage N2'], [19170.0, 30.0, 'Sleep stage N2'], [19200.0, 30.0, 'Sleep stage N2'], [19230.0, 30.0, 'Sleep stage N2'], [19260.0, 30.0, 'Sleep stage N2'], [19290.0, 30.0, 'Sleep stage N1'], [19320.0, 30.0, 'Sleep stage N1'], [19350.0, 30.0, 'Sleep stage W'], [19380.0, 30.0, 'Sleep stage N1'], [19410.0, 30.0, 'Sleep stage N1'], [19440.0, 30.0, 'Sleep stage N1'], [19470.0, 30.0, 'Sleep stage N2'], [19500.0, 30.0, 'Sleep stage N2'], [19530.0, 30.0, 'Sleep stage N2'], [19560.0, 30.0, 'Sleep stage N1'], [19590.0, 30.0, 'Sleep stage N2'], [19620.0, 30.0, 'Sleep stage R'], [19650.0, 30.0, 'Sleep stage R'], [19680.0, 30.0, 'Sleep stage R'], [19710.0, 30.0, 'Sleep stage N1'], [19740.0, 30.0, 'Sleep stage R'], [19770.0, 30.0, 'Sleep stage R'], [19800.0, 30.0, 'Sleep stage R'], [19830.0, 30.0, 'Sleep stage R'], [19860.0, 30.0, 'Sleep stage R'], [19890.0, 30.0, 'Sleep stage R'], [19920.0, 30.0, 'Sleep stage R'], [19950.0, 30.0, 'Sleep stage R'], [19980.0, 30.0, 'Sleep stage R'], [20010.0, 30.0, 'Sleep stage R'], [20040.0, 30.0, 'Sleep stage R'], [20070.0, 30.0, 'Sleep stage N1'], [20100.0, 30.0, 'Sleep stage N1'], [20130.0, 30.0, 'Sleep stage N1'], [20160.0, 30.0, 'Sleep stage R'], [20190.0, 30.0, 'Sleep stage R'], [20220.0, 30.0, 'Sleep stage N1'], [20250.0, 30.0, 'Sleep stage R'], [20280.0, 30.0, 'Sleep stage R'], [20310.0, 30.0, 'Sleep stage N1'], [20340.0, 30.0, 'Sleep stage R'], [20370.0, 30.0, 'Sleep stage R'], [20400.0, 30.0, 'Sleep stage N1'], [20430.0, 30.0, 'Sleep stage N1'], [20460.0, 30.0, 'Sleep stage R'], [20490.0, 30.0, 'Sleep stage R'], [20520.0, 30.0, 'Sleep stage N1'], [20550.0, 30.0, 'Sleep stage R'], [20580.0, 30.0, 'Sleep stage R'], [20610.0, 30.0, 'Sleep stage N1'], [20640.0, 30.0, 'Sleep stage N1'], [20670.0, 30.0, 'Sleep stage R'], [20700.0, 30.0, 'Sleep stage R'], [20730.0, 30.0, 'Sleep stage N1'], [20760.0, 30.0, 'Sleep stage N1'], [20790.0, 30.0, 'Sleep stage R'], [20820.0, 30.0, 'Sleep stage W'], [20850.0, 30.0, 'Sleep stage N1'], [20880.0, 30.0, 'Sleep stage N1'], [20910.0, 30.0, 'Sleep stage N1'], [20940.0, 30.0, 'Sleep stage N1'], [20970.0, 30.0, 'Sleep stage N1'], [21000.0, 30.0, 'Sleep stage R'], [21030.0, 30.0, 'Sleep stage R'], [21060.0, 30.0, 'Sleep stage N1'], [21090.0, 30.0, 'Sleep stage N2'], [21120.0, 30.0, 'Sleep stage N2'], [21150.0, 30.0, 'Sleep stage N2'], [21180.0, 30.0, 'Sleep stage N2'], [21210.0, 30.0, 'Sleep stage N2'], [21240.0, 30.0, 'Sleep stage N2'], [21270.0, 30.0, 'Sleep stage N2'], [21300.0, 30.0, 'Sleep stage N2'], [21330.0, 30.0, 'Sleep stage N2'], [21360.0, 30.0, 'Sleep stage N3'], [21390.0, 30.0, 'Sleep stage N3'], [21420.0, 30.0, 'Sleep stage N3'], [21450.0, 30.0, 'Sleep stage N3'], [21480.0, 30.0, 'Sleep stage N3'], [21510.0, 30.0, 'Sleep stage N3'], [21540.0, 30.0, 'Sleep stage N3'], [21570.0, 30.0, 'Sleep stage N3'], [21600.0, 30.0, 'Sleep stage N3'], [21630.0, 30.0, 'Sleep stage N3'], [21660.0, 30.0, 'Sleep stage N3'], [21690.0, 30.0, 'Sleep stage N3'], [21720.0, 30.0, 'Sleep stage N3'], [21750.0, 30.0, 'Sleep stage N3'], [21780.0, 30.0, 'Sleep stage N3'], [21810.0, 30.0, 'Sleep stage N3'], [21840.0, 30.0, 'Sleep stage N3'], [21870.0, 30.0, 'Sleep stage N3'], [21900.0, 30.0, 'Sleep stage N3'], [21930.0, 30.0, 'Sleep stage N3'], [21960.0, 30.0, 'Sleep stage N3'], [21990.0, 30.0, 'Sleep stage N3'], [22020.0, 30.0, 'Sleep stage N2'], [22050.0, 30.0, 'Sleep stage N2'], [22080.0, 30.0, 'Sleep stage N1'], [22110.0, 30.0, 'Sleep stage N1'], [22140.0, 30.0, 'Sleep stage N1'], [22170.0, 30.0, 'Sleep stage N1'], [22200.0, 30.0, 'Sleep stage N1'], [22230.0, 30.0, 'Sleep stage W'], [22260.0, 30.0, 'Sleep stage W'], [22290.0, 30.0, 'Sleep stage N1'], [22320.0, 30.0, 'Sleep stage N1'], [22350.0, 30.0, 'Sleep stage N1'], [22380.0, 30.0, 'Sleep stage N1'], [22410.0, 30.0, 'Sleep stage W'], [22440.0, 30.0, 'Sleep stage W'], [22470.0, 30.0, 'Sleep stage W'], [22500.0, 30.0, 'Sleep stage W'], [22530.0, 30.0, 'Sleep stage W'], [22560.0, 30.0, 'Sleep stage W'], [22590.0, 30.0, 'Sleep stage W'], [22620.0, 30.0, 'Sleep stage N1'], [22650.0, 30.0, 'Sleep stage N1'], [22680.0, 30.0, 'Sleep stage N1'], [22710.0, 30.0, 'Sleep stage W'], [22740.0, 30.0, 'Sleep stage W'], [22770.0, 30.0, 'Sleep stage W'], [22800.0, 30.0, 'Sleep stage W'], [22830.0, 30.0, 'Sleep stage N1'], [22860.0, 30.0, 'Sleep stage W'], [22890.0, 30.0, 'Sleep stage N1'], [22920.0, 30.0, 'Sleep stage N1'], [22950.0, 30.0, 'Sleep stage W'], [22980.0, 30.0, 'Sleep stage W'], [23010.0, 30.0, 'Sleep stage W'], [23040.0, 30.0, 'Sleep stage W'], [23070.0, 30.0, 'Sleep stage N1'], [23100.0, 30.0, 'Sleep stage N1'], [23130.0, 30.0, 'Sleep stage N1'], [23159.7, 0.0, 'Lights on@@SaO2'], [23160.0, 30.0, 'Sleep stage W']]\n",
            "Sleep stage W\n"
          ]
        }
      ],
      "source": [
        "_, _, annotations_header = highlevel.read_edf(labels[27])\n",
        "ann = annotations_header['annotations']\n",
        "print(ann)\n",
        "print(ann[0][2])\n",
        "label = []\n",
        "for i in range(len(ann)):\n",
        "  j = ann[i][2][0].upper()\n",
        "  if j == 'S':                   #Lights off & Lights on 제거\n",
        "    label.append(ann[i][2])"
      ]
    },
    {
      "cell_type": "code",
      "execution_count": null,
      "metadata": {
        "colab": {
          "base_uri": "https://localhost:8080/"
        },
        "id": "ZLDekurgzujX",
        "outputId": "552ceac4-ae6b-4f25-8982-462623274f29"
      },
      "outputs": [
        {
          "name": "stdout",
          "output_type": "stream",
          "text": [
            "signals=[[-4.95161364e+02 -3.51604486e+02 -2.39322499e+02 ... -3.66216526e-02\n",
            "  -3.66216526e-02 -3.66216526e-02]]\n",
            "label=['Sleep stage W', 'Sleep stage W', 'Sleep stage W', 'Sleep stage W', 'Sleep stage W', 'Sleep stage W', 'Sleep stage W', 'Sleep stage W', 'Sleep stage W', 'Sleep stage W', 'Sleep stage W', 'Sleep stage W', 'Sleep stage W', 'Sleep stage W', 'Sleep stage W', 'Sleep stage W', 'Sleep stage W', 'Sleep stage W', 'Sleep stage W', 'Sleep stage W', 'Sleep stage W', 'Sleep stage W', 'Sleep stage W', 'Sleep stage W', 'Sleep stage N1', 'Sleep stage W', 'Sleep stage W', 'Sleep stage W', 'Sleep stage W', 'Sleep stage W', 'Sleep stage W', 'Sleep stage W', 'Sleep stage W', 'Sleep stage N1', 'Sleep stage N1', 'Sleep stage N1', 'Sleep stage N1', 'Sleep stage N1', 'Sleep stage N1', 'Sleep stage N1', 'Sleep stage N1', 'Sleep stage N1', 'Sleep stage N1', 'Sleep stage N2', 'Sleep stage N1', 'Sleep stage W', 'Sleep stage W', 'Sleep stage N1', 'Sleep stage N1', 'Sleep stage N1', 'Sleep stage N2', 'Sleep stage N1', 'Sleep stage N2', 'Sleep stage N2', 'Sleep stage N2', 'Sleep stage N2', 'Sleep stage N2', 'Sleep stage N2', 'Sleep stage N2', 'Sleep stage N2', 'Sleep stage N2', 'Sleep stage N2', 'Sleep stage N2', 'Sleep stage N2', 'Sleep stage N2', 'Sleep stage N2', 'Sleep stage N2', 'Sleep stage N2', 'Sleep stage N2', 'Sleep stage N3', 'Sleep stage N3', 'Sleep stage N3', 'Sleep stage N3', 'Sleep stage N3', 'Sleep stage N3', 'Sleep stage N3', 'Sleep stage N3', 'Sleep stage N1', 'Sleep stage N2', 'Sleep stage N2', 'Sleep stage N2', 'Sleep stage N2', 'Sleep stage N2', 'Sleep stage N2', 'Sleep stage N2', 'Sleep stage N1', 'Sleep stage W', 'Sleep stage N1', 'Sleep stage N1', 'Sleep stage N1', 'Sleep stage N2', 'Sleep stage N1', 'Sleep stage N2', 'Sleep stage N2', 'Sleep stage N2', 'Sleep stage N2', 'Sleep stage N2', 'Sleep stage N2', 'Sleep stage N2', 'Sleep stage N2', 'Sleep stage N2', 'Sleep stage N3', 'Sleep stage N3', 'Sleep stage N3', 'Sleep stage N3', 'Sleep stage N3', 'Sleep stage N3', 'Sleep stage N3', 'Sleep stage N3', 'Sleep stage N3', 'Sleep stage N3', 'Sleep stage N3', 'Sleep stage N3', 'Sleep stage N3', 'Sleep stage N3', 'Sleep stage N3', 'Sleep stage N3', 'Sleep stage N3', 'Sleep stage N3', 'Sleep stage N3', 'Sleep stage N3', 'Sleep stage N3', 'Sleep stage N3', 'Sleep stage N3', 'Sleep stage N3', 'Sleep stage N3', 'Sleep stage N3', 'Sleep stage N3', 'Sleep stage N3', 'Sleep stage N3', 'Sleep stage R', 'Sleep stage R', 'Sleep stage R', 'Sleep stage R', 'Sleep stage N1', 'Sleep stage N1', 'Sleep stage N1', 'Sleep stage W', 'Sleep stage N1', 'Sleep stage R', 'Sleep stage R', 'Sleep stage R', 'Sleep stage R', 'Sleep stage N1', 'Sleep stage N1', 'Sleep stage N1', 'Sleep stage N1', 'Sleep stage N1', 'Sleep stage N1', 'Sleep stage R', 'Sleep stage R', 'Sleep stage N1', 'Sleep stage N1', 'Sleep stage N1', 'Sleep stage N1', 'Sleep stage N1', 'Sleep stage R', 'Sleep stage N1', 'Sleep stage N1', 'Sleep stage R', 'Sleep stage R', 'Sleep stage N1', 'Sleep stage N1', 'Sleep stage N1', 'Sleep stage R', 'Sleep stage N1', 'Sleep stage R', 'Sleep stage R', 'Sleep stage N1', 'Sleep stage N1', 'Sleep stage N1', 'Sleep stage N1', 'Sleep stage N1', 'Sleep stage N1', 'Sleep stage W', 'Sleep stage N1', 'Sleep stage N1', 'Sleep stage N1', 'Sleep stage N1', 'Sleep stage N1', 'Sleep stage N2', 'Sleep stage N2', 'Sleep stage N2', 'Sleep stage N2', 'Sleep stage N2', 'Sleep stage N2', 'Sleep stage N2', 'Sleep stage N2', 'Sleep stage N2', 'Sleep stage W', 'Sleep stage W', 'Sleep stage W', 'Sleep stage N1', 'Sleep stage W', 'Sleep stage W', 'Sleep stage N1', 'Sleep stage N2', 'Sleep stage N2', 'Sleep stage N1', 'Sleep stage N2', 'Sleep stage N2', 'Sleep stage N2', 'Sleep stage N2', 'Sleep stage N2', 'Sleep stage N2', 'Sleep stage N2', 'Sleep stage N2', 'Sleep stage N2', 'Sleep stage N2', 'Sleep stage N2', 'Sleep stage N2', 'Sleep stage N2', 'Sleep stage N2', 'Sleep stage N2', 'Sleep stage N2', 'Sleep stage N2', 'Sleep stage N2', 'Sleep stage N3', 'Sleep stage N3', 'Sleep stage N3', 'Sleep stage N3', 'Sleep stage N3', 'Sleep stage N3', 'Sleep stage N3', 'Sleep stage N3', 'Sleep stage N3', 'Sleep stage N3', 'Sleep stage N3', 'Sleep stage N3', 'Sleep stage N3', 'Sleep stage N3', 'Sleep stage N3', 'Sleep stage N3', 'Sleep stage N3', 'Sleep stage N3', 'Sleep stage N3', 'Sleep stage N3', 'Sleep stage N3', 'Sleep stage N3', 'Sleep stage N2', 'Sleep stage N3', 'Sleep stage N2', 'Sleep stage N1', 'Sleep stage W', 'Sleep stage N1', 'Sleep stage N1', 'Sleep stage N1', 'Sleep stage N1', 'Sleep stage N2', 'Sleep stage N2', 'Sleep stage N1', 'Sleep stage N1', 'Sleep stage W', 'Sleep stage N1', 'Sleep stage N1', 'Sleep stage N1', 'Sleep stage N1', 'Sleep stage N2', 'Sleep stage N2', 'Sleep stage N2', 'Sleep stage N2', 'Sleep stage N2', 'Sleep stage N2', 'Sleep stage N2', 'Sleep stage N2', 'Sleep stage N2', 'Sleep stage N2', 'Sleep stage N2', 'Sleep stage W', 'Sleep stage N1', 'Sleep stage N1', 'Sleep stage N2', 'Sleep stage N2', 'Sleep stage N2', 'Sleep stage N1', 'Sleep stage N2', 'Sleep stage N2', 'Sleep stage N2', 'Sleep stage N3', 'Sleep stage N3', 'Sleep stage N3', 'Sleep stage N3', 'Sleep stage N1', 'Sleep stage N1', 'Sleep stage N2', 'Sleep stage N2', 'Sleep stage N3', 'Sleep stage N3', 'Sleep stage N3', 'Sleep stage N3', 'Sleep stage N3', 'Sleep stage N3', 'Sleep stage N3', 'Sleep stage N3', 'Sleep stage N3', 'Sleep stage N1', 'Sleep stage N1', 'Sleep stage N2', 'Sleep stage N1', 'Sleep stage N2', 'Sleep stage N2', 'Sleep stage N1', 'Sleep stage N2', 'Sleep stage N2', 'Sleep stage N2', 'Sleep stage N1', 'Sleep stage R', 'Sleep stage R', 'Sleep stage R', 'Sleep stage R', 'Sleep stage N1', 'Sleep stage R', 'Sleep stage R', 'Sleep stage N1', 'Sleep stage N1', 'Sleep stage N1', 'Sleep stage R', 'Sleep stage N1', 'Sleep stage R', 'Sleep stage N1', 'Sleep stage R', 'Sleep stage R', 'Sleep stage N1', 'Sleep stage R', 'Sleep stage N1', 'Sleep stage N1', 'Sleep stage R', 'Sleep stage R', 'Sleep stage N1', 'Sleep stage R', 'Sleep stage R', 'Sleep stage N1', 'Sleep stage R', 'Sleep stage R', 'Sleep stage R', 'Sleep stage R', 'Sleep stage R', 'Sleep stage R', 'Sleep stage R', 'Sleep stage N1', 'Sleep stage R', 'Sleep stage R', 'Sleep stage N1', 'Sleep stage R', 'Sleep stage R', 'Sleep stage N1', 'Sleep stage R', 'Sleep stage R', 'Sleep stage N1', 'Sleep stage R', 'Sleep stage R', 'Sleep stage W', 'Sleep stage N1', 'Sleep stage N1', 'Sleep stage R', 'Sleep stage N1', 'Sleep stage R', 'Sleep stage R', 'Sleep stage N1', 'Sleep stage R', 'Sleep stage W', 'Sleep stage W', 'Sleep stage N1', 'Sleep stage N1', 'Sleep stage N1', 'Sleep stage N1', 'Sleep stage N1', 'Sleep stage N1', 'Sleep stage N2', 'Sleep stage N2', 'Sleep stage N2', 'Sleep stage N1', 'Sleep stage N1', 'Sleep stage N1', 'Sleep stage N2', 'Sleep stage N2', 'Sleep stage N2', 'Sleep stage N2', 'Sleep stage N2', 'Sleep stage N2', 'Sleep stage N2', 'Sleep stage N2', 'Sleep stage N2', 'Sleep stage N2', 'Sleep stage N2', 'Sleep stage N2', 'Sleep stage N2', 'Sleep stage N2', 'Sleep stage N2', 'Sleep stage N2', 'Sleep stage N2', 'Sleep stage N2', 'Sleep stage N2', 'Sleep stage N2', 'Sleep stage N3', 'Sleep stage N3', 'Sleep stage N3', 'Sleep stage N3', 'Sleep stage N3', 'Sleep stage N3', 'Sleep stage N3', 'Sleep stage N3', 'Sleep stage N3', 'Sleep stage N3', 'Sleep stage N3', 'Sleep stage N3', 'Sleep stage N3', 'Sleep stage N3', 'Sleep stage N3', 'Sleep stage N3', 'Sleep stage N3', 'Sleep stage N3', 'Sleep stage N3', 'Sleep stage N3', 'Sleep stage N3', 'Sleep stage N3', 'Sleep stage N3', 'Sleep stage N3', 'Sleep stage N3', 'Sleep stage N3', 'Sleep stage N3', 'Sleep stage N3', 'Sleep stage N3', 'Sleep stage N1', 'Sleep stage N2', 'Sleep stage N2', 'Sleep stage N2', 'Sleep stage N2', 'Sleep stage N2', 'Sleep stage N2', 'Sleep stage N2', 'Sleep stage N2', 'Sleep stage N2', 'Sleep stage N2', 'Sleep stage N2', 'Sleep stage N2', 'Sleep stage N2', 'Sleep stage N2', 'Sleep stage N2', 'Sleep stage N2', 'Sleep stage N2', 'Sleep stage N2', 'Sleep stage N2', 'Sleep stage N2', 'Sleep stage N2', 'Sleep stage N2', 'Sleep stage N2', 'Sleep stage N2', 'Sleep stage N2', 'Sleep stage N2', 'Sleep stage N2', 'Sleep stage N2', 'Sleep stage N2', 'Sleep stage N2', 'Sleep stage N2', 'Sleep stage N2', 'Sleep stage N2', 'Sleep stage N2', 'Sleep stage N1', 'Sleep stage N1', 'Sleep stage N1', 'Sleep stage N2', 'Sleep stage N1', 'Sleep stage N1', 'Sleep stage N1', 'Sleep stage N2', 'Sleep stage N1', 'Sleep stage N1', 'Sleep stage N1', 'Sleep stage N1', 'Sleep stage R', 'Sleep stage R', 'Sleep stage R', 'Sleep stage R', 'Sleep stage N1', 'Sleep stage R', 'Sleep stage R', 'Sleep stage R', 'Sleep stage R', 'Sleep stage N1', 'Sleep stage R', 'Sleep stage R', 'Sleep stage R', 'Sleep stage R', 'Sleep stage R', 'Sleep stage R', 'Sleep stage R', 'Sleep stage R', 'Sleep stage R', 'Sleep stage R', 'Sleep stage R', 'Sleep stage R', 'Sleep stage R', 'Sleep stage R', 'Sleep stage R', 'Sleep stage R', 'Sleep stage R', 'Sleep stage R', 'Sleep stage R', 'Sleep stage R', 'Sleep stage N1', 'Sleep stage R', 'Sleep stage R', 'Sleep stage R', 'Sleep stage W', 'Sleep stage N1', 'Sleep stage N1', 'Sleep stage N1', 'Sleep stage N1', 'Sleep stage N1', 'Sleep stage N1', 'Sleep stage N1', 'Sleep stage N1', 'Sleep stage N1', 'Sleep stage R', 'Sleep stage R', 'Sleep stage N1', 'Sleep stage R', 'Sleep stage N1', 'Sleep stage N1', 'Sleep stage R', 'Sleep stage N1', 'Sleep stage N1', 'Sleep stage N2', 'Sleep stage N2', 'Sleep stage N1', 'Sleep stage W', 'Sleep stage N1', 'Sleep stage N2', 'Sleep stage N2', 'Sleep stage N2', 'Sleep stage N2', 'Sleep stage N2', 'Sleep stage N1', 'Sleep stage N1', 'Sleep stage N2', 'Sleep stage N1', 'Sleep stage N1', 'Sleep stage N1', 'Sleep stage N1', 'Sleep stage N1', 'Sleep stage N2', 'Sleep stage N2', 'Sleep stage N1', 'Sleep stage N2', 'Sleep stage N1', 'Sleep stage N1', 'Sleep stage N1', 'Sleep stage N2', 'Sleep stage N2', 'Sleep stage N2', 'Sleep stage N1', 'Sleep stage N1', 'Sleep stage N2', 'Sleep stage N2', 'Sleep stage N2', 'Sleep stage N2', 'Sleep stage W', 'Sleep stage W', 'Sleep stage W', 'Sleep stage N1', 'Sleep stage N1', 'Sleep stage N1', 'Sleep stage N1', 'Sleep stage N1', 'Sleep stage N1', 'Sleep stage N1', 'Sleep stage N1', 'Sleep stage N1', 'Sleep stage N2', 'Sleep stage N1', 'Sleep stage N1', 'Sleep stage N1', 'Sleep stage N1', 'Sleep stage N2', 'Sleep stage N2', 'Sleep stage N2', 'Sleep stage N2', 'Sleep stage N2', 'Sleep stage N2', 'Sleep stage N2', 'Sleep stage N2', 'Sleep stage N2', 'Sleep stage N2', 'Sleep stage N2', 'Sleep stage N2', 'Sleep stage N2', 'Sleep stage N2', 'Sleep stage N2', 'Sleep stage N1', 'Sleep stage N1', 'Sleep stage N1', 'Sleep stage N1', 'Sleep stage N1', 'Sleep stage N2', 'Sleep stage N2', 'Sleep stage N2', 'Sleep stage N1', 'Sleep stage N1', 'Sleep stage N2', 'Sleep stage N1', 'Sleep stage N1', 'Sleep stage N1', 'Sleep stage N1', 'Sleep stage N1', 'Sleep stage N2', 'Sleep stage N2', 'Sleep stage N2', 'Sleep stage N2', 'Sleep stage N2', 'Sleep stage N2', 'Sleep stage N2', 'Sleep stage N2', 'Sleep stage N2', 'Sleep stage N2', 'Sleep stage N2', 'Sleep stage N2', 'Sleep stage N2', 'Sleep stage N2', 'Sleep stage N2', 'Sleep stage N2', 'Sleep stage N2', 'Sleep stage N2', 'Sleep stage N2', 'Sleep stage N2', 'Sleep stage N3', 'Sleep stage N2', 'Sleep stage N3', 'Sleep stage N3', 'Sleep stage N3', 'Sleep stage N3', 'Sleep stage N1', 'Sleep stage N1', 'Sleep stage N2', 'Sleep stage N2', 'Sleep stage N2', 'Sleep stage N2', 'Sleep stage N2', 'Sleep stage N2', 'Sleep stage N2', 'Sleep stage N2', 'Sleep stage N2', 'Sleep stage N2', 'Sleep stage N1', 'Sleep stage N1', 'Sleep stage W', 'Sleep stage N1', 'Sleep stage N1', 'Sleep stage N1', 'Sleep stage N2', 'Sleep stage N2', 'Sleep stage N2', 'Sleep stage N1', 'Sleep stage N2', 'Sleep stage R', 'Sleep stage R', 'Sleep stage R', 'Sleep stage N1', 'Sleep stage R', 'Sleep stage R', 'Sleep stage R', 'Sleep stage R', 'Sleep stage R', 'Sleep stage R', 'Sleep stage R', 'Sleep stage R', 'Sleep stage R', 'Sleep stage R', 'Sleep stage R', 'Sleep stage N1', 'Sleep stage N1', 'Sleep stage N1', 'Sleep stage R', 'Sleep stage R', 'Sleep stage N1', 'Sleep stage R', 'Sleep stage R', 'Sleep stage N1', 'Sleep stage R', 'Sleep stage R', 'Sleep stage N1', 'Sleep stage N1', 'Sleep stage R', 'Sleep stage R', 'Sleep stage N1', 'Sleep stage R', 'Sleep stage R', 'Sleep stage N1', 'Sleep stage N1', 'Sleep stage R', 'Sleep stage R', 'Sleep stage N1', 'Sleep stage N1', 'Sleep stage R', 'Sleep stage W', 'Sleep stage N1', 'Sleep stage N1', 'Sleep stage N1', 'Sleep stage N1', 'Sleep stage N1', 'Sleep stage R', 'Sleep stage R', 'Sleep stage N1', 'Sleep stage N2', 'Sleep stage N2', 'Sleep stage N2', 'Sleep stage N2', 'Sleep stage N2', 'Sleep stage N2', 'Sleep stage N2', 'Sleep stage N2', 'Sleep stage N2', 'Sleep stage N3', 'Sleep stage N3', 'Sleep stage N3', 'Sleep stage N3', 'Sleep stage N3', 'Sleep stage N3', 'Sleep stage N3', 'Sleep stage N3', 'Sleep stage N3', 'Sleep stage N3', 'Sleep stage N3', 'Sleep stage N3', 'Sleep stage N3', 'Sleep stage N3', 'Sleep stage N3', 'Sleep stage N3', 'Sleep stage N3', 'Sleep stage N3', 'Sleep stage N3', 'Sleep stage N3', 'Sleep stage N3', 'Sleep stage N3', 'Sleep stage N2', 'Sleep stage N2', 'Sleep stage N1', 'Sleep stage N1', 'Sleep stage N1', 'Sleep stage N1', 'Sleep stage N1', 'Sleep stage W', 'Sleep stage W', 'Sleep stage N1', 'Sleep stage N1', 'Sleep stage N1', 'Sleep stage N1', 'Sleep stage W', 'Sleep stage W', 'Sleep stage W', 'Sleep stage W', 'Sleep stage W', 'Sleep stage W', 'Sleep stage W', 'Sleep stage N1', 'Sleep stage N1', 'Sleep stage N1', 'Sleep stage W', 'Sleep stage W', 'Sleep stage W', 'Sleep stage W', 'Sleep stage N1', 'Sleep stage W', 'Sleep stage N1', 'Sleep stage N1', 'Sleep stage W', 'Sleep stage W', 'Sleep stage W', 'Sleep stage W', 'Sleep stage N1', 'Sleep stage N1', 'Sleep stage N1', 'Sleep stage W']\n",
            "5936896\n",
            "signals_len : 773\n",
            "annotations_len : 773\n",
            "2001-01-01 00:49:00\n",
            "2001-01-01 00:49:00\n",
            "/content/drive/MyDrive/physionet/HMC/hmc-sleep-staging/recordings/SN031.edf\n"
          ]
        }
      ],
      "source": [
        "signals, _, signals_header = highlevel.read_edf(trains[27],ch_names='ECG')\n",
        "print(f'signals={signals}')\n",
        "print(f'label={label}')\n",
        "print(len(signals[0]))\n",
        "signals_len = len(signals[0]) // 256 // 30 #전체 진폭데이터를 초당 256HZ로 샘플링 되었으니까 나누게 되면 이 기록데이터 하나의 시간이 나오고 그걸 30초로 나누면 한 기록데이터에서 30초 단위의 데이터가 몇개 나오는지 알 수 있다.\n",
        "annotations_len = len(label)\n",
        "print(f'signals_len : {signals_len}')\n",
        "print(f'annotations_len : {annotations_len}')\n",
        "print(signals_header['startdate'])\n",
        "print(annotations_header['startdate'])\n",
        "signals = np.array(signals)\n",
        "print(trains[27])"
      ]
    },
    {
      "cell_type": "markdown",
      "metadata": {
        "id": "n9tVbt3ajkxw"
      },
      "source": [
        "define custom dataloader"
      ]
    },
    {
      "cell_type": "code",
      "execution_count": null,
      "metadata": {
        "id": "fLDjCrQOjhrp"
      },
      "outputs": [],
      "source": [
        "#custom dataloader"
      ]
    },
    {
      "cell_type": "markdown",
      "metadata": {
        "id": "5NuUTJ_ObLPv"
      },
      "source": [
        "##keras timeseries classification "
      ]
    },
    {
      "cell_type": "markdown",
      "source": [
        "import lib"
      ],
      "metadata": {
        "id": "pKsupxaPx7W6"
      }
    },
    {
      "cell_type": "code",
      "source": [
        "!pip install tensorflow==2.7.0"
      ],
      "metadata": {
        "colab": {
          "base_uri": "https://localhost:8080/"
        },
        "id": "htd8liz27q4R",
        "outputId": "5ec4ba5d-1ba9-4cad-b440-4029913258b6"
      },
      "execution_count": 19,
      "outputs": [
        {
          "output_type": "stream",
          "name": "stdout",
          "text": [
            "Looking in indexes: https://pypi.org/simple, https://us-python.pkg.dev/colab-wheels/public/simple/\n",
            "Collecting tensorflow==2.7.0\n",
            "  Downloading https://us-python.pkg.dev/colab-wheels/public/tensorflow/tensorflow-2.7.0%2Bzzzcolab20220506150900-cp37-cp37m-linux_x86_64.whl\n",
            "\u001b[K     \\ 665.5 MB 406 kB/s\n",
            "\u001b[?25hRequirement already satisfied: tensorflow-io-gcs-filesystem>=0.21.0 in /usr/local/lib/python3.7/dist-packages (from tensorflow==2.7.0) (0.26.0)\n",
            "Requirement already satisfied: h5py>=2.9.0 in /usr/local/lib/python3.7/dist-packages (from tensorflow==2.7.0) (3.1.0)\n",
            "Requirement already satisfied: absl-py>=0.4.0 in /usr/local/lib/python3.7/dist-packages (from tensorflow==2.7.0) (1.0.0)\n",
            "Requirement already satisfied: termcolor>=1.1.0 in /usr/local/lib/python3.7/dist-packages (from tensorflow==2.7.0) (1.1.0)\n",
            "Collecting tensorflow-estimator<2.8,~=2.7.0rc0\n",
            "  Downloading tensorflow_estimator-2.7.0-py2.py3-none-any.whl (463 kB)\n",
            "\u001b[K     |████████████████████████████████| 463 kB 4.1 MB/s \n",
            "\u001b[?25hRequirement already satisfied: numpy>=1.14.5 in /usr/local/lib/python3.7/dist-packages (from tensorflow==2.7.0) (1.21.6)\n",
            "Collecting gast<0.5.0,>=0.2.1\n",
            "  Downloading gast-0.4.0-py3-none-any.whl (9.8 kB)\n",
            "Requirement already satisfied: six>=1.12.0 in /usr/local/lib/python3.7/dist-packages (from tensorflow==2.7.0) (1.15.0)\n",
            "Requirement already satisfied: opt-einsum>=2.3.2 in /usr/local/lib/python3.7/dist-packages (from tensorflow==2.7.0) (3.3.0)\n",
            "Requirement already satisfied: typing-extensions>=3.6.6 in /usr/local/lib/python3.7/dist-packages (from tensorflow==2.7.0) (4.2.0)\n",
            "Requirement already satisfied: google-pasta>=0.1.1 in /usr/local/lib/python3.7/dist-packages (from tensorflow==2.7.0) (0.2.0)\n",
            "Requirement already satisfied: wheel<1.0,>=0.32.0 in /usr/local/lib/python3.7/dist-packages (from tensorflow==2.7.0) (0.37.1)\n",
            "Requirement already satisfied: grpcio<2.0,>=1.24.3 in /usr/local/lib/python3.7/dist-packages (from tensorflow==2.7.0) (1.46.1)\n",
            "Collecting keras<2.8,>=2.7.0rc0\n",
            "  Downloading keras-2.7.0-py2.py3-none-any.whl (1.3 MB)\n",
            "\u001b[K     |████████████████████████████████| 1.3 MB 94.3 MB/s \n",
            "\u001b[?25hRequirement already satisfied: tensorboard~=2.6 in /usr/local/lib/python3.7/dist-packages (from tensorflow==2.7.0) (2.8.0)\n",
            "Requirement already satisfied: protobuf>=3.9.2 in /usr/local/lib/python3.7/dist-packages (from tensorflow==2.7.0) (3.17.3)\n",
            "Requirement already satisfied: libclang>=9.0.1 in /usr/local/lib/python3.7/dist-packages (from tensorflow==2.7.0) (14.0.1)\n",
            "Requirement already satisfied: flatbuffers<3.0,>=1.12 in /usr/local/lib/python3.7/dist-packages (from tensorflow==2.7.0) (2.0)\n",
            "Requirement already satisfied: wrapt>=1.11.0 in /usr/local/lib/python3.7/dist-packages (from tensorflow==2.7.0) (1.14.1)\n",
            "Requirement already satisfied: astunparse>=1.6.0 in /usr/local/lib/python3.7/dist-packages (from tensorflow==2.7.0) (1.6.3)\n",
            "Requirement already satisfied: keras-preprocessing>=1.1.1 in /usr/local/lib/python3.7/dist-packages (from tensorflow==2.7.0) (1.1.2)\n",
            "Requirement already satisfied: cached-property in /usr/local/lib/python3.7/dist-packages (from h5py>=2.9.0->tensorflow==2.7.0) (1.5.2)\n",
            "Requirement already satisfied: werkzeug>=0.11.15 in /usr/local/lib/python3.7/dist-packages (from tensorboard~=2.6->tensorflow==2.7.0) (1.0.1)\n",
            "Requirement already satisfied: markdown>=2.6.8 in /usr/local/lib/python3.7/dist-packages (from tensorboard~=2.6->tensorflow==2.7.0) (3.3.7)\n",
            "Requirement already satisfied: setuptools>=41.0.0 in /usr/local/lib/python3.7/dist-packages (from tensorboard~=2.6->tensorflow==2.7.0) (57.4.0)\n",
            "Requirement already satisfied: google-auth<3,>=1.6.3 in /usr/local/lib/python3.7/dist-packages (from tensorboard~=2.6->tensorflow==2.7.0) (1.35.0)\n",
            "Requirement already satisfied: tensorboard-plugin-wit>=1.6.0 in /usr/local/lib/python3.7/dist-packages (from tensorboard~=2.6->tensorflow==2.7.0) (1.8.1)\n",
            "Requirement already satisfied: requests<3,>=2.21.0 in /usr/local/lib/python3.7/dist-packages (from tensorboard~=2.6->tensorflow==2.7.0) (2.23.0)\n",
            "Requirement already satisfied: tensorboard-data-server<0.7.0,>=0.6.0 in /usr/local/lib/python3.7/dist-packages (from tensorboard~=2.6->tensorflow==2.7.0) (0.6.1)\n",
            "Requirement already satisfied: google-auth-oauthlib<0.5,>=0.4.1 in /usr/local/lib/python3.7/dist-packages (from tensorboard~=2.6->tensorflow==2.7.0) (0.4.6)\n",
            "Requirement already satisfied: rsa<5,>=3.1.4 in /usr/local/lib/python3.7/dist-packages (from google-auth<3,>=1.6.3->tensorboard~=2.6->tensorflow==2.7.0) (4.8)\n",
            "Requirement already satisfied: cachetools<5.0,>=2.0.0 in /usr/local/lib/python3.7/dist-packages (from google-auth<3,>=1.6.3->tensorboard~=2.6->tensorflow==2.7.0) (4.2.4)\n",
            "Requirement already satisfied: pyasn1-modules>=0.2.1 in /usr/local/lib/python3.7/dist-packages (from google-auth<3,>=1.6.3->tensorboard~=2.6->tensorflow==2.7.0) (0.2.8)\n",
            "Requirement already satisfied: requests-oauthlib>=0.7.0 in /usr/local/lib/python3.7/dist-packages (from google-auth-oauthlib<0.5,>=0.4.1->tensorboard~=2.6->tensorflow==2.7.0) (1.3.1)\n",
            "Requirement already satisfied: importlib-metadata>=4.4 in /usr/local/lib/python3.7/dist-packages (from markdown>=2.6.8->tensorboard~=2.6->tensorflow==2.7.0) (4.11.3)\n",
            "Requirement already satisfied: zipp>=0.5 in /usr/local/lib/python3.7/dist-packages (from importlib-metadata>=4.4->markdown>=2.6.8->tensorboard~=2.6->tensorflow==2.7.0) (3.8.0)\n",
            "Requirement already satisfied: pyasn1<0.5.0,>=0.4.6 in /usr/local/lib/python3.7/dist-packages (from pyasn1-modules>=0.2.1->google-auth<3,>=1.6.3->tensorboard~=2.6->tensorflow==2.7.0) (0.4.8)\n",
            "Requirement already satisfied: idna<3,>=2.5 in /usr/local/lib/python3.7/dist-packages (from requests<3,>=2.21.0->tensorboard~=2.6->tensorflow==2.7.0) (2.10)\n",
            "Requirement already satisfied: certifi>=2017.4.17 in /usr/local/lib/python3.7/dist-packages (from requests<3,>=2.21.0->tensorboard~=2.6->tensorflow==2.7.0) (2022.5.18.1)\n",
            "Requirement already satisfied: chardet<4,>=3.0.2 in /usr/local/lib/python3.7/dist-packages (from requests<3,>=2.21.0->tensorboard~=2.6->tensorflow==2.7.0) (3.0.4)\n",
            "Requirement already satisfied: urllib3!=1.25.0,!=1.25.1,<1.26,>=1.21.1 in /usr/local/lib/python3.7/dist-packages (from requests<3,>=2.21.0->tensorboard~=2.6->tensorflow==2.7.0) (1.24.3)\n",
            "Requirement already satisfied: oauthlib>=3.0.0 in /usr/local/lib/python3.7/dist-packages (from requests-oauthlib>=0.7.0->google-auth-oauthlib<0.5,>=0.4.1->tensorboard~=2.6->tensorflow==2.7.0) (3.2.0)\n",
            "Installing collected packages: tensorflow-estimator, keras, gast, tensorflow\n",
            "  Attempting uninstall: tensorflow-estimator\n",
            "    Found existing installation: tensorflow-estimator 2.8.0\n",
            "    Uninstalling tensorflow-estimator-2.8.0:\n",
            "      Successfully uninstalled tensorflow-estimator-2.8.0\n",
            "  Attempting uninstall: keras\n",
            "    Found existing installation: keras 2.8.0\n",
            "    Uninstalling keras-2.8.0:\n",
            "      Successfully uninstalled keras-2.8.0\n",
            "  Attempting uninstall: gast\n",
            "    Found existing installation: gast 0.5.3\n",
            "    Uninstalling gast-0.5.3:\n",
            "      Successfully uninstalled gast-0.5.3\n",
            "  Attempting uninstall: tensorflow\n",
            "    Found existing installation: tensorflow 2.8.0+zzzcolab20220506162203\n",
            "    Uninstalling tensorflow-2.8.0+zzzcolab20220506162203:\n",
            "      Successfully uninstalled tensorflow-2.8.0+zzzcolab20220506162203\n",
            "Successfully installed gast-0.4.0 keras-2.7.0 tensorflow-2.7.0+zzzcolab20220506150900 tensorflow-estimator-2.7.0\n"
          ]
        }
      ]
    },
    {
      "cell_type": "code",
      "execution_count": 20,
      "metadata": {
        "id": "4IZRCA5bbgTp"
      },
      "outputs": [],
      "source": [
        "from tensorflow import keras\n",
        "import tensorflow as tf\n",
        "import numpy as np\n",
        "import matplotlib.pyplot as plt\n",
        "import pandas as pd\n",
        "#tensorflow.keras.utils.to_categorical\n",
        "\n",
        "import seaborn as sns\n",
        "import matplotlib.pyplot as plt\n",
        "from keras import layers\n",
        "from keras import regularizers"
      ]
    },
    {
      "cell_type": "code",
      "source": [
        "!pip freeze"
      ],
      "metadata": {
        "colab": {
          "base_uri": "https://localhost:8080/"
        },
        "id": "qzPqlDDP38dG",
        "outputId": "0afbcab1-52b2-42c3-b82a-4360f726a5a8"
      },
      "execution_count": 21,
      "outputs": [
        {
          "output_type": "stream",
          "name": "stdout",
          "text": [
            "absl-py==1.0.0\n",
            "alabaster==0.7.12\n",
            "albumentations==0.1.12\n",
            "altair==4.2.0\n",
            "appdirs==1.4.4\n",
            "argon2-cffi==21.3.0\n",
            "argon2-cffi-bindings==21.2.0\n",
            "arviz==0.12.1\n",
            "astor==0.8.1\n",
            "astropy==4.3.1\n",
            "astunparse==1.6.3\n",
            "atari-py==0.2.9\n",
            "atomicwrites==1.4.0\n",
            "attrs==21.4.0\n",
            "audioread==2.1.9\n",
            "autograd==1.4\n",
            "Babel==2.10.1\n",
            "backcall==0.2.0\n",
            "beautifulsoup4==4.6.3\n",
            "bleach==5.0.0\n",
            "blis==0.4.1\n",
            "bokeh==2.3.3\n",
            "Bottleneck==1.3.4\n",
            "branca==0.5.0\n",
            "bs4==0.0.1\n",
            "CacheControl==0.12.11\n",
            "cached-property==1.5.2\n",
            "cachetools==4.2.4\n",
            "catalogue==1.0.0\n",
            "certifi==2022.5.18.1\n",
            "cffi==1.15.0\n",
            "cftime==1.6.0\n",
            "chardet==3.0.4\n",
            "charset-normalizer==2.0.12\n",
            "click==7.1.2\n",
            "cloudpickle==1.3.0\n",
            "cmake==3.22.4\n",
            "cmdstanpy==0.9.5\n",
            "colorcet==3.0.0\n",
            "colorlover==0.3.0\n",
            "community==1.0.0b1\n",
            "contextlib2==0.5.5\n",
            "convertdate==2.4.0\n",
            "coverage==3.7.1\n",
            "coveralls==0.5\n",
            "crcmod==1.7\n",
            "cufflinks==0.17.3\n",
            "cupy-cuda111==9.4.0\n",
            "cvxopt==1.2.7\n",
            "cvxpy==1.0.31\n",
            "cycler==0.11.0\n",
            "cymem==2.0.6\n",
            "Cython==0.29.30\n",
            "daft==0.0.4\n",
            "dask==2.12.0\n",
            "datascience==0.10.6\n",
            "debugpy==1.0.0\n",
            "decorator==4.4.2\n",
            "defusedxml==0.7.1\n",
            "descartes==1.1.0\n",
            "dill==0.3.5.1\n",
            "distributed==1.25.3\n",
            "dlib==19.18.0+zzzcolab20220513001918\n",
            "dm-tree==0.1.7\n",
            "docopt==0.6.2\n",
            "docutils==0.17.1\n",
            "dopamine-rl==1.0.5\n",
            "earthengine-api==0.1.310\n",
            "easydict==1.9\n",
            "ecos==2.0.10\n",
            "editdistance==0.5.3\n",
            "en-core-web-sm @ https://github.com/explosion/spacy-models/releases/download/en_core_web_sm-2.2.5/en_core_web_sm-2.2.5.tar.gz\n",
            "entrypoints==0.4\n",
            "ephem==4.1.3\n",
            "et-xmlfile==1.1.0\n",
            "fa2==0.3.5\n",
            "fastai==1.0.61\n",
            "fastdtw==0.3.4\n",
            "fastjsonschema==2.15.3\n",
            "fastprogress==1.0.2\n",
            "fastrlock==0.8\n",
            "fbprophet==0.7.1\n",
            "feather-format==0.4.1\n",
            "filelock==3.7.0\n",
            "firebase-admin==4.4.0\n",
            "fix-yahoo-finance==0.0.22\n",
            "Flask==1.1.4\n",
            "flatbuffers==2.0\n",
            "folium==0.8.3\n",
            "future==0.16.0\n",
            "gast==0.4.0\n",
            "GDAL==2.2.2\n",
            "gdown==4.4.0\n",
            "gensim==3.6.0\n",
            "geographiclib==1.52\n",
            "geopy==1.17.0\n",
            "gin-config==0.5.0\n",
            "glob2==0.7\n",
            "google==2.0.3\n",
            "google-api-core==1.31.5\n",
            "google-api-python-client==1.12.11\n",
            "google-auth==1.35.0\n",
            "google-auth-httplib2==0.0.4\n",
            "google-auth-oauthlib==0.4.6\n",
            "google-cloud-bigquery==1.21.0\n",
            "google-cloud-bigquery-storage==1.1.1\n",
            "google-cloud-core==1.0.3\n",
            "google-cloud-datastore==1.8.0\n",
            "google-cloud-firestore==1.7.0\n",
            "google-cloud-language==1.2.0\n",
            "google-cloud-storage==1.18.1\n",
            "google-cloud-translate==1.5.0\n",
            "google-colab @ file:///colabtools/dist/google-colab-1.0.0.tar.gz\n",
            "google-pasta==0.2.0\n",
            "google-resumable-media==0.4.1\n",
            "googleapis-common-protos==1.56.1\n",
            "googledrivedownloader==0.4\n",
            "graphviz==0.10.1\n",
            "greenlet==1.1.2\n",
            "grpcio==1.46.1\n",
            "gspread==3.4.2\n",
            "gspread-dataframe==3.0.8\n",
            "gym==0.17.3\n",
            "h5py==3.1.0\n",
            "HeapDict==1.0.1\n",
            "hijri-converter==2.2.3\n",
            "holidays==0.10.5.2\n",
            "holoviews==1.14.9\n",
            "html5lib==1.0.1\n",
            "httpimport==0.5.18\n",
            "httplib2==0.17.4\n",
            "httplib2shim==0.0.3\n",
            "humanize==0.5.1\n",
            "hyperopt==0.1.2\n",
            "ideep4py==2.0.0.post3\n",
            "idna==2.10\n",
            "imageio==2.4.1\n",
            "imagesize==1.3.0\n",
            "imbalanced-learn==0.8.1\n",
            "imblearn==0.0\n",
            "imgaug==0.2.9\n",
            "importlib-metadata==4.11.3\n",
            "importlib-resources==5.7.1\n",
            "imutils==0.5.4\n",
            "inflect==2.1.0\n",
            "iniconfig==1.1.1\n",
            "intel-openmp==2022.1.0\n",
            "intervaltree==2.1.0\n",
            "ipykernel==4.10.1\n",
            "ipython==5.5.0\n",
            "ipython-genutils==0.2.0\n",
            "ipython-sql==0.3.9\n",
            "ipywidgets==7.7.0\n",
            "itsdangerous==1.1.0\n",
            "jax==0.3.8\n",
            "jaxlib @ https://storage.googleapis.com/jax-releases/cuda11/jaxlib-0.3.7+cuda11.cudnn805-cp37-none-manylinux2014_x86_64.whl\n",
            "jedi==0.18.1\n",
            "jieba==0.42.1\n",
            "Jinja2==2.11.3\n",
            "joblib==1.1.0\n",
            "jpeg4py==0.1.4\n",
            "jsonschema==4.3.3\n",
            "jupyter==1.0.0\n",
            "jupyter-client==5.3.5\n",
            "jupyter-console==5.2.0\n",
            "jupyter-core==4.10.0\n",
            "jupyterlab-pygments==0.2.2\n",
            "jupyterlab-widgets==1.1.0\n",
            "kaggle==1.5.12\n",
            "kapre==0.3.7\n",
            "keras==2.7.0\n",
            "Keras-Preprocessing==1.1.2\n",
            "keras-vis==0.4.1\n",
            "kiwisolver==1.4.2\n",
            "korean-lunar-calendar==0.2.1\n",
            "libclang==14.0.1\n",
            "librosa==0.8.1\n",
            "lightgbm==2.2.3\n",
            "llvmlite==0.34.0\n",
            "lmdb==0.99\n",
            "LunarCalendar==0.0.9\n",
            "lxml==4.2.6\n",
            "Markdown==3.3.7\n",
            "MarkupSafe==2.0.1\n",
            "matplotlib==3.2.2\n",
            "matplotlib-inline==0.1.3\n",
            "matplotlib-venn==0.11.7\n",
            "missingno==0.5.1\n",
            "mistune==0.8.4\n",
            "mizani==0.6.0\n",
            "mkl==2019.0\n",
            "mlxtend==0.14.0\n",
            "more-itertools==8.13.0\n",
            "moviepy==0.2.3.5\n",
            "mpmath==1.2.1\n",
            "msgpack==1.0.3\n",
            "multiprocess==0.70.12.2\n",
            "multitasking==0.0.10\n",
            "murmurhash==1.0.7\n",
            "music21==5.5.0\n",
            "natsort==5.5.0\n",
            "nbclient==0.6.3\n",
            "nbconvert==5.6.1\n",
            "nbformat==5.4.0\n",
            "nest-asyncio==1.5.5\n",
            "netCDF4==1.5.8\n",
            "networkx==2.6.3\n",
            "nibabel==3.0.2\n",
            "nltk==3.2.5\n",
            "notebook==5.3.1\n",
            "numba==0.51.2\n",
            "numexpr==2.8.1\n",
            "numpy==1.21.6\n",
            "nvidia-ml-py3==7.352.0\n",
            "oauth2client==4.1.3\n",
            "oauthlib==3.2.0\n",
            "okgrade==0.4.3\n",
            "opencv-contrib-python==4.1.2.30\n",
            "opencv-python==4.1.2.30\n",
            "openpyxl==3.0.10\n",
            "opt-einsum==3.3.0\n",
            "osqp==0.6.2.post0\n",
            "packaging==21.3\n",
            "palettable==3.3.0\n",
            "pandas==1.3.5\n",
            "pandas-datareader==0.9.0\n",
            "pandas-gbq==0.13.3\n",
            "pandas-profiling==1.4.1\n",
            "pandocfilters==1.5.0\n",
            "panel==0.12.1\n",
            "param==1.12.1\n",
            "parso==0.8.3\n",
            "pathlib==1.0.1\n",
            "patsy==0.5.2\n",
            "pep517==0.12.0\n",
            "pexpect==4.8.0\n",
            "pickleshare==0.7.5\n",
            "Pillow==7.1.2\n",
            "pip-tools==6.2.0\n",
            "plac==1.1.3\n",
            "plotly==5.5.0\n",
            "plotnine==0.6.0\n",
            "pluggy==0.7.1\n",
            "pooch==1.6.0\n",
            "portpicker==1.3.9\n",
            "prefetch-generator==1.0.1\n",
            "preshed==3.0.6\n",
            "prettytable==3.3.0\n",
            "progressbar2==3.38.0\n",
            "prometheus-client==0.14.1\n",
            "promise==2.3\n",
            "prompt-toolkit==1.0.18\n",
            "protobuf==3.17.3\n",
            "psutil==5.4.8\n",
            "psycopg2==2.7.6.1\n",
            "ptyprocess==0.7.0\n",
            "py==1.11.0\n",
            "pyarrow==6.0.1\n",
            "pyasn1==0.4.8\n",
            "pyasn1-modules==0.2.8\n",
            "pycocotools==2.0.4\n",
            "pycparser==2.21\n",
            "pyct==0.4.8\n",
            "pydata-google-auth==1.4.0\n",
            "pydot==1.3.0\n",
            "pydot-ng==2.0.0\n",
            "pydotplus==2.0.2\n",
            "PyDrive==1.3.1\n",
            "pyEDFlib==0.1.28\n",
            "pyemd==0.5.1\n",
            "pyerfa==2.0.0.1\n",
            "pyglet==1.5.0\n",
            "Pygments==2.6.1\n",
            "pygobject==3.26.1\n",
            "pymc3==3.11.4\n",
            "PyMeeus==0.5.11\n",
            "pymongo==4.1.1\n",
            "pymystem3==0.2.0\n",
            "PyOpenGL==3.1.6\n",
            "pyparsing==3.0.9\n",
            "pyrsistent==0.18.1\n",
            "pysndfile==1.3.8\n",
            "PySocks==1.7.1\n",
            "pystan==2.19.1.1\n",
            "pytest==3.6.4\n",
            "python-apt==0.0.0\n",
            "python-chess==0.23.11\n",
            "python-dateutil==2.8.2\n",
            "python-louvain==0.16\n",
            "python-slugify==6.1.2\n",
            "python-utils==3.2.3\n",
            "pytz==2022.1\n",
            "pyviz-comms==2.2.0\n",
            "PyWavelets==1.3.0\n",
            "PyYAML==3.13\n",
            "pyzmq==23.0.0\n",
            "qdldl==0.1.5.post2\n",
            "qtconsole==5.3.0\n",
            "QtPy==2.1.0\n",
            "regex==2019.12.20\n",
            "requests==2.23.0\n",
            "requests-oauthlib==1.3.1\n",
            "resampy==0.2.2\n",
            "rpy2==3.4.5\n",
            "rsa==4.8\n",
            "scikit-image==0.18.3\n",
            "scikit-learn==1.0.2\n",
            "scipy==1.4.1\n",
            "screen-resolution-extra==0.0.0\n",
            "scs==3.2.0\n",
            "seaborn==0.11.2\n",
            "semver==2.13.0\n",
            "Send2Trash==1.8.0\n",
            "setuptools-git==1.2\n",
            "Shapely==1.8.2\n",
            "simplegeneric==0.8.1\n",
            "six==1.15.0\n",
            "sklearn==0.0\n",
            "sklearn-pandas==1.8.0\n",
            "smart-open==6.0.0\n",
            "snowballstemmer==2.2.0\n",
            "sortedcontainers==2.4.0\n",
            "SoundFile==0.10.3.post1\n",
            "soupsieve==2.3.2.post1\n",
            "spacy==2.2.4\n",
            "Sphinx==1.8.6\n",
            "sphinxcontrib-serializinghtml==1.1.5\n",
            "sphinxcontrib-websupport==1.2.4\n",
            "SQLAlchemy==1.4.36\n",
            "sqlparse==0.4.2\n",
            "srsly==1.0.5\n",
            "statsmodels==0.10.2\n",
            "sympy==1.7.1\n",
            "tables==3.7.0\n",
            "tabulate==0.8.9\n",
            "tblib==1.7.0\n",
            "tenacity==8.0.1\n",
            "tensorboard==2.8.0\n",
            "tensorboard-data-server==0.6.1\n",
            "tensorboard-plugin-wit==1.8.1\n",
            "tensorflow==2.7.0+zzzcolab20220506150900\n",
            "tensorflow-datasets==4.0.1\n",
            "tensorflow-estimator==2.7.0\n",
            "tensorflow-gcs-config==2.8.0\n",
            "tensorflow-hub==0.12.0\n",
            "tensorflow-io-gcs-filesystem==0.26.0\n",
            "tensorflow-metadata==1.8.0\n",
            "tensorflow-probability==0.16.0\n",
            "termcolor==1.1.0\n",
            "terminado==0.13.3\n",
            "testpath==0.6.0\n",
            "text-unidecode==1.3\n",
            "textblob==0.15.3\n",
            "Theano-PyMC==1.1.2\n",
            "thinc==7.4.0\n",
            "threadpoolctl==3.1.0\n",
            "tifffile==2021.11.2\n",
            "tinycss2==1.1.1\n",
            "tomli==2.0.1\n",
            "toolz==0.11.2\n",
            "torch @ https://download.pytorch.org/whl/cu113/torch-1.11.0%2Bcu113-cp37-cp37m-linux_x86_64.whl\n",
            "torchaudio @ https://download.pytorch.org/whl/cu113/torchaudio-0.11.0%2Bcu113-cp37-cp37m-linux_x86_64.whl\n",
            "torchsummary==1.5.1\n",
            "torchtext==0.12.0\n",
            "torchvision @ https://download.pytorch.org/whl/cu113/torchvision-0.12.0%2Bcu113-cp37-cp37m-linux_x86_64.whl\n",
            "tornado==5.1.1\n",
            "tqdm==4.64.0\n",
            "traitlets==5.1.1\n",
            "tweepy==3.10.0\n",
            "typeguard==2.7.1\n",
            "typing-extensions==4.2.0\n",
            "tzlocal==1.5.1\n",
            "uritemplate==3.0.1\n",
            "urllib3==1.24.3\n",
            "vega-datasets==0.9.0\n",
            "wasabi==0.9.1\n",
            "wcwidth==0.2.5\n",
            "webencodings==0.5.1\n",
            "Werkzeug==1.0.1\n",
            "widgetsnbextension==3.6.0\n",
            "wordcloud==1.5.0\n",
            "wrapt==1.14.1\n",
            "xarray==0.20.2\n",
            "xarray-einstats==0.2.2\n",
            "xgboost==0.90\n",
            "xkit==0.0.0\n",
            "xlrd==1.1.0\n",
            "xlwt==1.3.0\n",
            "yellowbrick==1.4\n",
            "zict==2.2.0\n",
            "zipp==3.8.0\n"
          ]
        }
      ]
    },
    {
      "cell_type": "code",
      "source": [
        "import torch\n",
        "\n",
        "print(\"Torch version:{}\".format(torch.__version__))\n",
        "print(\"cuda version: {}\".format(torch.version.cuda))\n",
        "print(\"cudnn version:{}\".format(torch.backends.cudnn.version()))"
      ],
      "metadata": {
        "colab": {
          "base_uri": "https://localhost:8080/"
        },
        "id": "ofVs07Q54l2T",
        "outputId": "4aacd061-3be6-4c38-d2c9-b81b6866d449"
      },
      "execution_count": 22,
      "outputs": [
        {
          "output_type": "stream",
          "name": "stdout",
          "text": [
            "Torch version:1.11.0+cu113\n",
            "cuda version: 11.3\n",
            "cudnn version:8200\n"
          ]
        }
      ]
    },
    {
      "cell_type": "code",
      "source": [
        "!pip install gast==0.2.2"
      ],
      "metadata": {
        "colab": {
          "base_uri": "https://localhost:8080/",
          "height": 398
        },
        "id": "TtH0uj2TZFJj",
        "outputId": "098818a7-79f5-4315-c073-75c80edfe10f"
      },
      "execution_count": 23,
      "outputs": [
        {
          "output_type": "stream",
          "name": "stdout",
          "text": [
            "Looking in indexes: https://pypi.org/simple, https://us-python.pkg.dev/colab-wheels/public/simple/\n",
            "Collecting gast==0.2.2\n",
            "  Downloading gast-0.2.2.tar.gz (10 kB)\n",
            "Building wheels for collected packages: gast\n",
            "  Building wheel for gast (setup.py) ... \u001b[?25l\u001b[?25hdone\n",
            "  Created wheel for gast: filename=gast-0.2.2-py3-none-any.whl size=7554 sha256=6ee3f25846a648bb0bb9227f76770a2a3f61ea3b44b1333d6be5ea47bdda8d75\n",
            "  Stored in directory: /root/.cache/pip/wheels/21/7f/02/420f32a803f7d0967b48dd823da3f558c5166991bfd204eef3\n",
            "Successfully built gast\n",
            "Installing collected packages: gast\n",
            "  Attempting uninstall: gast\n",
            "    Found existing installation: gast 0.4.0\n",
            "    Uninstalling gast-0.4.0:\n",
            "      Successfully uninstalled gast-0.4.0\n",
            "\u001b[31mERROR: pip's dependency resolver does not currently take into account all the packages that are installed. This behaviour is the source of the following dependency conflicts.\n",
            "tensorflow-probability 0.16.0 requires gast>=0.3.2, but you have gast 0.2.2 which is incompatible.\u001b[0m\n",
            "Successfully installed gast-0.2.2\n"
          ]
        },
        {
          "output_type": "display_data",
          "data": {
            "application/vnd.colab-display-data+json": {
              "pip_warning": {
                "packages": [
                  "gast"
                ]
              }
            }
          },
          "metadata": {}
        }
      ]
    },
    {
      "cell_type": "markdown",
      "source": [
        "gpu설정"
      ],
      "metadata": {
        "id": "GVmrSLvvvuJJ"
      }
    },
    {
      "cell_type": "code",
      "source": [
        "!nvcc --version"
      ],
      "metadata": {
        "colab": {
          "base_uri": "https://localhost:8080/"
        },
        "id": "-ox0WNeBfoCu",
        "outputId": "eb4df663-fb8e-4124-947f-624355d82dd4"
      },
      "execution_count": 24,
      "outputs": [
        {
          "output_type": "stream",
          "name": "stdout",
          "text": [
            "nvcc: NVIDIA (R) Cuda compiler driver\n",
            "Copyright (c) 2005-2020 NVIDIA Corporation\n",
            "Built on Mon_Oct_12_20:09:46_PDT_2020\n",
            "Cuda compilation tools, release 11.1, V11.1.105\n",
            "Build cuda_11.1.TC455_06.29190527_0\n"
          ]
        }
      ]
    },
    {
      "cell_type": "code",
      "source": [
        "!pip install tensorflow-gpu"
      ],
      "metadata": {
        "colab": {
          "base_uri": "https://localhost:8080/",
          "height": 1000
        },
        "id": "5A7v6yCBOmTn",
        "outputId": "f83f12ef-502e-4ca6-91d6-31235df13d27"
      },
      "execution_count": 25,
      "outputs": [
        {
          "output_type": "stream",
          "name": "stdout",
          "text": [
            "Looking in indexes: https://pypi.org/simple, https://us-python.pkg.dev/colab-wheels/public/simple/\n",
            "Collecting tensorflow-gpu\n",
            "  Downloading tensorflow_gpu-2.9.1-cp37-cp37m-manylinux_2_17_x86_64.manylinux2014_x86_64.whl (511.7 MB)\n",
            "\u001b[K     |████████████████████████████████| 511.7 MB 5.8 kB/s \n",
            "\u001b[?25hRequirement already satisfied: typing-extensions>=3.6.6 in /usr/local/lib/python3.7/dist-packages (from tensorflow-gpu) (4.2.0)\n",
            "Requirement already satisfied: keras-preprocessing>=1.1.1 in /usr/local/lib/python3.7/dist-packages (from tensorflow-gpu) (1.1.2)\n",
            "Requirement already satisfied: packaging in /usr/local/lib/python3.7/dist-packages (from tensorflow-gpu) (21.3)\n",
            "Requirement already satisfied: six>=1.12.0 in /usr/local/lib/python3.7/dist-packages (from tensorflow-gpu) (1.15.0)\n",
            "Requirement already satisfied: setuptools in /usr/local/lib/python3.7/dist-packages (from tensorflow-gpu) (57.4.0)\n",
            "Collecting tensorboard<2.10,>=2.9\n",
            "  Downloading tensorboard-2.9.0-py3-none-any.whl (5.8 MB)\n",
            "\u001b[K     |████████████████████████████████| 5.8 MB 68.6 MB/s \n",
            "\u001b[?25hCollecting tensorflow-estimator<2.10.0,>=2.9.0rc0\n",
            "  Downloading tensorflow_estimator-2.9.0-py2.py3-none-any.whl (438 kB)\n",
            "\u001b[K     |████████████████████████████████| 438 kB 78.9 MB/s \n",
            "\u001b[?25hRequirement already satisfied: google-pasta>=0.1.1 in /usr/local/lib/python3.7/dist-packages (from tensorflow-gpu) (0.2.0)\n",
            "Requirement already satisfied: grpcio<2.0,>=1.24.3 in /usr/local/lib/python3.7/dist-packages (from tensorflow-gpu) (1.46.1)\n",
            "Requirement already satisfied: tensorflow-io-gcs-filesystem>=0.23.1 in /usr/local/lib/python3.7/dist-packages (from tensorflow-gpu) (0.26.0)\n",
            "Collecting flatbuffers<2,>=1.12\n",
            "  Downloading flatbuffers-1.12-py2.py3-none-any.whl (15 kB)\n",
            "Requirement already satisfied: astunparse>=1.6.0 in /usr/local/lib/python3.7/dist-packages (from tensorflow-gpu) (1.6.3)\n",
            "Requirement already satisfied: wrapt>=1.11.0 in /usr/local/lib/python3.7/dist-packages (from tensorflow-gpu) (1.14.1)\n",
            "Requirement already satisfied: termcolor>=1.1.0 in /usr/local/lib/python3.7/dist-packages (from tensorflow-gpu) (1.1.0)\n",
            "Requirement already satisfied: gast<=0.4.0,>=0.2.1 in /usr/local/lib/python3.7/dist-packages (from tensorflow-gpu) (0.2.2)\n",
            "Collecting keras<2.10.0,>=2.9.0rc0\n",
            "  Downloading keras-2.9.0-py2.py3-none-any.whl (1.6 MB)\n",
            "\u001b[K     |████████████████████████████████| 1.6 MB 70.7 MB/s \n",
            "\u001b[?25hRequirement already satisfied: numpy>=1.20 in /usr/local/lib/python3.7/dist-packages (from tensorflow-gpu) (1.21.6)\n",
            "Requirement already satisfied: h5py>=2.9.0 in /usr/local/lib/python3.7/dist-packages (from tensorflow-gpu) (3.1.0)\n",
            "Requirement already satisfied: opt-einsum>=2.3.2 in /usr/local/lib/python3.7/dist-packages (from tensorflow-gpu) (3.3.0)\n",
            "Requirement already satisfied: libclang>=13.0.0 in /usr/local/lib/python3.7/dist-packages (from tensorflow-gpu) (14.0.1)\n",
            "Requirement already satisfied: protobuf<3.20,>=3.9.2 in /usr/local/lib/python3.7/dist-packages (from tensorflow-gpu) (3.17.3)\n",
            "Requirement already satisfied: absl-py>=1.0.0 in /usr/local/lib/python3.7/dist-packages (from tensorflow-gpu) (1.0.0)\n",
            "Requirement already satisfied: wheel<1.0,>=0.23.0 in /usr/local/lib/python3.7/dist-packages (from astunparse>=1.6.0->tensorflow-gpu) (0.37.1)\n",
            "Requirement already satisfied: cached-property in /usr/local/lib/python3.7/dist-packages (from h5py>=2.9.0->tensorflow-gpu) (1.5.2)\n",
            "Requirement already satisfied: requests<3,>=2.21.0 in /usr/local/lib/python3.7/dist-packages (from tensorboard<2.10,>=2.9->tensorflow-gpu) (2.23.0)\n",
            "Requirement already satisfied: markdown>=2.6.8 in /usr/local/lib/python3.7/dist-packages (from tensorboard<2.10,>=2.9->tensorflow-gpu) (3.3.7)\n",
            "Requirement already satisfied: google-auth-oauthlib<0.5,>=0.4.1 in /usr/local/lib/python3.7/dist-packages (from tensorboard<2.10,>=2.9->tensorflow-gpu) (0.4.6)\n",
            "Requirement already satisfied: tensorboard-data-server<0.7.0,>=0.6.0 in /usr/local/lib/python3.7/dist-packages (from tensorboard<2.10,>=2.9->tensorflow-gpu) (0.6.1)\n",
            "Requirement already satisfied: tensorboard-plugin-wit>=1.6.0 in /usr/local/lib/python3.7/dist-packages (from tensorboard<2.10,>=2.9->tensorflow-gpu) (1.8.1)\n",
            "Requirement already satisfied: google-auth<3,>=1.6.3 in /usr/local/lib/python3.7/dist-packages (from tensorboard<2.10,>=2.9->tensorflow-gpu) (1.35.0)\n",
            "Requirement already satisfied: werkzeug>=1.0.1 in /usr/local/lib/python3.7/dist-packages (from tensorboard<2.10,>=2.9->tensorflow-gpu) (1.0.1)\n",
            "Requirement already satisfied: cachetools<5.0,>=2.0.0 in /usr/local/lib/python3.7/dist-packages (from google-auth<3,>=1.6.3->tensorboard<2.10,>=2.9->tensorflow-gpu) (4.2.4)\n",
            "Requirement already satisfied: pyasn1-modules>=0.2.1 in /usr/local/lib/python3.7/dist-packages (from google-auth<3,>=1.6.3->tensorboard<2.10,>=2.9->tensorflow-gpu) (0.2.8)\n",
            "Requirement already satisfied: rsa<5,>=3.1.4 in /usr/local/lib/python3.7/dist-packages (from google-auth<3,>=1.6.3->tensorboard<2.10,>=2.9->tensorflow-gpu) (4.8)\n",
            "Requirement already satisfied: requests-oauthlib>=0.7.0 in /usr/local/lib/python3.7/dist-packages (from google-auth-oauthlib<0.5,>=0.4.1->tensorboard<2.10,>=2.9->tensorflow-gpu) (1.3.1)\n",
            "Requirement already satisfied: importlib-metadata>=4.4 in /usr/local/lib/python3.7/dist-packages (from markdown>=2.6.8->tensorboard<2.10,>=2.9->tensorflow-gpu) (4.11.3)\n",
            "Requirement already satisfied: zipp>=0.5 in /usr/local/lib/python3.7/dist-packages (from importlib-metadata>=4.4->markdown>=2.6.8->tensorboard<2.10,>=2.9->tensorflow-gpu) (3.8.0)\n",
            "Requirement already satisfied: pyasn1<0.5.0,>=0.4.6 in /usr/local/lib/python3.7/dist-packages (from pyasn1-modules>=0.2.1->google-auth<3,>=1.6.3->tensorboard<2.10,>=2.9->tensorflow-gpu) (0.4.8)\n",
            "Requirement already satisfied: idna<3,>=2.5 in /usr/local/lib/python3.7/dist-packages (from requests<3,>=2.21.0->tensorboard<2.10,>=2.9->tensorflow-gpu) (2.10)\n",
            "Requirement already satisfied: urllib3!=1.25.0,!=1.25.1,<1.26,>=1.21.1 in /usr/local/lib/python3.7/dist-packages (from requests<3,>=2.21.0->tensorboard<2.10,>=2.9->tensorflow-gpu) (1.24.3)\n",
            "Requirement already satisfied: chardet<4,>=3.0.2 in /usr/local/lib/python3.7/dist-packages (from requests<3,>=2.21.0->tensorboard<2.10,>=2.9->tensorflow-gpu) (3.0.4)\n",
            "Requirement already satisfied: certifi>=2017.4.17 in /usr/local/lib/python3.7/dist-packages (from requests<3,>=2.21.0->tensorboard<2.10,>=2.9->tensorflow-gpu) (2022.5.18.1)\n",
            "Requirement already satisfied: oauthlib>=3.0.0 in /usr/local/lib/python3.7/dist-packages (from requests-oauthlib>=0.7.0->google-auth-oauthlib<0.5,>=0.4.1->tensorboard<2.10,>=2.9->tensorflow-gpu) (3.2.0)\n",
            "Requirement already satisfied: pyparsing!=3.0.5,>=2.0.2 in /usr/local/lib/python3.7/dist-packages (from packaging->tensorflow-gpu) (3.0.9)\n",
            "Installing collected packages: tensorflow-estimator, tensorboard, keras, flatbuffers, tensorflow-gpu\n",
            "  Attempting uninstall: tensorflow-estimator\n",
            "    Found existing installation: tensorflow-estimator 2.7.0\n",
            "    Uninstalling tensorflow-estimator-2.7.0:\n",
            "      Successfully uninstalled tensorflow-estimator-2.7.0\n",
            "  Attempting uninstall: tensorboard\n",
            "    Found existing installation: tensorboard 2.8.0\n",
            "    Uninstalling tensorboard-2.8.0:\n",
            "      Successfully uninstalled tensorboard-2.8.0\n",
            "  Attempting uninstall: keras\n",
            "    Found existing installation: keras 2.7.0\n",
            "    Uninstalling keras-2.7.0:\n",
            "      Successfully uninstalled keras-2.7.0\n",
            "  Attempting uninstall: flatbuffers\n",
            "    Found existing installation: flatbuffers 2.0\n",
            "    Uninstalling flatbuffers-2.0:\n",
            "      Successfully uninstalled flatbuffers-2.0\n",
            "\u001b[31mERROR: pip's dependency resolver does not currently take into account all the packages that are installed. This behaviour is the source of the following dependency conflicts.\n",
            "tensorflow 2.7.0+zzzcolab20220506150900 requires keras<2.8,>=2.7.0rc0, but you have keras 2.9.0 which is incompatible.\n",
            "tensorflow 2.7.0+zzzcolab20220506150900 requires tensorflow-estimator<2.8,~=2.7.0rc0, but you have tensorflow-estimator 2.9.0 which is incompatible.\u001b[0m\n",
            "Successfully installed flatbuffers-1.12 keras-2.9.0 tensorboard-2.9.0 tensorflow-estimator-2.9.0 tensorflow-gpu-2.9.1\n"
          ]
        },
        {
          "output_type": "display_data",
          "data": {
            "application/vnd.colab-display-data+json": {
              "pip_warning": {
                "packages": [
                  "flatbuffers",
                  "keras",
                  "tensorboard",
                  "tensorflow"
                ]
              }
            }
          },
          "metadata": {}
        }
      ]
    },
    {
      "cell_type": "code",
      "source": [
        "!nvidia-smi"
      ],
      "metadata": {
        "colab": {
          "base_uri": "https://localhost:8080/"
        },
        "id": "_hS5ihkWR4pk",
        "outputId": "34e8b8ac-ddfd-48dc-8c94-fb04b665b59e"
      },
      "execution_count": 26,
      "outputs": [
        {
          "output_type": "stream",
          "name": "stdout",
          "text": [
            "Sun May 29 07:36:20 2022       \n",
            "+-----------------------------------------------------------------------------+\n",
            "| NVIDIA-SMI 460.32.03    Driver Version: 460.32.03    CUDA Version: 11.2     |\n",
            "|-------------------------------+----------------------+----------------------+\n",
            "| GPU  Name        Persistence-M| Bus-Id        Disp.A | Volatile Uncorr. ECC |\n",
            "| Fan  Temp  Perf  Pwr:Usage/Cap|         Memory-Usage | GPU-Util  Compute M. |\n",
            "|                               |                      |               MIG M. |\n",
            "|===============================+======================+======================|\n",
            "|   0  Tesla P100-PCIE...  Off  | 00000000:00:04.0 Off |                    0 |\n",
            "| N/A   35C    P0    27W / 250W |      0MiB / 16280MiB |      0%      Default |\n",
            "|                               |                      |                  N/A |\n",
            "+-------------------------------+----------------------+----------------------+\n",
            "                                                                               \n",
            "+-----------------------------------------------------------------------------+\n",
            "| Processes:                                                                  |\n",
            "|  GPU   GI   CI        PID   Type   Process name                  GPU Memory |\n",
            "|        ID   ID                                                   Usage      |\n",
            "|=============================================================================|\n",
            "|  No running processes found                                                 |\n",
            "+-----------------------------------------------------------------------------+\n"
          ]
        }
      ]
    },
    {
      "cell_type": "code",
      "source": [
        "device_name = tf.test.gpu_device_name()\n",
        "if device_name != '/device:GPU:0':\n",
        "  raise SystemError('GPU device not found')\n",
        "print('Found GPU at: {}'.format(device_name))"
      ],
      "metadata": {
        "colab": {
          "base_uri": "https://localhost:8080/"
        },
        "id": "ne_oSSdzSYc_",
        "outputId": "b644b8da-1109-434d-ca20-32f5fb1d634d"
      },
      "execution_count": 27,
      "outputs": [
        {
          "output_type": "stream",
          "name": "stdout",
          "text": [
            "Found GPU at: /device:GPU:0\n"
          ]
        }
      ]
    },
    {
      "cell_type": "code",
      "source": [
        "os.environ[\"CUDA_VISIBLE_DEVICES\"]=\"0\"\n",
        "gpus = tf.config.experimental.list_physical_devices('GPU')\n",
        "if gpus:\n",
        "  try:\n",
        "    tf.config.experimental.list_physical_devices('GPU')\n",
        "  except RuntimeError as e:\n",
        "    print(e) \n"
      ],
      "metadata": {
        "id": "YzrUJ0QGTgH3"
      },
      "execution_count": 28,
      "outputs": []
    },
    {
      "cell_type": "markdown",
      "source": [
        "class 비율 분석 (학습만 하고자 하면 여기서부터 test set 준비 사이에 있는 셀들 실행하지 않아도 됨) "
      ],
      "metadata": {
        "id": "FCAGRkKUx_QJ"
      }
    },
    {
      "cell_type": "code",
      "source": [
        "df = pd.DataFrame(\n",
        "        {'class' : Labels\n",
        "        })"
      ],
      "metadata": {
        "id": "7ooW388Aq47k"
      },
      "execution_count": 19,
      "outputs": []
    },
    {
      "cell_type": "code",
      "source": [
        "df.shape"
      ],
      "metadata": {
        "colab": {
          "base_uri": "https://localhost:8080/"
        },
        "id": "BLYWbNOxsq_L",
        "outputId": "edc7e860-7922-4a58-94fa-55fb6425d42b"
      },
      "execution_count": 20,
      "outputs": [
        {
          "output_type": "execute_result",
          "data": {
            "text/plain": [
              "(114573, 1)"
            ]
          },
          "metadata": {},
          "execution_count": 20
        }
      ]
    },
    {
      "cell_type": "code",
      "source": [
        "df.head()"
      ],
      "metadata": {
        "colab": {
          "base_uri": "https://localhost:8080/",
          "height": 206
        },
        "id": "uEfBdr4BtkM6",
        "outputId": "4535a6be-531c-4a1d-e9c7-4f7550748173"
      },
      "execution_count": 21,
      "outputs": [
        {
          "output_type": "execute_result",
          "data": {
            "text/plain": [
              "           class\n",
              "0  Sleep stage W\n",
              "1  Sleep stage W\n",
              "2  Sleep stage W\n",
              "3  Sleep stage W\n",
              "4  Sleep stage W"
            ],
            "text/html": [
              "\n",
              "  <div id=\"df-920a197f-286b-4d2b-bcd5-7b8b9c96af61\">\n",
              "    <div class=\"colab-df-container\">\n",
              "      <div>\n",
              "<style scoped>\n",
              "    .dataframe tbody tr th:only-of-type {\n",
              "        vertical-align: middle;\n",
              "    }\n",
              "\n",
              "    .dataframe tbody tr th {\n",
              "        vertical-align: top;\n",
              "    }\n",
              "\n",
              "    .dataframe thead th {\n",
              "        text-align: right;\n",
              "    }\n",
              "</style>\n",
              "<table border=\"1\" class=\"dataframe\">\n",
              "  <thead>\n",
              "    <tr style=\"text-align: right;\">\n",
              "      <th></th>\n",
              "      <th>class</th>\n",
              "    </tr>\n",
              "  </thead>\n",
              "  <tbody>\n",
              "    <tr>\n",
              "      <th>0</th>\n",
              "      <td>Sleep stage W</td>\n",
              "    </tr>\n",
              "    <tr>\n",
              "      <th>1</th>\n",
              "      <td>Sleep stage W</td>\n",
              "    </tr>\n",
              "    <tr>\n",
              "      <th>2</th>\n",
              "      <td>Sleep stage W</td>\n",
              "    </tr>\n",
              "    <tr>\n",
              "      <th>3</th>\n",
              "      <td>Sleep stage W</td>\n",
              "    </tr>\n",
              "    <tr>\n",
              "      <th>4</th>\n",
              "      <td>Sleep stage W</td>\n",
              "    </tr>\n",
              "  </tbody>\n",
              "</table>\n",
              "</div>\n",
              "      <button class=\"colab-df-convert\" onclick=\"convertToInteractive('df-920a197f-286b-4d2b-bcd5-7b8b9c96af61')\"\n",
              "              title=\"Convert this dataframe to an interactive table.\"\n",
              "              style=\"display:none;\">\n",
              "        \n",
              "  <svg xmlns=\"http://www.w3.org/2000/svg\" height=\"24px\"viewBox=\"0 0 24 24\"\n",
              "       width=\"24px\">\n",
              "    <path d=\"M0 0h24v24H0V0z\" fill=\"none\"/>\n",
              "    <path d=\"M18.56 5.44l.94 2.06.94-2.06 2.06-.94-2.06-.94-.94-2.06-.94 2.06-2.06.94zm-11 1L8.5 8.5l.94-2.06 2.06-.94-2.06-.94L8.5 2.5l-.94 2.06-2.06.94zm10 10l.94 2.06.94-2.06 2.06-.94-2.06-.94-.94-2.06-.94 2.06-2.06.94z\"/><path d=\"M17.41 7.96l-1.37-1.37c-.4-.4-.92-.59-1.43-.59-.52 0-1.04.2-1.43.59L10.3 9.45l-7.72 7.72c-.78.78-.78 2.05 0 2.83L4 21.41c.39.39.9.59 1.41.59.51 0 1.02-.2 1.41-.59l7.78-7.78 2.81-2.81c.8-.78.8-2.07 0-2.86zM5.41 20L4 18.59l7.72-7.72 1.47 1.35L5.41 20z\"/>\n",
              "  </svg>\n",
              "      </button>\n",
              "      \n",
              "  <style>\n",
              "    .colab-df-container {\n",
              "      display:flex;\n",
              "      flex-wrap:wrap;\n",
              "      gap: 12px;\n",
              "    }\n",
              "\n",
              "    .colab-df-convert {\n",
              "      background-color: #E8F0FE;\n",
              "      border: none;\n",
              "      border-radius: 50%;\n",
              "      cursor: pointer;\n",
              "      display: none;\n",
              "      fill: #1967D2;\n",
              "      height: 32px;\n",
              "      padding: 0 0 0 0;\n",
              "      width: 32px;\n",
              "    }\n",
              "\n",
              "    .colab-df-convert:hover {\n",
              "      background-color: #E2EBFA;\n",
              "      box-shadow: 0px 1px 2px rgba(60, 64, 67, 0.3), 0px 1px 3px 1px rgba(60, 64, 67, 0.15);\n",
              "      fill: #174EA6;\n",
              "    }\n",
              "\n",
              "    [theme=dark] .colab-df-convert {\n",
              "      background-color: #3B4455;\n",
              "      fill: #D2E3FC;\n",
              "    }\n",
              "\n",
              "    [theme=dark] .colab-df-convert:hover {\n",
              "      background-color: #434B5C;\n",
              "      box-shadow: 0px 1px 3px 1px rgba(0, 0, 0, 0.15);\n",
              "      filter: drop-shadow(0px 1px 2px rgba(0, 0, 0, 0.3));\n",
              "      fill: #FFFFFF;\n",
              "    }\n",
              "  </style>\n",
              "\n",
              "      <script>\n",
              "        const buttonEl =\n",
              "          document.querySelector('#df-920a197f-286b-4d2b-bcd5-7b8b9c96af61 button.colab-df-convert');\n",
              "        buttonEl.style.display =\n",
              "          google.colab.kernel.accessAllowed ? 'block' : 'none';\n",
              "\n",
              "        async function convertToInteractive(key) {\n",
              "          const element = document.querySelector('#df-920a197f-286b-4d2b-bcd5-7b8b9c96af61');\n",
              "          const dataTable =\n",
              "            await google.colab.kernel.invokeFunction('convertToInteractive',\n",
              "                                                     [key], {});\n",
              "          if (!dataTable) return;\n",
              "\n",
              "          const docLinkHtml = 'Like what you see? Visit the ' +\n",
              "            '<a target=\"_blank\" href=https://colab.research.google.com/notebooks/data_table.ipynb>data table notebook</a>'\n",
              "            + ' to learn more about interactive tables.';\n",
              "          element.innerHTML = '';\n",
              "          dataTable['output_type'] = 'display_data';\n",
              "          await google.colab.output.renderOutput(dataTable, element);\n",
              "          const docLink = document.createElement('div');\n",
              "          docLink.innerHTML = docLinkHtml;\n",
              "          element.appendChild(docLink);\n",
              "        }\n",
              "      </script>\n",
              "    </div>\n",
              "  </div>\n",
              "  "
            ]
          },
          "metadata": {},
          "execution_count": 21
        }
      ]
    },
    {
      "cell_type": "code",
      "source": [
        "figure, (ax1) = plt.subplots(nrows=1, ncols=1)\n",
        "\n",
        "figure.set_size_inches(14,5)\n",
        "\n",
        "sns.countplot(data=df, x=\"class\", ax=ax1)"
      ],
      "metadata": {
        "colab": {
          "base_uri": "https://localhost:8080/",
          "height": 352
        },
        "id": "0OZTP3HPv1h0",
        "outputId": "96270314-63a4-4677-d400-cc0ed537d175"
      },
      "execution_count": 22,
      "outputs": [
        {
          "output_type": "execute_result",
          "data": {
            "text/plain": [
              "<matplotlib.axes._subplots.AxesSubplot at 0x7f29ddc3f9d0>"
            ]
          },
          "metadata": {},
          "execution_count": 22
        },
        {
          "output_type": "display_data",
          "data": {
            "text/plain": [
              "<Figure size 1008x360 with 1 Axes>"
            ],
            "image/png": "[encoded data removed]"
          },
          "metadata": {
            "needs_background": "light"
          }
        }
      ]
    },
    {
      "cell_type": "code",
      "source": [
        "num_W = Labels.count('Sleep stage W')\n",
        "num_N1 = Labels.count('Sleep stage N1')\n",
        "num_N2 = Labels.count('Sleep stage N2')\n",
        "num_N3 = Labels.count('Sleep stage N3')\n",
        "num_R = Labels.count('Sleep stage R')\n",
        "\n",
        "# each number of \n",
        "\n",
        "print(f'num_W : {num_W}')\n",
        "print(f'num_N1 : {num_N1}')\n",
        "print(f'num_N2 : {num_N2}')\n",
        "print(f'num_N3 : {num_N3}')\n",
        "print(f'num_R : {num_R}')\n",
        "num_total = num_W + num_N1 + num_N2 + num_N3 + num_R\n",
        "print(f'num_total : {num_total}')\n",
        "\n",
        "# each ratio of \n",
        "\n",
        "print(f'ratio_W : {round((num_W / num_total),2)}')\n",
        "print(f'ratio_N1 : {round((num_N1 / num_total),2)}')\n",
        "print(f'ratio_N2 : {round((num_N2 / num_total),2)}')\n",
        "print(f'ratio_N3 : {round((num_N3 / num_total),2)}')\n",
        "print(f'ratio_R : {round((num_R / num_total),2)}')\n"
      ],
      "metadata": {
        "colab": {
          "base_uri": "https://localhost:8080/"
        },
        "id": "FSwtq8eex2Yb",
        "outputId": "d7e154be-977e-4d6d-9808-d6d21ed2d8d7"
      },
      "execution_count": 23,
      "outputs": [
        {
          "output_type": "stream",
          "name": "stdout",
          "text": [
            "num_W : 20017\n",
            "num_N1 : 12914\n",
            "num_N2 : 41961\n",
            "num_N3 : 22021\n",
            "num_R : 17660\n",
            "num_total : 114573\n",
            "ratio_W : 0.17\n",
            "ratio_N1 : 0.11\n",
            "ratio_N2 : 0.37\n",
            "ratio_N3 : 0.19\n",
            "ratio_R : 0.15\n"
          ]
        }
      ]
    },
    {
      "cell_type": "markdown",
      "source": [
        "train_set 준비"
      ],
      "metadata": {
        "id": "qcPjZ3_EhbJq"
      }
    },
    {
      "cell_type": "code",
      "execution_count": 29,
      "metadata": {
        "id": "4UKd-RH2DNUE"
      },
      "outputs": [],
      "source": [
        "x_train = np.array(Signals)\n",
        "del Signals\n",
        "y_train = np.array(Labels)\n",
        "del Labels"
      ]
    },
    {
      "cell_type": "code",
      "source": [
        "#3class로 진행할 때만 밑에 주석처리 제거하고 이 셀을 실행할 것 (W,N,R)\n",
        "\n",
        "\n",
        "#y_train[y_train == 'Sleep stage N1'] = 'Sleep stage N'\n",
        "#y_train[y_train == 'Sleep stage N2'] = 'Sleep stage N'\n",
        "#y_train[y_train == 'Sleep stage N3'] = 'Sleep stage N'"
      ],
      "metadata": {
        "id": "1084HqFiFA3w"
      },
      "execution_count": 30,
      "outputs": []
    },
    {
      "cell_type": "code",
      "execution_count": 31,
      "metadata": {
        "colab": {
          "base_uri": "https://localhost:8080/"
        },
        "id": "kG8asrUm2Qgn",
        "outputId": "c82ab1f6-506b-41d4-c097-70536f78085d"
      },
      "outputs": [
        {
          "output_type": "stream",
          "name": "stdout",
          "text": [
            "num_classes : 5\n",
            "classess : ['Sleep stage N1' 'Sleep stage N2' 'Sleep stage N3' 'Sleep stage R'\n",
            " 'Sleep stage W']\n"
          ]
        }
      ],
      "source": [
        "num_classes = len(np.unique(y_train))\n",
        "classess = (np.unique(y_train))\n",
        "print(f'num_classes : {num_classes}')\n",
        "print(f'classess : {classess}')\n",
        "#print(type(classess))"
      ]
    },
    {
      "cell_type": "code",
      "execution_count": null,
      "metadata": {
        "colab": {
          "base_uri": "https://localhost:8080/"
        },
        "id": "xfDkGX7X8zug",
        "outputId": "4cd8854f-3f7a-4bd3-8f45-d666297348d4"
      },
      "outputs": [
        {
          "output_type": "stream",
          "name": "stdout",
          "text": [
            "x_train : [[ 73.71938659  70.93614099  69.39803159 ... -91.1512932   14.83176928\n",
            "   30.65232319]\n",
            " [-15.71068894 -48.37720302 -55.04234379 ... 126.52780957 135.17051957\n",
            "  137.51430533]\n",
            " [137.44106203 128.06591897 133.41268025 ...  14.53879606  14.17257954\n",
            "   12.56122683]\n",
            " ...\n",
            " [-53.06477455 -37.39070726 -39.95422293 ... -40.10070954 -38.56260014\n",
            "  -44.34882124]\n",
            " [-46.03341726 -46.6193637  -47.27855344 ...  32.48340581   4.94392309\n",
            "   26.84367132]\n",
            " [ 28.60151064  21.42366674  37.31746395 ...  13.00068666   6.4820325\n",
            "  -13.95284962]]\n",
            "x_train : ['Sleep stage W' 'Sleep stage W' 'Sleep stage W' ... 'Sleep stage N1'\n",
            " 'Sleep stage W' 'Sleep stage W']\n",
            "x_train.shape : (114573, 7680)\n",
            "x_train.shape : (114573,)\n"
          ]
        }
      ],
      "source": [
        "print(f'x_train : {x_train}')\n",
        "print(f'x_train : {y_train}')\n",
        "print(f'x_train.shape : {x_train.shape}')\n",
        "print(f'x_train.shape : {y_train.shape}')"
      ]
    },
    {
      "cell_type": "code",
      "execution_count": 32,
      "metadata": {
        "id": "gA4R1PsaER4S"
      },
      "outputs": [],
      "source": [
        "x_train = x_train.reshape((x_train.shape[0], x_train.shape[1], 1))"
      ]
    },
    {
      "cell_type": "code",
      "execution_count": null,
      "metadata": {
        "colab": {
          "base_uri": "https://localhost:8080/"
        },
        "id": "HM5Z__4D92D6",
        "outputId": "e3c0e605-4f9d-496d-bee2-193f24a8f1dc"
      },
      "outputs": [
        {
          "output_type": "stream",
          "name": "stdout",
          "text": [
            "x_train : [[[ 73.71938659]\n",
            "  [ 70.93614099]\n",
            "  [ 69.39803159]\n",
            "  ...\n",
            "  [-91.1512932 ]\n",
            "  [ 14.83176928]\n",
            "  [ 30.65232319]]\n",
            "\n",
            " [[-15.71068894]\n",
            "  [-48.37720302]\n",
            "  [-55.04234379]\n",
            "  ...\n",
            "  [126.52780957]\n",
            "  [135.17051957]\n",
            "  [137.51430533]]\n",
            "\n",
            " [[137.44106203]\n",
            "  [128.06591897]\n",
            "  [133.41268025]\n",
            "  ...\n",
            "  [ 14.53879606]\n",
            "  [ 14.17257954]\n",
            "  [ 12.56122683]]\n",
            "\n",
            " ...\n",
            "\n",
            " [[-53.06477455]\n",
            "  [-37.39070726]\n",
            "  [-39.95422293]\n",
            "  ...\n",
            "  [-40.10070954]\n",
            "  [-38.56260014]\n",
            "  [-44.34882124]]\n",
            "\n",
            " [[-46.03341726]\n",
            "  [-46.6193637 ]\n",
            "  [-47.27855344]\n",
            "  ...\n",
            "  [ 32.48340581]\n",
            "  [  4.94392309]\n",
            "  [ 26.84367132]]\n",
            "\n",
            " [[ 28.60151064]\n",
            "  [ 21.42366674]\n",
            "  [ 37.31746395]\n",
            "  ...\n",
            "  [ 13.00068666]\n",
            "  [  6.4820325 ]\n",
            "  [-13.95284962]]]\n",
            "x_train : ['Sleep stage W' 'Sleep stage W' 'Sleep stage W' ... 'Sleep stage N1'\n",
            " 'Sleep stage W' 'Sleep stage W']\n",
            "x_train.shape : (114573, 7680, 1)\n",
            "x_train.shape : (114573,)\n"
          ]
        }
      ],
      "source": [
        "print(f'x_train : {x_train}')\n",
        "print(f'x_train : {y_train}')\n",
        "print(f'x_train.shape : {x_train.shape}')\n",
        "print(f'x_train.shape : {y_train.shape}')"
      ]
    },
    {
      "cell_type": "code",
      "execution_count": null,
      "metadata": {
        "colab": {
          "base_uri": "https://localhost:8080/"
        },
        "id": "yqLnI0GAHu1T",
        "outputId": "6ba4a6a9-66a9-452b-9597-065016827349"
      },
      "outputs": [
        {
          "output_type": "stream",
          "name": "stdout",
          "text": [
            "73.71938658731976\n",
            "<class 'numpy.float64'>\n"
          ]
        }
      ],
      "source": [
        "print((x_train[0][0][0]))\n",
        "print(type(x_train[0][0][0]))"
      ]
    },
    {
      "cell_type": "code",
      "execution_count": null,
      "metadata": {
        "colab": {
          "base_uri": "https://localhost:8080/"
        },
        "id": "0AMmukJsBsYM",
        "outputId": "c3ace659-4c9c-4935-fb9d-355d0c24a3e2"
      },
      "outputs": [
        {
          "output_type": "stream",
          "name": "stdout",
          "text": [
            "['Sleep stage W' 'Sleep stage W' 'Sleep stage W' ... 'Sleep stage N1'\n",
            " 'Sleep stage W' 'Sleep stage W']\n",
            "Sleep stage W\n",
            "<class 'numpy.str_'>\n"
          ]
        }
      ],
      "source": [
        "print(y_train)\n",
        "print((y_train[0]))\n",
        "print(type(y_train[0]))"
      ]
    },
    {
      "cell_type": "markdown",
      "source": [
        "class imbalance 문제 개선\n",
        "\n",
        " (Weighted Cross Entropy 적용 -> 각 class 비율을 고려하여 데이터 수가 부족한 class에 대해 loss에 가중치를 주어 불균형 문제를 개선하는 방식)"
      ],
      "metadata": {
        "id": "xWL129JEhxUD"
      }
    },
    {
      "cell_type": "code",
      "source": [
        "#classess = ['Sleep stage W',\n",
        "# 'Sleep stage N1',\n",
        "# 'Sleep stage N2',\n",
        "# 'Sleep stage N3',\n",
        "# 'Sleep stage R']\n",
        "\n",
        "#classess = np.array(classess)"
      ],
      "metadata": {
        "id": "tc7RAX-mmjU6"
      },
      "execution_count": 45,
      "outputs": []
    },
    {
      "cell_type": "code",
      "source": [
        "classess"
      ],
      "metadata": {
        "colab": {
          "base_uri": "https://localhost:8080/"
        },
        "id": "vhxI8d-YmqMv",
        "outputId": "8d09a087-be8e-4116-d7cd-99a12995c2a3"
      },
      "execution_count": 33,
      "outputs": [
        {
          "output_type": "execute_result",
          "data": {
            "text/plain": [
              "array(['Sleep stage N1', 'Sleep stage N2', 'Sleep stage N3',\n",
              "       'Sleep stage R', 'Sleep stage W'], dtype='<U14')"
            ]
          },
          "metadata": {},
          "execution_count": 33
        }
      ]
    },
    {
      "cell_type": "code",
      "source": [
        "#keras에서 weighted binary crossentropy를 적용할 때 방법\n",
        "\n",
        "#-> sklearn의 class_weight를 활용\n",
        "\n",
        "#class_weight: Optional dictionary mapping class indices (integers) to a weight (float) value,\n",
        "# used for weighting the loss function (during training only). \n",
        "#This can be useful to tell the model to \"pay more attention\" to samples from an under-represented class.\n",
        "\n",
        "from sklearn.utils import class_weight\n",
        "weights = class_weight.compute_class_weight(class_weight = 'balanced',\n",
        "                                            classes = classess,\n",
        "                                            y = y_train)\n",
        "weightss = {i : weights[i] for i in range(num_classes)}\n",
        "print(weightss)\n",
        "## {0: 0.6254180602006689, 1: 2.493333333333333}\n",
        "\n",
        "#class_weight에 고정된 weight를 주는 방법인데\n",
        "# batch_size마다 weight를 계산해서 주는 방법도 있음"
      ],
      "metadata": {
        "colab": {
          "base_uri": "https://localhost:8080/"
        },
        "id": "i5TkIIOHZxQj",
        "outputId": "f9a8f114-7acd-4177-938e-615871731f51"
      },
      "execution_count": 34,
      "outputs": [
        {
          "output_type": "stream",
          "name": "stdout",
          "text": [
            "{0: 1.7743998761034536, 1: 0.5460928004575677, 2: 1.0405794468916034, 3: 1.297542468856172, 4: 1.1447569565869011}\n"
          ]
        }
      ]
    },
    {
      "cell_type": "code",
      "source": [
        "print(weightss)"
      ],
      "metadata": {
        "colab": {
          "base_uri": "https://localhost:8080/"
        },
        "id": "3nVj2Stoql4j",
        "outputId": "783ee9ad-9baf-49a5-a1de-d13cca85c5bd"
      },
      "execution_count": 35,
      "outputs": [
        {
          "output_type": "stream",
          "name": "stdout",
          "text": [
            "{0: 1.7743998761034536, 1: 0.5460928004575677, 2: 1.0405794468916034, 3: 1.297542468856172, 4: 1.1447569565869011}\n"
          ]
        }
      ]
    },
    {
      "cell_type": "code",
      "execution_count": 36,
      "metadata": {
        "id": "y9qFtw_kYuCG"
      },
      "outputs": [],
      "source": [
        "#Converts a class vector (integers) to class matrix.\n",
        "\n",
        "# 각 class들을 숫자로 맵핑 안 시켜주면 모델 안 돌아가서\n",
        "\n",
        "#E.g. for use with categorical_crossentropy.\n",
        "\n",
        "if num_classes == 5:\n",
        "  y_train[y_train == 'Sleep stage W'] = 0\n",
        "  y_train[y_train == 'Sleep stage N1'] = 1\n",
        "  y_train[y_train == 'Sleep stage N2'] = 2\n",
        "  y_train[y_train == 'Sleep stage N3'] = 3\n",
        "  y_train[y_train == 'Sleep stage R'] = 4\n",
        "\n",
        "#3class(W,N,R)로 모델 학습 시킬 경우\n",
        "elif num_classes == 3:\n",
        "  y_train[y_train == 'Sleep stage W'] = 0\n",
        "  y_train[y_train == 'Sleep stage N'] = 1\n",
        "  y_train[y_train == 'Sleep stage R'] = 2\n",
        "\n",
        "y_train = tf.keras.utils.to_categorical(y_train, num_classes)"
      ]
    },
    {
      "cell_type": "code",
      "source": [
        "y_train"
      ],
      "metadata": {
        "colab": {
          "base_uri": "https://localhost:8080/"
        },
        "id": "Gu35jhDbv5Gd",
        "outputId": "db7da16f-d3a0-4e3c-f55c-047fff423a5d"
      },
      "execution_count": null,
      "outputs": [
        {
          "output_type": "execute_result",
          "data": {
            "text/plain": [
              "array([[1., 0., 0., 0., 0.],\n",
              "       [1., 0., 0., 0., 0.],\n",
              "       [1., 0., 0., 0., 0.],\n",
              "       ...,\n",
              "       [0., 1., 0., 0., 0.],\n",
              "       [1., 0., 0., 0., 0.],\n",
              "       [1., 0., 0., 0., 0.]], dtype=float32)"
            ]
          },
          "metadata": {},
          "execution_count": 35
        }
      ]
    },
    {
      "cell_type": "code",
      "source": [
        "y_train[0]"
      ],
      "metadata": {
        "colab": {
          "base_uri": "https://localhost:8080/"
        },
        "id": "LOqfOQWHwMAa",
        "outputId": "4494aaec-fd7c-44d5-f7cb-6da67b721237"
      },
      "execution_count": null,
      "outputs": [
        {
          "output_type": "execute_result",
          "data": {
            "text/plain": [
              "array([1., 0., 0., 0., 0.], dtype=float32)"
            ]
          },
          "metadata": {},
          "execution_count": 36
        }
      ]
    },
    {
      "cell_type": "code",
      "source": [
        "weightss"
      ],
      "metadata": {
        "colab": {
          "base_uri": "https://localhost:8080/"
        },
        "id": "mv4luDQhFCj6",
        "outputId": "91b0addb-503d-48cb-e29c-7f68554308e4"
      },
      "execution_count": 32,
      "outputs": [
        {
          "output_type": "execute_result",
          "data": {
            "text/plain": [
              "{0: 1.1447569565869011,\n",
              " 1: 1.7743998761034536,\n",
              " 2: 0.5460928004575677,\n",
              " 3: 1.0405794468916034,\n",
              " 4: 1.297542468856172}"
            ]
          },
          "metadata": {},
          "execution_count": 32
        }
      ]
    },
    {
      "cell_type": "code",
      "source": [
        "\"\"\"\n",
        "A weighted version of categorical_crossentropy for keras (2.0.6). This lets you apply a weight to unbalanced classes.\n",
        "@url: https://gist.github.com/wassname/ce364fddfc8a025bfab4348cf5de852d\n",
        "@author: wassname\n",
        "\"\"\"\n",
        "###from keras import backend as K\n",
        "###def weighted_categorical_crossentropy(weights):\n",
        "    \"\"\"\n",
        "    A weighted version of keras.objectives.categorical_crossentropy\n",
        "    \n",
        "    Variables:\n",
        "        weights: numpy array of shape (C,) where C is the number of classes\n",
        "    \n",
        "    Usage:\n",
        "        weights = np.array([0.5,2,10]) # Class one at 0.5, class 2 twice the normal weights, class 3 10x.\n",
        "        loss = weighted_categorical_crossentropy(weights)\n",
        "        model.compile(loss=loss,optimizer='adam')\n",
        "    \"\"\"\n",
        "    \n",
        "###    weights = K.variable(weights)\n",
        "        \n",
        "###    def loss(y_true, y_pred):\n",
        "        # scale predictions so that the class probas of each sample sum to 1\n",
        "###        y_pred /= K.sum(y_pred, axis=-1, keepdims=True)\n",
        "        # clip to prevent NaN's and Inf's\n",
        "###        y_pred = K.clip(y_pred, K.epsilon(), 1 - K.epsilon())\n",
        "        # calc\n",
        "###        loss = y_true * K.log(y_pred) * weights\n",
        "###        loss = -K.sum(loss, -1)\n",
        "###        return loss\n",
        "    \n",
        "###    return loss"
      ],
      "metadata": {
        "id": "kYQrK8jJ3_bg"
      },
      "execution_count": null,
      "outputs": []
    },
    {
      "cell_type": "code",
      "source": [
        "#weighted_categorical_crossentropy(weights)"
      ],
      "metadata": {
        "colab": {
          "base_uri": "https://localhost:8080/"
        },
        "id": "o_SY625s6Qf2",
        "outputId": "d4190914-831c-491f-c737-e0d966a18374"
      },
      "execution_count": null,
      "outputs": [
        {
          "output_type": "execute_result",
          "data": {
            "text/plain": [
              "<function __main__.weighted_categorical_crossentropy.<locals>.loss>"
            ]
          },
          "metadata": {},
          "execution_count": 61
        }
      ]
    },
    {
      "cell_type": "code",
      "execution_count": null,
      "metadata": {
        "id": "9dC087LTHivB"
      },
      "outputs": [],
      "source": [
        "# 지금 label데이터가 <class 'numpy.float64'>이 아닌, 즉 숫자가 아니라 'Sleep stage W' 이런식으로\n",
        "# string자료형으로 되어있으니까 모델 학습 셀에서 아래와 같은 에러가 발생 \n",
        "\n",
        "#Cast string to int64 is not supported\n",
        "#\t [[{{node sparse_categorical_crossentropy/Cast}}]] [Op:__inference_train_function_4693]\n",
        "\n",
        "#따라서 label을 다르게 해줘야 되는데 숫자로 mapping시키던지, one hot encoding으로 해야 될거임 \n",
        "\n",
        "# 우리 데이터가 어떤 특성을 가졌는지 살펴보자\n",
        "# binary class가 아닌 5개의 multi class다\n",
        "# 그리고 나이와 같이 데이터가 class 별로 대소 관계를 가졌는가? -> 각각 단계 별로 어떠한 특징을 가지는지 알아보자\n",
        "\n",
        "# W : \n",
        "# N1 :\n",
        "# N2 :\n",
        "# N3 :\n",
        "# R :\n",
        "\n",
        "# 우리는 how much? how many? 가 아닌 \"which one?\" 즉 개냐 고양이냐 코로나 걸렸냐 안 걸렸냐 스펨메일인지 아닌지 분류하는 것과 같은 문제임\n",
        "\n",
        "# 게다가 대부분의 classification 문제 : 정해진 대소 관계 순서 X\n",
        "\n",
        "# -> one hot encoding 방법 사용하자\n",
        "\n",
        "# one hot encoding은 개 고양이 닭 => {1,2,3}과 같이 label을 나타내는게 아니라 {(1,0,0),(0,1,0),(0,0,1)}과 같은 방식으로 나타내는 거임\n",
        "#  개 : (1,0,0) 고양이 : (0,1,0) 닭 : (0,0,1)\n",
        "\n",
        "# 지금 사용하는 loss function인 keras에서 제공하는 \"SparseCategoricalCrossentropy class\"을 \"CategoricalCrossentropy \"으로 변경하자"
      ]
    },
    {
      "cell_type": "markdown",
      "metadata": {
        "id": "A4lydIRPVy34"
      },
      "source": [
        "build model\n",
        "\n",
        "\n",
        "해결해야 될 것\n",
        "\n",
        "1. gru layer 추가 (추가함)\n",
        "\n",
        "2. model parameter 조정 (진행중)\n",
        "\n",
        "3. down sampling -> ( 128Hz,64Hz, 32Hz) (128,64까지 할 수 있도록 셋팅했음)\n",
        "\n",
        "4. cohen's kappa (아직진행X)\n",
        "\n",
        "5. class 개수 분포 시각화 -> loss에 class 별로 weight 주는 방법으로 해결하거나 batch size마다 weight 주기\n",
        "\n",
        "->(분포 시각화 했고 weighted cross entrophy 방법으로 해결)\n",
        "\n",
        "6. keras sequeunce dataset loder 적용 (아직진행X)\n",
        "\n",
        "7. label merge해서 3단계로도 분류해보기 (W NR R) (할 수 있도록 셋팅했음)\n",
        "\n",
        "8. confusion matrix 코드 구현 (아직 못함)\n",
        "\n"
      ]
    },
    {
      "cell_type": "markdown",
      "source": [
        "모델1 (CNNBlock - GRU - simpleRNN- FC-softmax ( Bidirection X))"
      ],
      "metadata": {
        "id": "fnPXkiXT6hwJ"
      }
    },
    {
      "cell_type": "code",
      "execution_count": 54,
      "metadata": {
        "colab": {
          "base_uri": "https://localhost:8080/",
          "height": 1000
        },
        "id": "E-_ceoqH2ksr",
        "outputId": "066808e7-be23-4b1c-ec45-082526a5dd9f"
      },
      "outputs": [
        {
          "output_type": "execute_result",
          "data": {
            "text/plain": [
              "<IPython.core.display.Image object>"
            ],
            "image/png": "[encoded data removed]"
          },
          "metadata": {},
          "execution_count": 54
        }
      ],
      "source": [
        "def make_model(input_shape):\n",
        "    input_layer = keras.layers.Input(input_shape)\n",
        "\n",
        "    conv1 = keras.layers.Conv1D(filters=64, kernel_size=5, strides=1, padding=\"same\")(input_layer)\n",
        "    conv1 = keras.layers.BatchNormalization()(conv1)\n",
        "    conv1 = keras.layers.ReLU()(conv1)\n",
        "    #conv1 = keras.layers.Dropout()(conv1)\n",
        "\n",
        "    conv2 = keras.layers.Conv1D(filters=64, kernel_size=5, strides=1, padding=\"same\")(conv1)\n",
        "    conv2 = keras.layers.BatchNormalization()(conv2)\n",
        "    conv2 = keras.layers.ReLU()(conv2)\n",
        "    #conv1 = keras.layers.Dropout()(conv1)\n",
        "\n",
        "    #conv3 = keras.layers.Conv1D(filters=64, kernel_size=5, strides=1, padding=\"same\")(conv2)\n",
        "    #conv3 = keras.layers.BatchNormalization()(conv3)\n",
        "    #conv3 = keras.layers.ReLU()(conv3)\n",
        "\n",
        "    gap = keras.layers.GlobalMaxPooling1D(keepdims=True)(conv2)\n",
        "    #print(gap.shape)\n",
        "    #gap = keras.layers.Reshape(('None','None',7680))(gap)\n",
        "    #tf.keras.layers.Reshape((1,1,1))(gap)\n",
        "    #Reshape((12, 12, 2560))(drop5_1)\n",
        "    #tf.reshape(gap, [1,1,1])(gap)\n",
        "    #print(gap.shape)\n",
        "\n",
        "    #units: Positive integer, dimensionality of the output space.\n",
        "\n",
        "    #Bi_GRU_layer = keras.layers.Bidirectional(keras.layers.GRU(10, return_sequences=True) ,return_sequences=True)(gap)\n",
        "    #print(gap.shape)\n",
        "\n",
        "    GRU = keras.layers.GRU(256,\n",
        "                           dropout=0.5,\n",
        "                           recurrent_dropout=0,\n",
        "                           kernel_regularizer=regularizers.L1L2(l1=1e-5, l2=1e-4),\n",
        "                           bias_regularizer=regularizers.L2(1e-4),\n",
        "                           activity_regularizer=regularizers.L2(1e-5),\n",
        "                           return_sequences=True)(gap)\n",
        "    #keras.layers.CuDNNGRU(256, kernel_initializer='glorot_uniform', recurrent_initializer='orthogonal', bias_initializer='zeros', kernel_regularizer=None, recurrent_regularizer=None, bias_regularizer=None, activity_regularizer=None, kernel_constraint=None, recurrent_constraint=None, bias_constraint=None, return_sequences=False, return_state=False, stateful=False)\n",
        "    #print(GRU)\n",
        "\n",
        "    simplernn = keras.layers.SimpleRNN(128,\n",
        "                                       dropout=0.5,\n",
        "                                       recurrent_dropout=0,\n",
        "                                       kernel_regularizer=regularizers.L1L2(l1=1e-5, l2=1e-4),\n",
        "                                       bias_regularizer=regularizers.L2(1e-4),\n",
        "                                       activity_regularizer=regularizers.L2(1e-5),\n",
        "                                       )(GRU)\n",
        "    \n",
        "\n",
        "    output_layer = keras.layers.Dense(num_classes,\n",
        "                                      activation=\"softmax\",\n",
        "                                      kernel_regularizer=regularizers.L1L2(l1=1e-5, l2=1e-4),\n",
        "                                      bias_regularizer=regularizers.L2(1e-4),\n",
        "                                      activity_regularizer=regularizers.L2(1e-5)\n",
        "                                      )(simplernn)\n",
        "\n",
        "    return keras.models.Model(inputs=input_layer, outputs=output_layer)\n",
        "\n",
        "model_1 = make_model(input_shape=x_train.shape[1:])\n",
        "keras.utils.plot_model(model_1, show_shapes=True)"
      ]
    },
    {
      "cell_type": "code",
      "execution_count": 27,
      "metadata": {
        "colab": {
          "base_uri": "https://localhost:8080/"
        },
        "id": "ZKR464MkaE5Q",
        "outputId": "686d15db-a02a-4e82-9dd9-eb4c851bcecb"
      },
      "outputs": [
        {
          "output_type": "stream",
          "name": "stdout",
          "text": [
            "Model: \"model\"\n",
            "_________________________________________________________________\n",
            " Layer (type)                Output Shape              Param #   \n",
            "=================================================================\n",
            " input_1 (InputLayer)        [(None, 7680, 1)]         0         \n",
            "                                                                 \n",
            " conv1d (Conv1D)             (None, 7680, 64)          384       \n",
            "                                                                 \n",
            " batch_normalization (BatchN  (None, 7680, 64)         256       \n",
            " ormalization)                                                   \n",
            "                                                                 \n",
            " re_lu (ReLU)                (None, 7680, 64)          0         \n",
            "                                                                 \n",
            " conv1d_1 (Conv1D)           (None, 7680, 64)          20544     \n",
            "                                                                 \n",
            " batch_normalization_1 (Batc  (None, 7680, 64)         256       \n",
            " hNormalization)                                                 \n",
            "                                                                 \n",
            " re_lu_1 (ReLU)              (None, 7680, 64)          0         \n",
            "                                                                 \n",
            " global_max_pooling1d (Globa  (None, 1, 64)            0         \n",
            " lMaxPooling1D)                                                  \n",
            "                                                                 \n",
            " gru (GRU)                   (None, 1, 256)            247296    \n",
            "                                                                 \n",
            " simple_rnn (SimpleRNN)      (None, 128)               49280     \n",
            "                                                                 \n",
            " dense (Dense)               (None, 5)                 645       \n",
            "                                                                 \n",
            "=================================================================\n",
            "Total params: 318,661\n",
            "Trainable params: 318,405\n",
            "Non-trainable params: 256\n",
            "_________________________________________________________________\n"
          ]
        }
      ],
      "source": [
        "model_1.summary()"
      ]
    },
    {
      "cell_type": "markdown",
      "metadata": {
        "id": "yS_kxFraV1UD"
      },
      "source": [
        "model_1 training"
      ]
    },
    {
      "cell_type": "code",
      "source": [
        "#파일경로및파일명설정 (\"checkpoint_filepath\"라는 변수에 가장 성능이 높은 best_model이 저장될 경로 저장)\n",
        "\n",
        "if num_classes == 5:\n",
        "  numberofclass = \"_5class\"\n",
        "elif num_classes == 3:\n",
        "  numberofclass = \"_3class\" #(W,N,R)\n",
        "\n",
        "#모델1\n",
        "checkpoint_filepath = \"/content/drive/MyDrive/physionet/capstone_model/best_model_1_\" + sample_rate + numberofclass + \".h5\"\n",
        "print(f'checkpoint_filepath : {checkpoint_filepath}')"
      ],
      "metadata": {
        "colab": {
          "base_uri": "https://localhost:8080/"
        },
        "id": "xmnIMdYpcwTy",
        "outputId": "38c8c02c-283d-478c-c2d9-49b037868e57"
      },
      "execution_count": 37,
      "outputs": [
        {
          "output_type": "stream",
          "name": "stdout",
          "text": [
            "checkpoint_filepath : /content/drive/MyDrive/physionet/capstone_model/best_model_1_64Hz_5class.h5\n"
          ]
        }
      ]
    },
    {
      "cell_type": "code",
      "source": [
        "# The model weights (that are considered the best) are loaded into the model.\n",
        "# 이전에 저장했던 모델1에 대한 best model의 weight(parameter)를 로드\n",
        "model_1.load_weights(checkpoint_filepath)\n",
        "\n",
        "#모델자체를 불러오기\n",
        "#model_1 = keras.models.load_model(checkpoint_filepath)"
      ],
      "metadata": {
        "id": "HhCgjvIQOwgU"
      },
      "execution_count": 60,
      "outputs": []
    },
    {
      "cell_type": "code",
      "execution_count": 61,
      "metadata": {
        "colab": {
          "base_uri": "https://localhost:8080/",
          "height": 796
        },
        "id": "i7VhmrPDM2FF",
        "outputId": "17d241a7-141c-49b2-bbfe-044c1ca996a4"
      },
      "outputs": [
        {
          "output_type": "stream",
          "name": "stdout",
          "text": [
            "Epoch 1/500\n",
            "WARNING:tensorflow:AutoGraph could not transform <function Model.make_train_function.<locals>.train_function at 0x7f7bbf8ca050> and will run it as-is.\n",
            "Please report this to the TensorFlow team. When filing the bug, set the verbosity to 10 (on Linux, `export AUTOGRAPH_VERBOSITY=10`) and attach the full output.\n",
            "Cause: closure mismatch, requested ('self', 'step_function'), but source function had ()\n",
            "To silence this warning, decorate the function with @tf.autograph.experimental.do_not_convert\n",
            "WARNING: AutoGraph could not transform <function Model.make_train_function.<locals>.train_function at 0x7f7bbf8ca050> and will run it as-is.\n",
            "Please report this to the TensorFlow team. When filing the bug, set the verbosity to 10 (on Linux, `export AUTOGRAPH_VERBOSITY=10`) and attach the full output.\n",
            "Cause: closure mismatch, requested ('self', 'step_function'), but source function had ()\n",
            "To silence this warning, decorate the function with @tf.autograph.experimental.do_not_convert\n",
            "1432/1433 [============================>.] - ETA: 0s - loss: 1.6446 - categorical_accuracy: 0.4032WARNING:tensorflow:AutoGraph could not transform <function Model.make_test_function.<locals>.test_function at 0x7f7bbf8729e0> and will run it as-is.\n",
            "Please report this to the TensorFlow team. When filing the bug, set the verbosity to 10 (on Linux, `export AUTOGRAPH_VERBOSITY=10`) and attach the full output.\n",
            "Cause: closure mismatch, requested ('self', 'step_function'), but source function had ()\n",
            "To silence this warning, decorate the function with @tf.autograph.experimental.do_not_convert\n",
            "WARNING: AutoGraph could not transform <function Model.make_test_function.<locals>.test_function at 0x7f7bbf8729e0> and will run it as-is.\n",
            "Please report this to the TensorFlow team. When filing the bug, set the verbosity to 10 (on Linux, `export AUTOGRAPH_VERBOSITY=10`) and attach the full output.\n",
            "Cause: closure mismatch, requested ('self', 'step_function'), but source function had ()\n",
            "To silence this warning, decorate the function with @tf.autograph.experimental.do_not_convert\n",
            "1433/1433 [==============================] - 89s 59ms/step - loss: 1.6447 - categorical_accuracy: 0.4032 - val_loss: 1.5055 - val_categorical_accuracy: 0.3897 - lr: 0.0010\n",
            "Epoch 2/500\n",
            "1433/1433 [==============================] - 84s 59ms/step - loss: 1.6189 - categorical_accuracy: 0.4064 - val_loss: 1.4684 - val_categorical_accuracy: 0.4150 - lr: 0.0010\n",
            "Epoch 3/500\n",
            " 495/1433 [=========>....................] - ETA: 51s - loss: 1.6127 - categorical_accuracy: 0.4082"
          ]
        },
        {
          "output_type": "error",
          "ename": "KeyboardInterrupt",
          "evalue": "ignored",
          "traceback": [
            "\u001b[0;31m---------------------------------------------------------------------------\u001b[0m",
            "\u001b[0;31mKeyboardInterrupt\u001b[0m                         Traceback (most recent call last)",
            "\u001b[0;32m<ipython-input-61-1abbf768064e>\u001b[0m in \u001b[0;36m<module>\u001b[0;34m()\u001b[0m\n\u001b[1;32m     25\u001b[0m     \u001b[0mvalidation_split\u001b[0m\u001b[0;34m=\u001b[0m\u001b[0;36m0.2\u001b[0m\u001b[0;34m,\u001b[0m\u001b[0;34m\u001b[0m\u001b[0;34m\u001b[0m\u001b[0m\n\u001b[1;32m     26\u001b[0m     \u001b[0mverbose\u001b[0m\u001b[0;34m=\u001b[0m\u001b[0;36m1\u001b[0m\u001b[0;34m,\u001b[0m\u001b[0;34m\u001b[0m\u001b[0;34m\u001b[0m\u001b[0m\n\u001b[0;32m---> 27\u001b[0;31m     \u001b[0mclass_weight\u001b[0m\u001b[0;34m=\u001b[0m \u001b[0mweightss\u001b[0m\u001b[0;34m,\u001b[0m\u001b[0;34m\u001b[0m\u001b[0;34m\u001b[0m\u001b[0m\n\u001b[0m\u001b[1;32m     28\u001b[0m )\n",
            "\u001b[0;32m/usr/local/lib/python3.7/dist-packages/keras/utils/traceback_utils.py\u001b[0m in \u001b[0;36merror_handler\u001b[0;34m(*args, **kwargs)\u001b[0m\n\u001b[1;32m     62\u001b[0m     \u001b[0mfiltered_tb\u001b[0m \u001b[0;34m=\u001b[0m \u001b[0;32mNone\u001b[0m\u001b[0;34m\u001b[0m\u001b[0;34m\u001b[0m\u001b[0m\n\u001b[1;32m     63\u001b[0m     \u001b[0;32mtry\u001b[0m\u001b[0;34m:\u001b[0m\u001b[0;34m\u001b[0m\u001b[0;34m\u001b[0m\u001b[0m\n\u001b[0;32m---> 64\u001b[0;31m       \u001b[0;32mreturn\u001b[0m \u001b[0mfn\u001b[0m\u001b[0;34m(\u001b[0m\u001b[0;34m*\u001b[0m\u001b[0margs\u001b[0m\u001b[0;34m,\u001b[0m \u001b[0;34m**\u001b[0m\u001b[0mkwargs\u001b[0m\u001b[0;34m)\u001b[0m\u001b[0;34m\u001b[0m\u001b[0;34m\u001b[0m\u001b[0m\n\u001b[0m\u001b[1;32m     65\u001b[0m     \u001b[0;32mexcept\u001b[0m \u001b[0mException\u001b[0m \u001b[0;32mas\u001b[0m \u001b[0me\u001b[0m\u001b[0;34m:\u001b[0m  \u001b[0;31m# pylint: disable=broad-except\u001b[0m\u001b[0;34m\u001b[0m\u001b[0;34m\u001b[0m\u001b[0m\n\u001b[1;32m     66\u001b[0m       \u001b[0mfiltered_tb\u001b[0m \u001b[0;34m=\u001b[0m \u001b[0m_process_traceback_frames\u001b[0m\u001b[0;34m(\u001b[0m\u001b[0me\u001b[0m\u001b[0;34m.\u001b[0m\u001b[0m__traceback__\u001b[0m\u001b[0;34m)\u001b[0m\u001b[0;34m\u001b[0m\u001b[0;34m\u001b[0m\u001b[0m\n",
            "\u001b[0;32m/usr/local/lib/python3.7/dist-packages/keras/engine/training.py\u001b[0m in \u001b[0;36mfit\u001b[0;34m(self, x, y, batch_size, epochs, verbose, callbacks, validation_split, validation_data, shuffle, class_weight, sample_weight, initial_epoch, steps_per_epoch, validation_steps, validation_batch_size, validation_freq, max_queue_size, workers, use_multiprocessing)\u001b[0m\n\u001b[1;32m   1214\u001b[0m             \u001b[0;31m`\u001b[0m\u001b[0mtf\u001b[0m\u001b[0;34m.\u001b[0m\u001b[0mdistribute\u001b[0m\u001b[0;34m.\u001b[0m\u001b[0mexperimental\u001b[0m\u001b[0;34m.\u001b[0m\u001b[0mParameterServerStrategy\u001b[0m\u001b[0;31m`\u001b[0m\u001b[0;34m.\u001b[0m\u001b[0;34m\u001b[0m\u001b[0;34m\u001b[0m\u001b[0m\n\u001b[1;32m   1215\u001b[0m         shuffle: Boolean (whether to shuffle the training data\n\u001b[0;32m-> 1216\u001b[0;31m             before each epoch) or str (for 'batch'). This argument is ignored\n\u001b[0m\u001b[1;32m   1217\u001b[0m             \u001b[0mwhen\u001b[0m\u001b[0;31m \u001b[0m\u001b[0;31m`\u001b[0m\u001b[0mx\u001b[0m\u001b[0;31m`\u001b[0m \u001b[0;32mis\u001b[0m \u001b[0ma\u001b[0m \u001b[0mgenerator\u001b[0m \u001b[0;32mor\u001b[0m \u001b[0man\u001b[0m \u001b[0mobject\u001b[0m \u001b[0mof\u001b[0m \u001b[0mtf\u001b[0m\u001b[0;34m.\u001b[0m\u001b[0mdata\u001b[0m\u001b[0;34m.\u001b[0m\u001b[0mDataset\u001b[0m\u001b[0;34m.\u001b[0m\u001b[0;34m\u001b[0m\u001b[0;34m\u001b[0m\u001b[0m\n\u001b[1;32m   1218\u001b[0m             \u001b[0;34m'batch'\u001b[0m \u001b[0;32mis\u001b[0m \u001b[0ma\u001b[0m \u001b[0mspecial\u001b[0m \u001b[0moption\u001b[0m \u001b[0;32mfor\u001b[0m \u001b[0mdealing\u001b[0m\u001b[0;34m\u001b[0m\u001b[0;34m\u001b[0m\u001b[0m\n",
            "\u001b[0;32m/usr/local/lib/python3.7/dist-packages/tensorflow/python/util/traceback_utils.py\u001b[0m in \u001b[0;36merror_handler\u001b[0;34m(*args, **kwargs)\u001b[0m\n\u001b[1;32m    148\u001b[0m     \u001b[0mfiltered_tb\u001b[0m \u001b[0;34m=\u001b[0m \u001b[0;32mNone\u001b[0m\u001b[0;34m\u001b[0m\u001b[0;34m\u001b[0m\u001b[0m\n\u001b[1;32m    149\u001b[0m     \u001b[0;32mtry\u001b[0m\u001b[0;34m:\u001b[0m\u001b[0;34m\u001b[0m\u001b[0;34m\u001b[0m\u001b[0m\n\u001b[0;32m--> 150\u001b[0;31m       \u001b[0;32mreturn\u001b[0m \u001b[0mfn\u001b[0m\u001b[0;34m(\u001b[0m\u001b[0;34m*\u001b[0m\u001b[0margs\u001b[0m\u001b[0;34m,\u001b[0m \u001b[0;34m**\u001b[0m\u001b[0mkwargs\u001b[0m\u001b[0;34m)\u001b[0m\u001b[0;34m\u001b[0m\u001b[0;34m\u001b[0m\u001b[0m\n\u001b[0m\u001b[1;32m    151\u001b[0m     \u001b[0;32mexcept\u001b[0m \u001b[0mException\u001b[0m \u001b[0;32mas\u001b[0m \u001b[0me\u001b[0m\u001b[0;34m:\u001b[0m\u001b[0;34m\u001b[0m\u001b[0;34m\u001b[0m\u001b[0m\n\u001b[1;32m    152\u001b[0m       \u001b[0mfiltered_tb\u001b[0m \u001b[0;34m=\u001b[0m \u001b[0m_process_traceback_frames\u001b[0m\u001b[0;34m(\u001b[0m\u001b[0me\u001b[0m\u001b[0;34m.\u001b[0m\u001b[0m__traceback__\u001b[0m\u001b[0;34m)\u001b[0m\u001b[0;34m\u001b[0m\u001b[0;34m\u001b[0m\u001b[0m\n",
            "\u001b[0;32m/usr/local/lib/python3.7/dist-packages/tensorflow/python/eager/def_function.py\u001b[0m in \u001b[0;36m__call__\u001b[0;34m(self, *args, **kwds)\u001b[0m\n\u001b[1;32m    908\u001b[0m \u001b[0;34m\u001b[0m\u001b[0m\n\u001b[1;32m    909\u001b[0m     \u001b[0mtracing_count\u001b[0m \u001b[0;34m=\u001b[0m \u001b[0mself\u001b[0m\u001b[0;34m.\u001b[0m\u001b[0mexperimental_get_tracing_count\u001b[0m\u001b[0;34m(\u001b[0m\u001b[0;34m)\u001b[0m\u001b[0;34m\u001b[0m\u001b[0;34m\u001b[0m\u001b[0m\n\u001b[0;32m--> 910\u001b[0;31m     \u001b[0;32mwith\u001b[0m \u001b[0mtrace\u001b[0m\u001b[0;34m.\u001b[0m\u001b[0mTrace\u001b[0m\u001b[0;34m(\u001b[0m\u001b[0mself\u001b[0m\u001b[0;34m.\u001b[0m\u001b[0m_name\u001b[0m\u001b[0;34m)\u001b[0m \u001b[0;32mas\u001b[0m \u001b[0mtm\u001b[0m\u001b[0;34m:\u001b[0m\u001b[0;34m\u001b[0m\u001b[0;34m\u001b[0m\u001b[0m\n\u001b[0m\u001b[1;32m    911\u001b[0m       \u001b[0;31m# TODO(cheshire): Do not duplicate the XLAControlFlowContext annotation.\u001b[0m\u001b[0;34m\u001b[0m\u001b[0;34m\u001b[0m\u001b[0;34m\u001b[0m\u001b[0m\n\u001b[1;32m    912\u001b[0m       \u001b[0mcompiler\u001b[0m \u001b[0;34m=\u001b[0m \u001b[0;34m\"xla\"\u001b[0m \u001b[0;32mif\u001b[0m \u001b[0mself\u001b[0m\u001b[0;34m.\u001b[0m\u001b[0m_jit_compile\u001b[0m \u001b[0;32melse\u001b[0m \u001b[0;34m\"nonXla\"\u001b[0m\u001b[0;34m\u001b[0m\u001b[0;34m\u001b[0m\u001b[0m\n",
            "\u001b[0;32m/usr/local/lib/python3.7/dist-packages/tensorflow/python/eager/def_function.py\u001b[0m in \u001b[0;36m_call\u001b[0;34m(self, *args, **kwds)\u001b[0m\n\u001b[1;32m    940\u001b[0m       \u001b[0mcondition\u001b[0m \u001b[0;34m=\u001b[0m \u001b[0mself\u001b[0m\u001b[0;34m.\u001b[0m\u001b[0m_created_variables\u001b[0m\u001b[0;34m\u001b[0m\u001b[0;34m\u001b[0m\u001b[0m\n\u001b[1;32m    941\u001b[0m     \u001b[0;32mif\u001b[0m \u001b[0mcondition\u001b[0m\u001b[0;34m:\u001b[0m\u001b[0;34m\u001b[0m\u001b[0;34m\u001b[0m\u001b[0m\n\u001b[0;32m--> 942\u001b[0;31m       \u001b[0;31m# Release the lock early so that multiple threads can perform the call\u001b[0m\u001b[0;34m\u001b[0m\u001b[0;34m\u001b[0m\u001b[0;34m\u001b[0m\u001b[0m\n\u001b[0m\u001b[1;32m    943\u001b[0m       \u001b[0;31m# in parallel.\u001b[0m\u001b[0;34m\u001b[0m\u001b[0;34m\u001b[0m\u001b[0;34m\u001b[0m\u001b[0m\n\u001b[1;32m    944\u001b[0m       \u001b[0mself\u001b[0m\u001b[0;34m.\u001b[0m\u001b[0m_lock\u001b[0m\u001b[0;34m.\u001b[0m\u001b[0mrelease\u001b[0m\u001b[0;34m(\u001b[0m\u001b[0;34m)\u001b[0m\u001b[0;34m\u001b[0m\u001b[0;34m\u001b[0m\u001b[0m\n",
            "\u001b[0;32m/usr/local/lib/python3.7/dist-packages/tensorflow/python/eager/function.py\u001b[0m in \u001b[0;36m__call__\u001b[0;34m(self, *args, **kwargs)\u001b[0m\n\u001b[1;32m   3129\u001b[0m       \u001b[0munsupported\u001b[0m \u001b[0mvalue\u001b[0m \u001b[0mwill\u001b[0m \u001b[0mresult\u001b[0m \u001b[0minto\u001b[0m \u001b[0mValueError\u001b[0m\u001b[0;34m.\u001b[0m\u001b[0;31m \u001b[0m\u001b[0;31m`\u001b[0m\u001b[0mfunc_name\u001b[0m\u001b[0;31m`\u001b[0m \u001b[0;32mis\u001b[0m \u001b[0malso\u001b[0m \u001b[0mone\u001b[0m \u001b[0mof\u001b[0m\u001b[0;34m\u001b[0m\u001b[0;34m\u001b[0m\u001b[0m\n\u001b[1;32m   3130\u001b[0m       \u001b[0mthe\u001b[0m \u001b[0mallowlisted\u001b[0m \u001b[0margument\u001b[0m \u001b[0mwhich\u001b[0m \u001b[0;32mis\u001b[0m \u001b[0ma\u001b[0m \u001b[0mpython\u001b[0m \u001b[0mstring\u001b[0m\u001b[0;34m,\u001b[0m \u001b[0;32mand\u001b[0m \u001b[0msets\u001b[0m \u001b[0mthe\u001b[0m \u001b[0mname\u001b[0m \u001b[0;32mfor\u001b[0m\u001b[0;34m\u001b[0m\u001b[0;34m\u001b[0m\u001b[0m\n\u001b[0;32m-> 3131\u001b[0;31m       \u001b[0mthis\u001b[0m\u001b[0;31m \u001b[0m\u001b[0;31m`\u001b[0m\u001b[0mConcreteFunction\u001b[0m\u001b[0;31m`\u001b[0m \u001b[0;32min\u001b[0m \u001b[0mthe\u001b[0m \u001b[0mgraph\u001b[0m\u001b[0;34m.\u001b[0m\u001b[0;34m\u001b[0m\u001b[0;34m\u001b[0m\u001b[0m\n\u001b[0m\u001b[1;32m   3132\u001b[0m     \u001b[0mautograph\u001b[0m\u001b[0;34m:\u001b[0m \u001b[0msame\u001b[0m \u001b[0;32mas\u001b[0m \u001b[0mdefun\u001b[0m\u001b[0;34m(\u001b[0m\u001b[0;34m)\u001b[0m\u001b[0;31m'\u001b[0m\u001b[0ms\u001b[0m \u001b[0mautograph\u001b[0m\u001b[0;34m.\u001b[0m\u001b[0;34m\u001b[0m\u001b[0;34m\u001b[0m\u001b[0m\n\u001b[1;32m   3133\u001b[0m     \u001b[0mexperimental_autograph_options\u001b[0m\u001b[0;34m:\u001b[0m \u001b[0msame\u001b[0m \u001b[0;32mas\u001b[0m \u001b[0mdefun\u001b[0m\u001b[0;34m(\u001b[0m\u001b[0;34m)\u001b[0m\u001b[0;31m'\u001b[0m\u001b[0ms\u001b[0m\u001b[0;34m\u001b[0m\u001b[0;34m\u001b[0m\u001b[0m\n",
            "\u001b[0;32m/usr/local/lib/python3.7/dist-packages/tensorflow/python/eager/function.py\u001b[0m in \u001b[0;36m_call_flat\u001b[0;34m(self, args, captured_inputs, cancellation_manager)\u001b[0m\n\u001b[1;32m   1958\u001b[0m     \u001b[0;31m# captures in the wrapped graph. Doing such for a capture-to-deferred\u001b[0m\u001b[0;34m\u001b[0m\u001b[0;34m\u001b[0m\u001b[0;34m\u001b[0m\u001b[0m\n\u001b[1;32m   1959\u001b[0m     \u001b[0;31m# capture replacement requires more arguments than the deferred capture\u001b[0m\u001b[0;34m\u001b[0m\u001b[0;34m\u001b[0m\u001b[0;34m\u001b[0m\u001b[0m\n\u001b[0;32m-> 1960\u001b[0;31m     \u001b[0;31m# itself, e.g. default value, spec.\u001b[0m\u001b[0;34m\u001b[0m\u001b[0;34m\u001b[0m\u001b[0;34m\u001b[0m\u001b[0m\n\u001b[0m\u001b[1;32m   1961\u001b[0m     \u001b[0mself\u001b[0m\u001b[0;34m.\u001b[0m\u001b[0m_captured_inputs\u001b[0m \u001b[0;34m=\u001b[0m \u001b[0mcaptures\u001b[0m\u001b[0;34m\u001b[0m\u001b[0;34m\u001b[0m\u001b[0m\n\u001b[1;32m   1962\u001b[0m \u001b[0;34m\u001b[0m\u001b[0m\n",
            "\u001b[0;32m/usr/local/lib/python3.7/dist-packages/tensorflow/python/eager/function.py\u001b[0m in \u001b[0;36mcall\u001b[0;34m(self, ctx, args, cancellation_manager)\u001b[0m\n\u001b[1;32m    601\u001b[0m     \u001b[0;32mreturn\u001b[0m \u001b[0mforward\u001b[0m\u001b[0;34m,\u001b[0m \u001b[0mbackward\u001b[0m\u001b[0;34m\u001b[0m\u001b[0;34m\u001b[0m\u001b[0m\n\u001b[1;32m    602\u001b[0m \u001b[0;34m\u001b[0m\u001b[0m\n\u001b[0;32m--> 603\u001b[0;31m   \u001b[0;32mdef\u001b[0m \u001b[0m_construct_forward_backward\u001b[0m\u001b[0;34m(\u001b[0m\u001b[0mself\u001b[0m\u001b[0;34m,\u001b[0m \u001b[0mnum_doutputs\u001b[0m\u001b[0;34m)\u001b[0m\u001b[0;34m:\u001b[0m\u001b[0;34m\u001b[0m\u001b[0;34m\u001b[0m\u001b[0m\n\u001b[0m\u001b[1;32m    604\u001b[0m     \"\"\"Constructs a pair of forward and backward functions.\n\u001b[1;32m    605\u001b[0m \u001b[0;34m\u001b[0m\u001b[0m\n",
            "\u001b[0;32m/usr/local/lib/python3.7/dist-packages/tensorflow/python/eager/execute.py\u001b[0m in \u001b[0;36mquick_execute\u001b[0;34m(op_name, num_outputs, inputs, attrs, ctx, name)\u001b[0m\n\u001b[1;32m     57\u001b[0m     \u001b[0;32mif\u001b[0m \u001b[0mname\u001b[0m \u001b[0;32mis\u001b[0m \u001b[0;32mnot\u001b[0m \u001b[0;32mNone\u001b[0m\u001b[0;34m:\u001b[0m\u001b[0;34m\u001b[0m\u001b[0;34m\u001b[0m\u001b[0m\n\u001b[1;32m     58\u001b[0m       \u001b[0me\u001b[0m\u001b[0;34m.\u001b[0m\u001b[0mmessage\u001b[0m \u001b[0;34m+=\u001b[0m \u001b[0;34m\" name: \"\u001b[0m \u001b[0;34m+\u001b[0m \u001b[0mname\u001b[0m\u001b[0;34m\u001b[0m\u001b[0;34m\u001b[0m\u001b[0m\n\u001b[0;32m---> 59\u001b[0;31m     \u001b[0;32mraise\u001b[0m \u001b[0mcore\u001b[0m\u001b[0;34m.\u001b[0m\u001b[0m_status_to_exception\u001b[0m\u001b[0;34m(\u001b[0m\u001b[0me\u001b[0m\u001b[0;34m)\u001b[0m \u001b[0;32mfrom\u001b[0m \u001b[0;32mNone\u001b[0m\u001b[0;34m\u001b[0m\u001b[0;34m\u001b[0m\u001b[0m\n\u001b[0m\u001b[1;32m     60\u001b[0m   \u001b[0;32mexcept\u001b[0m \u001b[0mTypeError\u001b[0m \u001b[0;32mas\u001b[0m \u001b[0me\u001b[0m\u001b[0;34m:\u001b[0m\u001b[0;34m\u001b[0m\u001b[0;34m\u001b[0m\u001b[0m\n\u001b[1;32m     61\u001b[0m     keras_symbolic_tensors = [\n",
            "\u001b[0;31mKeyboardInterrupt\u001b[0m: "
          ]
        }
      ],
      "source": [
        "epochs = 500\n",
        "batch_size = 64\n",
        "\n",
        "\n",
        "callbacks = [\n",
        "    keras.callbacks.ModelCheckpoint(\n",
        "        filepath = checkpoint_filepath, save_best_only=True, monitor=\"val_loss\"\n",
        "    ),\n",
        "    keras.callbacks.ReduceLROnPlateau(\n",
        "        monitor=\"val_loss\", factor=0.5, patience=20, min_lr=0.0001\n",
        "    ),\n",
        "    keras.callbacks.EarlyStopping(monitor=\"val_loss\", patience=50, verbose=1),\n",
        "]\n",
        "model_1.compile(\n",
        "    optimizer=\"adam\", #sgd와 adam의 차이는?\n",
        "    loss= \"CategoricalCrossentropy\",\n",
        "    metrics=[\"categorical_accuracy\"],\n",
        ")\n",
        "history = model_1.fit(\n",
        "    x_train,\n",
        "    y_train,\n",
        "    batch_size=batch_size,\n",
        "    epochs=epochs,\n",
        "    callbacks=callbacks,\n",
        "    validation_split=0.2,\n",
        "    verbose=1,\n",
        "    class_weight= weightss,\n",
        ")"
      ]
    },
    {
      "cell_type": "markdown",
      "source": [
        "모델1 학습 결과"
      ],
      "metadata": {
        "id": "ac8X07-UDKJ5"
      }
    },
    {
      "cell_type": "code",
      "source": [
        "metric = \"sparse_categorical_accuracy\"\n",
        "plt.figure()\n",
        "plt.plot(history.history[metric])\n",
        "plt.plot(history.history[\"val_\" + metric])\n",
        "plt.title(\"model \" + metric)\n",
        "plt.ylabel(metric, fontsize=\"large\")\n",
        "plt.xlabel(\"epoch\", fontsize=\"large\")\n",
        "plt.legend([\"train\", \"val\"], loc=\"best\")\n",
        "plt.show()\n",
        "plt.close()"
      ],
      "metadata": {
        "id": "9PsZP9cMGsLL",
        "colab": {
          "base_uri": "https://localhost:8080/",
          "height": 263
        },
        "outputId": "76df8a42-2863-4ecd-890e-09f8496a687e"
      },
      "execution_count": 29,
      "outputs": [
        {
          "output_type": "error",
          "ename": "NameError",
          "evalue": "ignored",
          "traceback": [
            "\u001b[0;31m---------------------------------------------------------------------------\u001b[0m",
            "\u001b[0;31mNameError\u001b[0m                                 Traceback (most recent call last)",
            "\u001b[0;32m<ipython-input-29-f970e2ff57cd>\u001b[0m in \u001b[0;36m<module>\u001b[0;34m()\u001b[0m\n\u001b[1;32m      1\u001b[0m \u001b[0mmetric\u001b[0m \u001b[0;34m=\u001b[0m \u001b[0;34m\"sparse_categorical_accuracy\"\u001b[0m\u001b[0;34m\u001b[0m\u001b[0;34m\u001b[0m\u001b[0m\n\u001b[1;32m      2\u001b[0m \u001b[0mplt\u001b[0m\u001b[0;34m.\u001b[0m\u001b[0mfigure\u001b[0m\u001b[0;34m(\u001b[0m\u001b[0;34m)\u001b[0m\u001b[0;34m\u001b[0m\u001b[0;34m\u001b[0m\u001b[0m\n\u001b[0;32m----> 3\u001b[0;31m \u001b[0mplt\u001b[0m\u001b[0;34m.\u001b[0m\u001b[0mplot\u001b[0m\u001b[0;34m(\u001b[0m\u001b[0mhistory\u001b[0m\u001b[0;34m.\u001b[0m\u001b[0mhistory\u001b[0m\u001b[0;34m[\u001b[0m\u001b[0mmetric\u001b[0m\u001b[0;34m]\u001b[0m\u001b[0;34m)\u001b[0m\u001b[0;34m\u001b[0m\u001b[0;34m\u001b[0m\u001b[0m\n\u001b[0m\u001b[1;32m      4\u001b[0m \u001b[0mplt\u001b[0m\u001b[0;34m.\u001b[0m\u001b[0mplot\u001b[0m\u001b[0;34m(\u001b[0m\u001b[0mhistory\u001b[0m\u001b[0;34m.\u001b[0m\u001b[0mhistory\u001b[0m\u001b[0;34m[\u001b[0m\u001b[0;34m\"val_\"\u001b[0m \u001b[0;34m+\u001b[0m \u001b[0mmetric\u001b[0m\u001b[0;34m]\u001b[0m\u001b[0;34m)\u001b[0m\u001b[0;34m\u001b[0m\u001b[0;34m\u001b[0m\u001b[0m\n\u001b[1;32m      5\u001b[0m \u001b[0mplt\u001b[0m\u001b[0;34m.\u001b[0m\u001b[0mtitle\u001b[0m\u001b[0;34m(\u001b[0m\u001b[0;34m\"model \"\u001b[0m \u001b[0;34m+\u001b[0m \u001b[0mmetric\u001b[0m\u001b[0;34m)\u001b[0m\u001b[0;34m\u001b[0m\u001b[0;34m\u001b[0m\u001b[0m\n",
            "\u001b[0;31mNameError\u001b[0m: name 'history' is not defined"
          ]
        },
        {
          "output_type": "display_data",
          "data": {
            "text/plain": [
              "<Figure size 432x288 with 0 Axes>"
            ]
          },
          "metadata": {}
        }
      ]
    },
    {
      "cell_type": "markdown",
      "source": [
        "모델2 ( CNNBlock - Bi_GRU_layer - FC-softmax ( Bidirection O)  )"
      ],
      "metadata": {
        "id": "qNfpwuKY7Idz"
      }
    },
    {
      "cell_type": "code",
      "source": [
        "def make_model(input_shape):\n",
        "    input_layer = keras.layers.Input(input_shape)\n",
        "\n",
        "    conv1 = keras.layers.Conv1D(filters=64, kernel_size=5, strides=1, padding=\"same\")(input_layer)\n",
        "    conv1 = keras.layers.BatchNormalization()(conv1)\n",
        "    conv1 = keras.layers.ReLU()(conv1)\n",
        "    #conv1 = keras.layers.Dropout()(conv1)\n",
        "\n",
        "    conv2 = keras.layers.Conv1D(filters=64, kernel_size=5, strides=1, padding=\"same\")(conv1)\n",
        "    conv2 = keras.layers.BatchNormalization()(conv2)\n",
        "    conv2 = keras.layers.ReLU()(conv2)\n",
        "    #conv1 = keras.layers.Dropout()(conv1)\n",
        "\n",
        "    #conv3 = keras.layers.Conv1D(filters=64, kernel_size=5, strides=1, padding=\"same\")(conv2)\n",
        "    #conv3 = keras.layers.BatchNormalization()(conv3)\n",
        "    #conv3 = keras.layers.ReLU()(conv3)\n",
        "\n",
        "    gap = keras.layers.GlobalMaxPooling1D(keepdims=True)(conv2)\n",
        "    #print(gap.shape)\n",
        "    #gap = keras.layers.Reshape(('None','None',7680))(gap)\n",
        "    #tf.keras.layers.Reshape((1,1,1))(gap)\n",
        "    #Reshape((12, 12, 2560))(drop5_1)\n",
        "    #tf.reshape(gap, [1,1,1])(gap)\n",
        "    #print(gap.shape)\n",
        "\n",
        "    #units: Positive integer, dimensionality of the output space.\n",
        "    #Bidirectional(LSTM(10, return_sequences=True), input_shape=(5, 10))\n",
        "\n",
        "    forward_layer = keras.layers.GRU(256,\n",
        "                                     dropout=0.5,\n",
        "                                     recurrent_dropout=0,\n",
        "                                     kernel_regularizer=regularizers.L1L2(l1=1e-5, l2=1e-4),\n",
        "                                     bias_regularizer=regularizers.L2(1e-4),\n",
        "                                     activity_regularizer=regularizers.L2(1e-5),\n",
        "                                     return_sequences=True)\n",
        "    backward_layer = keras.layers.GRU(256,\n",
        "                                     dropout=0.5,\n",
        "                                     recurrent_dropout=0,\n",
        "                                     kernel_regularizer=regularizers.L1L2(l1=1e-5, l2=1e-4),\n",
        "                                     bias_regularizer=regularizers.L2(1e-4),\n",
        "                                     activity_regularizer=regularizers.L2(1e-5),\n",
        "                      return_sequences=True,\n",
        "                                      go_backwards=True)\n",
        "\n",
        "    #model.add(Bidirectional(forward_layer, backward_layer=backward_layer,\n",
        "    #                     input_shape=(5, 10)))\n",
        "\n",
        "    Bi_GRU_layer = keras.layers.Bidirectional(forward_layer, backward_layer=backward_layer,)(gap)\n",
        "\n",
        "    simplernn = keras.layers.SimpleRNN(128,\n",
        "                                       dropout=0.5,\n",
        "                                       recurrent_dropout=0,\n",
        "                                       kernel_regularizer=regularizers.L1L2(l1=1e-5, l2=1e-4),\n",
        "                                       bias_regularizer=regularizers.L2(1e-4),\n",
        "                                       activity_regularizer=regularizers.L2(1e-5),\n",
        "                                       )(Bi_GRU_layer)\n",
        "    \n",
        "\n",
        "    output_layer = keras.layers.Dense(num_classes,\n",
        "                                      activation=\"softmax\",\n",
        "                                      kernel_regularizer=regularizers.L1L2(l1=1e-5, l2=1e-4),\n",
        "                                      bias_regularizer=regularizers.L2(1e-4),\n",
        "                                      activity_regularizer=regularizers.L2(1e-5)\n",
        "                                      )(simplernn)\n",
        "    #print(gap.shape)\n",
        "\n",
        "    #GRU = keras.layers.GRU(256, return_sequences=True)(gap)\n",
        "    #keras.layers.CuDNNGRU(256, kernel_initializer='glorot_uniform', recurrent_initializer='orthogonal', bias_initializer='zeros', kernel_regularizer=None, recurrent_regularizer=None, bias_regularizer=None, activity_regularizer=None, kernel_constraint=None, recurrent_constraint=None, bias_constraint=None, return_sequences=False, return_state=False, stateful=False)\n",
        "    #print(GRU)\n",
        "\n",
        "    #simplernn = keras.layers.SimpleRNN(128)(GRU)\n",
        "    \n",
        "\n",
        "\n",
        "    return keras.models.Model(inputs=input_layer, outputs=output_layer)\n",
        "\n",
        "\n",
        "model_2 = make_model(input_shape=x_train.shape[1:])\n",
        "keras.utils.plot_model(model_2, show_shapes=True)"
      ],
      "metadata": {
        "colab": {
          "base_uri": "https://localhost:8080/",
          "height": 1000
        },
        "id": "4t4J3b1B7HPN",
        "outputId": "fe91ee77-d41e-42ee-da9b-b96aa868eab1"
      },
      "execution_count": 32,
      "outputs": [
        {
          "output_type": "execute_result",
          "data": {
            "text/plain": [
              "<IPython.core.display.Image object>"
            ],
            "image/png": "[encoded data removed]"
          },
          "metadata": {},
          "execution_count": 32
        }
      ]
    },
    {
      "cell_type": "code",
      "source": [
        "model_2.summary()"
      ],
      "metadata": {
        "colab": {
          "base_uri": "https://localhost:8080/"
        },
        "id": "N8xLqXI88pQu",
        "outputId": "7bd7b24e-5f36-4f38-f0f8-5620ee540267"
      },
      "execution_count": 33,
      "outputs": [
        {
          "output_type": "stream",
          "name": "stdout",
          "text": [
            "Model: \"model_1\"\n",
            "_________________________________________________________________\n",
            " Layer (type)                Output Shape              Param #   \n",
            "=================================================================\n",
            " input_2 (InputLayer)        [(None, 7680, 1)]         0         \n",
            "                                                                 \n",
            " conv1d_2 (Conv1D)           (None, 7680, 64)          384       \n",
            "                                                                 \n",
            " batch_normalization_2 (Batc  (None, 7680, 64)         256       \n",
            " hNormalization)                                                 \n",
            "                                                                 \n",
            " re_lu_2 (ReLU)              (None, 7680, 64)          0         \n",
            "                                                                 \n",
            " conv1d_3 (Conv1D)           (None, 7680, 64)          20544     \n",
            "                                                                 \n",
            " batch_normalization_3 (Batc  (None, 7680, 64)         256       \n",
            " hNormalization)                                                 \n",
            "                                                                 \n",
            " re_lu_3 (ReLU)              (None, 7680, 64)          0         \n",
            "                                                                 \n",
            " global_max_pooling1d_1 (Glo  (None, 1, 64)            0         \n",
            " balMaxPooling1D)                                                \n",
            "                                                                 \n",
            " bidirectional (Bidirectiona  (None, 1, 512)           494592    \n",
            " l)                                                              \n",
            "                                                                 \n",
            " simple_rnn_1 (SimpleRNN)    (None, 128)               82048     \n",
            "                                                                 \n",
            " dense_1 (Dense)             (None, 5)                 645       \n",
            "                                                                 \n",
            "=================================================================\n",
            "Total params: 598,725\n",
            "Trainable params: 598,469\n",
            "Non-trainable params: 256\n",
            "_________________________________________________________________\n"
          ]
        }
      ]
    },
    {
      "cell_type": "markdown",
      "source": [
        "model_2 trainig"
      ],
      "metadata": {
        "id": "BYCT934ySobz"
      }
    },
    {
      "cell_type": "code",
      "source": [
        "#파일경로및파일명설정 (\"checkpoint_filepath\"라는 변수에 model2에 대해 가장 성능이 높은 best_model이 저장될 경로 저장)\n",
        "#위에서 자신이 설정한 samplerate와 class의 개수 정보에 맞춰 그것만 주석지우고 적용할 것\n",
        "\n",
        "sample_rate = \"256Hz\"\n",
        "#sample_rate = \"128Hz\"  \n",
        "#sample_rate = \"64Hz\"  \n",
        "\n",
        "numberofclass = \"_5class\"\n",
        "#numberofclass = \"_3class\" #(W,N,R)\n",
        "\n",
        "#모델2\n",
        "checkpoint_filepath = \"/content/drive/MyDrive/physionet/capstone_model/best_model_2_\" + sample_rate + numberofclass + \".h5\"\n",
        "print(f'checkpoint_filepath : {checkpoint_filepath}')"
      ],
      "metadata": {
        "id": "0cCi6ld8SugG"
      },
      "execution_count": null,
      "outputs": []
    },
    {
      "cell_type": "code",
      "source": [
        "# The model weights (that are considered the best) are loaded into the model.\n",
        "# 이전에 저장했던 모델2에 대한 best model의 weight(parameter)를 로드\n",
        "\n",
        "model_2.load_weights(checkpoint_filepath)\n",
        "\n",
        "#모델자체를 불러오기\n",
        "#model_2 = keras.models.load_model(checkpoint_filepath)"
      ],
      "metadata": {
        "id": "a-f0UD37S8BA"
      },
      "execution_count": null,
      "outputs": []
    },
    {
      "cell_type": "code",
      "source": [
        "epochs = 500\n",
        "batch_size = 64\n",
        "\n",
        "callbacks = [\n",
        "    keras.callbacks.ModelCheckpoint(\n",
        "        filepath = checkpoint_filepath, save_best_only=True, monitor=\"val_loss\"\n",
        "    ),\n",
        "    keras.callbacks.ReduceLROnPlateau(\n",
        "        monitor=\"val_loss\", factor=0.5, patience=20, min_lr=0.0001\n",
        "    ),\n",
        "    keras.callbacks.EarlyStopping(monitor=\"val_loss\", patience=50, verbose=1),\n",
        "]\n",
        "model_2.compile(\n",
        "    optimizer=\"adam\", #sgd와 adam의 차이는?\n",
        "    loss= \"CategoricalCrossentropy\",\n",
        "    metrics=[\"categorical_accuracy\"],\n",
        ")\n",
        "history = model_2.fit(\n",
        "    x_train,\n",
        "    y_train,\n",
        "    batch_size=batch_size,\n",
        "    epochs=epochs,\n",
        "    callbacks=callbacks,\n",
        "    validation_split=0.2,\n",
        "    verbose=1,\n",
        "    class_weight= weightss,\n",
        ")"
      ],
      "metadata": {
        "id": "vwv0zQsRCiBk",
        "colab": {
          "base_uri": "https://localhost:8080/"
        },
        "outputId": "ef9d41d7-0a5f-4f5b-8ad7-d47cd8612fa4"
      },
      "execution_count": 34,
      "outputs": [
        {
          "output_type": "stream",
          "name": "stdout",
          "text": [
            "Epoch 1/500\n",
            "WARNING:tensorflow:AutoGraph could not transform <function Model.make_train_function.<locals>.train_function at 0x7effacbce8c0> and will run it as-is.\n",
            "Please report this to the TensorFlow team. When filing the bug, set the verbosity to 10 (on Linux, `export AUTOGRAPH_VERBOSITY=10`) and attach the full output.\n",
            "Cause: 'arguments' object has no attribute 'posonlyargs'\n",
            "To silence this warning, decorate the function with @tf.autograph.experimental.do_not_convert\n",
            "WARNING: AutoGraph could not transform <function Model.make_train_function.<locals>.train_function at 0x7effacbce8c0> and will run it as-is.\n",
            "Please report this to the TensorFlow team. When filing the bug, set the verbosity to 10 (on Linux, `export AUTOGRAPH_VERBOSITY=10`) and attach the full output.\n",
            "Cause: 'arguments' object has no attribute 'posonlyargs'\n",
            "To silence this warning, decorate the function with @tf.autograph.experimental.do_not_convert\n",
            "1432/1433 [============================>.] - ETA: 0s - loss: 1.6786 - categorical_accuracy: 0.2475WARNING:tensorflow:AutoGraph could not transform <function Model.make_test_function.<locals>.test_function at 0x7effabb3e170> and will run it as-is.\n",
            "Please report this to the TensorFlow team. When filing the bug, set the verbosity to 10 (on Linux, `export AUTOGRAPH_VERBOSITY=10`) and attach the full output.\n",
            "Cause: 'arguments' object has no attribute 'posonlyargs'\n",
            "To silence this warning, decorate the function with @tf.autograph.experimental.do_not_convert\n",
            "WARNING: AutoGraph could not transform <function Model.make_test_function.<locals>.test_function at 0x7effabb3e170> and will run it as-is.\n",
            "Please report this to the TensorFlow team. When filing the bug, set the verbosity to 10 (on Linux, `export AUTOGRAPH_VERBOSITY=10`) and attach the full output.\n",
            "Cause: 'arguments' object has no attribute 'posonlyargs'\n",
            "To silence this warning, decorate the function with @tf.autograph.experimental.do_not_convert\n",
            "1433/1433 [==============================] - 89s 59ms/step - loss: 1.6786 - categorical_accuracy: 0.2475 - val_loss: 1.5669 - val_categorical_accuracy: 0.2878 - lr: 0.0010\n",
            "Epoch 2/500\n",
            "1433/1433 [==============================] - 83s 58ms/step - loss: 1.5943 - categorical_accuracy: 0.2761 - val_loss: 1.6021 - val_categorical_accuracy: 0.2284 - lr: 0.0010\n",
            "Epoch 3/500\n",
            "1433/1433 [==============================] - 83s 58ms/step - loss: 1.5545 - categorical_accuracy: 0.2850 - val_loss: 1.5396 - val_categorical_accuracy: 0.2912 - lr: 0.0010\n",
            "Epoch 4/500\n",
            "1433/1433 [==============================] - 83s 58ms/step - loss: 1.5279 - categorical_accuracy: 0.2980 - val_loss: 1.5595 - val_categorical_accuracy: 0.2834 - lr: 0.0010\n",
            "Epoch 5/500\n",
            "1433/1433 [==============================] - 83s 58ms/step - loss: 1.5146 - categorical_accuracy: 0.3022 - val_loss: 1.5301 - val_categorical_accuracy: 0.2921 - lr: 0.0010\n",
            "Epoch 6/500\n",
            "1433/1433 [==============================] - 83s 58ms/step - loss: 1.5021 - categorical_accuracy: 0.3117 - val_loss: 1.5582 - val_categorical_accuracy: 0.2645 - lr: 0.0010\n",
            "Epoch 7/500\n",
            "1433/1433 [==============================] - 83s 58ms/step - loss: 1.4956 - categorical_accuracy: 0.3186 - val_loss: 1.5868 - val_categorical_accuracy: 0.2637 - lr: 0.0010\n",
            "Epoch 8/500\n",
            "1433/1433 [==============================] - 83s 58ms/step - loss: 1.4864 - categorical_accuracy: 0.3218 - val_loss: 1.5458 - val_categorical_accuracy: 0.2889 - lr: 0.0010\n",
            "Epoch 9/500\n",
            "1433/1433 [==============================] - 83s 58ms/step - loss: 1.4805 - categorical_accuracy: 0.3256 - val_loss: 1.6110 - val_categorical_accuracy: 0.2324 - lr: 0.0010\n",
            "Epoch 10/500\n",
            "1433/1433 [==============================] - 83s 58ms/step - loss: 1.4742 - categorical_accuracy: 0.3286 - val_loss: 1.5697 - val_categorical_accuracy: 0.2711 - lr: 0.0010\n",
            "Epoch 11/500\n",
            "1433/1433 [==============================] - 83s 58ms/step - loss: 1.4683 - categorical_accuracy: 0.3310 - val_loss: 1.6012 - val_categorical_accuracy: 0.2369 - lr: 0.0010\n",
            "Epoch 12/500\n",
            "1433/1433 [==============================] - 83s 58ms/step - loss: 1.4630 - categorical_accuracy: 0.3355 - val_loss: 1.5832 - val_categorical_accuracy: 0.2797 - lr: 0.0010\n",
            "Epoch 13/500\n",
            "1433/1433 [==============================] - 83s 58ms/step - loss: 1.4595 - categorical_accuracy: 0.3385 - val_loss: 1.5690 - val_categorical_accuracy: 0.2771 - lr: 0.0010\n",
            "Epoch 14/500\n",
            "1433/1433 [==============================] - 83s 58ms/step - loss: 1.4562 - categorical_accuracy: 0.3380 - val_loss: 1.5903 - val_categorical_accuracy: 0.2618 - lr: 0.0010\n",
            "Epoch 15/500\n",
            "1433/1433 [==============================] - 83s 58ms/step - loss: 1.4530 - categorical_accuracy: 0.3422 - val_loss: 1.5628 - val_categorical_accuracy: 0.2846 - lr: 0.0010\n",
            "Epoch 16/500\n",
            "1433/1433 [==============================] - 83s 58ms/step - loss: 1.4481 - categorical_accuracy: 0.3448 - val_loss: 1.5596 - val_categorical_accuracy: 0.2755 - lr: 0.0010\n",
            "Epoch 17/500\n",
            "1433/1433 [==============================] - 83s 58ms/step - loss: 1.4468 - categorical_accuracy: 0.3480 - val_loss: 1.5959 - val_categorical_accuracy: 0.2729 - lr: 0.0010\n",
            "Epoch 18/500\n",
            "1433/1433 [==============================] - 83s 58ms/step - loss: 1.4429 - categorical_accuracy: 0.3512 - val_loss: 1.5895 - val_categorical_accuracy: 0.2581 - lr: 0.0010\n",
            "Epoch 19/500\n",
            "1433/1433 [==============================] - 83s 58ms/step - loss: 1.4384 - categorical_accuracy: 0.3478 - val_loss: 1.5824 - val_categorical_accuracy: 0.2819 - lr: 0.0010\n",
            "Epoch 20/500\n",
            "1433/1433 [==============================] - 83s 58ms/step - loss: 1.4362 - categorical_accuracy: 0.3508 - val_loss: 1.5858 - val_categorical_accuracy: 0.2712 - lr: 0.0010\n",
            "Epoch 21/500\n",
            "1433/1433 [==============================] - 83s 58ms/step - loss: 1.4348 - categorical_accuracy: 0.3495 - val_loss: 1.5753 - val_categorical_accuracy: 0.2858 - lr: 0.0010\n",
            "Epoch 22/500\n",
            "1433/1433 [==============================] - 83s 58ms/step - loss: 1.4316 - categorical_accuracy: 0.3546 - val_loss: 1.6025 - val_categorical_accuracy: 0.2714 - lr: 0.0010\n",
            "Epoch 23/500\n",
            "1433/1433 [==============================] - 83s 58ms/step - loss: 1.4288 - categorical_accuracy: 0.3562 - val_loss: 1.5960 - val_categorical_accuracy: 0.2642 - lr: 0.0010\n",
            "Epoch 24/500\n",
            "1433/1433 [==============================] - 83s 58ms/step - loss: 1.4259 - categorical_accuracy: 0.3555 - val_loss: 1.6105 - val_categorical_accuracy: 0.2704 - lr: 0.0010\n",
            "Epoch 25/500\n",
            "1433/1433 [==============================] - 83s 58ms/step - loss: 1.4264 - categorical_accuracy: 0.3563 - val_loss: 1.5583 - val_categorical_accuracy: 0.3113 - lr: 0.0010\n",
            "Epoch 26/500\n",
            "1433/1433 [==============================] - 83s 58ms/step - loss: 1.4058 - categorical_accuracy: 0.3652 - val_loss: 1.6102 - val_categorical_accuracy: 0.2694 - lr: 5.0000e-04\n",
            "Epoch 27/500\n",
            "1433/1433 [==============================] - 83s 58ms/step - loss: 1.4033 - categorical_accuracy: 0.3644 - val_loss: 1.6060 - val_categorical_accuracy: 0.2611 - lr: 5.0000e-04\n",
            "Epoch 28/500\n",
            "1433/1433 [==============================] - 83s 58ms/step - loss: 1.3995 - categorical_accuracy: 0.3684 - val_loss: 1.5968 - val_categorical_accuracy: 0.2725 - lr: 5.0000e-04\n",
            "Epoch 29/500\n",
            "1433/1433 [==============================] - 83s 58ms/step - loss: 1.3975 - categorical_accuracy: 0.3673 - val_loss: 1.5829 - val_categorical_accuracy: 0.2683 - lr: 5.0000e-04\n",
            "Epoch 30/500\n",
            "1433/1433 [==============================] - 83s 58ms/step - loss: 1.3939 - categorical_accuracy: 0.3696 - val_loss: 1.6063 - val_categorical_accuracy: 0.2802 - lr: 5.0000e-04\n",
            "Epoch 31/500\n",
            "1433/1433 [==============================] - 83s 58ms/step - loss: 1.3927 - categorical_accuracy: 0.3686 - val_loss: 1.6008 - val_categorical_accuracy: 0.2694 - lr: 5.0000e-04\n",
            "Epoch 32/500\n",
            "1433/1433 [==============================] - 83s 58ms/step - loss: 1.3917 - categorical_accuracy: 0.3702 - val_loss: 1.5971 - val_categorical_accuracy: 0.2660 - lr: 5.0000e-04\n",
            "Epoch 33/500\n",
            "1433/1433 [==============================] - 83s 58ms/step - loss: 1.3911 - categorical_accuracy: 0.3717 - val_loss: 1.6116 - val_categorical_accuracy: 0.2762 - lr: 5.0000e-04\n",
            "Epoch 34/500\n",
            "1433/1433 [==============================] - 83s 58ms/step - loss: 1.3882 - categorical_accuracy: 0.3720 - val_loss: 1.6155 - val_categorical_accuracy: 0.2679 - lr: 5.0000e-04\n",
            "Epoch 35/500\n",
            "1433/1433 [==============================] - 83s 58ms/step - loss: 1.3874 - categorical_accuracy: 0.3719 - val_loss: 1.5856 - val_categorical_accuracy: 0.2843 - lr: 5.0000e-04\n",
            "Epoch 36/500\n",
            "1433/1433 [==============================] - 83s 58ms/step - loss: 1.3880 - categorical_accuracy: 0.3725 - val_loss: 1.6018 - val_categorical_accuracy: 0.2762 - lr: 5.0000e-04\n",
            "Epoch 37/500\n",
            "1433/1433 [==============================] - 84s 58ms/step - loss: 1.3862 - categorical_accuracy: 0.3723 - val_loss: 1.6124 - val_categorical_accuracy: 0.2739 - lr: 5.0000e-04\n",
            "Epoch 38/500\n",
            "1433/1433 [==============================] - 83s 58ms/step - loss: 1.3871 - categorical_accuracy: 0.3756 - val_loss: 1.6010 - val_categorical_accuracy: 0.2748 - lr: 5.0000e-04\n",
            "Epoch 39/500\n",
            "1433/1433 [==============================] - 83s 58ms/step - loss: 1.3862 - categorical_accuracy: 0.3747 - val_loss: 1.5981 - val_categorical_accuracy: 0.2786 - lr: 5.0000e-04\n",
            "Epoch 40/500\n",
            "1433/1433 [==============================] - 83s 58ms/step - loss: 1.3829 - categorical_accuracy: 0.3762 - val_loss: 1.5641 - val_categorical_accuracy: 0.2887 - lr: 5.0000e-04\n",
            "Epoch 41/500\n",
            "1433/1433 [==============================] - 83s 58ms/step - loss: 1.3812 - categorical_accuracy: 0.3773 - val_loss: 1.6233 - val_categorical_accuracy: 0.2689 - lr: 5.0000e-04\n",
            "Epoch 42/500\n",
            "1433/1433 [==============================] - 83s 58ms/step - loss: 1.3815 - categorical_accuracy: 0.3759 - val_loss: 1.5957 - val_categorical_accuracy: 0.2712 - lr: 5.0000e-04\n",
            "Epoch 43/500\n",
            "1433/1433 [==============================] - 83s 58ms/step - loss: 1.3797 - categorical_accuracy: 0.3766 - val_loss: 1.5949 - val_categorical_accuracy: 0.2948 - lr: 5.0000e-04\n",
            "Epoch 44/500\n",
            "1433/1433 [==============================] - 83s 58ms/step - loss: 1.3808 - categorical_accuracy: 0.3772 - val_loss: 1.6283 - val_categorical_accuracy: 0.2658 - lr: 5.0000e-04\n",
            "Epoch 45/500\n",
            "1433/1433 [==============================] - 83s 58ms/step - loss: 1.3797 - categorical_accuracy: 0.3772 - val_loss: 1.6071 - val_categorical_accuracy: 0.2697 - lr: 5.0000e-04\n",
            "Epoch 46/500\n",
            "1433/1433 [==============================] - 83s 58ms/step - loss: 1.3679 - categorical_accuracy: 0.3845 - val_loss: 1.6078 - val_categorical_accuracy: 0.2715 - lr: 2.5000e-04\n",
            "Epoch 47/500\n",
            "1433/1433 [==============================] - 83s 58ms/step - loss: 1.3628 - categorical_accuracy: 0.3851 - val_loss: 1.6227 - val_categorical_accuracy: 0.2673 - lr: 2.5000e-04\n",
            "Epoch 48/500\n",
            "1433/1433 [==============================] - 83s 58ms/step - loss: 1.3647 - categorical_accuracy: 0.3828 - val_loss: 1.6164 - val_categorical_accuracy: 0.2726 - lr: 2.5000e-04\n",
            "Epoch 49/500\n",
            "1433/1433 [==============================] - 83s 58ms/step - loss: 1.3606 - categorical_accuracy: 0.3850 - val_loss: 1.5921 - val_categorical_accuracy: 0.2862 - lr: 2.5000e-04\n",
            "Epoch 50/500\n",
            "1433/1433 [==============================] - 83s 58ms/step - loss: 1.3574 - categorical_accuracy: 0.3898 - val_loss: 1.6213 - val_categorical_accuracy: 0.2721 - lr: 2.5000e-04\n",
            "Epoch 51/500\n",
            "1433/1433 [==============================] - 83s 58ms/step - loss: 1.3600 - categorical_accuracy: 0.3876 - val_loss: 1.6014 - val_categorical_accuracy: 0.2738 - lr: 2.5000e-04\n",
            "Epoch 52/500\n",
            "1433/1433 [==============================] - 83s 58ms/step - loss: 1.3583 - categorical_accuracy: 0.3863 - val_loss: 1.6130 - val_categorical_accuracy: 0.2638 - lr: 2.5000e-04\n",
            "Epoch 53/500\n",
            "1433/1433 [==============================] - 83s 58ms/step - loss: 1.3594 - categorical_accuracy: 0.3867 - val_loss: 1.6223 - val_categorical_accuracy: 0.2706 - lr: 2.5000e-04\n",
            "Epoch 54/500\n",
            "1433/1433 [==============================] - 83s 58ms/step - loss: 1.3588 - categorical_accuracy: 0.3863 - val_loss: 1.6123 - val_categorical_accuracy: 0.2762 - lr: 2.5000e-04\n",
            "Epoch 55/500\n",
            "1433/1433 [==============================] - 84s 58ms/step - loss: 1.3595 - categorical_accuracy: 0.3861 - val_loss: 1.6235 - val_categorical_accuracy: 0.2679 - lr: 2.5000e-04\n",
            "Epoch 00055: early stopping\n"
          ]
        }
      ]
    },
    {
      "cell_type": "markdown",
      "source": [
        "model2 학습 결과"
      ],
      "metadata": {
        "id": "FgJ6pab1C77x"
      }
    },
    {
      "cell_type": "code",
      "execution_count": null,
      "metadata": {
        "id": "AKBG1wmCA-i7"
      },
      "outputs": [],
      "source": [
        "metric = \"sparse_categorical_accuracy\"\n",
        "plt.figure()\n",
        "plt.plot(history.history[metric])\n",
        "plt.plot(history.history[\"val_\" + metric])\n",
        "plt.title(\"model \" + metric)\n",
        "plt.ylabel(metric, fontsize=\"large\")\n",
        "plt.xlabel(\"epoch\", fontsize=\"large\")\n",
        "plt.legend([\"train\", \"val\"], loc=\"best\")\n",
        "plt.show()\n",
        "plt.close()"
      ]
    },
    {
      "cell_type": "markdown",
      "metadata": {
        "id": "nm9djdZ8QOXw"
      },
      "source": [
        "###Inference"
      ]
    },
    {
      "cell_type": "code",
      "source": [
        "#ram 많이 사용중이면 train 데이터 메모리에서 제거\n",
        "del x_train\n",
        "del y_train"
      ],
      "metadata": {
        "id": "5Xjt5Xhu0Eb2"
      },
      "execution_count": null,
      "outputs": []
    },
    {
      "cell_type": "markdown",
      "source": [
        "test_set 전처리"
      ],
      "metadata": {
        "id": "XiFUzIgVhtWw"
      }
    },
    {
      "cell_type": "code",
      "source": [
        "#sample_rate=\"\""
      ],
      "metadata": {
        "id": "3ZWC41m19oEm"
      },
      "execution_count": null,
      "outputs": []
    },
    {
      "cell_type": "code",
      "execution_count": 41,
      "metadata": {
        "colab": {
          "base_uri": "https://localhost:8080/"
        },
        "id": "fNMbvhl_QS8h",
        "outputId": "972012a9-7374-4a3d-8b19-c7e71e6ba073"
      },
      "outputs": [
        {
          "output_type": "stream",
          "name": "stdout",
          "text": [
            "test_x[0] : /content/drive/MyDrive/physionet/HMC/hmc-sleep-staging/recordings/SN006.edf\n",
            "test_y[0] : /content/drive/MyDrive/physionet/HMC/hmc-sleep-staging/recordings/SN006_sleepscoring.edf\n",
            "signals_len : 866\n",
            "annotations_len : 866\n",
            "\n",
            "\n",
            "test_x[1] : /content/drive/MyDrive/physionet/HMC/hmc-sleep-staging/recordings/SN012.edf\n",
            "test_y[1] : /content/drive/MyDrive/physionet/HMC/hmc-sleep-staging/recordings/SN012_sleepscoring.edf\n",
            "signals_len : 937\n",
            "annotations_len : 937\n",
            "\n",
            "\n",
            "test_x[2] : /content/drive/MyDrive/physionet/HMC/hmc-sleep-staging/recordings/SN019.edf\n",
            "test_y[2] : /content/drive/MyDrive/physionet/HMC/hmc-sleep-staging/recordings/SN019_sleepscoring.edf\n",
            "signals_len : 840\n",
            "annotations_len : 840\n",
            "\n",
            "\n",
            "test_x[3] : /content/drive/MyDrive/physionet/HMC/hmc-sleep-staging/recordings/SN025.edf\n",
            "test_y[3] : /content/drive/MyDrive/physionet/HMC/hmc-sleep-staging/recordings/SN025_sleepscoring.edf\n",
            "signals_len : 990\n",
            "annotations_len : 990\n",
            "\n",
            "\n",
            "test_x[4] : /content/drive/MyDrive/physionet/HMC/hmc-sleep-staging/recordings/SN031.edf\n",
            "test_y[4] : /content/drive/MyDrive/physionet/HMC/hmc-sleep-staging/recordings/SN031_sleepscoring.edf\n",
            "signals_len : 773\n",
            "annotations_len : 773\n",
            "\n",
            "\n",
            "test_x[5] : /content/drive/MyDrive/physionet/HMC/hmc-sleep-staging/recordings/SN037.edf\n",
            "test_y[5] : /content/drive/MyDrive/physionet/HMC/hmc-sleep-staging/recordings/SN037_sleepscoring.edf\n",
            "signals_len : 830\n",
            "annotations_len : 830\n",
            "\n",
            "\n",
            "test_x[6] : /content/drive/MyDrive/physionet/HMC/hmc-sleep-staging/recordings/SN043.edf\n",
            "test_y[6] : /content/drive/MyDrive/physionet/HMC/hmc-sleep-staging/recordings/SN043_sleepscoring.edf\n",
            "signals_len : 1014\n",
            "annotations_len : 1014\n",
            "\n",
            "\n",
            "test_x[7] : /content/drive/MyDrive/physionet/HMC/hmc-sleep-staging/recordings/SN049.edf\n",
            "test_y[7] : /content/drive/MyDrive/physionet/HMC/hmc-sleep-staging/recordings/SN049_sleepscoring.edf\n",
            "signals_len : 801\n",
            "annotations_len : 801\n",
            "\n",
            "\n",
            "test_x[8] : /content/drive/MyDrive/physionet/HMC/hmc-sleep-staging/recordings/SN055.edf\n",
            "test_y[8] : /content/drive/MyDrive/physionet/HMC/hmc-sleep-staging/recordings/SN055_sleepscoring.edf\n",
            "signals_len : 995\n",
            "annotations_len : 995\n",
            "\n",
            "\n",
            "test_x[9] : /content/drive/MyDrive/physionet/HMC/hmc-sleep-staging/recordings/SN061.edf\n",
            "test_y[9] : /content/drive/MyDrive/physionet/HMC/hmc-sleep-staging/recordings/SN061_sleepscoring.edf\n",
            "signals_len : 862\n",
            "annotations_len : 862\n",
            "\n",
            "\n",
            "test_x[10] : /content/drive/MyDrive/physionet/HMC/hmc-sleep-staging/recordings/SN068.edf\n",
            "test_y[10] : /content/drive/MyDrive/physionet/HMC/hmc-sleep-staging/recordings/SN068_sleepscoring.edf\n",
            "signals_len : 841\n",
            "annotations_len : 841\n",
            "\n",
            "\n",
            "test_x[11] : /content/drive/MyDrive/physionet/HMC/hmc-sleep-staging/recordings/SN074.edf\n",
            "test_y[11] : /content/drive/MyDrive/physionet/HMC/hmc-sleep-staging/recordings/SN074_sleepscoring.edf\n",
            "signals_len : 845\n",
            "annotations_len : 845\n",
            "\n",
            "\n",
            "test_x[12] : /content/drive/MyDrive/physionet/HMC/hmc-sleep-staging/recordings/SN080.edf\n",
            "test_y[12] : /content/drive/MyDrive/physionet/HMC/hmc-sleep-staging/recordings/SN080_sleepscoring.edf\n",
            "signals_len : 889\n",
            "annotations_len : 889\n",
            "\n",
            "\n",
            "test_x[13] : /content/drive/MyDrive/physionet/HMC/hmc-sleep-staging/recordings/SN086.edf\n",
            "test_y[13] : /content/drive/MyDrive/physionet/HMC/hmc-sleep-staging/recordings/SN086_sleepscoring.edf\n",
            "signals_len : 697\n",
            "annotations_len : 697\n",
            "\n",
            "\n",
            "test_x[14] : /content/drive/MyDrive/physionet/HMC/hmc-sleep-staging/recordings/SN092.edf\n",
            "test_y[14] : /content/drive/MyDrive/physionet/HMC/hmc-sleep-staging/recordings/SN092_sleepscoring.edf\n",
            "signals_len : 1029\n",
            "annotations_len : 1029\n",
            "\n",
            "\n",
            "test_x[15] : /content/drive/MyDrive/physionet/HMC/hmc-sleep-staging/recordings/SN098.edf\n",
            "test_y[15] : /content/drive/MyDrive/physionet/HMC/hmc-sleep-staging/recordings/SN098_sleepscoring.edf\n",
            "signals_len : 875\n",
            "annotations_len : 875\n",
            "\n",
            "\n",
            "test_x[16] : /content/drive/MyDrive/physionet/HMC/hmc-sleep-staging/recordings/SN104.edf\n",
            "test_y[16] : /content/drive/MyDrive/physionet/HMC/hmc-sleep-staging/recordings/SN104_sleepscoring.edf\n",
            "signals_len : 1007\n",
            "annotations_len : 1007\n",
            "\n",
            "\n",
            "test_x[17] : /content/drive/MyDrive/physionet/HMC/hmc-sleep-staging/recordings/SN110.edf\n",
            "test_y[17] : /content/drive/MyDrive/physionet/HMC/hmc-sleep-staging/recordings/SN110_sleepscoring.edf\n",
            "signals_len : 961\n",
            "annotations_len : 961\n",
            "\n",
            "\n",
            "test_x[18] : /content/drive/MyDrive/physionet/HMC/hmc-sleep-staging/recordings/SN116.edf\n",
            "test_y[18] : /content/drive/MyDrive/physionet/HMC/hmc-sleep-staging/recordings/SN116_sleepscoring.edf\n",
            "signals_len : 797\n",
            "annotations_len : 797\n",
            "\n",
            "\n",
            "test_x[19] : /content/drive/MyDrive/physionet/HMC/hmc-sleep-staging/recordings/SN122.edf\n",
            "test_y[19] : /content/drive/MyDrive/physionet/HMC/hmc-sleep-staging/recordings/SN122_sleepscoring.edf\n",
            "signals_len : 845\n",
            "annotations_len : 845\n",
            "\n",
            "\n",
            "test_x[20] : /content/drive/MyDrive/physionet/HMC/hmc-sleep-staging/recordings/SN128.edf\n",
            "test_y[20] : /content/drive/MyDrive/physionet/HMC/hmc-sleep-staging/recordings/SN128_sleepscoring.edf\n",
            "signals_len : 926\n",
            "annotations_len : 926\n",
            "\n",
            "\n",
            "test_x[21] : /content/drive/MyDrive/physionet/HMC/hmc-sleep-staging/recordings/SN134.edf\n",
            "test_y[21] : /content/drive/MyDrive/physionet/HMC/hmc-sleep-staging/recordings/SN134_sleepscoring.edf\n",
            "signals_len : 1179\n",
            "annotations_len : 1179\n",
            "\n",
            "\n",
            "test_x[22] : /content/drive/MyDrive/physionet/HMC/hmc-sleep-staging/recordings/SN141.edf\n",
            "test_y[22] : /content/drive/MyDrive/physionet/HMC/hmc-sleep-staging/recordings/SN141_sleepscoring.edf\n",
            "signals_len : 1065\n",
            "annotations_len : 1065\n",
            "\n",
            "\n",
            "test_x[23] : /content/drive/MyDrive/physionet/HMC/hmc-sleep-staging/recordings/SN147.edf\n",
            "test_y[23] : /content/drive/MyDrive/physionet/HMC/hmc-sleep-staging/recordings/SN147_sleepscoring.edf\n",
            "signals_len : 904\n",
            "annotations_len : 904\n",
            "\n",
            "\n",
            "test_x[24] : /content/drive/MyDrive/physionet/HMC/hmc-sleep-staging/recordings/SN153.edf\n",
            "test_y[24] : /content/drive/MyDrive/physionet/HMC/hmc-sleep-staging/recordings/SN153_sleepscoring.edf\n",
            "signals_len : 902\n",
            "annotations_len : 902\n",
            "\n",
            "\n",
            "num_test_matched : 25\n",
            "num_test_non_matched : 0\n",
            "test_non_matched_list : []\n",
            "max_length  : 3840\n",
            "min_length : 3840\n",
            "256Hz -> 7680, 128Hz -> 3840, 64Hz -> 1920\n"
          ]
        }
      ],
      "source": [
        "#test data 준비\n",
        "\n",
        "Test_x = []\n",
        "Test_y = []\n",
        "\n",
        "test_non_match = []\n",
        "test_match = 0\n",
        "length = []\n",
        "\n",
        "#valid data 준비\n",
        "\n",
        "for i in range(len(test_x)):\n",
        "  print(f'test_x[{i}] : {test_x[i]}')\n",
        "  print(f'test_y[{i}] : {test_y[i]}')\n",
        "\n",
        "  #label data 전처리\n",
        "  _, _, annotations_header = highlevel.read_edf(test_y[i])\n",
        "  ann = annotations_header['annotations']\n",
        "  label = []\n",
        "  for j in range(len(ann)):\n",
        "    s = ann[j][2][0].upper()       #첫 번째 글자가 S인 것만 추출\n",
        "    if s == 'S':                   #Lights off & Lights on 제거\n",
        "      label.append(ann[j][2])\n",
        "  annotations_len = len(label)    \n",
        "\n",
        "  #signal data 전처리\n",
        "\n",
        "  signals, _, signals_header = highlevel.read_edf(test_x[i],ch_names='ECG')\n",
        "  signal = remove_remains(signals[0], num_sample)\n",
        "  signals_len = len(signal)\n",
        "  print(f'signals_len : {signals_len}')\n",
        "  print(f'annotations_len : {annotations_len}')\n",
        "  print(\"\\n\")\n",
        "  \n",
        "  if signals_len == annotations_len:     # 30초 단위의 signal sample수와 label 수가 일치해야만 Train data로 사용할 수 있도록\n",
        "    test_match += 1\n",
        "    if sample_rate == \"256Hz\":\n",
        "      for sample in range(signals_len):\n",
        "        length.append(len(signal[sample])) #256Hz인 경우의 해당 sample의 segment 수\n",
        "        Test_x.append(signal[sample]) #256Hz\n",
        "        Test_y.append(label[sample])\n",
        "    elif sample_rate == \"128Hz\": \n",
        "      for sample in range(signals_len):\n",
        "        length.append(len(signal[sample][1::2])) #128Hz인 경우의 해당 sample의 segment 수\n",
        "        Test_x.append(signal[sample][1::2]) #128Hz\n",
        "        Test_y.append(label[sample])\n",
        "    elif sample_rate == \"64Hz\": \n",
        "      for sample in range(signals_len):\n",
        "        length.append(len(signal[sample][3::4])) #64Hz인 경우의 해당 sample의 segment 수\n",
        "        Test_x.append(signal[sample][3::4]) #64Hz\n",
        "        Test_y.append(label[sample])\n",
        "  else :\n",
        "    test_non_match.append((test_x[i],test_y[i])) \n",
        "\n",
        "\n",
        "print(f'num_test_matched : {test_match}')\n",
        "print(f'num_test_non_matched : {len(test_non_match)}')\n",
        "print(f'test_non_matched_list : {test_non_match}')\n",
        "print(f'max_length  : {max(length)}')\n",
        "print(f'min_length : {min(length)}')\n",
        "print(\"256Hz -> 7680, 128Hz -> 3840, 64Hz -> 1920\")\n",
        "\n",
        "del length\n",
        "del test_non_match\n",
        "del label"
      ]
    },
    {
      "cell_type": "code",
      "source": [
        "print(len(Test_x))\n",
        "print(len(Test_y))"
      ],
      "metadata": {
        "colab": {
          "base_uri": "https://localhost:8080/"
        },
        "id": "FCc4gOhY2t9r",
        "outputId": "61b9b1eb-31af-4dc3-a9bd-fe9e9f8f6e63"
      },
      "execution_count": 42,
      "outputs": [
        {
          "output_type": "stream",
          "name": "stdout",
          "text": [
            "22670\n",
            "22670\n"
          ]
        }
      ]
    },
    {
      "cell_type": "code",
      "execution_count": null,
      "metadata": {
        "id": "H3gi1xro183Z"
      },
      "outputs": [],
      "source": [
        "x_test = np.array(Test_x)\n",
        "del Test_x \n",
        "y_test = np.array(Test_y)\n",
        "del Test_y"
      ]
    },
    {
      "cell_type": "code",
      "source": [
        "#3class로 진행할 때만 밑에 주석처리 제거하고 이 셀을 실행할 것 (W,N,R)\n",
        "\n",
        "\n",
        "#y_test[y_test == 'Sleep stage N1'] = 'Sleep stage N'\n",
        "#y_test[y_test == 'Sleep stage N2'] = 'Sleep stage N'\n",
        "#y_test[y_test == 'Sleep stage N3'] = 'Sleep stage N'"
      ],
      "metadata": {
        "id": "QI3C7oxIiLKh"
      },
      "execution_count": null,
      "outputs": []
    },
    {
      "cell_type": "markdown",
      "source": [
        ""
      ],
      "metadata": {
        "id": "b6PlLQUuhy1s"
      }
    },
    {
      "cell_type": "code",
      "source": [
        "num_classes = len(np.unique(y_test))\n",
        "classess = (np.unique(y_test))\n",
        "print(f'num_classes : {num_classes}')\n",
        "print(f'classess : {classess}')\n",
        "#print(type(classess))"
      ],
      "metadata": {
        "id": "zjth60qAhWVB"
      },
      "execution_count": null,
      "outputs": []
    },
    {
      "cell_type": "code",
      "source": [
        "x_test = x_test.reshape((x_test.shape[0], x_test.shape[1], 1))"
      ],
      "metadata": {
        "id": "Thk50kyhiZMY"
      },
      "execution_count": null,
      "outputs": []
    },
    {
      "cell_type": "code",
      "source": [
        "classess"
      ],
      "metadata": {
        "id": "fbZ1vhX1inWz"
      },
      "execution_count": null,
      "outputs": []
    },
    {
      "cell_type": "code",
      "source": [
        "from sklearn.utils import class_weight\n",
        "weights = class_weight.compute_class_weight(class_weight = 'balanced',\n",
        "                                            classes = classess,\n",
        "                                            y = y_test)\n",
        "weightss = {i : weights[i] for i in range(5)}\n",
        "print(weightss)\n",
        "## {0: 0.6254180602006689, 1: 2.493333333333333}"
      ],
      "metadata": {
        "id": "zydMGGEmisL3"
      },
      "execution_count": null,
      "outputs": []
    },
    {
      "cell_type": "code",
      "source": [
        "#Converts a class vector (integers) to class matrix.\n",
        "\n",
        "# 각 class들을 숫자로 맵핑 안 시켜주면 모델 안 돌아가서\n",
        "\n",
        "#E.g. for use with categorical_crossentropy.\n",
        "if num_classes == 5:\n",
        "  y_test[y_test == 'Sleep stage W'] = 0\n",
        "  y_test[y_test == 'Sleep stage N1'] = 1\n",
        "  y_test[y_test == 'Sleep stage N2'] = 2\n",
        "  y_test[y_test == 'Sleep stage N3'] = 3\n",
        "  y_test[y_test == 'Sleep stage R'] = 4\n",
        "\n",
        "#3class(W,N,R)\n",
        "elif num_classes == 3:\n",
        "  y_test[y_test == 'Sleep stage W'] = 0\n",
        "  y_test[y_test == 'Sleep stage N'] = 1\n",
        "  y_test[y_test == 'Sleep stage R'] = 2\n",
        "\n",
        "y_test = tf.keras.utils.to_categorical(y_test, num_classes)"
      ],
      "metadata": {
        "id": "grmvaf4aiw5O"
      },
      "execution_count": null,
      "outputs": []
    },
    {
      "cell_type": "markdown",
      "source": [
        "Evaluate model on test data"
      ],
      "metadata": {
        "id": "DhwV29pnbgpd"
      }
    },
    {
      "cell_type": "code",
      "source": [
        "#평가하고자 하는 모델 경로 설정\n",
        "\n",
        "##defalut path\n",
        "best_model_path = \"checkpoint_filepath\"\n",
        "##수동 설정\n",
        "#best_model_path = \" \""
      ],
      "metadata": {
        "id": "CZks61Fnb1uV"
      },
      "execution_count": null,
      "outputs": []
    },
    {
      "cell_type": "code",
      "source": [
        "selected_model = keras.models.load_model(best_model_path)\n",
        "test_loss, test_acc = selected_model.evaluate(x_test, y_test)\n",
        "\n",
        "print(\"Test accuracy\", test_acc)\n",
        "print(\"Test loss\", test_loss)"
      ],
      "metadata": {
        "id": "NZwJgAJqbXQQ"
      },
      "execution_count": null,
      "outputs": []
    },
    {
      "cell_type": "markdown",
      "source": [
        "confusion matrix"
      ],
      "metadata": {
        "id": "LZfyOmcAC5KS"
      }
    },
    {
      "cell_type": "code",
      "execution_count": null,
      "metadata": {
        "id": "zsmnKLiYUarc"
      },
      "outputs": [],
      "source": [
        "# confusion matrix 사용을 위한 라이브러리\n",
        "from sklearn.metrics import confusion_matrix\n",
        "\n",
        "# confusion matrix 그리는 함수 \n",
        "def plot_confusion_matrix(con_mat, labels, title='Confusion Matrix', cmap=plt.cm.get_cmap('Blues'), normalize=False):\n",
        "    plt.imshow(con_mat, interpolation='nearest', cmap=cmap)\n",
        "    plt.title(title)\n",
        "    plt.colorbar()\n",
        "    marks = np.arange(len(labels))\n",
        "    nlabels = []\n",
        "    for k in range(len(con_mat)):\n",
        "        n = sum(con_mat[k])\n",
        "        nlabel = '{0}(n={1})'.format(labels[k],n)\n",
        "        nlabels.append(nlabel)\n",
        "    plt.xticks(marks, labels)\n",
        "    plt.yticks(marks, nlabels)\n",
        "\n",
        "    thresh = con_mat.max() / 2.\n",
        "    if normalize:\n",
        "        for i, j in itertools.product(range(con_mat.shape[0]), range(con_mat.shape[1])):\n",
        "            plt.text(j, i, '{0}%'.format(con_mat[i, j] * 100 / n), horizontalalignment=\"center\", color=\"white\" if con_mat[i, j] > thresh else \"black\")\n",
        "    else:\n",
        "        for i, j in itertools.product(range(con_mat.shape[0]), range(con_mat.shape[1])):\n",
        "            plt.text(j, i, con_mat[i, j], horizontalalignment=\"center\", color=\"white\" if con_mat[i, j] > thresh else \"black\")\n",
        "    plt.tight_layout()\n",
        "    plt.ylabel('True label')\n",
        "    plt.xlabel('Predicted label')\n",
        "    plt.show()\n",
        "\n",
        "# 예측값과 참값 \n",
        "pred_labels = np.argmax(predictions, axis=1)\n",
        "true_labels = test_set.labels\n",
        "\n",
        "#메인 실행 \n",
        "confusion_matrix = confusion_matrix(true_labels, pred_labels)\n",
        "plot_confusion_matrix(confusion_matrix, labels=labels, normalize=True)"
      ]
    },
    {
      "cell_type": "code",
      "execution_count": null,
      "metadata": {
        "id": "M1TmrKc6Wf2f"
      },
      "outputs": [],
      "source": [
        "tf.keras.metrics.AUC(\n",
        "    num_thresholds=200,\n",
        "    curve=\"ROC\",\n",
        "    summation_method=\"interpolation\",\n",
        "    name=None,\n",
        "    dtype=None,\n",
        "    thresholds=None,\n",
        "    multi_label=False,\n",
        "    num_labels=None,\n",
        "    label_weights=None,\n",
        "    from_logits=False,\n",
        ")"
      ]
    },
    {
      "cell_type": "markdown",
      "metadata": {
        "id": "ranzOZgqLzkd"
      },
      "source": [
        "###scikit-learn 분류모델"
      ]
    },
    {
      "cell_type": "code",
      "execution_count": null,
      "metadata": {
        "id": "AsMJctX8BbC6"
      },
      "outputs": [],
      "source": [
        "#print(np.shape(Train_x))\n",
        "#print(np.shape(Train_y))\n",
        "#print(np.shape(signal_))\n",
        "#print(np.shape(label))"
      ]
    },
    {
      "cell_type": "code",
      "execution_count": null,
      "metadata": {
        "colab": {
          "base_uri": "https://localhost:8080/"
        },
        "id": "YIbZBgO9ESQF",
        "outputId": "f41ba9b6-dcee-4d93-e949-b2287f7c30e0"
      },
      "outputs": [
        {
          "data": {
            "text/plain": [
              "7680"
            ]
          },
          "execution_count": 12,
          "metadata": {},
          "output_type": "execute_result"
        }
      ],
      "source": [
        "len(Train_x[5000])"
      ]
    },
    {
      "cell_type": "code",
      "execution_count": null,
      "metadata": {
        "id": "L8jJ5t95Hg9t"
      },
      "outputs": [],
      "source": [
        " #train, test 데이터 분리\n",
        " #X:feature데이터만 / y:정답label데이터만 \n",
        " #X데이터셋을 머신러닝 모델에 입력 -> 모델이 내뱉는 품종 예측 결과를 정답 y와 비교하여 학습\n",
        "X_train, X_test, y_train, y_test = train_test_split(signal_,  #feature(입력받는 특징 데이터)\n",
        "                                                    label,  #label(모델이 맞춰야하는 정답값)\n",
        "                                                    test_size=0.1,  #test dataset 크기 조절(0.2=전체 20%를 test데이터로 사용)\n",
        "                                                    random_state=7)  #train데이터와 test데이터 분리시 적용되는 랜덤성)"
      ]
    },
    {
      "cell_type": "code",
      "execution_count": null,
      "metadata": {
        "colab": {
          "base_uri": "https://localhost:8080/"
        },
        "id": "Xw60MxRaI_FZ",
        "outputId": "d9f5a009-d455-4452-aa7e-d45bfc592fb9"
      },
      "outputs": [
        {
          "name": "stdout",
          "output_type": "stream",
          "text": [
            "                precision    recall  f1-score   support\n",
            "\n",
            "Sleep stage N1       0.10      0.13      0.12       857\n",
            "Sleep stage N2       0.39      0.35      0.37      3245\n",
            "Sleep stage N3       0.22      0.17      0.19      1882\n",
            " Sleep stage R       0.16      0.17      0.17      1346\n",
            " Sleep stage W       0.15      0.19      0.17      1125\n",
            "\n",
            "      accuracy                           0.24      8455\n",
            "     macro avg       0.20      0.20      0.20      8455\n",
            "  weighted avg       0.25      0.24      0.24      8455\n",
            "\n"
          ]
        }
      ],
      "source": [
        "# (4)decision tree 모델 학습 및 예측\n",
        "decision_tree = DecisionTreeClassifier(random_state=32) #decision_tree변수에 모델 저장\n",
        "decision_tree.fit(Train_x, Train_y) #fit메서드로 모델 학습\n",
        "\n",
        "#inference\n",
        "\n",
        "y_pred = decision_tree.predict(Test_x)\n",
        "\n",
        "print(classification_report(Test_y, y_pred))"
      ]
    },
    {
      "cell_type": "code",
      "execution_count": null,
      "metadata": {
        "colab": {
          "base_uri": "https://localhost:8080/"
        },
        "id": "G9s-xZtTJKZs",
        "outputId": "ef55c96b-1a5e-4acc-ef29-2fb0a4c23837"
      },
      "outputs": [
        {
          "name": "stdout",
          "output_type": "stream",
          "text": [
            "                precision    recall  f1-score   support\n",
            "\n",
            "Sleep stage N1       0.10      0.12      0.11       857\n",
            "Sleep stage N2       0.39      0.32      0.35      3245\n",
            "Sleep stage N3       0.22      0.20      0.21      1882\n",
            " Sleep stage R       0.16      0.21      0.18      1346\n",
            " Sleep stage W       0.14      0.14      0.14      1125\n",
            "\n",
            "      accuracy                           0.23      8455\n",
            "     macro avg       0.20      0.20      0.20      8455\n",
            "  weighted avg       0.25      0.23      0.24      8455\n",
            "\n"
          ]
        }
      ],
      "source": [
        "#Stochastic Gradient Descent Classifier (SGDClassifier)\n",
        "from sklearn.linear_model import SGDClassifier\n",
        "\n",
        "sgd_model = SGDClassifier()\n",
        "sgd_model.fit(Train_x, Train_y)\n",
        "y_pred = sgd_model.predict(Test_x)\n",
        "\n",
        "print(classification_report(Test_y, y_pred))"
      ]
    },
    {
      "cell_type": "code",
      "execution_count": null,
      "metadata": {
        "id": "4Biv9-oFLvGm"
      },
      "outputs": [],
      "source": [
        "#Support Vector Machine (SVM)\n",
        "#Support Vector와 Hyperplane(초평면)을 이용해서 분류를 수행하게 되는 대표적인 선형 분류 알고리즘\n",
        "\n",
        "from sklearn import svm\n",
        "\n",
        "svm_model = svm.SVC()\n",
        "svm_model.fit(Train_x, Train_y)\n",
        "y_pred = svm_model.predict(Test_x)\n",
        "\n",
        "print(classification_report(Test_y, y_pred))"
      ]
    },
    {
      "cell_type": "code",
      "execution_count": null,
      "metadata": {
        "colab": {
          "base_uri": "https://localhost:8080/",
          "height": 244
        },
        "id": "fQiiP0s0MVx0",
        "outputId": "0d45a41e-8060-4c24-8677-c679993930ca"
      },
      "outputs": [
        {
          "ename": "NameError",
          "evalue": "ignored",
          "output_type": "error",
          "traceback": [
            "\u001b[0;31m---------------------------------------------------------------------------\u001b[0m",
            "\u001b[0;31mNameError\u001b[0m                                 Traceback (most recent call last)",
            "\u001b[0;32m<ipython-input-1-50e277bc685a>\u001b[0m in \u001b[0;36m<module>\u001b[0;34m()\u001b[0m\n\u001b[1;32m      6\u001b[0m \u001b[0;34m\u001b[0m\u001b[0m\n\u001b[1;32m      7\u001b[0m \u001b[0mlogistic_model\u001b[0m \u001b[0;34m=\u001b[0m \u001b[0mLogisticRegression\u001b[0m\u001b[0;34m(\u001b[0m\u001b[0;34m)\u001b[0m\u001b[0;34m\u001b[0m\u001b[0;34m\u001b[0m\u001b[0m\n\u001b[0;32m----> 8\u001b[0;31m \u001b[0mlogistic_model\u001b[0m\u001b[0;34m.\u001b[0m\u001b[0mfit\u001b[0m\u001b[0;34m(\u001b[0m\u001b[0mrain_x\u001b[0m\u001b[0;34m,\u001b[0m \u001b[0my_train\u001b[0m\u001b[0;34m)\u001b[0m\u001b[0;34m\u001b[0m\u001b[0;34m\u001b[0m\u001b[0m\n\u001b[0m\u001b[1;32m      9\u001b[0m \u001b[0my_pred\u001b[0m \u001b[0;34m=\u001b[0m \u001b[0mlogistic_model\u001b[0m\u001b[0;34m.\u001b[0m\u001b[0mpredict\u001b[0m\u001b[0;34m(\u001b[0m\u001b[0mX_test\u001b[0m\u001b[0;34m)\u001b[0m\u001b[0;34m\u001b[0m\u001b[0;34m\u001b[0m\u001b[0m\n\u001b[1;32m     10\u001b[0m \u001b[0;34m\u001b[0m\u001b[0m\n",
            "\u001b[0;31mNameError\u001b[0m: name 'rain_x' is not defined"
          ]
        }
      ],
      "source": [
        "#Logistic Regression\n",
        "#소프트맥스(softmas) 함수를 사용한 다중 클래스 분류 알고리즘\n",
        "#이름은 회귀지만, 실제로는 분류를 수행\n",
        "\n",
        "from sklearn.linear_model import LogisticRegression\n",
        "\n",
        "logistic_model = LogisticRegression()\n",
        "logistic_model.fit(Train_x, Train_y)\n",
        "y_pred = logistic_model.predict(Test_x)\n",
        "\n",
        "print(classification_report(Test_y, y_pred))"
      ]
    },
    {
      "cell_type": "code",
      "execution_count": null,
      "metadata": {
        "colab": {
          "base_uri": "https://localhost:8080/"
        },
        "id": "g4kqXuhqM4lY",
        "outputId": "af2675d4-53e1-42ca-94e0-8557950f90c9"
      },
      "outputs": [
        {
          "data": {
            "text/plain": [
              "0.21935483870967742"
            ]
          },
          "execution_count": 203,
          "metadata": {},
          "output_type": "execute_result"
        }
      ],
      "source": [
        "Taccuracy = accuracy_score(y_test, y_pred)\n",
        "accuracy   "
      ]
    },
    {
      "cell_type": "markdown",
      "metadata": {
        "id": "RA-jJ0skc-ib"
      },
      "source": [
        "###시각화"
      ]
    },
    {
      "cell_type": "code",
      "execution_count": null,
      "metadata": {
        "colab": {
          "base_uri": "https://localhost:8080/",
          "height": 355
        },
        "id": "DJmsAr3O3QSO",
        "outputId": "d0ac2944-14ee-4744-edb2-8f4b20c06229"
      },
      "outputs": [
        {
          "name": "stdout",
          "output_type": "stream",
          "text": [
            "['EEG F4-M1', 'EEG C4-M1', 'EEG O2-M1', 'EEG C3-M2', 'EMG chin', 'EOG E1-M2', 'EOG E2-M2', 'ECG']\n",
            "Duaration:23191\n",
            "Freq.:[256 256 256 256 256 256 256 256]\n",
            "N-Sample(=Freq x Duaration):[5936896 5936896 5936896 5936896 5936896 5936896 5936896 5936896]\n",
            "Date:2001-01-01 00:49:00\n"
          ]
        },
        {
          "data": {
            "image/png": "[encoded data removed]",
            "text/plain": [
              "<Figure size 432x288 with 1 Axes>"
            ]
          },
          "metadata": {},
          "output_type": "display_data"
        }
      ],
      "source": [
        "edf = pyedflib.EdfReader(trains[0])\n",
        "Labels = edf.getSignalLabels()\n",
        "print(Labels)\n",
        "print(\"Duaration:\"+str(edf.getFileDuration()))\n",
        "print(\"Freq.:\"+str(edf.getSampleFrequencies()))\n",
        "print(\"N-Sample(=Freq x Duaration):\"+str(edf.getNSamples()))\n",
        "print(\"Date:\"+str(edf.getStartdatetime()))\n",
        "\n",
        "#sample의 개수는 frequecncy * duration 이다\n",
        "#초당 256개의 진폭 값이 있고 그것이 duration 만큼 있는 것이니\n",
        "\n",
        "\n",
        "\n",
        "plt.plot(edf.readSignal(0)[0:1000],label=labels[0])\n",
        "plt.plot(edf.readSignal(1)[0:1000],label=labels[1])\n",
        "plt.plot(edf.readSignal(2)[0:1000],label=labels[2])\n",
        "plt.plot(edf.readSignal(3)[0:1000],label=labels[3])\n",
        "plt.plot(edf.readSignal(4)[0:1000],label=labels[4])\n",
        "plt.plot(edf.readSignal(5)[0:1000],label=labels[5])\n",
        "plt.plot(edf.readSignal(6)[0:1000],label=labels[6])\n",
        "plt.plot(edf.readSignal(7)[0:1000],label=labels[7])\n",
        "plt.legend()\n",
        "plt.show()"
      ]
    },
    {
      "cell_type": "markdown",
      "metadata": {
        "id": "xQoL2QbxOD0I"
      },
      "source": [
        "#----"
      ]
    },
    {
      "cell_type": "code",
      "execution_count": null,
      "metadata": {
        "id": "JMBDobJ8wi4W"
      },
      "outputs": [],
      "source": [
        "label = []\n",
        "if ann[2] == 'Sleep stage W':\n",
        "  for time in range(length):\n",
        "    label.append(0)\n",
        "    elif ann[2] == 'Sleep stage 1':\n",
        "            for time in range(length):\n",
        "                label.append(1)\n",
        "        elif ann[2] == 'Sleep stage 2':\n",
        "            for time in range(length):\n",
        "                label.append(2)\n",
        "        elif ann[2] == 'Sleep stage 3':\n",
        "            for time in range(length):\n",
        "                label.append(3)\n",
        "        elif ann[2] == 'Sleep stage 4':\n",
        "            for time in range(length):\n",
        "                label.append(3)\n",
        "        elif ann[2] == 'Sleep stage R':\n",
        "            for time in range(length):\n",
        "                label.append(4)\n",
        "        else:\n",
        "            for time in range(length):\n",
        "                label.append(5)\n",
        "    label = np.array(label)"
      ]
    },
    {
      "cell_type": "code",
      "execution_count": null,
      "metadata": {
        "colab": {
          "base_uri": "https://localhost:8080/"
        },
        "id": "aMnOOZr3xTJ_",
        "outputId": "4fc35deb-6878-47fb-d015-efc34a037a50"
      },
      "outputs": [
        {
          "name": "stdout",
          "output_type": "stream",
          "text": [
            "<class 'tuple'>\n",
            "5936896\n",
            "[[-4.95161364e+02 -3.51604486e+02 -2.39322499e+02 ... -3.66216526e-02\n",
            "  -3.66216526e-02 -3.66216526e-02]]\n",
            "[array([], dtype=float64), [], {'technician': '', 'recording_additional': '', 'patientname': 'X', 'patient_additional': '', 'patientcode': 'SN031', 'equipment': '', 'admincode': '', 'gender': '', 'startdate': datetime.datetime(2001, 1, 1, 0, 49), 'birthdate': '', 'annotations': [[0.0, 30.0, 'Sleep stage W'], [30.0, 30.0, 'Sleep stage W'], [32.4, 0.0, 'Lights off@@SaO2'], [60.0, 30.0, 'Sleep stage W'], [90.0, 30.0, 'Sleep stage W'], [120.0, 30.0, 'Sleep stage W'], [150.0, 30.0, 'Sleep stage W'], [180.0, 30.0, 'Sleep stage W'], [210.0, 30.0, 'Sleep stage W'], [240.0, 30.0, 'Sleep stage W'], [270.0, 30.0, 'Sleep stage W'], [300.0, 30.0, 'Sleep stage W'], [330.0, 30.0, 'Sleep stage W'], [360.0, 30.0, 'Sleep stage W'], [390.0, 30.0, 'Sleep stage W'], [420.0, 30.0, 'Sleep stage W'], [450.0, 30.0, 'Sleep stage W'], [480.0, 30.0, 'Sleep stage W'], [510.0, 30.0, 'Sleep stage W'], [540.0, 30.0, 'Sleep stage W'], [570.0, 30.0, 'Sleep stage W'], [600.0, 30.0, 'Sleep stage W'], [630.0, 30.0, 'Sleep stage W'], [660.0, 30.0, 'Sleep stage W'], [690.0, 30.0, 'Sleep stage W'], [720.0, 30.0, 'Sleep stage N1'], [750.0, 30.0, 'Sleep stage W'], [780.0, 30.0, 'Sleep stage W'], [810.0, 30.0, 'Sleep stage W'], [840.0, 30.0, 'Sleep stage W'], [870.0, 30.0, 'Sleep stage W'], [900.0, 30.0, 'Sleep stage W'], [930.0, 30.0, 'Sleep stage W'], [960.0, 30.0, 'Sleep stage W'], [990.0, 30.0, 'Sleep stage N1'], [1020.0, 30.0, 'Sleep stage N1'], [1050.0, 30.0, 'Sleep stage N1'], [1080.0, 30.0, 'Sleep stage N1'], [1110.0, 30.0, 'Sleep stage N1'], [1140.0, 30.0, 'Sleep stage N1'], [1170.0, 30.0, 'Sleep stage N1'], [1200.0, 30.0, 'Sleep stage N1'], [1230.0, 30.0, 'Sleep stage N1'], [1260.0, 30.0, 'Sleep stage N1'], [1290.0, 30.0, 'Sleep stage N2'], [1320.0, 30.0, 'Sleep stage N1'], [1350.0, 30.0, 'Sleep stage W'], [1380.0, 30.0, 'Sleep stage W'], [1410.0, 30.0, 'Sleep stage N1'], [1440.0, 30.0, 'Sleep stage N1'], [1470.0, 30.0, 'Sleep stage N1'], [1500.0, 30.0, 'Sleep stage N2'], [1530.0, 30.0, 'Sleep stage N1'], [1560.0, 30.0, 'Sleep stage N2'], [1590.0, 30.0, 'Sleep stage N2'], [1620.0, 30.0, 'Sleep stage N2'], [1650.0, 30.0, 'Sleep stage N2'], [1680.0, 30.0, 'Sleep stage N2'], [1710.0, 30.0, 'Sleep stage N2'], [1740.0, 30.0, 'Sleep stage N2'], [1770.0, 30.0, 'Sleep stage N2'], [1800.0, 30.0, 'Sleep stage N2'], [1830.0, 30.0, 'Sleep stage N2'], [1860.0, 30.0, 'Sleep stage N2'], [1890.0, 30.0, 'Sleep stage N2'], [1920.0, 30.0, 'Sleep stage N2'], [1950.0, 30.0, 'Sleep stage N2'], [1980.0, 30.0, 'Sleep stage N2'], [2010.0, 30.0, 'Sleep stage N2'], [2040.0, 30.0, 'Sleep stage N2'], [2070.0, 30.0, 'Sleep stage N3'], [2100.0, 30.0, 'Sleep stage N3'], [2130.0, 30.0, 'Sleep stage N3'], [2160.0, 30.0, 'Sleep stage N3'], [2190.0, 30.0, 'Sleep stage N3'], [2220.0, 30.0, 'Sleep stage N3'], [2250.0, 30.0, 'Sleep stage N3'], [2280.0, 30.0, 'Sleep stage N3'], [2310.0, 30.0, 'Sleep stage N1'], [2340.0, 30.0, 'Sleep stage N2'], [2370.0, 30.0, 'Sleep stage N2'], [2400.0, 30.0, 'Sleep stage N2'], [2430.0, 30.0, 'Sleep stage N2'], [2460.0, 30.0, 'Sleep stage N2'], [2490.0, 30.0, 'Sleep stage N2'], [2520.0, 30.0, 'Sleep stage N2'], [2550.0, 30.0, 'Sleep stage N1'], [2580.0, 30.0, 'Sleep stage W'], [2610.0, 30.0, 'Sleep stage N1'], [2640.0, 30.0, 'Sleep stage N1'], [2670.0, 30.0, 'Sleep stage N1'], [2700.0, 30.0, 'Sleep stage N2'], [2730.0, 30.0, 'Sleep stage N1'], [2760.0, 30.0, 'Sleep stage N2'], [2790.0, 30.0, 'Sleep stage N2'], [2820.0, 30.0, 'Sleep stage N2'], [2850.0, 30.0, 'Sleep stage N2'], [2880.0, 30.0, 'Sleep stage N2'], [2910.0, 30.0, 'Sleep stage N2'], [2940.0, 30.0, 'Sleep stage N2'], [2970.0, 30.0, 'Sleep stage N2'], [3000.0, 30.0, 'Sleep stage N2'], [3030.0, 30.0, 'Sleep stage N3'], [3060.0, 30.0, 'Sleep stage N3'], [3090.0, 30.0, 'Sleep stage N3'], [3120.0, 30.0, 'Sleep stage N3'], [3150.0, 30.0, 'Sleep stage N3'], [3180.0, 30.0, 'Sleep stage N3'], [3210.0, 30.0, 'Sleep stage N3'], [3240.0, 30.0, 'Sleep stage N3'], [3270.0, 30.0, 'Sleep stage N3'], [3300.0, 30.0, 'Sleep stage N3'], [3330.0, 30.0, 'Sleep stage N3'], [3360.0, 30.0, 'Sleep stage N3'], [3390.0, 30.0, 'Sleep stage N3'], [3420.0, 30.0, 'Sleep stage N3'], [3450.0, 30.0, 'Sleep stage N3'], [3480.0, 30.0, 'Sleep stage N3'], [3510.0, 30.0, 'Sleep stage N3'], [3540.0, 30.0, 'Sleep stage N3'], [3570.0, 30.0, 'Sleep stage N3'], [3600.0, 30.0, 'Sleep stage N3'], [3630.0, 30.0, 'Sleep stage N3'], [3660.0, 30.0, 'Sleep stage N3'], [3690.0, 30.0, 'Sleep stage N3'], [3720.0, 30.0, 'Sleep stage N3'], [3750.0, 30.0, 'Sleep stage N3'], [3780.0, 30.0, 'Sleep stage N3'], [3810.0, 30.0, 'Sleep stage N3'], [3840.0, 30.0, 'Sleep stage N3'], [3870.0, 30.0, 'Sleep stage N3'], [3900.0, 30.0, 'Sleep stage R'], [3930.0, 30.0, 'Sleep stage R'], [3960.0, 30.0, 'Sleep stage R'], [3990.0, 30.0, 'Sleep stage R'], [4020.0, 30.0, 'Sleep stage N1'], [4050.0, 30.0, 'Sleep stage N1'], [4080.0, 30.0, 'Sleep stage N1'], [4110.0, 30.0, 'Sleep stage W'], [4140.0, 30.0, 'Sleep stage N1'], [4170.0, 30.0, 'Sleep stage R'], [4200.0, 30.0, 'Sleep stage R'], [4230.0, 30.0, 'Sleep stage R'], [4260.0, 30.0, 'Sleep stage R'], [4290.0, 30.0, 'Sleep stage N1'], [4320.0, 30.0, 'Sleep stage N1'], [4350.0, 30.0, 'Sleep stage N1'], [4380.0, 30.0, 'Sleep stage N1'], [4410.0, 30.0, 'Sleep stage N1'], [4440.0, 30.0, 'Sleep stage N1'], [4470.0, 30.0, 'Sleep stage R'], [4500.0, 30.0, 'Sleep stage R'], [4530.0, 30.0, 'Sleep stage N1'], [4560.0, 30.0, 'Sleep stage N1'], [4590.0, 30.0, 'Sleep stage N1'], [4620.0, 30.0, 'Sleep stage N1'], [4650.0, 30.0, 'Sleep stage N1'], [4680.0, 30.0, 'Sleep stage R'], [4710.0, 30.0, 'Sleep stage N1'], [4740.0, 30.0, 'Sleep stage N1'], [4770.0, 30.0, 'Sleep stage R'], [4800.0, 30.0, 'Sleep stage R'], [4830.0, 30.0, 'Sleep stage N1'], [4860.0, 30.0, 'Sleep stage N1'], [4890.0, 30.0, 'Sleep stage N1'], [4920.0, 30.0, 'Sleep stage R'], [4950.0, 30.0, 'Sleep stage N1'], [4980.0, 30.0, 'Sleep stage R'], [5010.0, 30.0, 'Sleep stage R'], [5040.0, 30.0, 'Sleep stage N1'], [5070.0, 30.0, 'Sleep stage N1'], [5100.0, 30.0, 'Sleep stage N1'], [5130.0, 30.0, 'Sleep stage N1'], [5160.0, 30.0, 'Sleep stage N1'], [5190.0, 30.0, 'Sleep stage N1'], [5220.0, 30.0, 'Sleep stage W'], [5250.0, 30.0, 'Sleep stage N1'], [5280.0, 30.0, 'Sleep stage N1'], [5310.0, 30.0, 'Sleep stage N1'], [5340.0, 30.0, 'Sleep stage N1'], [5370.0, 30.0, 'Sleep stage N1'], [5400.0, 30.0, 'Sleep stage N2'], [5430.0, 30.0, 'Sleep stage N2'], [5460.0, 30.0, 'Sleep stage N2'], [5490.0, 30.0, 'Sleep stage N2'], [5520.0, 30.0, 'Sleep stage N2'], [5550.0, 30.0, 'Sleep stage N2'], [5580.0, 30.0, 'Sleep stage N2'], [5610.0, 30.0, 'Sleep stage N2'], [5640.0, 30.0, 'Sleep stage N2'], [5670.0, 30.0, 'Sleep stage W'], [5700.0, 30.0, 'Sleep stage W'], [5730.0, 30.0, 'Sleep stage W'], [5760.0, 30.0, 'Sleep stage N1'], [5790.0, 30.0, 'Sleep stage W'], [5820.0, 30.0, 'Sleep stage W'], [5850.0, 30.0, 'Sleep stage N1'], [5880.0, 30.0, 'Sleep stage N2'], [5910.0, 30.0, 'Sleep stage N2'], [5940.0, 30.0, 'Sleep stage N1'], [5970.0, 30.0, 'Sleep stage N2'], [6000.0, 30.0, 'Sleep stage N2'], [6030.0, 30.0, 'Sleep stage N2'], [6060.0, 30.0, 'Sleep stage N2'], [6090.0, 30.0, 'Sleep stage N2'], [6120.0, 30.0, 'Sleep stage N2'], [6150.0, 30.0, 'Sleep stage N2'], [6180.0, 30.0, 'Sleep stage N2'], [6210.0, 30.0, 'Sleep stage N2'], [6240.0, 30.0, 'Sleep stage N2'], [6270.0, 30.0, 'Sleep stage N2'], [6300.0, 30.0, 'Sleep stage N2'], [6330.0, 30.0, 'Sleep stage N2'], [6360.0, 30.0, 'Sleep stage N2'], [6390.0, 30.0, 'Sleep stage N2'], [6420.0, 30.0, 'Sleep stage N2'], [6450.0, 30.0, 'Sleep stage N2'], [6480.0, 30.0, 'Sleep stage N2'], [6510.0, 30.0, 'Sleep stage N3'], [6540.0, 30.0, 'Sleep stage N3'], [6570.0, 30.0, 'Sleep stage N3'], [6600.0, 30.0, 'Sleep stage N3'], [6630.0, 30.0, 'Sleep stage N3'], [6660.0, 30.0, 'Sleep stage N3'], [6690.0, 30.0, 'Sleep stage N3'], [6720.0, 30.0, 'Sleep stage N3'], [6750.0, 30.0, 'Sleep stage N3'], [6780.0, 30.0, 'Sleep stage N3'], [6810.0, 30.0, 'Sleep stage N3'], [6840.0, 30.0, 'Sleep stage N3'], [6870.0, 30.0, 'Sleep stage N3'], [6900.0, 30.0, 'Sleep stage N3'], [6930.0, 30.0, 'Sleep stage N3'], [6960.0, 30.0, 'Sleep stage N3'], [6990.0, 30.0, 'Sleep stage N3'], [7020.0, 30.0, 'Sleep stage N3'], [7050.0, 30.0, 'Sleep stage N3'], [7080.0, 30.0, 'Sleep stage N3'], [7110.0, 30.0, 'Sleep stage N3'], [7140.0, 30.0, 'Sleep stage N3'], [7170.0, 30.0, 'Sleep stage N2'], [7200.0, 30.0, 'Sleep stage N3'], [7230.0, 30.0, 'Sleep stage N2'], [7260.0, 30.0, 'Sleep stage N1'], [7290.0, 30.0, 'Sleep stage W'], [7320.0, 30.0, 'Sleep stage N1'], [7350.0, 30.0, 'Sleep stage N1'], [7380.0, 30.0, 'Sleep stage N1'], [7410.0, 30.0, 'Sleep stage N1'], [7440.0, 30.0, 'Sleep stage N2'], [7470.0, 30.0, 'Sleep stage N2'], [7500.0, 30.0, 'Sleep stage N1'], [7530.0, 30.0, 'Sleep stage N1'], [7560.0, 30.0, 'Sleep stage W'], [7590.0, 30.0, 'Sleep stage N1'], [7620.0, 30.0, 'Sleep stage N1'], [7650.0, 30.0, 'Sleep stage N1'], [7680.0, 30.0, 'Sleep stage N1'], [7710.0, 30.0, 'Sleep stage N2'], [7740.0, 30.0, 'Sleep stage N2'], [7770.0, 30.0, 'Sleep stage N2'], [7800.0, 30.0, 'Sleep stage N2'], [7830.0, 30.0, 'Sleep stage N2'], [7860.0, 30.0, 'Sleep stage N2'], [7890.0, 30.0, 'Sleep stage N2'], [7920.0, 30.0, 'Sleep stage N2'], [7950.0, 30.0, 'Sleep stage N2'], [7980.0, 30.0, 'Sleep stage N2'], [8010.0, 30.0, 'Sleep stage N2'], [8040.0, 30.0, 'Sleep stage W'], [8070.0, 30.0, 'Sleep stage N1'], [8100.0, 30.0, 'Sleep stage N1'], [8130.0, 30.0, 'Sleep stage N2'], [8160.0, 30.0, 'Sleep stage N2'], [8190.0, 30.0, 'Sleep stage N2'], [8220.0, 30.0, 'Sleep stage N1'], [8250.0, 30.0, 'Sleep stage N2'], [8280.0, 30.0, 'Sleep stage N2'], [8310.0, 30.0, 'Sleep stage N2'], [8340.0, 30.0, 'Sleep stage N3'], [8370.0, 30.0, 'Sleep stage N3'], [8400.0, 30.0, 'Sleep stage N3'], [8430.0, 30.0, 'Sleep stage N3'], [8460.0, 30.0, 'Sleep stage N1'], [8490.0, 30.0, 'Sleep stage N1'], [8520.0, 30.0, 'Sleep stage N2'], [8550.0, 30.0, 'Sleep stage N2'], [8580.0, 30.0, 'Sleep stage N3'], [8610.0, 30.0, 'Sleep stage N3'], [8640.0, 30.0, 'Sleep stage N3'], [8670.0, 30.0, 'Sleep stage N3'], [8700.0, 30.0, 'Sleep stage N3'], [8730.0, 30.0, 'Sleep stage N3'], [8760.0, 30.0, 'Sleep stage N3'], [8790.0, 30.0, 'Sleep stage N3'], [8820.0, 30.0, 'Sleep stage N3'], [8850.0, 30.0, 'Sleep stage N1'], [8880.0, 30.0, 'Sleep stage N1'], [8910.0, 30.0, 'Sleep stage N2'], [8940.0, 30.0, 'Sleep stage N1'], [8970.0, 30.0, 'Sleep stage N2'], [9000.0, 30.0, 'Sleep stage N2'], [9030.0, 30.0, 'Sleep stage N1'], [9060.0, 30.0, 'Sleep stage N2'], [9090.0, 30.0, 'Sleep stage N2'], [9120.0, 30.0, 'Sleep stage N2'], [9150.0, 30.0, 'Sleep stage N1'], [9180.0, 30.0, 'Sleep stage R'], [9210.0, 30.0, 'Sleep stage R'], [9240.0, 30.0, 'Sleep stage R'], [9270.0, 30.0, 'Sleep stage R'], [9300.0, 30.0, 'Sleep stage N1'], [9330.0, 30.0, 'Sleep stage R'], [9360.0, 30.0, 'Sleep stage R'], [9390.0, 30.0, 'Sleep stage N1'], [9420.0, 30.0, 'Sleep stage N1'], [9450.0, 30.0, 'Sleep stage N1'], [9480.0, 30.0, 'Sleep stage R'], [9510.0, 30.0, 'Sleep stage N1'], [9540.0, 30.0, 'Sleep stage R'], [9570.0, 30.0, 'Sleep stage N1'], [9600.0, 30.0, 'Sleep stage R'], [9630.0, 30.0, 'Sleep stage R'], [9660.0, 30.0, 'Sleep stage N1'], [9690.0, 30.0, 'Sleep stage R'], [9720.0, 30.0, 'Sleep stage N1'], [9750.0, 30.0, 'Sleep stage N1'], [9780.0, 30.0, 'Sleep stage R'], [9810.0, 30.0, 'Sleep stage R'], [9840.0, 30.0, 'Sleep stage N1'], [9870.0, 30.0, 'Sleep stage R'], [9900.0, 30.0, 'Sleep stage R'], [9930.0, 30.0, 'Sleep stage N1'], [9960.0, 30.0, 'Sleep stage R'], [9990.0, 30.0, 'Sleep stage R'], [10020.0, 30.0, 'Sleep stage R'], [10050.0, 30.0, 'Sleep stage R'], [10080.0, 30.0, 'Sleep stage R'], [10110.0, 30.0, 'Sleep stage R'], [10140.0, 30.0, 'Sleep stage R'], [10170.0, 30.0, 'Sleep stage N1'], [10200.0, 30.0, 'Sleep stage R'], [10230.0, 30.0, 'Sleep stage R'], [10260.0, 30.0, 'Sleep stage N1'], [10290.0, 30.0, 'Sleep stage R'], [10320.0, 30.0, 'Sleep stage R'], [10350.0, 30.0, 'Sleep stage N1'], [10380.0, 30.0, 'Sleep stage R'], [10410.0, 30.0, 'Sleep stage R'], [10440.0, 30.0, 'Sleep stage N1'], [10470.0, 30.0, 'Sleep stage R'], [10500.0, 30.0, 'Sleep stage R'], [10530.0, 30.0, 'Sleep stage W'], [10560.0, 30.0, 'Sleep stage N1'], [10590.0, 30.0, 'Sleep stage N1'], [10620.0, 30.0, 'Sleep stage R'], [10650.0, 30.0, 'Sleep stage N1'], [10680.0, 30.0, 'Sleep stage R'], [10710.0, 30.0, 'Sleep stage R'], [10740.0, 30.0, 'Sleep stage N1'], [10770.0, 30.0, 'Sleep stage R'], [10800.0, 30.0, 'Sleep stage W'], [10830.0, 30.0, 'Sleep stage W'], [10860.0, 30.0, 'Sleep stage N1'], [10890.0, 30.0, 'Sleep stage N1'], [10920.0, 30.0, 'Sleep stage N1'], [10950.0, 30.0, 'Sleep stage N1'], [10980.0, 30.0, 'Sleep stage N1'], [11010.0, 30.0, 'Sleep stage N1'], [11040.0, 30.0, 'Sleep stage N2'], [11070.0, 30.0, 'Sleep stage N2'], [11100.0, 30.0, 'Sleep stage N2'], [11130.0, 30.0, 'Sleep stage N1'], [11160.0, 30.0, 'Sleep stage N1'], [11190.0, 30.0, 'Sleep stage N1'], [11220.0, 30.0, 'Sleep stage N2'], [11250.0, 30.0, 'Sleep stage N2'], [11280.0, 30.0, 'Sleep stage N2'], [11310.0, 30.0, 'Sleep stage N2'], [11340.0, 30.0, 'Sleep stage N2'], [11370.0, 30.0, 'Sleep stage N2'], [11400.0, 30.0, 'Sleep stage N2'], [11430.0, 30.0, 'Sleep stage N2'], [11460.0, 30.0, 'Sleep stage N2'], [11490.0, 30.0, 'Sleep stage N2'], [11520.0, 30.0, 'Sleep stage N2'], [11550.0, 30.0, 'Sleep stage N2'], [11580.0, 30.0, 'Sleep stage N2'], [11610.0, 30.0, 'Sleep stage N2'], [11640.0, 30.0, 'Sleep stage N2'], [11670.0, 30.0, 'Sleep stage N2'], [11700.0, 30.0, 'Sleep stage N2'], [11730.0, 30.0, 'Sleep stage N2'], [11760.0, 30.0, 'Sleep stage N2'], [11790.0, 30.0, 'Sleep stage N2'], [11820.0, 30.0, 'Sleep stage N3'], [11850.0, 30.0, 'Sleep stage N3'], [11880.0, 30.0, 'Sleep stage N3'], [11910.0, 30.0, 'Sleep stage N3'], [11940.0, 30.0, 'Sleep stage N3'], [11970.0, 30.0, 'Sleep stage N3'], [12000.0, 30.0, 'Sleep stage N3'], [12030.0, 30.0, 'Sleep stage N3'], [12060.0, 30.0, 'Sleep stage N3'], [12090.0, 30.0, 'Sleep stage N3'], [12120.0, 30.0, 'Sleep stage N3'], [12150.0, 30.0, 'Sleep stage N3'], [12180.0, 30.0, 'Sleep stage N3'], [12210.0, 30.0, 'Sleep stage N3'], [12240.0, 30.0, 'Sleep stage N3'], [12270.0, 30.0, 'Sleep stage N3'], [12300.0, 30.0, 'Sleep stage N3'], [12330.0, 30.0, 'Sleep stage N3'], [12360.0, 30.0, 'Sleep stage N3'], [12390.0, 30.0, 'Sleep stage N3'], [12420.0, 30.0, 'Sleep stage N3'], [12450.0, 30.0, 'Sleep stage N3'], [12480.0, 30.0, 'Sleep stage N3'], [12510.0, 30.0, 'Sleep stage N3'], [12540.0, 30.0, 'Sleep stage N3'], [12570.0, 30.0, 'Sleep stage N3'], [12600.0, 30.0, 'Sleep stage N3'], [12630.0, 30.0, 'Sleep stage N3'], [12660.0, 30.0, 'Sleep stage N3'], [12690.0, 30.0, 'Sleep stage N1'], [12720.0, 30.0, 'Sleep stage N2'], [12750.0, 30.0, 'Sleep stage N2'], [12780.0, 30.0, 'Sleep stage N2'], [12810.0, 30.0, 'Sleep stage N2'], [12840.0, 30.0, 'Sleep stage N2'], [12870.0, 30.0, 'Sleep stage N2'], [12900.0, 30.0, 'Sleep stage N2'], [12930.0, 30.0, 'Sleep stage N2'], [12960.0, 30.0, 'Sleep stage N2'], [12990.0, 30.0, 'Sleep stage N2'], [13020.0, 30.0, 'Sleep stage N2'], [13050.0, 30.0, 'Sleep stage N2'], [13080.0, 30.0, 'Sleep stage N2'], [13110.0, 30.0, 'Sleep stage N2'], [13140.0, 30.0, 'Sleep stage N2'], [13170.0, 30.0, 'Sleep stage N2'], [13200.0, 30.0, 'Sleep stage N2'], [13230.0, 30.0, 'Sleep stage N2'], [13260.0, 30.0, 'Sleep stage N2'], [13290.0, 30.0, 'Sleep stage N2'], [13320.0, 30.0, 'Sleep stage N2'], [13350.0, 30.0, 'Sleep stage N2'], [13380.0, 30.0, 'Sleep stage N2'], [13410.0, 30.0, 'Sleep stage N2'], [13440.0, 30.0, 'Sleep stage N2'], [13470.0, 30.0, 'Sleep stage N2'], [13500.0, 30.0, 'Sleep stage N2'], [13530.0, 30.0, 'Sleep stage N2'], [13560.0, 30.0, 'Sleep stage N2'], [13590.0, 30.0, 'Sleep stage N2'], [13620.0, 30.0, 'Sleep stage N2'], [13650.0, 30.0, 'Sleep stage N2'], [13680.0, 30.0, 'Sleep stage N2'], [13710.0, 30.0, 'Sleep stage N2'], [13740.0, 30.0, 'Sleep stage N1'], [13770.0, 30.0, 'Sleep stage N1'], [13800.0, 30.0, 'Sleep stage N1'], [13830.0, 30.0, 'Sleep stage N2'], [13860.0, 30.0, 'Sleep stage N1'], [13890.0, 30.0, 'Sleep stage N1'], [13920.0, 30.0, 'Sleep stage N1'], [13950.0, 30.0, 'Sleep stage N2'], [13980.0, 30.0, 'Sleep stage N1'], [14010.0, 30.0, 'Sleep stage N1'], [14040.0, 30.0, 'Sleep stage N1'], [14070.0, 30.0, 'Sleep stage N1'], [14100.0, 30.0, 'Sleep stage R'], [14130.0, 30.0, 'Sleep stage R'], [14160.0, 30.0, 'Sleep stage R'], [14190.0, 30.0, 'Sleep stage R'], [14220.0, 30.0, 'Sleep stage N1'], [14250.0, 30.0, 'Sleep stage R'], [14280.0, 30.0, 'Sleep stage R'], [14310.0, 30.0, 'Sleep stage R'], [14340.0, 30.0, 'Sleep stage R'], [14370.0, 30.0, 'Sleep stage N1'], [14400.0, 30.0, 'Sleep stage R'], [14430.0, 30.0, 'Sleep stage R'], [14460.0, 30.0, 'Sleep stage R'], [14490.0, 30.0, 'Sleep stage R'], [14520.0, 30.0, 'Sleep stage R'], [14550.0, 30.0, 'Sleep stage R'], [14580.0, 30.0, 'Sleep stage R'], [14610.0, 30.0, 'Sleep stage R'], [14640.0, 30.0, 'Sleep stage R'], [14670.0, 30.0, 'Sleep stage R'], [14700.0, 30.0, 'Sleep stage R'], [14730.0, 30.0, 'Sleep stage R'], [14760.0, 30.0, 'Sleep stage R'], [14790.0, 30.0, 'Sleep stage R'], [14820.0, 30.0, 'Sleep stage R'], [14850.0, 30.0, 'Sleep stage R'], [14880.0, 30.0, 'Sleep stage R'], [14910.0, 30.0, 'Sleep stage R'], [14940.0, 30.0, 'Sleep stage R'], [14970.0, 30.0, 'Sleep stage R'], [15000.0, 30.0, 'Sleep stage N1'], [15030.0, 30.0, 'Sleep stage R'], [15060.0, 30.0, 'Sleep stage R'], [15090.0, 30.0, 'Sleep stage R'], [15120.0, 30.0, 'Sleep stage W'], [15150.0, 30.0, 'Sleep stage N1'], [15180.0, 30.0, 'Sleep stage N1'], [15210.0, 30.0, 'Sleep stage N1'], [15240.0, 30.0, 'Sleep stage N1'], [15270.0, 30.0, 'Sleep stage N1'], [15300.0, 30.0, 'Sleep stage N1'], [15330.0, 30.0, 'Sleep stage N1'], [15360.0, 30.0, 'Sleep stage N1'], [15390.0, 30.0, 'Sleep stage N1'], [15420.0, 30.0, 'Sleep stage R'], [15450.0, 30.0, 'Sleep stage R'], [15480.0, 30.0, 'Sleep stage N1'], [15510.0, 30.0, 'Sleep stage R'], [15540.0, 30.0, 'Sleep stage N1'], [15570.0, 30.0, 'Sleep stage N1'], [15600.0, 30.0, 'Sleep stage R'], [15630.0, 30.0, 'Sleep stage N1'], [15660.0, 30.0, 'Sleep stage N1'], [15690.0, 30.0, 'Sleep stage N2'], [15720.0, 30.0, 'Sleep stage N2'], [15750.0, 30.0, 'Sleep stage N1'], [15780.0, 30.0, 'Sleep stage W'], [15810.0, 30.0, 'Sleep stage N1'], [15840.0, 30.0, 'Sleep stage N2'], [15870.0, 30.0, 'Sleep stage N2'], [15900.0, 30.0, 'Sleep stage N2'], [15930.0, 30.0, 'Sleep stage N2'], [15960.0, 30.0, 'Sleep stage N2'], [15990.0, 30.0, 'Sleep stage N1'], [16020.0, 30.0, 'Sleep stage N1'], [16050.0, 30.0, 'Sleep stage N2'], [16080.0, 30.0, 'Sleep stage N1'], [16110.0, 30.0, 'Sleep stage N1'], [16140.0, 30.0, 'Sleep stage N1'], [16170.0, 30.0, 'Sleep stage N1'], [16200.0, 30.0, 'Sleep stage N1'], [16230.0, 30.0, 'Sleep stage N2'], [16260.0, 30.0, 'Sleep stage N2'], [16290.0, 30.0, 'Sleep stage N1'], [16320.0, 30.0, 'Sleep stage N2'], [16350.0, 30.0, 'Sleep stage N1'], [16380.0, 30.0, 'Sleep stage N1'], [16410.0, 30.0, 'Sleep stage N1'], [16440.0, 30.0, 'Sleep stage N2'], [16470.0, 30.0, 'Sleep stage N2'], [16500.0, 30.0, 'Sleep stage N2'], [16530.0, 30.0, 'Sleep stage N1'], [16560.0, 30.0, 'Sleep stage N1'], [16590.0, 30.0, 'Sleep stage N2'], [16620.0, 30.0, 'Sleep stage N2'], [16650.0, 30.0, 'Sleep stage N2'], [16680.0, 30.0, 'Sleep stage N2'], [16710.0, 30.0, 'Sleep stage W'], [16740.0, 30.0, 'Sleep stage W'], [16770.0, 30.0, 'Sleep stage W'], [16800.0, 30.0, 'Sleep stage N1'], [16830.0, 30.0, 'Sleep stage N1'], [16860.0, 30.0, 'Sleep stage N1'], [16890.0, 30.0, 'Sleep stage N1'], [16920.0, 30.0, 'Sleep stage N1'], [16950.0, 30.0, 'Sleep stage N1'], [16980.0, 30.0, 'Sleep stage N1'], [17010.0, 30.0, 'Sleep stage N1'], [17040.0, 30.0, 'Sleep stage N1'], [17070.0, 30.0, 'Sleep stage N2'], [17100.0, 30.0, 'Sleep stage N1'], [17130.0, 30.0, 'Sleep stage N1'], [17160.0, 30.0, 'Sleep stage N1'], [17190.0, 30.0, 'Sleep stage N1'], [17220.0, 30.0, 'Sleep stage N2'], [17250.0, 30.0, 'Sleep stage N2'], [17280.0, 30.0, 'Sleep stage N2'], [17310.0, 30.0, 'Sleep stage N2'], [17340.0, 30.0, 'Sleep stage N2'], [17370.0, 30.0, 'Sleep stage N2'], [17400.0, 30.0, 'Sleep stage N2'], [17430.0, 30.0, 'Sleep stage N2'], [17460.0, 30.0, 'Sleep stage N2'], [17490.0, 30.0, 'Sleep stage N2'], [17520.0, 30.0, 'Sleep stage N2'], [17550.0, 30.0, 'Sleep stage N2'], [17580.0, 30.0, 'Sleep stage N2'], [17610.0, 30.0, 'Sleep stage N2'], [17640.0, 30.0, 'Sleep stage N2'], [17670.0, 30.0, 'Sleep stage N1'], [17700.0, 30.0, 'Sleep stage N1'], [17730.0, 30.0, 'Sleep stage N1'], [17760.0, 30.0, 'Sleep stage N1'], [17790.0, 30.0, 'Sleep stage N1'], [17820.0, 30.0, 'Sleep stage N2'], [17850.0, 30.0, 'Sleep stage N2'], [17880.0, 30.0, 'Sleep stage N2'], [17910.0, 30.0, 'Sleep stage N1'], [17940.0, 30.0, 'Sleep stage N1'], [17970.0, 30.0, 'Sleep stage N2'], [18000.0, 30.0, 'Sleep stage N1'], [18030.0, 30.0, 'Sleep stage N1'], [18060.0, 30.0, 'Sleep stage N1'], [18090.0, 30.0, 'Sleep stage N1'], [18120.0, 30.0, 'Sleep stage N1'], [18150.0, 30.0, 'Sleep stage N2'], [18180.0, 30.0, 'Sleep stage N2'], [18210.0, 30.0, 'Sleep stage N2'], [18240.0, 30.0, 'Sleep stage N2'], [18270.0, 30.0, 'Sleep stage N2'], [18300.0, 30.0, 'Sleep stage N2'], [18330.0, 30.0, 'Sleep stage N2'], [18360.0, 30.0, 'Sleep stage N2'], [18390.0, 30.0, 'Sleep stage N2'], [18420.0, 30.0, 'Sleep stage N2'], [18450.0, 30.0, 'Sleep stage N2'], [18480.0, 30.0, 'Sleep stage N2'], [18510.0, 30.0, 'Sleep stage N2'], [18540.0, 30.0, 'Sleep stage N2'], [18570.0, 30.0, 'Sleep stage N2'], [18600.0, 30.0, 'Sleep stage N2'], [18630.0, 30.0, 'Sleep stage N2'], [18660.0, 30.0, 'Sleep stage N2'], [18690.0, 30.0, 'Sleep stage N2'], [18720.0, 30.0, 'Sleep stage N2'], [18750.0, 30.0, 'Sleep stage N3'], [18780.0, 30.0, 'Sleep stage N2'], [18810.0, 30.0, 'Sleep stage N3'], [18840.0, 30.0, 'Sleep stage N3'], [18870.0, 30.0, 'Sleep stage N3'], [18900.0, 30.0, 'Sleep stage N3'], [18930.0, 30.0, 'Sleep stage N1'], [18960.0, 30.0, 'Sleep stage N1'], [18990.0, 30.0, 'Sleep stage N2'], [19020.0, 30.0, 'Sleep stage N2'], [19050.0, 30.0, 'Sleep stage N2'], [19080.0, 30.0, 'Sleep stage N2'], [19110.0, 30.0, 'Sleep stage N2'], [19140.0, 30.0, 'Sleep stage N2'], [19170.0, 30.0, 'Sleep stage N2'], [19200.0, 30.0, 'Sleep stage N2'], [19230.0, 30.0, 'Sleep stage N2'], [19260.0, 30.0, 'Sleep stage N2'], [19290.0, 30.0, 'Sleep stage N1'], [19320.0, 30.0, 'Sleep stage N1'], [19350.0, 30.0, 'Sleep stage W'], [19380.0, 30.0, 'Sleep stage N1'], [19410.0, 30.0, 'Sleep stage N1'], [19440.0, 30.0, 'Sleep stage N1'], [19470.0, 30.0, 'Sleep stage N2'], [19500.0, 30.0, 'Sleep stage N2'], [19530.0, 30.0, 'Sleep stage N2'], [19560.0, 30.0, 'Sleep stage N1'], [19590.0, 30.0, 'Sleep stage N2'], [19620.0, 30.0, 'Sleep stage R'], [19650.0, 30.0, 'Sleep stage R'], [19680.0, 30.0, 'Sleep stage R'], [19710.0, 30.0, 'Sleep stage N1'], [19740.0, 30.0, 'Sleep stage R'], [19770.0, 30.0, 'Sleep stage R'], [19800.0, 30.0, 'Sleep stage R'], [19830.0, 30.0, 'Sleep stage R'], [19860.0, 30.0, 'Sleep stage R'], [19890.0, 30.0, 'Sleep stage R'], [19920.0, 30.0, 'Sleep stage R'], [19950.0, 30.0, 'Sleep stage R'], [19980.0, 30.0, 'Sleep stage R'], [20010.0, 30.0, 'Sleep stage R'], [20040.0, 30.0, 'Sleep stage R'], [20070.0, 30.0, 'Sleep stage N1'], [20100.0, 30.0, 'Sleep stage N1'], [20130.0, 30.0, 'Sleep stage N1'], [20160.0, 30.0, 'Sleep stage R'], [20190.0, 30.0, 'Sleep stage R'], [20220.0, 30.0, 'Sleep stage N1'], [20250.0, 30.0, 'Sleep stage R'], [20280.0, 30.0, 'Sleep stage R'], [20310.0, 30.0, 'Sleep stage N1'], [20340.0, 30.0, 'Sleep stage R'], [20370.0, 30.0, 'Sleep stage R'], [20400.0, 30.0, 'Sleep stage N1'], [20430.0, 30.0, 'Sleep stage N1'], [20460.0, 30.0, 'Sleep stage R'], [20490.0, 30.0, 'Sleep stage R'], [20520.0, 30.0, 'Sleep stage N1'], [20550.0, 30.0, 'Sleep stage R'], [20580.0, 30.0, 'Sleep stage R'], [20610.0, 30.0, 'Sleep stage N1'], [20640.0, 30.0, 'Sleep stage N1'], [20670.0, 30.0, 'Sleep stage R'], [20700.0, 30.0, 'Sleep stage R'], [20730.0, 30.0, 'Sleep stage N1'], [20760.0, 30.0, 'Sleep stage N1'], [20790.0, 30.0, 'Sleep stage R'], [20820.0, 30.0, 'Sleep stage W'], [20850.0, 30.0, 'Sleep stage N1'], [20880.0, 30.0, 'Sleep stage N1'], [20910.0, 30.0, 'Sleep stage N1'], [20940.0, 30.0, 'Sleep stage N1'], [20970.0, 30.0, 'Sleep stage N1'], [21000.0, 30.0, 'Sleep stage R'], [21030.0, 30.0, 'Sleep stage R'], [21060.0, 30.0, 'Sleep stage N1'], [21090.0, 30.0, 'Sleep stage N2'], [21120.0, 30.0, 'Sleep stage N2'], [21150.0, 30.0, 'Sleep stage N2'], [21180.0, 30.0, 'Sleep stage N2'], [21210.0, 30.0, 'Sleep stage N2'], [21240.0, 30.0, 'Sleep stage N2'], [21270.0, 30.0, 'Sleep stage N2'], [21300.0, 30.0, 'Sleep stage N2'], [21330.0, 30.0, 'Sleep stage N2'], [21360.0, 30.0, 'Sleep stage N3'], [21390.0, 30.0, 'Sleep stage N3'], [21420.0, 30.0, 'Sleep stage N3'], [21450.0, 30.0, 'Sleep stage N3'], [21480.0, 30.0, 'Sleep stage N3'], [21510.0, 30.0, 'Sleep stage N3'], [21540.0, 30.0, 'Sleep stage N3'], [21570.0, 30.0, 'Sleep stage N3'], [21600.0, 30.0, 'Sleep stage N3'], [21630.0, 30.0, 'Sleep stage N3'], [21660.0, 30.0, 'Sleep stage N3'], [21690.0, 30.0, 'Sleep stage N3'], [21720.0, 30.0, 'Sleep stage N3'], [21750.0, 30.0, 'Sleep stage N3'], [21780.0, 30.0, 'Sleep stage N3'], [21810.0, 30.0, 'Sleep stage N3'], [21840.0, 30.0, 'Sleep stage N3'], [21870.0, 30.0, 'Sleep stage N3'], [21900.0, 30.0, 'Sleep stage N3'], [21930.0, 30.0, 'Sleep stage N3'], [21960.0, 30.0, 'Sleep stage N3'], [21990.0, 30.0, 'Sleep stage N3'], [22020.0, 30.0, 'Sleep stage N2'], [22050.0, 30.0, 'Sleep stage N2'], [22080.0, 30.0, 'Sleep stage N1'], [22110.0, 30.0, 'Sleep stage N1'], [22140.0, 30.0, 'Sleep stage N1'], [22170.0, 30.0, 'Sleep stage N1'], [22200.0, 30.0, 'Sleep stage N1'], [22230.0, 30.0, 'Sleep stage W'], [22260.0, 30.0, 'Sleep stage W'], [22290.0, 30.0, 'Sleep stage N1'], [22320.0, 30.0, 'Sleep stage N1'], [22350.0, 30.0, 'Sleep stage N1'], [22380.0, 30.0, 'Sleep stage N1'], [22410.0, 30.0, 'Sleep stage W'], [22440.0, 30.0, 'Sleep stage W'], [22470.0, 30.0, 'Sleep stage W'], [22500.0, 30.0, 'Sleep stage W'], [22530.0, 30.0, 'Sleep stage W'], [22560.0, 30.0, 'Sleep stage W'], [22590.0, 30.0, 'Sleep stage W'], [22620.0, 30.0, 'Sleep stage N1'], [22650.0, 30.0, 'Sleep stage N1'], [22680.0, 30.0, 'Sleep stage N1'], [22710.0, 30.0, 'Sleep stage W'], [22740.0, 30.0, 'Sleep stage W'], [22770.0, 30.0, 'Sleep stage W'], [22800.0, 30.0, 'Sleep stage W'], [22830.0, 30.0, 'Sleep stage N1'], [22860.0, 30.0, 'Sleep stage W'], [22890.0, 30.0, 'Sleep stage N1'], [22920.0, 30.0, 'Sleep stage N1'], [22950.0, 30.0, 'Sleep stage W'], [22980.0, 30.0, 'Sleep stage W'], [23010.0, 30.0, 'Sleep stage W'], [23040.0, 30.0, 'Sleep stage W'], [23070.0, 30.0, 'Sleep stage N1'], [23100.0, 30.0, 'Sleep stage N1'], [23130.0, 30.0, 'Sleep stage N1'], [23159.7, 0.0, 'Lights on@@SaO2'], [23160.0, 30.0, 'Sleep stage W']]}]\n",
            "[[-4.95161364e+02 -3.51604486e+02 -2.39322499e+02 ... -3.66216526e-02\n",
            "  -3.66216526e-02 -3.66216526e-02]]\n",
            "{'technician': '', 'recording_additional': '', 'patientname': 'X', 'patient_additional': '', 'patientcode': 'SN031', 'equipment': '', 'admincode': '', 'gender': '', 'startdate': datetime.datetime(2001, 1, 1, 0, 49), 'birthdate': '', 'annotations': [[0.0, 30.0, 'Sleep stage W'], [30.0, 30.0, 'Sleep stage W'], [32.4, 0.0, 'Lights off@@SaO2'], [60.0, 30.0, 'Sleep stage W'], [90.0, 30.0, 'Sleep stage W'], [120.0, 30.0, 'Sleep stage W'], [150.0, 30.0, 'Sleep stage W'], [180.0, 30.0, 'Sleep stage W'], [210.0, 30.0, 'Sleep stage W'], [240.0, 30.0, 'Sleep stage W'], [270.0, 30.0, 'Sleep stage W'], [300.0, 30.0, 'Sleep stage W'], [330.0, 30.0, 'Sleep stage W'], [360.0, 30.0, 'Sleep stage W'], [390.0, 30.0, 'Sleep stage W'], [420.0, 30.0, 'Sleep stage W'], [450.0, 30.0, 'Sleep stage W'], [480.0, 30.0, 'Sleep stage W'], [510.0, 30.0, 'Sleep stage W'], [540.0, 30.0, 'Sleep stage W'], [570.0, 30.0, 'Sleep stage W'], [600.0, 30.0, 'Sleep stage W'], [630.0, 30.0, 'Sleep stage W'], [660.0, 30.0, 'Sleep stage W'], [690.0, 30.0, 'Sleep stage W'], [720.0, 30.0, 'Sleep stage N1'], [750.0, 30.0, 'Sleep stage W'], [780.0, 30.0, 'Sleep stage W'], [810.0, 30.0, 'Sleep stage W'], [840.0, 30.0, 'Sleep stage W'], [870.0, 30.0, 'Sleep stage W'], [900.0, 30.0, 'Sleep stage W'], [930.0, 30.0, 'Sleep stage W'], [960.0, 30.0, 'Sleep stage W'], [990.0, 30.0, 'Sleep stage N1'], [1020.0, 30.0, 'Sleep stage N1'], [1050.0, 30.0, 'Sleep stage N1'], [1080.0, 30.0, 'Sleep stage N1'], [1110.0, 30.0, 'Sleep stage N1'], [1140.0, 30.0, 'Sleep stage N1'], [1170.0, 30.0, 'Sleep stage N1'], [1200.0, 30.0, 'Sleep stage N1'], [1230.0, 30.0, 'Sleep stage N1'], [1260.0, 30.0, 'Sleep stage N1'], [1290.0, 30.0, 'Sleep stage N2'], [1320.0, 30.0, 'Sleep stage N1'], [1350.0, 30.0, 'Sleep stage W'], [1380.0, 30.0, 'Sleep stage W'], [1410.0, 30.0, 'Sleep stage N1'], [1440.0, 30.0, 'Sleep stage N1'], [1470.0, 30.0, 'Sleep stage N1'], [1500.0, 30.0, 'Sleep stage N2'], [1530.0, 30.0, 'Sleep stage N1'], [1560.0, 30.0, 'Sleep stage N2'], [1590.0, 30.0, 'Sleep stage N2'], [1620.0, 30.0, 'Sleep stage N2'], [1650.0, 30.0, 'Sleep stage N2'], [1680.0, 30.0, 'Sleep stage N2'], [1710.0, 30.0, 'Sleep stage N2'], [1740.0, 30.0, 'Sleep stage N2'], [1770.0, 30.0, 'Sleep stage N2'], [1800.0, 30.0, 'Sleep stage N2'], [1830.0, 30.0, 'Sleep stage N2'], [1860.0, 30.0, 'Sleep stage N2'], [1890.0, 30.0, 'Sleep stage N2'], [1920.0, 30.0, 'Sleep stage N2'], [1950.0, 30.0, 'Sleep stage N2'], [1980.0, 30.0, 'Sleep stage N2'], [2010.0, 30.0, 'Sleep stage N2'], [2040.0, 30.0, 'Sleep stage N2'], [2070.0, 30.0, 'Sleep stage N3'], [2100.0, 30.0, 'Sleep stage N3'], [2130.0, 30.0, 'Sleep stage N3'], [2160.0, 30.0, 'Sleep stage N3'], [2190.0, 30.0, 'Sleep stage N3'], [2220.0, 30.0, 'Sleep stage N3'], [2250.0, 30.0, 'Sleep stage N3'], [2280.0, 30.0, 'Sleep stage N3'], [2310.0, 30.0, 'Sleep stage N1'], [2340.0, 30.0, 'Sleep stage N2'], [2370.0, 30.0, 'Sleep stage N2'], [2400.0, 30.0, 'Sleep stage N2'], [2430.0, 30.0, 'Sleep stage N2'], [2460.0, 30.0, 'Sleep stage N2'], [2490.0, 30.0, 'Sleep stage N2'], [2520.0, 30.0, 'Sleep stage N2'], [2550.0, 30.0, 'Sleep stage N1'], [2580.0, 30.0, 'Sleep stage W'], [2610.0, 30.0, 'Sleep stage N1'], [2640.0, 30.0, 'Sleep stage N1'], [2670.0, 30.0, 'Sleep stage N1'], [2700.0, 30.0, 'Sleep stage N2'], [2730.0, 30.0, 'Sleep stage N1'], [2760.0, 30.0, 'Sleep stage N2'], [2790.0, 30.0, 'Sleep stage N2'], [2820.0, 30.0, 'Sleep stage N2'], [2850.0, 30.0, 'Sleep stage N2'], [2880.0, 30.0, 'Sleep stage N2'], [2910.0, 30.0, 'Sleep stage N2'], [2940.0, 30.0, 'Sleep stage N2'], [2970.0, 30.0, 'Sleep stage N2'], [3000.0, 30.0, 'Sleep stage N2'], [3030.0, 30.0, 'Sleep stage N3'], [3060.0, 30.0, 'Sleep stage N3'], [3090.0, 30.0, 'Sleep stage N3'], [3120.0, 30.0, 'Sleep stage N3'], [3150.0, 30.0, 'Sleep stage N3'], [3180.0, 30.0, 'Sleep stage N3'], [3210.0, 30.0, 'Sleep stage N3'], [3240.0, 30.0, 'Sleep stage N3'], [3270.0, 30.0, 'Sleep stage N3'], [3300.0, 30.0, 'Sleep stage N3'], [3330.0, 30.0, 'Sleep stage N3'], [3360.0, 30.0, 'Sleep stage N3'], [3390.0, 30.0, 'Sleep stage N3'], [3420.0, 30.0, 'Sleep stage N3'], [3450.0, 30.0, 'Sleep stage N3'], [3480.0, 30.0, 'Sleep stage N3'], [3510.0, 30.0, 'Sleep stage N3'], [3540.0, 30.0, 'Sleep stage N3'], [3570.0, 30.0, 'Sleep stage N3'], [3600.0, 30.0, 'Sleep stage N3'], [3630.0, 30.0, 'Sleep stage N3'], [3660.0, 30.0, 'Sleep stage N3'], [3690.0, 30.0, 'Sleep stage N3'], [3720.0, 30.0, 'Sleep stage N3'], [3750.0, 30.0, 'Sleep stage N3'], [3780.0, 30.0, 'Sleep stage N3'], [3810.0, 30.0, 'Sleep stage N3'], [3840.0, 30.0, 'Sleep stage N3'], [3870.0, 30.0, 'Sleep stage N3'], [3900.0, 30.0, 'Sleep stage R'], [3930.0, 30.0, 'Sleep stage R'], [3960.0, 30.0, 'Sleep stage R'], [3990.0, 30.0, 'Sleep stage R'], [4020.0, 30.0, 'Sleep stage N1'], [4050.0, 30.0, 'Sleep stage N1'], [4080.0, 30.0, 'Sleep stage N1'], [4110.0, 30.0, 'Sleep stage W'], [4140.0, 30.0, 'Sleep stage N1'], [4170.0, 30.0, 'Sleep stage R'], [4200.0, 30.0, 'Sleep stage R'], [4230.0, 30.0, 'Sleep stage R'], [4260.0, 30.0, 'Sleep stage R'], [4290.0, 30.0, 'Sleep stage N1'], [4320.0, 30.0, 'Sleep stage N1'], [4350.0, 30.0, 'Sleep stage N1'], [4380.0, 30.0, 'Sleep stage N1'], [4410.0, 30.0, 'Sleep stage N1'], [4440.0, 30.0, 'Sleep stage N1'], [4470.0, 30.0, 'Sleep stage R'], [4500.0, 30.0, 'Sleep stage R'], [4530.0, 30.0, 'Sleep stage N1'], [4560.0, 30.0, 'Sleep stage N1'], [4590.0, 30.0, 'Sleep stage N1'], [4620.0, 30.0, 'Sleep stage N1'], [4650.0, 30.0, 'Sleep stage N1'], [4680.0, 30.0, 'Sleep stage R'], [4710.0, 30.0, 'Sleep stage N1'], [4740.0, 30.0, 'Sleep stage N1'], [4770.0, 30.0, 'Sleep stage R'], [4800.0, 30.0, 'Sleep stage R'], [4830.0, 30.0, 'Sleep stage N1'], [4860.0, 30.0, 'Sleep stage N1'], [4890.0, 30.0, 'Sleep stage N1'], [4920.0, 30.0, 'Sleep stage R'], [4950.0, 30.0, 'Sleep stage N1'], [4980.0, 30.0, 'Sleep stage R'], [5010.0, 30.0, 'Sleep stage R'], [5040.0, 30.0, 'Sleep stage N1'], [5070.0, 30.0, 'Sleep stage N1'], [5100.0, 30.0, 'Sleep stage N1'], [5130.0, 30.0, 'Sleep stage N1'], [5160.0, 30.0, 'Sleep stage N1'], [5190.0, 30.0, 'Sleep stage N1'], [5220.0, 30.0, 'Sleep stage W'], [5250.0, 30.0, 'Sleep stage N1'], [5280.0, 30.0, 'Sleep stage N1'], [5310.0, 30.0, 'Sleep stage N1'], [5340.0, 30.0, 'Sleep stage N1'], [5370.0, 30.0, 'Sleep stage N1'], [5400.0, 30.0, 'Sleep stage N2'], [5430.0, 30.0, 'Sleep stage N2'], [5460.0, 30.0, 'Sleep stage N2'], [5490.0, 30.0, 'Sleep stage N2'], [5520.0, 30.0, 'Sleep stage N2'], [5550.0, 30.0, 'Sleep stage N2'], [5580.0, 30.0, 'Sleep stage N2'], [5610.0, 30.0, 'Sleep stage N2'], [5640.0, 30.0, 'Sleep stage N2'], [5670.0, 30.0, 'Sleep stage W'], [5700.0, 30.0, 'Sleep stage W'], [5730.0, 30.0, 'Sleep stage W'], [5760.0, 30.0, 'Sleep stage N1'], [5790.0, 30.0, 'Sleep stage W'], [5820.0, 30.0, 'Sleep stage W'], [5850.0, 30.0, 'Sleep stage N1'], [5880.0, 30.0, 'Sleep stage N2'], [5910.0, 30.0, 'Sleep stage N2'], [5940.0, 30.0, 'Sleep stage N1'], [5970.0, 30.0, 'Sleep stage N2'], [6000.0, 30.0, 'Sleep stage N2'], [6030.0, 30.0, 'Sleep stage N2'], [6060.0, 30.0, 'Sleep stage N2'], [6090.0, 30.0, 'Sleep stage N2'], [6120.0, 30.0, 'Sleep stage N2'], [6150.0, 30.0, 'Sleep stage N2'], [6180.0, 30.0, 'Sleep stage N2'], [6210.0, 30.0, 'Sleep stage N2'], [6240.0, 30.0, 'Sleep stage N2'], [6270.0, 30.0, 'Sleep stage N2'], [6300.0, 30.0, 'Sleep stage N2'], [6330.0, 30.0, 'Sleep stage N2'], [6360.0, 30.0, 'Sleep stage N2'], [6390.0, 30.0, 'Sleep stage N2'], [6420.0, 30.0, 'Sleep stage N2'], [6450.0, 30.0, 'Sleep stage N2'], [6480.0, 30.0, 'Sleep stage N2'], [6510.0, 30.0, 'Sleep stage N3'], [6540.0, 30.0, 'Sleep stage N3'], [6570.0, 30.0, 'Sleep stage N3'], [6600.0, 30.0, 'Sleep stage N3'], [6630.0, 30.0, 'Sleep stage N3'], [6660.0, 30.0, 'Sleep stage N3'], [6690.0, 30.0, 'Sleep stage N3'], [6720.0, 30.0, 'Sleep stage N3'], [6750.0, 30.0, 'Sleep stage N3'], [6780.0, 30.0, 'Sleep stage N3'], [6810.0, 30.0, 'Sleep stage N3'], [6840.0, 30.0, 'Sleep stage N3'], [6870.0, 30.0, 'Sleep stage N3'], [6900.0, 30.0, 'Sleep stage N3'], [6930.0, 30.0, 'Sleep stage N3'], [6960.0, 30.0, 'Sleep stage N3'], [6990.0, 30.0, 'Sleep stage N3'], [7020.0, 30.0, 'Sleep stage N3'], [7050.0, 30.0, 'Sleep stage N3'], [7080.0, 30.0, 'Sleep stage N3'], [7110.0, 30.0, 'Sleep stage N3'], [7140.0, 30.0, 'Sleep stage N3'], [7170.0, 30.0, 'Sleep stage N2'], [7200.0, 30.0, 'Sleep stage N3'], [7230.0, 30.0, 'Sleep stage N2'], [7260.0, 30.0, 'Sleep stage N1'], [7290.0, 30.0, 'Sleep stage W'], [7320.0, 30.0, 'Sleep stage N1'], [7350.0, 30.0, 'Sleep stage N1'], [7380.0, 30.0, 'Sleep stage N1'], [7410.0, 30.0, 'Sleep stage N1'], [7440.0, 30.0, 'Sleep stage N2'], [7470.0, 30.0, 'Sleep stage N2'], [7500.0, 30.0, 'Sleep stage N1'], [7530.0, 30.0, 'Sleep stage N1'], [7560.0, 30.0, 'Sleep stage W'], [7590.0, 30.0, 'Sleep stage N1'], [7620.0, 30.0, 'Sleep stage N1'], [7650.0, 30.0, 'Sleep stage N1'], [7680.0, 30.0, 'Sleep stage N1'], [7710.0, 30.0, 'Sleep stage N2'], [7740.0, 30.0, 'Sleep stage N2'], [7770.0, 30.0, 'Sleep stage N2'], [7800.0, 30.0, 'Sleep stage N2'], [7830.0, 30.0, 'Sleep stage N2'], [7860.0, 30.0, 'Sleep stage N2'], [7890.0, 30.0, 'Sleep stage N2'], [7920.0, 30.0, 'Sleep stage N2'], [7950.0, 30.0, 'Sleep stage N2'], [7980.0, 30.0, 'Sleep stage N2'], [8010.0, 30.0, 'Sleep stage N2'], [8040.0, 30.0, 'Sleep stage W'], [8070.0, 30.0, 'Sleep stage N1'], [8100.0, 30.0, 'Sleep stage N1'], [8130.0, 30.0, 'Sleep stage N2'], [8160.0, 30.0, 'Sleep stage N2'], [8190.0, 30.0, 'Sleep stage N2'], [8220.0, 30.0, 'Sleep stage N1'], [8250.0, 30.0, 'Sleep stage N2'], [8280.0, 30.0, 'Sleep stage N2'], [8310.0, 30.0, 'Sleep stage N2'], [8340.0, 30.0, 'Sleep stage N3'], [8370.0, 30.0, 'Sleep stage N3'], [8400.0, 30.0, 'Sleep stage N3'], [8430.0, 30.0, 'Sleep stage N3'], [8460.0, 30.0, 'Sleep stage N1'], [8490.0, 30.0, 'Sleep stage N1'], [8520.0, 30.0, 'Sleep stage N2'], [8550.0, 30.0, 'Sleep stage N2'], [8580.0, 30.0, 'Sleep stage N3'], [8610.0, 30.0, 'Sleep stage N3'], [8640.0, 30.0, 'Sleep stage N3'], [8670.0, 30.0, 'Sleep stage N3'], [8700.0, 30.0, 'Sleep stage N3'], [8730.0, 30.0, 'Sleep stage N3'], [8760.0, 30.0, 'Sleep stage N3'], [8790.0, 30.0, 'Sleep stage N3'], [8820.0, 30.0, 'Sleep stage N3'], [8850.0, 30.0, 'Sleep stage N1'], [8880.0, 30.0, 'Sleep stage N1'], [8910.0, 30.0, 'Sleep stage N2'], [8940.0, 30.0, 'Sleep stage N1'], [8970.0, 30.0, 'Sleep stage N2'], [9000.0, 30.0, 'Sleep stage N2'], [9030.0, 30.0, 'Sleep stage N1'], [9060.0, 30.0, 'Sleep stage N2'], [9090.0, 30.0, 'Sleep stage N2'], [9120.0, 30.0, 'Sleep stage N2'], [9150.0, 30.0, 'Sleep stage N1'], [9180.0, 30.0, 'Sleep stage R'], [9210.0, 30.0, 'Sleep stage R'], [9240.0, 30.0, 'Sleep stage R'], [9270.0, 30.0, 'Sleep stage R'], [9300.0, 30.0, 'Sleep stage N1'], [9330.0, 30.0, 'Sleep stage R'], [9360.0, 30.0, 'Sleep stage R'], [9390.0, 30.0, 'Sleep stage N1'], [9420.0, 30.0, 'Sleep stage N1'], [9450.0, 30.0, 'Sleep stage N1'], [9480.0, 30.0, 'Sleep stage R'], [9510.0, 30.0, 'Sleep stage N1'], [9540.0, 30.0, 'Sleep stage R'], [9570.0, 30.0, 'Sleep stage N1'], [9600.0, 30.0, 'Sleep stage R'], [9630.0, 30.0, 'Sleep stage R'], [9660.0, 30.0, 'Sleep stage N1'], [9690.0, 30.0, 'Sleep stage R'], [9720.0, 30.0, 'Sleep stage N1'], [9750.0, 30.0, 'Sleep stage N1'], [9780.0, 30.0, 'Sleep stage R'], [9810.0, 30.0, 'Sleep stage R'], [9840.0, 30.0, 'Sleep stage N1'], [9870.0, 30.0, 'Sleep stage R'], [9900.0, 30.0, 'Sleep stage R'], [9930.0, 30.0, 'Sleep stage N1'], [9960.0, 30.0, 'Sleep stage R'], [9990.0, 30.0, 'Sleep stage R'], [10020.0, 30.0, 'Sleep stage R'], [10050.0, 30.0, 'Sleep stage R'], [10080.0, 30.0, 'Sleep stage R'], [10110.0, 30.0, 'Sleep stage R'], [10140.0, 30.0, 'Sleep stage R'], [10170.0, 30.0, 'Sleep stage N1'], [10200.0, 30.0, 'Sleep stage R'], [10230.0, 30.0, 'Sleep stage R'], [10260.0, 30.0, 'Sleep stage N1'], [10290.0, 30.0, 'Sleep stage R'], [10320.0, 30.0, 'Sleep stage R'], [10350.0, 30.0, 'Sleep stage N1'], [10380.0, 30.0, 'Sleep stage R'], [10410.0, 30.0, 'Sleep stage R'], [10440.0, 30.0, 'Sleep stage N1'], [10470.0, 30.0, 'Sleep stage R'], [10500.0, 30.0, 'Sleep stage R'], [10530.0, 30.0, 'Sleep stage W'], [10560.0, 30.0, 'Sleep stage N1'], [10590.0, 30.0, 'Sleep stage N1'], [10620.0, 30.0, 'Sleep stage R'], [10650.0, 30.0, 'Sleep stage N1'], [10680.0, 30.0, 'Sleep stage R'], [10710.0, 30.0, 'Sleep stage R'], [10740.0, 30.0, 'Sleep stage N1'], [10770.0, 30.0, 'Sleep stage R'], [10800.0, 30.0, 'Sleep stage W'], [10830.0, 30.0, 'Sleep stage W'], [10860.0, 30.0, 'Sleep stage N1'], [10890.0, 30.0, 'Sleep stage N1'], [10920.0, 30.0, 'Sleep stage N1'], [10950.0, 30.0, 'Sleep stage N1'], [10980.0, 30.0, 'Sleep stage N1'], [11010.0, 30.0, 'Sleep stage N1'], [11040.0, 30.0, 'Sleep stage N2'], [11070.0, 30.0, 'Sleep stage N2'], [11100.0, 30.0, 'Sleep stage N2'], [11130.0, 30.0, 'Sleep stage N1'], [11160.0, 30.0, 'Sleep stage N1'], [11190.0, 30.0, 'Sleep stage N1'], [11220.0, 30.0, 'Sleep stage N2'], [11250.0, 30.0, 'Sleep stage N2'], [11280.0, 30.0, 'Sleep stage N2'], [11310.0, 30.0, 'Sleep stage N2'], [11340.0, 30.0, 'Sleep stage N2'], [11370.0, 30.0, 'Sleep stage N2'], [11400.0, 30.0, 'Sleep stage N2'], [11430.0, 30.0, 'Sleep stage N2'], [11460.0, 30.0, 'Sleep stage N2'], [11490.0, 30.0, 'Sleep stage N2'], [11520.0, 30.0, 'Sleep stage N2'], [11550.0, 30.0, 'Sleep stage N2'], [11580.0, 30.0, 'Sleep stage N2'], [11610.0, 30.0, 'Sleep stage N2'], [11640.0, 30.0, 'Sleep stage N2'], [11670.0, 30.0, 'Sleep stage N2'], [11700.0, 30.0, 'Sleep stage N2'], [11730.0, 30.0, 'Sleep stage N2'], [11760.0, 30.0, 'Sleep stage N2'], [11790.0, 30.0, 'Sleep stage N2'], [11820.0, 30.0, 'Sleep stage N3'], [11850.0, 30.0, 'Sleep stage N3'], [11880.0, 30.0, 'Sleep stage N3'], [11910.0, 30.0, 'Sleep stage N3'], [11940.0, 30.0, 'Sleep stage N3'], [11970.0, 30.0, 'Sleep stage N3'], [12000.0, 30.0, 'Sleep stage N3'], [12030.0, 30.0, 'Sleep stage N3'], [12060.0, 30.0, 'Sleep stage N3'], [12090.0, 30.0, 'Sleep stage N3'], [12120.0, 30.0, 'Sleep stage N3'], [12150.0, 30.0, 'Sleep stage N3'], [12180.0, 30.0, 'Sleep stage N3'], [12210.0, 30.0, 'Sleep stage N3'], [12240.0, 30.0, 'Sleep stage N3'], [12270.0, 30.0, 'Sleep stage N3'], [12300.0, 30.0, 'Sleep stage N3'], [12330.0, 30.0, 'Sleep stage N3'], [12360.0, 30.0, 'Sleep stage N3'], [12390.0, 30.0, 'Sleep stage N3'], [12420.0, 30.0, 'Sleep stage N3'], [12450.0, 30.0, 'Sleep stage N3'], [12480.0, 30.0, 'Sleep stage N3'], [12510.0, 30.0, 'Sleep stage N3'], [12540.0, 30.0, 'Sleep stage N3'], [12570.0, 30.0, 'Sleep stage N3'], [12600.0, 30.0, 'Sleep stage N3'], [12630.0, 30.0, 'Sleep stage N3'], [12660.0, 30.0, 'Sleep stage N3'], [12690.0, 30.0, 'Sleep stage N1'], [12720.0, 30.0, 'Sleep stage N2'], [12750.0, 30.0, 'Sleep stage N2'], [12780.0, 30.0, 'Sleep stage N2'], [12810.0, 30.0, 'Sleep stage N2'], [12840.0, 30.0, 'Sleep stage N2'], [12870.0, 30.0, 'Sleep stage N2'], [12900.0, 30.0, 'Sleep stage N2'], [12930.0, 30.0, 'Sleep stage N2'], [12960.0, 30.0, 'Sleep stage N2'], [12990.0, 30.0, 'Sleep stage N2'], [13020.0, 30.0, 'Sleep stage N2'], [13050.0, 30.0, 'Sleep stage N2'], [13080.0, 30.0, 'Sleep stage N2'], [13110.0, 30.0, 'Sleep stage N2'], [13140.0, 30.0, 'Sleep stage N2'], [13170.0, 30.0, 'Sleep stage N2'], [13200.0, 30.0, 'Sleep stage N2'], [13230.0, 30.0, 'Sleep stage N2'], [13260.0, 30.0, 'Sleep stage N2'], [13290.0, 30.0, 'Sleep stage N2'], [13320.0, 30.0, 'Sleep stage N2'], [13350.0, 30.0, 'Sleep stage N2'], [13380.0, 30.0, 'Sleep stage N2'], [13410.0, 30.0, 'Sleep stage N2'], [13440.0, 30.0, 'Sleep stage N2'], [13470.0, 30.0, 'Sleep stage N2'], [13500.0, 30.0, 'Sleep stage N2'], [13530.0, 30.0, 'Sleep stage N2'], [13560.0, 30.0, 'Sleep stage N2'], [13590.0, 30.0, 'Sleep stage N2'], [13620.0, 30.0, 'Sleep stage N2'], [13650.0, 30.0, 'Sleep stage N2'], [13680.0, 30.0, 'Sleep stage N2'], [13710.0, 30.0, 'Sleep stage N2'], [13740.0, 30.0, 'Sleep stage N1'], [13770.0, 30.0, 'Sleep stage N1'], [13800.0, 30.0, 'Sleep stage N1'], [13830.0, 30.0, 'Sleep stage N2'], [13860.0, 30.0, 'Sleep stage N1'], [13890.0, 30.0, 'Sleep stage N1'], [13920.0, 30.0, 'Sleep stage N1'], [13950.0, 30.0, 'Sleep stage N2'], [13980.0, 30.0, 'Sleep stage N1'], [14010.0, 30.0, 'Sleep stage N1'], [14040.0, 30.0, 'Sleep stage N1'], [14070.0, 30.0, 'Sleep stage N1'], [14100.0, 30.0, 'Sleep stage R'], [14130.0, 30.0, 'Sleep stage R'], [14160.0, 30.0, 'Sleep stage R'], [14190.0, 30.0, 'Sleep stage R'], [14220.0, 30.0, 'Sleep stage N1'], [14250.0, 30.0, 'Sleep stage R'], [14280.0, 30.0, 'Sleep stage R'], [14310.0, 30.0, 'Sleep stage R'], [14340.0, 30.0, 'Sleep stage R'], [14370.0, 30.0, 'Sleep stage N1'], [14400.0, 30.0, 'Sleep stage R'], [14430.0, 30.0, 'Sleep stage R'], [14460.0, 30.0, 'Sleep stage R'], [14490.0, 30.0, 'Sleep stage R'], [14520.0, 30.0, 'Sleep stage R'], [14550.0, 30.0, 'Sleep stage R'], [14580.0, 30.0, 'Sleep stage R'], [14610.0, 30.0, 'Sleep stage R'], [14640.0, 30.0, 'Sleep stage R'], [14670.0, 30.0, 'Sleep stage R'], [14700.0, 30.0, 'Sleep stage R'], [14730.0, 30.0, 'Sleep stage R'], [14760.0, 30.0, 'Sleep stage R'], [14790.0, 30.0, 'Sleep stage R'], [14820.0, 30.0, 'Sleep stage R'], [14850.0, 30.0, 'Sleep stage R'], [14880.0, 30.0, 'Sleep stage R'], [14910.0, 30.0, 'Sleep stage R'], [14940.0, 30.0, 'Sleep stage R'], [14970.0, 30.0, 'Sleep stage R'], [15000.0, 30.0, 'Sleep stage N1'], [15030.0, 30.0, 'Sleep stage R'], [15060.0, 30.0, 'Sleep stage R'], [15090.0, 30.0, 'Sleep stage R'], [15120.0, 30.0, 'Sleep stage W'], [15150.0, 30.0, 'Sleep stage N1'], [15180.0, 30.0, 'Sleep stage N1'], [15210.0, 30.0, 'Sleep stage N1'], [15240.0, 30.0, 'Sleep stage N1'], [15270.0, 30.0, 'Sleep stage N1'], [15300.0, 30.0, 'Sleep stage N1'], [15330.0, 30.0, 'Sleep stage N1'], [15360.0, 30.0, 'Sleep stage N1'], [15390.0, 30.0, 'Sleep stage N1'], [15420.0, 30.0, 'Sleep stage R'], [15450.0, 30.0, 'Sleep stage R'], [15480.0, 30.0, 'Sleep stage N1'], [15510.0, 30.0, 'Sleep stage R'], [15540.0, 30.0, 'Sleep stage N1'], [15570.0, 30.0, 'Sleep stage N1'], [15600.0, 30.0, 'Sleep stage R'], [15630.0, 30.0, 'Sleep stage N1'], [15660.0, 30.0, 'Sleep stage N1'], [15690.0, 30.0, 'Sleep stage N2'], [15720.0, 30.0, 'Sleep stage N2'], [15750.0, 30.0, 'Sleep stage N1'], [15780.0, 30.0, 'Sleep stage W'], [15810.0, 30.0, 'Sleep stage N1'], [15840.0, 30.0, 'Sleep stage N2'], [15870.0, 30.0, 'Sleep stage N2'], [15900.0, 30.0, 'Sleep stage N2'], [15930.0, 30.0, 'Sleep stage N2'], [15960.0, 30.0, 'Sleep stage N2'], [15990.0, 30.0, 'Sleep stage N1'], [16020.0, 30.0, 'Sleep stage N1'], [16050.0, 30.0, 'Sleep stage N2'], [16080.0, 30.0, 'Sleep stage N1'], [16110.0, 30.0, 'Sleep stage N1'], [16140.0, 30.0, 'Sleep stage N1'], [16170.0, 30.0, 'Sleep stage N1'], [16200.0, 30.0, 'Sleep stage N1'], [16230.0, 30.0, 'Sleep stage N2'], [16260.0, 30.0, 'Sleep stage N2'], [16290.0, 30.0, 'Sleep stage N1'], [16320.0, 30.0, 'Sleep stage N2'], [16350.0, 30.0, 'Sleep stage N1'], [16380.0, 30.0, 'Sleep stage N1'], [16410.0, 30.0, 'Sleep stage N1'], [16440.0, 30.0, 'Sleep stage N2'], [16470.0, 30.0, 'Sleep stage N2'], [16500.0, 30.0, 'Sleep stage N2'], [16530.0, 30.0, 'Sleep stage N1'], [16560.0, 30.0, 'Sleep stage N1'], [16590.0, 30.0, 'Sleep stage N2'], [16620.0, 30.0, 'Sleep stage N2'], [16650.0, 30.0, 'Sleep stage N2'], [16680.0, 30.0, 'Sleep stage N2'], [16710.0, 30.0, 'Sleep stage W'], [16740.0, 30.0, 'Sleep stage W'], [16770.0, 30.0, 'Sleep stage W'], [16800.0, 30.0, 'Sleep stage N1'], [16830.0, 30.0, 'Sleep stage N1'], [16860.0, 30.0, 'Sleep stage N1'], [16890.0, 30.0, 'Sleep stage N1'], [16920.0, 30.0, 'Sleep stage N1'], [16950.0, 30.0, 'Sleep stage N1'], [16980.0, 30.0, 'Sleep stage N1'], [17010.0, 30.0, 'Sleep stage N1'], [17040.0, 30.0, 'Sleep stage N1'], [17070.0, 30.0, 'Sleep stage N2'], [17100.0, 30.0, 'Sleep stage N1'], [17130.0, 30.0, 'Sleep stage N1'], [17160.0, 30.0, 'Sleep stage N1'], [17190.0, 30.0, 'Sleep stage N1'], [17220.0, 30.0, 'Sleep stage N2'], [17250.0, 30.0, 'Sleep stage N2'], [17280.0, 30.0, 'Sleep stage N2'], [17310.0, 30.0, 'Sleep stage N2'], [17340.0, 30.0, 'Sleep stage N2'], [17370.0, 30.0, 'Sleep stage N2'], [17400.0, 30.0, 'Sleep stage N2'], [17430.0, 30.0, 'Sleep stage N2'], [17460.0, 30.0, 'Sleep stage N2'], [17490.0, 30.0, 'Sleep stage N2'], [17520.0, 30.0, 'Sleep stage N2'], [17550.0, 30.0, 'Sleep stage N2'], [17580.0, 30.0, 'Sleep stage N2'], [17610.0, 30.0, 'Sleep stage N2'], [17640.0, 30.0, 'Sleep stage N2'], [17670.0, 30.0, 'Sleep stage N1'], [17700.0, 30.0, 'Sleep stage N1'], [17730.0, 30.0, 'Sleep stage N1'], [17760.0, 30.0, 'Sleep stage N1'], [17790.0, 30.0, 'Sleep stage N1'], [17820.0, 30.0, 'Sleep stage N2'], [17850.0, 30.0, 'Sleep stage N2'], [17880.0, 30.0, 'Sleep stage N2'], [17910.0, 30.0, 'Sleep stage N1'], [17940.0, 30.0, 'Sleep stage N1'], [17970.0, 30.0, 'Sleep stage N2'], [18000.0, 30.0, 'Sleep stage N1'], [18030.0, 30.0, 'Sleep stage N1'], [18060.0, 30.0, 'Sleep stage N1'], [18090.0, 30.0, 'Sleep stage N1'], [18120.0, 30.0, 'Sleep stage N1'], [18150.0, 30.0, 'Sleep stage N2'], [18180.0, 30.0, 'Sleep stage N2'], [18210.0, 30.0, 'Sleep stage N2'], [18240.0, 30.0, 'Sleep stage N2'], [18270.0, 30.0, 'Sleep stage N2'], [18300.0, 30.0, 'Sleep stage N2'], [18330.0, 30.0, 'Sleep stage N2'], [18360.0, 30.0, 'Sleep stage N2'], [18390.0, 30.0, 'Sleep stage N2'], [18420.0, 30.0, 'Sleep stage N2'], [18450.0, 30.0, 'Sleep stage N2'], [18480.0, 30.0, 'Sleep stage N2'], [18510.0, 30.0, 'Sleep stage N2'], [18540.0, 30.0, 'Sleep stage N2'], [18570.0, 30.0, 'Sleep stage N2'], [18600.0, 30.0, 'Sleep stage N2'], [18630.0, 30.0, 'Sleep stage N2'], [18660.0, 30.0, 'Sleep stage N2'], [18690.0, 30.0, 'Sleep stage N2'], [18720.0, 30.0, 'Sleep stage N2'], [18750.0, 30.0, 'Sleep stage N3'], [18780.0, 30.0, 'Sleep stage N2'], [18810.0, 30.0, 'Sleep stage N3'], [18840.0, 30.0, 'Sleep stage N3'], [18870.0, 30.0, 'Sleep stage N3'], [18900.0, 30.0, 'Sleep stage N3'], [18930.0, 30.0, 'Sleep stage N1'], [18960.0, 30.0, 'Sleep stage N1'], [18990.0, 30.0, 'Sleep stage N2'], [19020.0, 30.0, 'Sleep stage N2'], [19050.0, 30.0, 'Sleep stage N2'], [19080.0, 30.0, 'Sleep stage N2'], [19110.0, 30.0, 'Sleep stage N2'], [19140.0, 30.0, 'Sleep stage N2'], [19170.0, 30.0, 'Sleep stage N2'], [19200.0, 30.0, 'Sleep stage N2'], [19230.0, 30.0, 'Sleep stage N2'], [19260.0, 30.0, 'Sleep stage N2'], [19290.0, 30.0, 'Sleep stage N1'], [19320.0, 30.0, 'Sleep stage N1'], [19350.0, 30.0, 'Sleep stage W'], [19380.0, 30.0, 'Sleep stage N1'], [19410.0, 30.0, 'Sleep stage N1'], [19440.0, 30.0, 'Sleep stage N1'], [19470.0, 30.0, 'Sleep stage N2'], [19500.0, 30.0, 'Sleep stage N2'], [19530.0, 30.0, 'Sleep stage N2'], [19560.0, 30.0, 'Sleep stage N1'], [19590.0, 30.0, 'Sleep stage N2'], [19620.0, 30.0, 'Sleep stage R'], [19650.0, 30.0, 'Sleep stage R'], [19680.0, 30.0, 'Sleep stage R'], [19710.0, 30.0, 'Sleep stage N1'], [19740.0, 30.0, 'Sleep stage R'], [19770.0, 30.0, 'Sleep stage R'], [19800.0, 30.0, 'Sleep stage R'], [19830.0, 30.0, 'Sleep stage R'], [19860.0, 30.0, 'Sleep stage R'], [19890.0, 30.0, 'Sleep stage R'], [19920.0, 30.0, 'Sleep stage R'], [19950.0, 30.0, 'Sleep stage R'], [19980.0, 30.0, 'Sleep stage R'], [20010.0, 30.0, 'Sleep stage R'], [20040.0, 30.0, 'Sleep stage R'], [20070.0, 30.0, 'Sleep stage N1'], [20100.0, 30.0, 'Sleep stage N1'], [20130.0, 30.0, 'Sleep stage N1'], [20160.0, 30.0, 'Sleep stage R'], [20190.0, 30.0, 'Sleep stage R'], [20220.0, 30.0, 'Sleep stage N1'], [20250.0, 30.0, 'Sleep stage R'], [20280.0, 30.0, 'Sleep stage R'], [20310.0, 30.0, 'Sleep stage N1'], [20340.0, 30.0, 'Sleep stage R'], [20370.0, 30.0, 'Sleep stage R'], [20400.0, 30.0, 'Sleep stage N1'], [20430.0, 30.0, 'Sleep stage N1'], [20460.0, 30.0, 'Sleep stage R'], [20490.0, 30.0, 'Sleep stage R'], [20520.0, 30.0, 'Sleep stage N1'], [20550.0, 30.0, 'Sleep stage R'], [20580.0, 30.0, 'Sleep stage R'], [20610.0, 30.0, 'Sleep stage N1'], [20640.0, 30.0, 'Sleep stage N1'], [20670.0, 30.0, 'Sleep stage R'], [20700.0, 30.0, 'Sleep stage R'], [20730.0, 30.0, 'Sleep stage N1'], [20760.0, 30.0, 'Sleep stage N1'], [20790.0, 30.0, 'Sleep stage R'], [20820.0, 30.0, 'Sleep stage W'], [20850.0, 30.0, 'Sleep stage N1'], [20880.0, 30.0, 'Sleep stage N1'], [20910.0, 30.0, 'Sleep stage N1'], [20940.0, 30.0, 'Sleep stage N1'], [20970.0, 30.0, 'Sleep stage N1'], [21000.0, 30.0, 'Sleep stage R'], [21030.0, 30.0, 'Sleep stage R'], [21060.0, 30.0, 'Sleep stage N1'], [21090.0, 30.0, 'Sleep stage N2'], [21120.0, 30.0, 'Sleep stage N2'], [21150.0, 30.0, 'Sleep stage N2'], [21180.0, 30.0, 'Sleep stage N2'], [21210.0, 30.0, 'Sleep stage N2'], [21240.0, 30.0, 'Sleep stage N2'], [21270.0, 30.0, 'Sleep stage N2'], [21300.0, 30.0, 'Sleep stage N2'], [21330.0, 30.0, 'Sleep stage N2'], [21360.0, 30.0, 'Sleep stage N3'], [21390.0, 30.0, 'Sleep stage N3'], [21420.0, 30.0, 'Sleep stage N3'], [21450.0, 30.0, 'Sleep stage N3'], [21480.0, 30.0, 'Sleep stage N3'], [21510.0, 30.0, 'Sleep stage N3'], [21540.0, 30.0, 'Sleep stage N3'], [21570.0, 30.0, 'Sleep stage N3'], [21600.0, 30.0, 'Sleep stage N3'], [21630.0, 30.0, 'Sleep stage N3'], [21660.0, 30.0, 'Sleep stage N3'], [21690.0, 30.0, 'Sleep stage N3'], [21720.0, 30.0, 'Sleep stage N3'], [21750.0, 30.0, 'Sleep stage N3'], [21780.0, 30.0, 'Sleep stage N3'], [21810.0, 30.0, 'Sleep stage N3'], [21840.0, 30.0, 'Sleep stage N3'], [21870.0, 30.0, 'Sleep stage N3'], [21900.0, 30.0, 'Sleep stage N3'], [21930.0, 30.0, 'Sleep stage N3'], [21960.0, 30.0, 'Sleep stage N3'], [21990.0, 30.0, 'Sleep stage N3'], [22020.0, 30.0, 'Sleep stage N2'], [22050.0, 30.0, 'Sleep stage N2'], [22080.0, 30.0, 'Sleep stage N1'], [22110.0, 30.0, 'Sleep stage N1'], [22140.0, 30.0, 'Sleep stage N1'], [22170.0, 30.0, 'Sleep stage N1'], [22200.0, 30.0, 'Sleep stage N1'], [22230.0, 30.0, 'Sleep stage W'], [22260.0, 30.0, 'Sleep stage W'], [22290.0, 30.0, 'Sleep stage N1'], [22320.0, 30.0, 'Sleep stage N1'], [22350.0, 30.0, 'Sleep stage N1'], [22380.0, 30.0, 'Sleep stage N1'], [22410.0, 30.0, 'Sleep stage W'], [22440.0, 30.0, 'Sleep stage W'], [22470.0, 30.0, 'Sleep stage W'], [22500.0, 30.0, 'Sleep stage W'], [22530.0, 30.0, 'Sleep stage W'], [22560.0, 30.0, 'Sleep stage W'], [22590.0, 30.0, 'Sleep stage W'], [22620.0, 30.0, 'Sleep stage N1'], [22650.0, 30.0, 'Sleep stage N1'], [22680.0, 30.0, 'Sleep stage N1'], [22710.0, 30.0, 'Sleep stage W'], [22740.0, 30.0, 'Sleep stage W'], [22770.0, 30.0, 'Sleep stage W'], [22800.0, 30.0, 'Sleep stage W'], [22830.0, 30.0, 'Sleep stage N1'], [22860.0, 30.0, 'Sleep stage W'], [22890.0, 30.0, 'Sleep stage N1'], [22920.0, 30.0, 'Sleep stage N1'], [22950.0, 30.0, 'Sleep stage W'], [22980.0, 30.0, 'Sleep stage W'], [23010.0, 30.0, 'Sleep stage W'], [23040.0, 30.0, 'Sleep stage W'], [23070.0, 30.0, 'Sleep stage N1'], [23100.0, 30.0, 'Sleep stage N1'], [23130.0, 30.0, 'Sleep stage N1'], [23159.7, 0.0, 'Lights on@@SaO2'], [23160.0, 30.0, 'Sleep stage W']]}\n",
            "1\n",
            "{'technician': '', 'recording_additional': '', 'patientname': 'X', 'patient_additional': '', 'patientcode': 'SN031', 'equipment': '', 'admincode': '', 'gender': '', 'startdate': datetime.datetime(2001, 1, 1, 0, 49), 'birthdate': '', 'annotations': [[0.0, 30.0, 'Sleep stage W'], [30.0, 30.0, 'Sleep stage W'], [32.4, 0.0, 'Lights off@@SaO2'], [60.0, 30.0, 'Sleep stage W'], [90.0, 30.0, 'Sleep stage W'], [120.0, 30.0, 'Sleep stage W'], [150.0, 30.0, 'Sleep stage W'], [180.0, 30.0, 'Sleep stage W'], [210.0, 30.0, 'Sleep stage W'], [240.0, 30.0, 'Sleep stage W'], [270.0, 30.0, 'Sleep stage W'], [300.0, 30.0, 'Sleep stage W'], [330.0, 30.0, 'Sleep stage W'], [360.0, 30.0, 'Sleep stage W'], [390.0, 30.0, 'Sleep stage W'], [420.0, 30.0, 'Sleep stage W'], [450.0, 30.0, 'Sleep stage W'], [480.0, 30.0, 'Sleep stage W'], [510.0, 30.0, 'Sleep stage W'], [540.0, 30.0, 'Sleep stage W'], [570.0, 30.0, 'Sleep stage W'], [600.0, 30.0, 'Sleep stage W'], [630.0, 30.0, 'Sleep stage W'], [660.0, 30.0, 'Sleep stage W'], [690.0, 30.0, 'Sleep stage W'], [720.0, 30.0, 'Sleep stage N1'], [750.0, 30.0, 'Sleep stage W'], [780.0, 30.0, 'Sleep stage W'], [810.0, 30.0, 'Sleep stage W'], [840.0, 30.0, 'Sleep stage W'], [870.0, 30.0, 'Sleep stage W'], [900.0, 30.0, 'Sleep stage W'], [930.0, 30.0, 'Sleep stage W'], [960.0, 30.0, 'Sleep stage W'], [990.0, 30.0, 'Sleep stage N1'], [1020.0, 30.0, 'Sleep stage N1'], [1050.0, 30.0, 'Sleep stage N1'], [1080.0, 30.0, 'Sleep stage N1'], [1110.0, 30.0, 'Sleep stage N1'], [1140.0, 30.0, 'Sleep stage N1'], [1170.0, 30.0, 'Sleep stage N1'], [1200.0, 30.0, 'Sleep stage N1'], [1230.0, 30.0, 'Sleep stage N1'], [1260.0, 30.0, 'Sleep stage N1'], [1290.0, 30.0, 'Sleep stage N2'], [1320.0, 30.0, 'Sleep stage N1'], [1350.0, 30.0, 'Sleep stage W'], [1380.0, 30.0, 'Sleep stage W'], [1410.0, 30.0, 'Sleep stage N1'], [1440.0, 30.0, 'Sleep stage N1'], [1470.0, 30.0, 'Sleep stage N1'], [1500.0, 30.0, 'Sleep stage N2'], [1530.0, 30.0, 'Sleep stage N1'], [1560.0, 30.0, 'Sleep stage N2'], [1590.0, 30.0, 'Sleep stage N2'], [1620.0, 30.0, 'Sleep stage N2'], [1650.0, 30.0, 'Sleep stage N2'], [1680.0, 30.0, 'Sleep stage N2'], [1710.0, 30.0, 'Sleep stage N2'], [1740.0, 30.0, 'Sleep stage N2'], [1770.0, 30.0, 'Sleep stage N2'], [1800.0, 30.0, 'Sleep stage N2'], [1830.0, 30.0, 'Sleep stage N2'], [1860.0, 30.0, 'Sleep stage N2'], [1890.0, 30.0, 'Sleep stage N2'], [1920.0, 30.0, 'Sleep stage N2'], [1950.0, 30.0, 'Sleep stage N2'], [1980.0, 30.0, 'Sleep stage N2'], [2010.0, 30.0, 'Sleep stage N2'], [2040.0, 30.0, 'Sleep stage N2'], [2070.0, 30.0, 'Sleep stage N3'], [2100.0, 30.0, 'Sleep stage N3'], [2130.0, 30.0, 'Sleep stage N3'], [2160.0, 30.0, 'Sleep stage N3'], [2190.0, 30.0, 'Sleep stage N3'], [2220.0, 30.0, 'Sleep stage N3'], [2250.0, 30.0, 'Sleep stage N3'], [2280.0, 30.0, 'Sleep stage N3'], [2310.0, 30.0, 'Sleep stage N1'], [2340.0, 30.0, 'Sleep stage N2'], [2370.0, 30.0, 'Sleep stage N2'], [2400.0, 30.0, 'Sleep stage N2'], [2430.0, 30.0, 'Sleep stage N2'], [2460.0, 30.0, 'Sleep stage N2'], [2490.0, 30.0, 'Sleep stage N2'], [2520.0, 30.0, 'Sleep stage N2'], [2550.0, 30.0, 'Sleep stage N1'], [2580.0, 30.0, 'Sleep stage W'], [2610.0, 30.0, 'Sleep stage N1'], [2640.0, 30.0, 'Sleep stage N1'], [2670.0, 30.0, 'Sleep stage N1'], [2700.0, 30.0, 'Sleep stage N2'], [2730.0, 30.0, 'Sleep stage N1'], [2760.0, 30.0, 'Sleep stage N2'], [2790.0, 30.0, 'Sleep stage N2'], [2820.0, 30.0, 'Sleep stage N2'], [2850.0, 30.0, 'Sleep stage N2'], [2880.0, 30.0, 'Sleep stage N2'], [2910.0, 30.0, 'Sleep stage N2'], [2940.0, 30.0, 'Sleep stage N2'], [2970.0, 30.0, 'Sleep stage N2'], [3000.0, 30.0, 'Sleep stage N2'], [3030.0, 30.0, 'Sleep stage N3'], [3060.0, 30.0, 'Sleep stage N3'], [3090.0, 30.0, 'Sleep stage N3'], [3120.0, 30.0, 'Sleep stage N3'], [3150.0, 30.0, 'Sleep stage N3'], [3180.0, 30.0, 'Sleep stage N3'], [3210.0, 30.0, 'Sleep stage N3'], [3240.0, 30.0, 'Sleep stage N3'], [3270.0, 30.0, 'Sleep stage N3'], [3300.0, 30.0, 'Sleep stage N3'], [3330.0, 30.0, 'Sleep stage N3'], [3360.0, 30.0, 'Sleep stage N3'], [3390.0, 30.0, 'Sleep stage N3'], [3420.0, 30.0, 'Sleep stage N3'], [3450.0, 30.0, 'Sleep stage N3'], [3480.0, 30.0, 'Sleep stage N3'], [3510.0, 30.0, 'Sleep stage N3'], [3540.0, 30.0, 'Sleep stage N3'], [3570.0, 30.0, 'Sleep stage N3'], [3600.0, 30.0, 'Sleep stage N3'], [3630.0, 30.0, 'Sleep stage N3'], [3660.0, 30.0, 'Sleep stage N3'], [3690.0, 30.0, 'Sleep stage N3'], [3720.0, 30.0, 'Sleep stage N3'], [3750.0, 30.0, 'Sleep stage N3'], [3780.0, 30.0, 'Sleep stage N3'], [3810.0, 30.0, 'Sleep stage N3'], [3840.0, 30.0, 'Sleep stage N3'], [3870.0, 30.0, 'Sleep stage N3'], [3900.0, 30.0, 'Sleep stage R'], [3930.0, 30.0, 'Sleep stage R'], [3960.0, 30.0, 'Sleep stage R'], [3990.0, 30.0, 'Sleep stage R'], [4020.0, 30.0, 'Sleep stage N1'], [4050.0, 30.0, 'Sleep stage N1'], [4080.0, 30.0, 'Sleep stage N1'], [4110.0, 30.0, 'Sleep stage W'], [4140.0, 30.0, 'Sleep stage N1'], [4170.0, 30.0, 'Sleep stage R'], [4200.0, 30.0, 'Sleep stage R'], [4230.0, 30.0, 'Sleep stage R'], [4260.0, 30.0, 'Sleep stage R'], [4290.0, 30.0, 'Sleep stage N1'], [4320.0, 30.0, 'Sleep stage N1'], [4350.0, 30.0, 'Sleep stage N1'], [4380.0, 30.0, 'Sleep stage N1'], [4410.0, 30.0, 'Sleep stage N1'], [4440.0, 30.0, 'Sleep stage N1'], [4470.0, 30.0, 'Sleep stage R'], [4500.0, 30.0, 'Sleep stage R'], [4530.0, 30.0, 'Sleep stage N1'], [4560.0, 30.0, 'Sleep stage N1'], [4590.0, 30.0, 'Sleep stage N1'], [4620.0, 30.0, 'Sleep stage N1'], [4650.0, 30.0, 'Sleep stage N1'], [4680.0, 30.0, 'Sleep stage R'], [4710.0, 30.0, 'Sleep stage N1'], [4740.0, 30.0, 'Sleep stage N1'], [4770.0, 30.0, 'Sleep stage R'], [4800.0, 30.0, 'Sleep stage R'], [4830.0, 30.0, 'Sleep stage N1'], [4860.0, 30.0, 'Sleep stage N1'], [4890.0, 30.0, 'Sleep stage N1'], [4920.0, 30.0, 'Sleep stage R'], [4950.0, 30.0, 'Sleep stage N1'], [4980.0, 30.0, 'Sleep stage R'], [5010.0, 30.0, 'Sleep stage R'], [5040.0, 30.0, 'Sleep stage N1'], [5070.0, 30.0, 'Sleep stage N1'], [5100.0, 30.0, 'Sleep stage N1'], [5130.0, 30.0, 'Sleep stage N1'], [5160.0, 30.0, 'Sleep stage N1'], [5190.0, 30.0, 'Sleep stage N1'], [5220.0, 30.0, 'Sleep stage W'], [5250.0, 30.0, 'Sleep stage N1'], [5280.0, 30.0, 'Sleep stage N1'], [5310.0, 30.0, 'Sleep stage N1'], [5340.0, 30.0, 'Sleep stage N1'], [5370.0, 30.0, 'Sleep stage N1'], [5400.0, 30.0, 'Sleep stage N2'], [5430.0, 30.0, 'Sleep stage N2'], [5460.0, 30.0, 'Sleep stage N2'], [5490.0, 30.0, 'Sleep stage N2'], [5520.0, 30.0, 'Sleep stage N2'], [5550.0, 30.0, 'Sleep stage N2'], [5580.0, 30.0, 'Sleep stage N2'], [5610.0, 30.0, 'Sleep stage N2'], [5640.0, 30.0, 'Sleep stage N2'], [5670.0, 30.0, 'Sleep stage W'], [5700.0, 30.0, 'Sleep stage W'], [5730.0, 30.0, 'Sleep stage W'], [5760.0, 30.0, 'Sleep stage N1'], [5790.0, 30.0, 'Sleep stage W'], [5820.0, 30.0, 'Sleep stage W'], [5850.0, 30.0, 'Sleep stage N1'], [5880.0, 30.0, 'Sleep stage N2'], [5910.0, 30.0, 'Sleep stage N2'], [5940.0, 30.0, 'Sleep stage N1'], [5970.0, 30.0, 'Sleep stage N2'], [6000.0, 30.0, 'Sleep stage N2'], [6030.0, 30.0, 'Sleep stage N2'], [6060.0, 30.0, 'Sleep stage N2'], [6090.0, 30.0, 'Sleep stage N2'], [6120.0, 30.0, 'Sleep stage N2'], [6150.0, 30.0, 'Sleep stage N2'], [6180.0, 30.0, 'Sleep stage N2'], [6210.0, 30.0, 'Sleep stage N2'], [6240.0, 30.0, 'Sleep stage N2'], [6270.0, 30.0, 'Sleep stage N2'], [6300.0, 30.0, 'Sleep stage N2'], [6330.0, 30.0, 'Sleep stage N2'], [6360.0, 30.0, 'Sleep stage N2'], [6390.0, 30.0, 'Sleep stage N2'], [6420.0, 30.0, 'Sleep stage N2'], [6450.0, 30.0, 'Sleep stage N2'], [6480.0, 30.0, 'Sleep stage N2'], [6510.0, 30.0, 'Sleep stage N3'], [6540.0, 30.0, 'Sleep stage N3'], [6570.0, 30.0, 'Sleep stage N3'], [6600.0, 30.0, 'Sleep stage N3'], [6630.0, 30.0, 'Sleep stage N3'], [6660.0, 30.0, 'Sleep stage N3'], [6690.0, 30.0, 'Sleep stage N3'], [6720.0, 30.0, 'Sleep stage N3'], [6750.0, 30.0, 'Sleep stage N3'], [6780.0, 30.0, 'Sleep stage N3'], [6810.0, 30.0, 'Sleep stage N3'], [6840.0, 30.0, 'Sleep stage N3'], [6870.0, 30.0, 'Sleep stage N3'], [6900.0, 30.0, 'Sleep stage N3'], [6930.0, 30.0, 'Sleep stage N3'], [6960.0, 30.0, 'Sleep stage N3'], [6990.0, 30.0, 'Sleep stage N3'], [7020.0, 30.0, 'Sleep stage N3'], [7050.0, 30.0, 'Sleep stage N3'], [7080.0, 30.0, 'Sleep stage N3'], [7110.0, 30.0, 'Sleep stage N3'], [7140.0, 30.0, 'Sleep stage N3'], [7170.0, 30.0, 'Sleep stage N2'], [7200.0, 30.0, 'Sleep stage N3'], [7230.0, 30.0, 'Sleep stage N2'], [7260.0, 30.0, 'Sleep stage N1'], [7290.0, 30.0, 'Sleep stage W'], [7320.0, 30.0, 'Sleep stage N1'], [7350.0, 30.0, 'Sleep stage N1'], [7380.0, 30.0, 'Sleep stage N1'], [7410.0, 30.0, 'Sleep stage N1'], [7440.0, 30.0, 'Sleep stage N2'], [7470.0, 30.0, 'Sleep stage N2'], [7500.0, 30.0, 'Sleep stage N1'], [7530.0, 30.0, 'Sleep stage N1'], [7560.0, 30.0, 'Sleep stage W'], [7590.0, 30.0, 'Sleep stage N1'], [7620.0, 30.0, 'Sleep stage N1'], [7650.0, 30.0, 'Sleep stage N1'], [7680.0, 30.0, 'Sleep stage N1'], [7710.0, 30.0, 'Sleep stage N2'], [7740.0, 30.0, 'Sleep stage N2'], [7770.0, 30.0, 'Sleep stage N2'], [7800.0, 30.0, 'Sleep stage N2'], [7830.0, 30.0, 'Sleep stage N2'], [7860.0, 30.0, 'Sleep stage N2'], [7890.0, 30.0, 'Sleep stage N2'], [7920.0, 30.0, 'Sleep stage N2'], [7950.0, 30.0, 'Sleep stage N2'], [7980.0, 30.0, 'Sleep stage N2'], [8010.0, 30.0, 'Sleep stage N2'], [8040.0, 30.0, 'Sleep stage W'], [8070.0, 30.0, 'Sleep stage N1'], [8100.0, 30.0, 'Sleep stage N1'], [8130.0, 30.0, 'Sleep stage N2'], [8160.0, 30.0, 'Sleep stage N2'], [8190.0, 30.0, 'Sleep stage N2'], [8220.0, 30.0, 'Sleep stage N1'], [8250.0, 30.0, 'Sleep stage N2'], [8280.0, 30.0, 'Sleep stage N2'], [8310.0, 30.0, 'Sleep stage N2'], [8340.0, 30.0, 'Sleep stage N3'], [8370.0, 30.0, 'Sleep stage N3'], [8400.0, 30.0, 'Sleep stage N3'], [8430.0, 30.0, 'Sleep stage N3'], [8460.0, 30.0, 'Sleep stage N1'], [8490.0, 30.0, 'Sleep stage N1'], [8520.0, 30.0, 'Sleep stage N2'], [8550.0, 30.0, 'Sleep stage N2'], [8580.0, 30.0, 'Sleep stage N3'], [8610.0, 30.0, 'Sleep stage N3'], [8640.0, 30.0, 'Sleep stage N3'], [8670.0, 30.0, 'Sleep stage N3'], [8700.0, 30.0, 'Sleep stage N3'], [8730.0, 30.0, 'Sleep stage N3'], [8760.0, 30.0, 'Sleep stage N3'], [8790.0, 30.0, 'Sleep stage N3'], [8820.0, 30.0, 'Sleep stage N3'], [8850.0, 30.0, 'Sleep stage N1'], [8880.0, 30.0, 'Sleep stage N1'], [8910.0, 30.0, 'Sleep stage N2'], [8940.0, 30.0, 'Sleep stage N1'], [8970.0, 30.0, 'Sleep stage N2'], [9000.0, 30.0, 'Sleep stage N2'], [9030.0, 30.0, 'Sleep stage N1'], [9060.0, 30.0, 'Sleep stage N2'], [9090.0, 30.0, 'Sleep stage N2'], [9120.0, 30.0, 'Sleep stage N2'], [9150.0, 30.0, 'Sleep stage N1'], [9180.0, 30.0, 'Sleep stage R'], [9210.0, 30.0, 'Sleep stage R'], [9240.0, 30.0, 'Sleep stage R'], [9270.0, 30.0, 'Sleep stage R'], [9300.0, 30.0, 'Sleep stage N1'], [9330.0, 30.0, 'Sleep stage R'], [9360.0, 30.0, 'Sleep stage R'], [9390.0, 30.0, 'Sleep stage N1'], [9420.0, 30.0, 'Sleep stage N1'], [9450.0, 30.0, 'Sleep stage N1'], [9480.0, 30.0, 'Sleep stage R'], [9510.0, 30.0, 'Sleep stage N1'], [9540.0, 30.0, 'Sleep stage R'], [9570.0, 30.0, 'Sleep stage N1'], [9600.0, 30.0, 'Sleep stage R'], [9630.0, 30.0, 'Sleep stage R'], [9660.0, 30.0, 'Sleep stage N1'], [9690.0, 30.0, 'Sleep stage R'], [9720.0, 30.0, 'Sleep stage N1'], [9750.0, 30.0, 'Sleep stage N1'], [9780.0, 30.0, 'Sleep stage R'], [9810.0, 30.0, 'Sleep stage R'], [9840.0, 30.0, 'Sleep stage N1'], [9870.0, 30.0, 'Sleep stage R'], [9900.0, 30.0, 'Sleep stage R'], [9930.0, 30.0, 'Sleep stage N1'], [9960.0, 30.0, 'Sleep stage R'], [9990.0, 30.0, 'Sleep stage R'], [10020.0, 30.0, 'Sleep stage R'], [10050.0, 30.0, 'Sleep stage R'], [10080.0, 30.0, 'Sleep stage R'], [10110.0, 30.0, 'Sleep stage R'], [10140.0, 30.0, 'Sleep stage R'], [10170.0, 30.0, 'Sleep stage N1'], [10200.0, 30.0, 'Sleep stage R'], [10230.0, 30.0, 'Sleep stage R'], [10260.0, 30.0, 'Sleep stage N1'], [10290.0, 30.0, 'Sleep stage R'], [10320.0, 30.0, 'Sleep stage R'], [10350.0, 30.0, 'Sleep stage N1'], [10380.0, 30.0, 'Sleep stage R'], [10410.0, 30.0, 'Sleep stage R'], [10440.0, 30.0, 'Sleep stage N1'], [10470.0, 30.0, 'Sleep stage R'], [10500.0, 30.0, 'Sleep stage R'], [10530.0, 30.0, 'Sleep stage W'], [10560.0, 30.0, 'Sleep stage N1'], [10590.0, 30.0, 'Sleep stage N1'], [10620.0, 30.0, 'Sleep stage R'], [10650.0, 30.0, 'Sleep stage N1'], [10680.0, 30.0, 'Sleep stage R'], [10710.0, 30.0, 'Sleep stage R'], [10740.0, 30.0, 'Sleep stage N1'], [10770.0, 30.0, 'Sleep stage R'], [10800.0, 30.0, 'Sleep stage W'], [10830.0, 30.0, 'Sleep stage W'], [10860.0, 30.0, 'Sleep stage N1'], [10890.0, 30.0, 'Sleep stage N1'], [10920.0, 30.0, 'Sleep stage N1'], [10950.0, 30.0, 'Sleep stage N1'], [10980.0, 30.0, 'Sleep stage N1'], [11010.0, 30.0, 'Sleep stage N1'], [11040.0, 30.0, 'Sleep stage N2'], [11070.0, 30.0, 'Sleep stage N2'], [11100.0, 30.0, 'Sleep stage N2'], [11130.0, 30.0, 'Sleep stage N1'], [11160.0, 30.0, 'Sleep stage N1'], [11190.0, 30.0, 'Sleep stage N1'], [11220.0, 30.0, 'Sleep stage N2'], [11250.0, 30.0, 'Sleep stage N2'], [11280.0, 30.0, 'Sleep stage N2'], [11310.0, 30.0, 'Sleep stage N2'], [11340.0, 30.0, 'Sleep stage N2'], [11370.0, 30.0, 'Sleep stage N2'], [11400.0, 30.0, 'Sleep stage N2'], [11430.0, 30.0, 'Sleep stage N2'], [11460.0, 30.0, 'Sleep stage N2'], [11490.0, 30.0, 'Sleep stage N2'], [11520.0, 30.0, 'Sleep stage N2'], [11550.0, 30.0, 'Sleep stage N2'], [11580.0, 30.0, 'Sleep stage N2'], [11610.0, 30.0, 'Sleep stage N2'], [11640.0, 30.0, 'Sleep stage N2'], [11670.0, 30.0, 'Sleep stage N2'], [11700.0, 30.0, 'Sleep stage N2'], [11730.0, 30.0, 'Sleep stage N2'], [11760.0, 30.0, 'Sleep stage N2'], [11790.0, 30.0, 'Sleep stage N2'], [11820.0, 30.0, 'Sleep stage N3'], [11850.0, 30.0, 'Sleep stage N3'], [11880.0, 30.0, 'Sleep stage N3'], [11910.0, 30.0, 'Sleep stage N3'], [11940.0, 30.0, 'Sleep stage N3'], [11970.0, 30.0, 'Sleep stage N3'], [12000.0, 30.0, 'Sleep stage N3'], [12030.0, 30.0, 'Sleep stage N3'], [12060.0, 30.0, 'Sleep stage N3'], [12090.0, 30.0, 'Sleep stage N3'], [12120.0, 30.0, 'Sleep stage N3'], [12150.0, 30.0, 'Sleep stage N3'], [12180.0, 30.0, 'Sleep stage N3'], [12210.0, 30.0, 'Sleep stage N3'], [12240.0, 30.0, 'Sleep stage N3'], [12270.0, 30.0, 'Sleep stage N3'], [12300.0, 30.0, 'Sleep stage N3'], [12330.0, 30.0, 'Sleep stage N3'], [12360.0, 30.0, 'Sleep stage N3'], [12390.0, 30.0, 'Sleep stage N3'], [12420.0, 30.0, 'Sleep stage N3'], [12450.0, 30.0, 'Sleep stage N3'], [12480.0, 30.0, 'Sleep stage N3'], [12510.0, 30.0, 'Sleep stage N3'], [12540.0, 30.0, 'Sleep stage N3'], [12570.0, 30.0, 'Sleep stage N3'], [12600.0, 30.0, 'Sleep stage N3'], [12630.0, 30.0, 'Sleep stage N3'], [12660.0, 30.0, 'Sleep stage N3'], [12690.0, 30.0, 'Sleep stage N1'], [12720.0, 30.0, 'Sleep stage N2'], [12750.0, 30.0, 'Sleep stage N2'], [12780.0, 30.0, 'Sleep stage N2'], [12810.0, 30.0, 'Sleep stage N2'], [12840.0, 30.0, 'Sleep stage N2'], [12870.0, 30.0, 'Sleep stage N2'], [12900.0, 30.0, 'Sleep stage N2'], [12930.0, 30.0, 'Sleep stage N2'], [12960.0, 30.0, 'Sleep stage N2'], [12990.0, 30.0, 'Sleep stage N2'], [13020.0, 30.0, 'Sleep stage N2'], [13050.0, 30.0, 'Sleep stage N2'], [13080.0, 30.0, 'Sleep stage N2'], [13110.0, 30.0, 'Sleep stage N2'], [13140.0, 30.0, 'Sleep stage N2'], [13170.0, 30.0, 'Sleep stage N2'], [13200.0, 30.0, 'Sleep stage N2'], [13230.0, 30.0, 'Sleep stage N2'], [13260.0, 30.0, 'Sleep stage N2'], [13290.0, 30.0, 'Sleep stage N2'], [13320.0, 30.0, 'Sleep stage N2'], [13350.0, 30.0, 'Sleep stage N2'], [13380.0, 30.0, 'Sleep stage N2'], [13410.0, 30.0, 'Sleep stage N2'], [13440.0, 30.0, 'Sleep stage N2'], [13470.0, 30.0, 'Sleep stage N2'], [13500.0, 30.0, 'Sleep stage N2'], [13530.0, 30.0, 'Sleep stage N2'], [13560.0, 30.0, 'Sleep stage N2'], [13590.0, 30.0, 'Sleep stage N2'], [13620.0, 30.0, 'Sleep stage N2'], [13650.0, 30.0, 'Sleep stage N2'], [13680.0, 30.0, 'Sleep stage N2'], [13710.0, 30.0, 'Sleep stage N2'], [13740.0, 30.0, 'Sleep stage N1'], [13770.0, 30.0, 'Sleep stage N1'], [13800.0, 30.0, 'Sleep stage N1'], [13830.0, 30.0, 'Sleep stage N2'], [13860.0, 30.0, 'Sleep stage N1'], [13890.0, 30.0, 'Sleep stage N1'], [13920.0, 30.0, 'Sleep stage N1'], [13950.0, 30.0, 'Sleep stage N2'], [13980.0, 30.0, 'Sleep stage N1'], [14010.0, 30.0, 'Sleep stage N1'], [14040.0, 30.0, 'Sleep stage N1'], [14070.0, 30.0, 'Sleep stage N1'], [14100.0, 30.0, 'Sleep stage R'], [14130.0, 30.0, 'Sleep stage R'], [14160.0, 30.0, 'Sleep stage R'], [14190.0, 30.0, 'Sleep stage R'], [14220.0, 30.0, 'Sleep stage N1'], [14250.0, 30.0, 'Sleep stage R'], [14280.0, 30.0, 'Sleep stage R'], [14310.0, 30.0, 'Sleep stage R'], [14340.0, 30.0, 'Sleep stage R'], [14370.0, 30.0, 'Sleep stage N1'], [14400.0, 30.0, 'Sleep stage R'], [14430.0, 30.0, 'Sleep stage R'], [14460.0, 30.0, 'Sleep stage R'], [14490.0, 30.0, 'Sleep stage R'], [14520.0, 30.0, 'Sleep stage R'], [14550.0, 30.0, 'Sleep stage R'], [14580.0, 30.0, 'Sleep stage R'], [14610.0, 30.0, 'Sleep stage R'], [14640.0, 30.0, 'Sleep stage R'], [14670.0, 30.0, 'Sleep stage R'], [14700.0, 30.0, 'Sleep stage R'], [14730.0, 30.0, 'Sleep stage R'], [14760.0, 30.0, 'Sleep stage R'], [14790.0, 30.0, 'Sleep stage R'], [14820.0, 30.0, 'Sleep stage R'], [14850.0, 30.0, 'Sleep stage R'], [14880.0, 30.0, 'Sleep stage R'], [14910.0, 30.0, 'Sleep stage R'], [14940.0, 30.0, 'Sleep stage R'], [14970.0, 30.0, 'Sleep stage R'], [15000.0, 30.0, 'Sleep stage N1'], [15030.0, 30.0, 'Sleep stage R'], [15060.0, 30.0, 'Sleep stage R'], [15090.0, 30.0, 'Sleep stage R'], [15120.0, 30.0, 'Sleep stage W'], [15150.0, 30.0, 'Sleep stage N1'], [15180.0, 30.0, 'Sleep stage N1'], [15210.0, 30.0, 'Sleep stage N1'], [15240.0, 30.0, 'Sleep stage N1'], [15270.0, 30.0, 'Sleep stage N1'], [15300.0, 30.0, 'Sleep stage N1'], [15330.0, 30.0, 'Sleep stage N1'], [15360.0, 30.0, 'Sleep stage N1'], [15390.0, 30.0, 'Sleep stage N1'], [15420.0, 30.0, 'Sleep stage R'], [15450.0, 30.0, 'Sleep stage R'], [15480.0, 30.0, 'Sleep stage N1'], [15510.0, 30.0, 'Sleep stage R'], [15540.0, 30.0, 'Sleep stage N1'], [15570.0, 30.0, 'Sleep stage N1'], [15600.0, 30.0, 'Sleep stage R'], [15630.0, 30.0, 'Sleep stage N1'], [15660.0, 30.0, 'Sleep stage N1'], [15690.0, 30.0, 'Sleep stage N2'], [15720.0, 30.0, 'Sleep stage N2'], [15750.0, 30.0, 'Sleep stage N1'], [15780.0, 30.0, 'Sleep stage W'], [15810.0, 30.0, 'Sleep stage N1'], [15840.0, 30.0, 'Sleep stage N2'], [15870.0, 30.0, 'Sleep stage N2'], [15900.0, 30.0, 'Sleep stage N2'], [15930.0, 30.0, 'Sleep stage N2'], [15960.0, 30.0, 'Sleep stage N2'], [15990.0, 30.0, 'Sleep stage N1'], [16020.0, 30.0, 'Sleep stage N1'], [16050.0, 30.0, 'Sleep stage N2'], [16080.0, 30.0, 'Sleep stage N1'], [16110.0, 30.0, 'Sleep stage N1'], [16140.0, 30.0, 'Sleep stage N1'], [16170.0, 30.0, 'Sleep stage N1'], [16200.0, 30.0, 'Sleep stage N1'], [16230.0, 30.0, 'Sleep stage N2'], [16260.0, 30.0, 'Sleep stage N2'], [16290.0, 30.0, 'Sleep stage N1'], [16320.0, 30.0, 'Sleep stage N2'], [16350.0, 30.0, 'Sleep stage N1'], [16380.0, 30.0, 'Sleep stage N1'], [16410.0, 30.0, 'Sleep stage N1'], [16440.0, 30.0, 'Sleep stage N2'], [16470.0, 30.0, 'Sleep stage N2'], [16500.0, 30.0, 'Sleep stage N2'], [16530.0, 30.0, 'Sleep stage N1'], [16560.0, 30.0, 'Sleep stage N1'], [16590.0, 30.0, 'Sleep stage N2'], [16620.0, 30.0, 'Sleep stage N2'], [16650.0, 30.0, 'Sleep stage N2'], [16680.0, 30.0, 'Sleep stage N2'], [16710.0, 30.0, 'Sleep stage W'], [16740.0, 30.0, 'Sleep stage W'], [16770.0, 30.0, 'Sleep stage W'], [16800.0, 30.0, 'Sleep stage N1'], [16830.0, 30.0, 'Sleep stage N1'], [16860.0, 30.0, 'Sleep stage N1'], [16890.0, 30.0, 'Sleep stage N1'], [16920.0, 30.0, 'Sleep stage N1'], [16950.0, 30.0, 'Sleep stage N1'], [16980.0, 30.0, 'Sleep stage N1'], [17010.0, 30.0, 'Sleep stage N1'], [17040.0, 30.0, 'Sleep stage N1'], [17070.0, 30.0, 'Sleep stage N2'], [17100.0, 30.0, 'Sleep stage N1'], [17130.0, 30.0, 'Sleep stage N1'], [17160.0, 30.0, 'Sleep stage N1'], [17190.0, 30.0, 'Sleep stage N1'], [17220.0, 30.0, 'Sleep stage N2'], [17250.0, 30.0, 'Sleep stage N2'], [17280.0, 30.0, 'Sleep stage N2'], [17310.0, 30.0, 'Sleep stage N2'], [17340.0, 30.0, 'Sleep stage N2'], [17370.0, 30.0, 'Sleep stage N2'], [17400.0, 30.0, 'Sleep stage N2'], [17430.0, 30.0, 'Sleep stage N2'], [17460.0, 30.0, 'Sleep stage N2'], [17490.0, 30.0, 'Sleep stage N2'], [17520.0, 30.0, 'Sleep stage N2'], [17550.0, 30.0, 'Sleep stage N2'], [17580.0, 30.0, 'Sleep stage N2'], [17610.0, 30.0, 'Sleep stage N2'], [17640.0, 30.0, 'Sleep stage N2'], [17670.0, 30.0, 'Sleep stage N1'], [17700.0, 30.0, 'Sleep stage N1'], [17730.0, 30.0, 'Sleep stage N1'], [17760.0, 30.0, 'Sleep stage N1'], [17790.0, 30.0, 'Sleep stage N1'], [17820.0, 30.0, 'Sleep stage N2'], [17850.0, 30.0, 'Sleep stage N2'], [17880.0, 30.0, 'Sleep stage N2'], [17910.0, 30.0, 'Sleep stage N1'], [17940.0, 30.0, 'Sleep stage N1'], [17970.0, 30.0, 'Sleep stage N2'], [18000.0, 30.0, 'Sleep stage N1'], [18030.0, 30.0, 'Sleep stage N1'], [18060.0, 30.0, 'Sleep stage N1'], [18090.0, 30.0, 'Sleep stage N1'], [18120.0, 30.0, 'Sleep stage N1'], [18150.0, 30.0, 'Sleep stage N2'], [18180.0, 30.0, 'Sleep stage N2'], [18210.0, 30.0, 'Sleep stage N2'], [18240.0, 30.0, 'Sleep stage N2'], [18270.0, 30.0, 'Sleep stage N2'], [18300.0, 30.0, 'Sleep stage N2'], [18330.0, 30.0, 'Sleep stage N2'], [18360.0, 30.0, 'Sleep stage N2'], [18390.0, 30.0, 'Sleep stage N2'], [18420.0, 30.0, 'Sleep stage N2'], [18450.0, 30.0, 'Sleep stage N2'], [18480.0, 30.0, 'Sleep stage N2'], [18510.0, 30.0, 'Sleep stage N2'], [18540.0, 30.0, 'Sleep stage N2'], [18570.0, 30.0, 'Sleep stage N2'], [18600.0, 30.0, 'Sleep stage N2'], [18630.0, 30.0, 'Sleep stage N2'], [18660.0, 30.0, 'Sleep stage N2'], [18690.0, 30.0, 'Sleep stage N2'], [18720.0, 30.0, 'Sleep stage N2'], [18750.0, 30.0, 'Sleep stage N3'], [18780.0, 30.0, 'Sleep stage N2'], [18810.0, 30.0, 'Sleep stage N3'], [18840.0, 30.0, 'Sleep stage N3'], [18870.0, 30.0, 'Sleep stage N3'], [18900.0, 30.0, 'Sleep stage N3'], [18930.0, 30.0, 'Sleep stage N1'], [18960.0, 30.0, 'Sleep stage N1'], [18990.0, 30.0, 'Sleep stage N2'], [19020.0, 30.0, 'Sleep stage N2'], [19050.0, 30.0, 'Sleep stage N2'], [19080.0, 30.0, 'Sleep stage N2'], [19110.0, 30.0, 'Sleep stage N2'], [19140.0, 30.0, 'Sleep stage N2'], [19170.0, 30.0, 'Sleep stage N2'], [19200.0, 30.0, 'Sleep stage N2'], [19230.0, 30.0, 'Sleep stage N2'], [19260.0, 30.0, 'Sleep stage N2'], [19290.0, 30.0, 'Sleep stage N1'], [19320.0, 30.0, 'Sleep stage N1'], [19350.0, 30.0, 'Sleep stage W'], [19380.0, 30.0, 'Sleep stage N1'], [19410.0, 30.0, 'Sleep stage N1'], [19440.0, 30.0, 'Sleep stage N1'], [19470.0, 30.0, 'Sleep stage N2'], [19500.0, 30.0, 'Sleep stage N2'], [19530.0, 30.0, 'Sleep stage N2'], [19560.0, 30.0, 'Sleep stage N1'], [19590.0, 30.0, 'Sleep stage N2'], [19620.0, 30.0, 'Sleep stage R'], [19650.0, 30.0, 'Sleep stage R'], [19680.0, 30.0, 'Sleep stage R'], [19710.0, 30.0, 'Sleep stage N1'], [19740.0, 30.0, 'Sleep stage R'], [19770.0, 30.0, 'Sleep stage R'], [19800.0, 30.0, 'Sleep stage R'], [19830.0, 30.0, 'Sleep stage R'], [19860.0, 30.0, 'Sleep stage R'], [19890.0, 30.0, 'Sleep stage R'], [19920.0, 30.0, 'Sleep stage R'], [19950.0, 30.0, 'Sleep stage R'], [19980.0, 30.0, 'Sleep stage R'], [20010.0, 30.0, 'Sleep stage R'], [20040.0, 30.0, 'Sleep stage R'], [20070.0, 30.0, 'Sleep stage N1'], [20100.0, 30.0, 'Sleep stage N1'], [20130.0, 30.0, 'Sleep stage N1'], [20160.0, 30.0, 'Sleep stage R'], [20190.0, 30.0, 'Sleep stage R'], [20220.0, 30.0, 'Sleep stage N1'], [20250.0, 30.0, 'Sleep stage R'], [20280.0, 30.0, 'Sleep stage R'], [20310.0, 30.0, 'Sleep stage N1'], [20340.0, 30.0, 'Sleep stage R'], [20370.0, 30.0, 'Sleep stage R'], [20400.0, 30.0, 'Sleep stage N1'], [20430.0, 30.0, 'Sleep stage N1'], [20460.0, 30.0, 'Sleep stage R'], [20490.0, 30.0, 'Sleep stage R'], [20520.0, 30.0, 'Sleep stage N1'], [20550.0, 30.0, 'Sleep stage R'], [20580.0, 30.0, 'Sleep stage R'], [20610.0, 30.0, 'Sleep stage N1'], [20640.0, 30.0, 'Sleep stage N1'], [20670.0, 30.0, 'Sleep stage R'], [20700.0, 30.0, 'Sleep stage R'], [20730.0, 30.0, 'Sleep stage N1'], [20760.0, 30.0, 'Sleep stage N1'], [20790.0, 30.0, 'Sleep stage R'], [20820.0, 30.0, 'Sleep stage W'], [20850.0, 30.0, 'Sleep stage N1'], [20880.0, 30.0, 'Sleep stage N1'], [20910.0, 30.0, 'Sleep stage N1'], [20940.0, 30.0, 'Sleep stage N1'], [20970.0, 30.0, 'Sleep stage N1'], [21000.0, 30.0, 'Sleep stage R'], [21030.0, 30.0, 'Sleep stage R'], [21060.0, 30.0, 'Sleep stage N1'], [21090.0, 30.0, 'Sleep stage N2'], [21120.0, 30.0, 'Sleep stage N2'], [21150.0, 30.0, 'Sleep stage N2'], [21180.0, 30.0, 'Sleep stage N2'], [21210.0, 30.0, 'Sleep stage N2'], [21240.0, 30.0, 'Sleep stage N2'], [21270.0, 30.0, 'Sleep stage N2'], [21300.0, 30.0, 'Sleep stage N2'], [21330.0, 30.0, 'Sleep stage N2'], [21360.0, 30.0, 'Sleep stage N3'], [21390.0, 30.0, 'Sleep stage N3'], [21420.0, 30.0, 'Sleep stage N3'], [21450.0, 30.0, 'Sleep stage N3'], [21480.0, 30.0, 'Sleep stage N3'], [21510.0, 30.0, 'Sleep stage N3'], [21540.0, 30.0, 'Sleep stage N3'], [21570.0, 30.0, 'Sleep stage N3'], [21600.0, 30.0, 'Sleep stage N3'], [21630.0, 30.0, 'Sleep stage N3'], [21660.0, 30.0, 'Sleep stage N3'], [21690.0, 30.0, 'Sleep stage N3'], [21720.0, 30.0, 'Sleep stage N3'], [21750.0, 30.0, 'Sleep stage N3'], [21780.0, 30.0, 'Sleep stage N3'], [21810.0, 30.0, 'Sleep stage N3'], [21840.0, 30.0, 'Sleep stage N3'], [21870.0, 30.0, 'Sleep stage N3'], [21900.0, 30.0, 'Sleep stage N3'], [21930.0, 30.0, 'Sleep stage N3'], [21960.0, 30.0, 'Sleep stage N3'], [21990.0, 30.0, 'Sleep stage N3'], [22020.0, 30.0, 'Sleep stage N2'], [22050.0, 30.0, 'Sleep stage N2'], [22080.0, 30.0, 'Sleep stage N1'], [22110.0, 30.0, 'Sleep stage N1'], [22140.0, 30.0, 'Sleep stage N1'], [22170.0, 30.0, 'Sleep stage N1'], [22200.0, 30.0, 'Sleep stage N1'], [22230.0, 30.0, 'Sleep stage W'], [22260.0, 30.0, 'Sleep stage W'], [22290.0, 30.0, 'Sleep stage N1'], [22320.0, 30.0, 'Sleep stage N1'], [22350.0, 30.0, 'Sleep stage N1'], [22380.0, 30.0, 'Sleep stage N1'], [22410.0, 30.0, 'Sleep stage W'], [22440.0, 30.0, 'Sleep stage W'], [22470.0, 30.0, 'Sleep stage W'], [22500.0, 30.0, 'Sleep stage W'], [22530.0, 30.0, 'Sleep stage W'], [22560.0, 30.0, 'Sleep stage W'], [22590.0, 30.0, 'Sleep stage W'], [22620.0, 30.0, 'Sleep stage N1'], [22650.0, 30.0, 'Sleep stage N1'], [22680.0, 30.0, 'Sleep stage N1'], [22710.0, 30.0, 'Sleep stage W'], [22740.0, 30.0, 'Sleep stage W'], [22770.0, 30.0, 'Sleep stage W'], [22800.0, 30.0, 'Sleep stage W'], [22830.0, 30.0, 'Sleep stage N1'], [22860.0, 30.0, 'Sleep stage W'], [22890.0, 30.0, 'Sleep stage N1'], [22920.0, 30.0, 'Sleep stage N1'], [22950.0, 30.0, 'Sleep stage W'], [22980.0, 30.0, 'Sleep stage W'], [23010.0, 30.0, 'Sleep stage W'], [23040.0, 30.0, 'Sleep stage W'], [23070.0, 30.0, 'Sleep stage N1'], [23100.0, 30.0, 'Sleep stage N1'], [23130.0, 30.0, 'Sleep stage N1'], [23159.7, 0.0, 'Lights on@@SaO2'], [23160.0, 30.0, 'Sleep stage W']]}\n"
          ]
        }
      ],
      "source": [
        "a = highlevel.read_edf(trains[0],ch_names='ECG')\n",
        "b = highlevel.read_edf(labels[0])\n",
        "print(type(a))\n",
        "a = list(a)\n",
        "b = list(b)\n",
        "print(a)\n",
        "print(len(a[0][0]))\n",
        "print(a[0])\n",
        "print(b)\n",
        "a = a[0]\n",
        "b = b[2]\n",
        "print(a)\n",
        "print(b)\n",
        "print(len(a))\n",
        "print(b)\n"
      ]
    },
    {
      "cell_type": "code",
      "execution_count": null,
      "metadata": {
        "colab": {
          "base_uri": "https://localhost:8080/"
        },
        "id": "IUCwrvDs2Ub8",
        "outputId": "d18dc5e3-c6d3-448f-ad52-f694b07cd659"
      },
      "outputs": [
        {
          "name": "stdout",
          "output_type": "stream",
          "text": [
            "<pyedflib.edfreader.EdfReader object at 0x1ae7f4020>\n"
          ]
        }
      ],
      "source": [
        "edf = pyedflib.EdfReader(trains[0])\n",
        "print(edf)"
      ]
    },
    {
      "cell_type": "code",
      "execution_count": null,
      "metadata": {
        "colab": {
          "base_uri": "https://localhost:8080/"
        },
        "id": "fMDjK9HR67Oz",
        "outputId": "13cdadb7-146a-43ac-d243-a50f704e5b7c"
      },
      "outputs": [
        {
          "name": "stdout",
          "output_type": "stream",
          "text": [
            "[ 99.99237049  99.99237049  99.99237049 ... -99.96185245 -99.96185245\n",
            " -99.96185245]\n",
            "[-8.53284504 20.91096361  7.58068208 ... -0.03662165 -0.03662165\n",
            " -0.03662165]\n"
          ]
        }
      ],
      "source": [
        "f = pyedflib.data.test_generator()\n",
        "print(f.readSignal(0))\n",
        "print(edf.readSignal(7))"
      ]
    },
    {
      "cell_type": "code",
      "execution_count": null,
      "metadata": {
        "colab": {
          "base_uri": "https://localhost:8080/"
        },
        "id": "yKKEuTWqHSPh",
        "outputId": "2e599ad6-0796-46aa-8891-6366aa7be747"
      },
      "outputs": [
        {
          "name": "stdout",
          "output_type": "stream",
          "text": [
            "['/content/drive/MyDrive/physionet/HMC/hmc-sleep-staging/recordings/SN031.edf', '/content/drive/MyDrive/physionet/HMC/hmc-sleep-staging/recordings/SN032.edf', '/content/drive/MyDrive/physionet/HMC/hmc-sleep-staging/recordings/SN033.edf', '/content/drive/MyDrive/physionet/HMC/hmc-sleep-staging/recordings/SN034.edf', '/content/drive/MyDrive/physionet/HMC/hmc-sleep-staging/recordings/SN035.edf', '/content/drive/MyDrive/physionet/HMC/hmc-sleep-staging/recordings/SN036.edf', '/content/drive/MyDrive/physionet/HMC/hmc-sleep-staging/recordings/SN037.edf', '/content/drive/MyDrive/physionet/HMC/hmc-sleep-staging/recordings/SN038.edf', '/content/drive/MyDrive/physionet/HMC/hmc-sleep-staging/recordings/SN039.edf', '/content/drive/MyDrive/physionet/HMC/hmc-sleep-staging/recordings/SN040.edf', '/content/drive/MyDrive/physionet/HMC/hmc-sleep-staging/recordings/SN041.edf', '/content/drive/MyDrive/physionet/HMC/hmc-sleep-staging/recordings/SN042.edf', '/content/drive/MyDrive/physionet/HMC/hmc-sleep-staging/recordings/SN043.edf', '/content/drive/MyDrive/physionet/HMC/hmc-sleep-staging/recordings/SN044.edf', '/content/drive/MyDrive/physionet/HMC/hmc-sleep-staging/recordings/SN045.edf', '/content/drive/MyDrive/physionet/HMC/hmc-sleep-staging/recordings/SN046.edf', '/content/drive/MyDrive/physionet/HMC/hmc-sleep-staging/recordings/SN047.edf', '/content/drive/MyDrive/physionet/HMC/hmc-sleep-staging/recordings/SN048.edf', '/content/drive/MyDrive/physionet/HMC/hmc-sleep-staging/recordings/SN049.edf', '/content/drive/MyDrive/physionet/HMC/hmc-sleep-staging/recordings/SN050.edf', '/content/drive/MyDrive/physionet/HMC/hmc-sleep-staging/recordings/SN051.edf', '/content/drive/MyDrive/physionet/HMC/hmc-sleep-staging/recordings/SN052.edf', '/content/drive/MyDrive/physionet/HMC/hmc-sleep-staging/recordings/SN053.edf', '/content/drive/MyDrive/physionet/HMC/hmc-sleep-staging/recordings/SN054.edf', '/content/drive/MyDrive/physionet/HMC/hmc-sleep-staging/recordings/SN055.edf', '/content/drive/MyDrive/physionet/HMC/hmc-sleep-staging/recordings/SN056.edf', '/content/drive/MyDrive/physionet/HMC/hmc-sleep-staging/recordings/SN057.edf', '/content/drive/MyDrive/physionet/HMC/hmc-sleep-staging/recordings/SN058.edf', '/content/drive/MyDrive/physionet/HMC/hmc-sleep-staging/recordings/SN059.edf', '/content/drive/MyDrive/physionet/HMC/hmc-sleep-staging/recordings/SN060.edf', '/content/drive/MyDrive/physionet/HMC/hmc-sleep-staging/recordings/SN061.edf', '/content/drive/MyDrive/physionet/HMC/hmc-sleep-staging/recordings/SN062.edf', '/content/drive/MyDrive/physionet/HMC/hmc-sleep-staging/recordings/SN063.edf', '/content/drive/MyDrive/physionet/HMC/hmc-sleep-staging/recordings/SN065.edf', '/content/drive/MyDrive/physionet/HMC/hmc-sleep-staging/recordings/SN066.edf', '/content/drive/MyDrive/physionet/HMC/hmc-sleep-staging/recordings/SN067.edf', '/content/drive/MyDrive/physionet/HMC/hmc-sleep-staging/recordings/SN068.edf', '/content/drive/MyDrive/physionet/HMC/hmc-sleep-staging/recordings/SN069.edf', '/content/drive/MyDrive/physionet/HMC/hmc-sleep-staging/recordings/SN070.edf', '/content/drive/MyDrive/physionet/HMC/hmc-sleep-staging/recordings/SN071.edf', '/content/drive/MyDrive/physionet/HMC/hmc-sleep-staging/recordings/SN072.edf', '/content/drive/MyDrive/physionet/HMC/hmc-sleep-staging/recordings/SN073.edf', '/content/drive/MyDrive/physionet/HMC/hmc-sleep-staging/recordings/SN074.edf', '/content/drive/MyDrive/physionet/HMC/hmc-sleep-staging/recordings/SN075.edf', '/content/drive/MyDrive/physionet/HMC/hmc-sleep-staging/recordings/SN076.edf', '/content/drive/MyDrive/physionet/HMC/hmc-sleep-staging/recordings/SN077.edf', '/content/drive/MyDrive/physionet/HMC/hmc-sleep-staging/recordings/SN078.edf', '/content/drive/MyDrive/physionet/HMC/hmc-sleep-staging/recordings/SN079.edf', '/content/drive/MyDrive/physionet/HMC/hmc-sleep-staging/recordings/SN080.edf', '/content/drive/MyDrive/physionet/HMC/hmc-sleep-staging/recordings/SN081.edf', '/content/drive/MyDrive/physionet/HMC/hmc-sleep-staging/recordings/SN082.edf', '/content/drive/MyDrive/physionet/HMC/hmc-sleep-staging/recordings/SN083.edf', '/content/drive/MyDrive/physionet/HMC/hmc-sleep-staging/recordings/SN084.edf', '/content/drive/MyDrive/physionet/HMC/hmc-sleep-staging/recordings/SN085.edf', '/content/drive/MyDrive/physionet/HMC/hmc-sleep-staging/recordings/SN086.edf', '/content/drive/MyDrive/physionet/HMC/hmc-sleep-staging/recordings/SN087.edf', '/content/drive/MyDrive/physionet/HMC/hmc-sleep-staging/recordings/SN088.edf', '/content/drive/MyDrive/physionet/HMC/hmc-sleep-staging/recordings/SN089.edf', '/content/drive/MyDrive/physionet/HMC/hmc-sleep-staging/recordings/SN090.edf', '/content/drive/MyDrive/physionet/HMC/hmc-sleep-staging/recordings/SN091.edf', '/content/drive/MyDrive/physionet/HMC/hmc-sleep-staging/recordings/SN092.edf', '/content/drive/MyDrive/physionet/HMC/hmc-sleep-staging/recordings/SN093.edf', '/content/drive/MyDrive/physionet/HMC/hmc-sleep-staging/recordings/SN094.edf', '/content/drive/MyDrive/physionet/HMC/hmc-sleep-staging/recordings/SN095.edf', '/content/drive/MyDrive/physionet/HMC/hmc-sleep-staging/recordings/SN096.edf', '/content/drive/MyDrive/physionet/HMC/hmc-sleep-staging/recordings/SN097.edf', '/content/drive/MyDrive/physionet/HMC/hmc-sleep-staging/recordings/SN098.edf', '/content/drive/MyDrive/physionet/HMC/hmc-sleep-staging/recordings/SN099.edf', '/content/drive/MyDrive/physionet/HMC/hmc-sleep-staging/recordings/SN100.edf', '/content/drive/MyDrive/physionet/HMC/hmc-sleep-staging/recordings/SN101.edf', '/content/drive/MyDrive/physionet/HMC/hmc-sleep-staging/recordings/SN102.edf', '/content/drive/MyDrive/physionet/HMC/hmc-sleep-staging/recordings/SN103.edf', '/content/drive/MyDrive/physionet/HMC/hmc-sleep-staging/recordings/SN104.edf', '/content/drive/MyDrive/physionet/HMC/hmc-sleep-staging/recordings/SN105.edf', '/content/drive/MyDrive/physionet/HMC/hmc-sleep-staging/recordings/SN106.edf', '/content/drive/MyDrive/physionet/HMC/hmc-sleep-staging/recordings/SN107.edf', '/content/drive/MyDrive/physionet/HMC/hmc-sleep-staging/recordings/SN108.edf', '/content/drive/MyDrive/physionet/HMC/hmc-sleep-staging/recordings/SN109.edf', '/content/drive/MyDrive/physionet/HMC/hmc-sleep-staging/recordings/SN110.edf', '/content/drive/MyDrive/physionet/HMC/hmc-sleep-staging/recordings/SN111.edf', '/content/drive/MyDrive/physionet/HMC/hmc-sleep-staging/recordings/SN112.edf', '/content/drive/MyDrive/physionet/HMC/hmc-sleep-staging/recordings/SN113.edf', '/content/drive/MyDrive/physionet/HMC/hmc-sleep-staging/recordings/SN114.edf', '/content/drive/MyDrive/physionet/HMC/hmc-sleep-staging/recordings/SN115.edf', '/content/drive/MyDrive/physionet/HMC/hmc-sleep-staging/recordings/SN116.edf', '/content/drive/MyDrive/physionet/HMC/hmc-sleep-staging/recordings/SN117.edf', '/content/drive/MyDrive/physionet/HMC/hmc-sleep-staging/recordings/SN118.edf', '/content/drive/MyDrive/physionet/HMC/hmc-sleep-staging/recordings/SN119.edf', '/content/drive/MyDrive/physionet/HMC/hmc-sleep-staging/recordings/SN120.edf', '/content/drive/MyDrive/physionet/HMC/hmc-sleep-staging/recordings/SN121.edf', '/content/drive/MyDrive/physionet/HMC/hmc-sleep-staging/recordings/SN122.edf', '/content/drive/MyDrive/physionet/HMC/hmc-sleep-staging/recordings/SN123.edf', '/content/drive/MyDrive/physionet/HMC/hmc-sleep-staging/recordings/SN124.edf', '/content/drive/MyDrive/physionet/HMC/hmc-sleep-staging/recordings/SN125.edf', '/content/drive/MyDrive/physionet/HMC/hmc-sleep-staging/recordings/SN126.edf', '/content/drive/MyDrive/physionet/HMC/hmc-sleep-staging/recordings/SN127.edf', '/content/drive/MyDrive/physionet/HMC/hmc-sleep-staging/recordings/SN128.edf', '/content/drive/MyDrive/physionet/HMC/hmc-sleep-staging/recordings/SN129.edf', '/content/drive/MyDrive/physionet/HMC/hmc-sleep-staging/recordings/SN130.edf', '/content/drive/MyDrive/physionet/HMC/hmc-sleep-staging/recordings/SN131.edf', '/content/drive/MyDrive/physionet/HMC/hmc-sleep-staging/recordings/SN132.edf', '/content/drive/MyDrive/physionet/HMC/hmc-sleep-staging/recordings/SN133.edf', '/content/drive/MyDrive/physionet/HMC/hmc-sleep-staging/recordings/SN134.edf', '/content/drive/MyDrive/physionet/HMC/hmc-sleep-staging/recordings/SN136.edf', '/content/drive/MyDrive/physionet/HMC/hmc-sleep-staging/recordings/SN137.edf', '/content/drive/MyDrive/physionet/HMC/hmc-sleep-staging/recordings/SN138.edf', '/content/drive/MyDrive/physionet/HMC/hmc-sleep-staging/recordings/SN139.edf', '/content/drive/MyDrive/physionet/HMC/hmc-sleep-staging/recordings/SN140.edf', '/content/drive/MyDrive/physionet/HMC/hmc-sleep-staging/recordings/SN141.edf', '/content/drive/MyDrive/physionet/HMC/hmc-sleep-staging/recordings/SN142.edf', '/content/drive/MyDrive/physionet/HMC/hmc-sleep-staging/recordings/SN143.edf', '/content/drive/MyDrive/physionet/HMC/hmc-sleep-staging/recordings/SN144.edf', '/content/drive/MyDrive/physionet/HMC/hmc-sleep-staging/recordings/SN145.edf', '/content/drive/MyDrive/physionet/HMC/hmc-sleep-staging/recordings/SN146.edf', '/content/drive/MyDrive/physionet/HMC/hmc-sleep-staging/recordings/SN147.edf', '/content/drive/MyDrive/physionet/HMC/hmc-sleep-staging/recordings/SN148.edf', '/content/drive/MyDrive/physionet/HMC/hmc-sleep-staging/recordings/SN149.edf', '/content/drive/MyDrive/physionet/HMC/hmc-sleep-staging/recordings/SN150.edf', '/content/drive/MyDrive/physionet/HMC/hmc-sleep-staging/recordings/SN151.edf', '/content/drive/MyDrive/physionet/HMC/hmc-sleep-staging/recordings/SN152.edf', '/content/drive/MyDrive/physionet/HMC/hmc-sleep-staging/recordings/SN153.edf', '/content/drive/MyDrive/physionet/HMC/hmc-sleep-staging/recordings/SN154.edf', '/content/drive/MyDrive/physionet/HMC/hmc-sleep-staging/recordings/SN001.edf', '/content/drive/MyDrive/physionet/HMC/hmc-sleep-staging/recordings/SN003.edf', '/content/drive/MyDrive/physionet/HMC/hmc-sleep-staging/recordings/SN005.edf', '/content/drive/MyDrive/physionet/HMC/hmc-sleep-staging/recordings/SN004.edf', '/content/drive/MyDrive/physionet/HMC/hmc-sleep-staging/recordings/SN002.edf', '/content/drive/MyDrive/physionet/HMC/hmc-sleep-staging/recordings/SN007.edf', '/content/drive/MyDrive/physionet/HMC/hmc-sleep-staging/recordings/SN008.edf', '/content/drive/MyDrive/physionet/HMC/hmc-sleep-staging/recordings/SN010.edf', '/content/drive/MyDrive/physionet/HMC/hmc-sleep-staging/recordings/SN006.edf', '/content/drive/MyDrive/physionet/HMC/hmc-sleep-staging/recordings/SN009.edf', '/content/drive/MyDrive/physionet/HMC/hmc-sleep-staging/recordings/SN012.edf', '/content/drive/MyDrive/physionet/HMC/hmc-sleep-staging/recordings/SN011.edf', '/content/drive/MyDrive/physionet/HMC/hmc-sleep-staging/recordings/SN015.edf', '/content/drive/MyDrive/physionet/HMC/hmc-sleep-staging/recordings/SN013.edf', '/content/drive/MyDrive/physionet/HMC/hmc-sleep-staging/recordings/SN020.edf', '/content/drive/MyDrive/physionet/HMC/hmc-sleep-staging/recordings/SN017.edf', '/content/drive/MyDrive/physionet/HMC/hmc-sleep-staging/recordings/SN019.edf', '/content/drive/MyDrive/physionet/HMC/hmc-sleep-staging/recordings/SN016.edf', '/content/drive/MyDrive/physionet/HMC/hmc-sleep-staging/recordings/SN018.edf', '/content/drive/MyDrive/physionet/HMC/hmc-sleep-staging/recordings/SN023.edf', '/content/drive/MyDrive/physionet/HMC/hmc-sleep-staging/recordings/SN025.edf', '/content/drive/MyDrive/physionet/HMC/hmc-sleep-staging/recordings/SN021.edf', '/content/drive/MyDrive/physionet/HMC/hmc-sleep-staging/recordings/SN024.edf', '/content/drive/MyDrive/physionet/HMC/hmc-sleep-staging/recordings/SN022.edf', '/content/drive/MyDrive/physionet/HMC/hmc-sleep-staging/recordings/SN029.edf', '/content/drive/MyDrive/physionet/HMC/hmc-sleep-staging/recordings/SN027.edf', '/content/drive/MyDrive/physionet/HMC/hmc-sleep-staging/recordings/SN026.edf', '/content/drive/MyDrive/physionet/HMC/hmc-sleep-staging/recordings/SN028.edf', '/content/drive/MyDrive/physionet/HMC/hmc-sleep-staging/recordings/SN030.edf']\n"
          ]
        }
      ],
      "source": [
        "print(trains)"
      ]
    },
    {
      "cell_type": "code",
      "execution_count": null,
      "metadata": {
        "id": "LAQIECza9JZO"
      },
      "outputs": [],
      "source": [
        "f = pyedflib.EdfReader(trains[47])\n",
        "n = f.signals_in_file\n",
        "signal_labels = f.getSignalLabels()\n",
        "sigbufs = np.zeros((n, f.getNSamples()[0]))\n",
        "for i in np.arange(n):\n",
        "        sigbufs[i, :] = f.readSignal(i)"
      ]
    },
    {
      "cell_type": "code",
      "execution_count": null,
      "metadata": {
        "colab": {
          "base_uri": "https://localhost:8080/"
        },
        "id": "COvWQNrAAkLX",
        "outputId": "0b18935f-90fd-47dd-d421-f2160be4178d"
      },
      "outputs": [
        {
          "name": "stdout",
          "output_type": "stream",
          "text": [
            "8583680\n",
            "[-9.33485924e+01 -7.11558709e+01 -1.20888075e+02 ... -3.66216526e-02\n",
            " -3.66216526e-02 -3.66216526e-02]\n"
          ]
        }
      ],
      "source": [
        "print((len(sigbufs[7])))\n",
        "print(sigbufs[7])#"
      ]
    },
    {
      "cell_type": "code",
      "execution_count": null,
      "metadata": {
        "colab": {
          "base_uri": "https://localhost:8080/"
        },
        "id": "IAtwOzJqLslv",
        "outputId": "1e8abb50-d671-4095-dba4-3c9b431ce1e6"
      },
      "outputs": [
        {
          "name": "stdout",
          "output_type": "stream",
          "text": [
            "Anotation:[[0, b'30', b'Sleep stage W'], [300000000, b'30', b'Sleep stage W'], [324000000, b'0', b'Lights off@@SaO2'], [600000000, b'30', b'Sleep stage W'], [900000000, b'30', b'Sleep stage W'], [1200000000, b'30', b'Sleep stage W'], [1500000000, b'30', b'Sleep stage W'], [1800000000, b'30', b'Sleep stage W'], [2100000000, b'30', b'Sleep stage W'], [2400000000, b'30', b'Sleep stage W'], [2700000000, b'30', b'Sleep stage W'], [3000000000, b'30', b'Sleep stage W'], [3300000000, b'30', b'Sleep stage W'], [3600000000, b'30', b'Sleep stage W'], [3900000000, b'30', b'Sleep stage W'], [4200000000, b'30', b'Sleep stage W'], [4500000000, b'30', b'Sleep stage W'], [4800000000, b'30', b'Sleep stage W'], [5100000000, b'30', b'Sleep stage W'], [5400000000, b'30', b'Sleep stage W'], [5700000000, b'30', b'Sleep stage W'], [6000000000, b'30', b'Sleep stage W'], [6300000000, b'30', b'Sleep stage W'], [6600000000, b'30', b'Sleep stage W'], [6900000000, b'30', b'Sleep stage W'], [7200000000, b'30', b'Sleep stage N1'], [7500000000, b'30', b'Sleep stage W'], [7800000000, b'30', b'Sleep stage W'], [8100000000, b'30', b'Sleep stage W'], [8400000000, b'30', b'Sleep stage W'], [8700000000, b'30', b'Sleep stage W'], [9000000000, b'30', b'Sleep stage W'], [9300000000, b'30', b'Sleep stage W'], [9600000000, b'30', b'Sleep stage W'], [9900000000, b'30', b'Sleep stage N1'], [10200000000, b'30', b'Sleep stage N1'], [10500000000, b'30', b'Sleep stage N1'], [10800000000, b'30', b'Sleep stage N1'], [11100000000, b'30', b'Sleep stage N1'], [11400000000, b'30', b'Sleep stage N1'], [11700000000, b'30', b'Sleep stage N1'], [12000000000, b'30', b'Sleep stage N1'], [12300000000, b'30', b'Sleep stage N1'], [12600000000, b'30', b'Sleep stage N1'], [12900000000, b'30', b'Sleep stage N2'], [13200000000, b'30', b'Sleep stage N1'], [13500000000, b'30', b'Sleep stage W'], [13800000000, b'30', b'Sleep stage W'], [14100000000, b'30', b'Sleep stage N1'], [14400000000, b'30', b'Sleep stage N1'], [14700000000, b'30', b'Sleep stage N1'], [15000000000, b'30', b'Sleep stage N2'], [15300000000, b'30', b'Sleep stage N1'], [15600000000, b'30', b'Sleep stage N2'], [15900000000, b'30', b'Sleep stage N2'], [16200000000, b'30', b'Sleep stage N2'], [16500000000, b'30', b'Sleep stage N2'], [16800000000, b'30', b'Sleep stage N2'], [17100000000, b'30', b'Sleep stage N2'], [17400000000, b'30', b'Sleep stage N2'], [17700000000, b'30', b'Sleep stage N2'], [18000000000, b'30', b'Sleep stage N2'], [18300000000, b'30', b'Sleep stage N2'], [18600000000, b'30', b'Sleep stage N2'], [18900000000, b'30', b'Sleep stage N2'], [19200000000, b'30', b'Sleep stage N2'], [19500000000, b'30', b'Sleep stage N2'], [19800000000, b'30', b'Sleep stage N2'], [20100000000, b'30', b'Sleep stage N2'], [20400000000, b'30', b'Sleep stage N2'], [20700000000, b'30', b'Sleep stage N3'], [21000000000, b'30', b'Sleep stage N3'], [21300000000, b'30', b'Sleep stage N3'], [21600000000, b'30', b'Sleep stage N3'], [21900000000, b'30', b'Sleep stage N3'], [22200000000, b'30', b'Sleep stage N3'], [22500000000, b'30', b'Sleep stage N3'], [22800000000, b'30', b'Sleep stage N3'], [23100000000, b'30', b'Sleep stage N1'], [23400000000, b'30', b'Sleep stage N2'], [23700000000, b'30', b'Sleep stage N2'], [24000000000, b'30', b'Sleep stage N2'], [24300000000, b'30', b'Sleep stage N2'], [24600000000, b'30', b'Sleep stage N2'], [24900000000, b'30', b'Sleep stage N2'], [25200000000, b'30', b'Sleep stage N2'], [25500000000, b'30', b'Sleep stage N1'], [25800000000, b'30', b'Sleep stage W'], [26100000000, b'30', b'Sleep stage N1'], [26400000000, b'30', b'Sleep stage N1'], [26700000000, b'30', b'Sleep stage N1'], [27000000000, b'30', b'Sleep stage N2'], [27300000000, b'30', b'Sleep stage N1'], [27600000000, b'30', b'Sleep stage N2'], [27900000000, b'30', b'Sleep stage N2'], [28200000000, b'30', b'Sleep stage N2'], [28500000000, b'30', b'Sleep stage N2'], [28800000000, b'30', b'Sleep stage N2'], [29100000000, b'30', b'Sleep stage N2'], [29400000000, b'30', b'Sleep stage N2'], [29700000000, b'30', b'Sleep stage N2'], [30000000000, b'30', b'Sleep stage N2'], [30300000000, b'30', b'Sleep stage N3'], [30600000000, b'30', b'Sleep stage N3'], [30900000000, b'30', b'Sleep stage N3'], [31200000000, b'30', b'Sleep stage N3'], [31500000000, b'30', b'Sleep stage N3'], [31800000000, b'30', b'Sleep stage N3'], [32100000000, b'30', b'Sleep stage N3'], [32400000000, b'30', b'Sleep stage N3'], [32700000000, b'30', b'Sleep stage N3'], [33000000000, b'30', b'Sleep stage N3'], [33300000000, b'30', b'Sleep stage N3'], [33600000000, b'30', b'Sleep stage N3'], [33900000000, b'30', b'Sleep stage N3'], [34200000000, b'30', b'Sleep stage N3'], [34500000000, b'30', b'Sleep stage N3'], [34800000000, b'30', b'Sleep stage N3'], [35100000000, b'30', b'Sleep stage N3'], [35400000000, b'30', b'Sleep stage N3'], [35700000000, b'30', b'Sleep stage N3'], [36000000000, b'30', b'Sleep stage N3'], [36300000000, b'30', b'Sleep stage N3'], [36600000000, b'30', b'Sleep stage N3'], [36900000000, b'30', b'Sleep stage N3'], [37200000000, b'30', b'Sleep stage N3'], [37500000000, b'30', b'Sleep stage N3'], [37800000000, b'30', b'Sleep stage N3'], [38100000000, b'30', b'Sleep stage N3'], [38400000000, b'30', b'Sleep stage N3'], [38700000000, b'30', b'Sleep stage N3'], [39000000000, b'30', b'Sleep stage R'], [39300000000, b'30', b'Sleep stage R'], [39600000000, b'30', b'Sleep stage R'], [39900000000, b'30', b'Sleep stage R'], [40200000000, b'30', b'Sleep stage N1'], [40500000000, b'30', b'Sleep stage N1'], [40800000000, b'30', b'Sleep stage N1'], [41100000000, b'30', b'Sleep stage W'], [41400000000, b'30', b'Sleep stage N1'], [41700000000, b'30', b'Sleep stage R'], [42000000000, b'30', b'Sleep stage R'], [42300000000, b'30', b'Sleep stage R'], [42600000000, b'30', b'Sleep stage R'], [42900000000, b'30', b'Sleep stage N1'], [43200000000, b'30', b'Sleep stage N1'], [43500000000, b'30', b'Sleep stage N1'], [43800000000, b'30', b'Sleep stage N1'], [44100000000, b'30', b'Sleep stage N1'], [44400000000, b'30', b'Sleep stage N1'], [44700000000, b'30', b'Sleep stage R'], [45000000000, b'30', b'Sleep stage R'], [45300000000, b'30', b'Sleep stage N1'], [45600000000, b'30', b'Sleep stage N1'], [45900000000, b'30', b'Sleep stage N1'], [46200000000, b'30', b'Sleep stage N1'], [46500000000, b'30', b'Sleep stage N1'], [46800000000, b'30', b'Sleep stage R'], [47100000000, b'30', b'Sleep stage N1'], [47400000000, b'30', b'Sleep stage N1'], [47700000000, b'30', b'Sleep stage R'], [48000000000, b'30', b'Sleep stage R'], [48300000000, b'30', b'Sleep stage N1'], [48600000000, b'30', b'Sleep stage N1'], [48900000000, b'30', b'Sleep stage N1'], [49200000000, b'30', b'Sleep stage R'], [49500000000, b'30', b'Sleep stage N1'], [49800000000, b'30', b'Sleep stage R'], [50100000000, b'30', b'Sleep stage R'], [50400000000, b'30', b'Sleep stage N1'], [50700000000, b'30', b'Sleep stage N1'], [51000000000, b'30', b'Sleep stage N1'], [51300000000, b'30', b'Sleep stage N1'], [51600000000, b'30', b'Sleep stage N1'], [51900000000, b'30', b'Sleep stage N1'], [52200000000, b'30', b'Sleep stage W'], [52500000000, b'30', b'Sleep stage N1'], [52800000000, b'30', b'Sleep stage N1'], [53100000000, b'30', b'Sleep stage N1'], [53400000000, b'30', b'Sleep stage N1'], [53700000000, b'30', b'Sleep stage N1'], [54000000000, b'30', b'Sleep stage N2'], [54300000000, b'30', b'Sleep stage N2'], [54600000000, b'30', b'Sleep stage N2'], [54900000000, b'30', b'Sleep stage N2'], [55200000000, b'30', b'Sleep stage N2'], [55500000000, b'30', b'Sleep stage N2'], [55800000000, b'30', b'Sleep stage N2'], [56100000000, b'30', b'Sleep stage N2'], [56400000000, b'30', b'Sleep stage N2'], [56700000000, b'30', b'Sleep stage W'], [57000000000, b'30', b'Sleep stage W'], [57300000000, b'30', b'Sleep stage W'], [57600000000, b'30', b'Sleep stage N1'], [57900000000, b'30', b'Sleep stage W'], [58200000000, b'30', b'Sleep stage W'], [58500000000, b'30', b'Sleep stage N1'], [58800000000, b'30', b'Sleep stage N2'], [59100000000, b'30', b'Sleep stage N2'], [59400000000, b'30', b'Sleep stage N1'], [59700000000, b'30', b'Sleep stage N2'], [60000000000, b'30', b'Sleep stage N2'], [60300000000, b'30', b'Sleep stage N2'], [60600000000, b'30', b'Sleep stage N2'], [60900000000, b'30', b'Sleep stage N2'], [61200000000, b'30', b'Sleep stage N2'], [61500000000, b'30', b'Sleep stage N2'], [61800000000, b'30', b'Sleep stage N2'], [62100000000, b'30', b'Sleep stage N2'], [62400000000, b'30', b'Sleep stage N2'], [62700000000, b'30', b'Sleep stage N2'], [63000000000, b'30', b'Sleep stage N2'], [63300000000, b'30', b'Sleep stage N2'], [63600000000, b'30', b'Sleep stage N2'], [63900000000, b'30', b'Sleep stage N2'], [64200000000, b'30', b'Sleep stage N2'], [64500000000, b'30', b'Sleep stage N2'], [64800000000, b'30', b'Sleep stage N2'], [65100000000, b'30', b'Sleep stage N3'], [65400000000, b'30', b'Sleep stage N3'], [65700000000, b'30', b'Sleep stage N3'], [66000000000, b'30', b'Sleep stage N3'], [66300000000, b'30', b'Sleep stage N3'], [66600000000, b'30', b'Sleep stage N3'], [66900000000, b'30', b'Sleep stage N3'], [67200000000, b'30', b'Sleep stage N3'], [67500000000, b'30', b'Sleep stage N3'], [67800000000, b'30', b'Sleep stage N3'], [68100000000, b'30', b'Sleep stage N3'], [68400000000, b'30', b'Sleep stage N3'], [68700000000, b'30', b'Sleep stage N3'], [69000000000, b'30', b'Sleep stage N3'], [69300000000, b'30', b'Sleep stage N3'], [69600000000, b'30', b'Sleep stage N3'], [69900000000, b'30', b'Sleep stage N3'], [70200000000, b'30', b'Sleep stage N3'], [70500000000, b'30', b'Sleep stage N3'], [70800000000, b'30', b'Sleep stage N3'], [71100000000, b'30', b'Sleep stage N3'], [71400000000, b'30', b'Sleep stage N3'], [71700000000, b'30', b'Sleep stage N2'], [72000000000, b'30', b'Sleep stage N3'], [72300000000, b'30', b'Sleep stage N2'], [72600000000, b'30', b'Sleep stage N1'], [72900000000, b'30', b'Sleep stage W'], [73200000000, b'30', b'Sleep stage N1'], [73500000000, b'30', b'Sleep stage N1'], [73800000000, b'30', b'Sleep stage N1'], [74100000000, b'30', b'Sleep stage N1'], [74400000000, b'30', b'Sleep stage N2'], [74700000000, b'30', b'Sleep stage N2'], [75000000000, b'30', b'Sleep stage N1'], [75300000000, b'30', b'Sleep stage N1'], [75600000000, b'30', b'Sleep stage W'], [75900000000, b'30', b'Sleep stage N1'], [76200000000, b'30', b'Sleep stage N1'], [76500000000, b'30', b'Sleep stage N1'], [76800000000, b'30', b'Sleep stage N1'], [77100000000, b'30', b'Sleep stage N2'], [77400000000, b'30', b'Sleep stage N2'], [77700000000, b'30', b'Sleep stage N2'], [78000000000, b'30', b'Sleep stage N2'], [78300000000, b'30', b'Sleep stage N2'], [78600000000, b'30', b'Sleep stage N2'], [78900000000, b'30', b'Sleep stage N2'], [79200000000, b'30', b'Sleep stage N2'], [79500000000, b'30', b'Sleep stage N2'], [79800000000, b'30', b'Sleep stage N2'], [80100000000, b'30', b'Sleep stage N2'], [80400000000, b'30', b'Sleep stage W'], [80700000000, b'30', b'Sleep stage N1'], [81000000000, b'30', b'Sleep stage N1'], [81300000000, b'30', b'Sleep stage N2'], [81600000000, b'30', b'Sleep stage N2'], [81900000000, b'30', b'Sleep stage N2'], [82200000000, b'30', b'Sleep stage N1'], [82500000000, b'30', b'Sleep stage N2'], [82800000000, b'30', b'Sleep stage N2'], [83100000000, b'30', b'Sleep stage N2'], [83400000000, b'30', b'Sleep stage N3'], [83700000000, b'30', b'Sleep stage N3'], [84000000000, b'30', b'Sleep stage N3'], [84300000000, b'30', b'Sleep stage N3'], [84600000000, b'30', b'Sleep stage N1'], [84900000000, b'30', b'Sleep stage N1'], [85200000000, b'30', b'Sleep stage N2'], [85500000000, b'30', b'Sleep stage N2'], [85800000000, b'30', b'Sleep stage N3'], [86100000000, b'30', b'Sleep stage N3'], [86400000000, b'30', b'Sleep stage N3'], [86700000000, b'30', b'Sleep stage N3'], [87000000000, b'30', b'Sleep stage N3'], [87300000000, b'30', b'Sleep stage N3'], [87600000000, b'30', b'Sleep stage N3'], [87900000000, b'30', b'Sleep stage N3'], [88200000000, b'30', b'Sleep stage N3'], [88500000000, b'30', b'Sleep stage N1'], [88800000000, b'30', b'Sleep stage N1'], [89100000000, b'30', b'Sleep stage N2'], [89400000000, b'30', b'Sleep stage N1'], [89700000000, b'30', b'Sleep stage N2'], [90000000000, b'30', b'Sleep stage N2'], [90300000000, b'30', b'Sleep stage N1'], [90600000000, b'30', b'Sleep stage N2'], [90900000000, b'30', b'Sleep stage N2'], [91200000000, b'30', b'Sleep stage N2'], [91500000000, b'30', b'Sleep stage N1'], [91800000000, b'30', b'Sleep stage R'], [92100000000, b'30', b'Sleep stage R'], [92400000000, b'30', b'Sleep stage R'], [92700000000, b'30', b'Sleep stage R'], [93000000000, b'30', b'Sleep stage N1'], [93300000000, b'30', b'Sleep stage R'], [93600000000, b'30', b'Sleep stage R'], [93900000000, b'30', b'Sleep stage N1'], [94200000000, b'30', b'Sleep stage N1'], [94500000000, b'30', b'Sleep stage N1'], [94800000000, b'30', b'Sleep stage R'], [95100000000, b'30', b'Sleep stage N1'], [95400000000, b'30', b'Sleep stage R'], [95700000000, b'30', b'Sleep stage N1'], [96000000000, b'30', b'Sleep stage R'], [96300000000, b'30', b'Sleep stage R'], [96600000000, b'30', b'Sleep stage N1'], [96900000000, b'30', b'Sleep stage R'], [97200000000, b'30', b'Sleep stage N1'], [97500000000, b'30', b'Sleep stage N1'], [97800000000, b'30', b'Sleep stage R'], [98100000000, b'30', b'Sleep stage R'], [98400000000, b'30', b'Sleep stage N1'], [98700000000, b'30', b'Sleep stage R'], [99000000000, b'30', b'Sleep stage R'], [99300000000, b'30', b'Sleep stage N1'], [99600000000, b'30', b'Sleep stage R'], [99900000000, b'30', b'Sleep stage R'], [100200000000, b'30', b'Sleep stage R'], [100500000000, b'30', b'Sleep stage R'], [100800000000, b'30', b'Sleep stage R'], [101100000000, b'30', b'Sleep stage R'], [101400000000, b'30', b'Sleep stage R'], [101700000000, b'30', b'Sleep stage N1'], [102000000000, b'30', b'Sleep stage R'], [102300000000, b'30', b'Sleep stage R'], [102600000000, b'30', b'Sleep stage N1'], [102900000000, b'30', b'Sleep stage R'], [103200000000, b'30', b'Sleep stage R'], [103500000000, b'30', b'Sleep stage N1'], [103800000000, b'30', b'Sleep stage R'], [104100000000, b'30', b'Sleep stage R'], [104400000000, b'30', b'Sleep stage N1'], [104700000000, b'30', b'Sleep stage R'], [105000000000, b'30', b'Sleep stage R'], [105300000000, b'30', b'Sleep stage W'], [105600000000, b'30', b'Sleep stage N1'], [105900000000, b'30', b'Sleep stage N1'], [106200000000, b'30', b'Sleep stage R'], [106500000000, b'30', b'Sleep stage N1'], [106800000000, b'30', b'Sleep stage R'], [107100000000, b'30', b'Sleep stage R'], [107400000000, b'30', b'Sleep stage N1'], [107700000000, b'30', b'Sleep stage R'], [108000000000, b'30', b'Sleep stage W'], [108300000000, b'30', b'Sleep stage W'], [108600000000, b'30', b'Sleep stage N1'], [108900000000, b'30', b'Sleep stage N1'], [109200000000, b'30', b'Sleep stage N1'], [109500000000, b'30', b'Sleep stage N1'], [109800000000, b'30', b'Sleep stage N1'], [110100000000, b'30', b'Sleep stage N1'], [110400000000, b'30', b'Sleep stage N2'], [110700000000, b'30', b'Sleep stage N2'], [111000000000, b'30', b'Sleep stage N2'], [111300000000, b'30', b'Sleep stage N1'], [111600000000, b'30', b'Sleep stage N1'], [111900000000, b'30', b'Sleep stage N1'], [112200000000, b'30', b'Sleep stage N2'], [112500000000, b'30', b'Sleep stage N2'], [112800000000, b'30', b'Sleep stage N2'], [113100000000, b'30', b'Sleep stage N2'], [113400000000, b'30', b'Sleep stage N2'], [113700000000, b'30', b'Sleep stage N2'], [114000000000, b'30', b'Sleep stage N2'], [114300000000, b'30', b'Sleep stage N2'], [114600000000, b'30', b'Sleep stage N2'], [114900000000, b'30', b'Sleep stage N2'], [115200000000, b'30', b'Sleep stage N2'], [115500000000, b'30', b'Sleep stage N2'], [115800000000, b'30', b'Sleep stage N2'], [116100000000, b'30', b'Sleep stage N2'], [116400000000, b'30', b'Sleep stage N2'], [116700000000, b'30', b'Sleep stage N2'], [117000000000, b'30', b'Sleep stage N2'], [117300000000, b'30', b'Sleep stage N2'], [117600000000, b'30', b'Sleep stage N2'], [117900000000, b'30', b'Sleep stage N2'], [118200000000, b'30', b'Sleep stage N3'], [118500000000, b'30', b'Sleep stage N3'], [118800000000, b'30', b'Sleep stage N3'], [119100000000, b'30', b'Sleep stage N3'], [119400000000, b'30', b'Sleep stage N3'], [119700000000, b'30', b'Sleep stage N3'], [120000000000, b'30', b'Sleep stage N3'], [120300000000, b'30', b'Sleep stage N3'], [120600000000, b'30', b'Sleep stage N3'], [120900000000, b'30', b'Sleep stage N3'], [121200000000, b'30', b'Sleep stage N3'], [121500000000, b'30', b'Sleep stage N3'], [121800000000, b'30', b'Sleep stage N3'], [122100000000, b'30', b'Sleep stage N3'], [122400000000, b'30', b'Sleep stage N3'], [122700000000, b'30', b'Sleep stage N3'], [123000000000, b'30', b'Sleep stage N3'], [123300000000, b'30', b'Sleep stage N3'], [123600000000, b'30', b'Sleep stage N3'], [123900000000, b'30', b'Sleep stage N3'], [124200000000, b'30', b'Sleep stage N3'], [124500000000, b'30', b'Sleep stage N3'], [124800000000, b'30', b'Sleep stage N3'], [125100000000, b'30', b'Sleep stage N3'], [125400000000, b'30', b'Sleep stage N3'], [125700000000, b'30', b'Sleep stage N3'], [126000000000, b'30', b'Sleep stage N3'], [126300000000, b'30', b'Sleep stage N3'], [126600000000, b'30', b'Sleep stage N3'], [126900000000, b'30', b'Sleep stage N1'], [127200000000, b'30', b'Sleep stage N2'], [127500000000, b'30', b'Sleep stage N2'], [127800000000, b'30', b'Sleep stage N2'], [128100000000, b'30', b'Sleep stage N2'], [128400000000, b'30', b'Sleep stage N2'], [128700000000, b'30', b'Sleep stage N2'], [129000000000, b'30', b'Sleep stage N2'], [129300000000, b'30', b'Sleep stage N2'], [129600000000, b'30', b'Sleep stage N2'], [129900000000, b'30', b'Sleep stage N2'], [130200000000, b'30', b'Sleep stage N2'], [130500000000, b'30', b'Sleep stage N2'], [130800000000, b'30', b'Sleep stage N2'], [131100000000, b'30', b'Sleep stage N2'], [131400000000, b'30', b'Sleep stage N2'], [131700000000, b'30', b'Sleep stage N2'], [132000000000, b'30', b'Sleep stage N2'], [132300000000, b'30', b'Sleep stage N2'], [132600000000, b'30', b'Sleep stage N2'], [132900000000, b'30', b'Sleep stage N2'], [133200000000, b'30', b'Sleep stage N2'], [133500000000, b'30', b'Sleep stage N2'], [133800000000, b'30', b'Sleep stage N2'], [134100000000, b'30', b'Sleep stage N2'], [134400000000, b'30', b'Sleep stage N2'], [134700000000, b'30', b'Sleep stage N2'], [135000000000, b'30', b'Sleep stage N2'], [135300000000, b'30', b'Sleep stage N2'], [135600000000, b'30', b'Sleep stage N2'], [135900000000, b'30', b'Sleep stage N2'], [136200000000, b'30', b'Sleep stage N2'], [136500000000, b'30', b'Sleep stage N2'], [136800000000, b'30', b'Sleep stage N2'], [137100000000, b'30', b'Sleep stage N2'], [137400000000, b'30', b'Sleep stage N1'], [137700000000, b'30', b'Sleep stage N1'], [138000000000, b'30', b'Sleep stage N1'], [138300000000, b'30', b'Sleep stage N2'], [138600000000, b'30', b'Sleep stage N1'], [138900000000, b'30', b'Sleep stage N1'], [139200000000, b'30', b'Sleep stage N1'], [139500000000, b'30', b'Sleep stage N2'], [139800000000, b'30', b'Sleep stage N1'], [140100000000, b'30', b'Sleep stage N1'], [140400000000, b'30', b'Sleep stage N1'], [140700000000, b'30', b'Sleep stage N1'], [141000000000, b'30', b'Sleep stage R'], [141300000000, b'30', b'Sleep stage R'], [141600000000, b'30', b'Sleep stage R'], [141900000000, b'30', b'Sleep stage R'], [142200000000, b'30', b'Sleep stage N1'], [142500000000, b'30', b'Sleep stage R'], [142800000000, b'30', b'Sleep stage R'], [143100000000, b'30', b'Sleep stage R'], [143400000000, b'30', b'Sleep stage R'], [143700000000, b'30', b'Sleep stage N1'], [144000000000, b'30', b'Sleep stage R'], [144300000000, b'30', b'Sleep stage R'], [144600000000, b'30', b'Sleep stage R'], [144900000000, b'30', b'Sleep stage R'], [145200000000, b'30', b'Sleep stage R'], [145500000000, b'30', b'Sleep stage R'], [145800000000, b'30', b'Sleep stage R'], [146100000000, b'30', b'Sleep stage R'], [146400000000, b'30', b'Sleep stage R'], [146700000000, b'30', b'Sleep stage R'], [147000000000, b'30', b'Sleep stage R'], [147300000000, b'30', b'Sleep stage R'], [147600000000, b'30', b'Sleep stage R'], [147900000000, b'30', b'Sleep stage R'], [148200000000, b'30', b'Sleep stage R'], [148500000000, b'30', b'Sleep stage R'], [148800000000, b'30', b'Sleep stage R'], [149100000000, b'30', b'Sleep stage R'], [149400000000, b'30', b'Sleep stage R'], [149700000000, b'30', b'Sleep stage R'], [150000000000, b'30', b'Sleep stage N1'], [150300000000, b'30', b'Sleep stage R'], [150600000000, b'30', b'Sleep stage R'], [150900000000, b'30', b'Sleep stage R'], [151200000000, b'30', b'Sleep stage W'], [151500000000, b'30', b'Sleep stage N1'], [151800000000, b'30', b'Sleep stage N1'], [152100000000, b'30', b'Sleep stage N1'], [152400000000, b'30', b'Sleep stage N1'], [152700000000, b'30', b'Sleep stage N1'], [153000000000, b'30', b'Sleep stage N1'], [153300000000, b'30', b'Sleep stage N1'], [153600000000, b'30', b'Sleep stage N1'], [153900000000, b'30', b'Sleep stage N1'], [154200000000, b'30', b'Sleep stage R'], [154500000000, b'30', b'Sleep stage R'], [154800000000, b'30', b'Sleep stage N1'], [155100000000, b'30', b'Sleep stage R'], [155400000000, b'30', b'Sleep stage N1'], [155700000000, b'30', b'Sleep stage N1'], [156000000000, b'30', b'Sleep stage R'], [156300000000, b'30', b'Sleep stage N1'], [156600000000, b'30', b'Sleep stage N1'], [156900000000, b'30', b'Sleep stage N2'], [157200000000, b'30', b'Sleep stage N2'], [157500000000, b'30', b'Sleep stage N1'], [157800000000, b'30', b'Sleep stage W'], [158100000000, b'30', b'Sleep stage N1'], [158400000000, b'30', b'Sleep stage N2'], [158700000000, b'30', b'Sleep stage N2'], [159000000000, b'30', b'Sleep stage N2'], [159300000000, b'30', b'Sleep stage N2'], [159600000000, b'30', b'Sleep stage N2'], [159900000000, b'30', b'Sleep stage N1'], [160200000000, b'30', b'Sleep stage N1'], [160500000000, b'30', b'Sleep stage N2'], [160800000000, b'30', b'Sleep stage N1'], [161100000000, b'30', b'Sleep stage N1'], [161400000000, b'30', b'Sleep stage N1'], [161700000000, b'30', b'Sleep stage N1'], [162000000000, b'30', b'Sleep stage N1'], [162300000000, b'30', b'Sleep stage N2'], [162600000000, b'30', b'Sleep stage N2'], [162900000000, b'30', b'Sleep stage N1'], [163200000000, b'30', b'Sleep stage N2'], [163500000000, b'30', b'Sleep stage N1'], [163800000000, b'30', b'Sleep stage N1'], [164100000000, b'30', b'Sleep stage N1'], [164400000000, b'30', b'Sleep stage N2'], [164700000000, b'30', b'Sleep stage N2'], [165000000000, b'30', b'Sleep stage N2'], [165300000000, b'30', b'Sleep stage N1'], [165600000000, b'30', b'Sleep stage N1'], [165900000000, b'30', b'Sleep stage N2'], [166200000000, b'30', b'Sleep stage N2'], [166500000000, b'30', b'Sleep stage N2'], [166800000000, b'30', b'Sleep stage N2'], [167100000000, b'30', b'Sleep stage W'], [167400000000, b'30', b'Sleep stage W'], [167700000000, b'30', b'Sleep stage W'], [168000000000, b'30', b'Sleep stage N1'], [168300000000, b'30', b'Sleep stage N1'], [168600000000, b'30', b'Sleep stage N1'], [168900000000, b'30', b'Sleep stage N1'], [169200000000, b'30', b'Sleep stage N1'], [169500000000, b'30', b'Sleep stage N1'], [169800000000, b'30', b'Sleep stage N1'], [170100000000, b'30', b'Sleep stage N1'], [170400000000, b'30', b'Sleep stage N1'], [170700000000, b'30', b'Sleep stage N2'], [171000000000, b'30', b'Sleep stage N1'], [171300000000, b'30', b'Sleep stage N1'], [171600000000, b'30', b'Sleep stage N1'], [171900000000, b'30', b'Sleep stage N1'], [172200000000, b'30', b'Sleep stage N2'], [172500000000, b'30', b'Sleep stage N2'], [172800000000, b'30', b'Sleep stage N2'], [173100000000, b'30', b'Sleep stage N2'], [173400000000, b'30', b'Sleep stage N2'], [173700000000, b'30', b'Sleep stage N2'], [174000000000, b'30', b'Sleep stage N2'], [174300000000, b'30', b'Sleep stage N2'], [174600000000, b'30', b'Sleep stage N2'], [174900000000, b'30', b'Sleep stage N2'], [175200000000, b'30', b'Sleep stage N2'], [175500000000, b'30', b'Sleep stage N2'], [175800000000, b'30', b'Sleep stage N2'], [176100000000, b'30', b'Sleep stage N2'], [176400000000, b'30', b'Sleep stage N2'], [176700000000, b'30', b'Sleep stage N1'], [177000000000, b'30', b'Sleep stage N1'], [177300000000, b'30', b'Sleep stage N1'], [177600000000, b'30', b'Sleep stage N1'], [177900000000, b'30', b'Sleep stage N1'], [178200000000, b'30', b'Sleep stage N2'], [178500000000, b'30', b'Sleep stage N2'], [178800000000, b'30', b'Sleep stage N2'], [179100000000, b'30', b'Sleep stage N1'], [179400000000, b'30', b'Sleep stage N1'], [179700000000, b'30', b'Sleep stage N2'], [180000000000, b'30', b'Sleep stage N1'], [180300000000, b'30', b'Sleep stage N1'], [180600000000, b'30', b'Sleep stage N1'], [180900000000, b'30', b'Sleep stage N1'], [181200000000, b'30', b'Sleep stage N1'], [181500000000, b'30', b'Sleep stage N2'], [181800000000, b'30', b'Sleep stage N2'], [182100000000, b'30', b'Sleep stage N2'], [182400000000, b'30', b'Sleep stage N2'], [182700000000, b'30', b'Sleep stage N2'], [183000000000, b'30', b'Sleep stage N2'], [183300000000, b'30', b'Sleep stage N2'], [183600000000, b'30', b'Sleep stage N2'], [183900000000, b'30', b'Sleep stage N2'], [184200000000, b'30', b'Sleep stage N2'], [184500000000, b'30', b'Sleep stage N2'], [184800000000, b'30', b'Sleep stage N2'], [185100000000, b'30', b'Sleep stage N2'], [185400000000, b'30', b'Sleep stage N2'], [185700000000, b'30', b'Sleep stage N2'], [186000000000, b'30', b'Sleep stage N2'], [186300000000, b'30', b'Sleep stage N2'], [186600000000, b'30', b'Sleep stage N2'], [186900000000, b'30', b'Sleep stage N2'], [187200000000, b'30', b'Sleep stage N2'], [187500000000, b'30', b'Sleep stage N3'], [187800000000, b'30', b'Sleep stage N2'], [188100000000, b'30', b'Sleep stage N3'], [188400000000, b'30', b'Sleep stage N3'], [188700000000, b'30', b'Sleep stage N3'], [189000000000, b'30', b'Sleep stage N3'], [189300000000, b'30', b'Sleep stage N1'], [189600000000, b'30', b'Sleep stage N1'], [189900000000, b'30', b'Sleep stage N2'], [190200000000, b'30', b'Sleep stage N2'], [190500000000, b'30', b'Sleep stage N2'], [190800000000, b'30', b'Sleep stage N2'], [191100000000, b'30', b'Sleep stage N2'], [191400000000, b'30', b'Sleep stage N2'], [191700000000, b'30', b'Sleep stage N2'], [192000000000, b'30', b'Sleep stage N2'], [192300000000, b'30', b'Sleep stage N2'], [192600000000, b'30', b'Sleep stage N2'], [192900000000, b'30', b'Sleep stage N1'], [193200000000, b'30', b'Sleep stage N1'], [193500000000, b'30', b'Sleep stage W'], [193800000000, b'30', b'Sleep stage N1'], [194100000000, b'30', b'Sleep stage N1'], [194400000000, b'30', b'Sleep stage N1'], [194700000000, b'30', b'Sleep stage N2'], [195000000000, b'30', b'Sleep stage N2'], [195300000000, b'30', b'Sleep stage N2'], [195600000000, b'30', b'Sleep stage N1'], [195900000000, b'30', b'Sleep stage N2'], [196200000000, b'30', b'Sleep stage R'], [196500000000, b'30', b'Sleep stage R'], [196800000000, b'30', b'Sleep stage R'], [197100000000, b'30', b'Sleep stage N1'], [197400000000, b'30', b'Sleep stage R'], [197700000000, b'30', b'Sleep stage R'], [198000000000, b'30', b'Sleep stage R'], [198300000000, b'30', b'Sleep stage R'], [198600000000, b'30', b'Sleep stage R'], [198900000000, b'30', b'Sleep stage R'], [199200000000, b'30', b'Sleep stage R'], [199500000000, b'30', b'Sleep stage R'], [199800000000, b'30', b'Sleep stage R'], [200100000000, b'30', b'Sleep stage R'], [200400000000, b'30', b'Sleep stage R'], [200700000000, b'30', b'Sleep stage N1'], [201000000000, b'30', b'Sleep stage N1'], [201300000000, b'30', b'Sleep stage N1'], [201600000000, b'30', b'Sleep stage R'], [201900000000, b'30', b'Sleep stage R'], [202200000000, b'30', b'Sleep stage N1'], [202500000000, b'30', b'Sleep stage R'], [202800000000, b'30', b'Sleep stage R'], [203100000000, b'30', b'Sleep stage N1'], [203400000000, b'30', b'Sleep stage R'], [203700000000, b'30', b'Sleep stage R'], [204000000000, b'30', b'Sleep stage N1'], [204300000000, b'30', b'Sleep stage N1'], [204600000000, b'30', b'Sleep stage R'], [204900000000, b'30', b'Sleep stage R'], [205200000000, b'30', b'Sleep stage N1'], [205500000000, b'30', b'Sleep stage R'], [205800000000, b'30', b'Sleep stage R'], [206100000000, b'30', b'Sleep stage N1'], [206400000000, b'30', b'Sleep stage N1'], [206700000000, b'30', b'Sleep stage R'], [207000000000, b'30', b'Sleep stage R'], [207300000000, b'30', b'Sleep stage N1'], [207600000000, b'30', b'Sleep stage N1'], [207900000000, b'30', b'Sleep stage R'], [208200000000, b'30', b'Sleep stage W'], [208500000000, b'30', b'Sleep stage N1'], [208800000000, b'30', b'Sleep stage N1'], [209100000000, b'30', b'Sleep stage N1'], [209400000000, b'30', b'Sleep stage N1'], [209700000000, b'30', b'Sleep stage N1'], [210000000000, b'30', b'Sleep stage R'], [210300000000, b'30', b'Sleep stage R'], [210600000000, b'30', b'Sleep stage N1'], [210900000000, b'30', b'Sleep stage N2'], [211200000000, b'30', b'Sleep stage N2'], [211500000000, b'30', b'Sleep stage N2'], [211800000000, b'30', b'Sleep stage N2'], [212100000000, b'30', b'Sleep stage N2'], [212400000000, b'30', b'Sleep stage N2'], [212700000000, b'30', b'Sleep stage N2'], [213000000000, b'30', b'Sleep stage N2'], [213300000000, b'30', b'Sleep stage N2'], [213600000000, b'30', b'Sleep stage N3'], [213900000000, b'30', b'Sleep stage N3'], [214200000000, b'30', b'Sleep stage N3'], [214500000000, b'30', b'Sleep stage N3'], [214800000000, b'30', b'Sleep stage N3'], [215100000000, b'30', b'Sleep stage N3'], [215400000000, b'30', b'Sleep stage N3'], [215700000000, b'30', b'Sleep stage N3'], [216000000000, b'30', b'Sleep stage N3'], [216300000000, b'30', b'Sleep stage N3'], [216600000000, b'30', b'Sleep stage N3'], [216900000000, b'30', b'Sleep stage N3'], [217200000000, b'30', b'Sleep stage N3'], [217500000000, b'30', b'Sleep stage N3'], [217800000000, b'30', b'Sleep stage N3'], [218100000000, b'30', b'Sleep stage N3'], [218400000000, b'30', b'Sleep stage N3'], [218700000000, b'30', b'Sleep stage N3'], [219000000000, b'30', b'Sleep stage N3'], [219300000000, b'30', b'Sleep stage N3'], [219600000000, b'30', b'Sleep stage N3'], [219900000000, b'30', b'Sleep stage N3'], [220200000000, b'30', b'Sleep stage N2'], [220500000000, b'30', b'Sleep stage N2'], [220800000000, b'30', b'Sleep stage N1'], [221100000000, b'30', b'Sleep stage N1'], [221400000000, b'30', b'Sleep stage N1'], [221700000000, b'30', b'Sleep stage N1'], [222000000000, b'30', b'Sleep stage N1'], [222300000000, b'30', b'Sleep stage W'], [222600000000, b'30', b'Sleep stage W'], [222900000000, b'30', b'Sleep stage N1'], [223200000000, b'30', b'Sleep stage N1'], [223500000000, b'30', b'Sleep stage N1'], [223800000000, b'30', b'Sleep stage N1'], [224100000000, b'30', b'Sleep stage W'], [224400000000, b'30', b'Sleep stage W'], [224700000000, b'30', b'Sleep stage W'], [225000000000, b'30', b'Sleep stage W'], [225300000000, b'30', b'Sleep stage W'], [225600000000, b'30', b'Sleep stage W'], [225900000000, b'30', b'Sleep stage W'], [226200000000, b'30', b'Sleep stage N1'], [226500000000, b'30', b'Sleep stage N1'], [226800000000, b'30', b'Sleep stage N1'], [227100000000, b'30', b'Sleep stage W'], [227400000000, b'30', b'Sleep stage W'], [227700000000, b'30', b'Sleep stage W'], [228000000000, b'30', b'Sleep stage W'], [228300000000, b'30', b'Sleep stage N1'], [228600000000, b'30', b'Sleep stage W'], [228900000000, b'30', b'Sleep stage N1'], [229200000000, b'30', b'Sleep stage N1'], [229500000000, b'30', b'Sleep stage W'], [229800000000, b'30', b'Sleep stage W'], [230100000000, b'30', b'Sleep stage W'], [230400000000, b'30', b'Sleep stage W'], [230700000000, b'30', b'Sleep stage N1'], [231000000000, b'30', b'Sleep stage N1'], [231300000000, b'30', b'Sleep stage N1'], [231597000000, b'0', b'Lights on@@SaO2'], [231600000000, b'30', b'Sleep stage W']]\n",
            "775\n"
          ]
        }
      ],
      "source": [
        "edfl = pyedflib.EdfReader(labels[0])\n",
        "print(\"Anotation:\"+str(edfl.read_annotation()))\n",
        "print(len(edfl.read_annotation()))"
      ]
    },
    {
      "cell_type": "code",
      "execution_count": null,
      "metadata": {
        "id": "XaQNqeu3a3R4"
      },
      "outputs": [],
      "source": [
        "(1초당 256개의 진폭데이터)가 60 0000000"
      ]
    },
    {
      "cell_type": "markdown",
      "metadata": {
        "id": "L0M9eyYXt6RH"
      },
      "source": [
        "#기타"
      ]
    },
    {
      "cell_type": "code",
      "execution_count": null,
      "metadata": {
        "colab": {
          "base_uri": "https://localhost:8080/"
        },
        "id": "SnwahiE2WBi-",
        "outputId": "817693d6-450b-4b68-d7da-97dce9b79cef"
      },
      "outputs": [
        {
          "name": "stdout",
          "output_type": "stream",
          "text": [
            "Collecting mne\n",
            "  Downloading mne-1.0.2-py3-none-any.whl (7.5 MB)\n",
            "\u001b[K     |████████████████████████████████| 7.5 MB 25.9 MB/s \n",
            "\u001b[?25hRequirement already satisfied: numpy>=1.15.4 in /usr/local/lib/python3.7/dist-packages (from mne) (1.21.6)\n",
            "Requirement already satisfied: packaging in /usr/local/lib/python3.7/dist-packages (from mne) (21.3)\n",
            "Requirement already satisfied: scipy>=1.1.0 in /usr/local/lib/python3.7/dist-packages (from mne) (1.4.1)\n",
            "Requirement already satisfied: jinja2 in /usr/local/lib/python3.7/dist-packages (from mne) (2.11.3)\n",
            "Requirement already satisfied: matplotlib in /usr/local/lib/python3.7/dist-packages (from mne) (3.2.2)\n",
            "Requirement already satisfied: decorator in /usr/local/lib/python3.7/dist-packages (from mne) (4.4.2)\n",
            "Requirement already satisfied: pooch>=1.5 in /usr/local/lib/python3.7/dist-packages (from mne) (1.6.0)\n",
            "Requirement already satisfied: tqdm in /usr/local/lib/python3.7/dist-packages (from mne) (4.64.0)\n",
            "Requirement already satisfied: appdirs>=1.3.0 in /usr/local/lib/python3.7/dist-packages (from pooch>=1.5->mne) (1.4.4)\n",
            "Requirement already satisfied: requests>=2.19.0 in /usr/local/lib/python3.7/dist-packages (from pooch>=1.5->mne) (2.23.0)\n",
            "Requirement already satisfied: pyparsing!=3.0.5,>=2.0.2 in /usr/local/lib/python3.7/dist-packages (from packaging->mne) (3.0.8)\n",
            "Requirement already satisfied: certifi>=2017.4.17 in /usr/local/lib/python3.7/dist-packages (from requests>=2.19.0->pooch>=1.5->mne) (2021.10.8)\n",
            "Requirement already satisfied: chardet<4,>=3.0.2 in /usr/local/lib/python3.7/dist-packages (from requests>=2.19.0->pooch>=1.5->mne) (3.0.4)\n",
            "Requirement already satisfied: idna<3,>=2.5 in /usr/local/lib/python3.7/dist-packages (from requests>=2.19.0->pooch>=1.5->mne) (2.10)\n",
            "Requirement already satisfied: urllib3!=1.25.0,!=1.25.1,<1.26,>=1.21.1 in /usr/local/lib/python3.7/dist-packages (from requests>=2.19.0->pooch>=1.5->mne) (1.24.3)\n",
            "Requirement already satisfied: MarkupSafe>=0.23 in /usr/local/lib/python3.7/dist-packages (from jinja2->mne) (2.0.1)\n",
            "Requirement already satisfied: cycler>=0.10 in /usr/local/lib/python3.7/dist-packages (from matplotlib->mne) (0.11.0)\n",
            "Requirement already satisfied: python-dateutil>=2.1 in /usr/local/lib/python3.7/dist-packages (from matplotlib->mne) (2.8.2)\n",
            "Requirement already satisfied: kiwisolver>=1.0.1 in /usr/local/lib/python3.7/dist-packages (from matplotlib->mne) (1.4.2)\n",
            "Requirement already satisfied: typing-extensions in /usr/local/lib/python3.7/dist-packages (from kiwisolver>=1.0.1->matplotlib->mne) (4.2.0)\n",
            "Requirement already satisfied: six>=1.5 in /usr/local/lib/python3.7/dist-packages (from python-dateutil>=2.1->matplotlib->mne) (1.15.0)\n",
            "Installing collected packages: mne\n",
            "Successfully installed mne-1.0.2\n",
            "\u001b[31mERROR: Could not find a version that satisfies the requirement mne.io (from versions: none)\u001b[0m\n",
            "\u001b[31mERROR: No matching distribution found for mne.io\u001b[0m\n"
          ]
        }
      ],
      "source": [
        "!pip install mne  \n",
        "!pip install mne.io"
      ]
    },
    {
      "cell_type": "code",
      "execution_count": null,
      "metadata": {
        "colab": {
          "base_uri": "https://localhost:8080/"
        },
        "id": "7hhuiCVOWTyu",
        "outputId": "2dba4078-13e9-439d-c2f1-91df59f9aa69"
      },
      "outputs": [
        {
          "name": "stdout",
          "output_type": "stream",
          "text": [
            "\u001b[31mERROR: Could not find a version that satisfies the requirement dhedfreader (from versions: none)\u001b[0m\n",
            "\u001b[31mERROR: No matching distribution found for dhedfreader\u001b[0m\n"
          ]
        }
      ],
      "source": [
        ""
      ]
    },
    {
      "cell_type": "code",
      "execution_count": null,
      "metadata": {
        "colab": {
          "base_uri": "https://localhost:8080/",
          "height": 390
        },
        "id": "jYGl-oxdDW8l",
        "outputId": "a2935746-5646-4f13-d03e-152cb6824d80"
      },
      "outputs": [
        {
          "ename": "ModuleNotFoundError",
          "evalue": "ignored",
          "output_type": "error",
          "traceback": [
            "\u001b[0;31m---------------------------------------------------------------------------\u001b[0m",
            "\u001b[0;31mModuleNotFoundError\u001b[0m                       Traceback (most recent call last)",
            "\u001b[0;32m<ipython-input-4-9a7b7ee54066>\u001b[0m in \u001b[0;36m<module>\u001b[0;34m()\u001b[0m\n\u001b[1;32m     15\u001b[0m \u001b[0;32mfrom\u001b[0m \u001b[0mmne\u001b[0m\u001b[0;34m.\u001b[0m\u001b[0mio\u001b[0m \u001b[0;32mimport\u001b[0m \u001b[0mconcatenate_raws\u001b[0m\u001b[0;34m,\u001b[0m \u001b[0mread_raw_edf\u001b[0m\u001b[0;34m\u001b[0m\u001b[0;34m\u001b[0m\u001b[0m\n\u001b[1;32m     16\u001b[0m \u001b[0;34m\u001b[0m\u001b[0m\n\u001b[0;32m---> 17\u001b[0;31m \u001b[0;32mimport\u001b[0m \u001b[0mdhedfreader\u001b[0m\u001b[0;34m\u001b[0m\u001b[0;34m\u001b[0m\u001b[0m\n\u001b[0m\u001b[1;32m     18\u001b[0m \u001b[0;34m\u001b[0m\u001b[0m\n\u001b[1;32m     19\u001b[0m \u001b[0;34m\u001b[0m\u001b[0m\n",
            "\u001b[0;31mModuleNotFoundError\u001b[0m: No module named 'dhedfreader'",
            "",
            "\u001b[0;31m---------------------------------------------------------------------------\u001b[0;32m\nNOTE: If your import is failing due to a missing package, you can\nmanually install dependencies using either !pip or !apt.\n\nTo view examples of installing some common dependencies, click the\n\"Open Examples\" button below.\n\u001b[0;31m---------------------------------------------------------------------------\u001b[0m\n"
          ]
        }
      ],
      "source": [
        "import argparse\n",
        "import glob\n",
        "import math\n",
        "import ntpath\n",
        "import os\n",
        "import shutil\n",
        "import urllib.request, urllib.parse, urllib.error\n",
        "import urllib.request, urllib.error, urllib.parse\n",
        "\n",
        "from datetime import datetime\n",
        "\n",
        "import numpy as np\n",
        "\n",
        "from mne import Epochs, pick_types, find_events\n",
        "from mne.io import concatenate_raws, read_raw_edf\n",
        "\n",
        "import dhedfreader\n",
        "\n",
        "\n",
        "# Label values\n",
        "W = 0\n",
        "N1 = 1\n",
        "N2 = 2\n",
        "N3 = 3\n",
        "REM = 4\n",
        "UNKNOWN = 5\n",
        "\n",
        "stage_dict = {\n",
        "    \"W\": W,\n",
        "    \"N1\": N1,\n",
        "    \"N2\": N2,\n",
        "    \"N3\": N3,\n",
        "    \"REM\": REM,\n",
        "    \"UNKNOWN\": UNKNOWN\n",
        "}\n",
        "\n",
        "class_dict = {\n",
        "    0: \"W\",\n",
        "    1: \"N1\",\n",
        "    2: \"N2\",\n",
        "    3: \"N3\",\n",
        "    4: \"REM\",\n",
        "    5: \"UNKNOWN\"\n",
        "}\n",
        "\n",
        "ann2label = {\n",
        "    \"Sleep stage W\": 0,\n",
        "    \"Sleep stage 1\": 1,\n",
        "    \"Sleep stage 2\": 2,\n",
        "    \"Sleep stage 3\": 3,\n",
        "    \"Sleep stage 4\": 3,\n",
        "    \"Sleep stage R\": 4,\n",
        "    \"Sleep stage ?\": 5,\n",
        "    \"Movement time\": 5\n",
        "}\n",
        "\n",
        "EPOCH_SEC_SIZE = 30\n",
        "\n",
        "\n",
        "def main():\n",
        "    parser = argparse.ArgumentParser()\n",
        "    parser.add_argument(\"--data_dir\", type=str, default=\"/content/drive/MyDrive/HMC\",\n",
        "                        help=\"File path to the CSV or NPY file that contains walking data.\")\n",
        "    parser.add_argument(\"--output_dir\", type=str, default=\"/content/drive/MyDrive/HMC/HMC_output\",\n",
        "                        help=\"Directory where to save outputs.\")\n",
        "    parser.add_argument(\"--select_ch\", type=str, default=\"ECG\",\n",
        "                        help=\"File path to the trained model used to estimate walking speeds.\")\n",
        "    args = parser.parse_args()\n",
        "\n",
        "    # Output dir\n",
        "    if not os.path.exists(args.output_dir):\n",
        "        os.makedirs(args.output_dir)\n",
        "    else:\n",
        "        shutil.rmtree(args.output_dir)\n",
        "        os.makedirs(args.output_dir)\n",
        "\n",
        "    # Select channel\n",
        "    select_ch = args.select_ch\n",
        "\n",
        "    # Read raw and annotation EDF files\n",
        "    psg_fnames = glob.glob(os.path.join(args.data_dir, \"*.edf\"))\n",
        "    ann_fnames = glob.glob(os.path.join(args.data_dir, \"*sleepscoring.edf\"))\n",
        "    psg_fnames.sort()\n",
        "    ann_fnames.sort()\n",
        "    psg_fnames = np.asarray(psg_fnames)\n",
        "    ann_fnames = np.asarray(ann_fnames)\n",
        "\n",
        "    for i in range(len(psg_fnames)):\n",
        "        # if not \"ST7171J0-PSG.edf\" in psg_fnames[i]:\n",
        "        #     continue\n",
        "\n",
        "        raw = read_raw_edf(psg_fnames[i], preload=True, stim_channel=None)\n",
        "        sampling_rate = raw.info['sfreq']\n",
        "        raw_ch_df = raw.to_data_frame(scaling_time=100.0)[select_ch]\n",
        "        raw_ch_df = raw_ch_df.to_frame()\n",
        "        raw_ch_df.set_index(np.arange(len(raw_ch_df)))\n",
        "\n",
        "        # Get raw header\n",
        "        f = open(psg_fnames[i], 'r', encoding='iso-8859-1')\n",
        "        reader_raw = dhedfreader.BaseEDFReader(f)\n",
        "        reader_raw.read_header()\n",
        "        h_raw = reader_raw.header\n",
        "        f.close()\n",
        "        raw_start_dt = datetime.strptime(h_raw['date_time'], \"%Y-%m-%d %H:%M:%S\")\n",
        "\n",
        "        # Read annotation and its header\n",
        "        f = open(ann_fnames[i], 'r', encoding='iso-8859-1')\n",
        "        reader_ann = dhedfreader.BaseEDFReader(f)\n",
        "        reader_ann.read_header()\n",
        "        h_ann = reader_ann.header\n",
        "        _, _, ann = list(zip(*reader_ann.records()))\n",
        "        f.close()\n",
        "        ann_start_dt = datetime.strptime(h_ann['date_time'], \"%Y-%m-%d %H:%M:%S\")\n",
        "\n",
        "        # Assert that raw and annotation files start at the same time\n",
        "        assert raw_start_dt == ann_start_dt\n",
        "\n",
        "        # Generate label and remove indices\n",
        "        remove_idx = []    # indicies of the data that will be removed\n",
        "        labels = []        # indicies of the data that have labels\n",
        "        label_idx = []\n",
        "        for a in ann[0]:\n",
        "            onset_sec, duration_sec, ann_char = a\n",
        "            ann_str = \"\".join(ann_char)\n",
        "            label = ann2label[ann_str]\n",
        "            if label != UNKNOWN:\n",
        "                if duration_sec % EPOCH_SEC_SIZE != 0:\n",
        "                    raise Exception(\"Something wrong\")\n",
        "                duration_epoch = int(duration_sec / EPOCH_SEC_SIZE)\n",
        "                label_epoch = np.ones(duration_epoch, dtype=np.int) * label\n",
        "                labels.append(label_epoch)\n",
        "                idx = int(onset_sec * sampling_rate) + np.arange(duration_sec * sampling_rate, dtype=np.int)\n",
        "                label_idx.append(idx)\n",
        "\n",
        "                print(\"Include onset:{}, duration:{}, label:{} ({})\".format(\n",
        "                    onset_sec, duration_sec, label, ann_str\n",
        "                ))\n",
        "            else:\n",
        "                idx = int(onset_sec * sampling_rate) + np.arange(duration_sec * sampling_rate, dtype=np.int)\n",
        "                remove_idx.append(idx)\n",
        "\n",
        "                print(\"Remove onset:{}, duration:{}, label:{} ({})\".format(\n",
        "                    onset_sec, duration_sec, label, ann_str\n",
        "                ))\n",
        "        labels = np.hstack(labels)\n",
        "        \n",
        "        print(\"before remove unwanted: {}\".format(np.arange(len(raw_ch_df)).shape))\n",
        "        if len(remove_idx) > 0:\n",
        "            remove_idx = np.hstack(remove_idx)\n",
        "            select_idx = np.setdiff1d(np.arange(len(raw_ch_df)), remove_idx)\n",
        "        else:\n",
        "            select_idx = np.arange(len(raw_ch_df))\n",
        "        print(\"after remove unwanted: {}\".format(select_idx.shape))\n",
        "\n",
        "        # Select only the data with labels\n",
        "        print(\"before intersect label: {}\".format(select_idx.shape))\n",
        "        label_idx = np.hstack(label_idx)\n",
        "        select_idx = np.intersect1d(select_idx, label_idx)\n",
        "        print(\"after intersect label: {}\".format(select_idx.shape))\n",
        "\n",
        "        # Remove extra index\n",
        "        if len(label_idx) > len(select_idx):\n",
        "            print(\"before remove extra labels: {}, {}\".format(select_idx.shape, labels.shape))\n",
        "            extra_idx = np.setdiff1d(label_idx, select_idx)\n",
        "            # Trim the tail\n",
        "            if np.all(extra_idx > select_idx[-1]):\n",
        "                n_trims = len(select_idx) % int(EPOCH_SEC_SIZE * sampling_rate)\n",
        "                n_label_trims = int(math.ceil(n_trims / (EPOCH_SEC_SIZE * sampling_rate)))\n",
        "                select_idx = select_idx[:-n_trims]\n",
        "                labels = labels[:-n_label_trims]\n",
        "            print(\"after remove extra labels: {}, {}\".format(select_idx.shape, labels.shape))\n",
        "\n",
        "        # Remove movement and unknown stages if any\n",
        "        raw_ch = raw_ch_df.values[select_idx]\n",
        "\n",
        "        # Verify that we can split into 30-s epochs\n",
        "        if len(raw_ch) % (EPOCH_SEC_SIZE * sampling_rate) != 0:\n",
        "            raise Exception(\"Something wrong\")\n",
        "        n_epochs = len(raw_ch) / (EPOCH_SEC_SIZE * sampling_rate)\n",
        "\n",
        "        # Get epochs and their corresponding labels\n",
        "        x = np.asarray(np.split(raw_ch, n_epochs)).astype(np.float32)\n",
        "        y = labels.astype(np.int32)\n",
        "\n",
        "        assert len(x) == len(y)\n",
        "\n",
        "        # Select on sleep periods\n",
        "        w_edge_mins = 30\n",
        "        nw_idx = np.where(y != stage_dict[\"W\"])[0]\n",
        "        start_idx = nw_idx[0] - (w_edge_mins * 2)\n",
        "        end_idx = nw_idx[-1] + (w_edge_mins * 2)\n",
        "        if start_idx < 0: start_idx = 0\n",
        "        if end_idx >= len(y): end_idx = len(y) - 1\n",
        "        select_idx = np.arange(start_idx, end_idx+1)\n",
        "        print((\"Data before selection: {}, {}\".format(x.shape, y.shape)))\n",
        "        x = x[select_idx]\n",
        "        y = y[select_idx]\n",
        "        print((\"Data after selection: {}, {}\".format(x.shape, y.shape)))\n",
        "\n",
        "        # Save\n",
        "        filename = ntpath.basename(psg_fnames[i]).replace(\"-PSG.edf\", \".npz\")\n",
        "        save_dict = {\n",
        "            \"x\": x, \n",
        "            \"y\": y, \n",
        "            \"fs\": sampling_rate,\n",
        "            \"ch_label\": select_ch,\n",
        "            \"header_raw\": h_raw,\n",
        "            \"header_annotation\": h_ann,\n",
        "        }\n",
        "        np.savez(os.path.join(args.output_dir, filename), **save_dict)\n",
        "\n",
        "        print(\"\\n=======================================\\n\")\n",
        "\n",
        "\n",
        "if __name__ == \"__main__\":\n",
        "    main()"
      ]
    },
    {
      "cell_type": "markdown",
      "metadata": {
        "id": "Q9WntAD9DnlK"
      },
      "source": [
        ""
      ]
    },
    {
      "cell_type": "markdown",
      "metadata": {
        "id": "07v2YvQeDqub"
      },
      "source": [
        "Importing libraries and initializing variables"
      ]
    },
    {
      "cell_type": "code",
      "execution_count": null,
      "metadata": {
        "colab": {
          "base_uri": "https://localhost:8080/"
        },
        "id": "jfQEH9G7Dquc",
        "outputId": "2e7ca238-dd73-4867-e0d1-0fa23cf53950"
      },
      "outputs": [
        {
          "name": "stdout",
          "output_type": "stream",
          "text": [
            "\u001b[31mERROR: Could not find a version that satisfies the requirement edfreader (from versions: none)\u001b[0m\n",
            "\u001b[31mERROR: No matching distribution found for edfreader\u001b[0m\n"
          ]
        }
      ],
      "source": [
        "!pip install edfreader"
      ]
    },
    {
      "cell_type": "code",
      "execution_count": null,
      "metadata": {
        "colab": {
          "base_uri": "https://localhost:8080/",
          "height": 390
        },
        "id": "gZJiU3yNDque",
        "outputId": "157e2a82-14ef-40ed-b7de-1350c4958174"
      },
      "outputs": [
        {
          "ename": "ModuleNotFoundError",
          "evalue": "ignored",
          "output_type": "error",
          "traceback": [
            "\u001b[0;31m---------------------------------------------------------------------------\u001b[0m",
            "\u001b[0;31mModuleNotFoundError\u001b[0m                       Traceback (most recent call last)",
            "\u001b[0;32m<ipython-input-5-722b08068d55>\u001b[0m in \u001b[0;36m<module>\u001b[0;34m()\u001b[0m\n\u001b[1;32m     10\u001b[0m \u001b[0;32mimport\u001b[0m \u001b[0mmatplotlib\u001b[0m\u001b[0;34m.\u001b[0m\u001b[0mpyplot\u001b[0m \u001b[0;32mas\u001b[0m \u001b[0mplt\u001b[0m\u001b[0;34m\u001b[0m\u001b[0;34m\u001b[0m\u001b[0m\n\u001b[1;32m     11\u001b[0m \u001b[0;32mimport\u001b[0m \u001b[0mseaborn\u001b[0m \u001b[0;32mas\u001b[0m \u001b[0msns\u001b[0m\u001b[0;34m\u001b[0m\u001b[0;34m\u001b[0m\u001b[0m\n\u001b[0;32m---> 12\u001b[0;31m \u001b[0;32mimport\u001b[0m \u001b[0medfreader\u001b[0m\u001b[0;34m\u001b[0m\u001b[0;34m\u001b[0m\u001b[0m\n\u001b[0m\u001b[1;32m     13\u001b[0m \u001b[0;32mimport\u001b[0m \u001b[0mmodels\u001b[0m\u001b[0;34m\u001b[0m\u001b[0;34m\u001b[0m\u001b[0m\n\u001b[1;32m     14\u001b[0m \u001b[0;32mimport\u001b[0m \u001b[0mmne\u001b[0m\u001b[0;34m\u001b[0m\u001b[0;34m\u001b[0m\u001b[0m\n",
            "\u001b[0;31mModuleNotFoundError\u001b[0m: No module named 'edfreader'",
            "",
            "\u001b[0;31m---------------------------------------------------------------------------\u001b[0;32m\nNOTE: If your import is failing due to a missing package, you can\nmanually install dependencies using either !pip or !apt.\n\nTo view examples of installing some common dependencies, click the\n\"Open Examples\" button below.\n\u001b[0;31m---------------------------------------------------------------------------\u001b[0m\n"
          ]
        }
      ],
      "source": [
        "%matplotlib inline\n",
        "\n",
        "import glob\n",
        "import math\n",
        "import ntpath\n",
        "import random, os, sys\n",
        "import numpy as np\n",
        "import pandas as pd\n",
        "import tensorflow as tf\n",
        "import matplotlib.pyplot as plt\n",
        "import seaborn as sns\n",
        "import edfreader\n",
        "import models\n",
        "import mne\n",
        "import pyeeg\n",
        "import warnings\n",
        "warnings.filterwarnings('ignore')\n",
        "\n",
        "from matplotlib.backends.backend_pdf import PdfPages\n",
        "from mne.datasets.sleep_physionet._utils import _fetch_one, _data_path, AGE_SLEEP_RECORDS, _check_subjects\n",
        "from datetime import datetime\n",
        "from mne import Epochs, pick_types, find_events\n",
        "from mne.io import concatenate_raws, read_raw_edf\n",
        "from mne.time_frequency import psd_welch\n",
        "from sklearn.ensemble import RandomForestClassifier\n",
        "from sklearn.metrics import classification_report\n",
        "# from sklearn.pipeline import make_pipeline\n",
        "# from sklearn.preprocessing import FunctionTransformer\n",
        "from tqdm.notebook import tqdm\n",
        "from sklearn.model_selection import train_test_split\n",
        "from tensorflow import keras\n",
        "# from tensorflow.keras import optimizers, losses\n",
        "from tensorflow.keras.utils import to_categorical\n",
        "# from tensorflow.keras.models import Model, load_model\n",
        "# from tensorflow.keras.layers import Input, Conv1D, Dense, Dropout, MaxPool1D, Activation, SpatialDropout1D, GlobalMaxPool1D\n",
        "# from tensorflow.keras.layers import Reshape, LSTM, TimeDistributed, Bidirectional, BatchNormalization, Flatten, RepeatVector\n",
        "# from tensorflow.keras.layers import concatenate\n",
        "# from tensorflow.keras.callbacks import EarlyStopping\n",
        "from tensorflow.keras.callbacks import ModelCheckpoint, ReduceLROnPlateau, CSVLogger\n",
        "from imblearn.over_sampling import SMOTE\n",
        "from sklearn.svm import SVC\n",
        "from sklearn.externals import joblib\n",
        "# from sklearn.preprocessing import StandardScaler\n",
        "# from sklearn.multiclass import OneVsOneClassifier\n",
        "from sklearn.metrics import make_scorer, f1_score, accuracy_score, classification_report, log_loss\n",
        "from sklearn.metrics import roc_auc_score, confusion_matrix, roc_auc_score, roc_curve\n",
        "# from keras.wrappers.scikit_learn import KerasClassifier\n",
        "from sklearn.tree import DecisionTreeClassifier\n",
        "from sklearn.neighbors import KNeighborsClassifier\n",
        "from sklearn.ensemble import RandomForestClassifier, AdaBoostClassifier, GradientBoostingClassifier\n",
        "from sklearn.naive_bayes import GaussianNB\n",
        "from sklearn.discriminant_analysis import LinearDiscriminantAnalysis\n",
        "from sklearn.discriminant_analysis import QuadraticDiscriminantAnalysis\n",
        "from xgboost import XGBClassifier\n",
        "import xgboost\n",
        "\n",
        "VBS = True  # constant boolean to enable/disbale verbose\n",
        "EPOCH_SEC_SIZE = 30  # Epoch duration selection\n",
        "seed = 42  # seed value for the random seeds\n",
        "batch_size = 64\n",
        "number_of_subj = 50\n",
        "\n",
        "# values to label the stages\n",
        "UNKNOWN = -1\n",
        "W = 0\n",
        "N1 = 1\n",
        "N2 = 2\n",
        "N3 = 3\n",
        "REM = 4\n",
        "\n",
        "# making string dictionary for the label values\n",
        "label_dict = {\n",
        "    \"UNKNOWN\"  : UNKNOWN,\n",
        "    \"W\"        : W,\n",
        "    \"N1\"       : N1,\n",
        "    \"N2\"       : N2,\n",
        "    \"N3\"       : N3,\n",
        "    \"REM\"      : REM\n",
        "}\n",
        "\n",
        "# converting from label values to strings \n",
        "class_dict = {\n",
        "    -1: \"UNKNOWN\",\n",
        "    0 : \"W\",\n",
        "    1 : \"N1\",\n",
        "    2 : \"N2\",\n",
        "    3 : \"N3\",\n",
        "    4 : \"REM\"\n",
        "}\n",
        "\n",
        "# annotation dictionary to convert from string to label values\n",
        "annot2label = {\n",
        "    \"Sleep stage ?\": -1,\n",
        "    \"Movement time\": -1,\n",
        "    \"Sleep stage W\": 0,\n",
        "    \"Sleep stage 1\": 1,\n",
        "    \"Sleep stage 2\": 2,\n",
        "    \"Sleep stage 3\": 3,\n",
        "    \"Sleep stage 4\": 3,\n",
        "    \"Sleep stage R\": 4\n",
        "}\n",
        "project_path = os.path.abspath(os.getcwd())  # finding the current project path in windows"
      ]
    },
    {
      "cell_type": "code",
      "execution_count": null,
      "metadata": {
        "colab": {
          "base_uri": "https://localhost:8080/"
        },
        "id": "4BBVfrqpGnpk",
        "outputId": "824ec5a0-23de-4350-8ac4-809f98a85007"
      },
      "outputs": [
        {
          "name": "stdout",
          "output_type": "stream",
          "text": [
            "[1 2 3]\n",
            "[2 1 3]\n"
          ]
        }
      ],
      "source": [
        "mol = np.array([1,2,3])\n",
        "print(mol)\n",
        "mol = mol[np.array([1,0,2])] \n",
        "print(mol)"
      ]
    },
    {
      "cell_type": "markdown",
      "metadata": {
        "id": "telHNoeRDque"
      },
      "source": [
        "Localizing fetch_data function to import all subjects\n"
      ]
    },
    {
      "cell_type": "code",
      "execution_count": null,
      "metadata": {
        "colab": {
          "base_uri": "https://localhost:8080/",
          "height": 244
        },
        "id": "lLilJRdZDque",
        "outputId": "a227c79e-2e23-49bb-c567-149879a03341"
      },
      "outputs": [
        {
          "ename": "NameError",
          "evalue": "ignored",
          "output_type": "error",
          "traceback": [
            "\u001b[0;31m---------------------------------------------------------------------------\u001b[0m",
            "\u001b[0;31mNameError\u001b[0m                                 Traceback (most recent call last)",
            "\u001b[0;32m<ipython-input-4-c12bf2cce2e5>\u001b[0m in \u001b[0;36m<module>\u001b[0;34m()\u001b[0m\n\u001b[1;32m      1\u001b[0m \u001b[0;31m# localized fetch_data function by using mne library\u001b[0m\u001b[0;34m\u001b[0m\u001b[0;34m\u001b[0m\u001b[0;34m\u001b[0m\u001b[0m\n\u001b[1;32m      2\u001b[0m \u001b[0;31m# https://github.com/mne-tools/mne-python/blob/maint/0.20/mne/datasets/sleep_physionet/age.py#L18-L111\u001b[0m\u001b[0;34m\u001b[0m\u001b[0;34m\u001b[0m\u001b[0;34m\u001b[0m\u001b[0m\n\u001b[0;32m----> 3\u001b[0;31m \u001b[0mdata_path\u001b[0m \u001b[0;34m=\u001b[0m \u001b[0m_data_path\u001b[0m\u001b[0;34m\u001b[0m\u001b[0;34m\u001b[0m\u001b[0m\n\u001b[0m\u001b[1;32m      4\u001b[0m \u001b[0mBASE_URL\u001b[0m \u001b[0;34m=\u001b[0m \u001b[0;34m'https://physionet.org/physiobank/database/sleep-edfx/sleep-cassette/'\u001b[0m\u001b[0;34m\u001b[0m\u001b[0;34m\u001b[0m\u001b[0m\n\u001b[1;32m      5\u001b[0m def fetch_data(subjects, recording=[1, 2], path=None, force_update=False,\n",
            "\u001b[0;31mNameError\u001b[0m: name '_data_path' is not defined"
          ]
        }
      ],
      "source": [
        "# localized fetch_data function by using mne library\n",
        "# https://github.com/mne-tools/mne-python/blob/maint/0.20/mne/datasets/sleep_physionet/age.py#L18-L111\n",
        "data_path = _data_path\n",
        "BASE_URL = 'https://physionet.org/physiobank/database/sleep-edfx/sleep-cassette/'\n",
        "def fetch_data(subjects, recording=[1, 2], path=None, force_update=False,\n",
        "               update_path=None, base_url=BASE_URL,\n",
        "               verbose=None):  # noqa: D301\n",
        "    records = np.loadtxt(AGE_SLEEP_RECORDS,\n",
        "                         skiprows=1,\n",
        "                         delimiter=',',\n",
        "                         usecols=(0, 1, 2, 6, 7),\n",
        "                         dtype={'names': ('subject', 'record', 'type', 'sha',\n",
        "                                          'fname'),\n",
        "                                'formats': ('<i2', 'i1', '<S9', 'S40', '<S22')}\n",
        "                         )\n",
        "    psg_records = records[np.where(records['type'] == b'PSG')]\n",
        "    hyp_records = records[np.where(records['type'] == b'Hypnogram')]\n",
        "\n",
        "    path = data_path(path=path, update_path=update_path)\n",
        "    params = [path, force_update, base_url]\n",
        "    fnames = []\n",
        "    for subject in subjects:\n",
        "        for idx in np.where(psg_records['subject'] == subject)[0]:\n",
        "            if psg_records['record'][idx] in recording:\n",
        "                psg_fname = _fetch_one(psg_records['fname'][idx].decode(),\n",
        "                                       psg_records['sha'][idx].decode(),\n",
        "                                       *params)\n",
        "                hyp_fname = _fetch_one(hyp_records['fname'][idx].decode(),\n",
        "                                       hyp_records['sha'][idx].decode(),\n",
        "                                       *params)\n",
        "                fnames.append([psg_fname, hyp_fname])\n",
        "\n",
        "    return fnames"
      ]
    },
    {
      "cell_type": "code",
      "execution_count": null,
      "metadata": {
        "colab": {
          "base_uri": "https://localhost:8080/"
        },
        "id": "I5YWxw7ZDquf",
        "outputId": "009f0900-ec4b-4f9d-c0ce-b3038cfc4522"
      },
      "outputs": [
        {
          "name": "stdout",
          "output_type": "stream",
          "text": [
            "['/content/drive/MyDrive/HMC/SN001_sleepscoring.edf', '/content/drive/MyDrive/HMC/SN001.edf']\n",
            "['/content/drive/MyDrive/HMC/SN001.edf']\n",
            "#########\n",
            "['/content/drive/MyDrive/HMC/SN001_sleepscoring.edf']\n",
            "#########\n",
            "(array([[ 1.71267262e+01,  1.82253758e+01,  1.75906004e+01, ...,\n",
            "        -1.22072175e-02, -1.22072175e-02, -1.22072175e-02],\n",
            "       [ 1.47585260e+01,  1.55642023e+01,  1.06324865e+01, ...,\n",
            "        -1.22072175e-02, -1.22072175e-02, -1.22072175e-02],\n",
            "       [ 3.83428702e+01,  3.71221485e+01,  2.41092546e+01, ...,\n",
            "        -1.22072175e-02, -1.22072175e-02, -1.22072175e-02],\n",
            "       ...,\n",
            "       [ 3.74761578e+00,  1.09987030e+01,  2.16433967e+01, ...,\n",
            "        -1.22072175e-02, -1.22072175e-02, -1.22072175e-02],\n",
            "       [-9.28969253e+00, -1.09010452e+01, -9.50942245e+00, ...,\n",
            "        -1.22072175e-02, -1.22072175e-02, -1.22072175e-02],\n",
            "       [ 7.37193866e+01,  7.09361410e+01,  6.93980316e+01, ...,\n",
            "        -3.66216526e-02, -3.66216526e-02, -3.66216526e-02]]), [{'label': 'EEG F4-M1', 'dimension': 'uV', 'sample_rate': 256.0, 'sample_frequency': 256.0, 'physical_max': 800.0, 'physical_min': -800.0, 'digital_max': 32767, 'digital_min': -32768, 'prefilter': 'HP:0.2Hz LP:35.0Hz', 'transducer': 'AgAgCl electrodes'}, {'label': 'EEG C4-M1', 'dimension': 'uV', 'sample_rate': 256.0, 'sample_frequency': 256.0, 'physical_max': 800.0, 'physical_min': -800.0, 'digital_max': 32767, 'digital_min': -32768, 'prefilter': 'HP:0.2Hz LP:35.0Hz', 'transducer': 'AgAgCl electrodes'}, {'label': 'EEG O2-M1', 'dimension': 'uV', 'sample_rate': 256.0, 'sample_frequency': 256.0, 'physical_max': 800.0, 'physical_min': -800.0, 'digital_max': 32767, 'digital_min': -32768, 'prefilter': 'HP:0.2Hz LP:35.0Hz', 'transducer': 'AgAgCl electrodes'}, {'label': 'EEG C3-M2', 'dimension': 'uV', 'sample_rate': 256.0, 'sample_frequency': 256.0, 'physical_max': 800.0, 'physical_min': -800.0, 'digital_max': 32767, 'digital_min': -32768, 'prefilter': 'HP:0.2Hz LP:35.0Hz', 'transducer': 'AgAgCl electrodes'}, {'label': 'EMG chin', 'dimension': 'uV', 'sample_rate': 256.0, 'sample_frequency': 256.0, 'physical_max': 800.0, 'physical_min': -800.0, 'digital_max': 32767, 'digital_min': -32768, 'prefilter': 'HP:1.0Hz LP:150.0Hz', 'transducer': 'AgAgCl electrodes'}, {'label': 'EOG E1-M2', 'dimension': 'uV', 'sample_rate': 256.0, 'sample_frequency': 256.0, 'physical_max': 800.0, 'physical_min': -800.0, 'digital_max': 32767, 'digital_min': -32768, 'prefilter': 'HP:0.2Hz LP:35.0Hz', 'transducer': 'AgAgCl electrodes'}, {'label': 'EOG E2-M2', 'dimension': 'uV', 'sample_rate': 256.0, 'sample_frequency': 256.0, 'physical_max': 800.0, 'physical_min': -800.0, 'digital_max': 32767, 'digital_min': -32768, 'prefilter': 'HP:0.2Hz LP:35.0Hz', 'transducer': 'AgAgCl electrodes'}, {'label': 'ECG', 'dimension': 'uV', 'sample_rate': 256.0, 'sample_frequency': 256.0, 'physical_max': 2400.0, 'physical_min': -2400.0, 'digital_max': 32767, 'digital_min': -32768, 'prefilter': 'HP:1.0Hz LP:150.0Hz', 'transducer': 'AgAgCl electrodes'}], {'technician': '', 'recording_additional': '', 'patientname': '', 'patient_additional': '', 'patientcode': '', 'equipment': '', 'admincode': '', 'gender': '', 'startdate': datetime.datetime(2001, 1, 1, 23, 59, 30), 'birthdate': '', 'annotations': []})\n",
            "(array([], dtype=float64), [], {'technician': '', 'recording_additional': '', 'patientname': 'X', 'patient_additional': '', 'patientcode': 'SN001', 'equipment': '', 'admincode': '', 'gender': '', 'startdate': datetime.datetime(2001, 1, 1, 23, 59, 30), 'birthdate': '', 'annotations': [[0.0, 30.0, 'Sleep stage W'], [30.0, 30.0, 'Sleep stage W'], [33.43, 0.0, 'Lights off@@EEG F4-A1'], [60.0, 30.0, 'Sleep stage W'], [90.0, 30.0, 'Sleep stage W'], [120.0, 30.0, 'Sleep stage W'], [150.0, 30.0, 'Sleep stage W'], [180.0, 30.0, 'Sleep stage W'], [210.0, 30.0, 'Sleep stage W'], [240.0, 30.0, 'Sleep stage N1'], [270.0, 30.0, 'Sleep stage N1'], [300.0, 30.0, 'Sleep stage N1'], [330.0, 30.0, 'Sleep stage N1'], [360.0, 30.0, 'Sleep stage N1'], [390.0, 30.0, 'Sleep stage N1'], [420.0, 30.0, 'Sleep stage N1'], [450.0, 30.0, 'Sleep stage N1'], [480.0, 30.0, 'Sleep stage N2'], [510.0, 30.0, 'Sleep stage N1'], [540.0, 30.0, 'Sleep stage N2'], [570.0, 30.0, 'Sleep stage N2'], [600.0, 30.0, 'Sleep stage N2'], [630.0, 30.0, 'Sleep stage N2'], [660.0, 30.0, 'Sleep stage N2'], [690.0, 30.0, 'Sleep stage N2'], [720.0, 30.0, 'Sleep stage N1'], [750.0, 30.0, 'Sleep stage N1'], [780.0, 30.0, 'Sleep stage W'], [810.0, 30.0, 'Sleep stage N1'], [840.0, 30.0, 'Sleep stage N1'], [870.0, 30.0, 'Sleep stage N1'], [900.0, 30.0, 'Sleep stage N1'], [930.0, 30.0, 'Sleep stage N1'], [960.0, 30.0, 'Sleep stage N1'], [990.0, 30.0, 'Sleep stage N2'], [1020.0, 30.0, 'Sleep stage N1'], [1050.0, 30.0, 'Sleep stage W'], [1080.0, 30.0, 'Sleep stage W'], [1110.0, 30.0, 'Sleep stage W'], [1140.0, 30.0, 'Sleep stage W'], [1170.0, 30.0, 'Sleep stage N1'], [1200.0, 30.0, 'Sleep stage N1'], [1230.0, 30.0, 'Sleep stage N1'], [1260.0, 30.0, 'Sleep stage N1'], [1290.0, 30.0, 'Sleep stage N1'], [1320.0, 30.0, 'Sleep stage N1'], [1350.0, 30.0, 'Sleep stage N1'], [1380.0, 30.0, 'Sleep stage N1'], [1410.0, 30.0, 'Sleep stage N1'], [1440.0, 30.0, 'Sleep stage N1'], [1470.0, 30.0, 'Sleep stage N1'], [1500.0, 30.0, 'Sleep stage N1'], [1530.0, 30.0, 'Sleep stage N2'], [1560.0, 30.0, 'Sleep stage N2'], [1590.0, 30.0, 'Sleep stage N2'], [1620.0, 30.0, 'Sleep stage N2'], [1650.0, 30.0, 'Sleep stage N2'], [1680.0, 30.0, 'Sleep stage N2'], [1710.0, 30.0, 'Sleep stage N2'], [1740.0, 30.0, 'Sleep stage N2'], [1770.0, 30.0, 'Sleep stage N2'], [1800.0, 30.0, 'Sleep stage N2'], [1830.0, 30.0, 'Sleep stage N2'], [1860.0, 30.0, 'Sleep stage N2'], [1890.0, 30.0, 'Sleep stage N2'], [1920.0, 30.0, 'Sleep stage N2'], [1950.0, 30.0, 'Sleep stage N2'], [1980.0, 30.0, 'Sleep stage N2'], [2010.0, 30.0, 'Sleep stage N2'], [2040.0, 30.0, 'Sleep stage N2'], [2070.0, 30.0, 'Sleep stage N2'], [2100.0, 30.0, 'Sleep stage N2'], [2130.0, 30.0, 'Sleep stage N2'], [2160.0, 30.0, 'Sleep stage N2'], [2190.0, 30.0, 'Sleep stage N2'], [2220.0, 30.0, 'Sleep stage N2'], [2250.0, 30.0, 'Sleep stage N2'], [2280.0, 30.0, 'Sleep stage N2'], [2310.0, 30.0, 'Sleep stage N2'], [2340.0, 30.0, 'Sleep stage N2'], [2370.0, 30.0, 'Sleep stage N2'], [2400.0, 30.0, 'Sleep stage N2'], [2430.0, 30.0, 'Sleep stage N2'], [2460.0, 30.0, 'Sleep stage N1'], [2490.0, 30.0, 'Sleep stage N2'], [2520.0, 30.0, 'Sleep stage N2'], [2550.0, 30.0, 'Sleep stage N2'], [2580.0, 30.0, 'Sleep stage N2'], [2610.0, 30.0, 'Sleep stage N2'], [2640.0, 30.0, 'Sleep stage N2'], [2670.0, 30.0, 'Sleep stage N2'], [2700.0, 30.0, 'Sleep stage N2'], [2730.0, 30.0, 'Sleep stage N2'], [2760.0, 30.0, 'Sleep stage N2'], [2790.0, 30.0, 'Sleep stage N2'], [2820.0, 30.0, 'Sleep stage N2'], [2850.0, 30.0, 'Sleep stage N2'], [2880.0, 30.0, 'Sleep stage N2'], [2910.0, 30.0, 'Sleep stage N2'], [2940.0, 30.0, 'Sleep stage N2'], [2970.0, 30.0, 'Sleep stage N2'], [3000.0, 30.0, 'Sleep stage N2'], [3030.0, 30.0, 'Sleep stage N2'], [3060.0, 30.0, 'Sleep stage N2'], [3090.0, 30.0, 'Sleep stage N2'], [3120.0, 30.0, 'Sleep stage N2'], [3150.0, 30.0, 'Sleep stage N3'], [3180.0, 30.0, 'Sleep stage N3'], [3210.0, 30.0, 'Sleep stage N2'], [3240.0, 30.0, 'Sleep stage N3'], [3270.0, 30.0, 'Sleep stage N3'], [3300.0, 30.0, 'Sleep stage N2'], [3330.0, 30.0, 'Sleep stage N3'], [3360.0, 30.0, 'Sleep stage N3'], [3390.0, 30.0, 'Sleep stage N3'], [3420.0, 30.0, 'Sleep stage N3'], [3450.0, 30.0, 'Sleep stage N3'], [3480.0, 30.0, 'Sleep stage N3'], [3510.0, 30.0, 'Sleep stage N2'], [3540.0, 30.0, 'Sleep stage N3'], [3570.0, 30.0, 'Sleep stage N3'], [3600.0, 30.0, 'Sleep stage N2'], [3630.0, 30.0, 'Sleep stage N3'], [3660.0, 30.0, 'Sleep stage N2'], [3690.0, 30.0, 'Sleep stage N2'], [3720.0, 30.0, 'Sleep stage N2'], [3750.0, 30.0, 'Sleep stage N2'], [3780.0, 30.0, 'Sleep stage N2'], [3810.0, 30.0, 'Sleep stage N2'], [3840.0, 30.0, 'Sleep stage N2'], [3870.0, 30.0, 'Sleep stage N2'], [3900.0, 30.0, 'Sleep stage N2'], [3930.0, 30.0, 'Sleep stage N2'], [3960.0, 30.0, 'Sleep stage N2'], [3990.0, 30.0, 'Sleep stage N2'], [4020.0, 30.0, 'Sleep stage N2'], [4050.0, 30.0, 'Sleep stage N2'], [4080.0, 30.0, 'Sleep stage N2'], [4110.0, 30.0, 'Sleep stage N2'], [4140.0, 30.0, 'Sleep stage N2'], [4170.0, 30.0, 'Sleep stage N2'], [4200.0, 30.0, 'Sleep stage N1'], [4230.0, 30.0, 'Sleep stage N2'], [4260.0, 30.0, 'Sleep stage N2'], [4290.0, 30.0, 'Sleep stage N2'], [4320.0, 30.0, 'Sleep stage N2'], [4350.0, 30.0, 'Sleep stage N2'], [4380.0, 30.0, 'Sleep stage N2'], [4410.0, 30.0, 'Sleep stage N2'], [4440.0, 30.0, 'Sleep stage N1'], [4470.0, 30.0, 'Sleep stage N2'], [4500.0, 30.0, 'Sleep stage N2'], [4530.0, 30.0, 'Sleep stage N2'], [4560.0, 30.0, 'Sleep stage N2'], [4590.0, 30.0, 'Sleep stage N1'], [4620.0, 30.0, 'Sleep stage N2'], [4650.0, 30.0, 'Sleep stage R'], [4680.0, 30.0, 'Sleep stage R'], [4710.0, 30.0, 'Sleep stage R'], [4740.0, 30.0, 'Sleep stage R'], [4770.0, 30.0, 'Sleep stage R'], [4800.0, 30.0, 'Sleep stage R'], [4830.0, 30.0, 'Sleep stage R'], [4860.0, 30.0, 'Sleep stage R'], [4890.0, 30.0, 'Sleep stage R'], [4920.0, 30.0, 'Sleep stage R'], [4950.0, 30.0, 'Sleep stage R'], [4980.0, 30.0, 'Sleep stage R'], [5010.0, 30.0, 'Sleep stage R'], [5040.0, 30.0, 'Sleep stage R'], [5070.0, 30.0, 'Sleep stage R'], [5100.0, 30.0, 'Sleep stage R'], [5130.0, 30.0, 'Sleep stage R'], [5160.0, 30.0, 'Sleep stage R'], [5190.0, 30.0, 'Sleep stage N1'], [5220.0, 30.0, 'Sleep stage R'], [5250.0, 30.0, 'Sleep stage R'], [5280.0, 30.0, 'Sleep stage R'], [5310.0, 30.0, 'Sleep stage R'], [5340.0, 30.0, 'Sleep stage R'], [5370.0, 30.0, 'Sleep stage R'], [5400.0, 30.0, 'Sleep stage W'], [5430.0, 30.0, 'Sleep stage W'], [5460.0, 30.0, 'Sleep stage W'], [5490.0, 30.0, 'Sleep stage W'], [5520.0, 30.0, 'Sleep stage W'], [5550.0, 30.0, 'Sleep stage W'], [5580.0, 30.0, 'Sleep stage W'], [5610.0, 30.0, 'Sleep stage W'], [5640.0, 30.0, 'Sleep stage W'], [5670.0, 30.0, 'Sleep stage W'], [5700.0, 30.0, 'Sleep stage W'], [5730.0, 30.0, 'Sleep stage W'], [5760.0, 30.0, 'Sleep stage N1'], [5790.0, 30.0, 'Sleep stage N1'], [5820.0, 30.0, 'Sleep stage N1'], [5850.0, 30.0, 'Sleep stage N1'], [5880.0, 30.0, 'Sleep stage N1'], [5910.0, 30.0, 'Sleep stage N1'], [5940.0, 30.0, 'Sleep stage N2'], [5970.0, 30.0, 'Sleep stage N2'], [6000.0, 30.0, 'Sleep stage N2'], [6030.0, 30.0, 'Sleep stage N2'], [6060.0, 30.0, 'Sleep stage N1'], [6090.0, 30.0, 'Sleep stage N1'], [6120.0, 30.0, 'Sleep stage N2'], [6150.0, 30.0, 'Sleep stage N2'], [6180.0, 30.0, 'Sleep stage N2'], [6210.0, 30.0, 'Sleep stage N2'], [6240.0, 30.0, 'Sleep stage N2'], [6270.0, 30.0, 'Sleep stage N2'], [6300.0, 30.0, 'Sleep stage N2'], [6330.0, 30.0, 'Sleep stage N2'], [6360.0, 30.0, 'Sleep stage N2'], [6390.0, 30.0, 'Sleep stage N2'], [6420.0, 30.0, 'Sleep stage N2'], [6450.0, 30.0, 'Sleep stage N2'], [6480.0, 30.0, 'Sleep stage N2'], [6510.0, 30.0, 'Sleep stage N2'], [6540.0, 30.0, 'Sleep stage N2'], [6570.0, 30.0, 'Sleep stage N2'], [6600.0, 30.0, 'Sleep stage N2'], [6630.0, 30.0, 'Sleep stage N2'], [6660.0, 30.0, 'Sleep stage N2'], [6690.0, 30.0, 'Sleep stage N2'], [6720.0, 30.0, 'Sleep stage N2'], [6750.0, 30.0, 'Sleep stage N2'], [6780.0, 30.0, 'Sleep stage N2'], [6810.0, 30.0, 'Sleep stage N2'], [6840.0, 30.0, 'Sleep stage N2'], [6870.0, 30.0, 'Sleep stage N2'], [6900.0, 30.0, 'Sleep stage N2'], [6930.0, 30.0, 'Sleep stage N2'], [6960.0, 30.0, 'Sleep stage N2'], [6990.0, 30.0, 'Sleep stage N2'], [7020.0, 30.0, 'Sleep stage N2'], [7050.0, 30.0, 'Sleep stage N2'], [7080.0, 30.0, 'Sleep stage N2'], [7110.0, 30.0, 'Sleep stage N2'], [7140.0, 30.0, 'Sleep stage N2'], [7170.0, 30.0, 'Sleep stage N2'], [7200.0, 30.0, 'Sleep stage N1'], [7230.0, 30.0, 'Sleep stage N1'], [7260.0, 30.0, 'Sleep stage N1'], [7290.0, 30.0, 'Sleep stage N1'], [7320.0, 30.0, 'Sleep stage N1'], [7350.0, 30.0, 'Sleep stage N1'], [7380.0, 30.0, 'Sleep stage N1'], [7410.0, 30.0, 'Sleep stage W'], [7440.0, 30.0, 'Sleep stage N1'], [7470.0, 30.0, 'Sleep stage N1'], [7500.0, 30.0, 'Sleep stage N1'], [7530.0, 30.0, 'Sleep stage N1'], [7560.0, 30.0, 'Sleep stage N1'], [7590.0, 30.0, 'Sleep stage N2'], [7620.0, 30.0, 'Sleep stage N2'], [7650.0, 30.0, 'Sleep stage N2'], [7680.0, 30.0, 'Sleep stage N2'], [7710.0, 30.0, 'Sleep stage N2'], [7740.0, 30.0, 'Sleep stage N2'], [7770.0, 30.0, 'Sleep stage N2'], [7800.0, 30.0, 'Sleep stage N2'], [7830.0, 30.0, 'Sleep stage N2'], [7860.0, 30.0, 'Sleep stage N2'], [7890.0, 30.0, 'Sleep stage N2'], [7920.0, 30.0, 'Sleep stage N2'], [7950.0, 30.0, 'Sleep stage N2'], [7980.0, 30.0, 'Sleep stage N2'], [8010.0, 30.0, 'Sleep stage N2'], [8040.0, 30.0, 'Sleep stage N2'], [8070.0, 30.0, 'Sleep stage N2'], [8100.0, 30.0, 'Sleep stage N2'], [8130.0, 30.0, 'Sleep stage N2'], [8160.0, 30.0, 'Sleep stage N2'], [8190.0, 30.0, 'Sleep stage N2'], [8220.0, 30.0, 'Sleep stage N2'], [8250.0, 30.0, 'Sleep stage N2'], [8280.0, 30.0, 'Sleep stage N2'], [8310.0, 30.0, 'Sleep stage N1'], [8340.0, 30.0, 'Sleep stage N2'], [8370.0, 30.0, 'Sleep stage N2'], [8400.0, 30.0, 'Sleep stage N2'], [8430.0, 30.0, 'Sleep stage N2'], [8460.0, 30.0, 'Sleep stage N2'], [8490.0, 30.0, 'Sleep stage N2'], [8520.0, 30.0, 'Sleep stage N2'], [8550.0, 30.0, 'Sleep stage N2'], [8580.0, 30.0, 'Sleep stage N2'], [8610.0, 30.0, 'Sleep stage N2'], [8640.0, 30.0, 'Sleep stage N1'], [8670.0, 30.0, 'Sleep stage N2'], [8700.0, 30.0, 'Sleep stage N2'], [8730.0, 30.0, 'Sleep stage N2'], [8760.0, 30.0, 'Sleep stage N2'], [8790.0, 30.0, 'Sleep stage N2'], [8820.0, 30.0, 'Sleep stage N2'], [8850.0, 30.0, 'Sleep stage N2'], [8880.0, 30.0, 'Sleep stage N2'], [8910.0, 30.0, 'Sleep stage N2'], [8940.0, 30.0, 'Sleep stage N2'], [8970.0, 30.0, 'Sleep stage N2'], [9000.0, 30.0, 'Sleep stage N1'], [9030.0, 30.0, 'Sleep stage N2'], [9060.0, 30.0, 'Sleep stage N2'], [9090.0, 30.0, 'Sleep stage N2'], [9120.0, 30.0, 'Sleep stage N2'], [9150.0, 30.0, 'Sleep stage N2'], [9180.0, 30.0, 'Sleep stage N2'], [9210.0, 30.0, 'Sleep stage N2'], [9240.0, 30.0, 'Sleep stage N2'], [9270.0, 30.0, 'Sleep stage N2'], [9300.0, 30.0, 'Sleep stage N2'], [9330.0, 30.0, 'Sleep stage N2'], [9360.0, 30.0, 'Sleep stage N2'], [9390.0, 30.0, 'Sleep stage R'], [9420.0, 30.0, 'Sleep stage N2'], [9450.0, 30.0, 'Sleep stage R'], [9480.0, 30.0, 'Sleep stage N1'], [9510.0, 30.0, 'Sleep stage W'], [9540.0, 30.0, 'Sleep stage W'], [9570.0, 30.0, 'Sleep stage W'], [9600.0, 30.0, 'Sleep stage W'], [9630.0, 30.0, 'Sleep stage W'], [9660.0, 30.0, 'Sleep stage W'], [9690.0, 30.0, 'Sleep stage W'], [9720.0, 30.0, 'Sleep stage W'], [9750.0, 30.0, 'Sleep stage W'], [9780.0, 30.0, 'Sleep stage W'], [9810.0, 30.0, 'Sleep stage W'], [9840.0, 30.0, 'Sleep stage W'], [9870.0, 30.0, 'Sleep stage W'], [9900.0, 30.0, 'Sleep stage W'], [9930.0, 30.0, 'Sleep stage W'], [9960.0, 30.0, 'Sleep stage W'], [9990.0, 30.0, 'Sleep stage W'], [10020.0, 30.0, 'Sleep stage W'], [10050.0, 30.0, 'Sleep stage W'], [10080.0, 30.0, 'Sleep stage W'], [10110.0, 30.0, 'Sleep stage W'], [10140.0, 30.0, 'Sleep stage W'], [10170.0, 30.0, 'Sleep stage W'], [10200.0, 30.0, 'Sleep stage W'], [10230.0, 30.0, 'Sleep stage W'], [10260.0, 30.0, 'Sleep stage W'], [10290.0, 30.0, 'Sleep stage W'], [10320.0, 30.0, 'Sleep stage W'], [10350.0, 30.0, 'Sleep stage W'], [10380.0, 30.0, 'Sleep stage W'], [10410.0, 30.0, 'Sleep stage W'], [10440.0, 30.0, 'Sleep stage W'], [10470.0, 30.0, 'Sleep stage W'], [10500.0, 30.0, 'Sleep stage W'], [10530.0, 30.0, 'Sleep stage W'], [10560.0, 30.0, 'Sleep stage W'], [10590.0, 30.0, 'Sleep stage W'], [10620.0, 30.0, 'Sleep stage W'], [10650.0, 30.0, 'Sleep stage W'], [10680.0, 30.0, 'Sleep stage W'], [10710.0, 30.0, 'Sleep stage W'], [10740.0, 30.0, 'Sleep stage W'], [10770.0, 30.0, 'Sleep stage W'], [10800.0, 30.0, 'Sleep stage W'], [10830.0, 30.0, 'Sleep stage W'], [10860.0, 30.0, 'Sleep stage W'], [10890.0, 30.0, 'Sleep stage W'], [10920.0, 30.0, 'Sleep stage W'], [10950.0, 30.0, 'Sleep stage W'], [10980.0, 30.0, 'Sleep stage W'], [11010.0, 30.0, 'Sleep stage W'], [11040.0, 30.0, 'Sleep stage W'], [11070.0, 30.0, 'Sleep stage W'], [11100.0, 30.0, 'Sleep stage W'], [11130.0, 30.0, 'Sleep stage W'], [11160.0, 30.0, 'Sleep stage W'], [11190.0, 30.0, 'Sleep stage W'], [11220.0, 30.0, 'Sleep stage W'], [11250.0, 30.0, 'Sleep stage W'], [11280.0, 30.0, 'Sleep stage W'], [11310.0, 30.0, 'Sleep stage W'], [11340.0, 30.0, 'Sleep stage W'], [11370.0, 30.0, 'Sleep stage W'], [11400.0, 30.0, 'Sleep stage W'], [11430.0, 30.0, 'Sleep stage W'], [11460.0, 30.0, 'Sleep stage W'], [11490.0, 30.0, 'Sleep stage W'], [11520.0, 30.0, 'Sleep stage W'], [11550.0, 30.0, 'Sleep stage W'], [11580.0, 30.0, 'Sleep stage W'], [11610.0, 30.0, 'Sleep stage W'], [11640.0, 30.0, 'Sleep stage W'], [11670.0, 30.0, 'Sleep stage W'], [11700.0, 30.0, 'Sleep stage W'], [11730.0, 30.0, 'Sleep stage W'], [11760.0, 30.0, 'Sleep stage W'], [11790.0, 30.0, 'Sleep stage W'], [11820.0, 30.0, 'Sleep stage W'], [11850.0, 30.0, 'Sleep stage W'], [11880.0, 30.0, 'Sleep stage W'], [11910.0, 30.0, 'Sleep stage W'], [11940.0, 30.0, 'Sleep stage W'], [11970.0, 30.0, 'Sleep stage W'], [12000.0, 30.0, 'Sleep stage W'], [12030.0, 30.0, 'Sleep stage N1'], [12060.0, 30.0, 'Sleep stage W'], [12090.0, 30.0, 'Sleep stage N1'], [12120.0, 30.0, 'Sleep stage W'], [12150.0, 30.0, 'Sleep stage W'], [12180.0, 30.0, 'Sleep stage N1'], [12210.0, 30.0, 'Sleep stage N1'], [12240.0, 30.0, 'Sleep stage N1'], [12270.0, 30.0, 'Sleep stage N1'], [12300.0, 30.0, 'Sleep stage N1'], [12330.0, 30.0, 'Sleep stage N1'], [12360.0, 30.0, 'Sleep stage N1'], [12390.0, 30.0, 'Sleep stage N1'], [12420.0, 30.0, 'Sleep stage N2'], [12450.0, 30.0, 'Sleep stage N2'], [12480.0, 30.0, 'Sleep stage N2'], [12510.0, 30.0, 'Sleep stage N2'], [12540.0, 30.0, 'Sleep stage N2'], [12570.0, 30.0, 'Sleep stage N2'], [12600.0, 30.0, 'Sleep stage N2'], [12630.0, 30.0, 'Sleep stage N2'], [12660.0, 30.0, 'Sleep stage N2'], [12690.0, 30.0, 'Sleep stage N2'], [12720.0, 30.0, 'Sleep stage N2'], [12750.0, 30.0, 'Sleep stage N2'], [12780.0, 30.0, 'Sleep stage N2'], [12810.0, 30.0, 'Sleep stage N2'], [12840.0, 30.0, 'Sleep stage N1'], [12870.0, 30.0, 'Sleep stage N2'], [12900.0, 30.0, 'Sleep stage N2'], [12930.0, 30.0, 'Sleep stage N2'], [12960.0, 30.0, 'Sleep stage N2'], [12990.0, 30.0, 'Sleep stage N2'], [13020.0, 30.0, 'Sleep stage N2'], [13050.0, 30.0, 'Sleep stage N2'], [13080.0, 30.0, 'Sleep stage N2'], [13110.0, 30.0, 'Sleep stage N2'], [13140.0, 30.0, 'Sleep stage N2'], [13170.0, 30.0, 'Sleep stage N2'], [13200.0, 30.0, 'Sleep stage N2'], [13230.0, 30.0, 'Sleep stage N1'], [13260.0, 30.0, 'Sleep stage N2'], [13290.0, 30.0, 'Sleep stage N2'], [13320.0, 30.0, 'Sleep stage N2'], [13350.0, 30.0, 'Sleep stage N2'], [13380.0, 30.0, 'Sleep stage N2'], [13410.0, 30.0, 'Sleep stage N2'], [13440.0, 30.0, 'Sleep stage N2'], [13470.0, 30.0, 'Sleep stage N2'], [13500.0, 30.0, 'Sleep stage N2'], [13530.0, 30.0, 'Sleep stage N2'], [13560.0, 30.0, 'Sleep stage N2'], [13590.0, 30.0, 'Sleep stage N2'], [13620.0, 30.0, 'Sleep stage N2'], [13650.0, 30.0, 'Sleep stage N2'], [13680.0, 30.0, 'Sleep stage N2'], [13710.0, 30.0, 'Sleep stage N2'], [13740.0, 30.0, 'Sleep stage N2'], [13770.0, 30.0, 'Sleep stage N2'], [13800.0, 30.0, 'Sleep stage N2'], [13830.0, 30.0, 'Sleep stage N2'], [13860.0, 30.0, 'Sleep stage N2'], [13890.0, 30.0, 'Sleep stage N2'], [13920.0, 30.0, 'Sleep stage N2'], [13950.0, 30.0, 'Sleep stage N3'], [13980.0, 30.0, 'Sleep stage N3'], [14010.0, 30.0, 'Sleep stage N3'], [14040.0, 30.0, 'Sleep stage N3'], [14070.0, 30.0, 'Sleep stage N3'], [14100.0, 30.0, 'Sleep stage N2'], [14130.0, 30.0, 'Sleep stage N2'], [14160.0, 30.0, 'Sleep stage N2'], [14190.0, 30.0, 'Sleep stage N2'], [14220.0, 30.0, 'Sleep stage N2'], [14250.0, 30.0, 'Sleep stage N2'], [14280.0, 30.0, 'Sleep stage N2'], [14310.0, 30.0, 'Sleep stage N1'], [14340.0, 30.0, 'Sleep stage N2'], [14370.0, 30.0, 'Sleep stage N2'], [14400.0, 30.0, 'Sleep stage N2'], [14430.0, 30.0, 'Sleep stage N2'], [14460.0, 30.0, 'Sleep stage N2'], [14490.0, 30.0, 'Sleep stage N2'], [14520.0, 30.0, 'Sleep stage N2'], [14550.0, 30.0, 'Sleep stage N2'], [14580.0, 30.0, 'Sleep stage N2'], [14610.0, 30.0, 'Sleep stage N2'], [14640.0, 30.0, 'Sleep stage N2'], [14670.0, 30.0, 'Sleep stage N2'], [14700.0, 30.0, 'Sleep stage N2'], [14730.0, 30.0, 'Sleep stage N2'], [14760.0, 30.0, 'Sleep stage N2'], [14790.0, 30.0, 'Sleep stage N2'], [14820.0, 30.0, 'Sleep stage N2'], [14850.0, 30.0, 'Sleep stage N2'], [14880.0, 30.0, 'Sleep stage N2'], [14910.0, 30.0, 'Sleep stage N2'], [14940.0, 30.0, 'Sleep stage N2'], [14970.0, 30.0, 'Sleep stage N2'], [15000.0, 30.0, 'Sleep stage N2'], [15030.0, 30.0, 'Sleep stage N2'], [15060.0, 30.0, 'Sleep stage N2'], [15090.0, 30.0, 'Sleep stage N2'], [15120.0, 30.0, 'Sleep stage N2'], [15150.0, 30.0, 'Sleep stage N1'], [15180.0, 30.0, 'Sleep stage N2'], [15210.0, 30.0, 'Sleep stage N2'], [15240.0, 30.0, 'Sleep stage N2'], [15270.0, 30.0, 'Sleep stage N2'], [15300.0, 30.0, 'Sleep stage N2'], [15330.0, 30.0, 'Sleep stage N2'], [15360.0, 30.0, 'Sleep stage N2'], [15390.0, 30.0, 'Sleep stage N2'], [15420.0, 30.0, 'Sleep stage N2'], [15450.0, 30.0, 'Sleep stage N2'], [15480.0, 30.0, 'Sleep stage N2'], [15510.0, 30.0, 'Sleep stage N2'], [15540.0, 30.0, 'Sleep stage R'], [15570.0, 30.0, 'Sleep stage R'], [15600.0, 30.0, 'Sleep stage R'], [15630.0, 30.0, 'Sleep stage R'], [15660.0, 30.0, 'Sleep stage R'], [15690.0, 30.0, 'Sleep stage R'], [15720.0, 30.0, 'Sleep stage R'], [15750.0, 30.0, 'Sleep stage R'], [15780.0, 30.0, 'Sleep stage R'], [15810.0, 30.0, 'Sleep stage R'], [15840.0, 30.0, 'Sleep stage R'], [15870.0, 30.0, 'Sleep stage R'], [15900.0, 30.0, 'Sleep stage R'], [15930.0, 30.0, 'Sleep stage R'], [15960.0, 30.0, 'Sleep stage R'], [15990.0, 30.0, 'Sleep stage R'], [16020.0, 30.0, 'Sleep stage R'], [16050.0, 30.0, 'Sleep stage R'], [16080.0, 30.0, 'Sleep stage R'], [16110.0, 30.0, 'Sleep stage R'], [16140.0, 30.0, 'Sleep stage R'], [16170.0, 30.0, 'Sleep stage R'], [16200.0, 30.0, 'Sleep stage R'], [16230.0, 30.0, 'Sleep stage R'], [16260.0, 30.0, 'Sleep stage R'], [16290.0, 30.0, 'Sleep stage R'], [16320.0, 30.0, 'Sleep stage R'], [16350.0, 30.0, 'Sleep stage R'], [16380.0, 30.0, 'Sleep stage N1'], [16410.0, 30.0, 'Sleep stage R'], [16440.0, 30.0, 'Sleep stage R'], [16470.0, 30.0, 'Sleep stage R'], [16500.0, 30.0, 'Sleep stage R'], [16530.0, 30.0, 'Sleep stage R'], [16560.0, 30.0, 'Sleep stage R'], [16590.0, 30.0, 'Sleep stage R'], [16620.0, 30.0, 'Sleep stage R'], [16650.0, 30.0, 'Sleep stage R'], [16680.0, 30.0, 'Sleep stage R'], [16710.0, 30.0, 'Sleep stage R'], [16740.0, 30.0, 'Sleep stage R'], [16770.0, 30.0, 'Sleep stage R'], [16800.0, 30.0, 'Sleep stage R'], [16830.0, 30.0, 'Sleep stage R'], [16860.0, 30.0, 'Sleep stage R'], [16890.0, 30.0, 'Sleep stage R'], [16920.0, 30.0, 'Sleep stage R'], [16950.0, 30.0, 'Sleep stage R'], [16980.0, 30.0, 'Sleep stage R'], [17010.0, 30.0, 'Sleep stage R'], [17040.0, 30.0, 'Sleep stage R'], [17070.0, 30.0, 'Sleep stage R'], [17100.0, 30.0, 'Sleep stage R'], [17130.0, 30.0, 'Sleep stage R'], [17160.0, 30.0, 'Sleep stage R'], [17190.0, 30.0, 'Sleep stage R'], [17220.0, 30.0, 'Sleep stage R'], [17250.0, 30.0, 'Sleep stage W'], [17280.0, 30.0, 'Sleep stage W'], [17310.0, 30.0, 'Sleep stage W'], [17340.0, 30.0, 'Sleep stage W'], [17370.0, 30.0, 'Sleep stage W'], [17400.0, 30.0, 'Sleep stage N1'], [17430.0, 30.0, 'Sleep stage N1'], [17460.0, 30.0, 'Sleep stage N1'], [17490.0, 30.0, 'Sleep stage N1'], [17520.0, 30.0, 'Sleep stage N1'], [17550.0, 30.0, 'Sleep stage N1'], [17580.0, 30.0, 'Sleep stage N1'], [17610.0, 30.0, 'Sleep stage N1'], [17640.0, 30.0, 'Sleep stage N1'], [17670.0, 30.0, 'Sleep stage N1'], [17700.0, 30.0, 'Sleep stage N1'], [17730.0, 30.0, 'Sleep stage N1'], [17760.0, 30.0, 'Sleep stage N2'], [17790.0, 30.0, 'Sleep stage N2'], [17820.0, 30.0, 'Sleep stage N2'], [17850.0, 30.0, 'Sleep stage N2'], [17880.0, 30.0, 'Sleep stage N2'], [17910.0, 30.0, 'Sleep stage N2'], [17940.0, 30.0, 'Sleep stage N2'], [17970.0, 30.0, 'Sleep stage N2'], [18000.0, 30.0, 'Sleep stage N2'], [18030.0, 30.0, 'Sleep stage N2'], [18060.0, 30.0, 'Sleep stage N2'], [18090.0, 30.0, 'Sleep stage N2'], [18120.0, 30.0, 'Sleep stage N2'], [18150.0, 30.0, 'Sleep stage N2'], [18180.0, 30.0, 'Sleep stage N2'], [18210.0, 30.0, 'Sleep stage N2'], [18240.0, 30.0, 'Sleep stage N2'], [18270.0, 30.0, 'Sleep stage N2'], [18300.0, 30.0, 'Sleep stage N2'], [18330.0, 30.0, 'Sleep stage N2'], [18360.0, 30.0, 'Sleep stage N2'], [18390.0, 30.0, 'Sleep stage N2'], [18420.0, 30.0, 'Sleep stage N2'], [18450.0, 30.0, 'Sleep stage N2'], [18480.0, 30.0, 'Sleep stage N2'], [18510.0, 30.0, 'Sleep stage N2'], [18540.0, 30.0, 'Sleep stage N2'], [18570.0, 30.0, 'Sleep stage N2'], [18600.0, 30.0, 'Sleep stage N2'], [18630.0, 30.0, 'Sleep stage N2'], [18660.0, 30.0, 'Sleep stage N2'], [18690.0, 30.0, 'Sleep stage N2'], [18720.0, 30.0, 'Sleep stage N2'], [18750.0, 30.0, 'Sleep stage N2'], [18780.0, 30.0, 'Sleep stage N2'], [18810.0, 30.0, 'Sleep stage N2'], [18840.0, 30.0, 'Sleep stage N2'], [18870.0, 30.0, 'Sleep stage N2'], [18900.0, 30.0, 'Sleep stage N2'], [18930.0, 30.0, 'Sleep stage N2'], [18960.0, 30.0, 'Sleep stage N2'], [18990.0, 30.0, 'Sleep stage N2'], [19020.0, 30.0, 'Sleep stage N2'], [19050.0, 30.0, 'Sleep stage N2'], [19080.0, 30.0, 'Sleep stage N2'], [19110.0, 30.0, 'Sleep stage N2'], [19140.0, 30.0, 'Sleep stage N2'], [19170.0, 30.0, 'Sleep stage N2'], [19200.0, 30.0, 'Sleep stage N2'], [19230.0, 30.0, 'Sleep stage N2'], [19260.0, 30.0, 'Sleep stage N2'], [19290.0, 30.0, 'Sleep stage N2'], [19320.0, 30.0, 'Sleep stage N3'], [19350.0, 30.0, 'Sleep stage N3'], [19380.0, 30.0, 'Sleep stage N3'], [19410.0, 30.0, 'Sleep stage N3'], [19440.0, 30.0, 'Sleep stage N2'], [19470.0, 30.0, 'Sleep stage N3'], [19500.0, 30.0, 'Sleep stage N2'], [19530.0, 30.0, 'Sleep stage N2'], [19560.0, 30.0, 'Sleep stage W'], [19590.0, 30.0, 'Sleep stage W'], [19620.0, 30.0, 'Sleep stage W'], [19650.0, 30.0, 'Sleep stage N1'], [19680.0, 30.0, 'Sleep stage N2'], [19710.0, 30.0, 'Sleep stage N2'], [19740.0, 30.0, 'Sleep stage N2'], [19770.0, 30.0, 'Sleep stage N2'], [19800.0, 30.0, 'Sleep stage N2'], [19830.0, 30.0, 'Sleep stage N2'], [19860.0, 30.0, 'Sleep stage N2'], [19890.0, 30.0, 'Sleep stage N2'], [19920.0, 30.0, 'Sleep stage N2'], [19950.0, 30.0, 'Sleep stage N2'], [19980.0, 30.0, 'Sleep stage N2'], [20010.0, 30.0, 'Sleep stage N2'], [20040.0, 30.0, 'Sleep stage N2'], [20070.0, 30.0, 'Sleep stage N2'], [20100.0, 30.0, 'Sleep stage N2'], [20130.0, 30.0, 'Sleep stage N2'], [20160.0, 30.0, 'Sleep stage N2'], [20190.0, 30.0, 'Sleep stage N2'], [20220.0, 30.0, 'Sleep stage N2'], [20250.0, 30.0, 'Sleep stage N2'], [20280.0, 30.0, 'Sleep stage N2'], [20310.0, 30.0, 'Sleep stage N2'], [20340.0, 30.0, 'Sleep stage N2'], [20370.0, 30.0, 'Sleep stage N2'], [20400.0, 30.0, 'Sleep stage N2'], [20430.0, 30.0, 'Sleep stage N2'], [20460.0, 30.0, 'Sleep stage N2'], [20490.0, 30.0, 'Sleep stage N2'], [20520.0, 30.0, 'Sleep stage N2'], [20550.0, 30.0, 'Sleep stage N2'], [20580.0, 30.0, 'Sleep stage N2'], [20610.0, 30.0, 'Sleep stage N2'], [20640.0, 30.0, 'Sleep stage N2'], [20670.0, 30.0, 'Sleep stage N2'], [20700.0, 30.0, 'Sleep stage R'], [20730.0, 30.0, 'Sleep stage N1'], [20760.0, 30.0, 'Sleep stage N1'], [20790.0, 30.0, 'Sleep stage N1'], [20820.0, 30.0, 'Sleep stage N1'], [20850.0, 30.0, 'Sleep stage N1'], [20880.0, 30.0, 'Sleep stage R'], [20910.0, 30.0, 'Sleep stage R'], [20940.0, 30.0, 'Sleep stage R'], [20970.0, 30.0, 'Sleep stage R'], [21000.0, 30.0, 'Sleep stage R'], [21030.0, 30.0, 'Sleep stage R'], [21060.0, 30.0, 'Sleep stage R'], [21090.0, 30.0, 'Sleep stage R'], [21120.0, 30.0, 'Sleep stage R'], [21150.0, 30.0, 'Sleep stage R'], [21180.0, 30.0, 'Sleep stage R'], [21210.0, 30.0, 'Sleep stage R'], [21240.0, 30.0, 'Sleep stage R'], [21270.0, 30.0, 'Sleep stage R'], [21300.0, 30.0, 'Sleep stage R'], [21330.0, 30.0, 'Sleep stage R'], [21360.0, 30.0, 'Sleep stage R'], [21390.0, 30.0, 'Sleep stage R'], [21420.0, 30.0, 'Sleep stage R'], [21450.0, 30.0, 'Sleep stage R'], [21480.0, 30.0, 'Sleep stage R'], [21510.0, 30.0, 'Sleep stage R'], [21540.0, 30.0, 'Sleep stage R'], [21570.0, 30.0, 'Sleep stage R'], [21600.0, 30.0, 'Sleep stage R'], [21630.0, 30.0, 'Sleep stage R'], [21660.0, 30.0, 'Sleep stage R'], [21690.0, 30.0, 'Sleep stage R'], [21720.0, 30.0, 'Sleep stage R'], [21750.0, 30.0, 'Sleep stage R'], [21780.0, 30.0, 'Sleep stage R'], [21810.0, 30.0, 'Sleep stage R'], [21840.0, 30.0, 'Sleep stage R'], [21870.0, 30.0, 'Sleep stage R'], [21900.0, 30.0, 'Sleep stage R'], [21930.0, 30.0, 'Sleep stage R'], [21960.0, 30.0, 'Sleep stage R'], [21990.0, 30.0, 'Sleep stage R'], [22020.0, 30.0, 'Sleep stage R'], [22050.0, 30.0, 'Sleep stage R'], [22080.0, 30.0, 'Sleep stage R'], [22110.0, 30.0, 'Sleep stage R'], [22140.0, 30.0, 'Sleep stage R'], [22170.0, 30.0, 'Sleep stage R'], [22200.0, 30.0, 'Sleep stage R'], [22230.0, 30.0, 'Sleep stage R'], [22260.0, 30.0, 'Sleep stage R'], [22290.0, 30.0, 'Sleep stage R'], [22320.0, 30.0, 'Sleep stage R'], [22350.0, 30.0, 'Sleep stage R'], [22380.0, 30.0, 'Sleep stage R'], [22410.0, 30.0, 'Sleep stage R'], [22440.0, 30.0, 'Sleep stage R'], [22470.0, 30.0, 'Sleep stage R'], [22500.0, 30.0, 'Sleep stage R'], [22530.0, 30.0, 'Sleep stage R'], [22560.0, 30.0, 'Sleep stage R'], [22590.0, 30.0, 'Sleep stage R'], [22620.0, 30.0, 'Sleep stage N1'], [22650.0, 30.0, 'Sleep stage W'], [22680.0, 30.0, 'Sleep stage N1'], [22710.0, 30.0, 'Sleep stage N1'], [22740.0, 30.0, 'Sleep stage N1'], [22770.0, 30.0, 'Sleep stage N1'], [22800.0, 30.0, 'Sleep stage N1'], [22830.0, 30.0, 'Sleep stage N1'], [22860.0, 30.0, 'Sleep stage N1'], [22890.0, 30.0, 'Sleep stage N2'], [22920.0, 30.0, 'Sleep stage N2'], [22950.0, 30.0, 'Sleep stage N2'], [22980.0, 30.0, 'Sleep stage N2'], [23010.0, 30.0, 'Sleep stage N2'], [23040.0, 30.0, 'Sleep stage N2'], [23070.0, 30.0, 'Sleep stage N2'], [23100.0, 30.0, 'Sleep stage N2'], [23130.0, 30.0, 'Sleep stage N2'], [23160.0, 30.0, 'Sleep stage N1'], [23190.0, 30.0, 'Sleep stage N2'], [23220.0, 30.0, 'Sleep stage N2'], [23250.0, 30.0, 'Sleep stage N1'], [23280.0, 30.0, 'Sleep stage W'], [23310.0, 30.0, 'Sleep stage N1'], [23340.0, 30.0, 'Sleep stage N1'], [23370.0, 30.0, 'Sleep stage W'], [23400.0, 30.0, 'Sleep stage W'], [23430.0, 30.0, 'Sleep stage W'], [23460.0, 30.0, 'Sleep stage W'], [23490.0, 30.0, 'Sleep stage W'], [23520.0, 30.0, 'Sleep stage W'], [23550.0, 30.0, 'Sleep stage W'], [23580.0, 30.0, 'Sleep stage W'], [23610.0, 30.0, 'Sleep stage W'], [23640.0, 30.0, 'Sleep stage W'], [23670.0, 30.0, 'Sleep stage W'], [23700.0, 30.0, 'Sleep stage W'], [23730.0, 30.0, 'Sleep stage W'], [23760.0, 30.0, 'Sleep stage W'], [23790.0, 30.0, 'Sleep stage W'], [23820.0, 30.0, 'Sleep stage W'], [23850.0, 30.0, 'Sleep stage W'], [23880.0, 30.0, 'Sleep stage W'], [23910.0, 30.0, 'Sleep stage N1'], [23940.0, 30.0, 'Sleep stage N1'], [23970.0, 30.0, 'Sleep stage N1'], [24000.0, 30.0, 'Sleep stage N1'], [24030.0, 30.0, 'Sleep stage N1'], [24060.0, 30.0, 'Sleep stage N2'], [24090.0, 30.0, 'Sleep stage N2'], [24120.0, 30.0, 'Sleep stage N2'], [24150.0, 30.0, 'Sleep stage N2'], [24180.0, 30.0, 'Sleep stage N2'], [24210.0, 30.0, 'Sleep stage N2'], [24240.0, 30.0, 'Sleep stage N2'], [24270.0, 30.0, 'Sleep stage N2'], [24300.0, 30.0, 'Sleep stage N2'], [24330.0, 30.0, 'Sleep stage N2'], [24360.0, 30.0, 'Sleep stage N2'], [24390.0, 30.0, 'Sleep stage N2'], [24420.0, 30.0, 'Sleep stage N2'], [24450.0, 30.0, 'Sleep stage N2'], [24480.0, 30.0, 'Sleep stage N2'], [24510.0, 30.0, 'Sleep stage N2'], [24540.0, 30.0, 'Sleep stage N2'], [24570.0, 30.0, 'Sleep stage N2'], [24600.0, 30.0, 'Sleep stage N2'], [24630.0, 30.0, 'Sleep stage N2'], [24660.0, 30.0, 'Sleep stage N2'], [24690.0, 30.0, 'Sleep stage N2'], [24720.0, 30.0, 'Sleep stage N2'], [24750.0, 30.0, 'Sleep stage N2'], [24780.0, 30.0, 'Sleep stage N2'], [24810.0, 30.0, 'Sleep stage N2'], [24840.0, 30.0, 'Sleep stage N2'], [24870.0, 30.0, 'Sleep stage N2'], [24900.0, 30.0, 'Sleep stage N2'], [24930.0, 30.0, 'Sleep stage N2'], [24960.0, 30.0, 'Sleep stage N2'], [24990.0, 30.0, 'Sleep stage N2'], [25020.0, 30.0, 'Sleep stage N2'], [25050.0, 30.0, 'Sleep stage N2'], [25080.0, 30.0, 'Sleep stage N2'], [25110.0, 30.0, 'Sleep stage N2'], [25140.0, 30.0, 'Sleep stage N2'], [25170.0, 30.0, 'Sleep stage N2'], [25200.0, 30.0, 'Sleep stage N2'], [25230.0, 30.0, 'Sleep stage N2'], [25260.0, 30.0, 'Sleep stage N2'], [25290.0, 30.0, 'Sleep stage N2'], [25320.0, 30.0, 'Sleep stage W'], [25350.0, 30.0, 'Sleep stage W'], [25380.0, 30.0, 'Sleep stage W'], [25410.0, 30.0, 'Sleep stage W'], [25440.0, 30.0, 'Sleep stage W'], [25470.0, 30.0, 'Sleep stage W'], [25500.0, 30.0, 'Sleep stage W'], [25530.0, 30.0, 'Sleep stage W'], [25560.0, 30.0, 'Sleep stage W'], [25590.0, 30.0, 'Sleep stage W'], [25618.74, 0.0, 'Lights on@@EEG Fpz-Cz']]})\n",
            "signals=[[ 7.37193866e+01  7.09361410e+01  6.93980316e+01 ... -3.66216526e-02\n",
            "  -3.66216526e-02 -3.66216526e-02]]\n",
            "6566400\n"
          ]
        }
      ],
      "source": [
        "path = '/content/drive/MyDrive/HMC/'\n",
        "\n",
        "#test_images = sorted(\n",
        "#    glob.glob(os.path.join(data_dir,)))\n",
        "#data_list = sorted(glob.glob(os.path.join(path,\"SN*\",\".edf\")))\n",
        "data_list = glob.glob(path+'/**')\n",
        "print(data_list)\n",
        "\n",
        "trains=[]\n",
        "labels=[]\n",
        "trains = [x for x in data_list if x.startswith('edf',33)]\n",
        "labels = [x for x in data_list if x.endswith('_sleepscoring.edf')]\n",
        "print(trains)\n",
        "print(\"#########\")\n",
        "print(labels)\n",
        "print(\"#########\")\n",
        "print(highlevel.read_edf(trains[0]))\n",
        "print(highlevel.read_edf(labels[0]))\n",
        "signals, _, signals_header = highlevel.read_edf(trains[0],ch_names='ECG')\n",
        "print(f'signals={signals}')\n",
        "print(len(signals[0]))"
      ]
    }
  ],
  "metadata": {
    "colab": {
      "collapsed_sections": [
        "4Z9T3RgTKU83",
        "sCrUYfCBJzhF",
        "ranzOZgqLzkd",
        "RA-jJ0skc-ib",
        "xQoL2QbxOD0I",
        "L0M9eyYXt6RH"
      ],
      "machine_shape": "hm",
      "name": "sleep_staging_classification(samplerate,nclass).ipynb",
      "provenance": [],
      "include_colab_link": true
    },
    "kernelspec": {
      "display_name": "Python 3",
      "name": "python3"
    },
    "language_info": {
      "name": "python"
    },
    "accelerator": "GPU"
  },
  "nbformat": 4,
  "nbformat_minor": 0
}