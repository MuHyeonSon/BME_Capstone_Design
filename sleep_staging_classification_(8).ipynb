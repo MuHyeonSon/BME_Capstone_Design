{
  "nbformat": 4,
  "nbformat_minor": 0,
  "metadata": {
    "colab": {
      "name": "sleep_staging_classification (7).ipynb",
      "provenance": [],
      "collapsed_sections": [
        "xQoL2QbxOD0I",
        "L0M9eyYXt6RH",
        "07v2YvQeDqub"
      ],
      "machine_shape": "hm",
      "include_colab_link": true
    },
    "kernelspec": {
      "name": "python3",
      "display_name": "Python 3"
    },
    "language_info": {
      "name": "python"
    }
  },
  "cells": [
    {
      "cell_type": "markdown",
      "metadata": {
        "id": "view-in-github",
        "colab_type": "text"
      },
      "source": [
        "<a href=\"https://colab.research.google.com/github/MuHyeonSon/BME_Capstone_design/blob/main/sleep_staging_classification_(8).ipynb\" target=\"_parent\"><img src=\"https://colab.research.google.com/assets/colab-badge.svg\" alt=\"Open In Colab\"/></a>"
      ]
    },
    {
      "cell_type": "markdown",
      "source": [
        "#데이터처리"
      ],
      "metadata": {
        "id": "4Z9T3RgTKU83"
      }
    },
    {
      "cell_type": "code",
      "source": [
        "from google.colab import drive\n",
        "drive.mount('/content/drive')"
      ],
      "metadata": {
        "colab": {
          "base_uri": "https://localhost:8080/"
        },
        "id": "y-3CllWCvl43",
        "outputId": "a3f7349e-265b-44bb-fd5e-94d95d1ae4ce"
      },
      "execution_count": 7,
      "outputs": [
        {
          "output_type": "stream",
          "name": "stdout",
          "text": [
            "Mounted at /content/drive\n"
          ]
        }
      ]
    },
    {
      "cell_type": "code",
      "source": [
        "del non_match\n",
        "del length\n",
        "del label"
      ],
      "metadata": {
        "id": "6vnU3alCRqtZ"
      },
      "execution_count": 13,
      "outputs": []
    },
    {
      "cell_type": "code",
      "source": [
        "print(f'Signals of 151 subjects  : {Signals[:10]}')\n",
        "print(f'Labels of 151 subjects : {Labels[:10]}')\n",
        "print(f'number of segment from Signals of 151 subjects  : {len(Signals)}')\n",
        "print(f'number of segment from Labels of 151 subjects : {len(Labels)}')"
      ],
      "metadata": {
        "colab": {
          "base_uri": "https://localhost:8080/"
        },
        "id": "vnVzBT3CDNfz",
        "outputId": "4779769e-fced-4b2c-dcde-963ff98d724b"
      },
      "execution_count": null,
      "outputs": [
        {
          "output_type": "stream",
          "name": "stdout",
          "text": [
            "Signals of 151 subjects  : [array([ 73.71938659,  70.93614099,  69.39803159, ..., -91.1512932 ,\n",
            "        14.83176928,  30.65232319]), array([-15.71068894, -48.37720302, -55.04234379, ..., 126.52780957,\n",
            "       135.17051957, 137.51430533]), array([137.44106203, 128.06591897, 133.41268025, ...,  14.53879606,\n",
            "        14.17257954,  12.56122683]), array([  8.60608835,  -5.0904097 , -12.78095674, ...,  53.65072099,\n",
            "        32.70313573,  14.97825589]), array([  0.54932479, -20.10528725, -40.68665599, ...,   0.18310826,\n",
            "        -8.23987182,  -2.38040742]), array([  2.89311055,   9.85122454,  17.76150149, ..., 125.64888991,\n",
            "       170.32730602, 242.10574502]), array([354.09475853, 478.90135042, 650.07095445, ..., -28.52826734,\n",
            "       -30.50583658, -38.049897  ]), array([ -40.61341268,  -37.75692378,  -31.09178302, ..., -296.08606088,\n",
            "       -538.814374  , -613.4493019 ]), array([-572.94575418, -462.93430991, -367.35179675, ...,  -10.29068437,\n",
            "        -11.53582055,  -17.02906844]), array([-24.57312886, -27.20988785, -14.61203937, ..., -87.56237125,\n",
            "       -81.62966354, -67.12748913])]\n",
            "Labels of 151 subjects : ['Sleep stage W', 'Sleep stage W', 'Sleep stage W', 'Sleep stage W', 'Sleep stage W', 'Sleep stage W', 'Sleep stage W', 'Sleep stage W', 'Sleep stage N1', 'Sleep stage N1']\n",
            "number of segment from Signals of 151 subjects  : 137243\n",
            "number of segment from Labels of 151 subjects : 137243\n"
          ]
        }
      ]
    },
    {
      "cell_type": "code",
      "source": [
        "256*30*2*60*7*151 #9억7만개의 정도의 sample"
      ],
      "metadata": {
        "colab": {
          "base_uri": "https://localhost:8080/"
        },
        "id": "mKuJ4cgBD3e4",
        "outputId": "dcc0a77c-bd5a-4cd2-b1c9-ab2415b8b988"
      },
      "execution_count": null,
      "outputs": [
        {
          "output_type": "execute_result",
          "data": {
            "text/plain": [
              "974131200"
            ]
          },
          "metadata": {},
          "execution_count": 12
        }
      ]
    },
    {
      "cell_type": "code",
      "source": [
        "2*60*7*151 #151명의 피험자에서 나온 segment의 대략적인 개수"
      ],
      "metadata": {
        "colab": {
          "base_uri": "https://localhost:8080/"
        },
        "id": "5O1hjjI2EUXQ",
        "outputId": "ec3fe39b-6ec9-45d3-f626-2e735efd3402"
      },
      "execution_count": null,
      "outputs": [
        {
          "output_type": "execute_result",
          "data": {
            "text/plain": [
              "126840"
            ]
          },
          "metadata": {},
          "execution_count": 13
        }
      ]
    },
    {
      "cell_type": "code",
      "source": [
        "num_sample = 256*30\n",
        "\n",
        "def remove_remains(lst, n):\n",
        "    removed = [lst[i:i+n] for i in range(0, len(lst), n)]\n",
        "    removed.pop()\n",
        "    return removed\n",
        "\n",
        "list_test = list(range(1,32))\n",
        "print(\"분할 전 : \", list_test)\n",
        "\n",
        "list_chunked = remove_remains(list_test, 3) # paramter : 분할할 리스트, 리스트의 길이\n",
        "print(\"분할 후 : \", removed)"
      ],
      "metadata": {
        "colab": {
          "base_uri": "https://localhost:8080/"
        },
        "id": "kfSKqWLJv41B",
        "outputId": "79fb38b0-094d-4fd4-fe6a-e00cdbefd5ce"
      },
      "execution_count": null,
      "outputs": [
        {
          "output_type": "stream",
          "name": "stdout",
          "text": [
            "분할 전 :  [1, 2, 3, 4, 5, 6, 7, 8, 9, 10, 11, 12, 13, 14, 15, 16, 17, 18, 19, 20, 21, 22, 23, 24, 25, 26, 27, 28, 29, 30, 31]\n",
            "분할 후 :  [[1, 2, 3], [4, 5, 6], [7, 8, 9], [10, 11, 12], [13, 14, 15], [16, 17, 18], [19, 20, 21], [22, 23, 24], [25, 26, 27], [28, 29, 30]]\n"
          ]
        }
      ]
    },
    {
      "cell_type": "code",
      "source": [
        "#151명 중 약 17%인 25명을 test set으로 선정\n",
        "# 첫번째 데이터부터 151번째 데이터까지 순서대로 6명마다 1명이 testset으로 뽑히도록\n",
        "\n",
        "test_x = []\n",
        "test_y = []\n",
        "test_index_list = []\n",
        "\n",
        "for i in range(len(trains)):\n",
        "  if (i+1) % 6 == 0:\n",
        "    test_x.append(trains[i])\n",
        "    test_y.append(labels[i])\n",
        "    test_index_list.append(i)\n",
        "\n",
        "\n",
        "print(f'test_x={test_x}')   \n",
        "print(f'test_y={test_y}') "
      ],
      "metadata": {
        "colab": {
          "base_uri": "https://localhost:8080/"
        },
        "id": "U3YtRmwY7Ryk",
        "outputId": "6718370a-cc79-4c4d-f8bd-a31d7b758afc"
      },
      "execution_count": null,
      "outputs": [
        {
          "output_type": "stream",
          "name": "stdout",
          "text": [
            "test_x=['/content/drive/MyDrive/physionet/HMC/hmc-sleep-staging/recordings/SN006.edf', '/content/drive/MyDrive/physionet/HMC/hmc-sleep-staging/recordings/SN012.edf', '/content/drive/MyDrive/physionet/HMC/hmc-sleep-staging/recordings/SN019.edf', '/content/drive/MyDrive/physionet/HMC/hmc-sleep-staging/recordings/SN025.edf', '/content/drive/MyDrive/physionet/HMC/hmc-sleep-staging/recordings/SN031.edf', '/content/drive/MyDrive/physionet/HMC/hmc-sleep-staging/recordings/SN037.edf', '/content/drive/MyDrive/physionet/HMC/hmc-sleep-staging/recordings/SN043.edf', '/content/drive/MyDrive/physionet/HMC/hmc-sleep-staging/recordings/SN049.edf', '/content/drive/MyDrive/physionet/HMC/hmc-sleep-staging/recordings/SN055.edf', '/content/drive/MyDrive/physionet/HMC/hmc-sleep-staging/recordings/SN061.edf', '/content/drive/MyDrive/physionet/HMC/hmc-sleep-staging/recordings/SN068.edf', '/content/drive/MyDrive/physionet/HMC/hmc-sleep-staging/recordings/SN074.edf', '/content/drive/MyDrive/physionet/HMC/hmc-sleep-staging/recordings/SN080.edf', '/content/drive/MyDrive/physionet/HMC/hmc-sleep-staging/recordings/SN086.edf', '/content/drive/MyDrive/physionet/HMC/hmc-sleep-staging/recordings/SN092.edf', '/content/drive/MyDrive/physionet/HMC/hmc-sleep-staging/recordings/SN098.edf', '/content/drive/MyDrive/physionet/HMC/hmc-sleep-staging/recordings/SN104.edf', '/content/drive/MyDrive/physionet/HMC/hmc-sleep-staging/recordings/SN110.edf', '/content/drive/MyDrive/physionet/HMC/hmc-sleep-staging/recordings/SN116.edf', '/content/drive/MyDrive/physionet/HMC/hmc-sleep-staging/recordings/SN122.edf', '/content/drive/MyDrive/physionet/HMC/hmc-sleep-staging/recordings/SN128.edf', '/content/drive/MyDrive/physionet/HMC/hmc-sleep-staging/recordings/SN134.edf', '/content/drive/MyDrive/physionet/HMC/hmc-sleep-staging/recordings/SN141.edf', '/content/drive/MyDrive/physionet/HMC/hmc-sleep-staging/recordings/SN147.edf', '/content/drive/MyDrive/physionet/HMC/hmc-sleep-staging/recordings/SN153.edf']\n",
            "test_y=['/content/drive/MyDrive/physionet/HMC/hmc-sleep-staging/recordings/SN006_sleepscoring.edf', '/content/drive/MyDrive/physionet/HMC/hmc-sleep-staging/recordings/SN012_sleepscoring.edf', '/content/drive/MyDrive/physionet/HMC/hmc-sleep-staging/recordings/SN019_sleepscoring.edf', '/content/drive/MyDrive/physionet/HMC/hmc-sleep-staging/recordings/SN025_sleepscoring.edf', '/content/drive/MyDrive/physionet/HMC/hmc-sleep-staging/recordings/SN031_sleepscoring.edf', '/content/drive/MyDrive/physionet/HMC/hmc-sleep-staging/recordings/SN037_sleepscoring.edf', '/content/drive/MyDrive/physionet/HMC/hmc-sleep-staging/recordings/SN043_sleepscoring.edf', '/content/drive/MyDrive/physionet/HMC/hmc-sleep-staging/recordings/SN049_sleepscoring.edf', '/content/drive/MyDrive/physionet/HMC/hmc-sleep-staging/recordings/SN055_sleepscoring.edf', '/content/drive/MyDrive/physionet/HMC/hmc-sleep-staging/recordings/SN061_sleepscoring.edf', '/content/drive/MyDrive/physionet/HMC/hmc-sleep-staging/recordings/SN068_sleepscoring.edf', '/content/drive/MyDrive/physionet/HMC/hmc-sleep-staging/recordings/SN074_sleepscoring.edf', '/content/drive/MyDrive/physionet/HMC/hmc-sleep-staging/recordings/SN080_sleepscoring.edf', '/content/drive/MyDrive/physionet/HMC/hmc-sleep-staging/recordings/SN086_sleepscoring.edf', '/content/drive/MyDrive/physionet/HMC/hmc-sleep-staging/recordings/SN092_sleepscoring.edf', '/content/drive/MyDrive/physionet/HMC/hmc-sleep-staging/recordings/SN098_sleepscoring.edf', '/content/drive/MyDrive/physionet/HMC/hmc-sleep-staging/recordings/SN104_sleepscoring.edf', '/content/drive/MyDrive/physionet/HMC/hmc-sleep-staging/recordings/SN110_sleepscoring.edf', '/content/drive/MyDrive/physionet/HMC/hmc-sleep-staging/recordings/SN116_sleepscoring.edf', '/content/drive/MyDrive/physionet/HMC/hmc-sleep-staging/recordings/SN122_sleepscoring.edf', '/content/drive/MyDrive/physionet/HMC/hmc-sleep-staging/recordings/SN128_sleepscoring.edf', '/content/drive/MyDrive/physionet/HMC/hmc-sleep-staging/recordings/SN134_sleepscoring.edf', '/content/drive/MyDrive/physionet/HMC/hmc-sleep-staging/recordings/SN141_sleepscoring.edf', '/content/drive/MyDrive/physionet/HMC/hmc-sleep-staging/recordings/SN147_sleepscoring.edf', '/content/drive/MyDrive/physionet/HMC/hmc-sleep-staging/recordings/SN153_sleepscoring.edf']\n"
          ]
        }
      ]
    },
    {
      "cell_type": "code",
      "source": [
        "print(f'num_test_x={len(test_x)}')   \n",
        "print(f'num_test_y={len(test_y)}') "
      ],
      "metadata": {
        "colab": {
          "base_uri": "https://localhost:8080/"
        },
        "id": "GACxMWz5-TTA",
        "outputId": "9357c3b2-0182-4fbe-9328-ee51213d8c43"
      },
      "execution_count": null,
      "outputs": [
        {
          "output_type": "stream",
          "name": "stdout",
          "text": [
            "num_test_x=25\n",
            "num_test_y=25\n"
          ]
        }
      ]
    },
    {
      "cell_type": "code",
      "source": [
        "print(\"test_set 목록\")\n",
        "for i in test_x:\n",
        "  print(i)"
      ],
      "metadata": {
        "colab": {
          "base_uri": "https://localhost:8080/"
        },
        "id": "o4xrgCBHEJC1",
        "outputId": "4388afff-0e9b-4edf-c735-e8dca975bb7c"
      },
      "execution_count": null,
      "outputs": [
        {
          "output_type": "stream",
          "name": "stdout",
          "text": [
            "test_set 목록\n",
            "/content/drive/MyDrive/physionet/HMC/hmc-sleep-staging/recordings/SN006.edf\n",
            "/content/drive/MyDrive/physionet/HMC/hmc-sleep-staging/recordings/SN012.edf\n",
            "/content/drive/MyDrive/physionet/HMC/hmc-sleep-staging/recordings/SN019.edf\n",
            "/content/drive/MyDrive/physionet/HMC/hmc-sleep-staging/recordings/SN025.edf\n",
            "/content/drive/MyDrive/physionet/HMC/hmc-sleep-staging/recordings/SN031.edf\n",
            "/content/drive/MyDrive/physionet/HMC/hmc-sleep-staging/recordings/SN037.edf\n",
            "/content/drive/MyDrive/physionet/HMC/hmc-sleep-staging/recordings/SN043.edf\n",
            "/content/drive/MyDrive/physionet/HMC/hmc-sleep-staging/recordings/SN049.edf\n",
            "/content/drive/MyDrive/physionet/HMC/hmc-sleep-staging/recordings/SN055.edf\n",
            "/content/drive/MyDrive/physionet/HMC/hmc-sleep-staging/recordings/SN061.edf\n",
            "/content/drive/MyDrive/physionet/HMC/hmc-sleep-staging/recordings/SN068.edf\n",
            "/content/drive/MyDrive/physionet/HMC/hmc-sleep-staging/recordings/SN074.edf\n",
            "/content/drive/MyDrive/physionet/HMC/hmc-sleep-staging/recordings/SN080.edf\n",
            "/content/drive/MyDrive/physionet/HMC/hmc-sleep-staging/recordings/SN086.edf\n",
            "/content/drive/MyDrive/physionet/HMC/hmc-sleep-staging/recordings/SN092.edf\n",
            "/content/drive/MyDrive/physionet/HMC/hmc-sleep-staging/recordings/SN098.edf\n",
            "/content/drive/MyDrive/physionet/HMC/hmc-sleep-staging/recordings/SN104.edf\n",
            "/content/drive/MyDrive/physionet/HMC/hmc-sleep-staging/recordings/SN110.edf\n",
            "/content/drive/MyDrive/physionet/HMC/hmc-sleep-staging/recordings/SN116.edf\n",
            "/content/drive/MyDrive/physionet/HMC/hmc-sleep-staging/recordings/SN122.edf\n",
            "/content/drive/MyDrive/physionet/HMC/hmc-sleep-staging/recordings/SN128.edf\n",
            "/content/drive/MyDrive/physionet/HMC/hmc-sleep-staging/recordings/SN134.edf\n",
            "/content/drive/MyDrive/physionet/HMC/hmc-sleep-staging/recordings/SN141.edf\n",
            "/content/drive/MyDrive/physionet/HMC/hmc-sleep-staging/recordings/SN147.edf\n",
            "/content/drive/MyDrive/physionet/HMC/hmc-sleep-staging/recordings/SN153.edf\n"
          ]
        }
      ]
    },
    {
      "cell_type": "markdown",
      "source": [
        "#Sleep_staging_classification"
      ],
      "metadata": {
        "id": "ZoNlzRoAMQSB"
      }
    },
    {
      "cell_type": "markdown",
      "source": [
        "download libraries"
      ],
      "metadata": {
        "id": "JcZvqToaRkA_"
      }
    },
    {
      "cell_type": "code",
      "source": [
        "!pip install pyEDFlib  #pyEDFlib 라이브러리를 다운로드"
      ],
      "metadata": {
        "id": "x64sn_WzrioG",
        "outputId": "4a5bd41c-9c50-408d-ce82-5472303f1a77",
        "colab": {
          "base_uri": "https://localhost:8080/"
        }
      },
      "execution_count": 1,
      "outputs": [
        {
          "output_type": "stream",
          "name": "stdout",
          "text": [
            "Looking in indexes: https://pypi.org/simple, https://us-python.pkg.dev/colab-wheels/public/simple/\n",
            "Collecting pyEDFlib\n",
            "  Downloading pyEDFlib-0.1.28-cp37-cp37m-manylinux_2_17_x86_64.manylinux2014_x86_64.whl (2.4 MB)\n",
            "\u001b[K     |████████████████████████████████| 2.4 MB 5.3 MB/s \n",
            "\u001b[?25hRequirement already satisfied: numpy>=1.9.1 in /usr/local/lib/python3.7/dist-packages (from pyEDFlib) (1.21.6)\n",
            "Installing collected packages: pyEDFlib\n",
            "Successfully installed pyEDFlib-0.1.28\n"
          ]
        }
      ]
    },
    {
      "cell_type": "code",
      "source": [
        "!pip install pyedflib"
      ],
      "metadata": {
        "colab": {
          "base_uri": "https://localhost:8080/"
        },
        "id": "UcOjLy3V2vDQ",
        "outputId": "2dec1371-8490-416b-e124-32cadde8258f"
      },
      "execution_count": 2,
      "outputs": [
        {
          "output_type": "stream",
          "name": "stdout",
          "text": [
            "Looking in indexes: https://pypi.org/simple, https://us-python.pkg.dev/colab-wheels/public/simple/\n",
            "Requirement already satisfied: pyedflib in /usr/local/lib/python3.7/dist-packages (0.1.28)\n",
            "Requirement already satisfied: numpy>=1.9.1 in /usr/local/lib/python3.7/dist-packages (from pyedflib) (1.21.6)\n"
          ]
        }
      ]
    },
    {
      "cell_type": "code",
      "source": [
        "!pip install tensorflow"
      ],
      "metadata": {
        "colab": {
          "base_uri": "https://localhost:8080/"
        },
        "id": "w5HXh6cLd9rl",
        "outputId": "2f165b9d-ff82-48d7-88d1-3609a7997bd5"
      },
      "execution_count": 3,
      "outputs": [
        {
          "output_type": "stream",
          "name": "stdout",
          "text": [
            "Looking in indexes: https://pypi.org/simple, https://us-python.pkg.dev/colab-wheels/public/simple/\n",
            "Requirement already satisfied: tensorflow in /usr/local/lib/python3.7/dist-packages (2.8.0+zzzcolab20220506162203)\n",
            "Requirement already satisfied: gast>=0.2.1 in /usr/local/lib/python3.7/dist-packages (from tensorflow) (0.5.3)\n",
            "Requirement already satisfied: termcolor>=1.1.0 in /usr/local/lib/python3.7/dist-packages (from tensorflow) (1.1.0)\n",
            "Requirement already satisfied: six>=1.12.0 in /usr/local/lib/python3.7/dist-packages (from tensorflow) (1.15.0)\n",
            "Collecting tf-estimator-nightly==2.8.0.dev2021122109\n",
            "  Downloading tf_estimator_nightly-2.8.0.dev2021122109-py2.py3-none-any.whl (462 kB)\n",
            "\u001b[K     |████████████████████████████████| 462 kB 5.1 MB/s \n",
            "\u001b[?25hRequirement already satisfied: opt-einsum>=2.3.2 in /usr/local/lib/python3.7/dist-packages (from tensorflow) (3.3.0)\n",
            "Requirement already satisfied: absl-py>=0.4.0 in /usr/local/lib/python3.7/dist-packages (from tensorflow) (1.0.0)\n",
            "Requirement already satisfied: keras<2.9,>=2.8.0rc0 in /usr/local/lib/python3.7/dist-packages (from tensorflow) (2.8.0)\n",
            "Requirement already satisfied: libclang>=9.0.1 in /usr/local/lib/python3.7/dist-packages (from tensorflow) (14.0.1)\n",
            "Requirement already satisfied: tensorboard<2.9,>=2.8 in /usr/local/lib/python3.7/dist-packages (from tensorflow) (2.8.0)\n",
            "Requirement already satisfied: setuptools in /usr/local/lib/python3.7/dist-packages (from tensorflow) (57.4.0)\n",
            "Requirement already satisfied: google-pasta>=0.1.1 in /usr/local/lib/python3.7/dist-packages (from tensorflow) (0.2.0)\n",
            "Requirement already satisfied: typing-extensions>=3.6.6 in /usr/local/lib/python3.7/dist-packages (from tensorflow) (4.2.0)\n",
            "Requirement already satisfied: astunparse>=1.6.0 in /usr/local/lib/python3.7/dist-packages (from tensorflow) (1.6.3)\n",
            "Requirement already satisfied: grpcio<2.0,>=1.24.3 in /usr/local/lib/python3.7/dist-packages (from tensorflow) (1.46.1)\n",
            "Requirement already satisfied: h5py>=2.9.0 in /usr/local/lib/python3.7/dist-packages (from tensorflow) (3.1.0)\n",
            "Requirement already satisfied: numpy>=1.20 in /usr/local/lib/python3.7/dist-packages (from tensorflow) (1.21.6)\n",
            "Requirement already satisfied: keras-preprocessing>=1.1.1 in /usr/local/lib/python3.7/dist-packages (from tensorflow) (1.1.2)\n",
            "Requirement already satisfied: tensorflow-io-gcs-filesystem>=0.23.1 in /usr/local/lib/python3.7/dist-packages (from tensorflow) (0.26.0)\n",
            "Requirement already satisfied: flatbuffers>=1.12 in /usr/local/lib/python3.7/dist-packages (from tensorflow) (2.0)\n",
            "Requirement already satisfied: wrapt>=1.11.0 in /usr/local/lib/python3.7/dist-packages (from tensorflow) (1.14.1)\n",
            "Requirement already satisfied: protobuf>=3.9.2 in /usr/local/lib/python3.7/dist-packages (from tensorflow) (3.17.3)\n",
            "Requirement already satisfied: wheel<1.0,>=0.23.0 in /usr/local/lib/python3.7/dist-packages (from astunparse>=1.6.0->tensorflow) (0.37.1)\n",
            "Requirement already satisfied: cached-property in /usr/local/lib/python3.7/dist-packages (from h5py>=2.9.0->tensorflow) (1.5.2)\n",
            "Requirement already satisfied: google-auth-oauthlib<0.5,>=0.4.1 in /usr/local/lib/python3.7/dist-packages (from tensorboard<2.9,>=2.8->tensorflow) (0.4.6)\n",
            "Requirement already satisfied: tensorboard-plugin-wit>=1.6.0 in /usr/local/lib/python3.7/dist-packages (from tensorboard<2.9,>=2.8->tensorflow) (1.8.1)\n",
            "Requirement already satisfied: werkzeug>=0.11.15 in /usr/local/lib/python3.7/dist-packages (from tensorboard<2.9,>=2.8->tensorflow) (1.0.1)\n",
            "Requirement already satisfied: requests<3,>=2.21.0 in /usr/local/lib/python3.7/dist-packages (from tensorboard<2.9,>=2.8->tensorflow) (2.23.0)\n",
            "Requirement already satisfied: google-auth<3,>=1.6.3 in /usr/local/lib/python3.7/dist-packages (from tensorboard<2.9,>=2.8->tensorflow) (1.35.0)\n",
            "Requirement already satisfied: markdown>=2.6.8 in /usr/local/lib/python3.7/dist-packages (from tensorboard<2.9,>=2.8->tensorflow) (3.3.7)\n",
            "Requirement already satisfied: tensorboard-data-server<0.7.0,>=0.6.0 in /usr/local/lib/python3.7/dist-packages (from tensorboard<2.9,>=2.8->tensorflow) (0.6.1)\n",
            "Requirement already satisfied: rsa<5,>=3.1.4 in /usr/local/lib/python3.7/dist-packages (from google-auth<3,>=1.6.3->tensorboard<2.9,>=2.8->tensorflow) (4.8)\n",
            "Requirement already satisfied: pyasn1-modules>=0.2.1 in /usr/local/lib/python3.7/dist-packages (from google-auth<3,>=1.6.3->tensorboard<2.9,>=2.8->tensorflow) (0.2.8)\n",
            "Requirement already satisfied: cachetools<5.0,>=2.0.0 in /usr/local/lib/python3.7/dist-packages (from google-auth<3,>=1.6.3->tensorboard<2.9,>=2.8->tensorflow) (4.2.4)\n",
            "Requirement already satisfied: requests-oauthlib>=0.7.0 in /usr/local/lib/python3.7/dist-packages (from google-auth-oauthlib<0.5,>=0.4.1->tensorboard<2.9,>=2.8->tensorflow) (1.3.1)\n",
            "Requirement already satisfied: importlib-metadata>=4.4 in /usr/local/lib/python3.7/dist-packages (from markdown>=2.6.8->tensorboard<2.9,>=2.8->tensorflow) (4.11.3)\n",
            "Requirement already satisfied: zipp>=0.5 in /usr/local/lib/python3.7/dist-packages (from importlib-metadata>=4.4->markdown>=2.6.8->tensorboard<2.9,>=2.8->tensorflow) (3.8.0)\n",
            "Requirement already satisfied: pyasn1<0.5.0,>=0.4.6 in /usr/local/lib/python3.7/dist-packages (from pyasn1-modules>=0.2.1->google-auth<3,>=1.6.3->tensorboard<2.9,>=2.8->tensorflow) (0.4.8)\n",
            "Requirement already satisfied: chardet<4,>=3.0.2 in /usr/local/lib/python3.7/dist-packages (from requests<3,>=2.21.0->tensorboard<2.9,>=2.8->tensorflow) (3.0.4)\n",
            "Requirement already satisfied: certifi>=2017.4.17 in /usr/local/lib/python3.7/dist-packages (from requests<3,>=2.21.0->tensorboard<2.9,>=2.8->tensorflow) (2022.5.18.1)\n",
            "Requirement already satisfied: idna<3,>=2.5 in /usr/local/lib/python3.7/dist-packages (from requests<3,>=2.21.0->tensorboard<2.9,>=2.8->tensorflow) (2.10)\n",
            "Requirement already satisfied: urllib3!=1.25.0,!=1.25.1,<1.26,>=1.21.1 in /usr/local/lib/python3.7/dist-packages (from requests<3,>=2.21.0->tensorboard<2.9,>=2.8->tensorflow) (1.24.3)\n",
            "Requirement already satisfied: oauthlib>=3.0.0 in /usr/local/lib/python3.7/dist-packages (from requests-oauthlib>=0.7.0->google-auth-oauthlib<0.5,>=0.4.1->tensorboard<2.9,>=2.8->tensorflow) (3.2.0)\n",
            "Installing collected packages: tf-estimator-nightly\n",
            "Successfully installed tf-estimator-nightly-2.8.0.dev2021122109\n"
          ]
        }
      ]
    },
    {
      "cell_type": "markdown",
      "source": [
        "import libraries"
      ],
      "metadata": {
        "id": "qTT6dclBmd-_"
      }
    },
    {
      "cell_type": "code",
      "source": [
        "import os  \n",
        "from pyedflib import highlevel\n",
        "import pyedflib\n",
        "import glob\n",
        "from itertools import accumulate\n",
        "import numpy as np \n",
        "import torch\n",
        "import matplotlib.pyplot as plt\n",
        "#모듈 import\n",
        "from sklearn.datasets import load_iris  #(2)sklearn라이브러리에 detasets패키지 모듈 import\n",
        "from sklearn.model_selection import train_test_split  #(3)sklearn.model_selection패키지의 train_test_split를 활용해 데이터셋 분리\n",
        "from sklearn.tree import DecisionTreeClassifier #(4)sklearn.tree패키지에 DecisionTreeClassifier import\n",
        "from sklearn.metrics import classification_report\n",
        "from sklearn.metrics import accuracy_score #정확도"
      ],
      "metadata": {
        "id": "-QROK9uTz_3i"
      },
      "execution_count": 4,
      "outputs": []
    },
    {
      "cell_type": "markdown",
      "source": [
        "경로 설정"
      ],
      "metadata": {
        "id": "_bneYkG7Rtol"
      }
    },
    {
      "cell_type": "code",
      "source": [
        "r_path = \"/content/drive/MyDrive/physionet/HMC/hmc-sleep-staging/recordings/\" #데이터들이 있는 경로"
      ],
      "metadata": {
        "id": "owHSlcJkuGaV"
      },
      "execution_count": 5,
      "outputs": []
    },
    {
      "cell_type": "markdown",
      "source": [
        "/content/drive/MyDrive/physionet/HMC/hmc-sleep-staging/recordings/SN001.#72번째 문자가 edf로 끝나는 경로명\n",
        "\n",
        "SNxxx.edf로 끝나는 signal데이터와 SNxxx_sleepscoring.edf를 구분하기 위해 \n",
        "\n"
      ],
      "metadata": {
        "id": "3jiTPJt6IB5Y"
      }
    },
    {
      "cell_type": "code",
      "source": [
        "data_list = sorted(glob.glob(r_path+'/**')) #이름 순으로 정렬하여 r_path에 있는 데이터의 경로명들 전부 불러와 data_list에 할당\n",
        "\n",
        "l = len(data_list[0]) - 3 #SNxxx.edf로 끝나는 signal데이터와 SNxxx_sleepscoring.edf를 구분하기 위해\n",
        "                          # signal data( 예를 들어 '/content/drive/MyDrive/physionet/HMC/hmc-sleep-staging/recordings/SN002.edf')\n",
        "                          # signal data끼리는 경로명의 문자열길이가 다 같다\n",
        "                          # 하지만 label data는 'sleepscoring.edf'로 끝나 signal data의 경로명과 문자열 길이가 다름\n",
        "                          # signal data들만 따로 모아 리스트에 담기 위해서는 siganl data의 경로명 문자열 길이에서 3을 뺀것이\"edf\"가 되는 것들만 모아야됨\n",
        "\n",
        "print(f'데이터 경로 : {data_list}')\n",
        "print(\"\\n\")\n",
        "\n",
        "# signal data들의 경로를 모두 trains에 리스트에 담고, #train valid test와 헷갈리지 말 것.\n",
        "# labels data들의 경로들은 모두 labels 리스트에 담는다\n",
        "trains = [x for x in data_list if x.startswith('edf',l)] #signal data 경로의 길이에서 3을 뺀 인덱스의 문자가 edf로 끝나면 signal 데이터 리스트에 담는다\n",
        "labels = [x for x in data_list if x.endswith('_sleepscoring.edf')] #경로명이 \"_sleepscoring.edf\"로 끝나면 labels 리스트에 담는다\n",
        "\n",
        "\n",
        "# ram 과부하로 인해 100개 데이터만 사용 하려면 밑에 trains랑 labels 주석처리 지우고 사용\n",
        "#trains = trains[:100]\n",
        "#labels = labels[:100]\n",
        "\n",
        "print(f'signal_data 경로 : {trains}')\n",
        "print(\"\\n\")\n",
        "print(f'label_data 경로 : {labels}')\n",
        "print(\"\\n\")\n",
        "print(f\"첫번째 signal data : {highlevel.read_edf(trains[0],ch_names='ECG')}\")\n",
        "print(\"\\n\")\n",
        "print(f'첫번째 label data : {highlevel.read_edf(labels[0])}')\n",
        "print(\"\\n\")\n",
        "#print(highlevel.read_edf(trains[0],ch_names='ECG',digital=True))\n",
        "#a = highlevel.read_edf(trains[0],ch_names='ECG')\n",
        "#b = highlevel.read_edf(labels[0],ch_names='ECG')\n",
        "#print(type(highlevel.read_edf(trains[0])))\n",
        "#print(type(highlevel.read_edf(labels[0])))\n",
        "\n",
        "print(f\"Total signal count: {len(trains)}\")\n",
        "#print(f\"Label names: {class_names}\")\n",
        "print(f\"Label counts: {len(labels)}\")"
      ],
      "metadata": {
        "colab": {
          "base_uri": "https://localhost:8080/"
        },
        "id": "eBoD5AqhtRCB",
        "outputId": "166e85b5-8122-4357-f7f0-8765c0ff8fb0"
      },
      "execution_count": 8,
      "outputs": [
        {
          "output_type": "stream",
          "name": "stdout",
          "text": [
            "데이터 경로 : ['/content/drive/MyDrive/physionet/HMC/hmc-sleep-staging/recordings/SN001.edf', '/content/drive/MyDrive/physionet/HMC/hmc-sleep-staging/recordings/SN001_sleepscoring.edf', '/content/drive/MyDrive/physionet/HMC/hmc-sleep-staging/recordings/SN001_sleepscoring.txt', '/content/drive/MyDrive/physionet/HMC/hmc-sleep-staging/recordings/SN002.edf', '/content/drive/MyDrive/physionet/HMC/hmc-sleep-staging/recordings/SN002_sleepscoring.edf', '/content/drive/MyDrive/physionet/HMC/hmc-sleep-staging/recordings/SN002_sleepscoring.txt', '/content/drive/MyDrive/physionet/HMC/hmc-sleep-staging/recordings/SN003.edf', '/content/drive/MyDrive/physionet/HMC/hmc-sleep-staging/recordings/SN003_sleepscoring.edf', '/content/drive/MyDrive/physionet/HMC/hmc-sleep-staging/recordings/SN003_sleepscoring.txt', '/content/drive/MyDrive/physionet/HMC/hmc-sleep-staging/recordings/SN004.edf', '/content/drive/MyDrive/physionet/HMC/hmc-sleep-staging/recordings/SN004_sleepscoring.edf', '/content/drive/MyDrive/physionet/HMC/hmc-sleep-staging/recordings/SN004_sleepscoring.txt', '/content/drive/MyDrive/physionet/HMC/hmc-sleep-staging/recordings/SN005.edf', '/content/drive/MyDrive/physionet/HMC/hmc-sleep-staging/recordings/SN005_sleepscoring.edf', '/content/drive/MyDrive/physionet/HMC/hmc-sleep-staging/recordings/SN005_sleepscoring.txt', '/content/drive/MyDrive/physionet/HMC/hmc-sleep-staging/recordings/SN006.edf', '/content/drive/MyDrive/physionet/HMC/hmc-sleep-staging/recordings/SN006_sleepscoring.edf', '/content/drive/MyDrive/physionet/HMC/hmc-sleep-staging/recordings/SN006_sleepscoring.txt', '/content/drive/MyDrive/physionet/HMC/hmc-sleep-staging/recordings/SN007.edf', '/content/drive/MyDrive/physionet/HMC/hmc-sleep-staging/recordings/SN007_sleepscoring.edf', '/content/drive/MyDrive/physionet/HMC/hmc-sleep-staging/recordings/SN007_sleepscoring.txt', '/content/drive/MyDrive/physionet/HMC/hmc-sleep-staging/recordings/SN008.edf', '/content/drive/MyDrive/physionet/HMC/hmc-sleep-staging/recordings/SN008_sleepscoring.edf', '/content/drive/MyDrive/physionet/HMC/hmc-sleep-staging/recordings/SN008_sleepscoring.txt', '/content/drive/MyDrive/physionet/HMC/hmc-sleep-staging/recordings/SN009.edf', '/content/drive/MyDrive/physionet/HMC/hmc-sleep-staging/recordings/SN009_sleepscoring.edf', '/content/drive/MyDrive/physionet/HMC/hmc-sleep-staging/recordings/SN009_sleepscoring.txt', '/content/drive/MyDrive/physionet/HMC/hmc-sleep-staging/recordings/SN010.edf', '/content/drive/MyDrive/physionet/HMC/hmc-sleep-staging/recordings/SN010_sleepscoring.edf', '/content/drive/MyDrive/physionet/HMC/hmc-sleep-staging/recordings/SN010_sleepscoring.txt', '/content/drive/MyDrive/physionet/HMC/hmc-sleep-staging/recordings/SN011.edf', '/content/drive/MyDrive/physionet/HMC/hmc-sleep-staging/recordings/SN011_sleepscoring.edf', '/content/drive/MyDrive/physionet/HMC/hmc-sleep-staging/recordings/SN011_sleepscoring.txt', '/content/drive/MyDrive/physionet/HMC/hmc-sleep-staging/recordings/SN012.edf', '/content/drive/MyDrive/physionet/HMC/hmc-sleep-staging/recordings/SN012_sleepscoring.edf', '/content/drive/MyDrive/physionet/HMC/hmc-sleep-staging/recordings/SN012_sleepscoring.txt', '/content/drive/MyDrive/physionet/HMC/hmc-sleep-staging/recordings/SN013.edf', '/content/drive/MyDrive/physionet/HMC/hmc-sleep-staging/recordings/SN013_sleepscoring.edf', '/content/drive/MyDrive/physionet/HMC/hmc-sleep-staging/recordings/SN013_sleepscoring.txt', '/content/drive/MyDrive/physionet/HMC/hmc-sleep-staging/recordings/SN015.edf', '/content/drive/MyDrive/physionet/HMC/hmc-sleep-staging/recordings/SN015_sleepscoring.edf', '/content/drive/MyDrive/physionet/HMC/hmc-sleep-staging/recordings/SN015_sleepscoring.txt', '/content/drive/MyDrive/physionet/HMC/hmc-sleep-staging/recordings/SN016.edf', '/content/drive/MyDrive/physionet/HMC/hmc-sleep-staging/recordings/SN016_sleepscoring.edf', '/content/drive/MyDrive/physionet/HMC/hmc-sleep-staging/recordings/SN016_sleepscoring.txt', '/content/drive/MyDrive/physionet/HMC/hmc-sleep-staging/recordings/SN017.edf', '/content/drive/MyDrive/physionet/HMC/hmc-sleep-staging/recordings/SN017_sleepscoring.edf', '/content/drive/MyDrive/physionet/HMC/hmc-sleep-staging/recordings/SN017_sleepscoring.txt', '/content/drive/MyDrive/physionet/HMC/hmc-sleep-staging/recordings/SN018.edf', '/content/drive/MyDrive/physionet/HMC/hmc-sleep-staging/recordings/SN018_sleepscoring.edf', '/content/drive/MyDrive/physionet/HMC/hmc-sleep-staging/recordings/SN018_sleepscoring.txt', '/content/drive/MyDrive/physionet/HMC/hmc-sleep-staging/recordings/SN019.edf', '/content/drive/MyDrive/physionet/HMC/hmc-sleep-staging/recordings/SN019_sleepscoring.edf', '/content/drive/MyDrive/physionet/HMC/hmc-sleep-staging/recordings/SN019_sleepscoring.txt', '/content/drive/MyDrive/physionet/HMC/hmc-sleep-staging/recordings/SN020.edf', '/content/drive/MyDrive/physionet/HMC/hmc-sleep-staging/recordings/SN020_sleepscoring.edf', '/content/drive/MyDrive/physionet/HMC/hmc-sleep-staging/recordings/SN020_sleepscoring.txt', '/content/drive/MyDrive/physionet/HMC/hmc-sleep-staging/recordings/SN021.edf', '/content/drive/MyDrive/physionet/HMC/hmc-sleep-staging/recordings/SN021_sleepscoring.edf', '/content/drive/MyDrive/physionet/HMC/hmc-sleep-staging/recordings/SN021_sleepscoring.txt', '/content/drive/MyDrive/physionet/HMC/hmc-sleep-staging/recordings/SN022.edf', '/content/drive/MyDrive/physionet/HMC/hmc-sleep-staging/recordings/SN022_sleepscoring.edf', '/content/drive/MyDrive/physionet/HMC/hmc-sleep-staging/recordings/SN022_sleepscoring.txt', '/content/drive/MyDrive/physionet/HMC/hmc-sleep-staging/recordings/SN023.edf', '/content/drive/MyDrive/physionet/HMC/hmc-sleep-staging/recordings/SN023_sleepscoring.edf', '/content/drive/MyDrive/physionet/HMC/hmc-sleep-staging/recordings/SN023_sleepscoring.txt', '/content/drive/MyDrive/physionet/HMC/hmc-sleep-staging/recordings/SN024.edf', '/content/drive/MyDrive/physionet/HMC/hmc-sleep-staging/recordings/SN024_sleepscoring.edf', '/content/drive/MyDrive/physionet/HMC/hmc-sleep-staging/recordings/SN024_sleepscoring.txt', '/content/drive/MyDrive/physionet/HMC/hmc-sleep-staging/recordings/SN025.edf', '/content/drive/MyDrive/physionet/HMC/hmc-sleep-staging/recordings/SN025_sleepscoring.edf', '/content/drive/MyDrive/physionet/HMC/hmc-sleep-staging/recordings/SN025_sleepscoring.txt', '/content/drive/MyDrive/physionet/HMC/hmc-sleep-staging/recordings/SN026.edf', '/content/drive/MyDrive/physionet/HMC/hmc-sleep-staging/recordings/SN026_sleepscoring.edf', '/content/drive/MyDrive/physionet/HMC/hmc-sleep-staging/recordings/SN026_sleepscoring.txt', '/content/drive/MyDrive/physionet/HMC/hmc-sleep-staging/recordings/SN027.edf', '/content/drive/MyDrive/physionet/HMC/hmc-sleep-staging/recordings/SN027_sleepscoring.edf', '/content/drive/MyDrive/physionet/HMC/hmc-sleep-staging/recordings/SN027_sleepscoring.txt', '/content/drive/MyDrive/physionet/HMC/hmc-sleep-staging/recordings/SN028.edf', '/content/drive/MyDrive/physionet/HMC/hmc-sleep-staging/recordings/SN028_sleepscoring.edf', '/content/drive/MyDrive/physionet/HMC/hmc-sleep-staging/recordings/SN028_sleepscoring.txt', '/content/drive/MyDrive/physionet/HMC/hmc-sleep-staging/recordings/SN029.edf', '/content/drive/MyDrive/physionet/HMC/hmc-sleep-staging/recordings/SN029_sleepscoring.edf', '/content/drive/MyDrive/physionet/HMC/hmc-sleep-staging/recordings/SN029_sleepscoring.txt', '/content/drive/MyDrive/physionet/HMC/hmc-sleep-staging/recordings/SN030.edf', '/content/drive/MyDrive/physionet/HMC/hmc-sleep-staging/recordings/SN030_sleepscoring.edf', '/content/drive/MyDrive/physionet/HMC/hmc-sleep-staging/recordings/SN030_sleepscoring.txt', '/content/drive/MyDrive/physionet/HMC/hmc-sleep-staging/recordings/SN031.edf', '/content/drive/MyDrive/physionet/HMC/hmc-sleep-staging/recordings/SN031_sleepscoring.edf', '/content/drive/MyDrive/physionet/HMC/hmc-sleep-staging/recordings/SN031_sleepscoring.txt', '/content/drive/MyDrive/physionet/HMC/hmc-sleep-staging/recordings/SN032.edf', '/content/drive/MyDrive/physionet/HMC/hmc-sleep-staging/recordings/SN032_sleepscoring.edf', '/content/drive/MyDrive/physionet/HMC/hmc-sleep-staging/recordings/SN032_sleepscoring.txt', '/content/drive/MyDrive/physionet/HMC/hmc-sleep-staging/recordings/SN033.edf', '/content/drive/MyDrive/physionet/HMC/hmc-sleep-staging/recordings/SN033_sleepscoring.edf', '/content/drive/MyDrive/physionet/HMC/hmc-sleep-staging/recordings/SN033_sleepscoring.txt', '/content/drive/MyDrive/physionet/HMC/hmc-sleep-staging/recordings/SN034.edf', '/content/drive/MyDrive/physionet/HMC/hmc-sleep-staging/recordings/SN034_sleepscoring.edf', '/content/drive/MyDrive/physionet/HMC/hmc-sleep-staging/recordings/SN034_sleepscoring.txt', '/content/drive/MyDrive/physionet/HMC/hmc-sleep-staging/recordings/SN035.edf', '/content/drive/MyDrive/physionet/HMC/hmc-sleep-staging/recordings/SN035_sleepscoring.edf', '/content/drive/MyDrive/physionet/HMC/hmc-sleep-staging/recordings/SN035_sleepscoring.txt', '/content/drive/MyDrive/physionet/HMC/hmc-sleep-staging/recordings/SN036.edf', '/content/drive/MyDrive/physionet/HMC/hmc-sleep-staging/recordings/SN036_sleepscoring.edf', '/content/drive/MyDrive/physionet/HMC/hmc-sleep-staging/recordings/SN036_sleepscoring.txt', '/content/drive/MyDrive/physionet/HMC/hmc-sleep-staging/recordings/SN037.edf', '/content/drive/MyDrive/physionet/HMC/hmc-sleep-staging/recordings/SN037_sleepscoring.edf', '/content/drive/MyDrive/physionet/HMC/hmc-sleep-staging/recordings/SN037_sleepscoring.txt', '/content/drive/MyDrive/physionet/HMC/hmc-sleep-staging/recordings/SN038.edf', '/content/drive/MyDrive/physionet/HMC/hmc-sleep-staging/recordings/SN038_sleepscoring.edf', '/content/drive/MyDrive/physionet/HMC/hmc-sleep-staging/recordings/SN038_sleepscoring.txt', '/content/drive/MyDrive/physionet/HMC/hmc-sleep-staging/recordings/SN039.edf', '/content/drive/MyDrive/physionet/HMC/hmc-sleep-staging/recordings/SN039_sleepscoring.edf', '/content/drive/MyDrive/physionet/HMC/hmc-sleep-staging/recordings/SN039_sleepscoring.txt', '/content/drive/MyDrive/physionet/HMC/hmc-sleep-staging/recordings/SN040.edf', '/content/drive/MyDrive/physionet/HMC/hmc-sleep-staging/recordings/SN040_sleepscoring.edf', '/content/drive/MyDrive/physionet/HMC/hmc-sleep-staging/recordings/SN040_sleepscoring.txt', '/content/drive/MyDrive/physionet/HMC/hmc-sleep-staging/recordings/SN041.edf', '/content/drive/MyDrive/physionet/HMC/hmc-sleep-staging/recordings/SN041_sleepscoring.edf', '/content/drive/MyDrive/physionet/HMC/hmc-sleep-staging/recordings/SN041_sleepscoring.txt', '/content/drive/MyDrive/physionet/HMC/hmc-sleep-staging/recordings/SN042.edf', '/content/drive/MyDrive/physionet/HMC/hmc-sleep-staging/recordings/SN042_sleepscoring.edf', '/content/drive/MyDrive/physionet/HMC/hmc-sleep-staging/recordings/SN042_sleepscoring.txt', '/content/drive/MyDrive/physionet/HMC/hmc-sleep-staging/recordings/SN043.edf', '/content/drive/MyDrive/physionet/HMC/hmc-sleep-staging/recordings/SN043_sleepscoring.edf', '/content/drive/MyDrive/physionet/HMC/hmc-sleep-staging/recordings/SN043_sleepscoring.txt', '/content/drive/MyDrive/physionet/HMC/hmc-sleep-staging/recordings/SN044.edf', '/content/drive/MyDrive/physionet/HMC/hmc-sleep-staging/recordings/SN044_sleepscoring.edf', '/content/drive/MyDrive/physionet/HMC/hmc-sleep-staging/recordings/SN044_sleepscoring.txt', '/content/drive/MyDrive/physionet/HMC/hmc-sleep-staging/recordings/SN045.edf', '/content/drive/MyDrive/physionet/HMC/hmc-sleep-staging/recordings/SN045_sleepscoring.edf', '/content/drive/MyDrive/physionet/HMC/hmc-sleep-staging/recordings/SN045_sleepscoring.txt', '/content/drive/MyDrive/physionet/HMC/hmc-sleep-staging/recordings/SN046.edf', '/content/drive/MyDrive/physionet/HMC/hmc-sleep-staging/recordings/SN046_sleepscoring.edf', '/content/drive/MyDrive/physionet/HMC/hmc-sleep-staging/recordings/SN046_sleepscoring.txt', '/content/drive/MyDrive/physionet/HMC/hmc-sleep-staging/recordings/SN047.edf', '/content/drive/MyDrive/physionet/HMC/hmc-sleep-staging/recordings/SN047_sleepscoring.edf', '/content/drive/MyDrive/physionet/HMC/hmc-sleep-staging/recordings/SN047_sleepscoring.txt', '/content/drive/MyDrive/physionet/HMC/hmc-sleep-staging/recordings/SN048.edf', '/content/drive/MyDrive/physionet/HMC/hmc-sleep-staging/recordings/SN048_sleepscoring.edf', '/content/drive/MyDrive/physionet/HMC/hmc-sleep-staging/recordings/SN048_sleepscoring.txt', '/content/drive/MyDrive/physionet/HMC/hmc-sleep-staging/recordings/SN049.edf', '/content/drive/MyDrive/physionet/HMC/hmc-sleep-staging/recordings/SN049_sleepscoring.edf', '/content/drive/MyDrive/physionet/HMC/hmc-sleep-staging/recordings/SN049_sleepscoring.txt', '/content/drive/MyDrive/physionet/HMC/hmc-sleep-staging/recordings/SN050.edf', '/content/drive/MyDrive/physionet/HMC/hmc-sleep-staging/recordings/SN050_sleepscoring.edf', '/content/drive/MyDrive/physionet/HMC/hmc-sleep-staging/recordings/SN050_sleepscoring.txt', '/content/drive/MyDrive/physionet/HMC/hmc-sleep-staging/recordings/SN051.edf', '/content/drive/MyDrive/physionet/HMC/hmc-sleep-staging/recordings/SN051_sleepscoring.edf', '/content/drive/MyDrive/physionet/HMC/hmc-sleep-staging/recordings/SN051_sleepscoring.txt', '/content/drive/MyDrive/physionet/HMC/hmc-sleep-staging/recordings/SN052.edf', '/content/drive/MyDrive/physionet/HMC/hmc-sleep-staging/recordings/SN052_sleepscoring.edf', '/content/drive/MyDrive/physionet/HMC/hmc-sleep-staging/recordings/SN052_sleepscoring.txt', '/content/drive/MyDrive/physionet/HMC/hmc-sleep-staging/recordings/SN053.edf', '/content/drive/MyDrive/physionet/HMC/hmc-sleep-staging/recordings/SN053_sleepscoring.edf', '/content/drive/MyDrive/physionet/HMC/hmc-sleep-staging/recordings/SN053_sleepscoring.txt', '/content/drive/MyDrive/physionet/HMC/hmc-sleep-staging/recordings/SN054.edf', '/content/drive/MyDrive/physionet/HMC/hmc-sleep-staging/recordings/SN054_sleepscoring.edf', '/content/drive/MyDrive/physionet/HMC/hmc-sleep-staging/recordings/SN054_sleepscoring.txt', '/content/drive/MyDrive/physionet/HMC/hmc-sleep-staging/recordings/SN055.edf', '/content/drive/MyDrive/physionet/HMC/hmc-sleep-staging/recordings/SN055_sleepscoring.edf', '/content/drive/MyDrive/physionet/HMC/hmc-sleep-staging/recordings/SN055_sleepscoring.txt', '/content/drive/MyDrive/physionet/HMC/hmc-sleep-staging/recordings/SN056.edf', '/content/drive/MyDrive/physionet/HMC/hmc-sleep-staging/recordings/SN056_sleepscoring.edf', '/content/drive/MyDrive/physionet/HMC/hmc-sleep-staging/recordings/SN056_sleepscoring.txt', '/content/drive/MyDrive/physionet/HMC/hmc-sleep-staging/recordings/SN057.edf', '/content/drive/MyDrive/physionet/HMC/hmc-sleep-staging/recordings/SN057_sleepscoring.edf', '/content/drive/MyDrive/physionet/HMC/hmc-sleep-staging/recordings/SN057_sleepscoring.txt', '/content/drive/MyDrive/physionet/HMC/hmc-sleep-staging/recordings/SN058.edf', '/content/drive/MyDrive/physionet/HMC/hmc-sleep-staging/recordings/SN058_sleepscoring.edf', '/content/drive/MyDrive/physionet/HMC/hmc-sleep-staging/recordings/SN058_sleepscoring.txt', '/content/drive/MyDrive/physionet/HMC/hmc-sleep-staging/recordings/SN059.edf', '/content/drive/MyDrive/physionet/HMC/hmc-sleep-staging/recordings/SN059_sleepscoring.edf', '/content/drive/MyDrive/physionet/HMC/hmc-sleep-staging/recordings/SN059_sleepscoring.txt', '/content/drive/MyDrive/physionet/HMC/hmc-sleep-staging/recordings/SN060.edf', '/content/drive/MyDrive/physionet/HMC/hmc-sleep-staging/recordings/SN060_sleepscoring.edf', '/content/drive/MyDrive/physionet/HMC/hmc-sleep-staging/recordings/SN060_sleepscoring.txt', '/content/drive/MyDrive/physionet/HMC/hmc-sleep-staging/recordings/SN061.edf', '/content/drive/MyDrive/physionet/HMC/hmc-sleep-staging/recordings/SN061_sleepscoring.edf', '/content/drive/MyDrive/physionet/HMC/hmc-sleep-staging/recordings/SN061_sleepscoring.txt', '/content/drive/MyDrive/physionet/HMC/hmc-sleep-staging/recordings/SN062.edf', '/content/drive/MyDrive/physionet/HMC/hmc-sleep-staging/recordings/SN062_sleepscoring.edf', '/content/drive/MyDrive/physionet/HMC/hmc-sleep-staging/recordings/SN062_sleepscoring.txt', '/content/drive/MyDrive/physionet/HMC/hmc-sleep-staging/recordings/SN063.edf', '/content/drive/MyDrive/physionet/HMC/hmc-sleep-staging/recordings/SN063_sleepscoring.edf', '/content/drive/MyDrive/physionet/HMC/hmc-sleep-staging/recordings/SN063_sleepscoring.txt', '/content/drive/MyDrive/physionet/HMC/hmc-sleep-staging/recordings/SN065.edf', '/content/drive/MyDrive/physionet/HMC/hmc-sleep-staging/recordings/SN065_sleepscoring.edf', '/content/drive/MyDrive/physionet/HMC/hmc-sleep-staging/recordings/SN065_sleepscoring.txt', '/content/drive/MyDrive/physionet/HMC/hmc-sleep-staging/recordings/SN066.edf', '/content/drive/MyDrive/physionet/HMC/hmc-sleep-staging/recordings/SN066_sleepscoring.edf', '/content/drive/MyDrive/physionet/HMC/hmc-sleep-staging/recordings/SN066_sleepscoring.txt', '/content/drive/MyDrive/physionet/HMC/hmc-sleep-staging/recordings/SN067.edf', '/content/drive/MyDrive/physionet/HMC/hmc-sleep-staging/recordings/SN067_sleepscoring.edf', '/content/drive/MyDrive/physionet/HMC/hmc-sleep-staging/recordings/SN067_sleepscoring.txt', '/content/drive/MyDrive/physionet/HMC/hmc-sleep-staging/recordings/SN068.edf', '/content/drive/MyDrive/physionet/HMC/hmc-sleep-staging/recordings/SN068_sleepscoring.edf', '/content/drive/MyDrive/physionet/HMC/hmc-sleep-staging/recordings/SN068_sleepscoring.txt', '/content/drive/MyDrive/physionet/HMC/hmc-sleep-staging/recordings/SN069.edf', '/content/drive/MyDrive/physionet/HMC/hmc-sleep-staging/recordings/SN069_sleepscoring.edf', '/content/drive/MyDrive/physionet/HMC/hmc-sleep-staging/recordings/SN069_sleepscoring.txt', '/content/drive/MyDrive/physionet/HMC/hmc-sleep-staging/recordings/SN070.edf', '/content/drive/MyDrive/physionet/HMC/hmc-sleep-staging/recordings/SN070_sleepscoring.edf', '/content/drive/MyDrive/physionet/HMC/hmc-sleep-staging/recordings/SN070_sleepscoring.txt', '/content/drive/MyDrive/physionet/HMC/hmc-sleep-staging/recordings/SN071.edf', '/content/drive/MyDrive/physionet/HMC/hmc-sleep-staging/recordings/SN071_sleepscoring.edf', '/content/drive/MyDrive/physionet/HMC/hmc-sleep-staging/recordings/SN071_sleepscoring.txt', '/content/drive/MyDrive/physionet/HMC/hmc-sleep-staging/recordings/SN072.edf', '/content/drive/MyDrive/physionet/HMC/hmc-sleep-staging/recordings/SN072_sleepscoring.edf', '/content/drive/MyDrive/physionet/HMC/hmc-sleep-staging/recordings/SN072_sleepscoring.txt', '/content/drive/MyDrive/physionet/HMC/hmc-sleep-staging/recordings/SN073.edf', '/content/drive/MyDrive/physionet/HMC/hmc-sleep-staging/recordings/SN073_sleepscoring.edf', '/content/drive/MyDrive/physionet/HMC/hmc-sleep-staging/recordings/SN073_sleepscoring.txt', '/content/drive/MyDrive/physionet/HMC/hmc-sleep-staging/recordings/SN074.edf', '/content/drive/MyDrive/physionet/HMC/hmc-sleep-staging/recordings/SN074_sleepscoring.edf', '/content/drive/MyDrive/physionet/HMC/hmc-sleep-staging/recordings/SN074_sleepscoring.txt', '/content/drive/MyDrive/physionet/HMC/hmc-sleep-staging/recordings/SN075.edf', '/content/drive/MyDrive/physionet/HMC/hmc-sleep-staging/recordings/SN075_sleepscoring.edf', '/content/drive/MyDrive/physionet/HMC/hmc-sleep-staging/recordings/SN075_sleepscoring.txt', '/content/drive/MyDrive/physionet/HMC/hmc-sleep-staging/recordings/SN076.edf', '/content/drive/MyDrive/physionet/HMC/hmc-sleep-staging/recordings/SN076_sleepscoring.edf', '/content/drive/MyDrive/physionet/HMC/hmc-sleep-staging/recordings/SN076_sleepscoring.txt', '/content/drive/MyDrive/physionet/HMC/hmc-sleep-staging/recordings/SN077.edf', '/content/drive/MyDrive/physionet/HMC/hmc-sleep-staging/recordings/SN077_sleepscoring.edf', '/content/drive/MyDrive/physionet/HMC/hmc-sleep-staging/recordings/SN077_sleepscoring.txt', '/content/drive/MyDrive/physionet/HMC/hmc-sleep-staging/recordings/SN078.edf', '/content/drive/MyDrive/physionet/HMC/hmc-sleep-staging/recordings/SN078_sleepscoring.edf', '/content/drive/MyDrive/physionet/HMC/hmc-sleep-staging/recordings/SN078_sleepscoring.txt', '/content/drive/MyDrive/physionet/HMC/hmc-sleep-staging/recordings/SN079.edf', '/content/drive/MyDrive/physionet/HMC/hmc-sleep-staging/recordings/SN079_sleepscoring.edf', '/content/drive/MyDrive/physionet/HMC/hmc-sleep-staging/recordings/SN079_sleepscoring.txt', '/content/drive/MyDrive/physionet/HMC/hmc-sleep-staging/recordings/SN080.edf', '/content/drive/MyDrive/physionet/HMC/hmc-sleep-staging/recordings/SN080_sleepscoring.edf', '/content/drive/MyDrive/physionet/HMC/hmc-sleep-staging/recordings/SN080_sleepscoring.txt', '/content/drive/MyDrive/physionet/HMC/hmc-sleep-staging/recordings/SN081.edf', '/content/drive/MyDrive/physionet/HMC/hmc-sleep-staging/recordings/SN081_sleepscoring.edf', '/content/drive/MyDrive/physionet/HMC/hmc-sleep-staging/recordings/SN081_sleepscoring.txt', '/content/drive/MyDrive/physionet/HMC/hmc-sleep-staging/recordings/SN082.edf', '/content/drive/MyDrive/physionet/HMC/hmc-sleep-staging/recordings/SN082_sleepscoring.edf', '/content/drive/MyDrive/physionet/HMC/hmc-sleep-staging/recordings/SN082_sleepscoring.txt', '/content/drive/MyDrive/physionet/HMC/hmc-sleep-staging/recordings/SN083.edf', '/content/drive/MyDrive/physionet/HMC/hmc-sleep-staging/recordings/SN083_sleepscoring.edf', '/content/drive/MyDrive/physionet/HMC/hmc-sleep-staging/recordings/SN083_sleepscoring.txt', '/content/drive/MyDrive/physionet/HMC/hmc-sleep-staging/recordings/SN084.edf', '/content/drive/MyDrive/physionet/HMC/hmc-sleep-staging/recordings/SN084_sleepscoring.edf', '/content/drive/MyDrive/physionet/HMC/hmc-sleep-staging/recordings/SN084_sleepscoring.txt', '/content/drive/MyDrive/physionet/HMC/hmc-sleep-staging/recordings/SN085.edf', '/content/drive/MyDrive/physionet/HMC/hmc-sleep-staging/recordings/SN085_sleepscoring.edf', '/content/drive/MyDrive/physionet/HMC/hmc-sleep-staging/recordings/SN085_sleepscoring.txt', '/content/drive/MyDrive/physionet/HMC/hmc-sleep-staging/recordings/SN086.edf', '/content/drive/MyDrive/physionet/HMC/hmc-sleep-staging/recordings/SN086_sleepscoring.edf', '/content/drive/MyDrive/physionet/HMC/hmc-sleep-staging/recordings/SN086_sleepscoring.txt', '/content/drive/MyDrive/physionet/HMC/hmc-sleep-staging/recordings/SN087.edf', '/content/drive/MyDrive/physionet/HMC/hmc-sleep-staging/recordings/SN087_sleepscoring.edf', '/content/drive/MyDrive/physionet/HMC/hmc-sleep-staging/recordings/SN087_sleepscoring.txt', '/content/drive/MyDrive/physionet/HMC/hmc-sleep-staging/recordings/SN088.edf', '/content/drive/MyDrive/physionet/HMC/hmc-sleep-staging/recordings/SN088_sleepscoring.edf', '/content/drive/MyDrive/physionet/HMC/hmc-sleep-staging/recordings/SN088_sleepscoring.txt', '/content/drive/MyDrive/physionet/HMC/hmc-sleep-staging/recordings/SN089.edf', '/content/drive/MyDrive/physionet/HMC/hmc-sleep-staging/recordings/SN089_sleepscoring.edf', '/content/drive/MyDrive/physionet/HMC/hmc-sleep-staging/recordings/SN089_sleepscoring.txt', '/content/drive/MyDrive/physionet/HMC/hmc-sleep-staging/recordings/SN090.edf', '/content/drive/MyDrive/physionet/HMC/hmc-sleep-staging/recordings/SN090_sleepscoring.edf', '/content/drive/MyDrive/physionet/HMC/hmc-sleep-staging/recordings/SN090_sleepscoring.txt', '/content/drive/MyDrive/physionet/HMC/hmc-sleep-staging/recordings/SN091.edf', '/content/drive/MyDrive/physionet/HMC/hmc-sleep-staging/recordings/SN091_sleepscoring.edf', '/content/drive/MyDrive/physionet/HMC/hmc-sleep-staging/recordings/SN091_sleepscoring.txt', '/content/drive/MyDrive/physionet/HMC/hmc-sleep-staging/recordings/SN092.edf', '/content/drive/MyDrive/physionet/HMC/hmc-sleep-staging/recordings/SN092_sleepscoring.edf', '/content/drive/MyDrive/physionet/HMC/hmc-sleep-staging/recordings/SN092_sleepscoring.txt', '/content/drive/MyDrive/physionet/HMC/hmc-sleep-staging/recordings/SN093.edf', '/content/drive/MyDrive/physionet/HMC/hmc-sleep-staging/recordings/SN093_sleepscoring.edf', '/content/drive/MyDrive/physionet/HMC/hmc-sleep-staging/recordings/SN093_sleepscoring.txt', '/content/drive/MyDrive/physionet/HMC/hmc-sleep-staging/recordings/SN094.edf', '/content/drive/MyDrive/physionet/HMC/hmc-sleep-staging/recordings/SN094_sleepscoring.edf', '/content/drive/MyDrive/physionet/HMC/hmc-sleep-staging/recordings/SN094_sleepscoring.txt', '/content/drive/MyDrive/physionet/HMC/hmc-sleep-staging/recordings/SN095.edf', '/content/drive/MyDrive/physionet/HMC/hmc-sleep-staging/recordings/SN095_sleepscoring.edf', '/content/drive/MyDrive/physionet/HMC/hmc-sleep-staging/recordings/SN095_sleepscoring.txt', '/content/drive/MyDrive/physionet/HMC/hmc-sleep-staging/recordings/SN096.edf', '/content/drive/MyDrive/physionet/HMC/hmc-sleep-staging/recordings/SN096_sleepscoring.edf', '/content/drive/MyDrive/physionet/HMC/hmc-sleep-staging/recordings/SN096_sleepscoring.txt', '/content/drive/MyDrive/physionet/HMC/hmc-sleep-staging/recordings/SN097.edf', '/content/drive/MyDrive/physionet/HMC/hmc-sleep-staging/recordings/SN097_sleepscoring.edf', '/content/drive/MyDrive/physionet/HMC/hmc-sleep-staging/recordings/SN097_sleepscoring.txt', '/content/drive/MyDrive/physionet/HMC/hmc-sleep-staging/recordings/SN098.edf', '/content/drive/MyDrive/physionet/HMC/hmc-sleep-staging/recordings/SN098_sleepscoring.edf', '/content/drive/MyDrive/physionet/HMC/hmc-sleep-staging/recordings/SN098_sleepscoring.txt', '/content/drive/MyDrive/physionet/HMC/hmc-sleep-staging/recordings/SN099.edf', '/content/drive/MyDrive/physionet/HMC/hmc-sleep-staging/recordings/SN099_sleepscoring.edf', '/content/drive/MyDrive/physionet/HMC/hmc-sleep-staging/recordings/SN099_sleepscoring.txt', '/content/drive/MyDrive/physionet/HMC/hmc-sleep-staging/recordings/SN100.edf', '/content/drive/MyDrive/physionet/HMC/hmc-sleep-staging/recordings/SN100_sleepscoring.edf', '/content/drive/MyDrive/physionet/HMC/hmc-sleep-staging/recordings/SN100_sleepscoring.txt', '/content/drive/MyDrive/physionet/HMC/hmc-sleep-staging/recordings/SN101.edf', '/content/drive/MyDrive/physionet/HMC/hmc-sleep-staging/recordings/SN101_sleepscoring.edf', '/content/drive/MyDrive/physionet/HMC/hmc-sleep-staging/recordings/SN101_sleepscoring.txt', '/content/drive/MyDrive/physionet/HMC/hmc-sleep-staging/recordings/SN102.edf', '/content/drive/MyDrive/physionet/HMC/hmc-sleep-staging/recordings/SN102_sleepscoring.edf', '/content/drive/MyDrive/physionet/HMC/hmc-sleep-staging/recordings/SN102_sleepscoring.txt', '/content/drive/MyDrive/physionet/HMC/hmc-sleep-staging/recordings/SN103.edf', '/content/drive/MyDrive/physionet/HMC/hmc-sleep-staging/recordings/SN103_sleepscoring.edf', '/content/drive/MyDrive/physionet/HMC/hmc-sleep-staging/recordings/SN103_sleepscoring.txt', '/content/drive/MyDrive/physionet/HMC/hmc-sleep-staging/recordings/SN104.edf', '/content/drive/MyDrive/physionet/HMC/hmc-sleep-staging/recordings/SN104_sleepscoring.edf', '/content/drive/MyDrive/physionet/HMC/hmc-sleep-staging/recordings/SN104_sleepscoring.txt', '/content/drive/MyDrive/physionet/HMC/hmc-sleep-staging/recordings/SN105.edf', '/content/drive/MyDrive/physionet/HMC/hmc-sleep-staging/recordings/SN105_sleepscoring.edf', '/content/drive/MyDrive/physionet/HMC/hmc-sleep-staging/recordings/SN105_sleepscoring.txt', '/content/drive/MyDrive/physionet/HMC/hmc-sleep-staging/recordings/SN106.edf', '/content/drive/MyDrive/physionet/HMC/hmc-sleep-staging/recordings/SN106_sleepscoring.edf', '/content/drive/MyDrive/physionet/HMC/hmc-sleep-staging/recordings/SN106_sleepscoring.txt', '/content/drive/MyDrive/physionet/HMC/hmc-sleep-staging/recordings/SN107.edf', '/content/drive/MyDrive/physionet/HMC/hmc-sleep-staging/recordings/SN107_sleepscoring.edf', '/content/drive/MyDrive/physionet/HMC/hmc-sleep-staging/recordings/SN107_sleepscoring.txt', '/content/drive/MyDrive/physionet/HMC/hmc-sleep-staging/recordings/SN108.edf', '/content/drive/MyDrive/physionet/HMC/hmc-sleep-staging/recordings/SN108_sleepscoring.edf', '/content/drive/MyDrive/physionet/HMC/hmc-sleep-staging/recordings/SN108_sleepscoring.txt', '/content/drive/MyDrive/physionet/HMC/hmc-sleep-staging/recordings/SN109.edf', '/content/drive/MyDrive/physionet/HMC/hmc-sleep-staging/recordings/SN109_sleepscoring.edf', '/content/drive/MyDrive/physionet/HMC/hmc-sleep-staging/recordings/SN109_sleepscoring.txt', '/content/drive/MyDrive/physionet/HMC/hmc-sleep-staging/recordings/SN110.edf', '/content/drive/MyDrive/physionet/HMC/hmc-sleep-staging/recordings/SN110_sleepscoring.edf', '/content/drive/MyDrive/physionet/HMC/hmc-sleep-staging/recordings/SN110_sleepscoring.txt', '/content/drive/MyDrive/physionet/HMC/hmc-sleep-staging/recordings/SN111.edf', '/content/drive/MyDrive/physionet/HMC/hmc-sleep-staging/recordings/SN111_sleepscoring.edf', '/content/drive/MyDrive/physionet/HMC/hmc-sleep-staging/recordings/SN111_sleepscoring.txt', '/content/drive/MyDrive/physionet/HMC/hmc-sleep-staging/recordings/SN112.edf', '/content/drive/MyDrive/physionet/HMC/hmc-sleep-staging/recordings/SN112_sleepscoring.edf', '/content/drive/MyDrive/physionet/HMC/hmc-sleep-staging/recordings/SN112_sleepscoring.txt', '/content/drive/MyDrive/physionet/HMC/hmc-sleep-staging/recordings/SN113.edf', '/content/drive/MyDrive/physionet/HMC/hmc-sleep-staging/recordings/SN113_sleepscoring.edf', '/content/drive/MyDrive/physionet/HMC/hmc-sleep-staging/recordings/SN113_sleepscoring.txt', '/content/drive/MyDrive/physionet/HMC/hmc-sleep-staging/recordings/SN114.edf', '/content/drive/MyDrive/physionet/HMC/hmc-sleep-staging/recordings/SN114_sleepscoring.edf', '/content/drive/MyDrive/physionet/HMC/hmc-sleep-staging/recordings/SN114_sleepscoring.txt', '/content/drive/MyDrive/physionet/HMC/hmc-sleep-staging/recordings/SN115.edf', '/content/drive/MyDrive/physionet/HMC/hmc-sleep-staging/recordings/SN115_sleepscoring.edf', '/content/drive/MyDrive/physionet/HMC/hmc-sleep-staging/recordings/SN115_sleepscoring.txt', '/content/drive/MyDrive/physionet/HMC/hmc-sleep-staging/recordings/SN116.edf', '/content/drive/MyDrive/physionet/HMC/hmc-sleep-staging/recordings/SN116_sleepscoring.edf', '/content/drive/MyDrive/physionet/HMC/hmc-sleep-staging/recordings/SN116_sleepscoring.txt', '/content/drive/MyDrive/physionet/HMC/hmc-sleep-staging/recordings/SN117.edf', '/content/drive/MyDrive/physionet/HMC/hmc-sleep-staging/recordings/SN117_sleepscoring.edf', '/content/drive/MyDrive/physionet/HMC/hmc-sleep-staging/recordings/SN117_sleepscoring.txt', '/content/drive/MyDrive/physionet/HMC/hmc-sleep-staging/recordings/SN118.edf', '/content/drive/MyDrive/physionet/HMC/hmc-sleep-staging/recordings/SN118_sleepscoring.edf', '/content/drive/MyDrive/physionet/HMC/hmc-sleep-staging/recordings/SN118_sleepscoring.txt', '/content/drive/MyDrive/physionet/HMC/hmc-sleep-staging/recordings/SN119.edf', '/content/drive/MyDrive/physionet/HMC/hmc-sleep-staging/recordings/SN119_sleepscoring.edf', '/content/drive/MyDrive/physionet/HMC/hmc-sleep-staging/recordings/SN119_sleepscoring.txt', '/content/drive/MyDrive/physionet/HMC/hmc-sleep-staging/recordings/SN120.edf', '/content/drive/MyDrive/physionet/HMC/hmc-sleep-staging/recordings/SN120_sleepscoring.edf', '/content/drive/MyDrive/physionet/HMC/hmc-sleep-staging/recordings/SN120_sleepscoring.txt', '/content/drive/MyDrive/physionet/HMC/hmc-sleep-staging/recordings/SN121.edf', '/content/drive/MyDrive/physionet/HMC/hmc-sleep-staging/recordings/SN121_sleepscoring.edf', '/content/drive/MyDrive/physionet/HMC/hmc-sleep-staging/recordings/SN121_sleepscoring.txt', '/content/drive/MyDrive/physionet/HMC/hmc-sleep-staging/recordings/SN122.edf', '/content/drive/MyDrive/physionet/HMC/hmc-sleep-staging/recordings/SN122_sleepscoring.edf', '/content/drive/MyDrive/physionet/HMC/hmc-sleep-staging/recordings/SN122_sleepscoring.txt', '/content/drive/MyDrive/physionet/HMC/hmc-sleep-staging/recordings/SN123.edf', '/content/drive/MyDrive/physionet/HMC/hmc-sleep-staging/recordings/SN123_sleepscoring.edf', '/content/drive/MyDrive/physionet/HMC/hmc-sleep-staging/recordings/SN123_sleepscoring.txt', '/content/drive/MyDrive/physionet/HMC/hmc-sleep-staging/recordings/SN124.edf', '/content/drive/MyDrive/physionet/HMC/hmc-sleep-staging/recordings/SN124_sleepscoring.edf', '/content/drive/MyDrive/physionet/HMC/hmc-sleep-staging/recordings/SN124_sleepscoring.txt', '/content/drive/MyDrive/physionet/HMC/hmc-sleep-staging/recordings/SN125.edf', '/content/drive/MyDrive/physionet/HMC/hmc-sleep-staging/recordings/SN125_sleepscoring.edf', '/content/drive/MyDrive/physionet/HMC/hmc-sleep-staging/recordings/SN125_sleepscoring.txt', '/content/drive/MyDrive/physionet/HMC/hmc-sleep-staging/recordings/SN126.edf', '/content/drive/MyDrive/physionet/HMC/hmc-sleep-staging/recordings/SN126_sleepscoring.edf', '/content/drive/MyDrive/physionet/HMC/hmc-sleep-staging/recordings/SN126_sleepscoring.txt', '/content/drive/MyDrive/physionet/HMC/hmc-sleep-staging/recordings/SN127.edf', '/content/drive/MyDrive/physionet/HMC/hmc-sleep-staging/recordings/SN127_sleepscoring.edf', '/content/drive/MyDrive/physionet/HMC/hmc-sleep-staging/recordings/SN127_sleepscoring.txt', '/content/drive/MyDrive/physionet/HMC/hmc-sleep-staging/recordings/SN128.edf', '/content/drive/MyDrive/physionet/HMC/hmc-sleep-staging/recordings/SN128_sleepscoring.edf', '/content/drive/MyDrive/physionet/HMC/hmc-sleep-staging/recordings/SN128_sleepscoring.txt', '/content/drive/MyDrive/physionet/HMC/hmc-sleep-staging/recordings/SN129.edf', '/content/drive/MyDrive/physionet/HMC/hmc-sleep-staging/recordings/SN129_sleepscoring.edf', '/content/drive/MyDrive/physionet/HMC/hmc-sleep-staging/recordings/SN129_sleepscoring.txt', '/content/drive/MyDrive/physionet/HMC/hmc-sleep-staging/recordings/SN130.edf', '/content/drive/MyDrive/physionet/HMC/hmc-sleep-staging/recordings/SN130_sleepscoring.edf', '/content/drive/MyDrive/physionet/HMC/hmc-sleep-staging/recordings/SN130_sleepscoring.txt', '/content/drive/MyDrive/physionet/HMC/hmc-sleep-staging/recordings/SN131.edf', '/content/drive/MyDrive/physionet/HMC/hmc-sleep-staging/recordings/SN131_sleepscoring.edf', '/content/drive/MyDrive/physionet/HMC/hmc-sleep-staging/recordings/SN131_sleepscoring.txt', '/content/drive/MyDrive/physionet/HMC/hmc-sleep-staging/recordings/SN132.edf', '/content/drive/MyDrive/physionet/HMC/hmc-sleep-staging/recordings/SN132_sleepscoring.edf', '/content/drive/MyDrive/physionet/HMC/hmc-sleep-staging/recordings/SN132_sleepscoring.txt', '/content/drive/MyDrive/physionet/HMC/hmc-sleep-staging/recordings/SN133.edf', '/content/drive/MyDrive/physionet/HMC/hmc-sleep-staging/recordings/SN133_sleepscoring.edf', '/content/drive/MyDrive/physionet/HMC/hmc-sleep-staging/recordings/SN133_sleepscoring.txt', '/content/drive/MyDrive/physionet/HMC/hmc-sleep-staging/recordings/SN134.edf', '/content/drive/MyDrive/physionet/HMC/hmc-sleep-staging/recordings/SN134_sleepscoring.edf', '/content/drive/MyDrive/physionet/HMC/hmc-sleep-staging/recordings/SN134_sleepscoring.txt', '/content/drive/MyDrive/physionet/HMC/hmc-sleep-staging/recordings/SN136.edf', '/content/drive/MyDrive/physionet/HMC/hmc-sleep-staging/recordings/SN136_sleepscoring.edf', '/content/drive/MyDrive/physionet/HMC/hmc-sleep-staging/recordings/SN136_sleepscoring.txt', '/content/drive/MyDrive/physionet/HMC/hmc-sleep-staging/recordings/SN137.edf', '/content/drive/MyDrive/physionet/HMC/hmc-sleep-staging/recordings/SN137_sleepscoring.edf', '/content/drive/MyDrive/physionet/HMC/hmc-sleep-staging/recordings/SN137_sleepscoring.txt', '/content/drive/MyDrive/physionet/HMC/hmc-sleep-staging/recordings/SN138.edf', '/content/drive/MyDrive/physionet/HMC/hmc-sleep-staging/recordings/SN138_sleepscoring.edf', '/content/drive/MyDrive/physionet/HMC/hmc-sleep-staging/recordings/SN138_sleepscoring.txt', '/content/drive/MyDrive/physionet/HMC/hmc-sleep-staging/recordings/SN139.edf', '/content/drive/MyDrive/physionet/HMC/hmc-sleep-staging/recordings/SN139_sleepscoring.edf', '/content/drive/MyDrive/physionet/HMC/hmc-sleep-staging/recordings/SN139_sleepscoring.txt', '/content/drive/MyDrive/physionet/HMC/hmc-sleep-staging/recordings/SN140.edf', '/content/drive/MyDrive/physionet/HMC/hmc-sleep-staging/recordings/SN140_sleepscoring.edf', '/content/drive/MyDrive/physionet/HMC/hmc-sleep-staging/recordings/SN140_sleepscoring.txt', '/content/drive/MyDrive/physionet/HMC/hmc-sleep-staging/recordings/SN141.edf', '/content/drive/MyDrive/physionet/HMC/hmc-sleep-staging/recordings/SN141_sleepscoring.edf', '/content/drive/MyDrive/physionet/HMC/hmc-sleep-staging/recordings/SN141_sleepscoring.txt', '/content/drive/MyDrive/physionet/HMC/hmc-sleep-staging/recordings/SN142.edf', '/content/drive/MyDrive/physionet/HMC/hmc-sleep-staging/recordings/SN142_sleepscoring.edf', '/content/drive/MyDrive/physionet/HMC/hmc-sleep-staging/recordings/SN142_sleepscoring.txt', '/content/drive/MyDrive/physionet/HMC/hmc-sleep-staging/recordings/SN143.edf', '/content/drive/MyDrive/physionet/HMC/hmc-sleep-staging/recordings/SN143_sleepscoring.edf', '/content/drive/MyDrive/physionet/HMC/hmc-sleep-staging/recordings/SN143_sleepscoring.txt', '/content/drive/MyDrive/physionet/HMC/hmc-sleep-staging/recordings/SN144.edf', '/content/drive/MyDrive/physionet/HMC/hmc-sleep-staging/recordings/SN144_sleepscoring.edf', '/content/drive/MyDrive/physionet/HMC/hmc-sleep-staging/recordings/SN144_sleepscoring.txt', '/content/drive/MyDrive/physionet/HMC/hmc-sleep-staging/recordings/SN145.edf', '/content/drive/MyDrive/physionet/HMC/hmc-sleep-staging/recordings/SN145_sleepscoring.edf', '/content/drive/MyDrive/physionet/HMC/hmc-sleep-staging/recordings/SN145_sleepscoring.txt', '/content/drive/MyDrive/physionet/HMC/hmc-sleep-staging/recordings/SN146.edf', '/content/drive/MyDrive/physionet/HMC/hmc-sleep-staging/recordings/SN146_sleepscoring.edf', '/content/drive/MyDrive/physionet/HMC/hmc-sleep-staging/recordings/SN146_sleepscoring.txt', '/content/drive/MyDrive/physionet/HMC/hmc-sleep-staging/recordings/SN147.edf', '/content/drive/MyDrive/physionet/HMC/hmc-sleep-staging/recordings/SN147_sleepscoring.edf', '/content/drive/MyDrive/physionet/HMC/hmc-sleep-staging/recordings/SN147_sleepscoring.txt', '/content/drive/MyDrive/physionet/HMC/hmc-sleep-staging/recordings/SN148.edf', '/content/drive/MyDrive/physionet/HMC/hmc-sleep-staging/recordings/SN148_sleepscoring.edf', '/content/drive/MyDrive/physionet/HMC/hmc-sleep-staging/recordings/SN148_sleepscoring.txt', '/content/drive/MyDrive/physionet/HMC/hmc-sleep-staging/recordings/SN149.edf', '/content/drive/MyDrive/physionet/HMC/hmc-sleep-staging/recordings/SN149_sleepscoring.edf', '/content/drive/MyDrive/physionet/HMC/hmc-sleep-staging/recordings/SN149_sleepscoring.txt', '/content/drive/MyDrive/physionet/HMC/hmc-sleep-staging/recordings/SN150.edf', '/content/drive/MyDrive/physionet/HMC/hmc-sleep-staging/recordings/SN150_sleepscoring.edf', '/content/drive/MyDrive/physionet/HMC/hmc-sleep-staging/recordings/SN150_sleepscoring.txt', '/content/drive/MyDrive/physionet/HMC/hmc-sleep-staging/recordings/SN151.edf', '/content/drive/MyDrive/physionet/HMC/hmc-sleep-staging/recordings/SN151_sleepscoring.edf', '/content/drive/MyDrive/physionet/HMC/hmc-sleep-staging/recordings/SN151_sleepscoring.txt', '/content/drive/MyDrive/physionet/HMC/hmc-sleep-staging/recordings/SN152.edf', '/content/drive/MyDrive/physionet/HMC/hmc-sleep-staging/recordings/SN152_sleepscoring.edf', '/content/drive/MyDrive/physionet/HMC/hmc-sleep-staging/recordings/SN152_sleepscoring.txt', '/content/drive/MyDrive/physionet/HMC/hmc-sleep-staging/recordings/SN153.edf', '/content/drive/MyDrive/physionet/HMC/hmc-sleep-staging/recordings/SN153_sleepscoring.edf', '/content/drive/MyDrive/physionet/HMC/hmc-sleep-staging/recordings/SN153_sleepscoring.txt', '/content/drive/MyDrive/physionet/HMC/hmc-sleep-staging/recordings/SN154.edf', '/content/drive/MyDrive/physionet/HMC/hmc-sleep-staging/recordings/SN154_sleepscoring.edf', '/content/drive/MyDrive/physionet/HMC/hmc-sleep-staging/recordings/SN154_sleepscoring.txt']\n",
            "\n",
            "\n",
            "signal_data 경로 : ['/content/drive/MyDrive/physionet/HMC/hmc-sleep-staging/recordings/SN001.edf', '/content/drive/MyDrive/physionet/HMC/hmc-sleep-staging/recordings/SN002.edf', '/content/drive/MyDrive/physionet/HMC/hmc-sleep-staging/recordings/SN003.edf', '/content/drive/MyDrive/physionet/HMC/hmc-sleep-staging/recordings/SN004.edf', '/content/drive/MyDrive/physionet/HMC/hmc-sleep-staging/recordings/SN005.edf', '/content/drive/MyDrive/physionet/HMC/hmc-sleep-staging/recordings/SN006.edf', '/content/drive/MyDrive/physionet/HMC/hmc-sleep-staging/recordings/SN007.edf', '/content/drive/MyDrive/physionet/HMC/hmc-sleep-staging/recordings/SN008.edf', '/content/drive/MyDrive/physionet/HMC/hmc-sleep-staging/recordings/SN009.edf', '/content/drive/MyDrive/physionet/HMC/hmc-sleep-staging/recordings/SN010.edf', '/content/drive/MyDrive/physionet/HMC/hmc-sleep-staging/recordings/SN011.edf', '/content/drive/MyDrive/physionet/HMC/hmc-sleep-staging/recordings/SN012.edf', '/content/drive/MyDrive/physionet/HMC/hmc-sleep-staging/recordings/SN013.edf', '/content/drive/MyDrive/physionet/HMC/hmc-sleep-staging/recordings/SN015.edf', '/content/drive/MyDrive/physionet/HMC/hmc-sleep-staging/recordings/SN016.edf', '/content/drive/MyDrive/physionet/HMC/hmc-sleep-staging/recordings/SN017.edf', '/content/drive/MyDrive/physionet/HMC/hmc-sleep-staging/recordings/SN018.edf', '/content/drive/MyDrive/physionet/HMC/hmc-sleep-staging/recordings/SN019.edf', '/content/drive/MyDrive/physionet/HMC/hmc-sleep-staging/recordings/SN020.edf', '/content/drive/MyDrive/physionet/HMC/hmc-sleep-staging/recordings/SN021.edf', '/content/drive/MyDrive/physionet/HMC/hmc-sleep-staging/recordings/SN022.edf', '/content/drive/MyDrive/physionet/HMC/hmc-sleep-staging/recordings/SN023.edf', '/content/drive/MyDrive/physionet/HMC/hmc-sleep-staging/recordings/SN024.edf', '/content/drive/MyDrive/physionet/HMC/hmc-sleep-staging/recordings/SN025.edf', '/content/drive/MyDrive/physionet/HMC/hmc-sleep-staging/recordings/SN026.edf', '/content/drive/MyDrive/physionet/HMC/hmc-sleep-staging/recordings/SN027.edf', '/content/drive/MyDrive/physionet/HMC/hmc-sleep-staging/recordings/SN028.edf', '/content/drive/MyDrive/physionet/HMC/hmc-sleep-staging/recordings/SN029.edf', '/content/drive/MyDrive/physionet/HMC/hmc-sleep-staging/recordings/SN030.edf', '/content/drive/MyDrive/physionet/HMC/hmc-sleep-staging/recordings/SN031.edf', '/content/drive/MyDrive/physionet/HMC/hmc-sleep-staging/recordings/SN032.edf', '/content/drive/MyDrive/physionet/HMC/hmc-sleep-staging/recordings/SN033.edf', '/content/drive/MyDrive/physionet/HMC/hmc-sleep-staging/recordings/SN034.edf', '/content/drive/MyDrive/physionet/HMC/hmc-sleep-staging/recordings/SN035.edf', '/content/drive/MyDrive/physionet/HMC/hmc-sleep-staging/recordings/SN036.edf', '/content/drive/MyDrive/physionet/HMC/hmc-sleep-staging/recordings/SN037.edf', '/content/drive/MyDrive/physionet/HMC/hmc-sleep-staging/recordings/SN038.edf', '/content/drive/MyDrive/physionet/HMC/hmc-sleep-staging/recordings/SN039.edf', '/content/drive/MyDrive/physionet/HMC/hmc-sleep-staging/recordings/SN040.edf', '/content/drive/MyDrive/physionet/HMC/hmc-sleep-staging/recordings/SN041.edf', '/content/drive/MyDrive/physionet/HMC/hmc-sleep-staging/recordings/SN042.edf', '/content/drive/MyDrive/physionet/HMC/hmc-sleep-staging/recordings/SN043.edf', '/content/drive/MyDrive/physionet/HMC/hmc-sleep-staging/recordings/SN044.edf', '/content/drive/MyDrive/physionet/HMC/hmc-sleep-staging/recordings/SN045.edf', '/content/drive/MyDrive/physionet/HMC/hmc-sleep-staging/recordings/SN046.edf', '/content/drive/MyDrive/physionet/HMC/hmc-sleep-staging/recordings/SN047.edf', '/content/drive/MyDrive/physionet/HMC/hmc-sleep-staging/recordings/SN048.edf', '/content/drive/MyDrive/physionet/HMC/hmc-sleep-staging/recordings/SN049.edf', '/content/drive/MyDrive/physionet/HMC/hmc-sleep-staging/recordings/SN050.edf', '/content/drive/MyDrive/physionet/HMC/hmc-sleep-staging/recordings/SN051.edf', '/content/drive/MyDrive/physionet/HMC/hmc-sleep-staging/recordings/SN052.edf', '/content/drive/MyDrive/physionet/HMC/hmc-sleep-staging/recordings/SN053.edf', '/content/drive/MyDrive/physionet/HMC/hmc-sleep-staging/recordings/SN054.edf', '/content/drive/MyDrive/physionet/HMC/hmc-sleep-staging/recordings/SN055.edf', '/content/drive/MyDrive/physionet/HMC/hmc-sleep-staging/recordings/SN056.edf', '/content/drive/MyDrive/physionet/HMC/hmc-sleep-staging/recordings/SN057.edf', '/content/drive/MyDrive/physionet/HMC/hmc-sleep-staging/recordings/SN058.edf', '/content/drive/MyDrive/physionet/HMC/hmc-sleep-staging/recordings/SN059.edf', '/content/drive/MyDrive/physionet/HMC/hmc-sleep-staging/recordings/SN060.edf', '/content/drive/MyDrive/physionet/HMC/hmc-sleep-staging/recordings/SN061.edf', '/content/drive/MyDrive/physionet/HMC/hmc-sleep-staging/recordings/SN062.edf', '/content/drive/MyDrive/physionet/HMC/hmc-sleep-staging/recordings/SN063.edf', '/content/drive/MyDrive/physionet/HMC/hmc-sleep-staging/recordings/SN065.edf', '/content/drive/MyDrive/physionet/HMC/hmc-sleep-staging/recordings/SN066.edf', '/content/drive/MyDrive/physionet/HMC/hmc-sleep-staging/recordings/SN067.edf', '/content/drive/MyDrive/physionet/HMC/hmc-sleep-staging/recordings/SN068.edf', '/content/drive/MyDrive/physionet/HMC/hmc-sleep-staging/recordings/SN069.edf', '/content/drive/MyDrive/physionet/HMC/hmc-sleep-staging/recordings/SN070.edf', '/content/drive/MyDrive/physionet/HMC/hmc-sleep-staging/recordings/SN071.edf', '/content/drive/MyDrive/physionet/HMC/hmc-sleep-staging/recordings/SN072.edf', '/content/drive/MyDrive/physionet/HMC/hmc-sleep-staging/recordings/SN073.edf', '/content/drive/MyDrive/physionet/HMC/hmc-sleep-staging/recordings/SN074.edf', '/content/drive/MyDrive/physionet/HMC/hmc-sleep-staging/recordings/SN075.edf', '/content/drive/MyDrive/physionet/HMC/hmc-sleep-staging/recordings/SN076.edf', '/content/drive/MyDrive/physionet/HMC/hmc-sleep-staging/recordings/SN077.edf', '/content/drive/MyDrive/physionet/HMC/hmc-sleep-staging/recordings/SN078.edf', '/content/drive/MyDrive/physionet/HMC/hmc-sleep-staging/recordings/SN079.edf', '/content/drive/MyDrive/physionet/HMC/hmc-sleep-staging/recordings/SN080.edf', '/content/drive/MyDrive/physionet/HMC/hmc-sleep-staging/recordings/SN081.edf', '/content/drive/MyDrive/physionet/HMC/hmc-sleep-staging/recordings/SN082.edf', '/content/drive/MyDrive/physionet/HMC/hmc-sleep-staging/recordings/SN083.edf', '/content/drive/MyDrive/physionet/HMC/hmc-sleep-staging/recordings/SN084.edf', '/content/drive/MyDrive/physionet/HMC/hmc-sleep-staging/recordings/SN085.edf', '/content/drive/MyDrive/physionet/HMC/hmc-sleep-staging/recordings/SN086.edf', '/content/drive/MyDrive/physionet/HMC/hmc-sleep-staging/recordings/SN087.edf', '/content/drive/MyDrive/physionet/HMC/hmc-sleep-staging/recordings/SN088.edf', '/content/drive/MyDrive/physionet/HMC/hmc-sleep-staging/recordings/SN089.edf', '/content/drive/MyDrive/physionet/HMC/hmc-sleep-staging/recordings/SN090.edf', '/content/drive/MyDrive/physionet/HMC/hmc-sleep-staging/recordings/SN091.edf', '/content/drive/MyDrive/physionet/HMC/hmc-sleep-staging/recordings/SN092.edf', '/content/drive/MyDrive/physionet/HMC/hmc-sleep-staging/recordings/SN093.edf', '/content/drive/MyDrive/physionet/HMC/hmc-sleep-staging/recordings/SN094.edf', '/content/drive/MyDrive/physionet/HMC/hmc-sleep-staging/recordings/SN095.edf', '/content/drive/MyDrive/physionet/HMC/hmc-sleep-staging/recordings/SN096.edf', '/content/drive/MyDrive/physionet/HMC/hmc-sleep-staging/recordings/SN097.edf', '/content/drive/MyDrive/physionet/HMC/hmc-sleep-staging/recordings/SN098.edf', '/content/drive/MyDrive/physionet/HMC/hmc-sleep-staging/recordings/SN099.edf', '/content/drive/MyDrive/physionet/HMC/hmc-sleep-staging/recordings/SN100.edf', '/content/drive/MyDrive/physionet/HMC/hmc-sleep-staging/recordings/SN101.edf', '/content/drive/MyDrive/physionet/HMC/hmc-sleep-staging/recordings/SN102.edf', '/content/drive/MyDrive/physionet/HMC/hmc-sleep-staging/recordings/SN103.edf', '/content/drive/MyDrive/physionet/HMC/hmc-sleep-staging/recordings/SN104.edf', '/content/drive/MyDrive/physionet/HMC/hmc-sleep-staging/recordings/SN105.edf', '/content/drive/MyDrive/physionet/HMC/hmc-sleep-staging/recordings/SN106.edf', '/content/drive/MyDrive/physionet/HMC/hmc-sleep-staging/recordings/SN107.edf', '/content/drive/MyDrive/physionet/HMC/hmc-sleep-staging/recordings/SN108.edf', '/content/drive/MyDrive/physionet/HMC/hmc-sleep-staging/recordings/SN109.edf', '/content/drive/MyDrive/physionet/HMC/hmc-sleep-staging/recordings/SN110.edf', '/content/drive/MyDrive/physionet/HMC/hmc-sleep-staging/recordings/SN111.edf', '/content/drive/MyDrive/physionet/HMC/hmc-sleep-staging/recordings/SN112.edf', '/content/drive/MyDrive/physionet/HMC/hmc-sleep-staging/recordings/SN113.edf', '/content/drive/MyDrive/physionet/HMC/hmc-sleep-staging/recordings/SN114.edf', '/content/drive/MyDrive/physionet/HMC/hmc-sleep-staging/recordings/SN115.edf', '/content/drive/MyDrive/physionet/HMC/hmc-sleep-staging/recordings/SN116.edf', '/content/drive/MyDrive/physionet/HMC/hmc-sleep-staging/recordings/SN117.edf', '/content/drive/MyDrive/physionet/HMC/hmc-sleep-staging/recordings/SN118.edf', '/content/drive/MyDrive/physionet/HMC/hmc-sleep-staging/recordings/SN119.edf', '/content/drive/MyDrive/physionet/HMC/hmc-sleep-staging/recordings/SN120.edf', '/content/drive/MyDrive/physionet/HMC/hmc-sleep-staging/recordings/SN121.edf', '/content/drive/MyDrive/physionet/HMC/hmc-sleep-staging/recordings/SN122.edf', '/content/drive/MyDrive/physionet/HMC/hmc-sleep-staging/recordings/SN123.edf', '/content/drive/MyDrive/physionet/HMC/hmc-sleep-staging/recordings/SN124.edf', '/content/drive/MyDrive/physionet/HMC/hmc-sleep-staging/recordings/SN125.edf', '/content/drive/MyDrive/physionet/HMC/hmc-sleep-staging/recordings/SN126.edf', '/content/drive/MyDrive/physionet/HMC/hmc-sleep-staging/recordings/SN127.edf', '/content/drive/MyDrive/physionet/HMC/hmc-sleep-staging/recordings/SN128.edf', '/content/drive/MyDrive/physionet/HMC/hmc-sleep-staging/recordings/SN129.edf', '/content/drive/MyDrive/physionet/HMC/hmc-sleep-staging/recordings/SN130.edf', '/content/drive/MyDrive/physionet/HMC/hmc-sleep-staging/recordings/SN131.edf', '/content/drive/MyDrive/physionet/HMC/hmc-sleep-staging/recordings/SN132.edf', '/content/drive/MyDrive/physionet/HMC/hmc-sleep-staging/recordings/SN133.edf', '/content/drive/MyDrive/physionet/HMC/hmc-sleep-staging/recordings/SN134.edf', '/content/drive/MyDrive/physionet/HMC/hmc-sleep-staging/recordings/SN136.edf', '/content/drive/MyDrive/physionet/HMC/hmc-sleep-staging/recordings/SN137.edf', '/content/drive/MyDrive/physionet/HMC/hmc-sleep-staging/recordings/SN138.edf', '/content/drive/MyDrive/physionet/HMC/hmc-sleep-staging/recordings/SN139.edf', '/content/drive/MyDrive/physionet/HMC/hmc-sleep-staging/recordings/SN140.edf', '/content/drive/MyDrive/physionet/HMC/hmc-sleep-staging/recordings/SN141.edf', '/content/drive/MyDrive/physionet/HMC/hmc-sleep-staging/recordings/SN142.edf', '/content/drive/MyDrive/physionet/HMC/hmc-sleep-staging/recordings/SN143.edf', '/content/drive/MyDrive/physionet/HMC/hmc-sleep-staging/recordings/SN144.edf', '/content/drive/MyDrive/physionet/HMC/hmc-sleep-staging/recordings/SN145.edf', '/content/drive/MyDrive/physionet/HMC/hmc-sleep-staging/recordings/SN146.edf', '/content/drive/MyDrive/physionet/HMC/hmc-sleep-staging/recordings/SN147.edf', '/content/drive/MyDrive/physionet/HMC/hmc-sleep-staging/recordings/SN148.edf', '/content/drive/MyDrive/physionet/HMC/hmc-sleep-staging/recordings/SN149.edf', '/content/drive/MyDrive/physionet/HMC/hmc-sleep-staging/recordings/SN150.edf', '/content/drive/MyDrive/physionet/HMC/hmc-sleep-staging/recordings/SN151.edf', '/content/drive/MyDrive/physionet/HMC/hmc-sleep-staging/recordings/SN152.edf', '/content/drive/MyDrive/physionet/HMC/hmc-sleep-staging/recordings/SN153.edf', '/content/drive/MyDrive/physionet/HMC/hmc-sleep-staging/recordings/SN154.edf']\n",
            "\n",
            "\n",
            "label_data 경로 : ['/content/drive/MyDrive/physionet/HMC/hmc-sleep-staging/recordings/SN001_sleepscoring.edf', '/content/drive/MyDrive/physionet/HMC/hmc-sleep-staging/recordings/SN002_sleepscoring.edf', '/content/drive/MyDrive/physionet/HMC/hmc-sleep-staging/recordings/SN003_sleepscoring.edf', '/content/drive/MyDrive/physionet/HMC/hmc-sleep-staging/recordings/SN004_sleepscoring.edf', '/content/drive/MyDrive/physionet/HMC/hmc-sleep-staging/recordings/SN005_sleepscoring.edf', '/content/drive/MyDrive/physionet/HMC/hmc-sleep-staging/recordings/SN006_sleepscoring.edf', '/content/drive/MyDrive/physionet/HMC/hmc-sleep-staging/recordings/SN007_sleepscoring.edf', '/content/drive/MyDrive/physionet/HMC/hmc-sleep-staging/recordings/SN008_sleepscoring.edf', '/content/drive/MyDrive/physionet/HMC/hmc-sleep-staging/recordings/SN009_sleepscoring.edf', '/content/drive/MyDrive/physionet/HMC/hmc-sleep-staging/recordings/SN010_sleepscoring.edf', '/content/drive/MyDrive/physionet/HMC/hmc-sleep-staging/recordings/SN011_sleepscoring.edf', '/content/drive/MyDrive/physionet/HMC/hmc-sleep-staging/recordings/SN012_sleepscoring.edf', '/content/drive/MyDrive/physionet/HMC/hmc-sleep-staging/recordings/SN013_sleepscoring.edf', '/content/drive/MyDrive/physionet/HMC/hmc-sleep-staging/recordings/SN015_sleepscoring.edf', '/content/drive/MyDrive/physionet/HMC/hmc-sleep-staging/recordings/SN016_sleepscoring.edf', '/content/drive/MyDrive/physionet/HMC/hmc-sleep-staging/recordings/SN017_sleepscoring.edf', '/content/drive/MyDrive/physionet/HMC/hmc-sleep-staging/recordings/SN018_sleepscoring.edf', '/content/drive/MyDrive/physionet/HMC/hmc-sleep-staging/recordings/SN019_sleepscoring.edf', '/content/drive/MyDrive/physionet/HMC/hmc-sleep-staging/recordings/SN020_sleepscoring.edf', '/content/drive/MyDrive/physionet/HMC/hmc-sleep-staging/recordings/SN021_sleepscoring.edf', '/content/drive/MyDrive/physionet/HMC/hmc-sleep-staging/recordings/SN022_sleepscoring.edf', '/content/drive/MyDrive/physionet/HMC/hmc-sleep-staging/recordings/SN023_sleepscoring.edf', '/content/drive/MyDrive/physionet/HMC/hmc-sleep-staging/recordings/SN024_sleepscoring.edf', '/content/drive/MyDrive/physionet/HMC/hmc-sleep-staging/recordings/SN025_sleepscoring.edf', '/content/drive/MyDrive/physionet/HMC/hmc-sleep-staging/recordings/SN026_sleepscoring.edf', '/content/drive/MyDrive/physionet/HMC/hmc-sleep-staging/recordings/SN027_sleepscoring.edf', '/content/drive/MyDrive/physionet/HMC/hmc-sleep-staging/recordings/SN028_sleepscoring.edf', '/content/drive/MyDrive/physionet/HMC/hmc-sleep-staging/recordings/SN029_sleepscoring.edf', '/content/drive/MyDrive/physionet/HMC/hmc-sleep-staging/recordings/SN030_sleepscoring.edf', '/content/drive/MyDrive/physionet/HMC/hmc-sleep-staging/recordings/SN031_sleepscoring.edf', '/content/drive/MyDrive/physionet/HMC/hmc-sleep-staging/recordings/SN032_sleepscoring.edf', '/content/drive/MyDrive/physionet/HMC/hmc-sleep-staging/recordings/SN033_sleepscoring.edf', '/content/drive/MyDrive/physionet/HMC/hmc-sleep-staging/recordings/SN034_sleepscoring.edf', '/content/drive/MyDrive/physionet/HMC/hmc-sleep-staging/recordings/SN035_sleepscoring.edf', '/content/drive/MyDrive/physionet/HMC/hmc-sleep-staging/recordings/SN036_sleepscoring.edf', '/content/drive/MyDrive/physionet/HMC/hmc-sleep-staging/recordings/SN037_sleepscoring.edf', '/content/drive/MyDrive/physionet/HMC/hmc-sleep-staging/recordings/SN038_sleepscoring.edf', '/content/drive/MyDrive/physionet/HMC/hmc-sleep-staging/recordings/SN039_sleepscoring.edf', '/content/drive/MyDrive/physionet/HMC/hmc-sleep-staging/recordings/SN040_sleepscoring.edf', '/content/drive/MyDrive/physionet/HMC/hmc-sleep-staging/recordings/SN041_sleepscoring.edf', '/content/drive/MyDrive/physionet/HMC/hmc-sleep-staging/recordings/SN042_sleepscoring.edf', '/content/drive/MyDrive/physionet/HMC/hmc-sleep-staging/recordings/SN043_sleepscoring.edf', '/content/drive/MyDrive/physionet/HMC/hmc-sleep-staging/recordings/SN044_sleepscoring.edf', '/content/drive/MyDrive/physionet/HMC/hmc-sleep-staging/recordings/SN045_sleepscoring.edf', '/content/drive/MyDrive/physionet/HMC/hmc-sleep-staging/recordings/SN046_sleepscoring.edf', '/content/drive/MyDrive/physionet/HMC/hmc-sleep-staging/recordings/SN047_sleepscoring.edf', '/content/drive/MyDrive/physionet/HMC/hmc-sleep-staging/recordings/SN048_sleepscoring.edf', '/content/drive/MyDrive/physionet/HMC/hmc-sleep-staging/recordings/SN049_sleepscoring.edf', '/content/drive/MyDrive/physionet/HMC/hmc-sleep-staging/recordings/SN050_sleepscoring.edf', '/content/drive/MyDrive/physionet/HMC/hmc-sleep-staging/recordings/SN051_sleepscoring.edf', '/content/drive/MyDrive/physionet/HMC/hmc-sleep-staging/recordings/SN052_sleepscoring.edf', '/content/drive/MyDrive/physionet/HMC/hmc-sleep-staging/recordings/SN053_sleepscoring.edf', '/content/drive/MyDrive/physionet/HMC/hmc-sleep-staging/recordings/SN054_sleepscoring.edf', '/content/drive/MyDrive/physionet/HMC/hmc-sleep-staging/recordings/SN055_sleepscoring.edf', '/content/drive/MyDrive/physionet/HMC/hmc-sleep-staging/recordings/SN056_sleepscoring.edf', '/content/drive/MyDrive/physionet/HMC/hmc-sleep-staging/recordings/SN057_sleepscoring.edf', '/content/drive/MyDrive/physionet/HMC/hmc-sleep-staging/recordings/SN058_sleepscoring.edf', '/content/drive/MyDrive/physionet/HMC/hmc-sleep-staging/recordings/SN059_sleepscoring.edf', '/content/drive/MyDrive/physionet/HMC/hmc-sleep-staging/recordings/SN060_sleepscoring.edf', '/content/drive/MyDrive/physionet/HMC/hmc-sleep-staging/recordings/SN061_sleepscoring.edf', '/content/drive/MyDrive/physionet/HMC/hmc-sleep-staging/recordings/SN062_sleepscoring.edf', '/content/drive/MyDrive/physionet/HMC/hmc-sleep-staging/recordings/SN063_sleepscoring.edf', '/content/drive/MyDrive/physionet/HMC/hmc-sleep-staging/recordings/SN065_sleepscoring.edf', '/content/drive/MyDrive/physionet/HMC/hmc-sleep-staging/recordings/SN066_sleepscoring.edf', '/content/drive/MyDrive/physionet/HMC/hmc-sleep-staging/recordings/SN067_sleepscoring.edf', '/content/drive/MyDrive/physionet/HMC/hmc-sleep-staging/recordings/SN068_sleepscoring.edf', '/content/drive/MyDrive/physionet/HMC/hmc-sleep-staging/recordings/SN069_sleepscoring.edf', '/content/drive/MyDrive/physionet/HMC/hmc-sleep-staging/recordings/SN070_sleepscoring.edf', '/content/drive/MyDrive/physionet/HMC/hmc-sleep-staging/recordings/SN071_sleepscoring.edf', '/content/drive/MyDrive/physionet/HMC/hmc-sleep-staging/recordings/SN072_sleepscoring.edf', '/content/drive/MyDrive/physionet/HMC/hmc-sleep-staging/recordings/SN073_sleepscoring.edf', '/content/drive/MyDrive/physionet/HMC/hmc-sleep-staging/recordings/SN074_sleepscoring.edf', '/content/drive/MyDrive/physionet/HMC/hmc-sleep-staging/recordings/SN075_sleepscoring.edf', '/content/drive/MyDrive/physionet/HMC/hmc-sleep-staging/recordings/SN076_sleepscoring.edf', '/content/drive/MyDrive/physionet/HMC/hmc-sleep-staging/recordings/SN077_sleepscoring.edf', '/content/drive/MyDrive/physionet/HMC/hmc-sleep-staging/recordings/SN078_sleepscoring.edf', '/content/drive/MyDrive/physionet/HMC/hmc-sleep-staging/recordings/SN079_sleepscoring.edf', '/content/drive/MyDrive/physionet/HMC/hmc-sleep-staging/recordings/SN080_sleepscoring.edf', '/content/drive/MyDrive/physionet/HMC/hmc-sleep-staging/recordings/SN081_sleepscoring.edf', '/content/drive/MyDrive/physionet/HMC/hmc-sleep-staging/recordings/SN082_sleepscoring.edf', '/content/drive/MyDrive/physionet/HMC/hmc-sleep-staging/recordings/SN083_sleepscoring.edf', '/content/drive/MyDrive/physionet/HMC/hmc-sleep-staging/recordings/SN084_sleepscoring.edf', '/content/drive/MyDrive/physionet/HMC/hmc-sleep-staging/recordings/SN085_sleepscoring.edf', '/content/drive/MyDrive/physionet/HMC/hmc-sleep-staging/recordings/SN086_sleepscoring.edf', '/content/drive/MyDrive/physionet/HMC/hmc-sleep-staging/recordings/SN087_sleepscoring.edf', '/content/drive/MyDrive/physionet/HMC/hmc-sleep-staging/recordings/SN088_sleepscoring.edf', '/content/drive/MyDrive/physionet/HMC/hmc-sleep-staging/recordings/SN089_sleepscoring.edf', '/content/drive/MyDrive/physionet/HMC/hmc-sleep-staging/recordings/SN090_sleepscoring.edf', '/content/drive/MyDrive/physionet/HMC/hmc-sleep-staging/recordings/SN091_sleepscoring.edf', '/content/drive/MyDrive/physionet/HMC/hmc-sleep-staging/recordings/SN092_sleepscoring.edf', '/content/drive/MyDrive/physionet/HMC/hmc-sleep-staging/recordings/SN093_sleepscoring.edf', '/content/drive/MyDrive/physionet/HMC/hmc-sleep-staging/recordings/SN094_sleepscoring.edf', '/content/drive/MyDrive/physionet/HMC/hmc-sleep-staging/recordings/SN095_sleepscoring.edf', '/content/drive/MyDrive/physionet/HMC/hmc-sleep-staging/recordings/SN096_sleepscoring.edf', '/content/drive/MyDrive/physionet/HMC/hmc-sleep-staging/recordings/SN097_sleepscoring.edf', '/content/drive/MyDrive/physionet/HMC/hmc-sleep-staging/recordings/SN098_sleepscoring.edf', '/content/drive/MyDrive/physionet/HMC/hmc-sleep-staging/recordings/SN099_sleepscoring.edf', '/content/drive/MyDrive/physionet/HMC/hmc-sleep-staging/recordings/SN100_sleepscoring.edf', '/content/drive/MyDrive/physionet/HMC/hmc-sleep-staging/recordings/SN101_sleepscoring.edf', '/content/drive/MyDrive/physionet/HMC/hmc-sleep-staging/recordings/SN102_sleepscoring.edf', '/content/drive/MyDrive/physionet/HMC/hmc-sleep-staging/recordings/SN103_sleepscoring.edf', '/content/drive/MyDrive/physionet/HMC/hmc-sleep-staging/recordings/SN104_sleepscoring.edf', '/content/drive/MyDrive/physionet/HMC/hmc-sleep-staging/recordings/SN105_sleepscoring.edf', '/content/drive/MyDrive/physionet/HMC/hmc-sleep-staging/recordings/SN106_sleepscoring.edf', '/content/drive/MyDrive/physionet/HMC/hmc-sleep-staging/recordings/SN107_sleepscoring.edf', '/content/drive/MyDrive/physionet/HMC/hmc-sleep-staging/recordings/SN108_sleepscoring.edf', '/content/drive/MyDrive/physionet/HMC/hmc-sleep-staging/recordings/SN109_sleepscoring.edf', '/content/drive/MyDrive/physionet/HMC/hmc-sleep-staging/recordings/SN110_sleepscoring.edf', '/content/drive/MyDrive/physionet/HMC/hmc-sleep-staging/recordings/SN111_sleepscoring.edf', '/content/drive/MyDrive/physionet/HMC/hmc-sleep-staging/recordings/SN112_sleepscoring.edf', '/content/drive/MyDrive/physionet/HMC/hmc-sleep-staging/recordings/SN113_sleepscoring.edf', '/content/drive/MyDrive/physionet/HMC/hmc-sleep-staging/recordings/SN114_sleepscoring.edf', '/content/drive/MyDrive/physionet/HMC/hmc-sleep-staging/recordings/SN115_sleepscoring.edf', '/content/drive/MyDrive/physionet/HMC/hmc-sleep-staging/recordings/SN116_sleepscoring.edf', '/content/drive/MyDrive/physionet/HMC/hmc-sleep-staging/recordings/SN117_sleepscoring.edf', '/content/drive/MyDrive/physionet/HMC/hmc-sleep-staging/recordings/SN118_sleepscoring.edf', '/content/drive/MyDrive/physionet/HMC/hmc-sleep-staging/recordings/SN119_sleepscoring.edf', '/content/drive/MyDrive/physionet/HMC/hmc-sleep-staging/recordings/SN120_sleepscoring.edf', '/content/drive/MyDrive/physionet/HMC/hmc-sleep-staging/recordings/SN121_sleepscoring.edf', '/content/drive/MyDrive/physionet/HMC/hmc-sleep-staging/recordings/SN122_sleepscoring.edf', '/content/drive/MyDrive/physionet/HMC/hmc-sleep-staging/recordings/SN123_sleepscoring.edf', '/content/drive/MyDrive/physionet/HMC/hmc-sleep-staging/recordings/SN124_sleepscoring.edf', '/content/drive/MyDrive/physionet/HMC/hmc-sleep-staging/recordings/SN125_sleepscoring.edf', '/content/drive/MyDrive/physionet/HMC/hmc-sleep-staging/recordings/SN126_sleepscoring.edf', '/content/drive/MyDrive/physionet/HMC/hmc-sleep-staging/recordings/SN127_sleepscoring.edf', '/content/drive/MyDrive/physionet/HMC/hmc-sleep-staging/recordings/SN128_sleepscoring.edf', '/content/drive/MyDrive/physionet/HMC/hmc-sleep-staging/recordings/SN129_sleepscoring.edf', '/content/drive/MyDrive/physionet/HMC/hmc-sleep-staging/recordings/SN130_sleepscoring.edf', '/content/drive/MyDrive/physionet/HMC/hmc-sleep-staging/recordings/SN131_sleepscoring.edf', '/content/drive/MyDrive/physionet/HMC/hmc-sleep-staging/recordings/SN132_sleepscoring.edf', '/content/drive/MyDrive/physionet/HMC/hmc-sleep-staging/recordings/SN133_sleepscoring.edf', '/content/drive/MyDrive/physionet/HMC/hmc-sleep-staging/recordings/SN134_sleepscoring.edf', '/content/drive/MyDrive/physionet/HMC/hmc-sleep-staging/recordings/SN136_sleepscoring.edf', '/content/drive/MyDrive/physionet/HMC/hmc-sleep-staging/recordings/SN137_sleepscoring.edf', '/content/drive/MyDrive/physionet/HMC/hmc-sleep-staging/recordings/SN138_sleepscoring.edf', '/content/drive/MyDrive/physionet/HMC/hmc-sleep-staging/recordings/SN139_sleepscoring.edf', '/content/drive/MyDrive/physionet/HMC/hmc-sleep-staging/recordings/SN140_sleepscoring.edf', '/content/drive/MyDrive/physionet/HMC/hmc-sleep-staging/recordings/SN141_sleepscoring.edf', '/content/drive/MyDrive/physionet/HMC/hmc-sleep-staging/recordings/SN142_sleepscoring.edf', '/content/drive/MyDrive/physionet/HMC/hmc-sleep-staging/recordings/SN143_sleepscoring.edf', '/content/drive/MyDrive/physionet/HMC/hmc-sleep-staging/recordings/SN144_sleepscoring.edf', '/content/drive/MyDrive/physionet/HMC/hmc-sleep-staging/recordings/SN145_sleepscoring.edf', '/content/drive/MyDrive/physionet/HMC/hmc-sleep-staging/recordings/SN146_sleepscoring.edf', '/content/drive/MyDrive/physionet/HMC/hmc-sleep-staging/recordings/SN147_sleepscoring.edf', '/content/drive/MyDrive/physionet/HMC/hmc-sleep-staging/recordings/SN148_sleepscoring.edf', '/content/drive/MyDrive/physionet/HMC/hmc-sleep-staging/recordings/SN149_sleepscoring.edf', '/content/drive/MyDrive/physionet/HMC/hmc-sleep-staging/recordings/SN150_sleepscoring.edf', '/content/drive/MyDrive/physionet/HMC/hmc-sleep-staging/recordings/SN151_sleepscoring.edf', '/content/drive/MyDrive/physionet/HMC/hmc-sleep-staging/recordings/SN152_sleepscoring.edf', '/content/drive/MyDrive/physionet/HMC/hmc-sleep-staging/recordings/SN153_sleepscoring.edf', '/content/drive/MyDrive/physionet/HMC/hmc-sleep-staging/recordings/SN154_sleepscoring.edf']\n",
            "\n",
            "\n",
            "첫번째 signal data : (array([[ 7.37193866e+01,  7.09361410e+01,  6.93980316e+01, ...,\n",
            "        -3.66216526e-02, -3.66216526e-02, -3.66216526e-02]]), [{'label': 'ECG', 'dimension': 'uV', 'sample_rate': 256.0, 'sample_frequency': 256.0, 'physical_max': 2400.0, 'physical_min': -2400.0, 'digital_max': 32767, 'digital_min': -32768, 'prefilter': 'HP:1.0Hz LP:150.0Hz', 'transducer': 'AgAgCl electrodes'}], {'technician': '', 'recording_additional': '', 'patientname': '', 'patient_additional': '', 'patientcode': '', 'equipment': '', 'admincode': '', 'gender': '', 'startdate': datetime.datetime(2001, 1, 1, 23, 59, 30), 'birthdate': '', 'annotations': []})\n",
            "\n",
            "\n",
            "첫번째 label data : (array([], dtype=float64), [], {'technician': '', 'recording_additional': '', 'patientname': 'X', 'patient_additional': '', 'patientcode': 'SN001', 'equipment': '', 'admincode': '', 'gender': '', 'startdate': datetime.datetime(2001, 1, 1, 23, 59, 30), 'birthdate': '', 'annotations': [[0.0, 30.0, 'Sleep stage W'], [30.0, 30.0, 'Sleep stage W'], [33.43, 0.0, 'Lights off@@EEG F4-A1'], [60.0, 30.0, 'Sleep stage W'], [90.0, 30.0, 'Sleep stage W'], [120.0, 30.0, 'Sleep stage W'], [150.0, 30.0, 'Sleep stage W'], [180.0, 30.0, 'Sleep stage W'], [210.0, 30.0, 'Sleep stage W'], [240.0, 30.0, 'Sleep stage N1'], [270.0, 30.0, 'Sleep stage N1'], [300.0, 30.0, 'Sleep stage N1'], [330.0, 30.0, 'Sleep stage N1'], [360.0, 30.0, 'Sleep stage N1'], [390.0, 30.0, 'Sleep stage N1'], [420.0, 30.0, 'Sleep stage N1'], [450.0, 30.0, 'Sleep stage N1'], [480.0, 30.0, 'Sleep stage N2'], [510.0, 30.0, 'Sleep stage N1'], [540.0, 30.0, 'Sleep stage N2'], [570.0, 30.0, 'Sleep stage N2'], [600.0, 30.0, 'Sleep stage N2'], [630.0, 30.0, 'Sleep stage N2'], [660.0, 30.0, 'Sleep stage N2'], [690.0, 30.0, 'Sleep stage N2'], [720.0, 30.0, 'Sleep stage N1'], [750.0, 30.0, 'Sleep stage N1'], [780.0, 30.0, 'Sleep stage W'], [810.0, 30.0, 'Sleep stage N1'], [840.0, 30.0, 'Sleep stage N1'], [870.0, 30.0, 'Sleep stage N1'], [900.0, 30.0, 'Sleep stage N1'], [930.0, 30.0, 'Sleep stage N1'], [960.0, 30.0, 'Sleep stage N1'], [990.0, 30.0, 'Sleep stage N2'], [1020.0, 30.0, 'Sleep stage N1'], [1050.0, 30.0, 'Sleep stage W'], [1080.0, 30.0, 'Sleep stage W'], [1110.0, 30.0, 'Sleep stage W'], [1140.0, 30.0, 'Sleep stage W'], [1170.0, 30.0, 'Sleep stage N1'], [1200.0, 30.0, 'Sleep stage N1'], [1230.0, 30.0, 'Sleep stage N1'], [1260.0, 30.0, 'Sleep stage N1'], [1290.0, 30.0, 'Sleep stage N1'], [1320.0, 30.0, 'Sleep stage N1'], [1350.0, 30.0, 'Sleep stage N1'], [1380.0, 30.0, 'Sleep stage N1'], [1410.0, 30.0, 'Sleep stage N1'], [1440.0, 30.0, 'Sleep stage N1'], [1470.0, 30.0, 'Sleep stage N1'], [1500.0, 30.0, 'Sleep stage N1'], [1530.0, 30.0, 'Sleep stage N2'], [1560.0, 30.0, 'Sleep stage N2'], [1590.0, 30.0, 'Sleep stage N2'], [1620.0, 30.0, 'Sleep stage N2'], [1650.0, 30.0, 'Sleep stage N2'], [1680.0, 30.0, 'Sleep stage N2'], [1710.0, 30.0, 'Sleep stage N2'], [1740.0, 30.0, 'Sleep stage N2'], [1770.0, 30.0, 'Sleep stage N2'], [1800.0, 30.0, 'Sleep stage N2'], [1830.0, 30.0, 'Sleep stage N2'], [1860.0, 30.0, 'Sleep stage N2'], [1890.0, 30.0, 'Sleep stage N2'], [1920.0, 30.0, 'Sleep stage N2'], [1950.0, 30.0, 'Sleep stage N2'], [1980.0, 30.0, 'Sleep stage N2'], [2010.0, 30.0, 'Sleep stage N2'], [2040.0, 30.0, 'Sleep stage N2'], [2070.0, 30.0, 'Sleep stage N2'], [2100.0, 30.0, 'Sleep stage N2'], [2130.0, 30.0, 'Sleep stage N2'], [2160.0, 30.0, 'Sleep stage N2'], [2190.0, 30.0, 'Sleep stage N2'], [2220.0, 30.0, 'Sleep stage N2'], [2250.0, 30.0, 'Sleep stage N2'], [2280.0, 30.0, 'Sleep stage N2'], [2310.0, 30.0, 'Sleep stage N2'], [2340.0, 30.0, 'Sleep stage N2'], [2370.0, 30.0, 'Sleep stage N2'], [2400.0, 30.0, 'Sleep stage N2'], [2430.0, 30.0, 'Sleep stage N2'], [2460.0, 30.0, 'Sleep stage N1'], [2490.0, 30.0, 'Sleep stage N2'], [2520.0, 30.0, 'Sleep stage N2'], [2550.0, 30.0, 'Sleep stage N2'], [2580.0, 30.0, 'Sleep stage N2'], [2610.0, 30.0, 'Sleep stage N2'], [2640.0, 30.0, 'Sleep stage N2'], [2670.0, 30.0, 'Sleep stage N2'], [2700.0, 30.0, 'Sleep stage N2'], [2730.0, 30.0, 'Sleep stage N2'], [2760.0, 30.0, 'Sleep stage N2'], [2790.0, 30.0, 'Sleep stage N2'], [2820.0, 30.0, 'Sleep stage N2'], [2850.0, 30.0, 'Sleep stage N2'], [2880.0, 30.0, 'Sleep stage N2'], [2910.0, 30.0, 'Sleep stage N2'], [2940.0, 30.0, 'Sleep stage N2'], [2970.0, 30.0, 'Sleep stage N2'], [3000.0, 30.0, 'Sleep stage N2'], [3030.0, 30.0, 'Sleep stage N2'], [3060.0, 30.0, 'Sleep stage N2'], [3090.0, 30.0, 'Sleep stage N2'], [3120.0, 30.0, 'Sleep stage N2'], [3150.0, 30.0, 'Sleep stage N3'], [3180.0, 30.0, 'Sleep stage N3'], [3210.0, 30.0, 'Sleep stage N2'], [3240.0, 30.0, 'Sleep stage N3'], [3270.0, 30.0, 'Sleep stage N3'], [3300.0, 30.0, 'Sleep stage N2'], [3330.0, 30.0, 'Sleep stage N3'], [3360.0, 30.0, 'Sleep stage N3'], [3390.0, 30.0, 'Sleep stage N3'], [3420.0, 30.0, 'Sleep stage N3'], [3450.0, 30.0, 'Sleep stage N3'], [3480.0, 30.0, 'Sleep stage N3'], [3510.0, 30.0, 'Sleep stage N2'], [3540.0, 30.0, 'Sleep stage N3'], [3570.0, 30.0, 'Sleep stage N3'], [3600.0, 30.0, 'Sleep stage N2'], [3630.0, 30.0, 'Sleep stage N3'], [3660.0, 30.0, 'Sleep stage N2'], [3690.0, 30.0, 'Sleep stage N2'], [3720.0, 30.0, 'Sleep stage N2'], [3750.0, 30.0, 'Sleep stage N2'], [3780.0, 30.0, 'Sleep stage N2'], [3810.0, 30.0, 'Sleep stage N2'], [3840.0, 30.0, 'Sleep stage N2'], [3870.0, 30.0, 'Sleep stage N2'], [3900.0, 30.0, 'Sleep stage N2'], [3930.0, 30.0, 'Sleep stage N2'], [3960.0, 30.0, 'Sleep stage N2'], [3990.0, 30.0, 'Sleep stage N2'], [4020.0, 30.0, 'Sleep stage N2'], [4050.0, 30.0, 'Sleep stage N2'], [4080.0, 30.0, 'Sleep stage N2'], [4110.0, 30.0, 'Sleep stage N2'], [4140.0, 30.0, 'Sleep stage N2'], [4170.0, 30.0, 'Sleep stage N2'], [4200.0, 30.0, 'Sleep stage N1'], [4230.0, 30.0, 'Sleep stage N2'], [4260.0, 30.0, 'Sleep stage N2'], [4290.0, 30.0, 'Sleep stage N2'], [4320.0, 30.0, 'Sleep stage N2'], [4350.0, 30.0, 'Sleep stage N2'], [4380.0, 30.0, 'Sleep stage N2'], [4410.0, 30.0, 'Sleep stage N2'], [4440.0, 30.0, 'Sleep stage N1'], [4470.0, 30.0, 'Sleep stage N2'], [4500.0, 30.0, 'Sleep stage N2'], [4530.0, 30.0, 'Sleep stage N2'], [4560.0, 30.0, 'Sleep stage N2'], [4590.0, 30.0, 'Sleep stage N1'], [4620.0, 30.0, 'Sleep stage N2'], [4650.0, 30.0, 'Sleep stage R'], [4680.0, 30.0, 'Sleep stage R'], [4710.0, 30.0, 'Sleep stage R'], [4740.0, 30.0, 'Sleep stage R'], [4770.0, 30.0, 'Sleep stage R'], [4800.0, 30.0, 'Sleep stage R'], [4830.0, 30.0, 'Sleep stage R'], [4860.0, 30.0, 'Sleep stage R'], [4890.0, 30.0, 'Sleep stage R'], [4920.0, 30.0, 'Sleep stage R'], [4950.0, 30.0, 'Sleep stage R'], [4980.0, 30.0, 'Sleep stage R'], [5010.0, 30.0, 'Sleep stage R'], [5040.0, 30.0, 'Sleep stage R'], [5070.0, 30.0, 'Sleep stage R'], [5100.0, 30.0, 'Sleep stage R'], [5130.0, 30.0, 'Sleep stage R'], [5160.0, 30.0, 'Sleep stage R'], [5190.0, 30.0, 'Sleep stage N1'], [5220.0, 30.0, 'Sleep stage R'], [5250.0, 30.0, 'Sleep stage R'], [5280.0, 30.0, 'Sleep stage R'], [5310.0, 30.0, 'Sleep stage R'], [5340.0, 30.0, 'Sleep stage R'], [5370.0, 30.0, 'Sleep stage R'], [5400.0, 30.0, 'Sleep stage W'], [5430.0, 30.0, 'Sleep stage W'], [5460.0, 30.0, 'Sleep stage W'], [5490.0, 30.0, 'Sleep stage W'], [5520.0, 30.0, 'Sleep stage W'], [5550.0, 30.0, 'Sleep stage W'], [5580.0, 30.0, 'Sleep stage W'], [5610.0, 30.0, 'Sleep stage W'], [5640.0, 30.0, 'Sleep stage W'], [5670.0, 30.0, 'Sleep stage W'], [5700.0, 30.0, 'Sleep stage W'], [5730.0, 30.0, 'Sleep stage W'], [5760.0, 30.0, 'Sleep stage N1'], [5790.0, 30.0, 'Sleep stage N1'], [5820.0, 30.0, 'Sleep stage N1'], [5850.0, 30.0, 'Sleep stage N1'], [5880.0, 30.0, 'Sleep stage N1'], [5910.0, 30.0, 'Sleep stage N1'], [5940.0, 30.0, 'Sleep stage N2'], [5970.0, 30.0, 'Sleep stage N2'], [6000.0, 30.0, 'Sleep stage N2'], [6030.0, 30.0, 'Sleep stage N2'], [6060.0, 30.0, 'Sleep stage N1'], [6090.0, 30.0, 'Sleep stage N1'], [6120.0, 30.0, 'Sleep stage N2'], [6150.0, 30.0, 'Sleep stage N2'], [6180.0, 30.0, 'Sleep stage N2'], [6210.0, 30.0, 'Sleep stage N2'], [6240.0, 30.0, 'Sleep stage N2'], [6270.0, 30.0, 'Sleep stage N2'], [6300.0, 30.0, 'Sleep stage N2'], [6330.0, 30.0, 'Sleep stage N2'], [6360.0, 30.0, 'Sleep stage N2'], [6390.0, 30.0, 'Sleep stage N2'], [6420.0, 30.0, 'Sleep stage N2'], [6450.0, 30.0, 'Sleep stage N2'], [6480.0, 30.0, 'Sleep stage N2'], [6510.0, 30.0, 'Sleep stage N2'], [6540.0, 30.0, 'Sleep stage N2'], [6570.0, 30.0, 'Sleep stage N2'], [6600.0, 30.0, 'Sleep stage N2'], [6630.0, 30.0, 'Sleep stage N2'], [6660.0, 30.0, 'Sleep stage N2'], [6690.0, 30.0, 'Sleep stage N2'], [6720.0, 30.0, 'Sleep stage N2'], [6750.0, 30.0, 'Sleep stage N2'], [6780.0, 30.0, 'Sleep stage N2'], [6810.0, 30.0, 'Sleep stage N2'], [6840.0, 30.0, 'Sleep stage N2'], [6870.0, 30.0, 'Sleep stage N2'], [6900.0, 30.0, 'Sleep stage N2'], [6930.0, 30.0, 'Sleep stage N2'], [6960.0, 30.0, 'Sleep stage N2'], [6990.0, 30.0, 'Sleep stage N2'], [7020.0, 30.0, 'Sleep stage N2'], [7050.0, 30.0, 'Sleep stage N2'], [7080.0, 30.0, 'Sleep stage N2'], [7110.0, 30.0, 'Sleep stage N2'], [7140.0, 30.0, 'Sleep stage N2'], [7170.0, 30.0, 'Sleep stage N2'], [7200.0, 30.0, 'Sleep stage N1'], [7230.0, 30.0, 'Sleep stage N1'], [7260.0, 30.0, 'Sleep stage N1'], [7290.0, 30.0, 'Sleep stage N1'], [7320.0, 30.0, 'Sleep stage N1'], [7350.0, 30.0, 'Sleep stage N1'], [7380.0, 30.0, 'Sleep stage N1'], [7410.0, 30.0, 'Sleep stage W'], [7440.0, 30.0, 'Sleep stage N1'], [7470.0, 30.0, 'Sleep stage N1'], [7500.0, 30.0, 'Sleep stage N1'], [7530.0, 30.0, 'Sleep stage N1'], [7560.0, 30.0, 'Sleep stage N1'], [7590.0, 30.0, 'Sleep stage N2'], [7620.0, 30.0, 'Sleep stage N2'], [7650.0, 30.0, 'Sleep stage N2'], [7680.0, 30.0, 'Sleep stage N2'], [7710.0, 30.0, 'Sleep stage N2'], [7740.0, 30.0, 'Sleep stage N2'], [7770.0, 30.0, 'Sleep stage N2'], [7800.0, 30.0, 'Sleep stage N2'], [7830.0, 30.0, 'Sleep stage N2'], [7860.0, 30.0, 'Sleep stage N2'], [7890.0, 30.0, 'Sleep stage N2'], [7920.0, 30.0, 'Sleep stage N2'], [7950.0, 30.0, 'Sleep stage N2'], [7980.0, 30.0, 'Sleep stage N2'], [8010.0, 30.0, 'Sleep stage N2'], [8040.0, 30.0, 'Sleep stage N2'], [8070.0, 30.0, 'Sleep stage N2'], [8100.0, 30.0, 'Sleep stage N2'], [8130.0, 30.0, 'Sleep stage N2'], [8160.0, 30.0, 'Sleep stage N2'], [8190.0, 30.0, 'Sleep stage N2'], [8220.0, 30.0, 'Sleep stage N2'], [8250.0, 30.0, 'Sleep stage N2'], [8280.0, 30.0, 'Sleep stage N2'], [8310.0, 30.0, 'Sleep stage N1'], [8340.0, 30.0, 'Sleep stage N2'], [8370.0, 30.0, 'Sleep stage N2'], [8400.0, 30.0, 'Sleep stage N2'], [8430.0, 30.0, 'Sleep stage N2'], [8460.0, 30.0, 'Sleep stage N2'], [8490.0, 30.0, 'Sleep stage N2'], [8520.0, 30.0, 'Sleep stage N2'], [8550.0, 30.0, 'Sleep stage N2'], [8580.0, 30.0, 'Sleep stage N2'], [8610.0, 30.0, 'Sleep stage N2'], [8640.0, 30.0, 'Sleep stage N1'], [8670.0, 30.0, 'Sleep stage N2'], [8700.0, 30.0, 'Sleep stage N2'], [8730.0, 30.0, 'Sleep stage N2'], [8760.0, 30.0, 'Sleep stage N2'], [8790.0, 30.0, 'Sleep stage N2'], [8820.0, 30.0, 'Sleep stage N2'], [8850.0, 30.0, 'Sleep stage N2'], [8880.0, 30.0, 'Sleep stage N2'], [8910.0, 30.0, 'Sleep stage N2'], [8940.0, 30.0, 'Sleep stage N2'], [8970.0, 30.0, 'Sleep stage N2'], [9000.0, 30.0, 'Sleep stage N1'], [9030.0, 30.0, 'Sleep stage N2'], [9060.0, 30.0, 'Sleep stage N2'], [9090.0, 30.0, 'Sleep stage N2'], [9120.0, 30.0, 'Sleep stage N2'], [9150.0, 30.0, 'Sleep stage N2'], [9180.0, 30.0, 'Sleep stage N2'], [9210.0, 30.0, 'Sleep stage N2'], [9240.0, 30.0, 'Sleep stage N2'], [9270.0, 30.0, 'Sleep stage N2'], [9300.0, 30.0, 'Sleep stage N2'], [9330.0, 30.0, 'Sleep stage N2'], [9360.0, 30.0, 'Sleep stage N2'], [9390.0, 30.0, 'Sleep stage R'], [9420.0, 30.0, 'Sleep stage N2'], [9450.0, 30.0, 'Sleep stage R'], [9480.0, 30.0, 'Sleep stage N1'], [9510.0, 30.0, 'Sleep stage W'], [9540.0, 30.0, 'Sleep stage W'], [9570.0, 30.0, 'Sleep stage W'], [9600.0, 30.0, 'Sleep stage W'], [9630.0, 30.0, 'Sleep stage W'], [9660.0, 30.0, 'Sleep stage W'], [9690.0, 30.0, 'Sleep stage W'], [9720.0, 30.0, 'Sleep stage W'], [9750.0, 30.0, 'Sleep stage W'], [9780.0, 30.0, 'Sleep stage W'], [9810.0, 30.0, 'Sleep stage W'], [9840.0, 30.0, 'Sleep stage W'], [9870.0, 30.0, 'Sleep stage W'], [9900.0, 30.0, 'Sleep stage W'], [9930.0, 30.0, 'Sleep stage W'], [9960.0, 30.0, 'Sleep stage W'], [9990.0, 30.0, 'Sleep stage W'], [10020.0, 30.0, 'Sleep stage W'], [10050.0, 30.0, 'Sleep stage W'], [10080.0, 30.0, 'Sleep stage W'], [10110.0, 30.0, 'Sleep stage W'], [10140.0, 30.0, 'Sleep stage W'], [10170.0, 30.0, 'Sleep stage W'], [10200.0, 30.0, 'Sleep stage W'], [10230.0, 30.0, 'Sleep stage W'], [10260.0, 30.0, 'Sleep stage W'], [10290.0, 30.0, 'Sleep stage W'], [10320.0, 30.0, 'Sleep stage W'], [10350.0, 30.0, 'Sleep stage W'], [10380.0, 30.0, 'Sleep stage W'], [10410.0, 30.0, 'Sleep stage W'], [10440.0, 30.0, 'Sleep stage W'], [10470.0, 30.0, 'Sleep stage W'], [10500.0, 30.0, 'Sleep stage W'], [10530.0, 30.0, 'Sleep stage W'], [10560.0, 30.0, 'Sleep stage W'], [10590.0, 30.0, 'Sleep stage W'], [10620.0, 30.0, 'Sleep stage W'], [10650.0, 30.0, 'Sleep stage W'], [10680.0, 30.0, 'Sleep stage W'], [10710.0, 30.0, 'Sleep stage W'], [10740.0, 30.0, 'Sleep stage W'], [10770.0, 30.0, 'Sleep stage W'], [10800.0, 30.0, 'Sleep stage W'], [10830.0, 30.0, 'Sleep stage W'], [10860.0, 30.0, 'Sleep stage W'], [10890.0, 30.0, 'Sleep stage W'], [10920.0, 30.0, 'Sleep stage W'], [10950.0, 30.0, 'Sleep stage W'], [10980.0, 30.0, 'Sleep stage W'], [11010.0, 30.0, 'Sleep stage W'], [11040.0, 30.0, 'Sleep stage W'], [11070.0, 30.0, 'Sleep stage W'], [11100.0, 30.0, 'Sleep stage W'], [11130.0, 30.0, 'Sleep stage W'], [11160.0, 30.0, 'Sleep stage W'], [11190.0, 30.0, 'Sleep stage W'], [11220.0, 30.0, 'Sleep stage W'], [11250.0, 30.0, 'Sleep stage W'], [11280.0, 30.0, 'Sleep stage W'], [11310.0, 30.0, 'Sleep stage W'], [11340.0, 30.0, 'Sleep stage W'], [11370.0, 30.0, 'Sleep stage W'], [11400.0, 30.0, 'Sleep stage W'], [11430.0, 30.0, 'Sleep stage W'], [11460.0, 30.0, 'Sleep stage W'], [11490.0, 30.0, 'Sleep stage W'], [11520.0, 30.0, 'Sleep stage W'], [11550.0, 30.0, 'Sleep stage W'], [11580.0, 30.0, 'Sleep stage W'], [11610.0, 30.0, 'Sleep stage W'], [11640.0, 30.0, 'Sleep stage W'], [11670.0, 30.0, 'Sleep stage W'], [11700.0, 30.0, 'Sleep stage W'], [11730.0, 30.0, 'Sleep stage W'], [11760.0, 30.0, 'Sleep stage W'], [11790.0, 30.0, 'Sleep stage W'], [11820.0, 30.0, 'Sleep stage W'], [11850.0, 30.0, 'Sleep stage W'], [11880.0, 30.0, 'Sleep stage W'], [11910.0, 30.0, 'Sleep stage W'], [11940.0, 30.0, 'Sleep stage W'], [11970.0, 30.0, 'Sleep stage W'], [12000.0, 30.0, 'Sleep stage W'], [12030.0, 30.0, 'Sleep stage N1'], [12060.0, 30.0, 'Sleep stage W'], [12090.0, 30.0, 'Sleep stage N1'], [12120.0, 30.0, 'Sleep stage W'], [12150.0, 30.0, 'Sleep stage W'], [12180.0, 30.0, 'Sleep stage N1'], [12210.0, 30.0, 'Sleep stage N1'], [12240.0, 30.0, 'Sleep stage N1'], [12270.0, 30.0, 'Sleep stage N1'], [12300.0, 30.0, 'Sleep stage N1'], [12330.0, 30.0, 'Sleep stage N1'], [12360.0, 30.0, 'Sleep stage N1'], [12390.0, 30.0, 'Sleep stage N1'], [12420.0, 30.0, 'Sleep stage N2'], [12450.0, 30.0, 'Sleep stage N2'], [12480.0, 30.0, 'Sleep stage N2'], [12510.0, 30.0, 'Sleep stage N2'], [12540.0, 30.0, 'Sleep stage N2'], [12570.0, 30.0, 'Sleep stage N2'], [12600.0, 30.0, 'Sleep stage N2'], [12630.0, 30.0, 'Sleep stage N2'], [12660.0, 30.0, 'Sleep stage N2'], [12690.0, 30.0, 'Sleep stage N2'], [12720.0, 30.0, 'Sleep stage N2'], [12750.0, 30.0, 'Sleep stage N2'], [12780.0, 30.0, 'Sleep stage N2'], [12810.0, 30.0, 'Sleep stage N2'], [12840.0, 30.0, 'Sleep stage N1'], [12870.0, 30.0, 'Sleep stage N2'], [12900.0, 30.0, 'Sleep stage N2'], [12930.0, 30.0, 'Sleep stage N2'], [12960.0, 30.0, 'Sleep stage N2'], [12990.0, 30.0, 'Sleep stage N2'], [13020.0, 30.0, 'Sleep stage N2'], [13050.0, 30.0, 'Sleep stage N2'], [13080.0, 30.0, 'Sleep stage N2'], [13110.0, 30.0, 'Sleep stage N2'], [13140.0, 30.0, 'Sleep stage N2'], [13170.0, 30.0, 'Sleep stage N2'], [13200.0, 30.0, 'Sleep stage N2'], [13230.0, 30.0, 'Sleep stage N1'], [13260.0, 30.0, 'Sleep stage N2'], [13290.0, 30.0, 'Sleep stage N2'], [13320.0, 30.0, 'Sleep stage N2'], [13350.0, 30.0, 'Sleep stage N2'], [13380.0, 30.0, 'Sleep stage N2'], [13410.0, 30.0, 'Sleep stage N2'], [13440.0, 30.0, 'Sleep stage N2'], [13470.0, 30.0, 'Sleep stage N2'], [13500.0, 30.0, 'Sleep stage N2'], [13530.0, 30.0, 'Sleep stage N2'], [13560.0, 30.0, 'Sleep stage N2'], [13590.0, 30.0, 'Sleep stage N2'], [13620.0, 30.0, 'Sleep stage N2'], [13650.0, 30.0, 'Sleep stage N2'], [13680.0, 30.0, 'Sleep stage N2'], [13710.0, 30.0, 'Sleep stage N2'], [13740.0, 30.0, 'Sleep stage N2'], [13770.0, 30.0, 'Sleep stage N2'], [13800.0, 30.0, 'Sleep stage N2'], [13830.0, 30.0, 'Sleep stage N2'], [13860.0, 30.0, 'Sleep stage N2'], [13890.0, 30.0, 'Sleep stage N2'], [13920.0, 30.0, 'Sleep stage N2'], [13950.0, 30.0, 'Sleep stage N3'], [13980.0, 30.0, 'Sleep stage N3'], [14010.0, 30.0, 'Sleep stage N3'], [14040.0, 30.0, 'Sleep stage N3'], [14070.0, 30.0, 'Sleep stage N3'], [14100.0, 30.0, 'Sleep stage N2'], [14130.0, 30.0, 'Sleep stage N2'], [14160.0, 30.0, 'Sleep stage N2'], [14190.0, 30.0, 'Sleep stage N2'], [14220.0, 30.0, 'Sleep stage N2'], [14250.0, 30.0, 'Sleep stage N2'], [14280.0, 30.0, 'Sleep stage N2'], [14310.0, 30.0, 'Sleep stage N1'], [14340.0, 30.0, 'Sleep stage N2'], [14370.0, 30.0, 'Sleep stage N2'], [14400.0, 30.0, 'Sleep stage N2'], [14430.0, 30.0, 'Sleep stage N2'], [14460.0, 30.0, 'Sleep stage N2'], [14490.0, 30.0, 'Sleep stage N2'], [14520.0, 30.0, 'Sleep stage N2'], [14550.0, 30.0, 'Sleep stage N2'], [14580.0, 30.0, 'Sleep stage N2'], [14610.0, 30.0, 'Sleep stage N2'], [14640.0, 30.0, 'Sleep stage N2'], [14670.0, 30.0, 'Sleep stage N2'], [14700.0, 30.0, 'Sleep stage N2'], [14730.0, 30.0, 'Sleep stage N2'], [14760.0, 30.0, 'Sleep stage N2'], [14790.0, 30.0, 'Sleep stage N2'], [14820.0, 30.0, 'Sleep stage N2'], [14850.0, 30.0, 'Sleep stage N2'], [14880.0, 30.0, 'Sleep stage N2'], [14910.0, 30.0, 'Sleep stage N2'], [14940.0, 30.0, 'Sleep stage N2'], [14970.0, 30.0, 'Sleep stage N2'], [15000.0, 30.0, 'Sleep stage N2'], [15030.0, 30.0, 'Sleep stage N2'], [15060.0, 30.0, 'Sleep stage N2'], [15090.0, 30.0, 'Sleep stage N2'], [15120.0, 30.0, 'Sleep stage N2'], [15150.0, 30.0, 'Sleep stage N1'], [15180.0, 30.0, 'Sleep stage N2'], [15210.0, 30.0, 'Sleep stage N2'], [15240.0, 30.0, 'Sleep stage N2'], [15270.0, 30.0, 'Sleep stage N2'], [15300.0, 30.0, 'Sleep stage N2'], [15330.0, 30.0, 'Sleep stage N2'], [15360.0, 30.0, 'Sleep stage N2'], [15390.0, 30.0, 'Sleep stage N2'], [15420.0, 30.0, 'Sleep stage N2'], [15450.0, 30.0, 'Sleep stage N2'], [15480.0, 30.0, 'Sleep stage N2'], [15510.0, 30.0, 'Sleep stage N2'], [15540.0, 30.0, 'Sleep stage R'], [15570.0, 30.0, 'Sleep stage R'], [15600.0, 30.0, 'Sleep stage R'], [15630.0, 30.0, 'Sleep stage R'], [15660.0, 30.0, 'Sleep stage R'], [15690.0, 30.0, 'Sleep stage R'], [15720.0, 30.0, 'Sleep stage R'], [15750.0, 30.0, 'Sleep stage R'], [15780.0, 30.0, 'Sleep stage R'], [15810.0, 30.0, 'Sleep stage R'], [15840.0, 30.0, 'Sleep stage R'], [15870.0, 30.0, 'Sleep stage R'], [15900.0, 30.0, 'Sleep stage R'], [15930.0, 30.0, 'Sleep stage R'], [15960.0, 30.0, 'Sleep stage R'], [15990.0, 30.0, 'Sleep stage R'], [16020.0, 30.0, 'Sleep stage R'], [16050.0, 30.0, 'Sleep stage R'], [16080.0, 30.0, 'Sleep stage R'], [16110.0, 30.0, 'Sleep stage R'], [16140.0, 30.0, 'Sleep stage R'], [16170.0, 30.0, 'Sleep stage R'], [16200.0, 30.0, 'Sleep stage R'], [16230.0, 30.0, 'Sleep stage R'], [16260.0, 30.0, 'Sleep stage R'], [16290.0, 30.0, 'Sleep stage R'], [16320.0, 30.0, 'Sleep stage R'], [16350.0, 30.0, 'Sleep stage R'], [16380.0, 30.0, 'Sleep stage N1'], [16410.0, 30.0, 'Sleep stage R'], [16440.0, 30.0, 'Sleep stage R'], [16470.0, 30.0, 'Sleep stage R'], [16500.0, 30.0, 'Sleep stage R'], [16530.0, 30.0, 'Sleep stage R'], [16560.0, 30.0, 'Sleep stage R'], [16590.0, 30.0, 'Sleep stage R'], [16620.0, 30.0, 'Sleep stage R'], [16650.0, 30.0, 'Sleep stage R'], [16680.0, 30.0, 'Sleep stage R'], [16710.0, 30.0, 'Sleep stage R'], [16740.0, 30.0, 'Sleep stage R'], [16770.0, 30.0, 'Sleep stage R'], [16800.0, 30.0, 'Sleep stage R'], [16830.0, 30.0, 'Sleep stage R'], [16860.0, 30.0, 'Sleep stage R'], [16890.0, 30.0, 'Sleep stage R'], [16920.0, 30.0, 'Sleep stage R'], [16950.0, 30.0, 'Sleep stage R'], [16980.0, 30.0, 'Sleep stage R'], [17010.0, 30.0, 'Sleep stage R'], [17040.0, 30.0, 'Sleep stage R'], [17070.0, 30.0, 'Sleep stage R'], [17100.0, 30.0, 'Sleep stage R'], [17130.0, 30.0, 'Sleep stage R'], [17160.0, 30.0, 'Sleep stage R'], [17190.0, 30.0, 'Sleep stage R'], [17220.0, 30.0, 'Sleep stage R'], [17250.0, 30.0, 'Sleep stage W'], [17280.0, 30.0, 'Sleep stage W'], [17310.0, 30.0, 'Sleep stage W'], [17340.0, 30.0, 'Sleep stage W'], [17370.0, 30.0, 'Sleep stage W'], [17400.0, 30.0, 'Sleep stage N1'], [17430.0, 30.0, 'Sleep stage N1'], [17460.0, 30.0, 'Sleep stage N1'], [17490.0, 30.0, 'Sleep stage N1'], [17520.0, 30.0, 'Sleep stage N1'], [17550.0, 30.0, 'Sleep stage N1'], [17580.0, 30.0, 'Sleep stage N1'], [17610.0, 30.0, 'Sleep stage N1'], [17640.0, 30.0, 'Sleep stage N1'], [17670.0, 30.0, 'Sleep stage N1'], [17700.0, 30.0, 'Sleep stage N1'], [17730.0, 30.0, 'Sleep stage N1'], [17760.0, 30.0, 'Sleep stage N2'], [17790.0, 30.0, 'Sleep stage N2'], [17820.0, 30.0, 'Sleep stage N2'], [17850.0, 30.0, 'Sleep stage N2'], [17880.0, 30.0, 'Sleep stage N2'], [17910.0, 30.0, 'Sleep stage N2'], [17940.0, 30.0, 'Sleep stage N2'], [17970.0, 30.0, 'Sleep stage N2'], [18000.0, 30.0, 'Sleep stage N2'], [18030.0, 30.0, 'Sleep stage N2'], [18060.0, 30.0, 'Sleep stage N2'], [18090.0, 30.0, 'Sleep stage N2'], [18120.0, 30.0, 'Sleep stage N2'], [18150.0, 30.0, 'Sleep stage N2'], [18180.0, 30.0, 'Sleep stage N2'], [18210.0, 30.0, 'Sleep stage N2'], [18240.0, 30.0, 'Sleep stage N2'], [18270.0, 30.0, 'Sleep stage N2'], [18300.0, 30.0, 'Sleep stage N2'], [18330.0, 30.0, 'Sleep stage N2'], [18360.0, 30.0, 'Sleep stage N2'], [18390.0, 30.0, 'Sleep stage N2'], [18420.0, 30.0, 'Sleep stage N2'], [18450.0, 30.0, 'Sleep stage N2'], [18480.0, 30.0, 'Sleep stage N2'], [18510.0, 30.0, 'Sleep stage N2'], [18540.0, 30.0, 'Sleep stage N2'], [18570.0, 30.0, 'Sleep stage N2'], [18600.0, 30.0, 'Sleep stage N2'], [18630.0, 30.0, 'Sleep stage N2'], [18660.0, 30.0, 'Sleep stage N2'], [18690.0, 30.0, 'Sleep stage N2'], [18720.0, 30.0, 'Sleep stage N2'], [18750.0, 30.0, 'Sleep stage N2'], [18780.0, 30.0, 'Sleep stage N2'], [18810.0, 30.0, 'Sleep stage N2'], [18840.0, 30.0, 'Sleep stage N2'], [18870.0, 30.0, 'Sleep stage N2'], [18900.0, 30.0, 'Sleep stage N2'], [18930.0, 30.0, 'Sleep stage N2'], [18960.0, 30.0, 'Sleep stage N2'], [18990.0, 30.0, 'Sleep stage N2'], [19020.0, 30.0, 'Sleep stage N2'], [19050.0, 30.0, 'Sleep stage N2'], [19080.0, 30.0, 'Sleep stage N2'], [19110.0, 30.0, 'Sleep stage N2'], [19140.0, 30.0, 'Sleep stage N2'], [19170.0, 30.0, 'Sleep stage N2'], [19200.0, 30.0, 'Sleep stage N2'], [19230.0, 30.0, 'Sleep stage N2'], [19260.0, 30.0, 'Sleep stage N2'], [19290.0, 30.0, 'Sleep stage N2'], [19320.0, 30.0, 'Sleep stage N3'], [19350.0, 30.0, 'Sleep stage N3'], [19380.0, 30.0, 'Sleep stage N3'], [19410.0, 30.0, 'Sleep stage N3'], [19440.0, 30.0, 'Sleep stage N2'], [19470.0, 30.0, 'Sleep stage N3'], [19500.0, 30.0, 'Sleep stage N2'], [19530.0, 30.0, 'Sleep stage N2'], [19560.0, 30.0, 'Sleep stage W'], [19590.0, 30.0, 'Sleep stage W'], [19620.0, 30.0, 'Sleep stage W'], [19650.0, 30.0, 'Sleep stage N1'], [19680.0, 30.0, 'Sleep stage N2'], [19710.0, 30.0, 'Sleep stage N2'], [19740.0, 30.0, 'Sleep stage N2'], [19770.0, 30.0, 'Sleep stage N2'], [19800.0, 30.0, 'Sleep stage N2'], [19830.0, 30.0, 'Sleep stage N2'], [19860.0, 30.0, 'Sleep stage N2'], [19890.0, 30.0, 'Sleep stage N2'], [19920.0, 30.0, 'Sleep stage N2'], [19950.0, 30.0, 'Sleep stage N2'], [19980.0, 30.0, 'Sleep stage N2'], [20010.0, 30.0, 'Sleep stage N2'], [20040.0, 30.0, 'Sleep stage N2'], [20070.0, 30.0, 'Sleep stage N2'], [20100.0, 30.0, 'Sleep stage N2'], [20130.0, 30.0, 'Sleep stage N2'], [20160.0, 30.0, 'Sleep stage N2'], [20190.0, 30.0, 'Sleep stage N2'], [20220.0, 30.0, 'Sleep stage N2'], [20250.0, 30.0, 'Sleep stage N2'], [20280.0, 30.0, 'Sleep stage N2'], [20310.0, 30.0, 'Sleep stage N2'], [20340.0, 30.0, 'Sleep stage N2'], [20370.0, 30.0, 'Sleep stage N2'], [20400.0, 30.0, 'Sleep stage N2'], [20430.0, 30.0, 'Sleep stage N2'], [20460.0, 30.0, 'Sleep stage N2'], [20490.0, 30.0, 'Sleep stage N2'], [20520.0, 30.0, 'Sleep stage N2'], [20550.0, 30.0, 'Sleep stage N2'], [20580.0, 30.0, 'Sleep stage N2'], [20610.0, 30.0, 'Sleep stage N2'], [20640.0, 30.0, 'Sleep stage N2'], [20670.0, 30.0, 'Sleep stage N2'], [20700.0, 30.0, 'Sleep stage R'], [20730.0, 30.0, 'Sleep stage N1'], [20760.0, 30.0, 'Sleep stage N1'], [20790.0, 30.0, 'Sleep stage N1'], [20820.0, 30.0, 'Sleep stage N1'], [20850.0, 30.0, 'Sleep stage N1'], [20880.0, 30.0, 'Sleep stage R'], [20910.0, 30.0, 'Sleep stage R'], [20940.0, 30.0, 'Sleep stage R'], [20970.0, 30.0, 'Sleep stage R'], [21000.0, 30.0, 'Sleep stage R'], [21030.0, 30.0, 'Sleep stage R'], [21060.0, 30.0, 'Sleep stage R'], [21090.0, 30.0, 'Sleep stage R'], [21120.0, 30.0, 'Sleep stage R'], [21150.0, 30.0, 'Sleep stage R'], [21180.0, 30.0, 'Sleep stage R'], [21210.0, 30.0, 'Sleep stage R'], [21240.0, 30.0, 'Sleep stage R'], [21270.0, 30.0, 'Sleep stage R'], [21300.0, 30.0, 'Sleep stage R'], [21330.0, 30.0, 'Sleep stage R'], [21360.0, 30.0, 'Sleep stage R'], [21390.0, 30.0, 'Sleep stage R'], [21420.0, 30.0, 'Sleep stage R'], [21450.0, 30.0, 'Sleep stage R'], [21480.0, 30.0, 'Sleep stage R'], [21510.0, 30.0, 'Sleep stage R'], [21540.0, 30.0, 'Sleep stage R'], [21570.0, 30.0, 'Sleep stage R'], [21600.0, 30.0, 'Sleep stage R'], [21630.0, 30.0, 'Sleep stage R'], [21660.0, 30.0, 'Sleep stage R'], [21690.0, 30.0, 'Sleep stage R'], [21720.0, 30.0, 'Sleep stage R'], [21750.0, 30.0, 'Sleep stage R'], [21780.0, 30.0, 'Sleep stage R'], [21810.0, 30.0, 'Sleep stage R'], [21840.0, 30.0, 'Sleep stage R'], [21870.0, 30.0, 'Sleep stage R'], [21900.0, 30.0, 'Sleep stage R'], [21930.0, 30.0, 'Sleep stage R'], [21960.0, 30.0, 'Sleep stage R'], [21990.0, 30.0, 'Sleep stage R'], [22020.0, 30.0, 'Sleep stage R'], [22050.0, 30.0, 'Sleep stage R'], [22080.0, 30.0, 'Sleep stage R'], [22110.0, 30.0, 'Sleep stage R'], [22140.0, 30.0, 'Sleep stage R'], [22170.0, 30.0, 'Sleep stage R'], [22200.0, 30.0, 'Sleep stage R'], [22230.0, 30.0, 'Sleep stage R'], [22260.0, 30.0, 'Sleep stage R'], [22290.0, 30.0, 'Sleep stage R'], [22320.0, 30.0, 'Sleep stage R'], [22350.0, 30.0, 'Sleep stage R'], [22380.0, 30.0, 'Sleep stage R'], [22410.0, 30.0, 'Sleep stage R'], [22440.0, 30.0, 'Sleep stage R'], [22470.0, 30.0, 'Sleep stage R'], [22500.0, 30.0, 'Sleep stage R'], [22530.0, 30.0, 'Sleep stage R'], [22560.0, 30.0, 'Sleep stage R'], [22590.0, 30.0, 'Sleep stage R'], [22620.0, 30.0, 'Sleep stage N1'], [22650.0, 30.0, 'Sleep stage W'], [22680.0, 30.0, 'Sleep stage N1'], [22710.0, 30.0, 'Sleep stage N1'], [22740.0, 30.0, 'Sleep stage N1'], [22770.0, 30.0, 'Sleep stage N1'], [22800.0, 30.0, 'Sleep stage N1'], [22830.0, 30.0, 'Sleep stage N1'], [22860.0, 30.0, 'Sleep stage N1'], [22890.0, 30.0, 'Sleep stage N2'], [22920.0, 30.0, 'Sleep stage N2'], [22950.0, 30.0, 'Sleep stage N2'], [22980.0, 30.0, 'Sleep stage N2'], [23010.0, 30.0, 'Sleep stage N2'], [23040.0, 30.0, 'Sleep stage N2'], [23070.0, 30.0, 'Sleep stage N2'], [23100.0, 30.0, 'Sleep stage N2'], [23130.0, 30.0, 'Sleep stage N2'], [23160.0, 30.0, 'Sleep stage N1'], [23190.0, 30.0, 'Sleep stage N2'], [23220.0, 30.0, 'Sleep stage N2'], [23250.0, 30.0, 'Sleep stage N1'], [23280.0, 30.0, 'Sleep stage W'], [23310.0, 30.0, 'Sleep stage N1'], [23340.0, 30.0, 'Sleep stage N1'], [23370.0, 30.0, 'Sleep stage W'], [23400.0, 30.0, 'Sleep stage W'], [23430.0, 30.0, 'Sleep stage W'], [23460.0, 30.0, 'Sleep stage W'], [23490.0, 30.0, 'Sleep stage W'], [23520.0, 30.0, 'Sleep stage W'], [23550.0, 30.0, 'Sleep stage W'], [23580.0, 30.0, 'Sleep stage W'], [23610.0, 30.0, 'Sleep stage W'], [23640.0, 30.0, 'Sleep stage W'], [23670.0, 30.0, 'Sleep stage W'], [23700.0, 30.0, 'Sleep stage W'], [23730.0, 30.0, 'Sleep stage W'], [23760.0, 30.0, 'Sleep stage W'], [23790.0, 30.0, 'Sleep stage W'], [23820.0, 30.0, 'Sleep stage W'], [23850.0, 30.0, 'Sleep stage W'], [23880.0, 30.0, 'Sleep stage W'], [23910.0, 30.0, 'Sleep stage N1'], [23940.0, 30.0, 'Sleep stage N1'], [23970.0, 30.0, 'Sleep stage N1'], [24000.0, 30.0, 'Sleep stage N1'], [24030.0, 30.0, 'Sleep stage N1'], [24060.0, 30.0, 'Sleep stage N2'], [24090.0, 30.0, 'Sleep stage N2'], [24120.0, 30.0, 'Sleep stage N2'], [24150.0, 30.0, 'Sleep stage N2'], [24180.0, 30.0, 'Sleep stage N2'], [24210.0, 30.0, 'Sleep stage N2'], [24240.0, 30.0, 'Sleep stage N2'], [24270.0, 30.0, 'Sleep stage N2'], [24300.0, 30.0, 'Sleep stage N2'], [24330.0, 30.0, 'Sleep stage N2'], [24360.0, 30.0, 'Sleep stage N2'], [24390.0, 30.0, 'Sleep stage N2'], [24420.0, 30.0, 'Sleep stage N2'], [24450.0, 30.0, 'Sleep stage N2'], [24480.0, 30.0, 'Sleep stage N2'], [24510.0, 30.0, 'Sleep stage N2'], [24540.0, 30.0, 'Sleep stage N2'], [24570.0, 30.0, 'Sleep stage N2'], [24600.0, 30.0, 'Sleep stage N2'], [24630.0, 30.0, 'Sleep stage N2'], [24660.0, 30.0, 'Sleep stage N2'], [24690.0, 30.0, 'Sleep stage N2'], [24720.0, 30.0, 'Sleep stage N2'], [24750.0, 30.0, 'Sleep stage N2'], [24780.0, 30.0, 'Sleep stage N2'], [24810.0, 30.0, 'Sleep stage N2'], [24840.0, 30.0, 'Sleep stage N2'], [24870.0, 30.0, 'Sleep stage N2'], [24900.0, 30.0, 'Sleep stage N2'], [24930.0, 30.0, 'Sleep stage N2'], [24960.0, 30.0, 'Sleep stage N2'], [24990.0, 30.0, 'Sleep stage N2'], [25020.0, 30.0, 'Sleep stage N2'], [25050.0, 30.0, 'Sleep stage N2'], [25080.0, 30.0, 'Sleep stage N2'], [25110.0, 30.0, 'Sleep stage N2'], [25140.0, 30.0, 'Sleep stage N2'], [25170.0, 30.0, 'Sleep stage N2'], [25200.0, 30.0, 'Sleep stage N2'], [25230.0, 30.0, 'Sleep stage N2'], [25260.0, 30.0, 'Sleep stage N2'], [25290.0, 30.0, 'Sleep stage N2'], [25320.0, 30.0, 'Sleep stage W'], [25350.0, 30.0, 'Sleep stage W'], [25380.0, 30.0, 'Sleep stage W'], [25410.0, 30.0, 'Sleep stage W'], [25440.0, 30.0, 'Sleep stage W'], [25470.0, 30.0, 'Sleep stage W'], [25500.0, 30.0, 'Sleep stage W'], [25530.0, 30.0, 'Sleep stage W'], [25560.0, 30.0, 'Sleep stage W'], [25590.0, 30.0, 'Sleep stage W'], [25618.74, 0.0, 'Lights on@@EEG Fpz-Cz']]})\n",
            "\n",
            "\n",
            "Total signal count: 151\n",
            "Label counts: 151\n"
          ]
        }
      ]
    },
    {
      "cell_type": "markdown",
      "source": [
        "test set 분리 "
      ],
      "metadata": {
        "id": "zvWSpvBIInRf"
      }
    },
    {
      "cell_type": "code",
      "source": [
        "#151명 중 약 17%인 25명을 test set으로 선정\n",
        "# 첫번째 데이터부터 151번째 데이터까지 순서대로 6명마다 1명이 testset으로 뽑히도록\n",
        "\n",
        "test_x = []\n",
        "test_y = []\n",
        "test_index_list = []\n",
        "\n",
        "for i in range(len(trains)):\n",
        "  if (i+1) % 6 == 0:\n",
        "    test_x.append(trains[i])\n",
        "    test_y.append(labels[i])\n",
        "    test_index_list.append(i)\n",
        "\n",
        "\n",
        "print(f'test_x={test_x}')   \n",
        "print(f'test_y={test_y}') "
      ],
      "metadata": {
        "colab": {
          "base_uri": "https://localhost:8080/"
        },
        "outputId": "20d6e459-4aba-4870-e53a-ce81b1ce7f51",
        "id": "nUXFwKqzJdPz"
      },
      "execution_count": 9,
      "outputs": [
        {
          "output_type": "stream",
          "name": "stdout",
          "text": [
            "test_x=['/content/drive/MyDrive/physionet/HMC/hmc-sleep-staging/recordings/SN006.edf', '/content/drive/MyDrive/physionet/HMC/hmc-sleep-staging/recordings/SN012.edf', '/content/drive/MyDrive/physionet/HMC/hmc-sleep-staging/recordings/SN019.edf', '/content/drive/MyDrive/physionet/HMC/hmc-sleep-staging/recordings/SN025.edf', '/content/drive/MyDrive/physionet/HMC/hmc-sleep-staging/recordings/SN031.edf', '/content/drive/MyDrive/physionet/HMC/hmc-sleep-staging/recordings/SN037.edf', '/content/drive/MyDrive/physionet/HMC/hmc-sleep-staging/recordings/SN043.edf', '/content/drive/MyDrive/physionet/HMC/hmc-sleep-staging/recordings/SN049.edf', '/content/drive/MyDrive/physionet/HMC/hmc-sleep-staging/recordings/SN055.edf', '/content/drive/MyDrive/physionet/HMC/hmc-sleep-staging/recordings/SN061.edf', '/content/drive/MyDrive/physionet/HMC/hmc-sleep-staging/recordings/SN068.edf', '/content/drive/MyDrive/physionet/HMC/hmc-sleep-staging/recordings/SN074.edf', '/content/drive/MyDrive/physionet/HMC/hmc-sleep-staging/recordings/SN080.edf', '/content/drive/MyDrive/physionet/HMC/hmc-sleep-staging/recordings/SN086.edf', '/content/drive/MyDrive/physionet/HMC/hmc-sleep-staging/recordings/SN092.edf', '/content/drive/MyDrive/physionet/HMC/hmc-sleep-staging/recordings/SN098.edf', '/content/drive/MyDrive/physionet/HMC/hmc-sleep-staging/recordings/SN104.edf', '/content/drive/MyDrive/physionet/HMC/hmc-sleep-staging/recordings/SN110.edf', '/content/drive/MyDrive/physionet/HMC/hmc-sleep-staging/recordings/SN116.edf', '/content/drive/MyDrive/physionet/HMC/hmc-sleep-staging/recordings/SN122.edf', '/content/drive/MyDrive/physionet/HMC/hmc-sleep-staging/recordings/SN128.edf', '/content/drive/MyDrive/physionet/HMC/hmc-sleep-staging/recordings/SN134.edf', '/content/drive/MyDrive/physionet/HMC/hmc-sleep-staging/recordings/SN141.edf', '/content/drive/MyDrive/physionet/HMC/hmc-sleep-staging/recordings/SN147.edf', '/content/drive/MyDrive/physionet/HMC/hmc-sleep-staging/recordings/SN153.edf']\n",
            "test_y=['/content/drive/MyDrive/physionet/HMC/hmc-sleep-staging/recordings/SN006_sleepscoring.edf', '/content/drive/MyDrive/physionet/HMC/hmc-sleep-staging/recordings/SN012_sleepscoring.edf', '/content/drive/MyDrive/physionet/HMC/hmc-sleep-staging/recordings/SN019_sleepscoring.edf', '/content/drive/MyDrive/physionet/HMC/hmc-sleep-staging/recordings/SN025_sleepscoring.edf', '/content/drive/MyDrive/physionet/HMC/hmc-sleep-staging/recordings/SN031_sleepscoring.edf', '/content/drive/MyDrive/physionet/HMC/hmc-sleep-staging/recordings/SN037_sleepscoring.edf', '/content/drive/MyDrive/physionet/HMC/hmc-sleep-staging/recordings/SN043_sleepscoring.edf', '/content/drive/MyDrive/physionet/HMC/hmc-sleep-staging/recordings/SN049_sleepscoring.edf', '/content/drive/MyDrive/physionet/HMC/hmc-sleep-staging/recordings/SN055_sleepscoring.edf', '/content/drive/MyDrive/physionet/HMC/hmc-sleep-staging/recordings/SN061_sleepscoring.edf', '/content/drive/MyDrive/physionet/HMC/hmc-sleep-staging/recordings/SN068_sleepscoring.edf', '/content/drive/MyDrive/physionet/HMC/hmc-sleep-staging/recordings/SN074_sleepscoring.edf', '/content/drive/MyDrive/physionet/HMC/hmc-sleep-staging/recordings/SN080_sleepscoring.edf', '/content/drive/MyDrive/physionet/HMC/hmc-sleep-staging/recordings/SN086_sleepscoring.edf', '/content/drive/MyDrive/physionet/HMC/hmc-sleep-staging/recordings/SN092_sleepscoring.edf', '/content/drive/MyDrive/physionet/HMC/hmc-sleep-staging/recordings/SN098_sleepscoring.edf', '/content/drive/MyDrive/physionet/HMC/hmc-sleep-staging/recordings/SN104_sleepscoring.edf', '/content/drive/MyDrive/physionet/HMC/hmc-sleep-staging/recordings/SN110_sleepscoring.edf', '/content/drive/MyDrive/physionet/HMC/hmc-sleep-staging/recordings/SN116_sleepscoring.edf', '/content/drive/MyDrive/physionet/HMC/hmc-sleep-staging/recordings/SN122_sleepscoring.edf', '/content/drive/MyDrive/physionet/HMC/hmc-sleep-staging/recordings/SN128_sleepscoring.edf', '/content/drive/MyDrive/physionet/HMC/hmc-sleep-staging/recordings/SN134_sleepscoring.edf', '/content/drive/MyDrive/physionet/HMC/hmc-sleep-staging/recordings/SN141_sleepscoring.edf', '/content/drive/MyDrive/physionet/HMC/hmc-sleep-staging/recordings/SN147_sleepscoring.edf', '/content/drive/MyDrive/physionet/HMC/hmc-sleep-staging/recordings/SN153_sleepscoring.edf']\n"
          ]
        }
      ]
    },
    {
      "cell_type": "code",
      "source": [
        "for i in test_x:\n",
        "  trains.remove(i)\n",
        "for i in test_y:\n",
        "  labels.remove(i)\n",
        "\n",
        "print(\"분리 후 test_set과 나머지 train_set의 수\\n\")\n",
        "print(\"test_set\")\n",
        "print(f'num_test_x={len(test_x)}')   \n",
        "print(f'num_test_y={len(test_y)}\\n')\n",
        "print(\"train_set\")\n",
        "print(f'num_trains={len(trains)}')   \n",
        "print(f'num_label={len(labels)}')  "
      ],
      "metadata": {
        "colab": {
          "base_uri": "https://localhost:8080/"
        },
        "id": "EZ1SSGRLG2d9",
        "outputId": "cc6b96a7-6d24-4cf7-de5c-2f750653ea7f"
      },
      "execution_count": 10,
      "outputs": [
        {
          "output_type": "stream",
          "name": "stdout",
          "text": [
            "분리 후 test_set과 나머지 train_set의 수\n",
            "\n",
            "test_set\n",
            "num_test_x=25\n",
            "num_test_y=25\n",
            "\n",
            "train_set\n",
            "num_trains=126\n",
            "num_label=126\n"
          ]
        }
      ]
    },
    {
      "cell_type": "code",
      "source": [
        "print(\"test_set 목록\")\n",
        "for i in test_x:\n",
        "  print(i)"
      ],
      "metadata": {
        "colab": {
          "base_uri": "https://localhost:8080/"
        },
        "outputId": "3a7445b5-6f1b-493b-d4a8-6970c4842738",
        "id": "7mx_D6YqJxU3"
      },
      "execution_count": 11,
      "outputs": [
        {
          "output_type": "stream",
          "name": "stdout",
          "text": [
            "test_set 목록\n",
            "/content/drive/MyDrive/physionet/HMC/hmc-sleep-staging/recordings/SN006.edf\n",
            "/content/drive/MyDrive/physionet/HMC/hmc-sleep-staging/recordings/SN012.edf\n",
            "/content/drive/MyDrive/physionet/HMC/hmc-sleep-staging/recordings/SN019.edf\n",
            "/content/drive/MyDrive/physionet/HMC/hmc-sleep-staging/recordings/SN025.edf\n",
            "/content/drive/MyDrive/physionet/HMC/hmc-sleep-staging/recordings/SN031.edf\n",
            "/content/drive/MyDrive/physionet/HMC/hmc-sleep-staging/recordings/SN037.edf\n",
            "/content/drive/MyDrive/physionet/HMC/hmc-sleep-staging/recordings/SN043.edf\n",
            "/content/drive/MyDrive/physionet/HMC/hmc-sleep-staging/recordings/SN049.edf\n",
            "/content/drive/MyDrive/physionet/HMC/hmc-sleep-staging/recordings/SN055.edf\n",
            "/content/drive/MyDrive/physionet/HMC/hmc-sleep-staging/recordings/SN061.edf\n",
            "/content/drive/MyDrive/physionet/HMC/hmc-sleep-staging/recordings/SN068.edf\n",
            "/content/drive/MyDrive/physionet/HMC/hmc-sleep-staging/recordings/SN074.edf\n",
            "/content/drive/MyDrive/physionet/HMC/hmc-sleep-staging/recordings/SN080.edf\n",
            "/content/drive/MyDrive/physionet/HMC/hmc-sleep-staging/recordings/SN086.edf\n",
            "/content/drive/MyDrive/physionet/HMC/hmc-sleep-staging/recordings/SN092.edf\n",
            "/content/drive/MyDrive/physionet/HMC/hmc-sleep-staging/recordings/SN098.edf\n",
            "/content/drive/MyDrive/physionet/HMC/hmc-sleep-staging/recordings/SN104.edf\n",
            "/content/drive/MyDrive/physionet/HMC/hmc-sleep-staging/recordings/SN110.edf\n",
            "/content/drive/MyDrive/physionet/HMC/hmc-sleep-staging/recordings/SN116.edf\n",
            "/content/drive/MyDrive/physionet/HMC/hmc-sleep-staging/recordings/SN122.edf\n",
            "/content/drive/MyDrive/physionet/HMC/hmc-sleep-staging/recordings/SN128.edf\n",
            "/content/drive/MyDrive/physionet/HMC/hmc-sleep-staging/recordings/SN134.edf\n",
            "/content/drive/MyDrive/physionet/HMC/hmc-sleep-staging/recordings/SN141.edf\n",
            "/content/drive/MyDrive/physionet/HMC/hmc-sleep-staging/recordings/SN147.edf\n",
            "/content/drive/MyDrive/physionet/HMC/hmc-sleep-staging/recordings/SN153.edf\n"
          ]
        }
      ]
    },
    {
      "cell_type": "code",
      "source": [
        "del data_list\n",
        "del trains\n",
        "del labels\n",
        "del test_index_list"
      ],
      "metadata": {
        "id": "nQlfjp78WFJA"
      },
      "execution_count": 14,
      "outputs": []
    },
    {
      "cell_type": "markdown",
      "source": [
        "전체 데이터 전처리(학습에 사용할 데이터셋)"
      ],
      "metadata": {
        "id": "62-uhO0o-1d-"
      }
    },
    {
      "cell_type": "code",
      "source": [
        "# 한 피험자의 기록데이터에서 annotation이 되어 있지 않은 30초 이내의 remainder 영역을\n",
        "# 제거하기 위한 함수\n",
        "# lst : 한 피험자의 모든 signal sample로 구성된 리스트\n",
        "# n : 샘플주파수 x 30초 (ex 256Hz -> n = 256 x 30)\n",
        "\n",
        "Signals = []\n",
        "Labels = []\n",
        "\n",
        "def remove_remains(lst, n):\n",
        "    removed = [lst[i:i+n] for i in range(0, len(lst), n)]\n",
        "    removed.pop()\n",
        "    return removed\n",
        "\n",
        "match = 0\n",
        "non_match = []\n",
        "length = []\n",
        "for i in range(len(trains)):\n",
        "  #print(f'trains[{i}] : {trains[i]}')\n",
        "  #print(f'trains[{i}] : {labels[i]}')\n",
        "\n",
        "  #label data 전처리 (Lights off, Lights on, duration 및 시간 정보 제거하여 수면staging 정보만 남김)\n",
        "  _, _, annotations_header = highlevel.read_edf(labels[i])\n",
        "  ann = annotations_header['annotations']\n",
        "  label = []\n",
        "  for j in range(len(ann)):\n",
        "    s = ann[j][2][0].upper()       #첫 번째 글자가 S인 것만 추출\n",
        "    if s == 'S':                   #Lights off & Lights on 제거\n",
        "      label.append(ann[j][2])\n",
        "  annotations_len = len(label)\n",
        "  \n",
        "  #signal data 전처리\n",
        "  num_sample = 256*30   #7680\n",
        "  signals, _, signals_header = highlevel.read_edf(trains[i],ch_names='ECG') #ECG신호만 추출\n",
        "  signal = remove_remains(signals[0], num_sample)\n",
        "  signals_len = len(signal)\n",
        "\n",
        "  #print(f'sinals_len : {signals_len}')\n",
        "  #print(f'annotations_len : {annotations_len}')\n",
        "  #print(\"\\n\")\n",
        "  \n",
        "  if signals_len == annotations_len:     # 30초 단위의 segment수와 label수가 일치해야만 Train data로 사용할 수 있도록\n",
        "    match += 1\n",
        "    \n",
        "    for sample in range(signals_len):\n",
        "      length.append(len(signal[sample]))\n",
        "      Signals.append(signal[sample])\n",
        "      Labels.append(label[sample])\n",
        "  else :\n",
        "    non_match.append((trains[i],labels[i])) \n",
        "\n",
        "# (초당 샘플수 (256HZ)) x 한 구간의 시간 = 256 * 30 = 7680\n",
        "# => 모든 데이터들이 256HZ로 샘플링 되어 있으니 한 구간에 샘플수는 7680이 되어야 하는데 7680이 아닌 것들이 나옴\n",
        "# => 해결해야될 것\n",
        "# => 데이터 담기 전에 모든 signal 데이터에 대해 30초 단위로 딱 끊기게 해야됨\n",
        "# => 레코딩 맨 마지막 부분에 경우 30초가 넘어 남는 부분들이 있는데 이부분 잘라내야됨\n",
        "# => 7680으로 나눠서 나머지 부분 다 잘라내야되는데 이부분 어떻게 할까? ecg_signal =[:7680*(전체 샘플수 // 30초)]\n",
        "print(f'num_matched : {match}')\n",
        "print(f'num_non_matched : {len(non_match)}')\n",
        "print(f'non_matched_list : {non_match}')\n",
        "print(f'max_length  : {max(length)}')\n",
        "print(f'min_length : {min(length)}')\n",
        "print(f'Signals of 151 subjects  : {Signals}')\n",
        "print(f'Labels of 151 subjects : {Labels}')\n",
        "\n",
        "del non_match\n",
        "del length\n",
        "del label\n",
        "\n",
        "# 5/18\n",
        "# data가 sequential한 data다.\n",
        "# 그렇다면 피험자 단위로 data를 구분해야 의미가 있을 것이다\n",
        "# -> 그렇다면 이작업은 어떻게 진행할 것이고\n",
        "# -> 모델에 입력은 어떻게 하여 학습시킬 것인가..\n",
        "# 256Hz sampling의 경우 -> 총 paramter의 개수 : 모델의 입력 숫자(7680) * 모델의 출력 숫자(5) : 38400개\n",
        "\n",
        "# loss fucntion 정의를 용이하게 하기위해 softmax\n",
        "# loss function 어떻게 정의할 건지가 제일 중요\n",
        "# cross Entropy Loss -> 대소관계가 없는 class를(ex 개,고양이 분류) 맞췄다 아니다를 판단할 때 굉장히 유용한 matric임\n",
        "# loss function은 parameter를 업데이트 하기에 더 유리한 방법\n",
        "# accuracy : \n",
        "# accuracy : Sigma(T)/(Sigma(T) + Sigma(F)) // T, F 모두 개수\n",
        "# 사람한테 정보를 주는 것은 accuracy가 좀 더 나음 (Test inference 단계)\n",
        "\n",
        "\n",
        "#testset -> meta정보가 없으니 특징에 대해 피험자는 random하게 분포?해있다고 가정하고 1~154(151명)에서 대략적으로 일정한 구간마다 하나씩 총 30개의 test data 뽑음 \n",
        "#LSTM\n",
        "\n",
        "#signal = [[SN001],[SN002],...,[SN151]]\n",
        "#[SN001] : [[30초 단위의 segment(7680개의 sample)],[30초 단위의 segment(7680개의 sample)],..,[30초 단위의 segment(7680개의 sample)]]\n",
        "\n",
        "#LSTM을 사용한다면 위와 같은 형태로 바꿔야 될 것 같은데\n",
        "# 현재는 signal : [[30초 단위의 segment(7680개의 sample)],[30초 단위의 segment(7680개의 sample)],..,[30초 단위의 segment(7680개의 sample)]]\n",
        "# 피험자 구분없이 한 리스트에 다 담았음\n",
        "#        label : [Sleep stage W, Sleep stage W, Sleep stage N1]\n",
        "\n"
      ],
      "metadata": {
        "colab": {
          "base_uri": "https://localhost:8080/"
        },
        "id": "Nvuz6EAqKlH5",
        "outputId": "a1fdd522-8c18-4f05-a89e-73c76b5d0c1c"
      },
      "execution_count": 12,
      "outputs": [
        {
          "output_type": "stream",
          "name": "stdout",
          "text": [
            "num_matched : 126\n",
            "num_non_matched : 0\n",
            "non_matched_list : []\n",
            "max_length  : 7680\n",
            "min_length : 7680\n"
          ]
        },
        {
          "output_type": "stream",
          "name": "stderr",
          "text": [
            "IOPub data rate exceeded.\n",
            "The notebook server will temporarily stop sending output\n",
            "to the client in order to avoid crashing it.\n",
            "To change this limit, set the config variable\n",
            "`--NotebookApp.iopub_data_rate_limit`.\n",
            "\n",
            "Current values:\n",
            "NotebookApp.iopub_data_rate_limit=1000000.0 (bytes/sec)\n",
            "NotebookApp.rate_limit_window=3.0 (secs)\n",
            "\n"
          ]
        }
      ]
    },
    {
      "cell_type": "markdown",
      "source": [
        "##keras 사용할 때 이 셀 부터 \"keras timeseries classification\"전까지의 셀 들은 실행시키지 말 것"
      ],
      "metadata": {
        "id": "sCrUYfCBJzhF"
      }
    },
    {
      "cell_type": "code",
      "source": [
        "# test data 부분 수정했음\n",
        "\n",
        "val_frac = 0.1 # 전체 데이터 중 valid data의 비율\n",
        "length = len(trains) # 전체 데이터의 수\n",
        "indices = np.arange(length) # ndarray를 생성 length=3으로 설정하면 -> array([0,1,2])가 리턴 됨\n",
        "np.random.shuffle(indices) #배열순서를 random하게 섞음 -> [SN045, SN075, SN112,...] 이런 식으로 섞이도록\n",
        "                            # 이부분 지워야되는지 , 학습시킬때마다 valid가 바뀌면 overfitting 됐는지 알 수 없으니까?\n",
        "\n",
        "#val_split = int(val_frac * length) + test_split #10%에 해당하는 데이터와 test data수를 합친 수를 저장  \n",
        "#val_indices = indices[test_split:val_split] #testsplite의 마지막 원소부터 val_split의수 만큼의 원소를 추출\n",
        "\n",
        "val_split = int(val_frac * length)\n",
        "val_indices = indices[:val_split]\n",
        "train_indices = indices[val_split:] # 나머지 인덱스에 해당하는 원소를 모두 train_indices로 저장\n",
        "\n",
        "train_x = [trains[i] for i in train_indices] # signal data들(trains리스트)로부터 인덱싱을 통해 train 데이터셋 추출\n",
        "train_y = [labels[i] for i in train_indices]      # label data들(labels리스트)로부터 train 데이터에 대한 레이블데이터 추출\n",
        "val_x = [trains[i] for i in val_indices]     # signal data들(trains리스트)로부터 인덱싱을 통해 valid 데이터셋 추출\n",
        "val_y = [labels[i] for i in val_indices]          # label data들(labels리스트)로부터 valid 데이터에 대한 레이블데이터 추출\n",
        "\n",
        "# train,valid,test 각 데이터의 수 출력\n",
        "print(\n",
        "    f\"Training count: {len(train_x)}, Validation count: \"\n",
        "    f\"{len(val_x)}\")"
      ],
      "metadata": {
        "colab": {
          "base_uri": "https://localhost:8080/"
        },
        "id": "wLo11hdGYuzR",
        "outputId": "4faf71bc-1111-420b-f9d7-3bd1693a2a4b"
      },
      "execution_count": null,
      "outputs": [
        {
          "output_type": "stream",
          "name": "stdout",
          "text": [
            "Training count: 114, Validation count: 12\n"
          ]
        }
      ]
    },
    {
      "cell_type": "code",
      "source": [
        "print(f'train_x : {train_x[3]}')\n",
        "print(f'train_y : {train_y[3]}')"
      ],
      "metadata": {
        "colab": {
          "base_uri": "https://localhost:8080/"
        },
        "id": "Tc2Qxv4eoXbx",
        "outputId": "5a7c0b94-f834-46cf-9f12-e9ec3a45d598"
      },
      "execution_count": null,
      "outputs": [
        {
          "output_type": "stream",
          "name": "stdout",
          "text": [
            "train_x : /content/drive/MyDrive/physionet/HMC/hmc-sleep-staging/recordings/SN026.edf\n",
            "train_y : /content/drive/MyDrive/physionet/HMC/hmc-sleep-staging/recordings/SN026_sleepscoring.edf\n"
          ]
        }
      ]
    },
    {
      "cell_type": "code",
      "source": [
        "#여기 수정 필요\n",
        "\n",
        "# Prepare training, validation data lists (min_length)\n",
        "# length : 한 구간(30초)에서의 sample(진폭)data의 수\n",
        "\n",
        "Train_x = []\n",
        "Train_y = []\n",
        "Val_x = []\n",
        "Val_y = []\n",
        "\n",
        "train_non_match = []\n",
        "train_match = 0\n",
        "val_non_match = []\n",
        "val_match = 0\n",
        "\n",
        "num_sample = 256*30 #7680\n",
        "\n",
        "def remove_remains(lst, n):\n",
        "    removed = [lst[i:i+n] for i in range(0, len(lst), n)]\n",
        "    removed.pop()\n",
        "    return removed\n",
        "\n",
        "#tain data 준비\n",
        "\n",
        "for i in range(len(train_x)):\n",
        "  print(f'train_x[{i}] : {train_x[i]}')\n",
        "  print(f'train_y[{i}] : {train_y[i]}')\n",
        "\n",
        "  #label data 전처리\n",
        "  _, _, annotations_header = highlevel.read_edf(train_y[i])\n",
        "  ann = annotations_header['annotations']\n",
        "  label = []\n",
        "  for j in range(len(ann)):\n",
        "    s = ann[j][2][0].upper()       #첫 번째 글자가 S인 것만 추출\n",
        "    if s == 'S':                   #Lights off & Lights on 제거\n",
        "      label.append(ann[j][2])\n",
        "  annotations_len = len(label)    \n",
        "\n",
        "  #signal data 전처리\n",
        "\n",
        "  signals, _, signals_header = highlevel.read_edf(train_x[i],ch_names='ECG')\n",
        "  signal = remove_remains(signals[0], num_sample)\n",
        "  signals_len = len(signal)\n",
        "  print(f'signals_len : {signals_len}')\n",
        "  print(f'annotations_len : {annotations_len}')\n",
        "  print(\"\\n\")\n",
        "  \n",
        "  if signals_len == annotations_len:     # 30초 단위의 signal sample수와 label 수가 일치해야만 Train data로 사용할 수 있도록\n",
        "    train_match += 1\n",
        "    \n",
        "    for sample in range(signals_len):\n",
        "      Train_x.append(signal[sample])\n",
        "      Train_y.append(label[sample])\n",
        "  else :\n",
        "    train_non_match.append((train_x[i],train_y[i])) \n",
        "\n",
        "print(f'num_train_matched : {train_match}')\n",
        "print(f'num_train_non_matched : {len(train_non_match)}')\n",
        "print(f'train_non_matched_list : {train_non_match}')\n",
        "\n",
        "\n",
        "#valid data 준비\n",
        "\n",
        "for i in range(len(val_x)):\n",
        "  print(f'val_x[{i}] : {val_x[i]}')\n",
        "  print(f'val_y[{i}] : {val_y[i]}')\n",
        "\n",
        "  #label data 전처리\n",
        "  _, _, annotations_header = highlevel.read_edf(val_y[i])\n",
        "  ann = annotations_header['annotations']\n",
        "  label = []\n",
        "  for j in range(len(ann)):\n",
        "    s = ann[j][2][0].upper()       #첫 번째 글자가 S인 것만 추출\n",
        "    if s == 'S':                   #Lights off & Lights on 제거\n",
        "      label.append(ann[j][2])\n",
        "  annotations_len = len(label)    \n",
        "\n",
        "  #signal data 전처리\n",
        "\n",
        "  signals, _, signals_header = highlevel.read_edf(val_x[i],ch_names='ECG')\n",
        "  signal = remove_remains(signals[0], num_sample)\n",
        "  signals_len = len(signal)\n",
        "  print(f'signals_len : {signals_len}')\n",
        "  print(f'annotations_len : {annotations_len}')\n",
        "  print(\"\\n\")\n",
        "  \n",
        "  if signals_len == annotations_len:     # 30초 단위의 signal sample수와 label 수가 일치해야만 Train data로 사용할 수 있도록\n",
        "    val_match += 1\n",
        "    \n",
        "    for sample in range(signals_len):\n",
        "      Val_x.append(signal[sample])\n",
        "      Val_y.append(label[sample])\n",
        "  else :\n",
        "    val_non_match.append((val_x[i],val_y[i])) \n",
        "\n",
        "\n",
        "print(f'num_val_matched : {val_match}')\n",
        "print(f'num_val_non_matched : {len(val_non_match)}')\n",
        "print(f'val_non_matched_list : {val_non_match}')"
      ],
      "metadata": {
        "colab": {
          "base_uri": "https://localhost:8080/"
        },
        "id": "kfvsXwcFcj6b",
        "outputId": "6cc1265d-9bc4-4553-8916-1904aa517dcf"
      },
      "execution_count": null,
      "outputs": [
        {
          "output_type": "stream",
          "name": "stdout",
          "text": [
            "train_x[0] : /content/drive/MyDrive/physionet/HMC/hmc-sleep-staging/recordings/SN005.edf\n",
            "train_y[0] : /content/drive/MyDrive/physionet/HMC/hmc-sleep-staging/recordings/SN005_sleepscoring.edf\n",
            "signals_len : 959\n",
            "annotations_len : 959\n",
            "\n",
            "\n",
            "train_x[1] : /content/drive/MyDrive/physionet/HMC/hmc-sleep-staging/recordings/SN046.edf\n",
            "train_y[1] : /content/drive/MyDrive/physionet/HMC/hmc-sleep-staging/recordings/SN046_sleepscoring.edf\n",
            "signals_len : 711\n",
            "annotations_len : 711\n",
            "\n",
            "\n",
            "train_x[2] : /content/drive/MyDrive/physionet/HMC/hmc-sleep-staging/recordings/SN082.edf\n",
            "train_y[2] : /content/drive/MyDrive/physionet/HMC/hmc-sleep-staging/recordings/SN082_sleepscoring.edf\n",
            "signals_len : 745\n",
            "annotations_len : 745\n",
            "\n",
            "\n",
            "train_x[3] : /content/drive/MyDrive/physionet/HMC/hmc-sleep-staging/recordings/SN026.edf\n",
            "train_y[3] : /content/drive/MyDrive/physionet/HMC/hmc-sleep-staging/recordings/SN026_sleepscoring.edf\n",
            "signals_len : 883\n",
            "annotations_len : 883\n",
            "\n",
            "\n",
            "train_x[4] : /content/drive/MyDrive/physionet/HMC/hmc-sleep-staging/recordings/SN130.edf\n",
            "train_y[4] : /content/drive/MyDrive/physionet/HMC/hmc-sleep-staging/recordings/SN130_sleepscoring.edf\n",
            "signals_len : 514\n",
            "annotations_len : 514\n",
            "\n",
            "\n",
            "train_x[5] : /content/drive/MyDrive/physionet/HMC/hmc-sleep-staging/recordings/SN121.edf\n",
            "train_y[5] : /content/drive/MyDrive/physionet/HMC/hmc-sleep-staging/recordings/SN121_sleepscoring.edf\n",
            "signals_len : 1083\n",
            "annotations_len : 1083\n",
            "\n",
            "\n",
            "train_x[6] : /content/drive/MyDrive/physionet/HMC/hmc-sleep-staging/recordings/SN007.edf\n",
            "train_y[6] : /content/drive/MyDrive/physionet/HMC/hmc-sleep-staging/recordings/SN007_sleepscoring.edf\n",
            "signals_len : 1034\n",
            "annotations_len : 1034\n",
            "\n",
            "\n",
            "train_x[7] : /content/drive/MyDrive/physionet/HMC/hmc-sleep-staging/recordings/SN093.edf\n",
            "train_y[7] : /content/drive/MyDrive/physionet/HMC/hmc-sleep-staging/recordings/SN093_sleepscoring.edf\n",
            "signals_len : 778\n",
            "annotations_len : 778\n",
            "\n",
            "\n",
            "train_x[8] : /content/drive/MyDrive/physionet/HMC/hmc-sleep-staging/recordings/SN062.edf\n",
            "train_y[8] : /content/drive/MyDrive/physionet/HMC/hmc-sleep-staging/recordings/SN062_sleepscoring.edf\n",
            "signals_len : 470\n",
            "annotations_len : 470\n",
            "\n",
            "\n",
            "train_x[9] : /content/drive/MyDrive/physionet/HMC/hmc-sleep-staging/recordings/SN078.edf\n",
            "train_y[9] : /content/drive/MyDrive/physionet/HMC/hmc-sleep-staging/recordings/SN078_sleepscoring.edf\n",
            "signals_len : 874\n",
            "annotations_len : 874\n",
            "\n",
            "\n",
            "train_x[10] : /content/drive/MyDrive/physionet/HMC/hmc-sleep-staging/recordings/SN063.edf\n",
            "train_y[10] : /content/drive/MyDrive/physionet/HMC/hmc-sleep-staging/recordings/SN063_sleepscoring.edf\n",
            "signals_len : 1240\n",
            "annotations_len : 1240\n",
            "\n",
            "\n",
            "train_x[11] : /content/drive/MyDrive/physionet/HMC/hmc-sleep-staging/recordings/SN024.edf\n",
            "train_y[11] : /content/drive/MyDrive/physionet/HMC/hmc-sleep-staging/recordings/SN024_sleepscoring.edf\n",
            "signals_len : 857\n",
            "annotations_len : 857\n",
            "\n",
            "\n",
            "train_x[12] : /content/drive/MyDrive/physionet/HMC/hmc-sleep-staging/recordings/SN106.edf\n",
            "train_y[12] : /content/drive/MyDrive/physionet/HMC/hmc-sleep-staging/recordings/SN106_sleepscoring.edf\n",
            "signals_len : 675\n",
            "annotations_len : 675\n",
            "\n",
            "\n",
            "train_x[13] : /content/drive/MyDrive/physionet/HMC/hmc-sleep-staging/recordings/SN047.edf\n",
            "train_y[13] : /content/drive/MyDrive/physionet/HMC/hmc-sleep-staging/recordings/SN047_sleepscoring.edf\n",
            "signals_len : 884\n",
            "annotations_len : 884\n",
            "\n",
            "\n",
            "train_x[14] : /content/drive/MyDrive/physionet/HMC/hmc-sleep-staging/recordings/SN027.edf\n",
            "train_y[14] : /content/drive/MyDrive/physionet/HMC/hmc-sleep-staging/recordings/SN027_sleepscoring.edf\n",
            "signals_len : 872\n",
            "annotations_len : 872\n",
            "\n",
            "\n",
            "train_x[15] : /content/drive/MyDrive/physionet/HMC/hmc-sleep-staging/recordings/SN054.edf\n",
            "train_y[15] : /content/drive/MyDrive/physionet/HMC/hmc-sleep-staging/recordings/SN054_sleepscoring.edf\n",
            "signals_len : 498\n",
            "annotations_len : 498\n",
            "\n",
            "\n",
            "train_x[16] : /content/drive/MyDrive/physionet/HMC/hmc-sleep-staging/recordings/SN096.edf\n",
            "train_y[16] : /content/drive/MyDrive/physionet/HMC/hmc-sleep-staging/recordings/SN096_sleepscoring.edf\n",
            "signals_len : 716\n",
            "annotations_len : 716\n",
            "\n",
            "\n",
            "train_x[17] : /content/drive/MyDrive/physionet/HMC/hmc-sleep-staging/recordings/SN118.edf\n",
            "train_y[17] : /content/drive/MyDrive/physionet/HMC/hmc-sleep-staging/recordings/SN118_sleepscoring.edf\n",
            "signals_len : 996\n",
            "annotations_len : 996\n",
            "\n",
            "\n",
            "train_x[18] : /content/drive/MyDrive/physionet/HMC/hmc-sleep-staging/recordings/SN038.edf\n",
            "train_y[18] : /content/drive/MyDrive/physionet/HMC/hmc-sleep-staging/recordings/SN038_sleepscoring.edf\n",
            "signals_len : 927\n",
            "annotations_len : 927\n",
            "\n",
            "\n",
            "train_x[19] : /content/drive/MyDrive/physionet/HMC/hmc-sleep-staging/recordings/SN045.edf\n",
            "train_y[19] : /content/drive/MyDrive/physionet/HMC/hmc-sleep-staging/recordings/SN045_sleepscoring.edf\n",
            "signals_len : 715\n",
            "annotations_len : 715\n",
            "\n",
            "\n",
            "train_x[20] : /content/drive/MyDrive/physionet/HMC/hmc-sleep-staging/recordings/SN083.edf\n",
            "train_y[20] : /content/drive/MyDrive/physionet/HMC/hmc-sleep-staging/recordings/SN083_sleepscoring.edf\n",
            "signals_len : 1087\n",
            "annotations_len : 1087\n",
            "\n",
            "\n",
            "train_x[21] : /content/drive/MyDrive/physionet/HMC/hmc-sleep-staging/recordings/SN018.edf\n",
            "train_y[21] : /content/drive/MyDrive/physionet/HMC/hmc-sleep-staging/recordings/SN018_sleepscoring.edf\n",
            "signals_len : 862\n",
            "annotations_len : 862\n",
            "\n",
            "\n",
            "train_x[22] : /content/drive/MyDrive/physionet/HMC/hmc-sleep-staging/recordings/SN067.edf\n",
            "train_y[22] : /content/drive/MyDrive/physionet/HMC/hmc-sleep-staging/recordings/SN067_sleepscoring.edf\n",
            "signals_len : 966\n",
            "annotations_len : 966\n",
            "\n",
            "\n",
            "train_x[23] : /content/drive/MyDrive/physionet/HMC/hmc-sleep-staging/recordings/SN042.edf\n",
            "train_y[23] : /content/drive/MyDrive/physionet/HMC/hmc-sleep-staging/recordings/SN042_sleepscoring.edf\n",
            "signals_len : 1150\n",
            "annotations_len : 1150\n",
            "\n",
            "\n",
            "train_x[24] : /content/drive/MyDrive/physionet/HMC/hmc-sleep-staging/recordings/SN081.edf\n",
            "train_y[24] : /content/drive/MyDrive/physionet/HMC/hmc-sleep-staging/recordings/SN081_sleepscoring.edf\n",
            "signals_len : 1148\n",
            "annotations_len : 1148\n",
            "\n",
            "\n",
            "train_x[25] : /content/drive/MyDrive/physionet/HMC/hmc-sleep-staging/recordings/SN072.edf\n",
            "train_y[25] : /content/drive/MyDrive/physionet/HMC/hmc-sleep-staging/recordings/SN072_sleepscoring.edf\n",
            "signals_len : 1058\n",
            "annotations_len : 1058\n",
            "\n",
            "\n",
            "train_x[26] : /content/drive/MyDrive/physionet/HMC/hmc-sleep-staging/recordings/SN050.edf\n",
            "train_y[26] : /content/drive/MyDrive/physionet/HMC/hmc-sleep-staging/recordings/SN050_sleepscoring.edf\n",
            "signals_len : 932\n",
            "annotations_len : 932\n",
            "\n",
            "\n",
            "train_x[27] : /content/drive/MyDrive/physionet/HMC/hmc-sleep-staging/recordings/SN131.edf\n",
            "train_y[27] : /content/drive/MyDrive/physionet/HMC/hmc-sleep-staging/recordings/SN131_sleepscoring.edf\n",
            "signals_len : 961\n",
            "annotations_len : 961\n",
            "\n",
            "\n",
            "train_x[28] : /content/drive/MyDrive/physionet/HMC/hmc-sleep-staging/recordings/SN030.edf\n",
            "train_y[28] : /content/drive/MyDrive/physionet/HMC/hmc-sleep-staging/recordings/SN030_sleepscoring.edf\n",
            "signals_len : 1056\n",
            "annotations_len : 1056\n",
            "\n",
            "\n",
            "train_x[29] : /content/drive/MyDrive/physionet/HMC/hmc-sleep-staging/recordings/SN124.edf\n",
            "train_y[29] : /content/drive/MyDrive/physionet/HMC/hmc-sleep-staging/recordings/SN124_sleepscoring.edf\n",
            "signals_len : 1036\n",
            "annotations_len : 1036\n",
            "\n",
            "\n",
            "train_x[30] : /content/drive/MyDrive/physionet/HMC/hmc-sleep-staging/recordings/SN107.edf\n",
            "train_y[30] : /content/drive/MyDrive/physionet/HMC/hmc-sleep-staging/recordings/SN107_sleepscoring.edf\n",
            "signals_len : 753\n",
            "annotations_len : 753\n",
            "\n",
            "\n",
            "train_x[31] : /content/drive/MyDrive/physionet/HMC/hmc-sleep-staging/recordings/SN029.edf\n",
            "train_y[31] : /content/drive/MyDrive/physionet/HMC/hmc-sleep-staging/recordings/SN029_sleepscoring.edf\n",
            "signals_len : 951\n",
            "annotations_len : 951\n",
            "\n",
            "\n",
            "train_x[32] : /content/drive/MyDrive/physionet/HMC/hmc-sleep-staging/recordings/SN034.edf\n",
            "train_y[32] : /content/drive/MyDrive/physionet/HMC/hmc-sleep-staging/recordings/SN034_sleepscoring.edf\n",
            "signals_len : 887\n",
            "annotations_len : 887\n",
            "\n",
            "\n",
            "train_x[33] : /content/drive/MyDrive/physionet/HMC/hmc-sleep-staging/recordings/SN016.edf\n",
            "train_y[33] : /content/drive/MyDrive/physionet/HMC/hmc-sleep-staging/recordings/SN016_sleepscoring.edf\n",
            "signals_len : 1088\n",
            "annotations_len : 1088\n",
            "\n",
            "\n",
            "train_x[34] : /content/drive/MyDrive/physionet/HMC/hmc-sleep-staging/recordings/SN099.edf\n",
            "train_y[34] : /content/drive/MyDrive/physionet/HMC/hmc-sleep-staging/recordings/SN099_sleepscoring.edf\n",
            "signals_len : 847\n",
            "annotations_len : 847\n",
            "\n",
            "\n",
            "train_x[35] : /content/drive/MyDrive/physionet/HMC/hmc-sleep-staging/recordings/SN111.edf\n",
            "train_y[35] : /content/drive/MyDrive/physionet/HMC/hmc-sleep-staging/recordings/SN111_sleepscoring.edf\n",
            "signals_len : 1077\n",
            "annotations_len : 1077\n",
            "\n",
            "\n",
            "train_x[36] : /content/drive/MyDrive/physionet/HMC/hmc-sleep-staging/recordings/SN088.edf\n",
            "train_y[36] : /content/drive/MyDrive/physionet/HMC/hmc-sleep-staging/recordings/SN088_sleepscoring.edf\n",
            "signals_len : 1006\n",
            "annotations_len : 1006\n",
            "\n",
            "\n",
            "train_x[37] : /content/drive/MyDrive/physionet/HMC/hmc-sleep-staging/recordings/SN097.edf\n",
            "train_y[37] : /content/drive/MyDrive/physionet/HMC/hmc-sleep-staging/recordings/SN097_sleepscoring.edf\n",
            "signals_len : 1050\n",
            "annotations_len : 1050\n",
            "\n",
            "\n",
            "train_x[38] : /content/drive/MyDrive/physionet/HMC/hmc-sleep-staging/recordings/SN010.edf\n",
            "train_y[38] : /content/drive/MyDrive/physionet/HMC/hmc-sleep-staging/recordings/SN010_sleepscoring.edf\n",
            "signals_len : 924\n",
            "annotations_len : 924\n",
            "\n",
            "\n",
            "train_x[39] : /content/drive/MyDrive/physionet/HMC/hmc-sleep-staging/recordings/SN101.edf\n",
            "train_y[39] : /content/drive/MyDrive/physionet/HMC/hmc-sleep-staging/recordings/SN101_sleepscoring.edf\n",
            "signals_len : 919\n",
            "annotations_len : 919\n",
            "\n",
            "\n",
            "train_x[40] : /content/drive/MyDrive/physionet/HMC/hmc-sleep-staging/recordings/SN129.edf\n",
            "train_y[40] : /content/drive/MyDrive/physionet/HMC/hmc-sleep-staging/recordings/SN129_sleepscoring.edf\n",
            "signals_len : 864\n",
            "annotations_len : 864\n",
            "\n",
            "\n",
            "train_x[41] : /content/drive/MyDrive/physionet/HMC/hmc-sleep-staging/recordings/SN079.edf\n",
            "train_y[41] : /content/drive/MyDrive/physionet/HMC/hmc-sleep-staging/recordings/SN079_sleepscoring.edf\n",
            "signals_len : 1117\n",
            "annotations_len : 1117\n",
            "\n",
            "\n",
            "train_x[42] : /content/drive/MyDrive/physionet/HMC/hmc-sleep-staging/recordings/SN003.edf\n",
            "train_y[42] : /content/drive/MyDrive/physionet/HMC/hmc-sleep-staging/recordings/SN003_sleepscoring.edf\n",
            "signals_len : 954\n",
            "annotations_len : 954\n",
            "\n",
            "\n",
            "train_x[43] : /content/drive/MyDrive/physionet/HMC/hmc-sleep-staging/recordings/SN137.edf\n",
            "train_y[43] : /content/drive/MyDrive/physionet/HMC/hmc-sleep-staging/recordings/SN137_sleepscoring.edf\n",
            "signals_len : 1069\n",
            "annotations_len : 1069\n",
            "\n",
            "\n",
            "train_x[44] : /content/drive/MyDrive/physionet/HMC/hmc-sleep-staging/recordings/SN077.edf\n",
            "train_y[44] : /content/drive/MyDrive/physionet/HMC/hmc-sleep-staging/recordings/SN077_sleepscoring.edf\n",
            "signals_len : 854\n",
            "annotations_len : 854\n",
            "\n",
            "\n",
            "train_x[45] : /content/drive/MyDrive/physionet/HMC/hmc-sleep-staging/recordings/SN120.edf\n",
            "train_y[45] : /content/drive/MyDrive/physionet/HMC/hmc-sleep-staging/recordings/SN120_sleepscoring.edf\n",
            "signals_len : 813\n",
            "annotations_len : 813\n",
            "\n",
            "\n",
            "train_x[46] : /content/drive/MyDrive/physionet/HMC/hmc-sleep-staging/recordings/SN058.edf\n",
            "train_y[46] : /content/drive/MyDrive/physionet/HMC/hmc-sleep-staging/recordings/SN058_sleepscoring.edf\n",
            "signals_len : 1049\n",
            "annotations_len : 1049\n",
            "\n",
            "\n",
            "train_x[47] : /content/drive/MyDrive/physionet/HMC/hmc-sleep-staging/recordings/SN044.edf\n",
            "train_y[47] : /content/drive/MyDrive/physionet/HMC/hmc-sleep-staging/recordings/SN044_sleepscoring.edf\n",
            "signals_len : 971\n",
            "annotations_len : 971\n",
            "\n",
            "\n",
            "train_x[48] : /content/drive/MyDrive/physionet/HMC/hmc-sleep-staging/recordings/SN150.edf\n",
            "train_y[48] : /content/drive/MyDrive/physionet/HMC/hmc-sleep-staging/recordings/SN150_sleepscoring.edf\n",
            "signals_len : 589\n",
            "annotations_len : 589\n",
            "\n",
            "\n",
            "train_x[49] : /content/drive/MyDrive/physionet/HMC/hmc-sleep-staging/recordings/SN073.edf\n",
            "train_y[49] : /content/drive/MyDrive/physionet/HMC/hmc-sleep-staging/recordings/SN073_sleepscoring.edf\n",
            "signals_len : 891\n",
            "annotations_len : 891\n",
            "\n",
            "\n",
            "train_x[50] : /content/drive/MyDrive/physionet/HMC/hmc-sleep-staging/recordings/SN125.edf\n",
            "train_y[50] : /content/drive/MyDrive/physionet/HMC/hmc-sleep-staging/recordings/SN125_sleepscoring.edf\n",
            "signals_len : 1202\n",
            "annotations_len : 1202\n",
            "\n",
            "\n",
            "train_x[51] : /content/drive/MyDrive/physionet/HMC/hmc-sleep-staging/recordings/SN051.edf\n",
            "train_y[51] : /content/drive/MyDrive/physionet/HMC/hmc-sleep-staging/recordings/SN051_sleepscoring.edf\n",
            "signals_len : 929\n",
            "annotations_len : 929\n",
            "\n",
            "\n",
            "train_x[52] : /content/drive/MyDrive/physionet/HMC/hmc-sleep-staging/recordings/SN060.edf\n",
            "train_y[52] : /content/drive/MyDrive/physionet/HMC/hmc-sleep-staging/recordings/SN060_sleepscoring.edf\n",
            "signals_len : 942\n",
            "annotations_len : 942\n",
            "\n",
            "\n",
            "train_x[53] : /content/drive/MyDrive/physionet/HMC/hmc-sleep-staging/recordings/SN133.edf\n",
            "train_y[53] : /content/drive/MyDrive/physionet/HMC/hmc-sleep-staging/recordings/SN133_sleepscoring.edf\n",
            "signals_len : 995\n",
            "annotations_len : 995\n",
            "\n",
            "\n",
            "train_x[54] : /content/drive/MyDrive/physionet/HMC/hmc-sleep-staging/recordings/SN035.edf\n",
            "train_y[54] : /content/drive/MyDrive/physionet/HMC/hmc-sleep-staging/recordings/SN035_sleepscoring.edf\n",
            "signals_len : 996\n",
            "annotations_len : 996\n",
            "\n",
            "\n",
            "train_x[55] : /content/drive/MyDrive/physionet/HMC/hmc-sleep-staging/recordings/SN139.edf\n",
            "train_y[55] : /content/drive/MyDrive/physionet/HMC/hmc-sleep-staging/recordings/SN139_sleepscoring.edf\n",
            "signals_len : 732\n",
            "annotations_len : 732\n",
            "\n",
            "\n",
            "train_x[56] : /content/drive/MyDrive/physionet/HMC/hmc-sleep-staging/recordings/SN039.edf\n",
            "train_y[56] : /content/drive/MyDrive/physionet/HMC/hmc-sleep-staging/recordings/SN039_sleepscoring.edf\n",
            "signals_len : 887\n",
            "annotations_len : 887\n",
            "\n",
            "\n",
            "train_x[57] : /content/drive/MyDrive/physionet/HMC/hmc-sleep-staging/recordings/SN021.edf\n",
            "train_y[57] : /content/drive/MyDrive/physionet/HMC/hmc-sleep-staging/recordings/SN021_sleepscoring.edf\n",
            "signals_len : 956\n",
            "annotations_len : 956\n",
            "\n",
            "\n",
            "train_x[58] : /content/drive/MyDrive/physionet/HMC/hmc-sleep-staging/recordings/SN069.edf\n",
            "train_y[58] : /content/drive/MyDrive/physionet/HMC/hmc-sleep-staging/recordings/SN069_sleepscoring.edf\n",
            "signals_len : 737\n",
            "annotations_len : 737\n",
            "\n",
            "\n",
            "train_x[59] : /content/drive/MyDrive/physionet/HMC/hmc-sleep-staging/recordings/SN017.edf\n",
            "train_y[59] : /content/drive/MyDrive/physionet/HMC/hmc-sleep-staging/recordings/SN017_sleepscoring.edf\n",
            "signals_len : 1114\n",
            "annotations_len : 1114\n",
            "\n",
            "\n",
            "train_x[60] : /content/drive/MyDrive/physionet/HMC/hmc-sleep-staging/recordings/SN115.edf\n",
            "train_y[60] : /content/drive/MyDrive/physionet/HMC/hmc-sleep-staging/recordings/SN115_sleepscoring.edf\n",
            "signals_len : 857\n",
            "annotations_len : 857\n",
            "\n",
            "\n",
            "train_x[61] : /content/drive/MyDrive/physionet/HMC/hmc-sleep-staging/recordings/SN056.edf\n",
            "train_y[61] : /content/drive/MyDrive/physionet/HMC/hmc-sleep-staging/recordings/SN056_sleepscoring.edf\n",
            "signals_len : 1153\n",
            "annotations_len : 1153\n",
            "\n",
            "\n",
            "train_x[62] : /content/drive/MyDrive/physionet/HMC/hmc-sleep-staging/recordings/SN036.edf\n",
            "train_y[62] : /content/drive/MyDrive/physionet/HMC/hmc-sleep-staging/recordings/SN036_sleepscoring.edf\n",
            "signals_len : 808\n",
            "annotations_len : 808\n",
            "\n",
            "\n",
            "train_x[63] : /content/drive/MyDrive/physionet/HMC/hmc-sleep-staging/recordings/SN002.edf\n",
            "train_y[63] : /content/drive/MyDrive/physionet/HMC/hmc-sleep-staging/recordings/SN002_sleepscoring.edf\n",
            "signals_len : 856\n",
            "annotations_len : 856\n",
            "\n",
            "\n",
            "train_x[64] : /content/drive/MyDrive/physionet/HMC/hmc-sleep-staging/recordings/SN041.edf\n",
            "train_y[64] : /content/drive/MyDrive/physionet/HMC/hmc-sleep-staging/recordings/SN041_sleepscoring.edf\n",
            "signals_len : 837\n",
            "annotations_len : 837\n",
            "\n",
            "\n",
            "train_x[65] : /content/drive/MyDrive/physionet/HMC/hmc-sleep-staging/recordings/SN152.edf\n",
            "train_y[65] : /content/drive/MyDrive/physionet/HMC/hmc-sleep-staging/recordings/SN152_sleepscoring.edf\n",
            "signals_len : 999\n",
            "annotations_len : 999\n",
            "\n",
            "\n",
            "train_x[66] : /content/drive/MyDrive/physionet/HMC/hmc-sleep-staging/recordings/SN022.edf\n",
            "train_y[66] : /content/drive/MyDrive/physionet/HMC/hmc-sleep-staging/recordings/SN022_sleepscoring.edf\n",
            "signals_len : 1002\n",
            "annotations_len : 1002\n",
            "\n",
            "\n",
            "train_x[67] : /content/drive/MyDrive/physionet/HMC/hmc-sleep-staging/recordings/SN154.edf\n",
            "train_y[67] : /content/drive/MyDrive/physionet/HMC/hmc-sleep-staging/recordings/SN154_sleepscoring.edf\n",
            "signals_len : 1003\n",
            "annotations_len : 1003\n",
            "\n",
            "\n",
            "train_x[68] : /content/drive/MyDrive/physionet/HMC/hmc-sleep-staging/recordings/SN087.edf\n",
            "train_y[68] : /content/drive/MyDrive/physionet/HMC/hmc-sleep-staging/recordings/SN087_sleepscoring.edf\n",
            "signals_len : 835\n",
            "annotations_len : 835\n",
            "\n",
            "\n",
            "train_x[69] : /content/drive/MyDrive/physionet/HMC/hmc-sleep-staging/recordings/SN113.edf\n",
            "train_y[69] : /content/drive/MyDrive/physionet/HMC/hmc-sleep-staging/recordings/SN113_sleepscoring.edf\n",
            "signals_len : 892\n",
            "annotations_len : 892\n",
            "\n",
            "\n",
            "train_x[70] : /content/drive/MyDrive/physionet/HMC/hmc-sleep-staging/recordings/SN011.edf\n",
            "train_y[70] : /content/drive/MyDrive/physionet/HMC/hmc-sleep-staging/recordings/SN011_sleepscoring.edf\n",
            "signals_len : 1141\n",
            "annotations_len : 1141\n",
            "\n",
            "\n",
            "train_x[71] : /content/drive/MyDrive/physionet/HMC/hmc-sleep-staging/recordings/SN065.edf\n",
            "train_y[71] : /content/drive/MyDrive/physionet/HMC/hmc-sleep-staging/recordings/SN065_sleepscoring.edf\n",
            "signals_len : 1039\n",
            "annotations_len : 1039\n",
            "\n",
            "\n",
            "train_x[72] : /content/drive/MyDrive/physionet/HMC/hmc-sleep-staging/recordings/SN009.edf\n",
            "train_y[72] : /content/drive/MyDrive/physionet/HMC/hmc-sleep-staging/recordings/SN009_sleepscoring.edf\n",
            "signals_len : 901\n",
            "annotations_len : 901\n",
            "\n",
            "\n",
            "train_x[73] : /content/drive/MyDrive/physionet/HMC/hmc-sleep-staging/recordings/SN126.edf\n",
            "train_y[73] : /content/drive/MyDrive/physionet/HMC/hmc-sleep-staging/recordings/SN126_sleepscoring.edf\n",
            "signals_len : 799\n",
            "annotations_len : 799\n",
            "\n",
            "\n",
            "train_x[74] : /content/drive/MyDrive/physionet/HMC/hmc-sleep-staging/recordings/SN112.edf\n",
            "train_y[74] : /content/drive/MyDrive/physionet/HMC/hmc-sleep-staging/recordings/SN112_sleepscoring.edf\n",
            "signals_len : 848\n",
            "annotations_len : 848\n",
            "\n",
            "\n",
            "train_x[75] : /content/drive/MyDrive/physionet/HMC/hmc-sleep-staging/recordings/SN105.edf\n",
            "train_y[75] : /content/drive/MyDrive/physionet/HMC/hmc-sleep-staging/recordings/SN105_sleepscoring.edf\n",
            "signals_len : 838\n",
            "annotations_len : 838\n",
            "\n",
            "\n",
            "train_x[76] : /content/drive/MyDrive/physionet/HMC/hmc-sleep-staging/recordings/SN052.edf\n",
            "train_y[76] : /content/drive/MyDrive/physionet/HMC/hmc-sleep-staging/recordings/SN052_sleepscoring.edf\n",
            "signals_len : 1011\n",
            "annotations_len : 1011\n",
            "\n",
            "\n",
            "train_x[77] : /content/drive/MyDrive/physionet/HMC/hmc-sleep-staging/recordings/SN091.edf\n",
            "train_y[77] : /content/drive/MyDrive/physionet/HMC/hmc-sleep-staging/recordings/SN091_sleepscoring.edf\n",
            "signals_len : 752\n",
            "annotations_len : 752\n",
            "\n",
            "\n",
            "train_x[78] : /content/drive/MyDrive/physionet/HMC/hmc-sleep-staging/recordings/SN004.edf\n",
            "train_y[78] : /content/drive/MyDrive/physionet/HMC/hmc-sleep-staging/recordings/SN004_sleepscoring.edf\n",
            "signals_len : 1016\n",
            "annotations_len : 1016\n",
            "\n",
            "\n",
            "train_x[79] : /content/drive/MyDrive/physionet/HMC/hmc-sleep-staging/recordings/SN138.edf\n",
            "train_y[79] : /content/drive/MyDrive/physionet/HMC/hmc-sleep-staging/recordings/SN138_sleepscoring.edf\n",
            "signals_len : 1120\n",
            "annotations_len : 1120\n",
            "\n",
            "\n",
            "train_x[80] : /content/drive/MyDrive/physionet/HMC/hmc-sleep-staging/recordings/SN033.edf\n",
            "train_y[80] : /content/drive/MyDrive/physionet/HMC/hmc-sleep-staging/recordings/SN033_sleepscoring.edf\n",
            "signals_len : 522\n",
            "annotations_len : 522\n",
            "\n",
            "\n",
            "train_x[81] : /content/drive/MyDrive/physionet/HMC/hmc-sleep-staging/recordings/SN103.edf\n",
            "train_y[81] : /content/drive/MyDrive/physionet/HMC/hmc-sleep-staging/recordings/SN103_sleepscoring.edf\n",
            "signals_len : 984\n",
            "annotations_len : 984\n",
            "\n",
            "\n",
            "train_x[82] : /content/drive/MyDrive/physionet/HMC/hmc-sleep-staging/recordings/SN149.edf\n",
            "train_y[82] : /content/drive/MyDrive/physionet/HMC/hmc-sleep-staging/recordings/SN149_sleepscoring.edf\n",
            "signals_len : 863\n",
            "annotations_len : 863\n",
            "\n",
            "\n",
            "train_x[83] : /content/drive/MyDrive/physionet/HMC/hmc-sleep-staging/recordings/SN071.edf\n",
            "train_y[83] : /content/drive/MyDrive/physionet/HMC/hmc-sleep-staging/recordings/SN071_sleepscoring.edf\n",
            "signals_len : 1090\n",
            "annotations_len : 1090\n",
            "\n",
            "\n",
            "train_x[84] : /content/drive/MyDrive/physionet/HMC/hmc-sleep-staging/recordings/SN127.edf\n",
            "train_y[84] : /content/drive/MyDrive/physionet/HMC/hmc-sleep-staging/recordings/SN127_sleepscoring.edf\n",
            "signals_len : 961\n",
            "annotations_len : 961\n",
            "\n",
            "\n",
            "train_x[85] : /content/drive/MyDrive/physionet/HMC/hmc-sleep-staging/recordings/SN048.edf\n",
            "train_y[85] : /content/drive/MyDrive/physionet/HMC/hmc-sleep-staging/recordings/SN048_sleepscoring.edf\n",
            "signals_len : 1256\n",
            "annotations_len : 1256\n",
            "\n",
            "\n",
            "train_x[86] : /content/drive/MyDrive/physionet/HMC/hmc-sleep-staging/recordings/SN117.edf\n",
            "train_y[86] : /content/drive/MyDrive/physionet/HMC/hmc-sleep-staging/recordings/SN117_sleepscoring.edf\n",
            "signals_len : 761\n",
            "annotations_len : 761\n",
            "\n",
            "\n",
            "train_x[87] : /content/drive/MyDrive/physionet/HMC/hmc-sleep-staging/recordings/SN114.edf\n",
            "train_y[87] : /content/drive/MyDrive/physionet/HMC/hmc-sleep-staging/recordings/SN114_sleepscoring.edf\n",
            "signals_len : 609\n",
            "annotations_len : 609\n",
            "\n",
            "\n",
            "train_x[88] : /content/drive/MyDrive/physionet/HMC/hmc-sleep-staging/recordings/SN151.edf\n",
            "train_y[88] : /content/drive/MyDrive/physionet/HMC/hmc-sleep-staging/recordings/SN151_sleepscoring.edf\n",
            "signals_len : 844\n",
            "annotations_len : 844\n",
            "\n",
            "\n",
            "train_x[89] : /content/drive/MyDrive/physionet/HMC/hmc-sleep-staging/recordings/SN140.edf\n",
            "train_y[89] : /content/drive/MyDrive/physionet/HMC/hmc-sleep-staging/recordings/SN140_sleepscoring.edf\n",
            "signals_len : 1311\n",
            "annotations_len : 1311\n",
            "\n",
            "\n",
            "train_x[90] : /content/drive/MyDrive/physionet/HMC/hmc-sleep-staging/recordings/SN136.edf\n",
            "train_y[90] : /content/drive/MyDrive/physionet/HMC/hmc-sleep-staging/recordings/SN136_sleepscoring.edf\n",
            "signals_len : 696\n",
            "annotations_len : 696\n",
            "\n",
            "\n",
            "train_x[91] : /content/drive/MyDrive/physionet/HMC/hmc-sleep-staging/recordings/SN008.edf\n",
            "train_y[91] : /content/drive/MyDrive/physionet/HMC/hmc-sleep-staging/recordings/SN008_sleepscoring.edf\n",
            "signals_len : 847\n",
            "annotations_len : 847\n",
            "\n",
            "\n",
            "train_x[92] : /content/drive/MyDrive/physionet/HMC/hmc-sleep-staging/recordings/SN119.edf\n",
            "train_y[92] : /content/drive/MyDrive/physionet/HMC/hmc-sleep-staging/recordings/SN119_sleepscoring.edf\n",
            "signals_len : 916\n",
            "annotations_len : 916\n",
            "\n",
            "\n",
            "train_x[93] : /content/drive/MyDrive/physionet/HMC/hmc-sleep-staging/recordings/SN020.edf\n",
            "train_y[93] : /content/drive/MyDrive/physionet/HMC/hmc-sleep-staging/recordings/SN020_sleepscoring.edf\n",
            "signals_len : 948\n",
            "annotations_len : 948\n",
            "\n",
            "\n",
            "train_x[94] : /content/drive/MyDrive/physionet/HMC/hmc-sleep-staging/recordings/SN032.edf\n",
            "train_y[94] : /content/drive/MyDrive/physionet/HMC/hmc-sleep-staging/recordings/SN032_sleepscoring.edf\n",
            "signals_len : 1188\n",
            "annotations_len : 1188\n",
            "\n",
            "\n",
            "train_x[95] : /content/drive/MyDrive/physionet/HMC/hmc-sleep-staging/recordings/SN076.edf\n",
            "train_y[95] : /content/drive/MyDrive/physionet/HMC/hmc-sleep-staging/recordings/SN076_sleepscoring.edf\n",
            "signals_len : 687\n",
            "annotations_len : 687\n",
            "\n",
            "\n",
            "train_x[96] : /content/drive/MyDrive/physionet/HMC/hmc-sleep-staging/recordings/SN085.edf\n",
            "train_y[96] : /content/drive/MyDrive/physionet/HMC/hmc-sleep-staging/recordings/SN085_sleepscoring.edf\n",
            "signals_len : 1006\n",
            "annotations_len : 1006\n",
            "\n",
            "\n",
            "train_x[97] : /content/drive/MyDrive/physionet/HMC/hmc-sleep-staging/recordings/SN094.edf\n",
            "train_y[97] : /content/drive/MyDrive/physionet/HMC/hmc-sleep-staging/recordings/SN094_sleepscoring.edf\n",
            "signals_len : 1050\n",
            "annotations_len : 1050\n",
            "\n",
            "\n",
            "train_x[98] : /content/drive/MyDrive/physionet/HMC/hmc-sleep-staging/recordings/SN123.edf\n",
            "train_y[98] : /content/drive/MyDrive/physionet/HMC/hmc-sleep-staging/recordings/SN123_sleepscoring.edf\n",
            "signals_len : 749\n",
            "annotations_len : 749\n",
            "\n",
            "\n",
            "train_x[99] : /content/drive/MyDrive/physionet/HMC/hmc-sleep-staging/recordings/SN143.edf\n",
            "train_y[99] : /content/drive/MyDrive/physionet/HMC/hmc-sleep-staging/recordings/SN143_sleepscoring.edf\n",
            "signals_len : 942\n",
            "annotations_len : 942\n",
            "\n",
            "\n",
            "train_x[100] : /content/drive/MyDrive/physionet/HMC/hmc-sleep-staging/recordings/SN040.edf\n",
            "train_y[100] : /content/drive/MyDrive/physionet/HMC/hmc-sleep-staging/recordings/SN040_sleepscoring.edf\n",
            "signals_len : 801\n",
            "annotations_len : 801\n",
            "\n",
            "\n",
            "train_x[101] : /content/drive/MyDrive/physionet/HMC/hmc-sleep-staging/recordings/SN057.edf\n",
            "train_y[101] : /content/drive/MyDrive/physionet/HMC/hmc-sleep-staging/recordings/SN057_sleepscoring.edf\n",
            "signals_len : 776\n",
            "annotations_len : 776\n",
            "\n",
            "\n",
            "train_x[102] : /content/drive/MyDrive/physionet/HMC/hmc-sleep-staging/recordings/SN095.edf\n",
            "train_y[102] : /content/drive/MyDrive/physionet/HMC/hmc-sleep-staging/recordings/SN095_sleepscoring.edf\n",
            "signals_len : 862\n",
            "annotations_len : 862\n",
            "\n",
            "\n",
            "train_x[103] : /content/drive/MyDrive/physionet/HMC/hmc-sleep-staging/recordings/SN023.edf\n",
            "train_y[103] : /content/drive/MyDrive/physionet/HMC/hmc-sleep-staging/recordings/SN023_sleepscoring.edf\n",
            "signals_len : 791\n",
            "annotations_len : 791\n",
            "\n",
            "\n",
            "train_x[104] : /content/drive/MyDrive/physionet/HMC/hmc-sleep-staging/recordings/SN146.edf\n",
            "train_y[104] : /content/drive/MyDrive/physionet/HMC/hmc-sleep-staging/recordings/SN146_sleepscoring.edf\n",
            "signals_len : 1022\n",
            "annotations_len : 1022\n",
            "\n",
            "\n",
            "train_x[105] : /content/drive/MyDrive/physionet/HMC/hmc-sleep-staging/recordings/SN001.edf\n",
            "train_y[105] : /content/drive/MyDrive/physionet/HMC/hmc-sleep-staging/recordings/SN001_sleepscoring.edf\n",
            "signals_len : 854\n",
            "annotations_len : 854\n",
            "\n",
            "\n",
            "train_x[106] : /content/drive/MyDrive/physionet/HMC/hmc-sleep-staging/recordings/SN148.edf\n",
            "train_y[106] : /content/drive/MyDrive/physionet/HMC/hmc-sleep-staging/recordings/SN148_sleepscoring.edf\n",
            "signals_len : 866\n",
            "annotations_len : 866\n",
            "\n",
            "\n",
            "train_x[107] : /content/drive/MyDrive/physionet/HMC/hmc-sleep-staging/recordings/SN145.edf\n",
            "train_y[107] : /content/drive/MyDrive/physionet/HMC/hmc-sleep-staging/recordings/SN145_sleepscoring.edf\n",
            "signals_len : 785\n",
            "annotations_len : 785\n",
            "\n",
            "\n",
            "train_x[108] : /content/drive/MyDrive/physionet/HMC/hmc-sleep-staging/recordings/SN084.edf\n",
            "train_y[108] : /content/drive/MyDrive/physionet/HMC/hmc-sleep-staging/recordings/SN084_sleepscoring.edf\n",
            "signals_len : 876\n",
            "annotations_len : 876\n",
            "\n",
            "\n",
            "train_x[109] : /content/drive/MyDrive/physionet/HMC/hmc-sleep-staging/recordings/SN089.edf\n",
            "train_y[109] : /content/drive/MyDrive/physionet/HMC/hmc-sleep-staging/recordings/SN089_sleepscoring.edf\n",
            "signals_len : 806\n",
            "annotations_len : 806\n",
            "\n",
            "\n",
            "train_x[110] : /content/drive/MyDrive/physionet/HMC/hmc-sleep-staging/recordings/SN108.edf\n",
            "train_y[110] : /content/drive/MyDrive/physionet/HMC/hmc-sleep-staging/recordings/SN108_sleepscoring.edf\n",
            "signals_len : 882\n",
            "annotations_len : 882\n",
            "\n",
            "\n",
            "train_x[111] : /content/drive/MyDrive/physionet/HMC/hmc-sleep-staging/recordings/SN066.edf\n",
            "train_y[111] : /content/drive/MyDrive/physionet/HMC/hmc-sleep-staging/recordings/SN066_sleepscoring.edf\n",
            "signals_len : 1010\n",
            "annotations_len : 1010\n",
            "\n",
            "\n",
            "train_x[112] : /content/drive/MyDrive/physionet/HMC/hmc-sleep-staging/recordings/SN053.edf\n",
            "train_y[112] : /content/drive/MyDrive/physionet/HMC/hmc-sleep-staging/recordings/SN053_sleepscoring.edf\n",
            "signals_len : 940\n",
            "annotations_len : 940\n",
            "\n",
            "\n",
            "train_x[113] : /content/drive/MyDrive/physionet/HMC/hmc-sleep-staging/recordings/SN015.edf\n",
            "train_y[113] : /content/drive/MyDrive/physionet/HMC/hmc-sleep-staging/recordings/SN015_sleepscoring.edf\n",
            "signals_len : 867\n",
            "annotations_len : 867\n",
            "\n",
            "\n",
            "num_train_matched : 114\n",
            "num_train_non_matched : 0\n",
            "train_non_matched_list : []\n",
            "val_x[0] : /content/drive/MyDrive/physionet/HMC/hmc-sleep-staging/recordings/SN144.edf\n",
            "val_y[0] : /content/drive/MyDrive/physionet/HMC/hmc-sleep-staging/recordings/SN144_sleepscoring.edf\n",
            "signals_len : 793\n",
            "annotations_len : 793\n",
            "\n",
            "\n",
            "val_x[1] : /content/drive/MyDrive/physionet/HMC/hmc-sleep-staging/recordings/SN028.edf\n",
            "val_y[1] : /content/drive/MyDrive/physionet/HMC/hmc-sleep-staging/recordings/SN028_sleepscoring.edf\n",
            "signals_len : 902\n",
            "annotations_len : 902\n",
            "\n",
            "\n",
            "val_x[2] : /content/drive/MyDrive/physionet/HMC/hmc-sleep-staging/recordings/SN102.edf\n",
            "val_y[2] : /content/drive/MyDrive/physionet/HMC/hmc-sleep-staging/recordings/SN102_sleepscoring.edf\n",
            "signals_len : 840\n",
            "annotations_len : 840\n",
            "\n",
            "\n",
            "val_x[3] : /content/drive/MyDrive/physionet/HMC/hmc-sleep-staging/recordings/SN090.edf\n",
            "val_y[3] : /content/drive/MyDrive/physionet/HMC/hmc-sleep-staging/recordings/SN090_sleepscoring.edf\n",
            "signals_len : 907\n",
            "annotations_len : 907\n",
            "\n",
            "\n",
            "val_x[4] : /content/drive/MyDrive/physionet/HMC/hmc-sleep-staging/recordings/SN059.edf\n",
            "val_y[4] : /content/drive/MyDrive/physionet/HMC/hmc-sleep-staging/recordings/SN059_sleepscoring.edf\n",
            "signals_len : 826\n",
            "annotations_len : 826\n",
            "\n",
            "\n",
            "val_x[5] : /content/drive/MyDrive/physionet/HMC/hmc-sleep-staging/recordings/SN075.edf\n",
            "val_y[5] : /content/drive/MyDrive/physionet/HMC/hmc-sleep-staging/recordings/SN075_sleepscoring.edf\n",
            "signals_len : 1089\n",
            "annotations_len : 1089\n",
            "\n",
            "\n",
            "val_x[6] : /content/drive/MyDrive/physionet/HMC/hmc-sleep-staging/recordings/SN100.edf\n",
            "val_y[6] : /content/drive/MyDrive/physionet/HMC/hmc-sleep-staging/recordings/SN100_sleepscoring.edf\n",
            "signals_len : 905\n",
            "annotations_len : 905\n",
            "\n",
            "\n",
            "val_x[7] : /content/drive/MyDrive/physionet/HMC/hmc-sleep-staging/recordings/SN013.edf\n",
            "val_y[7] : /content/drive/MyDrive/physionet/HMC/hmc-sleep-staging/recordings/SN013_sleepscoring.edf\n",
            "signals_len : 1004\n",
            "annotations_len : 1004\n",
            "\n",
            "\n",
            "val_x[8] : /content/drive/MyDrive/physionet/HMC/hmc-sleep-staging/recordings/SN142.edf\n",
            "val_y[8] : /content/drive/MyDrive/physionet/HMC/hmc-sleep-staging/recordings/SN142_sleepscoring.edf\n",
            "signals_len : 908\n",
            "annotations_len : 908\n",
            "\n",
            "\n",
            "val_x[9] : /content/drive/MyDrive/physionet/HMC/hmc-sleep-staging/recordings/SN070.edf\n",
            "val_y[9] : /content/drive/MyDrive/physionet/HMC/hmc-sleep-staging/recordings/SN070_sleepscoring.edf\n",
            "signals_len : 672\n",
            "annotations_len : 672\n",
            "\n",
            "\n",
            "val_x[10] : /content/drive/MyDrive/physionet/HMC/hmc-sleep-staging/recordings/SN132.edf\n",
            "val_y[10] : /content/drive/MyDrive/physionet/HMC/hmc-sleep-staging/recordings/SN132_sleepscoring.edf\n",
            "signals_len : 1019\n",
            "annotations_len : 1019\n",
            "\n",
            "\n",
            "val_x[11] : /content/drive/MyDrive/physionet/HMC/hmc-sleep-staging/recordings/SN109.edf\n",
            "val_y[11] : /content/drive/MyDrive/physionet/HMC/hmc-sleep-staging/recordings/SN109_sleepscoring.edf\n",
            "signals_len : 783\n",
            "annotations_len : 783\n",
            "\n",
            "\n",
            "num_val_matched : 12\n",
            "num_val_non_matched : 0\n",
            "val_non_matched_list : []\n"
          ]
        }
      ]
    },
    {
      "cell_type": "code",
      "source": [
        "# result\n",
        "\n",
        "print(f'train_num_matched : {train_match}')\n",
        "print(f'train_num_non_matched : {len(train_non_match)}')\n",
        "print(f'train_non_matched_list : {train_non_match}')\n",
        "print(f'num_val_matched : {val_match}')\n",
        "print(f'num_val_non_matched : {len(val_non_match)}')\n",
        "print(f'val_non_matched_list : {val_non_match}')\n",
        "print(f'total_num_matched : {train_match + val_match}')\n",
        "print(f'total_num_non_matched : {len(train_non_match) + len(val_non_match)}')\n"
      ],
      "metadata": {
        "colab": {
          "base_uri": "https://localhost:8080/"
        },
        "id": "B0l_97zvzhaw",
        "outputId": "c5831d4b-7e75-4d0c-c471-a4ccb95b084f"
      },
      "execution_count": null,
      "outputs": [
        {
          "output_type": "stream",
          "name": "stdout",
          "text": [
            "train_num_matched : 114\n",
            "train_num_non_matched : 0\n",
            "train_non_matched_list : []\n",
            "num_val_matched : 12\n",
            "num_val_non_matched : 0\n",
            "val_non_matched_list : []\n",
            "total_num_matched : 126\n",
            "total_num_non_matched : 0\n"
          ]
        }
      ]
    },
    {
      "cell_type": "markdown",
      "source": [
        "1개에 대해 전처리\n",
        "(이 코드들 기반으로 위에서 전체 데이터에 대해 전처리 과정 수행)\n",
        "\n",
        "실행할 필요 없음"
      ],
      "metadata": {
        "id": "YfooSb99-HsH"
      }
    },
    {
      "cell_type": "code",
      "source": [
        "_, _, annotations_header = highlevel.read_edf(labels[27])\n",
        "ann = annotations_header['annotations']\n",
        "print(ann)\n",
        "print(ann[0][2])\n",
        "label = []\n",
        "for i in range(len(ann)):\n",
        "  j = ann[i][2][0].upper()\n",
        "  if j == 'S':                   #Lights off & Lights on 제거\n",
        "    label.append(ann[i][2])"
      ],
      "metadata": {
        "colab": {
          "base_uri": "https://localhost:8080/"
        },
        "id": "-uUL-lOikqYZ",
        "outputId": "2880d51c-60e8-4e9d-90e4-0833dc785ea4"
      },
      "execution_count": null,
      "outputs": [
        {
          "output_type": "stream",
          "name": "stdout",
          "text": [
            "[[0.0, 30.0, 'Sleep stage W'], [30.0, 30.0, 'Sleep stage W'], [32.4, 0.0, 'Lights off@@SaO2'], [60.0, 30.0, 'Sleep stage W'], [90.0, 30.0, 'Sleep stage W'], [120.0, 30.0, 'Sleep stage W'], [150.0, 30.0, 'Sleep stage W'], [180.0, 30.0, 'Sleep stage W'], [210.0, 30.0, 'Sleep stage W'], [240.0, 30.0, 'Sleep stage W'], [270.0, 30.0, 'Sleep stage W'], [300.0, 30.0, 'Sleep stage W'], [330.0, 30.0, 'Sleep stage W'], [360.0, 30.0, 'Sleep stage W'], [390.0, 30.0, 'Sleep stage W'], [420.0, 30.0, 'Sleep stage W'], [450.0, 30.0, 'Sleep stage W'], [480.0, 30.0, 'Sleep stage W'], [510.0, 30.0, 'Sleep stage W'], [540.0, 30.0, 'Sleep stage W'], [570.0, 30.0, 'Sleep stage W'], [600.0, 30.0, 'Sleep stage W'], [630.0, 30.0, 'Sleep stage W'], [660.0, 30.0, 'Sleep stage W'], [690.0, 30.0, 'Sleep stage W'], [720.0, 30.0, 'Sleep stage N1'], [750.0, 30.0, 'Sleep stage W'], [780.0, 30.0, 'Sleep stage W'], [810.0, 30.0, 'Sleep stage W'], [840.0, 30.0, 'Sleep stage W'], [870.0, 30.0, 'Sleep stage W'], [900.0, 30.0, 'Sleep stage W'], [930.0, 30.0, 'Sleep stage W'], [960.0, 30.0, 'Sleep stage W'], [990.0, 30.0, 'Sleep stage N1'], [1020.0, 30.0, 'Sleep stage N1'], [1050.0, 30.0, 'Sleep stage N1'], [1080.0, 30.0, 'Sleep stage N1'], [1110.0, 30.0, 'Sleep stage N1'], [1140.0, 30.0, 'Sleep stage N1'], [1170.0, 30.0, 'Sleep stage N1'], [1200.0, 30.0, 'Sleep stage N1'], [1230.0, 30.0, 'Sleep stage N1'], [1260.0, 30.0, 'Sleep stage N1'], [1290.0, 30.0, 'Sleep stage N2'], [1320.0, 30.0, 'Sleep stage N1'], [1350.0, 30.0, 'Sleep stage W'], [1380.0, 30.0, 'Sleep stage W'], [1410.0, 30.0, 'Sleep stage N1'], [1440.0, 30.0, 'Sleep stage N1'], [1470.0, 30.0, 'Sleep stage N1'], [1500.0, 30.0, 'Sleep stage N2'], [1530.0, 30.0, 'Sleep stage N1'], [1560.0, 30.0, 'Sleep stage N2'], [1590.0, 30.0, 'Sleep stage N2'], [1620.0, 30.0, 'Sleep stage N2'], [1650.0, 30.0, 'Sleep stage N2'], [1680.0, 30.0, 'Sleep stage N2'], [1710.0, 30.0, 'Sleep stage N2'], [1740.0, 30.0, 'Sleep stage N2'], [1770.0, 30.0, 'Sleep stage N2'], [1800.0, 30.0, 'Sleep stage N2'], [1830.0, 30.0, 'Sleep stage N2'], [1860.0, 30.0, 'Sleep stage N2'], [1890.0, 30.0, 'Sleep stage N2'], [1920.0, 30.0, 'Sleep stage N2'], [1950.0, 30.0, 'Sleep stage N2'], [1980.0, 30.0, 'Sleep stage N2'], [2010.0, 30.0, 'Sleep stage N2'], [2040.0, 30.0, 'Sleep stage N2'], [2070.0, 30.0, 'Sleep stage N3'], [2100.0, 30.0, 'Sleep stage N3'], [2130.0, 30.0, 'Sleep stage N3'], [2160.0, 30.0, 'Sleep stage N3'], [2190.0, 30.0, 'Sleep stage N3'], [2220.0, 30.0, 'Sleep stage N3'], [2250.0, 30.0, 'Sleep stage N3'], [2280.0, 30.0, 'Sleep stage N3'], [2310.0, 30.0, 'Sleep stage N1'], [2340.0, 30.0, 'Sleep stage N2'], [2370.0, 30.0, 'Sleep stage N2'], [2400.0, 30.0, 'Sleep stage N2'], [2430.0, 30.0, 'Sleep stage N2'], [2460.0, 30.0, 'Sleep stage N2'], [2490.0, 30.0, 'Sleep stage N2'], [2520.0, 30.0, 'Sleep stage N2'], [2550.0, 30.0, 'Sleep stage N1'], [2580.0, 30.0, 'Sleep stage W'], [2610.0, 30.0, 'Sleep stage N1'], [2640.0, 30.0, 'Sleep stage N1'], [2670.0, 30.0, 'Sleep stage N1'], [2700.0, 30.0, 'Sleep stage N2'], [2730.0, 30.0, 'Sleep stage N1'], [2760.0, 30.0, 'Sleep stage N2'], [2790.0, 30.0, 'Sleep stage N2'], [2820.0, 30.0, 'Sleep stage N2'], [2850.0, 30.0, 'Sleep stage N2'], [2880.0, 30.0, 'Sleep stage N2'], [2910.0, 30.0, 'Sleep stage N2'], [2940.0, 30.0, 'Sleep stage N2'], [2970.0, 30.0, 'Sleep stage N2'], [3000.0, 30.0, 'Sleep stage N2'], [3030.0, 30.0, 'Sleep stage N3'], [3060.0, 30.0, 'Sleep stage N3'], [3090.0, 30.0, 'Sleep stage N3'], [3120.0, 30.0, 'Sleep stage N3'], [3150.0, 30.0, 'Sleep stage N3'], [3180.0, 30.0, 'Sleep stage N3'], [3210.0, 30.0, 'Sleep stage N3'], [3240.0, 30.0, 'Sleep stage N3'], [3270.0, 30.0, 'Sleep stage N3'], [3300.0, 30.0, 'Sleep stage N3'], [3330.0, 30.0, 'Sleep stage N3'], [3360.0, 30.0, 'Sleep stage N3'], [3390.0, 30.0, 'Sleep stage N3'], [3420.0, 30.0, 'Sleep stage N3'], [3450.0, 30.0, 'Sleep stage N3'], [3480.0, 30.0, 'Sleep stage N3'], [3510.0, 30.0, 'Sleep stage N3'], [3540.0, 30.0, 'Sleep stage N3'], [3570.0, 30.0, 'Sleep stage N3'], [3600.0, 30.0, 'Sleep stage N3'], [3630.0, 30.0, 'Sleep stage N3'], [3660.0, 30.0, 'Sleep stage N3'], [3690.0, 30.0, 'Sleep stage N3'], [3720.0, 30.0, 'Sleep stage N3'], [3750.0, 30.0, 'Sleep stage N3'], [3780.0, 30.0, 'Sleep stage N3'], [3810.0, 30.0, 'Sleep stage N3'], [3840.0, 30.0, 'Sleep stage N3'], [3870.0, 30.0, 'Sleep stage N3'], [3900.0, 30.0, 'Sleep stage R'], [3930.0, 30.0, 'Sleep stage R'], [3960.0, 30.0, 'Sleep stage R'], [3990.0, 30.0, 'Sleep stage R'], [4020.0, 30.0, 'Sleep stage N1'], [4050.0, 30.0, 'Sleep stage N1'], [4080.0, 30.0, 'Sleep stage N1'], [4110.0, 30.0, 'Sleep stage W'], [4140.0, 30.0, 'Sleep stage N1'], [4170.0, 30.0, 'Sleep stage R'], [4200.0, 30.0, 'Sleep stage R'], [4230.0, 30.0, 'Sleep stage R'], [4260.0, 30.0, 'Sleep stage R'], [4290.0, 30.0, 'Sleep stage N1'], [4320.0, 30.0, 'Sleep stage N1'], [4350.0, 30.0, 'Sleep stage N1'], [4380.0, 30.0, 'Sleep stage N1'], [4410.0, 30.0, 'Sleep stage N1'], [4440.0, 30.0, 'Sleep stage N1'], [4470.0, 30.0, 'Sleep stage R'], [4500.0, 30.0, 'Sleep stage R'], [4530.0, 30.0, 'Sleep stage N1'], [4560.0, 30.0, 'Sleep stage N1'], [4590.0, 30.0, 'Sleep stage N1'], [4620.0, 30.0, 'Sleep stage N1'], [4650.0, 30.0, 'Sleep stage N1'], [4680.0, 30.0, 'Sleep stage R'], [4710.0, 30.0, 'Sleep stage N1'], [4740.0, 30.0, 'Sleep stage N1'], [4770.0, 30.0, 'Sleep stage R'], [4800.0, 30.0, 'Sleep stage R'], [4830.0, 30.0, 'Sleep stage N1'], [4860.0, 30.0, 'Sleep stage N1'], [4890.0, 30.0, 'Sleep stage N1'], [4920.0, 30.0, 'Sleep stage R'], [4950.0, 30.0, 'Sleep stage N1'], [4980.0, 30.0, 'Sleep stage R'], [5010.0, 30.0, 'Sleep stage R'], [5040.0, 30.0, 'Sleep stage N1'], [5070.0, 30.0, 'Sleep stage N1'], [5100.0, 30.0, 'Sleep stage N1'], [5130.0, 30.0, 'Sleep stage N1'], [5160.0, 30.0, 'Sleep stage N1'], [5190.0, 30.0, 'Sleep stage N1'], [5220.0, 30.0, 'Sleep stage W'], [5250.0, 30.0, 'Sleep stage N1'], [5280.0, 30.0, 'Sleep stage N1'], [5310.0, 30.0, 'Sleep stage N1'], [5340.0, 30.0, 'Sleep stage N1'], [5370.0, 30.0, 'Sleep stage N1'], [5400.0, 30.0, 'Sleep stage N2'], [5430.0, 30.0, 'Sleep stage N2'], [5460.0, 30.0, 'Sleep stage N2'], [5490.0, 30.0, 'Sleep stage N2'], [5520.0, 30.0, 'Sleep stage N2'], [5550.0, 30.0, 'Sleep stage N2'], [5580.0, 30.0, 'Sleep stage N2'], [5610.0, 30.0, 'Sleep stage N2'], [5640.0, 30.0, 'Sleep stage N2'], [5670.0, 30.0, 'Sleep stage W'], [5700.0, 30.0, 'Sleep stage W'], [5730.0, 30.0, 'Sleep stage W'], [5760.0, 30.0, 'Sleep stage N1'], [5790.0, 30.0, 'Sleep stage W'], [5820.0, 30.0, 'Sleep stage W'], [5850.0, 30.0, 'Sleep stage N1'], [5880.0, 30.0, 'Sleep stage N2'], [5910.0, 30.0, 'Sleep stage N2'], [5940.0, 30.0, 'Sleep stage N1'], [5970.0, 30.0, 'Sleep stage N2'], [6000.0, 30.0, 'Sleep stage N2'], [6030.0, 30.0, 'Sleep stage N2'], [6060.0, 30.0, 'Sleep stage N2'], [6090.0, 30.0, 'Sleep stage N2'], [6120.0, 30.0, 'Sleep stage N2'], [6150.0, 30.0, 'Sleep stage N2'], [6180.0, 30.0, 'Sleep stage N2'], [6210.0, 30.0, 'Sleep stage N2'], [6240.0, 30.0, 'Sleep stage N2'], [6270.0, 30.0, 'Sleep stage N2'], [6300.0, 30.0, 'Sleep stage N2'], [6330.0, 30.0, 'Sleep stage N2'], [6360.0, 30.0, 'Sleep stage N2'], [6390.0, 30.0, 'Sleep stage N2'], [6420.0, 30.0, 'Sleep stage N2'], [6450.0, 30.0, 'Sleep stage N2'], [6480.0, 30.0, 'Sleep stage N2'], [6510.0, 30.0, 'Sleep stage N3'], [6540.0, 30.0, 'Sleep stage N3'], [6570.0, 30.0, 'Sleep stage N3'], [6600.0, 30.0, 'Sleep stage N3'], [6630.0, 30.0, 'Sleep stage N3'], [6660.0, 30.0, 'Sleep stage N3'], [6690.0, 30.0, 'Sleep stage N3'], [6720.0, 30.0, 'Sleep stage N3'], [6750.0, 30.0, 'Sleep stage N3'], [6780.0, 30.0, 'Sleep stage N3'], [6810.0, 30.0, 'Sleep stage N3'], [6840.0, 30.0, 'Sleep stage N3'], [6870.0, 30.0, 'Sleep stage N3'], [6900.0, 30.0, 'Sleep stage N3'], [6930.0, 30.0, 'Sleep stage N3'], [6960.0, 30.0, 'Sleep stage N3'], [6990.0, 30.0, 'Sleep stage N3'], [7020.0, 30.0, 'Sleep stage N3'], [7050.0, 30.0, 'Sleep stage N3'], [7080.0, 30.0, 'Sleep stage N3'], [7110.0, 30.0, 'Sleep stage N3'], [7140.0, 30.0, 'Sleep stage N3'], [7170.0, 30.0, 'Sleep stage N2'], [7200.0, 30.0, 'Sleep stage N3'], [7230.0, 30.0, 'Sleep stage N2'], [7260.0, 30.0, 'Sleep stage N1'], [7290.0, 30.0, 'Sleep stage W'], [7320.0, 30.0, 'Sleep stage N1'], [7350.0, 30.0, 'Sleep stage N1'], [7380.0, 30.0, 'Sleep stage N1'], [7410.0, 30.0, 'Sleep stage N1'], [7440.0, 30.0, 'Sleep stage N2'], [7470.0, 30.0, 'Sleep stage N2'], [7500.0, 30.0, 'Sleep stage N1'], [7530.0, 30.0, 'Sleep stage N1'], [7560.0, 30.0, 'Sleep stage W'], [7590.0, 30.0, 'Sleep stage N1'], [7620.0, 30.0, 'Sleep stage N1'], [7650.0, 30.0, 'Sleep stage N1'], [7680.0, 30.0, 'Sleep stage N1'], [7710.0, 30.0, 'Sleep stage N2'], [7740.0, 30.0, 'Sleep stage N2'], [7770.0, 30.0, 'Sleep stage N2'], [7800.0, 30.0, 'Sleep stage N2'], [7830.0, 30.0, 'Sleep stage N2'], [7860.0, 30.0, 'Sleep stage N2'], [7890.0, 30.0, 'Sleep stage N2'], [7920.0, 30.0, 'Sleep stage N2'], [7950.0, 30.0, 'Sleep stage N2'], [7980.0, 30.0, 'Sleep stage N2'], [8010.0, 30.0, 'Sleep stage N2'], [8040.0, 30.0, 'Sleep stage W'], [8070.0, 30.0, 'Sleep stage N1'], [8100.0, 30.0, 'Sleep stage N1'], [8130.0, 30.0, 'Sleep stage N2'], [8160.0, 30.0, 'Sleep stage N2'], [8190.0, 30.0, 'Sleep stage N2'], [8220.0, 30.0, 'Sleep stage N1'], [8250.0, 30.0, 'Sleep stage N2'], [8280.0, 30.0, 'Sleep stage N2'], [8310.0, 30.0, 'Sleep stage N2'], [8340.0, 30.0, 'Sleep stage N3'], [8370.0, 30.0, 'Sleep stage N3'], [8400.0, 30.0, 'Sleep stage N3'], [8430.0, 30.0, 'Sleep stage N3'], [8460.0, 30.0, 'Sleep stage N1'], [8490.0, 30.0, 'Sleep stage N1'], [8520.0, 30.0, 'Sleep stage N2'], [8550.0, 30.0, 'Sleep stage N2'], [8580.0, 30.0, 'Sleep stage N3'], [8610.0, 30.0, 'Sleep stage N3'], [8640.0, 30.0, 'Sleep stage N3'], [8670.0, 30.0, 'Sleep stage N3'], [8700.0, 30.0, 'Sleep stage N3'], [8730.0, 30.0, 'Sleep stage N3'], [8760.0, 30.0, 'Sleep stage N3'], [8790.0, 30.0, 'Sleep stage N3'], [8820.0, 30.0, 'Sleep stage N3'], [8850.0, 30.0, 'Sleep stage N1'], [8880.0, 30.0, 'Sleep stage N1'], [8910.0, 30.0, 'Sleep stage N2'], [8940.0, 30.0, 'Sleep stage N1'], [8970.0, 30.0, 'Sleep stage N2'], [9000.0, 30.0, 'Sleep stage N2'], [9030.0, 30.0, 'Sleep stage N1'], [9060.0, 30.0, 'Sleep stage N2'], [9090.0, 30.0, 'Sleep stage N2'], [9120.0, 30.0, 'Sleep stage N2'], [9150.0, 30.0, 'Sleep stage N1'], [9180.0, 30.0, 'Sleep stage R'], [9210.0, 30.0, 'Sleep stage R'], [9240.0, 30.0, 'Sleep stage R'], [9270.0, 30.0, 'Sleep stage R'], [9300.0, 30.0, 'Sleep stage N1'], [9330.0, 30.0, 'Sleep stage R'], [9360.0, 30.0, 'Sleep stage R'], [9390.0, 30.0, 'Sleep stage N1'], [9420.0, 30.0, 'Sleep stage N1'], [9450.0, 30.0, 'Sleep stage N1'], [9480.0, 30.0, 'Sleep stage R'], [9510.0, 30.0, 'Sleep stage N1'], [9540.0, 30.0, 'Sleep stage R'], [9570.0, 30.0, 'Sleep stage N1'], [9600.0, 30.0, 'Sleep stage R'], [9630.0, 30.0, 'Sleep stage R'], [9660.0, 30.0, 'Sleep stage N1'], [9690.0, 30.0, 'Sleep stage R'], [9720.0, 30.0, 'Sleep stage N1'], [9750.0, 30.0, 'Sleep stage N1'], [9780.0, 30.0, 'Sleep stage R'], [9810.0, 30.0, 'Sleep stage R'], [9840.0, 30.0, 'Sleep stage N1'], [9870.0, 30.0, 'Sleep stage R'], [9900.0, 30.0, 'Sleep stage R'], [9930.0, 30.0, 'Sleep stage N1'], [9960.0, 30.0, 'Sleep stage R'], [9990.0, 30.0, 'Sleep stage R'], [10020.0, 30.0, 'Sleep stage R'], [10050.0, 30.0, 'Sleep stage R'], [10080.0, 30.0, 'Sleep stage R'], [10110.0, 30.0, 'Sleep stage R'], [10140.0, 30.0, 'Sleep stage R'], [10170.0, 30.0, 'Sleep stage N1'], [10200.0, 30.0, 'Sleep stage R'], [10230.0, 30.0, 'Sleep stage R'], [10260.0, 30.0, 'Sleep stage N1'], [10290.0, 30.0, 'Sleep stage R'], [10320.0, 30.0, 'Sleep stage R'], [10350.0, 30.0, 'Sleep stage N1'], [10380.0, 30.0, 'Sleep stage R'], [10410.0, 30.0, 'Sleep stage R'], [10440.0, 30.0, 'Sleep stage N1'], [10470.0, 30.0, 'Sleep stage R'], [10500.0, 30.0, 'Sleep stage R'], [10530.0, 30.0, 'Sleep stage W'], [10560.0, 30.0, 'Sleep stage N1'], [10590.0, 30.0, 'Sleep stage N1'], [10620.0, 30.0, 'Sleep stage R'], [10650.0, 30.0, 'Sleep stage N1'], [10680.0, 30.0, 'Sleep stage R'], [10710.0, 30.0, 'Sleep stage R'], [10740.0, 30.0, 'Sleep stage N1'], [10770.0, 30.0, 'Sleep stage R'], [10800.0, 30.0, 'Sleep stage W'], [10830.0, 30.0, 'Sleep stage W'], [10860.0, 30.0, 'Sleep stage N1'], [10890.0, 30.0, 'Sleep stage N1'], [10920.0, 30.0, 'Sleep stage N1'], [10950.0, 30.0, 'Sleep stage N1'], [10980.0, 30.0, 'Sleep stage N1'], [11010.0, 30.0, 'Sleep stage N1'], [11040.0, 30.0, 'Sleep stage N2'], [11070.0, 30.0, 'Sleep stage N2'], [11100.0, 30.0, 'Sleep stage N2'], [11130.0, 30.0, 'Sleep stage N1'], [11160.0, 30.0, 'Sleep stage N1'], [11190.0, 30.0, 'Sleep stage N1'], [11220.0, 30.0, 'Sleep stage N2'], [11250.0, 30.0, 'Sleep stage N2'], [11280.0, 30.0, 'Sleep stage N2'], [11310.0, 30.0, 'Sleep stage N2'], [11340.0, 30.0, 'Sleep stage N2'], [11370.0, 30.0, 'Sleep stage N2'], [11400.0, 30.0, 'Sleep stage N2'], [11430.0, 30.0, 'Sleep stage N2'], [11460.0, 30.0, 'Sleep stage N2'], [11490.0, 30.0, 'Sleep stage N2'], [11520.0, 30.0, 'Sleep stage N2'], [11550.0, 30.0, 'Sleep stage N2'], [11580.0, 30.0, 'Sleep stage N2'], [11610.0, 30.0, 'Sleep stage N2'], [11640.0, 30.0, 'Sleep stage N2'], [11670.0, 30.0, 'Sleep stage N2'], [11700.0, 30.0, 'Sleep stage N2'], [11730.0, 30.0, 'Sleep stage N2'], [11760.0, 30.0, 'Sleep stage N2'], [11790.0, 30.0, 'Sleep stage N2'], [11820.0, 30.0, 'Sleep stage N3'], [11850.0, 30.0, 'Sleep stage N3'], [11880.0, 30.0, 'Sleep stage N3'], [11910.0, 30.0, 'Sleep stage N3'], [11940.0, 30.0, 'Sleep stage N3'], [11970.0, 30.0, 'Sleep stage N3'], [12000.0, 30.0, 'Sleep stage N3'], [12030.0, 30.0, 'Sleep stage N3'], [12060.0, 30.0, 'Sleep stage N3'], [12090.0, 30.0, 'Sleep stage N3'], [12120.0, 30.0, 'Sleep stage N3'], [12150.0, 30.0, 'Sleep stage N3'], [12180.0, 30.0, 'Sleep stage N3'], [12210.0, 30.0, 'Sleep stage N3'], [12240.0, 30.0, 'Sleep stage N3'], [12270.0, 30.0, 'Sleep stage N3'], [12300.0, 30.0, 'Sleep stage N3'], [12330.0, 30.0, 'Sleep stage N3'], [12360.0, 30.0, 'Sleep stage N3'], [12390.0, 30.0, 'Sleep stage N3'], [12420.0, 30.0, 'Sleep stage N3'], [12450.0, 30.0, 'Sleep stage N3'], [12480.0, 30.0, 'Sleep stage N3'], [12510.0, 30.0, 'Sleep stage N3'], [12540.0, 30.0, 'Sleep stage N3'], [12570.0, 30.0, 'Sleep stage N3'], [12600.0, 30.0, 'Sleep stage N3'], [12630.0, 30.0, 'Sleep stage N3'], [12660.0, 30.0, 'Sleep stage N3'], [12690.0, 30.0, 'Sleep stage N1'], [12720.0, 30.0, 'Sleep stage N2'], [12750.0, 30.0, 'Sleep stage N2'], [12780.0, 30.0, 'Sleep stage N2'], [12810.0, 30.0, 'Sleep stage N2'], [12840.0, 30.0, 'Sleep stage N2'], [12870.0, 30.0, 'Sleep stage N2'], [12900.0, 30.0, 'Sleep stage N2'], [12930.0, 30.0, 'Sleep stage N2'], [12960.0, 30.0, 'Sleep stage N2'], [12990.0, 30.0, 'Sleep stage N2'], [13020.0, 30.0, 'Sleep stage N2'], [13050.0, 30.0, 'Sleep stage N2'], [13080.0, 30.0, 'Sleep stage N2'], [13110.0, 30.0, 'Sleep stage N2'], [13140.0, 30.0, 'Sleep stage N2'], [13170.0, 30.0, 'Sleep stage N2'], [13200.0, 30.0, 'Sleep stage N2'], [13230.0, 30.0, 'Sleep stage N2'], [13260.0, 30.0, 'Sleep stage N2'], [13290.0, 30.0, 'Sleep stage N2'], [13320.0, 30.0, 'Sleep stage N2'], [13350.0, 30.0, 'Sleep stage N2'], [13380.0, 30.0, 'Sleep stage N2'], [13410.0, 30.0, 'Sleep stage N2'], [13440.0, 30.0, 'Sleep stage N2'], [13470.0, 30.0, 'Sleep stage N2'], [13500.0, 30.0, 'Sleep stage N2'], [13530.0, 30.0, 'Sleep stage N2'], [13560.0, 30.0, 'Sleep stage N2'], [13590.0, 30.0, 'Sleep stage N2'], [13620.0, 30.0, 'Sleep stage N2'], [13650.0, 30.0, 'Sleep stage N2'], [13680.0, 30.0, 'Sleep stage N2'], [13710.0, 30.0, 'Sleep stage N2'], [13740.0, 30.0, 'Sleep stage N1'], [13770.0, 30.0, 'Sleep stage N1'], [13800.0, 30.0, 'Sleep stage N1'], [13830.0, 30.0, 'Sleep stage N2'], [13860.0, 30.0, 'Sleep stage N1'], [13890.0, 30.0, 'Sleep stage N1'], [13920.0, 30.0, 'Sleep stage N1'], [13950.0, 30.0, 'Sleep stage N2'], [13980.0, 30.0, 'Sleep stage N1'], [14010.0, 30.0, 'Sleep stage N1'], [14040.0, 30.0, 'Sleep stage N1'], [14070.0, 30.0, 'Sleep stage N1'], [14100.0, 30.0, 'Sleep stage R'], [14130.0, 30.0, 'Sleep stage R'], [14160.0, 30.0, 'Sleep stage R'], [14190.0, 30.0, 'Sleep stage R'], [14220.0, 30.0, 'Sleep stage N1'], [14250.0, 30.0, 'Sleep stage R'], [14280.0, 30.0, 'Sleep stage R'], [14310.0, 30.0, 'Sleep stage R'], [14340.0, 30.0, 'Sleep stage R'], [14370.0, 30.0, 'Sleep stage N1'], [14400.0, 30.0, 'Sleep stage R'], [14430.0, 30.0, 'Sleep stage R'], [14460.0, 30.0, 'Sleep stage R'], [14490.0, 30.0, 'Sleep stage R'], [14520.0, 30.0, 'Sleep stage R'], [14550.0, 30.0, 'Sleep stage R'], [14580.0, 30.0, 'Sleep stage R'], [14610.0, 30.0, 'Sleep stage R'], [14640.0, 30.0, 'Sleep stage R'], [14670.0, 30.0, 'Sleep stage R'], [14700.0, 30.0, 'Sleep stage R'], [14730.0, 30.0, 'Sleep stage R'], [14760.0, 30.0, 'Sleep stage R'], [14790.0, 30.0, 'Sleep stage R'], [14820.0, 30.0, 'Sleep stage R'], [14850.0, 30.0, 'Sleep stage R'], [14880.0, 30.0, 'Sleep stage R'], [14910.0, 30.0, 'Sleep stage R'], [14940.0, 30.0, 'Sleep stage R'], [14970.0, 30.0, 'Sleep stage R'], [15000.0, 30.0, 'Sleep stage N1'], [15030.0, 30.0, 'Sleep stage R'], [15060.0, 30.0, 'Sleep stage R'], [15090.0, 30.0, 'Sleep stage R'], [15120.0, 30.0, 'Sleep stage W'], [15150.0, 30.0, 'Sleep stage N1'], [15180.0, 30.0, 'Sleep stage N1'], [15210.0, 30.0, 'Sleep stage N1'], [15240.0, 30.0, 'Sleep stage N1'], [15270.0, 30.0, 'Sleep stage N1'], [15300.0, 30.0, 'Sleep stage N1'], [15330.0, 30.0, 'Sleep stage N1'], [15360.0, 30.0, 'Sleep stage N1'], [15390.0, 30.0, 'Sleep stage N1'], [15420.0, 30.0, 'Sleep stage R'], [15450.0, 30.0, 'Sleep stage R'], [15480.0, 30.0, 'Sleep stage N1'], [15510.0, 30.0, 'Sleep stage R'], [15540.0, 30.0, 'Sleep stage N1'], [15570.0, 30.0, 'Sleep stage N1'], [15600.0, 30.0, 'Sleep stage R'], [15630.0, 30.0, 'Sleep stage N1'], [15660.0, 30.0, 'Sleep stage N1'], [15690.0, 30.0, 'Sleep stage N2'], [15720.0, 30.0, 'Sleep stage N2'], [15750.0, 30.0, 'Sleep stage N1'], [15780.0, 30.0, 'Sleep stage W'], [15810.0, 30.0, 'Sleep stage N1'], [15840.0, 30.0, 'Sleep stage N2'], [15870.0, 30.0, 'Sleep stage N2'], [15900.0, 30.0, 'Sleep stage N2'], [15930.0, 30.0, 'Sleep stage N2'], [15960.0, 30.0, 'Sleep stage N2'], [15990.0, 30.0, 'Sleep stage N1'], [16020.0, 30.0, 'Sleep stage N1'], [16050.0, 30.0, 'Sleep stage N2'], [16080.0, 30.0, 'Sleep stage N1'], [16110.0, 30.0, 'Sleep stage N1'], [16140.0, 30.0, 'Sleep stage N1'], [16170.0, 30.0, 'Sleep stage N1'], [16200.0, 30.0, 'Sleep stage N1'], [16230.0, 30.0, 'Sleep stage N2'], [16260.0, 30.0, 'Sleep stage N2'], [16290.0, 30.0, 'Sleep stage N1'], [16320.0, 30.0, 'Sleep stage N2'], [16350.0, 30.0, 'Sleep stage N1'], [16380.0, 30.0, 'Sleep stage N1'], [16410.0, 30.0, 'Sleep stage N1'], [16440.0, 30.0, 'Sleep stage N2'], [16470.0, 30.0, 'Sleep stage N2'], [16500.0, 30.0, 'Sleep stage N2'], [16530.0, 30.0, 'Sleep stage N1'], [16560.0, 30.0, 'Sleep stage N1'], [16590.0, 30.0, 'Sleep stage N2'], [16620.0, 30.0, 'Sleep stage N2'], [16650.0, 30.0, 'Sleep stage N2'], [16680.0, 30.0, 'Sleep stage N2'], [16710.0, 30.0, 'Sleep stage W'], [16740.0, 30.0, 'Sleep stage W'], [16770.0, 30.0, 'Sleep stage W'], [16800.0, 30.0, 'Sleep stage N1'], [16830.0, 30.0, 'Sleep stage N1'], [16860.0, 30.0, 'Sleep stage N1'], [16890.0, 30.0, 'Sleep stage N1'], [16920.0, 30.0, 'Sleep stage N1'], [16950.0, 30.0, 'Sleep stage N1'], [16980.0, 30.0, 'Sleep stage N1'], [17010.0, 30.0, 'Sleep stage N1'], [17040.0, 30.0, 'Sleep stage N1'], [17070.0, 30.0, 'Sleep stage N2'], [17100.0, 30.0, 'Sleep stage N1'], [17130.0, 30.0, 'Sleep stage N1'], [17160.0, 30.0, 'Sleep stage N1'], [17190.0, 30.0, 'Sleep stage N1'], [17220.0, 30.0, 'Sleep stage N2'], [17250.0, 30.0, 'Sleep stage N2'], [17280.0, 30.0, 'Sleep stage N2'], [17310.0, 30.0, 'Sleep stage N2'], [17340.0, 30.0, 'Sleep stage N2'], [17370.0, 30.0, 'Sleep stage N2'], [17400.0, 30.0, 'Sleep stage N2'], [17430.0, 30.0, 'Sleep stage N2'], [17460.0, 30.0, 'Sleep stage N2'], [17490.0, 30.0, 'Sleep stage N2'], [17520.0, 30.0, 'Sleep stage N2'], [17550.0, 30.0, 'Sleep stage N2'], [17580.0, 30.0, 'Sleep stage N2'], [17610.0, 30.0, 'Sleep stage N2'], [17640.0, 30.0, 'Sleep stage N2'], [17670.0, 30.0, 'Sleep stage N1'], [17700.0, 30.0, 'Sleep stage N1'], [17730.0, 30.0, 'Sleep stage N1'], [17760.0, 30.0, 'Sleep stage N1'], [17790.0, 30.0, 'Sleep stage N1'], [17820.0, 30.0, 'Sleep stage N2'], [17850.0, 30.0, 'Sleep stage N2'], [17880.0, 30.0, 'Sleep stage N2'], [17910.0, 30.0, 'Sleep stage N1'], [17940.0, 30.0, 'Sleep stage N1'], [17970.0, 30.0, 'Sleep stage N2'], [18000.0, 30.0, 'Sleep stage N1'], [18030.0, 30.0, 'Sleep stage N1'], [18060.0, 30.0, 'Sleep stage N1'], [18090.0, 30.0, 'Sleep stage N1'], [18120.0, 30.0, 'Sleep stage N1'], [18150.0, 30.0, 'Sleep stage N2'], [18180.0, 30.0, 'Sleep stage N2'], [18210.0, 30.0, 'Sleep stage N2'], [18240.0, 30.0, 'Sleep stage N2'], [18270.0, 30.0, 'Sleep stage N2'], [18300.0, 30.0, 'Sleep stage N2'], [18330.0, 30.0, 'Sleep stage N2'], [18360.0, 30.0, 'Sleep stage N2'], [18390.0, 30.0, 'Sleep stage N2'], [18420.0, 30.0, 'Sleep stage N2'], [18450.0, 30.0, 'Sleep stage N2'], [18480.0, 30.0, 'Sleep stage N2'], [18510.0, 30.0, 'Sleep stage N2'], [18540.0, 30.0, 'Sleep stage N2'], [18570.0, 30.0, 'Sleep stage N2'], [18600.0, 30.0, 'Sleep stage N2'], [18630.0, 30.0, 'Sleep stage N2'], [18660.0, 30.0, 'Sleep stage N2'], [18690.0, 30.0, 'Sleep stage N2'], [18720.0, 30.0, 'Sleep stage N2'], [18750.0, 30.0, 'Sleep stage N3'], [18780.0, 30.0, 'Sleep stage N2'], [18810.0, 30.0, 'Sleep stage N3'], [18840.0, 30.0, 'Sleep stage N3'], [18870.0, 30.0, 'Sleep stage N3'], [18900.0, 30.0, 'Sleep stage N3'], [18930.0, 30.0, 'Sleep stage N1'], [18960.0, 30.0, 'Sleep stage N1'], [18990.0, 30.0, 'Sleep stage N2'], [19020.0, 30.0, 'Sleep stage N2'], [19050.0, 30.0, 'Sleep stage N2'], [19080.0, 30.0, 'Sleep stage N2'], [19110.0, 30.0, 'Sleep stage N2'], [19140.0, 30.0, 'Sleep stage N2'], [19170.0, 30.0, 'Sleep stage N2'], [19200.0, 30.0, 'Sleep stage N2'], [19230.0, 30.0, 'Sleep stage N2'], [19260.0, 30.0, 'Sleep stage N2'], [19290.0, 30.0, 'Sleep stage N1'], [19320.0, 30.0, 'Sleep stage N1'], [19350.0, 30.0, 'Sleep stage W'], [19380.0, 30.0, 'Sleep stage N1'], [19410.0, 30.0, 'Sleep stage N1'], [19440.0, 30.0, 'Sleep stage N1'], [19470.0, 30.0, 'Sleep stage N2'], [19500.0, 30.0, 'Sleep stage N2'], [19530.0, 30.0, 'Sleep stage N2'], [19560.0, 30.0, 'Sleep stage N1'], [19590.0, 30.0, 'Sleep stage N2'], [19620.0, 30.0, 'Sleep stage R'], [19650.0, 30.0, 'Sleep stage R'], [19680.0, 30.0, 'Sleep stage R'], [19710.0, 30.0, 'Sleep stage N1'], [19740.0, 30.0, 'Sleep stage R'], [19770.0, 30.0, 'Sleep stage R'], [19800.0, 30.0, 'Sleep stage R'], [19830.0, 30.0, 'Sleep stage R'], [19860.0, 30.0, 'Sleep stage R'], [19890.0, 30.0, 'Sleep stage R'], [19920.0, 30.0, 'Sleep stage R'], [19950.0, 30.0, 'Sleep stage R'], [19980.0, 30.0, 'Sleep stage R'], [20010.0, 30.0, 'Sleep stage R'], [20040.0, 30.0, 'Sleep stage R'], [20070.0, 30.0, 'Sleep stage N1'], [20100.0, 30.0, 'Sleep stage N1'], [20130.0, 30.0, 'Sleep stage N1'], [20160.0, 30.0, 'Sleep stage R'], [20190.0, 30.0, 'Sleep stage R'], [20220.0, 30.0, 'Sleep stage N1'], [20250.0, 30.0, 'Sleep stage R'], [20280.0, 30.0, 'Sleep stage R'], [20310.0, 30.0, 'Sleep stage N1'], [20340.0, 30.0, 'Sleep stage R'], [20370.0, 30.0, 'Sleep stage R'], [20400.0, 30.0, 'Sleep stage N1'], [20430.0, 30.0, 'Sleep stage N1'], [20460.0, 30.0, 'Sleep stage R'], [20490.0, 30.0, 'Sleep stage R'], [20520.0, 30.0, 'Sleep stage N1'], [20550.0, 30.0, 'Sleep stage R'], [20580.0, 30.0, 'Sleep stage R'], [20610.0, 30.0, 'Sleep stage N1'], [20640.0, 30.0, 'Sleep stage N1'], [20670.0, 30.0, 'Sleep stage R'], [20700.0, 30.0, 'Sleep stage R'], [20730.0, 30.0, 'Sleep stage N1'], [20760.0, 30.0, 'Sleep stage N1'], [20790.0, 30.0, 'Sleep stage R'], [20820.0, 30.0, 'Sleep stage W'], [20850.0, 30.0, 'Sleep stage N1'], [20880.0, 30.0, 'Sleep stage N1'], [20910.0, 30.0, 'Sleep stage N1'], [20940.0, 30.0, 'Sleep stage N1'], [20970.0, 30.0, 'Sleep stage N1'], [21000.0, 30.0, 'Sleep stage R'], [21030.0, 30.0, 'Sleep stage R'], [21060.0, 30.0, 'Sleep stage N1'], [21090.0, 30.0, 'Sleep stage N2'], [21120.0, 30.0, 'Sleep stage N2'], [21150.0, 30.0, 'Sleep stage N2'], [21180.0, 30.0, 'Sleep stage N2'], [21210.0, 30.0, 'Sleep stage N2'], [21240.0, 30.0, 'Sleep stage N2'], [21270.0, 30.0, 'Sleep stage N2'], [21300.0, 30.0, 'Sleep stage N2'], [21330.0, 30.0, 'Sleep stage N2'], [21360.0, 30.0, 'Sleep stage N3'], [21390.0, 30.0, 'Sleep stage N3'], [21420.0, 30.0, 'Sleep stage N3'], [21450.0, 30.0, 'Sleep stage N3'], [21480.0, 30.0, 'Sleep stage N3'], [21510.0, 30.0, 'Sleep stage N3'], [21540.0, 30.0, 'Sleep stage N3'], [21570.0, 30.0, 'Sleep stage N3'], [21600.0, 30.0, 'Sleep stage N3'], [21630.0, 30.0, 'Sleep stage N3'], [21660.0, 30.0, 'Sleep stage N3'], [21690.0, 30.0, 'Sleep stage N3'], [21720.0, 30.0, 'Sleep stage N3'], [21750.0, 30.0, 'Sleep stage N3'], [21780.0, 30.0, 'Sleep stage N3'], [21810.0, 30.0, 'Sleep stage N3'], [21840.0, 30.0, 'Sleep stage N3'], [21870.0, 30.0, 'Sleep stage N3'], [21900.0, 30.0, 'Sleep stage N3'], [21930.0, 30.0, 'Sleep stage N3'], [21960.0, 30.0, 'Sleep stage N3'], [21990.0, 30.0, 'Sleep stage N3'], [22020.0, 30.0, 'Sleep stage N2'], [22050.0, 30.0, 'Sleep stage N2'], [22080.0, 30.0, 'Sleep stage N1'], [22110.0, 30.0, 'Sleep stage N1'], [22140.0, 30.0, 'Sleep stage N1'], [22170.0, 30.0, 'Sleep stage N1'], [22200.0, 30.0, 'Sleep stage N1'], [22230.0, 30.0, 'Sleep stage W'], [22260.0, 30.0, 'Sleep stage W'], [22290.0, 30.0, 'Sleep stage N1'], [22320.0, 30.0, 'Sleep stage N1'], [22350.0, 30.0, 'Sleep stage N1'], [22380.0, 30.0, 'Sleep stage N1'], [22410.0, 30.0, 'Sleep stage W'], [22440.0, 30.0, 'Sleep stage W'], [22470.0, 30.0, 'Sleep stage W'], [22500.0, 30.0, 'Sleep stage W'], [22530.0, 30.0, 'Sleep stage W'], [22560.0, 30.0, 'Sleep stage W'], [22590.0, 30.0, 'Sleep stage W'], [22620.0, 30.0, 'Sleep stage N1'], [22650.0, 30.0, 'Sleep stage N1'], [22680.0, 30.0, 'Sleep stage N1'], [22710.0, 30.0, 'Sleep stage W'], [22740.0, 30.0, 'Sleep stage W'], [22770.0, 30.0, 'Sleep stage W'], [22800.0, 30.0, 'Sleep stage W'], [22830.0, 30.0, 'Sleep stage N1'], [22860.0, 30.0, 'Sleep stage W'], [22890.0, 30.0, 'Sleep stage N1'], [22920.0, 30.0, 'Sleep stage N1'], [22950.0, 30.0, 'Sleep stage W'], [22980.0, 30.0, 'Sleep stage W'], [23010.0, 30.0, 'Sleep stage W'], [23040.0, 30.0, 'Sleep stage W'], [23070.0, 30.0, 'Sleep stage N1'], [23100.0, 30.0, 'Sleep stage N1'], [23130.0, 30.0, 'Sleep stage N1'], [23159.7, 0.0, 'Lights on@@SaO2'], [23160.0, 30.0, 'Sleep stage W']]\n",
            "Sleep stage W\n"
          ]
        }
      ]
    },
    {
      "cell_type": "code",
      "source": [
        "signals, _, signals_header = highlevel.read_edf(trains[27],ch_names='ECG')\n",
        "print(f'signals={signals}')\n",
        "print(f'label={label}')\n",
        "print(len(signals[0]))\n",
        "signals_len = len(signals[0]) // 256 // 30 #전체 진폭데이터를 초당 256HZ로 샘플링 되었으니까 나누게 되면 이 기록데이터 하나의 시간이 나오고 그걸 30초로 나누면 한 기록데이터에서 30초 단위의 데이터가 몇개 나오는지 알 수 있다.\n",
        "annotations_len = len(label)\n",
        "print(f'signals_len : {signals_len}')\n",
        "print(f'annotations_len : {annotations_len}')\n",
        "print(signals_header['startdate'])\n",
        "print(annotations_header['startdate'])\n",
        "signals = np.array(signals)\n",
        "print(trains[27])"
      ],
      "metadata": {
        "colab": {
          "base_uri": "https://localhost:8080/"
        },
        "id": "ZLDekurgzujX",
        "outputId": "552ceac4-ae6b-4f25-8982-462623274f29"
      },
      "execution_count": null,
      "outputs": [
        {
          "output_type": "stream",
          "name": "stdout",
          "text": [
            "signals=[[-4.95161364e+02 -3.51604486e+02 -2.39322499e+02 ... -3.66216526e-02\n",
            "  -3.66216526e-02 -3.66216526e-02]]\n",
            "label=['Sleep stage W', 'Sleep stage W', 'Sleep stage W', 'Sleep stage W', 'Sleep stage W', 'Sleep stage W', 'Sleep stage W', 'Sleep stage W', 'Sleep stage W', 'Sleep stage W', 'Sleep stage W', 'Sleep stage W', 'Sleep stage W', 'Sleep stage W', 'Sleep stage W', 'Sleep stage W', 'Sleep stage W', 'Sleep stage W', 'Sleep stage W', 'Sleep stage W', 'Sleep stage W', 'Sleep stage W', 'Sleep stage W', 'Sleep stage W', 'Sleep stage N1', 'Sleep stage W', 'Sleep stage W', 'Sleep stage W', 'Sleep stage W', 'Sleep stage W', 'Sleep stage W', 'Sleep stage W', 'Sleep stage W', 'Sleep stage N1', 'Sleep stage N1', 'Sleep stage N1', 'Sleep stage N1', 'Sleep stage N1', 'Sleep stage N1', 'Sleep stage N1', 'Sleep stage N1', 'Sleep stage N1', 'Sleep stage N1', 'Sleep stage N2', 'Sleep stage N1', 'Sleep stage W', 'Sleep stage W', 'Sleep stage N1', 'Sleep stage N1', 'Sleep stage N1', 'Sleep stage N2', 'Sleep stage N1', 'Sleep stage N2', 'Sleep stage N2', 'Sleep stage N2', 'Sleep stage N2', 'Sleep stage N2', 'Sleep stage N2', 'Sleep stage N2', 'Sleep stage N2', 'Sleep stage N2', 'Sleep stage N2', 'Sleep stage N2', 'Sleep stage N2', 'Sleep stage N2', 'Sleep stage N2', 'Sleep stage N2', 'Sleep stage N2', 'Sleep stage N2', 'Sleep stage N3', 'Sleep stage N3', 'Sleep stage N3', 'Sleep stage N3', 'Sleep stage N3', 'Sleep stage N3', 'Sleep stage N3', 'Sleep stage N3', 'Sleep stage N1', 'Sleep stage N2', 'Sleep stage N2', 'Sleep stage N2', 'Sleep stage N2', 'Sleep stage N2', 'Sleep stage N2', 'Sleep stage N2', 'Sleep stage N1', 'Sleep stage W', 'Sleep stage N1', 'Sleep stage N1', 'Sleep stage N1', 'Sleep stage N2', 'Sleep stage N1', 'Sleep stage N2', 'Sleep stage N2', 'Sleep stage N2', 'Sleep stage N2', 'Sleep stage N2', 'Sleep stage N2', 'Sleep stage N2', 'Sleep stage N2', 'Sleep stage N2', 'Sleep stage N3', 'Sleep stage N3', 'Sleep stage N3', 'Sleep stage N3', 'Sleep stage N3', 'Sleep stage N3', 'Sleep stage N3', 'Sleep stage N3', 'Sleep stage N3', 'Sleep stage N3', 'Sleep stage N3', 'Sleep stage N3', 'Sleep stage N3', 'Sleep stage N3', 'Sleep stage N3', 'Sleep stage N3', 'Sleep stage N3', 'Sleep stage N3', 'Sleep stage N3', 'Sleep stage N3', 'Sleep stage N3', 'Sleep stage N3', 'Sleep stage N3', 'Sleep stage N3', 'Sleep stage N3', 'Sleep stage N3', 'Sleep stage N3', 'Sleep stage N3', 'Sleep stage N3', 'Sleep stage R', 'Sleep stage R', 'Sleep stage R', 'Sleep stage R', 'Sleep stage N1', 'Sleep stage N1', 'Sleep stage N1', 'Sleep stage W', 'Sleep stage N1', 'Sleep stage R', 'Sleep stage R', 'Sleep stage R', 'Sleep stage R', 'Sleep stage N1', 'Sleep stage N1', 'Sleep stage N1', 'Sleep stage N1', 'Sleep stage N1', 'Sleep stage N1', 'Sleep stage R', 'Sleep stage R', 'Sleep stage N1', 'Sleep stage N1', 'Sleep stage N1', 'Sleep stage N1', 'Sleep stage N1', 'Sleep stage R', 'Sleep stage N1', 'Sleep stage N1', 'Sleep stage R', 'Sleep stage R', 'Sleep stage N1', 'Sleep stage N1', 'Sleep stage N1', 'Sleep stage R', 'Sleep stage N1', 'Sleep stage R', 'Sleep stage R', 'Sleep stage N1', 'Sleep stage N1', 'Sleep stage N1', 'Sleep stage N1', 'Sleep stage N1', 'Sleep stage N1', 'Sleep stage W', 'Sleep stage N1', 'Sleep stage N1', 'Sleep stage N1', 'Sleep stage N1', 'Sleep stage N1', 'Sleep stage N2', 'Sleep stage N2', 'Sleep stage N2', 'Sleep stage N2', 'Sleep stage N2', 'Sleep stage N2', 'Sleep stage N2', 'Sleep stage N2', 'Sleep stage N2', 'Sleep stage W', 'Sleep stage W', 'Sleep stage W', 'Sleep stage N1', 'Sleep stage W', 'Sleep stage W', 'Sleep stage N1', 'Sleep stage N2', 'Sleep stage N2', 'Sleep stage N1', 'Sleep stage N2', 'Sleep stage N2', 'Sleep stage N2', 'Sleep stage N2', 'Sleep stage N2', 'Sleep stage N2', 'Sleep stage N2', 'Sleep stage N2', 'Sleep stage N2', 'Sleep stage N2', 'Sleep stage N2', 'Sleep stage N2', 'Sleep stage N2', 'Sleep stage N2', 'Sleep stage N2', 'Sleep stage N2', 'Sleep stage N2', 'Sleep stage N2', 'Sleep stage N3', 'Sleep stage N3', 'Sleep stage N3', 'Sleep stage N3', 'Sleep stage N3', 'Sleep stage N3', 'Sleep stage N3', 'Sleep stage N3', 'Sleep stage N3', 'Sleep stage N3', 'Sleep stage N3', 'Sleep stage N3', 'Sleep stage N3', 'Sleep stage N3', 'Sleep stage N3', 'Sleep stage N3', 'Sleep stage N3', 'Sleep stage N3', 'Sleep stage N3', 'Sleep stage N3', 'Sleep stage N3', 'Sleep stage N3', 'Sleep stage N2', 'Sleep stage N3', 'Sleep stage N2', 'Sleep stage N1', 'Sleep stage W', 'Sleep stage N1', 'Sleep stage N1', 'Sleep stage N1', 'Sleep stage N1', 'Sleep stage N2', 'Sleep stage N2', 'Sleep stage N1', 'Sleep stage N1', 'Sleep stage W', 'Sleep stage N1', 'Sleep stage N1', 'Sleep stage N1', 'Sleep stage N1', 'Sleep stage N2', 'Sleep stage N2', 'Sleep stage N2', 'Sleep stage N2', 'Sleep stage N2', 'Sleep stage N2', 'Sleep stage N2', 'Sleep stage N2', 'Sleep stage N2', 'Sleep stage N2', 'Sleep stage N2', 'Sleep stage W', 'Sleep stage N1', 'Sleep stage N1', 'Sleep stage N2', 'Sleep stage N2', 'Sleep stage N2', 'Sleep stage N1', 'Sleep stage N2', 'Sleep stage N2', 'Sleep stage N2', 'Sleep stage N3', 'Sleep stage N3', 'Sleep stage N3', 'Sleep stage N3', 'Sleep stage N1', 'Sleep stage N1', 'Sleep stage N2', 'Sleep stage N2', 'Sleep stage N3', 'Sleep stage N3', 'Sleep stage N3', 'Sleep stage N3', 'Sleep stage N3', 'Sleep stage N3', 'Sleep stage N3', 'Sleep stage N3', 'Sleep stage N3', 'Sleep stage N1', 'Sleep stage N1', 'Sleep stage N2', 'Sleep stage N1', 'Sleep stage N2', 'Sleep stage N2', 'Sleep stage N1', 'Sleep stage N2', 'Sleep stage N2', 'Sleep stage N2', 'Sleep stage N1', 'Sleep stage R', 'Sleep stage R', 'Sleep stage R', 'Sleep stage R', 'Sleep stage N1', 'Sleep stage R', 'Sleep stage R', 'Sleep stage N1', 'Sleep stage N1', 'Sleep stage N1', 'Sleep stage R', 'Sleep stage N1', 'Sleep stage R', 'Sleep stage N1', 'Sleep stage R', 'Sleep stage R', 'Sleep stage N1', 'Sleep stage R', 'Sleep stage N1', 'Sleep stage N1', 'Sleep stage R', 'Sleep stage R', 'Sleep stage N1', 'Sleep stage R', 'Sleep stage R', 'Sleep stage N1', 'Sleep stage R', 'Sleep stage R', 'Sleep stage R', 'Sleep stage R', 'Sleep stage R', 'Sleep stage R', 'Sleep stage R', 'Sleep stage N1', 'Sleep stage R', 'Sleep stage R', 'Sleep stage N1', 'Sleep stage R', 'Sleep stage R', 'Sleep stage N1', 'Sleep stage R', 'Sleep stage R', 'Sleep stage N1', 'Sleep stage R', 'Sleep stage R', 'Sleep stage W', 'Sleep stage N1', 'Sleep stage N1', 'Sleep stage R', 'Sleep stage N1', 'Sleep stage R', 'Sleep stage R', 'Sleep stage N1', 'Sleep stage R', 'Sleep stage W', 'Sleep stage W', 'Sleep stage N1', 'Sleep stage N1', 'Sleep stage N1', 'Sleep stage N1', 'Sleep stage N1', 'Sleep stage N1', 'Sleep stage N2', 'Sleep stage N2', 'Sleep stage N2', 'Sleep stage N1', 'Sleep stage N1', 'Sleep stage N1', 'Sleep stage N2', 'Sleep stage N2', 'Sleep stage N2', 'Sleep stage N2', 'Sleep stage N2', 'Sleep stage N2', 'Sleep stage N2', 'Sleep stage N2', 'Sleep stage N2', 'Sleep stage N2', 'Sleep stage N2', 'Sleep stage N2', 'Sleep stage N2', 'Sleep stage N2', 'Sleep stage N2', 'Sleep stage N2', 'Sleep stage N2', 'Sleep stage N2', 'Sleep stage N2', 'Sleep stage N2', 'Sleep stage N3', 'Sleep stage N3', 'Sleep stage N3', 'Sleep stage N3', 'Sleep stage N3', 'Sleep stage N3', 'Sleep stage N3', 'Sleep stage N3', 'Sleep stage N3', 'Sleep stage N3', 'Sleep stage N3', 'Sleep stage N3', 'Sleep stage N3', 'Sleep stage N3', 'Sleep stage N3', 'Sleep stage N3', 'Sleep stage N3', 'Sleep stage N3', 'Sleep stage N3', 'Sleep stage N3', 'Sleep stage N3', 'Sleep stage N3', 'Sleep stage N3', 'Sleep stage N3', 'Sleep stage N3', 'Sleep stage N3', 'Sleep stage N3', 'Sleep stage N3', 'Sleep stage N3', 'Sleep stage N1', 'Sleep stage N2', 'Sleep stage N2', 'Sleep stage N2', 'Sleep stage N2', 'Sleep stage N2', 'Sleep stage N2', 'Sleep stage N2', 'Sleep stage N2', 'Sleep stage N2', 'Sleep stage N2', 'Sleep stage N2', 'Sleep stage N2', 'Sleep stage N2', 'Sleep stage N2', 'Sleep stage N2', 'Sleep stage N2', 'Sleep stage N2', 'Sleep stage N2', 'Sleep stage N2', 'Sleep stage N2', 'Sleep stage N2', 'Sleep stage N2', 'Sleep stage N2', 'Sleep stage N2', 'Sleep stage N2', 'Sleep stage N2', 'Sleep stage N2', 'Sleep stage N2', 'Sleep stage N2', 'Sleep stage N2', 'Sleep stage N2', 'Sleep stage N2', 'Sleep stage N2', 'Sleep stage N2', 'Sleep stage N1', 'Sleep stage N1', 'Sleep stage N1', 'Sleep stage N2', 'Sleep stage N1', 'Sleep stage N1', 'Sleep stage N1', 'Sleep stage N2', 'Sleep stage N1', 'Sleep stage N1', 'Sleep stage N1', 'Sleep stage N1', 'Sleep stage R', 'Sleep stage R', 'Sleep stage R', 'Sleep stage R', 'Sleep stage N1', 'Sleep stage R', 'Sleep stage R', 'Sleep stage R', 'Sleep stage R', 'Sleep stage N1', 'Sleep stage R', 'Sleep stage R', 'Sleep stage R', 'Sleep stage R', 'Sleep stage R', 'Sleep stage R', 'Sleep stage R', 'Sleep stage R', 'Sleep stage R', 'Sleep stage R', 'Sleep stage R', 'Sleep stage R', 'Sleep stage R', 'Sleep stage R', 'Sleep stage R', 'Sleep stage R', 'Sleep stage R', 'Sleep stage R', 'Sleep stage R', 'Sleep stage R', 'Sleep stage N1', 'Sleep stage R', 'Sleep stage R', 'Sleep stage R', 'Sleep stage W', 'Sleep stage N1', 'Sleep stage N1', 'Sleep stage N1', 'Sleep stage N1', 'Sleep stage N1', 'Sleep stage N1', 'Sleep stage N1', 'Sleep stage N1', 'Sleep stage N1', 'Sleep stage R', 'Sleep stage R', 'Sleep stage N1', 'Sleep stage R', 'Sleep stage N1', 'Sleep stage N1', 'Sleep stage R', 'Sleep stage N1', 'Sleep stage N1', 'Sleep stage N2', 'Sleep stage N2', 'Sleep stage N1', 'Sleep stage W', 'Sleep stage N1', 'Sleep stage N2', 'Sleep stage N2', 'Sleep stage N2', 'Sleep stage N2', 'Sleep stage N2', 'Sleep stage N1', 'Sleep stage N1', 'Sleep stage N2', 'Sleep stage N1', 'Sleep stage N1', 'Sleep stage N1', 'Sleep stage N1', 'Sleep stage N1', 'Sleep stage N2', 'Sleep stage N2', 'Sleep stage N1', 'Sleep stage N2', 'Sleep stage N1', 'Sleep stage N1', 'Sleep stage N1', 'Sleep stage N2', 'Sleep stage N2', 'Sleep stage N2', 'Sleep stage N1', 'Sleep stage N1', 'Sleep stage N2', 'Sleep stage N2', 'Sleep stage N2', 'Sleep stage N2', 'Sleep stage W', 'Sleep stage W', 'Sleep stage W', 'Sleep stage N1', 'Sleep stage N1', 'Sleep stage N1', 'Sleep stage N1', 'Sleep stage N1', 'Sleep stage N1', 'Sleep stage N1', 'Sleep stage N1', 'Sleep stage N1', 'Sleep stage N2', 'Sleep stage N1', 'Sleep stage N1', 'Sleep stage N1', 'Sleep stage N1', 'Sleep stage N2', 'Sleep stage N2', 'Sleep stage N2', 'Sleep stage N2', 'Sleep stage N2', 'Sleep stage N2', 'Sleep stage N2', 'Sleep stage N2', 'Sleep stage N2', 'Sleep stage N2', 'Sleep stage N2', 'Sleep stage N2', 'Sleep stage N2', 'Sleep stage N2', 'Sleep stage N2', 'Sleep stage N1', 'Sleep stage N1', 'Sleep stage N1', 'Sleep stage N1', 'Sleep stage N1', 'Sleep stage N2', 'Sleep stage N2', 'Sleep stage N2', 'Sleep stage N1', 'Sleep stage N1', 'Sleep stage N2', 'Sleep stage N1', 'Sleep stage N1', 'Sleep stage N1', 'Sleep stage N1', 'Sleep stage N1', 'Sleep stage N2', 'Sleep stage N2', 'Sleep stage N2', 'Sleep stage N2', 'Sleep stage N2', 'Sleep stage N2', 'Sleep stage N2', 'Sleep stage N2', 'Sleep stage N2', 'Sleep stage N2', 'Sleep stage N2', 'Sleep stage N2', 'Sleep stage N2', 'Sleep stage N2', 'Sleep stage N2', 'Sleep stage N2', 'Sleep stage N2', 'Sleep stage N2', 'Sleep stage N2', 'Sleep stage N2', 'Sleep stage N3', 'Sleep stage N2', 'Sleep stage N3', 'Sleep stage N3', 'Sleep stage N3', 'Sleep stage N3', 'Sleep stage N1', 'Sleep stage N1', 'Sleep stage N2', 'Sleep stage N2', 'Sleep stage N2', 'Sleep stage N2', 'Sleep stage N2', 'Sleep stage N2', 'Sleep stage N2', 'Sleep stage N2', 'Sleep stage N2', 'Sleep stage N2', 'Sleep stage N1', 'Sleep stage N1', 'Sleep stage W', 'Sleep stage N1', 'Sleep stage N1', 'Sleep stage N1', 'Sleep stage N2', 'Sleep stage N2', 'Sleep stage N2', 'Sleep stage N1', 'Sleep stage N2', 'Sleep stage R', 'Sleep stage R', 'Sleep stage R', 'Sleep stage N1', 'Sleep stage R', 'Sleep stage R', 'Sleep stage R', 'Sleep stage R', 'Sleep stage R', 'Sleep stage R', 'Sleep stage R', 'Sleep stage R', 'Sleep stage R', 'Sleep stage R', 'Sleep stage R', 'Sleep stage N1', 'Sleep stage N1', 'Sleep stage N1', 'Sleep stage R', 'Sleep stage R', 'Sleep stage N1', 'Sleep stage R', 'Sleep stage R', 'Sleep stage N1', 'Sleep stage R', 'Sleep stage R', 'Sleep stage N1', 'Sleep stage N1', 'Sleep stage R', 'Sleep stage R', 'Sleep stage N1', 'Sleep stage R', 'Sleep stage R', 'Sleep stage N1', 'Sleep stage N1', 'Sleep stage R', 'Sleep stage R', 'Sleep stage N1', 'Sleep stage N1', 'Sleep stage R', 'Sleep stage W', 'Sleep stage N1', 'Sleep stage N1', 'Sleep stage N1', 'Sleep stage N1', 'Sleep stage N1', 'Sleep stage R', 'Sleep stage R', 'Sleep stage N1', 'Sleep stage N2', 'Sleep stage N2', 'Sleep stage N2', 'Sleep stage N2', 'Sleep stage N2', 'Sleep stage N2', 'Sleep stage N2', 'Sleep stage N2', 'Sleep stage N2', 'Sleep stage N3', 'Sleep stage N3', 'Sleep stage N3', 'Sleep stage N3', 'Sleep stage N3', 'Sleep stage N3', 'Sleep stage N3', 'Sleep stage N3', 'Sleep stage N3', 'Sleep stage N3', 'Sleep stage N3', 'Sleep stage N3', 'Sleep stage N3', 'Sleep stage N3', 'Sleep stage N3', 'Sleep stage N3', 'Sleep stage N3', 'Sleep stage N3', 'Sleep stage N3', 'Sleep stage N3', 'Sleep stage N3', 'Sleep stage N3', 'Sleep stage N2', 'Sleep stage N2', 'Sleep stage N1', 'Sleep stage N1', 'Sleep stage N1', 'Sleep stage N1', 'Sleep stage N1', 'Sleep stage W', 'Sleep stage W', 'Sleep stage N1', 'Sleep stage N1', 'Sleep stage N1', 'Sleep stage N1', 'Sleep stage W', 'Sleep stage W', 'Sleep stage W', 'Sleep stage W', 'Sleep stage W', 'Sleep stage W', 'Sleep stage W', 'Sleep stage N1', 'Sleep stage N1', 'Sleep stage N1', 'Sleep stage W', 'Sleep stage W', 'Sleep stage W', 'Sleep stage W', 'Sleep stage N1', 'Sleep stage W', 'Sleep stage N1', 'Sleep stage N1', 'Sleep stage W', 'Sleep stage W', 'Sleep stage W', 'Sleep stage W', 'Sleep stage N1', 'Sleep stage N1', 'Sleep stage N1', 'Sleep stage W']\n",
            "5936896\n",
            "signals_len : 773\n",
            "annotations_len : 773\n",
            "2001-01-01 00:49:00\n",
            "2001-01-01 00:49:00\n",
            "/content/drive/MyDrive/physionet/HMC/hmc-sleep-staging/recordings/SN031.edf\n"
          ]
        }
      ]
    },
    {
      "cell_type": "markdown",
      "source": [
        "define custom dataloader"
      ],
      "metadata": {
        "id": "n9tVbt3ajkxw"
      }
    },
    {
      "cell_type": "code",
      "source": [
        "#custom dataloader"
      ],
      "metadata": {
        "id": "fLDjCrQOjhrp"
      },
      "execution_count": null,
      "outputs": []
    },
    {
      "cell_type": "markdown",
      "source": [
        "##keras timeseries classification "
      ],
      "metadata": {
        "id": "5NuUTJ_ObLPv"
      }
    },
    {
      "cell_type": "code",
      "source": [
        "from tensorflow import keras\n",
        "import tensorflow as tf\n",
        "import numpy as np\n",
        "import matplotlib.pyplot as plt\n",
        "#tensorflow.keras.utils.to_categorical"
      ],
      "metadata": {
        "id": "4IZRCA5bbgTp"
      },
      "execution_count": 15,
      "outputs": []
    },
    {
      "cell_type": "code",
      "source": [
        "x_train = np.array(Signals)\n",
        "del Signals\n",
        "y_train = np.array(Labels)\n",
        "del Labels"
      ],
      "metadata": {
        "id": "4UKd-RH2DNUE"
      },
      "execution_count": 16,
      "outputs": []
    },
    {
      "cell_type": "code",
      "source": [
        "num_classes = len(np.unique(y_train))\n",
        "print(num_classes)"
      ],
      "metadata": {
        "colab": {
          "base_uri": "https://localhost:8080/"
        },
        "id": "kG8asrUm2Qgn",
        "outputId": "e1812d41-d974-45dd-b601-65878c2fabdb"
      },
      "execution_count": 17,
      "outputs": [
        {
          "output_type": "stream",
          "name": "stdout",
          "text": [
            "5\n"
          ]
        }
      ]
    },
    {
      "cell_type": "code",
      "source": [
        "print(f'x_train : {x_train}')\n",
        "print(f'x_train : {y_train}')\n",
        "print(f'x_train.shape : {x_train.shape}')\n",
        "print(f'x_train.shape : {y_train.shape}')"
      ],
      "metadata": {
        "colab": {
          "base_uri": "https://localhost:8080/"
        },
        "id": "xfDkGX7X8zug",
        "outputId": "3663ae5e-f6f2-4842-a56e-933f6da1a8ee"
      },
      "execution_count": 18,
      "outputs": [
        {
          "output_type": "stream",
          "name": "stdout",
          "text": [
            "x_train : [[ 73.71938659  70.93614099  69.39803159 ... -91.1512932   14.83176928\n",
            "   30.65232319]\n",
            " [-15.71068894 -48.37720302 -55.04234379 ... 126.52780957 135.17051957\n",
            "  137.51430533]\n",
            " [137.44106203 128.06591897 133.41268025 ...  14.53879606  14.17257954\n",
            "   12.56122683]\n",
            " ...\n",
            " [-53.06477455 -37.39070726 -39.95422293 ... -40.10070954 -38.56260014\n",
            "  -44.34882124]\n",
            " [-46.03341726 -46.6193637  -47.27855344 ...  32.48340581   4.94392309\n",
            "   26.84367132]\n",
            " [ 28.60151064  21.42366674  37.31746395 ...  13.00068666   6.4820325\n",
            "  -13.95284962]]\n",
            "x_train : ['Sleep stage W' 'Sleep stage W' 'Sleep stage W' ... 'Sleep stage N1'\n",
            " 'Sleep stage W' 'Sleep stage W']\n",
            "x_train.shape : (114573, 7680)\n",
            "x_train.shape : (114573,)\n"
          ]
        }
      ]
    },
    {
      "cell_type": "code",
      "source": [
        "x_train = x_train.reshape((x_train.shape[0], x_train.shape[1], 1))"
      ],
      "metadata": {
        "id": "gA4R1PsaER4S"
      },
      "execution_count": 18,
      "outputs": []
    },
    {
      "cell_type": "code",
      "source": [
        "print(f'x_train : {x_train}')\n",
        "print(f'x_train : {y_train}')\n",
        "print(f'x_train.shape : {x_train.shape}')\n",
        "print(f'x_train.shape : {y_train.shape}')"
      ],
      "metadata": {
        "colab": {
          "base_uri": "https://localhost:8080/"
        },
        "id": "HM5Z__4D92D6",
        "outputId": "cfc238f6-1b66-4dee-ed0f-72f981189725"
      },
      "execution_count": 20,
      "outputs": [
        {
          "output_type": "stream",
          "name": "stdout",
          "text": [
            "x_train : [[[ 73.71938659]\n",
            "  [ 70.93614099]\n",
            "  [ 69.39803159]\n",
            "  ...\n",
            "  [-91.1512932 ]\n",
            "  [ 14.83176928]\n",
            "  [ 30.65232319]]\n",
            "\n",
            " [[-15.71068894]\n",
            "  [-48.37720302]\n",
            "  [-55.04234379]\n",
            "  ...\n",
            "  [126.52780957]\n",
            "  [135.17051957]\n",
            "  [137.51430533]]\n",
            "\n",
            " [[137.44106203]\n",
            "  [128.06591897]\n",
            "  [133.41268025]\n",
            "  ...\n",
            "  [ 14.53879606]\n",
            "  [ 14.17257954]\n",
            "  [ 12.56122683]]\n",
            "\n",
            " ...\n",
            "\n",
            " [[-53.06477455]\n",
            "  [-37.39070726]\n",
            "  [-39.95422293]\n",
            "  ...\n",
            "  [-40.10070954]\n",
            "  [-38.56260014]\n",
            "  [-44.34882124]]\n",
            "\n",
            " [[-46.03341726]\n",
            "  [-46.6193637 ]\n",
            "  [-47.27855344]\n",
            "  ...\n",
            "  [ 32.48340581]\n",
            "  [  4.94392309]\n",
            "  [ 26.84367132]]\n",
            "\n",
            " [[ 28.60151064]\n",
            "  [ 21.42366674]\n",
            "  [ 37.31746395]\n",
            "  ...\n",
            "  [ 13.00068666]\n",
            "  [  6.4820325 ]\n",
            "  [-13.95284962]]]\n",
            "x_train : ['Sleep stage W' 'Sleep stage W' 'Sleep stage W' ... 'Sleep stage N1'\n",
            " 'Sleep stage W' 'Sleep stage W']\n",
            "x_train.shape : (114573, 7680, 1)\n",
            "x_train.shape : (114573,)\n"
          ]
        }
      ]
    },
    {
      "cell_type": "code",
      "source": [
        "print((x_train[0][0][0]))\n",
        "print(type(x_train[0][0][0]))"
      ],
      "metadata": {
        "colab": {
          "base_uri": "https://localhost:8080/"
        },
        "id": "yqLnI0GAHu1T",
        "outputId": "95630db7-9edf-4432-f053-d8c51163891c"
      },
      "execution_count": 41,
      "outputs": [
        {
          "output_type": "stream",
          "name": "stdout",
          "text": [
            "73.71938658731976\n",
            "<class 'numpy.float64'>\n"
          ]
        }
      ]
    },
    {
      "cell_type": "code",
      "source": [
        "print(y_train)\n",
        "print((y_train[0]))\n",
        "print(type(y_train[0]))"
      ],
      "metadata": {
        "colab": {
          "base_uri": "https://localhost:8080/"
        },
        "id": "0AMmukJsBsYM",
        "outputId": "6b374c9b-2a89-46ee-f448-6f6dd0cec2d3"
      },
      "execution_count": 37,
      "outputs": [
        {
          "output_type": "stream",
          "name": "stdout",
          "text": [
            "['Sleep stage W' 'Sleep stage W' 'Sleep stage W' ... 'Sleep stage N1'\n",
            " 'Sleep stage W' 'Sleep stage W']\n",
            "Sleep stage W\n",
            "<class 'numpy.str_'>\n"
          ]
        }
      ]
    },
    {
      "cell_type": "code",
      "source": [
        "#Converts a class vector (integers) to binary class matrix.\n",
        "\n",
        "#E.g. for use with categorical_crossentropy.\n",
        "y_train[y_train == 'Sleep stage W'] = 0\n",
        "y_train[y_train == 'Sleep stage N1'] = 1\n",
        "y_train[y_train == 'Sleep stage N2'] = 2\n",
        "y_train[y_train == 'Sleep stage N3'] = 3\n",
        "y_train[y_train == 'Sleep stage R'] = 4\n",
        "\n",
        "y_train = tf.keras.utils.to_categorical(y_train, num_classes)"
      ],
      "metadata": {
        "id": "y9qFtw_kYuCG"
      },
      "execution_count": 21,
      "outputs": []
    },
    {
      "cell_type": "code",
      "source": [
        "# 지금 label데이터가 <class 'numpy.float64'>이 아닌, 즉 숫자가 아니라 'Sleep stage W' 이런식으로\n",
        "# string자료형으로 되어있으니까 모델 학습 셀에서 아래와 같은 에러가 발생 \n",
        "\n",
        "#Cast string to int64 is not supported\n",
        "#\t [[{{node sparse_categorical_crossentropy/Cast}}]] [Op:__inference_train_function_4693]\n",
        "\n",
        "#따라서 label을 다르게 해줘야 되는데 숫자로 mapping시키던지, one hot encoding으로 해야 될거임 \n",
        "\n",
        "# 우리 데이터가 어떤 특성을 가졌는지 살펴보자\n",
        "# binary class가 아닌 5개의 multi class다\n",
        "# 그리고 나이와 같이 데이터가 class 별로 대소 관계를 가졌는가? -> 각각 단계 별로 어떠한 특징을 가지는지 알아보자\n",
        "\n",
        "# W : \n",
        "# N1 :\n",
        "# N2 :\n",
        "# N3 :\n",
        "# R :\n",
        "\n",
        "# 우리는 how much? how many? 가 아닌 \"which one?\" 즉 개냐 고양이냐 코로나 걸렸냐 안 걸렸냐 스펨메일인지 아닌지와 같은 문제임\n",
        "\n",
        "# 게다가 대부분의 classification 문제 : 정해진 대소 관계 순서 X\n",
        "\n",
        "# -> one hot encoding 방법 사용하자\n",
        "\n",
        "# one hot encoding은 개 고양이 닭 => {1,2,3}과 같이 label을 나타내는게 아니라 {(1,0,0),(0,1,0),(0,0,1)}과 같은 방식으로 나타내는 거임\n",
        "#  개 : (1,0,0) 고양이 : (0,1,0) 닭 : (0,0,1)\n",
        "\n",
        "# 지금 사용하는 loss function인 keras에서 제공하는 \"SparseCategoricalCrossentropy class\"을 \"CategoricalCrossentropy \"으로 변경하자"
      ],
      "metadata": {
        "id": "9dC087LTHivB"
      },
      "execution_count": 42,
      "outputs": []
    },
    {
      "cell_type": "markdown",
      "source": [
        "build model\n",
        "\n",
        "\n",
        "해결해야 될 것\n",
        "\n",
        "1. gru layer 추가\n",
        "\n",
        "2. model parameter 조정\n",
        "\n",
        "3. down sampling -> ( 128Hz,64Hz, 32Hz)\n",
        "\n",
        "4. cohen's kappa\n",
        "\n",
        "5. class 개수 분포 시각화\n",
        "\n",
        "6. keras sequeunce dataset loder 적용\n",
        "\n",
        "7. label merge해서 3단계로도 분류해보기 (W NR R)\n",
        "\n"
      ],
      "metadata": {
        "id": "A4lydIRPVy34"
      }
    },
    {
      "cell_type": "code",
      "source": [
        "def make_model(input_shape):\n",
        "    input_layer = keras.layers.Input(input_shape)\n",
        "\n",
        "    conv1 = keras.layers.Conv1D(filters=64, kernel_size=5, strides=1, padding=\"same\")(input_layer)\n",
        "    conv1 = keras.layers.BatchNormalization()(conv1)\n",
        "    conv1 = keras.layers.ReLU()(conv1)\n",
        "\n",
        "    conv2 = keras.layers.Conv1D(filters=64, kernel_size=5, strides=1, padding=\"same\")(conv1)\n",
        "    conv2 = keras.layers.BatchNormalization()(conv2)\n",
        "    conv2 = keras.layers.ReLU()(conv2)\n",
        "\n",
        "    conv3 = keras.layers.Conv1D(filters=64, kernel_size=5, strides=1, padding=\"same\")(conv2)\n",
        "    conv3 = keras.layers.BatchNormalization()(conv3)\n",
        "    conv3 = keras.layers.ReLU()(conv3)\n",
        "\n",
        "    gap = keras.layers.GlobalAveragePooling1D()(conv3)\n",
        "    print(gap.shape)\n",
        "\n",
        "    #GRU = keras.layers.GRU(units = 64, return_sequences=True,  return_state=True)(gap)\n",
        "\n",
        "    \n",
        "\n",
        "    output_layer = keras.layers.Dense(num_classes, activation=\"softmax\")(gap)\n",
        "\n",
        "    return keras.models.Model(inputs=input_layer, outputs=output_layer)\n",
        "\n",
        "model = make_model(input_shape=x_train.shape[1:])\n",
        "keras.utils.plot_model(model, show_shapes=True)"
      ],
      "metadata": {
        "colab": {
          "base_uri": "https://localhost:8080/",
          "height": 1000
        },
        "id": "E-_ceoqH2ksr",
        "outputId": "eee824fc-acbb-4f69-bc91-7acecdb0cdbc"
      },
      "execution_count": 22,
      "outputs": [
        {
          "output_type": "stream",
          "name": "stdout",
          "text": [
            "(None, 64)\n"
          ]
        },
        {
          "output_type": "execute_result",
          "data": {
            "text/plain": [
              "<IPython.core.display.Image object>"
            ],
            "image/png": "[encoded data removed]"
          },
          "metadata": {},
          "execution_count": 22
        }
      ]
    },
    {
      "cell_type": "code",
      "source": [
        "model.summary()"
      ],
      "metadata": {
        "colab": {
          "base_uri": "https://localhost:8080/"
        },
        "id": "ZKR464MkaE5Q",
        "outputId": "03294650-d6f3-4b0c-f3be-0d5d4898238f"
      },
      "execution_count": 23,
      "outputs": [
        {
          "output_type": "stream",
          "name": "stdout",
          "text": [
            "Model: \"model\"\n",
            "_________________________________________________________________\n",
            " Layer (type)                Output Shape              Param #   \n",
            "=================================================================\n",
            " input_1 (InputLayer)        [(None, 7680, 1)]         0         \n",
            "                                                                 \n",
            " conv1d (Conv1D)             (None, 7680, 64)          384       \n",
            "                                                                 \n",
            " batch_normalization (BatchN  (None, 7680, 64)         256       \n",
            " ormalization)                                                   \n",
            "                                                                 \n",
            " re_lu (ReLU)                (None, 7680, 64)          0         \n",
            "                                                                 \n",
            " conv1d_1 (Conv1D)           (None, 7680, 64)          20544     \n",
            "                                                                 \n",
            " batch_normalization_1 (Batc  (None, 7680, 64)         256       \n",
            " hNormalization)                                                 \n",
            "                                                                 \n",
            " re_lu_1 (ReLU)              (None, 7680, 64)          0         \n",
            "                                                                 \n",
            " conv1d_2 (Conv1D)           (None, 7680, 64)          20544     \n",
            "                                                                 \n",
            " batch_normalization_2 (Batc  (None, 7680, 64)         256       \n",
            " hNormalization)                                                 \n",
            "                                                                 \n",
            " re_lu_2 (ReLU)              (None, 7680, 64)          0         \n",
            "                                                                 \n",
            " global_average_pooling1d (G  (None, 64)               0         \n",
            " lobalAveragePooling1D)                                          \n",
            "                                                                 \n",
            " dense (Dense)               (None, 5)                 325       \n",
            "                                                                 \n",
            "=================================================================\n",
            "Total params: 42,565\n",
            "Trainable params: 42,181\n",
            "Non-trainable params: 384\n",
            "_________________________________________________________________\n"
          ]
        }
      ]
    },
    {
      "cell_type": "markdown",
      "source": [
        "model training"
      ],
      "metadata": {
        "id": "yS_kxFraV1UD"
      }
    },
    {
      "cell_type": "code",
      "source": [
        "epochs = 500\n",
        "batch_size = 32\n",
        "\n",
        "callbacks = [\n",
        "    keras.callbacks.ModelCheckpoint(\n",
        "        \"best_model.h5\", save_best_only=True, monitor=\"val_loss\"\n",
        "    ),\n",
        "    keras.callbacks.ReduceLROnPlateau(\n",
        "        monitor=\"val_loss\", factor=0.5, patience=20, min_lr=0.0001\n",
        "    ),\n",
        "    keras.callbacks.EarlyStopping(monitor=\"val_loss\", patience=50, verbose=1),\n",
        "]\n",
        "model.compile(\n",
        "    optimizer=\"adam\", #sgd와 adam의 차이는?\n",
        "    loss= \"CategoricalCrossentropy\",\n",
        "    metrics=[\"categorical_accuracy\"],\n",
        ")\n",
        "history = model.fit(\n",
        "    x_train,\n",
        "    y_train,\n",
        "    batch_size=batch_size,\n",
        "    epochs=epochs,\n",
        "    callbacks=callbacks,\n",
        "    validation_split=0.2,\n",
        "    verbose=1,\n",
        ")"
      ],
      "metadata": {
        "colab": {
          "base_uri": "https://localhost:8080/"
        },
        "id": "i7VhmrPDM2FF",
        "outputId": "df8fcafb-a99d-40d3-dae0-e3561f768adb"
      },
      "execution_count": null,
      "outputs": [
        {
          "output_type": "stream",
          "name": "stdout",
          "text": [
            "Epoch 1/500\n",
            "2865/2865 [==============================] - 3570s 1s/step - loss: 1.4582 - categorical_accuracy: 0.3998 - val_loss: 1.4673 - val_categorical_accuracy: 0.3970 - lr: 0.0010\n",
            "Epoch 2/500\n",
            " 674/2865 [======>.......................] - ETA: 42:45 - loss: 1.4228 - categorical_accuracy: 0.4148"
          ]
        }
      ]
    },
    {
      "cell_type": "code",
      "source": [
        "# confusion matrix 사용을 위한 라이브러리\n",
        "from sklearn.metrics import confusion_matrix\n",
        "\n",
        "# confusion matrix 그리는 함수 \n",
        "def plot_confusion_matrix(con_mat, labels, title='Confusion Matrix', cmap=plt.cm.get_cmap('Blues'), normalize=False):\n",
        "    plt.imshow(con_mat, interpolation='nearest', cmap=cmap)\n",
        "    plt.title(title)\n",
        "    plt.colorbar()\n",
        "    marks = np.arange(len(labels))\n",
        "    nlabels = []\n",
        "    for k in range(len(con_mat)):\n",
        "        n = sum(con_mat[k])\n",
        "        nlabel = '{0}(n={1})'.format(labels[k],n)\n",
        "        nlabels.append(nlabel)\n",
        "    plt.xticks(marks, labels)\n",
        "    plt.yticks(marks, nlabels)\n",
        "\n",
        "    thresh = con_mat.max() / 2.\n",
        "    if normalize:\n",
        "        for i, j in itertools.product(range(con_mat.shape[0]), range(con_mat.shape[1])):\n",
        "            plt.text(j, i, '{0}%'.format(con_mat[i, j] * 100 / n), horizontalalignment=\"center\", color=\"white\" if con_mat[i, j] > thresh else \"black\")\n",
        "    else:\n",
        "        for i, j in itertools.product(range(con_mat.shape[0]), range(con_mat.shape[1])):\n",
        "            plt.text(j, i, con_mat[i, j], horizontalalignment=\"center\", color=\"white\" if con_mat[i, j] > thresh else \"black\")\n",
        "    plt.tight_layout()\n",
        "    plt.ylabel('True label')\n",
        "    plt.xlabel('Predicted label')\n",
        "    plt.show()\n",
        "\n",
        "# 예측값과 참값 \n",
        "pred_labels = np.argmax(predictions, axis=1)\n",
        "true_labels = test_set.labels\n",
        "\n",
        "#메인 실행 \n",
        "confusion_matrix = confusion_matrix(true_labels, pred_labels)\n",
        "plot_confusion_matrix(confusion_matrix, labels=labels, normalize=True)"
      ],
      "metadata": {
        "id": "zsmnKLiYUarc"
      },
      "execution_count": null,
      "outputs": []
    },
    {
      "cell_type": "code",
      "source": [
        "tf.keras.metrics.AUC(\n",
        "    num_thresholds=200,\n",
        "    curve=\"ROC\",\n",
        "    summation_method=\"interpolation\",\n",
        "    name=None,\n",
        "    dtype=None,\n",
        "    thresholds=None,\n",
        "    multi_label=False,\n",
        "    num_labels=None,\n",
        "    label_weights=None,\n",
        "    from_logits=False,\n",
        ")"
      ],
      "metadata": {
        "id": "M1TmrKc6Wf2f"
      },
      "execution_count": null,
      "outputs": []
    },
    {
      "cell_type": "markdown",
      "source": [
        "###Inference"
      ],
      "metadata": {
        "id": "nm9djdZ8QOXw"
      }
    },
    {
      "cell_type": "code",
      "source": [
        "#test data 준비\n",
        "\n",
        "Test_x = []\n",
        "Test_y = []\n",
        "\n",
        "test_non_match = []\n",
        "test_match = 0\n",
        "\n",
        "#valid data 준비\n",
        "\n",
        "for i in range(len(test_x)):\n",
        "  print(f'test_x[{i}] : {test_x[i]}')\n",
        "  print(f'test_y[{i}] : {test_y[i]}')\n",
        "\n",
        "  #label data 전처리\n",
        "  _, _, annotations_header = highlevel.read_edf(test_y[i])\n",
        "  ann = annotations_header['annotations']\n",
        "  label = []\n",
        "  for j in range(len(ann)):\n",
        "    s = ann[j][2][0].upper()       #첫 번째 글자가 S인 것만 추출\n",
        "    if s == 'S':                   #Lights off & Lights on 제거\n",
        "      label.append(ann[j][2])\n",
        "  annotations_len = len(label)    \n",
        "\n",
        "  #signal data 전처리\n",
        "\n",
        "  signals, _, signals_header = highlevel.read_edf(test_x[i],ch_names='ECG')\n",
        "  signal = remove_remains(signals[0], num_sample)\n",
        "  signals_len = len(signal)\n",
        "  print(f'signals_len : {signals_len}')\n",
        "  print(f'annotations_len : {annotations_len}')\n",
        "  print(\"\\n\")\n",
        "  \n",
        "  if signals_len == annotations_len:     # 30초 단위의 signal sample수와 label 수가 일치해야만 Train data로 사용할 수 있도록\n",
        "    test_match += 1\n",
        "    \n",
        "    for sample in range(signals_len):\n",
        "      Test_x.append(signal[sample])\n",
        "      Test_y.append(label[sample])\n",
        "  else :\n",
        "    test_non_match.append((test_x[i],test_y[i])) \n",
        "\n",
        "\n",
        "print(f'num_test_matched : {test_match}')\n",
        "print(f'num_test_non_matched : {len(test_non_match)}')\n",
        "print(f'test_non_matched_list : {test_non_match}')\n",
        "\n",
        "del test_non_match\n",
        "del label"
      ],
      "metadata": {
        "colab": {
          "base_uri": "https://localhost:8080/"
        },
        "id": "fNMbvhl_QS8h",
        "outputId": "8a03b4f3-0bb1-4b13-ca54-90a4b29e67f6"
      },
      "execution_count": null,
      "outputs": [
        {
          "output_type": "stream",
          "name": "stdout",
          "text": [
            "test_x[0] : /content/drive/MyDrive/physionet/HMC/hmc-sleep-staging/recordings/SN006.edf\n",
            "test_y[0] : /content/drive/MyDrive/physionet/HMC/hmc-sleep-staging/recordings/SN006_sleepscoring.edf\n",
            "signals_len : 866\n",
            "annotations_len : 866\n",
            "\n",
            "\n",
            "test_x[1] : /content/drive/MyDrive/physionet/HMC/hmc-sleep-staging/recordings/SN012.edf\n",
            "test_y[1] : /content/drive/MyDrive/physionet/HMC/hmc-sleep-staging/recordings/SN012_sleepscoring.edf\n",
            "signals_len : 937\n",
            "annotations_len : 937\n",
            "\n",
            "\n",
            "test_x[2] : /content/drive/MyDrive/physionet/HMC/hmc-sleep-staging/recordings/SN019.edf\n",
            "test_y[2] : /content/drive/MyDrive/physionet/HMC/hmc-sleep-staging/recordings/SN019_sleepscoring.edf\n",
            "signals_len : 840\n",
            "annotations_len : 840\n",
            "\n",
            "\n",
            "test_x[3] : /content/drive/MyDrive/physionet/HMC/hmc-sleep-staging/recordings/SN025.edf\n",
            "test_y[3] : /content/drive/MyDrive/physionet/HMC/hmc-sleep-staging/recordings/SN025_sleepscoring.edf\n",
            "signals_len : 990\n",
            "annotations_len : 990\n",
            "\n",
            "\n",
            "test_x[4] : /content/drive/MyDrive/physionet/HMC/hmc-sleep-staging/recordings/SN031.edf\n",
            "test_y[4] : /content/drive/MyDrive/physionet/HMC/hmc-sleep-staging/recordings/SN031_sleepscoring.edf\n",
            "signals_len : 773\n",
            "annotations_len : 773\n",
            "\n",
            "\n",
            "test_x[5] : /content/drive/MyDrive/physionet/HMC/hmc-sleep-staging/recordings/SN037.edf\n",
            "test_y[5] : /content/drive/MyDrive/physionet/HMC/hmc-sleep-staging/recordings/SN037_sleepscoring.edf\n",
            "signals_len : 830\n",
            "annotations_len : 830\n",
            "\n",
            "\n",
            "test_x[6] : /content/drive/MyDrive/physionet/HMC/hmc-sleep-staging/recordings/SN043.edf\n",
            "test_y[6] : /content/drive/MyDrive/physionet/HMC/hmc-sleep-staging/recordings/SN043_sleepscoring.edf\n",
            "signals_len : 1014\n",
            "annotations_len : 1014\n",
            "\n",
            "\n",
            "test_x[7] : /content/drive/MyDrive/physionet/HMC/hmc-sleep-staging/recordings/SN049.edf\n",
            "test_y[7] : /content/drive/MyDrive/physionet/HMC/hmc-sleep-staging/recordings/SN049_sleepscoring.edf\n",
            "signals_len : 801\n",
            "annotations_len : 801\n",
            "\n",
            "\n",
            "test_x[8] : /content/drive/MyDrive/physionet/HMC/hmc-sleep-staging/recordings/SN055.edf\n",
            "test_y[8] : /content/drive/MyDrive/physionet/HMC/hmc-sleep-staging/recordings/SN055_sleepscoring.edf\n",
            "signals_len : 995\n",
            "annotations_len : 995\n",
            "\n",
            "\n",
            "test_x[9] : /content/drive/MyDrive/physionet/HMC/hmc-sleep-staging/recordings/SN061.edf\n",
            "test_y[9] : /content/drive/MyDrive/physionet/HMC/hmc-sleep-staging/recordings/SN061_sleepscoring.edf\n",
            "signals_len : 862\n",
            "annotations_len : 862\n",
            "\n",
            "\n",
            "test_x[10] : /content/drive/MyDrive/physionet/HMC/hmc-sleep-staging/recordings/SN068.edf\n",
            "test_y[10] : /content/drive/MyDrive/physionet/HMC/hmc-sleep-staging/recordings/SN068_sleepscoring.edf\n",
            "signals_len : 841\n",
            "annotations_len : 841\n",
            "\n",
            "\n",
            "test_x[11] : /content/drive/MyDrive/physionet/HMC/hmc-sleep-staging/recordings/SN074.edf\n",
            "test_y[11] : /content/drive/MyDrive/physionet/HMC/hmc-sleep-staging/recordings/SN074_sleepscoring.edf\n",
            "signals_len : 845\n",
            "annotations_len : 845\n",
            "\n",
            "\n",
            "test_x[12] : /content/drive/MyDrive/physionet/HMC/hmc-sleep-staging/recordings/SN080.edf\n",
            "test_y[12] : /content/drive/MyDrive/physionet/HMC/hmc-sleep-staging/recordings/SN080_sleepscoring.edf\n",
            "signals_len : 889\n",
            "annotations_len : 889\n",
            "\n",
            "\n",
            "test_x[13] : /content/drive/MyDrive/physionet/HMC/hmc-sleep-staging/recordings/SN086.edf\n",
            "test_y[13] : /content/drive/MyDrive/physionet/HMC/hmc-sleep-staging/recordings/SN086_sleepscoring.edf\n",
            "signals_len : 697\n",
            "annotations_len : 697\n",
            "\n",
            "\n",
            "test_x[14] : /content/drive/MyDrive/physionet/HMC/hmc-sleep-staging/recordings/SN092.edf\n",
            "test_y[14] : /content/drive/MyDrive/physionet/HMC/hmc-sleep-staging/recordings/SN092_sleepscoring.edf\n",
            "signals_len : 1029\n",
            "annotations_len : 1029\n",
            "\n",
            "\n",
            "test_x[15] : /content/drive/MyDrive/physionet/HMC/hmc-sleep-staging/recordings/SN098.edf\n",
            "test_y[15] : /content/drive/MyDrive/physionet/HMC/hmc-sleep-staging/recordings/SN098_sleepscoring.edf\n",
            "signals_len : 875\n",
            "annotations_len : 875\n",
            "\n",
            "\n",
            "num_test_matched : 16\n",
            "num_test_non_matched : 0\n",
            "test_non_matched_list : []\n"
          ]
        }
      ]
    },
    {
      "cell_type": "code",
      "source": [
        "x_test = np.array(Test_x)\n",
        "del Test_x \n",
        "y_test = np.array(Test_y)\n",
        "del Test_y"
      ],
      "metadata": {
        "id": "H3gi1xro183Z"
      },
      "execution_count": null,
      "outputs": []
    },
    {
      "cell_type": "code",
      "source": [
        "x_test = x_test.reshape((x_test.shape[0], x_test.shape[1], 1))\n",
        "\n",
        "#Converts a class vector (integers) to binary class matrix.\n",
        "\n",
        "#E.g. for use with categorical_crossentropy.\n",
        "\n",
        "y_train = to_categorical(y_train, num_classes)\n",
        "y_test = to_categorical(y_test, num_classes)"
      ],
      "metadata": {
        "id": "nf06ZZLh2zVo"
      },
      "execution_count": null,
      "outputs": []
    },
    {
      "cell_type": "markdown",
      "source": [
        "###scikit-learn 분류모델"
      ],
      "metadata": {
        "id": "ranzOZgqLzkd"
      }
    },
    {
      "cell_type": "code",
      "source": [
        "#print(np.shape(Train_x))\n",
        "#print(np.shape(Train_y))\n",
        "#print(np.shape(signal_))\n",
        "#print(np.shape(label))"
      ],
      "metadata": {
        "id": "AsMJctX8BbC6"
      },
      "execution_count": null,
      "outputs": []
    },
    {
      "cell_type": "code",
      "source": [
        "len(Train_x[5000])"
      ],
      "metadata": {
        "colab": {
          "base_uri": "https://localhost:8080/"
        },
        "id": "YIbZBgO9ESQF",
        "outputId": "f41ba9b6-dcee-4d93-e949-b2287f7c30e0"
      },
      "execution_count": null,
      "outputs": [
        {
          "output_type": "execute_result",
          "data": {
            "text/plain": [
              "7680"
            ]
          },
          "metadata": {},
          "execution_count": 12
        }
      ]
    },
    {
      "cell_type": "code",
      "source": [
        " #train, test 데이터 분리\n",
        " #X:feature데이터만 / y:정답label데이터만 \n",
        " #X데이터셋을 머신러닝 모델에 입력 -> 모델이 내뱉는 품종 예측 결과를 정답 y와 비교하여 학습\n",
        "X_train, X_test, y_train, y_test = train_test_split(signal_,  #feature(입력받는 특징 데이터)\n",
        "                                                    label,  #label(모델이 맞춰야하는 정답값)\n",
        "                                                    test_size=0.1,  #test dataset 크기 조절(0.2=전체 20%를 test데이터로 사용)\n",
        "                                                    random_state=7)  #train데이터와 test데이터 분리시 적용되는 랜덤성)"
      ],
      "metadata": {
        "id": "L8jJ5t95Hg9t"
      },
      "execution_count": null,
      "outputs": []
    },
    {
      "cell_type": "code",
      "source": [
        "# (4)decision tree 모델 학습 및 예측\n",
        "decision_tree = DecisionTreeClassifier(random_state=32) #decision_tree변수에 모델 저장\n",
        "decision_tree.fit(Train_x, Train_y) #fit메서드로 모델 학습\n",
        "\n",
        "#inference\n",
        "\n",
        "y_pred = decision_tree.predict(Test_x)\n",
        "\n",
        "print(classification_report(Test_y, y_pred))"
      ],
      "metadata": {
        "id": "Xw60MxRaI_FZ",
        "colab": {
          "base_uri": "https://localhost:8080/"
        },
        "outputId": "d9f5a009-d455-4452-aa7e-d45bfc592fb9"
      },
      "execution_count": null,
      "outputs": [
        {
          "output_type": "stream",
          "name": "stdout",
          "text": [
            "                precision    recall  f1-score   support\n",
            "\n",
            "Sleep stage N1       0.10      0.13      0.12       857\n",
            "Sleep stage N2       0.39      0.35      0.37      3245\n",
            "Sleep stage N3       0.22      0.17      0.19      1882\n",
            " Sleep stage R       0.16      0.17      0.17      1346\n",
            " Sleep stage W       0.15      0.19      0.17      1125\n",
            "\n",
            "      accuracy                           0.24      8455\n",
            "     macro avg       0.20      0.20      0.20      8455\n",
            "  weighted avg       0.25      0.24      0.24      8455\n",
            "\n"
          ]
        }
      ]
    },
    {
      "cell_type": "code",
      "source": [
        "#Stochastic Gradient Descent Classifier (SGDClassifier)\n",
        "from sklearn.linear_model import SGDClassifier\n",
        "\n",
        "sgd_model = SGDClassifier()\n",
        "sgd_model.fit(Train_x, Train_y)\n",
        "y_pred = sgd_model.predict(Test_x)\n",
        "\n",
        "print(classification_report(Test_y, y_pred))"
      ],
      "metadata": {
        "colab": {
          "base_uri": "https://localhost:8080/"
        },
        "id": "G9s-xZtTJKZs",
        "outputId": "ef55c96b-1a5e-4acc-ef29-2fb0a4c23837"
      },
      "execution_count": null,
      "outputs": [
        {
          "output_type": "stream",
          "name": "stdout",
          "text": [
            "                precision    recall  f1-score   support\n",
            "\n",
            "Sleep stage N1       0.10      0.12      0.11       857\n",
            "Sleep stage N2       0.39      0.32      0.35      3245\n",
            "Sleep stage N3       0.22      0.20      0.21      1882\n",
            " Sleep stage R       0.16      0.21      0.18      1346\n",
            " Sleep stage W       0.14      0.14      0.14      1125\n",
            "\n",
            "      accuracy                           0.23      8455\n",
            "     macro avg       0.20      0.20      0.20      8455\n",
            "  weighted avg       0.25      0.23      0.24      8455\n",
            "\n"
          ]
        }
      ]
    },
    {
      "cell_type": "code",
      "source": [
        "#Support Vector Machine (SVM)\n",
        "#Support Vector와 Hyperplane(초평면)을 이용해서 분류를 수행하게 되는 대표적인 선형 분류 알고리즘\n",
        "\n",
        "from sklearn import svm\n",
        "\n",
        "svm_model = svm.SVC()\n",
        "svm_model.fit(Train_x, Train_y)\n",
        "y_pred = svm_model.predict(Test_x)\n",
        "\n",
        "print(classification_report(Test_y, y_pred))"
      ],
      "metadata": {
        "id": "4Biv9-oFLvGm"
      },
      "execution_count": null,
      "outputs": []
    },
    {
      "cell_type": "code",
      "source": [
        "#Logistic Regression\n",
        "#소프트맥스(softmas) 함수를 사용한 다중 클래스 분류 알고리즘\n",
        "#이름은 회귀지만, 실제로는 분류를 수행\n",
        "\n",
        "from sklearn.linear_model import LogisticRegression\n",
        "\n",
        "logistic_model = LogisticRegression()\n",
        "logistic_model.fit(Train_x, Train_y)\n",
        "y_pred = logistic_model.predict(Test_x)\n",
        "\n",
        "print(classification_report(Test_y, y_pred))"
      ],
      "metadata": {
        "colab": {
          "base_uri": "https://localhost:8080/",
          "height": 244
        },
        "id": "fQiiP0s0MVx0",
        "outputId": "0d45a41e-8060-4c24-8677-c679993930ca"
      },
      "execution_count": null,
      "outputs": [
        {
          "output_type": "error",
          "ename": "NameError",
          "evalue": "ignored",
          "traceback": [
            "\u001b[0;31m---------------------------------------------------------------------------\u001b[0m",
            "\u001b[0;31mNameError\u001b[0m                                 Traceback (most recent call last)",
            "\u001b[0;32m<ipython-input-1-50e277bc685a>\u001b[0m in \u001b[0;36m<module>\u001b[0;34m()\u001b[0m\n\u001b[1;32m      6\u001b[0m \u001b[0;34m\u001b[0m\u001b[0m\n\u001b[1;32m      7\u001b[0m \u001b[0mlogistic_model\u001b[0m \u001b[0;34m=\u001b[0m \u001b[0mLogisticRegression\u001b[0m\u001b[0;34m(\u001b[0m\u001b[0;34m)\u001b[0m\u001b[0;34m\u001b[0m\u001b[0;34m\u001b[0m\u001b[0m\n\u001b[0;32m----> 8\u001b[0;31m \u001b[0mlogistic_model\u001b[0m\u001b[0;34m.\u001b[0m\u001b[0mfit\u001b[0m\u001b[0;34m(\u001b[0m\u001b[0mrain_x\u001b[0m\u001b[0;34m,\u001b[0m \u001b[0my_train\u001b[0m\u001b[0;34m)\u001b[0m\u001b[0;34m\u001b[0m\u001b[0;34m\u001b[0m\u001b[0m\n\u001b[0m\u001b[1;32m      9\u001b[0m \u001b[0my_pred\u001b[0m \u001b[0;34m=\u001b[0m \u001b[0mlogistic_model\u001b[0m\u001b[0;34m.\u001b[0m\u001b[0mpredict\u001b[0m\u001b[0;34m(\u001b[0m\u001b[0mX_test\u001b[0m\u001b[0;34m)\u001b[0m\u001b[0;34m\u001b[0m\u001b[0;34m\u001b[0m\u001b[0m\n\u001b[1;32m     10\u001b[0m \u001b[0;34m\u001b[0m\u001b[0m\n",
            "\u001b[0;31mNameError\u001b[0m: name 'rain_x' is not defined"
          ]
        }
      ]
    },
    {
      "cell_type": "code",
      "source": [
        "Taccuracy = accuracy_score(y_test, y_pred)\n",
        "accuracy   "
      ],
      "metadata": {
        "colab": {
          "base_uri": "https://localhost:8080/"
        },
        "id": "g4kqXuhqM4lY",
        "outputId": "af2675d4-53e1-42ca-94e0-8557950f90c9"
      },
      "execution_count": null,
      "outputs": [
        {
          "output_type": "execute_result",
          "data": {
            "text/plain": [
              "0.21935483870967742"
            ]
          },
          "metadata": {},
          "execution_count": 203
        }
      ]
    },
    {
      "cell_type": "markdown",
      "source": [
        "###시각화"
      ],
      "metadata": {
        "id": "RA-jJ0skc-ib"
      }
    },
    {
      "cell_type": "code",
      "source": [
        "edf = pyedflib.EdfReader(trains[0])\n",
        "Labels = edf.getSignalLabels()\n",
        "print(Labels)\n",
        "print(\"Duaration:\"+str(edf.getFileDuration()))\n",
        "print(\"Freq.:\"+str(edf.getSampleFrequencies()))\n",
        "print(\"N-Sample(=Freq x Duaration):\"+str(edf.getNSamples()))\n",
        "print(\"Date:\"+str(edf.getStartdatetime()))\n",
        "\n",
        "#sample의 개수는 frequecncy * duration 이다\n",
        "#초당 256개의 진폭 값이 있고 그것이 duration 만큼 있는 것이니\n",
        "\n",
        "\n",
        "\n",
        "plt.plot(edf.readSignal(0)[0:1000],label=labels[0])\n",
        "plt.plot(edf.readSignal(1)[0:1000],label=labels[1])\n",
        "plt.plot(edf.readSignal(2)[0:1000],label=labels[2])\n",
        "plt.plot(edf.readSignal(3)[0:1000],label=labels[3])\n",
        "plt.plot(edf.readSignal(4)[0:1000],label=labels[4])\n",
        "plt.plot(edf.readSignal(5)[0:1000],label=labels[5])\n",
        "plt.plot(edf.readSignal(6)[0:1000],label=labels[6])\n",
        "plt.plot(edf.readSignal(7)[0:1000],label=labels[7])\n",
        "plt.legend()\n",
        "plt.show()"
      ],
      "metadata": {
        "colab": {
          "base_uri": "https://localhost:8080/",
          "height": 355
        },
        "id": "DJmsAr3O3QSO",
        "outputId": "d0ac2944-14ee-4744-edb2-8f4b20c06229"
      },
      "execution_count": null,
      "outputs": [
        {
          "output_type": "stream",
          "name": "stdout",
          "text": [
            "['EEG F4-M1', 'EEG C4-M1', 'EEG O2-M1', 'EEG C3-M2', 'EMG chin', 'EOG E1-M2', 'EOG E2-M2', 'ECG']\n",
            "Duaration:23191\n",
            "Freq.:[256 256 256 256 256 256 256 256]\n",
            "N-Sample(=Freq x Duaration):[5936896 5936896 5936896 5936896 5936896 5936896 5936896 5936896]\n",
            "Date:2001-01-01 00:49:00\n"
          ]
        },
        {
          "output_type": "display_data",
          "data": {
            "text/plain": [
              "<Figure size 432x288 with 1 Axes>"
            ],
            "image/png": "[encoded data removed]"
          },
          "metadata": {
            "needs_background": "light"
          }
        }
      ]
    },
    {
      "cell_type": "markdown",
      "source": [
        "#----"
      ],
      "metadata": {
        "id": "xQoL2QbxOD0I"
      }
    },
    {
      "cell_type": "code",
      "source": [
        "label = []\n",
        "if ann[2] == 'Sleep stage W':\n",
        "  for time in range(length):\n",
        "    label.append(0)\n",
        "    elif ann[2] == 'Sleep stage 1':\n",
        "            for time in range(length):\n",
        "                label.append(1)\n",
        "        elif ann[2] == 'Sleep stage 2':\n",
        "            for time in range(length):\n",
        "                label.append(2)\n",
        "        elif ann[2] == 'Sleep stage 3':\n",
        "            for time in range(length):\n",
        "                label.append(3)\n",
        "        elif ann[2] == 'Sleep stage 4':\n",
        "            for time in range(length):\n",
        "                label.append(3)\n",
        "        elif ann[2] == 'Sleep stage R':\n",
        "            for time in range(length):\n",
        "                label.append(4)\n",
        "        else:\n",
        "            for time in range(length):\n",
        "                label.append(5)\n",
        "    label = np.array(label)"
      ],
      "metadata": {
        "id": "JMBDobJ8wi4W"
      },
      "execution_count": null,
      "outputs": []
    },
    {
      "cell_type": "code",
      "source": [
        "a = highlevel.read_edf(trains[0],ch_names='ECG')\n",
        "b = highlevel.read_edf(labels[0])\n",
        "print(type(a))\n",
        "a = list(a)\n",
        "b = list(b)\n",
        "print(a)\n",
        "print(len(a[0][0]))\n",
        "print(a[0])\n",
        "print(b)\n",
        "a = a[0]\n",
        "b = b[2]\n",
        "print(a)\n",
        "print(b)\n",
        "print(len(a))\n",
        "print(b)\n"
      ],
      "metadata": {
        "colab": {
          "base_uri": "https://localhost:8080/"
        },
        "id": "aMnOOZr3xTJ_",
        "outputId": "4fc35deb-6878-47fb-d015-efc34a037a50"
      },
      "execution_count": null,
      "outputs": [
        {
          "output_type": "stream",
          "name": "stdout",
          "text": [
            "<class 'tuple'>\n",
            "5936896\n",
            "[[-4.95161364e+02 -3.51604486e+02 -2.39322499e+02 ... -3.66216526e-02\n",
            "  -3.66216526e-02 -3.66216526e-02]]\n",
            "[array([], dtype=float64), [], {'technician': '', 'recording_additional': '', 'patientname': 'X', 'patient_additional': '', 'patientcode': 'SN031', 'equipment': '', 'admincode': '', 'gender': '', 'startdate': datetime.datetime(2001, 1, 1, 0, 49), 'birthdate': '', 'annotations': [[0.0, 30.0, 'Sleep stage W'], [30.0, 30.0, 'Sleep stage W'], [32.4, 0.0, 'Lights off@@SaO2'], [60.0, 30.0, 'Sleep stage W'], [90.0, 30.0, 'Sleep stage W'], [120.0, 30.0, 'Sleep stage W'], [150.0, 30.0, 'Sleep stage W'], [180.0, 30.0, 'Sleep stage W'], [210.0, 30.0, 'Sleep stage W'], [240.0, 30.0, 'Sleep stage W'], [270.0, 30.0, 'Sleep stage W'], [300.0, 30.0, 'Sleep stage W'], [330.0, 30.0, 'Sleep stage W'], [360.0, 30.0, 'Sleep stage W'], [390.0, 30.0, 'Sleep stage W'], [420.0, 30.0, 'Sleep stage W'], [450.0, 30.0, 'Sleep stage W'], [480.0, 30.0, 'Sleep stage W'], [510.0, 30.0, 'Sleep stage W'], [540.0, 30.0, 'Sleep stage W'], [570.0, 30.0, 'Sleep stage W'], [600.0, 30.0, 'Sleep stage W'], [630.0, 30.0, 'Sleep stage W'], [660.0, 30.0, 'Sleep stage W'], [690.0, 30.0, 'Sleep stage W'], [720.0, 30.0, 'Sleep stage N1'], [750.0, 30.0, 'Sleep stage W'], [780.0, 30.0, 'Sleep stage W'], [810.0, 30.0, 'Sleep stage W'], [840.0, 30.0, 'Sleep stage W'], [870.0, 30.0, 'Sleep stage W'], [900.0, 30.0, 'Sleep stage W'], [930.0, 30.0, 'Sleep stage W'], [960.0, 30.0, 'Sleep stage W'], [990.0, 30.0, 'Sleep stage N1'], [1020.0, 30.0, 'Sleep stage N1'], [1050.0, 30.0, 'Sleep stage N1'], [1080.0, 30.0, 'Sleep stage N1'], [1110.0, 30.0, 'Sleep stage N1'], [1140.0, 30.0, 'Sleep stage N1'], [1170.0, 30.0, 'Sleep stage N1'], [1200.0, 30.0, 'Sleep stage N1'], [1230.0, 30.0, 'Sleep stage N1'], [1260.0, 30.0, 'Sleep stage N1'], [1290.0, 30.0, 'Sleep stage N2'], [1320.0, 30.0, 'Sleep stage N1'], [1350.0, 30.0, 'Sleep stage W'], [1380.0, 30.0, 'Sleep stage W'], [1410.0, 30.0, 'Sleep stage N1'], [1440.0, 30.0, 'Sleep stage N1'], [1470.0, 30.0, 'Sleep stage N1'], [1500.0, 30.0, 'Sleep stage N2'], [1530.0, 30.0, 'Sleep stage N1'], [1560.0, 30.0, 'Sleep stage N2'], [1590.0, 30.0, 'Sleep stage N2'], [1620.0, 30.0, 'Sleep stage N2'], [1650.0, 30.0, 'Sleep stage N2'], [1680.0, 30.0, 'Sleep stage N2'], [1710.0, 30.0, 'Sleep stage N2'], [1740.0, 30.0, 'Sleep stage N2'], [1770.0, 30.0, 'Sleep stage N2'], [1800.0, 30.0, 'Sleep stage N2'], [1830.0, 30.0, 'Sleep stage N2'], [1860.0, 30.0, 'Sleep stage N2'], [1890.0, 30.0, 'Sleep stage N2'], [1920.0, 30.0, 'Sleep stage N2'], [1950.0, 30.0, 'Sleep stage N2'], [1980.0, 30.0, 'Sleep stage N2'], [2010.0, 30.0, 'Sleep stage N2'], [2040.0, 30.0, 'Sleep stage N2'], [2070.0, 30.0, 'Sleep stage N3'], [2100.0, 30.0, 'Sleep stage N3'], [2130.0, 30.0, 'Sleep stage N3'], [2160.0, 30.0, 'Sleep stage N3'], [2190.0, 30.0, 'Sleep stage N3'], [2220.0, 30.0, 'Sleep stage N3'], [2250.0, 30.0, 'Sleep stage N3'], [2280.0, 30.0, 'Sleep stage N3'], [2310.0, 30.0, 'Sleep stage N1'], [2340.0, 30.0, 'Sleep stage N2'], [2370.0, 30.0, 'Sleep stage N2'], [2400.0, 30.0, 'Sleep stage N2'], [2430.0, 30.0, 'Sleep stage N2'], [2460.0, 30.0, 'Sleep stage N2'], [2490.0, 30.0, 'Sleep stage N2'], [2520.0, 30.0, 'Sleep stage N2'], [2550.0, 30.0, 'Sleep stage N1'], [2580.0, 30.0, 'Sleep stage W'], [2610.0, 30.0, 'Sleep stage N1'], [2640.0, 30.0, 'Sleep stage N1'], [2670.0, 30.0, 'Sleep stage N1'], [2700.0, 30.0, 'Sleep stage N2'], [2730.0, 30.0, 'Sleep stage N1'], [2760.0, 30.0, 'Sleep stage N2'], [2790.0, 30.0, 'Sleep stage N2'], [2820.0, 30.0, 'Sleep stage N2'], [2850.0, 30.0, 'Sleep stage N2'], [2880.0, 30.0, 'Sleep stage N2'], [2910.0, 30.0, 'Sleep stage N2'], [2940.0, 30.0, 'Sleep stage N2'], [2970.0, 30.0, 'Sleep stage N2'], [3000.0, 30.0, 'Sleep stage N2'], [3030.0, 30.0, 'Sleep stage N3'], [3060.0, 30.0, 'Sleep stage N3'], [3090.0, 30.0, 'Sleep stage N3'], [3120.0, 30.0, 'Sleep stage N3'], [3150.0, 30.0, 'Sleep stage N3'], [3180.0, 30.0, 'Sleep stage N3'], [3210.0, 30.0, 'Sleep stage N3'], [3240.0, 30.0, 'Sleep stage N3'], [3270.0, 30.0, 'Sleep stage N3'], [3300.0, 30.0, 'Sleep stage N3'], [3330.0, 30.0, 'Sleep stage N3'], [3360.0, 30.0, 'Sleep stage N3'], [3390.0, 30.0, 'Sleep stage N3'], [3420.0, 30.0, 'Sleep stage N3'], [3450.0, 30.0, 'Sleep stage N3'], [3480.0, 30.0, 'Sleep stage N3'], [3510.0, 30.0, 'Sleep stage N3'], [3540.0, 30.0, 'Sleep stage N3'], [3570.0, 30.0, 'Sleep stage N3'], [3600.0, 30.0, 'Sleep stage N3'], [3630.0, 30.0, 'Sleep stage N3'], [3660.0, 30.0, 'Sleep stage N3'], [3690.0, 30.0, 'Sleep stage N3'], [3720.0, 30.0, 'Sleep stage N3'], [3750.0, 30.0, 'Sleep stage N3'], [3780.0, 30.0, 'Sleep stage N3'], [3810.0, 30.0, 'Sleep stage N3'], [3840.0, 30.0, 'Sleep stage N3'], [3870.0, 30.0, 'Sleep stage N3'], [3900.0, 30.0, 'Sleep stage R'], [3930.0, 30.0, 'Sleep stage R'], [3960.0, 30.0, 'Sleep stage R'], [3990.0, 30.0, 'Sleep stage R'], [4020.0, 30.0, 'Sleep stage N1'], [4050.0, 30.0, 'Sleep stage N1'], [4080.0, 30.0, 'Sleep stage N1'], [4110.0, 30.0, 'Sleep stage W'], [4140.0, 30.0, 'Sleep stage N1'], [4170.0, 30.0, 'Sleep stage R'], [4200.0, 30.0, 'Sleep stage R'], [4230.0, 30.0, 'Sleep stage R'], [4260.0, 30.0, 'Sleep stage R'], [4290.0, 30.0, 'Sleep stage N1'], [4320.0, 30.0, 'Sleep stage N1'], [4350.0, 30.0, 'Sleep stage N1'], [4380.0, 30.0, 'Sleep stage N1'], [4410.0, 30.0, 'Sleep stage N1'], [4440.0, 30.0, 'Sleep stage N1'], [4470.0, 30.0, 'Sleep stage R'], [4500.0, 30.0, 'Sleep stage R'], [4530.0, 30.0, 'Sleep stage N1'], [4560.0, 30.0, 'Sleep stage N1'], [4590.0, 30.0, 'Sleep stage N1'], [4620.0, 30.0, 'Sleep stage N1'], [4650.0, 30.0, 'Sleep stage N1'], [4680.0, 30.0, 'Sleep stage R'], [4710.0, 30.0, 'Sleep stage N1'], [4740.0, 30.0, 'Sleep stage N1'], [4770.0, 30.0, 'Sleep stage R'], [4800.0, 30.0, 'Sleep stage R'], [4830.0, 30.0, 'Sleep stage N1'], [4860.0, 30.0, 'Sleep stage N1'], [4890.0, 30.0, 'Sleep stage N1'], [4920.0, 30.0, 'Sleep stage R'], [4950.0, 30.0, 'Sleep stage N1'], [4980.0, 30.0, 'Sleep stage R'], [5010.0, 30.0, 'Sleep stage R'], [5040.0, 30.0, 'Sleep stage N1'], [5070.0, 30.0, 'Sleep stage N1'], [5100.0, 30.0, 'Sleep stage N1'], [5130.0, 30.0, 'Sleep stage N1'], [5160.0, 30.0, 'Sleep stage N1'], [5190.0, 30.0, 'Sleep stage N1'], [5220.0, 30.0, 'Sleep stage W'], [5250.0, 30.0, 'Sleep stage N1'], [5280.0, 30.0, 'Sleep stage N1'], [5310.0, 30.0, 'Sleep stage N1'], [5340.0, 30.0, 'Sleep stage N1'], [5370.0, 30.0, 'Sleep stage N1'], [5400.0, 30.0, 'Sleep stage N2'], [5430.0, 30.0, 'Sleep stage N2'], [5460.0, 30.0, 'Sleep stage N2'], [5490.0, 30.0, 'Sleep stage N2'], [5520.0, 30.0, 'Sleep stage N2'], [5550.0, 30.0, 'Sleep stage N2'], [5580.0, 30.0, 'Sleep stage N2'], [5610.0, 30.0, 'Sleep stage N2'], [5640.0, 30.0, 'Sleep stage N2'], [5670.0, 30.0, 'Sleep stage W'], [5700.0, 30.0, 'Sleep stage W'], [5730.0, 30.0, 'Sleep stage W'], [5760.0, 30.0, 'Sleep stage N1'], [5790.0, 30.0, 'Sleep stage W'], [5820.0, 30.0, 'Sleep stage W'], [5850.0, 30.0, 'Sleep stage N1'], [5880.0, 30.0, 'Sleep stage N2'], [5910.0, 30.0, 'Sleep stage N2'], [5940.0, 30.0, 'Sleep stage N1'], [5970.0, 30.0, 'Sleep stage N2'], [6000.0, 30.0, 'Sleep stage N2'], [6030.0, 30.0, 'Sleep stage N2'], [6060.0, 30.0, 'Sleep stage N2'], [6090.0, 30.0, 'Sleep stage N2'], [6120.0, 30.0, 'Sleep stage N2'], [6150.0, 30.0, 'Sleep stage N2'], [6180.0, 30.0, 'Sleep stage N2'], [6210.0, 30.0, 'Sleep stage N2'], [6240.0, 30.0, 'Sleep stage N2'], [6270.0, 30.0, 'Sleep stage N2'], [6300.0, 30.0, 'Sleep stage N2'], [6330.0, 30.0, 'Sleep stage N2'], [6360.0, 30.0, 'Sleep stage N2'], [6390.0, 30.0, 'Sleep stage N2'], [6420.0, 30.0, 'Sleep stage N2'], [6450.0, 30.0, 'Sleep stage N2'], [6480.0, 30.0, 'Sleep stage N2'], [6510.0, 30.0, 'Sleep stage N3'], [6540.0, 30.0, 'Sleep stage N3'], [6570.0, 30.0, 'Sleep stage N3'], [6600.0, 30.0, 'Sleep stage N3'], [6630.0, 30.0, 'Sleep stage N3'], [6660.0, 30.0, 'Sleep stage N3'], [6690.0, 30.0, 'Sleep stage N3'], [6720.0, 30.0, 'Sleep stage N3'], [6750.0, 30.0, 'Sleep stage N3'], [6780.0, 30.0, 'Sleep stage N3'], [6810.0, 30.0, 'Sleep stage N3'], [6840.0, 30.0, 'Sleep stage N3'], [6870.0, 30.0, 'Sleep stage N3'], [6900.0, 30.0, 'Sleep stage N3'], [6930.0, 30.0, 'Sleep stage N3'], [6960.0, 30.0, 'Sleep stage N3'], [6990.0, 30.0, 'Sleep stage N3'], [7020.0, 30.0, 'Sleep stage N3'], [7050.0, 30.0, 'Sleep stage N3'], [7080.0, 30.0, 'Sleep stage N3'], [7110.0, 30.0, 'Sleep stage N3'], [7140.0, 30.0, 'Sleep stage N3'], [7170.0, 30.0, 'Sleep stage N2'], [7200.0, 30.0, 'Sleep stage N3'], [7230.0, 30.0, 'Sleep stage N2'], [7260.0, 30.0, 'Sleep stage N1'], [7290.0, 30.0, 'Sleep stage W'], [7320.0, 30.0, 'Sleep stage N1'], [7350.0, 30.0, 'Sleep stage N1'], [7380.0, 30.0, 'Sleep stage N1'], [7410.0, 30.0, 'Sleep stage N1'], [7440.0, 30.0, 'Sleep stage N2'], [7470.0, 30.0, 'Sleep stage N2'], [7500.0, 30.0, 'Sleep stage N1'], [7530.0, 30.0, 'Sleep stage N1'], [7560.0, 30.0, 'Sleep stage W'], [7590.0, 30.0, 'Sleep stage N1'], [7620.0, 30.0, 'Sleep stage N1'], [7650.0, 30.0, 'Sleep stage N1'], [7680.0, 30.0, 'Sleep stage N1'], [7710.0, 30.0, 'Sleep stage N2'], [7740.0, 30.0, 'Sleep stage N2'], [7770.0, 30.0, 'Sleep stage N2'], [7800.0, 30.0, 'Sleep stage N2'], [7830.0, 30.0, 'Sleep stage N2'], [7860.0, 30.0, 'Sleep stage N2'], [7890.0, 30.0, 'Sleep stage N2'], [7920.0, 30.0, 'Sleep stage N2'], [7950.0, 30.0, 'Sleep stage N2'], [7980.0, 30.0, 'Sleep stage N2'], [8010.0, 30.0, 'Sleep stage N2'], [8040.0, 30.0, 'Sleep stage W'], [8070.0, 30.0, 'Sleep stage N1'], [8100.0, 30.0, 'Sleep stage N1'], [8130.0, 30.0, 'Sleep stage N2'], [8160.0, 30.0, 'Sleep stage N2'], [8190.0, 30.0, 'Sleep stage N2'], [8220.0, 30.0, 'Sleep stage N1'], [8250.0, 30.0, 'Sleep stage N2'], [8280.0, 30.0, 'Sleep stage N2'], [8310.0, 30.0, 'Sleep stage N2'], [8340.0, 30.0, 'Sleep stage N3'], [8370.0, 30.0, 'Sleep stage N3'], [8400.0, 30.0, 'Sleep stage N3'], [8430.0, 30.0, 'Sleep stage N3'], [8460.0, 30.0, 'Sleep stage N1'], [8490.0, 30.0, 'Sleep stage N1'], [8520.0, 30.0, 'Sleep stage N2'], [8550.0, 30.0, 'Sleep stage N2'], [8580.0, 30.0, 'Sleep stage N3'], [8610.0, 30.0, 'Sleep stage N3'], [8640.0, 30.0, 'Sleep stage N3'], [8670.0, 30.0, 'Sleep stage N3'], [8700.0, 30.0, 'Sleep stage N3'], [8730.0, 30.0, 'Sleep stage N3'], [8760.0, 30.0, 'Sleep stage N3'], [8790.0, 30.0, 'Sleep stage N3'], [8820.0, 30.0, 'Sleep stage N3'], [8850.0, 30.0, 'Sleep stage N1'], [8880.0, 30.0, 'Sleep stage N1'], [8910.0, 30.0, 'Sleep stage N2'], [8940.0, 30.0, 'Sleep stage N1'], [8970.0, 30.0, 'Sleep stage N2'], [9000.0, 30.0, 'Sleep stage N2'], [9030.0, 30.0, 'Sleep stage N1'], [9060.0, 30.0, 'Sleep stage N2'], [9090.0, 30.0, 'Sleep stage N2'], [9120.0, 30.0, 'Sleep stage N2'], [9150.0, 30.0, 'Sleep stage N1'], [9180.0, 30.0, 'Sleep stage R'], [9210.0, 30.0, 'Sleep stage R'], [9240.0, 30.0, 'Sleep stage R'], [9270.0, 30.0, 'Sleep stage R'], [9300.0, 30.0, 'Sleep stage N1'], [9330.0, 30.0, 'Sleep stage R'], [9360.0, 30.0, 'Sleep stage R'], [9390.0, 30.0, 'Sleep stage N1'], [9420.0, 30.0, 'Sleep stage N1'], [9450.0, 30.0, 'Sleep stage N1'], [9480.0, 30.0, 'Sleep stage R'], [9510.0, 30.0, 'Sleep stage N1'], [9540.0, 30.0, 'Sleep stage R'], [9570.0, 30.0, 'Sleep stage N1'], [9600.0, 30.0, 'Sleep stage R'], [9630.0, 30.0, 'Sleep stage R'], [9660.0, 30.0, 'Sleep stage N1'], [9690.0, 30.0, 'Sleep stage R'], [9720.0, 30.0, 'Sleep stage N1'], [9750.0, 30.0, 'Sleep stage N1'], [9780.0, 30.0, 'Sleep stage R'], [9810.0, 30.0, 'Sleep stage R'], [9840.0, 30.0, 'Sleep stage N1'], [9870.0, 30.0, 'Sleep stage R'], [9900.0, 30.0, 'Sleep stage R'], [9930.0, 30.0, 'Sleep stage N1'], [9960.0, 30.0, 'Sleep stage R'], [9990.0, 30.0, 'Sleep stage R'], [10020.0, 30.0, 'Sleep stage R'], [10050.0, 30.0, 'Sleep stage R'], [10080.0, 30.0, 'Sleep stage R'], [10110.0, 30.0, 'Sleep stage R'], [10140.0, 30.0, 'Sleep stage R'], [10170.0, 30.0, 'Sleep stage N1'], [10200.0, 30.0, 'Sleep stage R'], [10230.0, 30.0, 'Sleep stage R'], [10260.0, 30.0, 'Sleep stage N1'], [10290.0, 30.0, 'Sleep stage R'], [10320.0, 30.0, 'Sleep stage R'], [10350.0, 30.0, 'Sleep stage N1'], [10380.0, 30.0, 'Sleep stage R'], [10410.0, 30.0, 'Sleep stage R'], [10440.0, 30.0, 'Sleep stage N1'], [10470.0, 30.0, 'Sleep stage R'], [10500.0, 30.0, 'Sleep stage R'], [10530.0, 30.0, 'Sleep stage W'], [10560.0, 30.0, 'Sleep stage N1'], [10590.0, 30.0, 'Sleep stage N1'], [10620.0, 30.0, 'Sleep stage R'], [10650.0, 30.0, 'Sleep stage N1'], [10680.0, 30.0, 'Sleep stage R'], [10710.0, 30.0, 'Sleep stage R'], [10740.0, 30.0, 'Sleep stage N1'], [10770.0, 30.0, 'Sleep stage R'], [10800.0, 30.0, 'Sleep stage W'], [10830.0, 30.0, 'Sleep stage W'], [10860.0, 30.0, 'Sleep stage N1'], [10890.0, 30.0, 'Sleep stage N1'], [10920.0, 30.0, 'Sleep stage N1'], [10950.0, 30.0, 'Sleep stage N1'], [10980.0, 30.0, 'Sleep stage N1'], [11010.0, 30.0, 'Sleep stage N1'], [11040.0, 30.0, 'Sleep stage N2'], [11070.0, 30.0, 'Sleep stage N2'], [11100.0, 30.0, 'Sleep stage N2'], [11130.0, 30.0, 'Sleep stage N1'], [11160.0, 30.0, 'Sleep stage N1'], [11190.0, 30.0, 'Sleep stage N1'], [11220.0, 30.0, 'Sleep stage N2'], [11250.0, 30.0, 'Sleep stage N2'], [11280.0, 30.0, 'Sleep stage N2'], [11310.0, 30.0, 'Sleep stage N2'], [11340.0, 30.0, 'Sleep stage N2'], [11370.0, 30.0, 'Sleep stage N2'], [11400.0, 30.0, 'Sleep stage N2'], [11430.0, 30.0, 'Sleep stage N2'], [11460.0, 30.0, 'Sleep stage N2'], [11490.0, 30.0, 'Sleep stage N2'], [11520.0, 30.0, 'Sleep stage N2'], [11550.0, 30.0, 'Sleep stage N2'], [11580.0, 30.0, 'Sleep stage N2'], [11610.0, 30.0, 'Sleep stage N2'], [11640.0, 30.0, 'Sleep stage N2'], [11670.0, 30.0, 'Sleep stage N2'], [11700.0, 30.0, 'Sleep stage N2'], [11730.0, 30.0, 'Sleep stage N2'], [11760.0, 30.0, 'Sleep stage N2'], [11790.0, 30.0, 'Sleep stage N2'], [11820.0, 30.0, 'Sleep stage N3'], [11850.0, 30.0, 'Sleep stage N3'], [11880.0, 30.0, 'Sleep stage N3'], [11910.0, 30.0, 'Sleep stage N3'], [11940.0, 30.0, 'Sleep stage N3'], [11970.0, 30.0, 'Sleep stage N3'], [12000.0, 30.0, 'Sleep stage N3'], [12030.0, 30.0, 'Sleep stage N3'], [12060.0, 30.0, 'Sleep stage N3'], [12090.0, 30.0, 'Sleep stage N3'], [12120.0, 30.0, 'Sleep stage N3'], [12150.0, 30.0, 'Sleep stage N3'], [12180.0, 30.0, 'Sleep stage N3'], [12210.0, 30.0, 'Sleep stage N3'], [12240.0, 30.0, 'Sleep stage N3'], [12270.0, 30.0, 'Sleep stage N3'], [12300.0, 30.0, 'Sleep stage N3'], [12330.0, 30.0, 'Sleep stage N3'], [12360.0, 30.0, 'Sleep stage N3'], [12390.0, 30.0, 'Sleep stage N3'], [12420.0, 30.0, 'Sleep stage N3'], [12450.0, 30.0, 'Sleep stage N3'], [12480.0, 30.0, 'Sleep stage N3'], [12510.0, 30.0, 'Sleep stage N3'], [12540.0, 30.0, 'Sleep stage N3'], [12570.0, 30.0, 'Sleep stage N3'], [12600.0, 30.0, 'Sleep stage N3'], [12630.0, 30.0, 'Sleep stage N3'], [12660.0, 30.0, 'Sleep stage N3'], [12690.0, 30.0, 'Sleep stage N1'], [12720.0, 30.0, 'Sleep stage N2'], [12750.0, 30.0, 'Sleep stage N2'], [12780.0, 30.0, 'Sleep stage N2'], [12810.0, 30.0, 'Sleep stage N2'], [12840.0, 30.0, 'Sleep stage N2'], [12870.0, 30.0, 'Sleep stage N2'], [12900.0, 30.0, 'Sleep stage N2'], [12930.0, 30.0, 'Sleep stage N2'], [12960.0, 30.0, 'Sleep stage N2'], [12990.0, 30.0, 'Sleep stage N2'], [13020.0, 30.0, 'Sleep stage N2'], [13050.0, 30.0, 'Sleep stage N2'], [13080.0, 30.0, 'Sleep stage N2'], [13110.0, 30.0, 'Sleep stage N2'], [13140.0, 30.0, 'Sleep stage N2'], [13170.0, 30.0, 'Sleep stage N2'], [13200.0, 30.0, 'Sleep stage N2'], [13230.0, 30.0, 'Sleep stage N2'], [13260.0, 30.0, 'Sleep stage N2'], [13290.0, 30.0, 'Sleep stage N2'], [13320.0, 30.0, 'Sleep stage N2'], [13350.0, 30.0, 'Sleep stage N2'], [13380.0, 30.0, 'Sleep stage N2'], [13410.0, 30.0, 'Sleep stage N2'], [13440.0, 30.0, 'Sleep stage N2'], [13470.0, 30.0, 'Sleep stage N2'], [13500.0, 30.0, 'Sleep stage N2'], [13530.0, 30.0, 'Sleep stage N2'], [13560.0, 30.0, 'Sleep stage N2'], [13590.0, 30.0, 'Sleep stage N2'], [13620.0, 30.0, 'Sleep stage N2'], [13650.0, 30.0, 'Sleep stage N2'], [13680.0, 30.0, 'Sleep stage N2'], [13710.0, 30.0, 'Sleep stage N2'], [13740.0, 30.0, 'Sleep stage N1'], [13770.0, 30.0, 'Sleep stage N1'], [13800.0, 30.0, 'Sleep stage N1'], [13830.0, 30.0, 'Sleep stage N2'], [13860.0, 30.0, 'Sleep stage N1'], [13890.0, 30.0, 'Sleep stage N1'], [13920.0, 30.0, 'Sleep stage N1'], [13950.0, 30.0, 'Sleep stage N2'], [13980.0, 30.0, 'Sleep stage N1'], [14010.0, 30.0, 'Sleep stage N1'], [14040.0, 30.0, 'Sleep stage N1'], [14070.0, 30.0, 'Sleep stage N1'], [14100.0, 30.0, 'Sleep stage R'], [14130.0, 30.0, 'Sleep stage R'], [14160.0, 30.0, 'Sleep stage R'], [14190.0, 30.0, 'Sleep stage R'], [14220.0, 30.0, 'Sleep stage N1'], [14250.0, 30.0, 'Sleep stage R'], [14280.0, 30.0, 'Sleep stage R'], [14310.0, 30.0, 'Sleep stage R'], [14340.0, 30.0, 'Sleep stage R'], [14370.0, 30.0, 'Sleep stage N1'], [14400.0, 30.0, 'Sleep stage R'], [14430.0, 30.0, 'Sleep stage R'], [14460.0, 30.0, 'Sleep stage R'], [14490.0, 30.0, 'Sleep stage R'], [14520.0, 30.0, 'Sleep stage R'], [14550.0, 30.0, 'Sleep stage R'], [14580.0, 30.0, 'Sleep stage R'], [14610.0, 30.0, 'Sleep stage R'], [14640.0, 30.0, 'Sleep stage R'], [14670.0, 30.0, 'Sleep stage R'], [14700.0, 30.0, 'Sleep stage R'], [14730.0, 30.0, 'Sleep stage R'], [14760.0, 30.0, 'Sleep stage R'], [14790.0, 30.0, 'Sleep stage R'], [14820.0, 30.0, 'Sleep stage R'], [14850.0, 30.0, 'Sleep stage R'], [14880.0, 30.0, 'Sleep stage R'], [14910.0, 30.0, 'Sleep stage R'], [14940.0, 30.0, 'Sleep stage R'], [14970.0, 30.0, 'Sleep stage R'], [15000.0, 30.0, 'Sleep stage N1'], [15030.0, 30.0, 'Sleep stage R'], [15060.0, 30.0, 'Sleep stage R'], [15090.0, 30.0, 'Sleep stage R'], [15120.0, 30.0, 'Sleep stage W'], [15150.0, 30.0, 'Sleep stage N1'], [15180.0, 30.0, 'Sleep stage N1'], [15210.0, 30.0, 'Sleep stage N1'], [15240.0, 30.0, 'Sleep stage N1'], [15270.0, 30.0, 'Sleep stage N1'], [15300.0, 30.0, 'Sleep stage N1'], [15330.0, 30.0, 'Sleep stage N1'], [15360.0, 30.0, 'Sleep stage N1'], [15390.0, 30.0, 'Sleep stage N1'], [15420.0, 30.0, 'Sleep stage R'], [15450.0, 30.0, 'Sleep stage R'], [15480.0, 30.0, 'Sleep stage N1'], [15510.0, 30.0, 'Sleep stage R'], [15540.0, 30.0, 'Sleep stage N1'], [15570.0, 30.0, 'Sleep stage N1'], [15600.0, 30.0, 'Sleep stage R'], [15630.0, 30.0, 'Sleep stage N1'], [15660.0, 30.0, 'Sleep stage N1'], [15690.0, 30.0, 'Sleep stage N2'], [15720.0, 30.0, 'Sleep stage N2'], [15750.0, 30.0, 'Sleep stage N1'], [15780.0, 30.0, 'Sleep stage W'], [15810.0, 30.0, 'Sleep stage N1'], [15840.0, 30.0, 'Sleep stage N2'], [15870.0, 30.0, 'Sleep stage N2'], [15900.0, 30.0, 'Sleep stage N2'], [15930.0, 30.0, 'Sleep stage N2'], [15960.0, 30.0, 'Sleep stage N2'], [15990.0, 30.0, 'Sleep stage N1'], [16020.0, 30.0, 'Sleep stage N1'], [16050.0, 30.0, 'Sleep stage N2'], [16080.0, 30.0, 'Sleep stage N1'], [16110.0, 30.0, 'Sleep stage N1'], [16140.0, 30.0, 'Sleep stage N1'], [16170.0, 30.0, 'Sleep stage N1'], [16200.0, 30.0, 'Sleep stage N1'], [16230.0, 30.0, 'Sleep stage N2'], [16260.0, 30.0, 'Sleep stage N2'], [16290.0, 30.0, 'Sleep stage N1'], [16320.0, 30.0, 'Sleep stage N2'], [16350.0, 30.0, 'Sleep stage N1'], [16380.0, 30.0, 'Sleep stage N1'], [16410.0, 30.0, 'Sleep stage N1'], [16440.0, 30.0, 'Sleep stage N2'], [16470.0, 30.0, 'Sleep stage N2'], [16500.0, 30.0, 'Sleep stage N2'], [16530.0, 30.0, 'Sleep stage N1'], [16560.0, 30.0, 'Sleep stage N1'], [16590.0, 30.0, 'Sleep stage N2'], [16620.0, 30.0, 'Sleep stage N2'], [16650.0, 30.0, 'Sleep stage N2'], [16680.0, 30.0, 'Sleep stage N2'], [16710.0, 30.0, 'Sleep stage W'], [16740.0, 30.0, 'Sleep stage W'], [16770.0, 30.0, 'Sleep stage W'], [16800.0, 30.0, 'Sleep stage N1'], [16830.0, 30.0, 'Sleep stage N1'], [16860.0, 30.0, 'Sleep stage N1'], [16890.0, 30.0, 'Sleep stage N1'], [16920.0, 30.0, 'Sleep stage N1'], [16950.0, 30.0, 'Sleep stage N1'], [16980.0, 30.0, 'Sleep stage N1'], [17010.0, 30.0, 'Sleep stage N1'], [17040.0, 30.0, 'Sleep stage N1'], [17070.0, 30.0, 'Sleep stage N2'], [17100.0, 30.0, 'Sleep stage N1'], [17130.0, 30.0, 'Sleep stage N1'], [17160.0, 30.0, 'Sleep stage N1'], [17190.0, 30.0, 'Sleep stage N1'], [17220.0, 30.0, 'Sleep stage N2'], [17250.0, 30.0, 'Sleep stage N2'], [17280.0, 30.0, 'Sleep stage N2'], [17310.0, 30.0, 'Sleep stage N2'], [17340.0, 30.0, 'Sleep stage N2'], [17370.0, 30.0, 'Sleep stage N2'], [17400.0, 30.0, 'Sleep stage N2'], [17430.0, 30.0, 'Sleep stage N2'], [17460.0, 30.0, 'Sleep stage N2'], [17490.0, 30.0, 'Sleep stage N2'], [17520.0, 30.0, 'Sleep stage N2'], [17550.0, 30.0, 'Sleep stage N2'], [17580.0, 30.0, 'Sleep stage N2'], [17610.0, 30.0, 'Sleep stage N2'], [17640.0, 30.0, 'Sleep stage N2'], [17670.0, 30.0, 'Sleep stage N1'], [17700.0, 30.0, 'Sleep stage N1'], [17730.0, 30.0, 'Sleep stage N1'], [17760.0, 30.0, 'Sleep stage N1'], [17790.0, 30.0, 'Sleep stage N1'], [17820.0, 30.0, 'Sleep stage N2'], [17850.0, 30.0, 'Sleep stage N2'], [17880.0, 30.0, 'Sleep stage N2'], [17910.0, 30.0, 'Sleep stage N1'], [17940.0, 30.0, 'Sleep stage N1'], [17970.0, 30.0, 'Sleep stage N2'], [18000.0, 30.0, 'Sleep stage N1'], [18030.0, 30.0, 'Sleep stage N1'], [18060.0, 30.0, 'Sleep stage N1'], [18090.0, 30.0, 'Sleep stage N1'], [18120.0, 30.0, 'Sleep stage N1'], [18150.0, 30.0, 'Sleep stage N2'], [18180.0, 30.0, 'Sleep stage N2'], [18210.0, 30.0, 'Sleep stage N2'], [18240.0, 30.0, 'Sleep stage N2'], [18270.0, 30.0, 'Sleep stage N2'], [18300.0, 30.0, 'Sleep stage N2'], [18330.0, 30.0, 'Sleep stage N2'], [18360.0, 30.0, 'Sleep stage N2'], [18390.0, 30.0, 'Sleep stage N2'], [18420.0, 30.0, 'Sleep stage N2'], [18450.0, 30.0, 'Sleep stage N2'], [18480.0, 30.0, 'Sleep stage N2'], [18510.0, 30.0, 'Sleep stage N2'], [18540.0, 30.0, 'Sleep stage N2'], [18570.0, 30.0, 'Sleep stage N2'], [18600.0, 30.0, 'Sleep stage N2'], [18630.0, 30.0, 'Sleep stage N2'], [18660.0, 30.0, 'Sleep stage N2'], [18690.0, 30.0, 'Sleep stage N2'], [18720.0, 30.0, 'Sleep stage N2'], [18750.0, 30.0, 'Sleep stage N3'], [18780.0, 30.0, 'Sleep stage N2'], [18810.0, 30.0, 'Sleep stage N3'], [18840.0, 30.0, 'Sleep stage N3'], [18870.0, 30.0, 'Sleep stage N3'], [18900.0, 30.0, 'Sleep stage N3'], [18930.0, 30.0, 'Sleep stage N1'], [18960.0, 30.0, 'Sleep stage N1'], [18990.0, 30.0, 'Sleep stage N2'], [19020.0, 30.0, 'Sleep stage N2'], [19050.0, 30.0, 'Sleep stage N2'], [19080.0, 30.0, 'Sleep stage N2'], [19110.0, 30.0, 'Sleep stage N2'], [19140.0, 30.0, 'Sleep stage N2'], [19170.0, 30.0, 'Sleep stage N2'], [19200.0, 30.0, 'Sleep stage N2'], [19230.0, 30.0, 'Sleep stage N2'], [19260.0, 30.0, 'Sleep stage N2'], [19290.0, 30.0, 'Sleep stage N1'], [19320.0, 30.0, 'Sleep stage N1'], [19350.0, 30.0, 'Sleep stage W'], [19380.0, 30.0, 'Sleep stage N1'], [19410.0, 30.0, 'Sleep stage N1'], [19440.0, 30.0, 'Sleep stage N1'], [19470.0, 30.0, 'Sleep stage N2'], [19500.0, 30.0, 'Sleep stage N2'], [19530.0, 30.0, 'Sleep stage N2'], [19560.0, 30.0, 'Sleep stage N1'], [19590.0, 30.0, 'Sleep stage N2'], [19620.0, 30.0, 'Sleep stage R'], [19650.0, 30.0, 'Sleep stage R'], [19680.0, 30.0, 'Sleep stage R'], [19710.0, 30.0, 'Sleep stage N1'], [19740.0, 30.0, 'Sleep stage R'], [19770.0, 30.0, 'Sleep stage R'], [19800.0, 30.0, 'Sleep stage R'], [19830.0, 30.0, 'Sleep stage R'], [19860.0, 30.0, 'Sleep stage R'], [19890.0, 30.0, 'Sleep stage R'], [19920.0, 30.0, 'Sleep stage R'], [19950.0, 30.0, 'Sleep stage R'], [19980.0, 30.0, 'Sleep stage R'], [20010.0, 30.0, 'Sleep stage R'], [20040.0, 30.0, 'Sleep stage R'], [20070.0, 30.0, 'Sleep stage N1'], [20100.0, 30.0, 'Sleep stage N1'], [20130.0, 30.0, 'Sleep stage N1'], [20160.0, 30.0, 'Sleep stage R'], [20190.0, 30.0, 'Sleep stage R'], [20220.0, 30.0, 'Sleep stage N1'], [20250.0, 30.0, 'Sleep stage R'], [20280.0, 30.0, 'Sleep stage R'], [20310.0, 30.0, 'Sleep stage N1'], [20340.0, 30.0, 'Sleep stage R'], [20370.0, 30.0, 'Sleep stage R'], [20400.0, 30.0, 'Sleep stage N1'], [20430.0, 30.0, 'Sleep stage N1'], [20460.0, 30.0, 'Sleep stage R'], [20490.0, 30.0, 'Sleep stage R'], [20520.0, 30.0, 'Sleep stage N1'], [20550.0, 30.0, 'Sleep stage R'], [20580.0, 30.0, 'Sleep stage R'], [20610.0, 30.0, 'Sleep stage N1'], [20640.0, 30.0, 'Sleep stage N1'], [20670.0, 30.0, 'Sleep stage R'], [20700.0, 30.0, 'Sleep stage R'], [20730.0, 30.0, 'Sleep stage N1'], [20760.0, 30.0, 'Sleep stage N1'], [20790.0, 30.0, 'Sleep stage R'], [20820.0, 30.0, 'Sleep stage W'], [20850.0, 30.0, 'Sleep stage N1'], [20880.0, 30.0, 'Sleep stage N1'], [20910.0, 30.0, 'Sleep stage N1'], [20940.0, 30.0, 'Sleep stage N1'], [20970.0, 30.0, 'Sleep stage N1'], [21000.0, 30.0, 'Sleep stage R'], [21030.0, 30.0, 'Sleep stage R'], [21060.0, 30.0, 'Sleep stage N1'], [21090.0, 30.0, 'Sleep stage N2'], [21120.0, 30.0, 'Sleep stage N2'], [21150.0, 30.0, 'Sleep stage N2'], [21180.0, 30.0, 'Sleep stage N2'], [21210.0, 30.0, 'Sleep stage N2'], [21240.0, 30.0, 'Sleep stage N2'], [21270.0, 30.0, 'Sleep stage N2'], [21300.0, 30.0, 'Sleep stage N2'], [21330.0, 30.0, 'Sleep stage N2'], [21360.0, 30.0, 'Sleep stage N3'], [21390.0, 30.0, 'Sleep stage N3'], [21420.0, 30.0, 'Sleep stage N3'], [21450.0, 30.0, 'Sleep stage N3'], [21480.0, 30.0, 'Sleep stage N3'], [21510.0, 30.0, 'Sleep stage N3'], [21540.0, 30.0, 'Sleep stage N3'], [21570.0, 30.0, 'Sleep stage N3'], [21600.0, 30.0, 'Sleep stage N3'], [21630.0, 30.0, 'Sleep stage N3'], [21660.0, 30.0, 'Sleep stage N3'], [21690.0, 30.0, 'Sleep stage N3'], [21720.0, 30.0, 'Sleep stage N3'], [21750.0, 30.0, 'Sleep stage N3'], [21780.0, 30.0, 'Sleep stage N3'], [21810.0, 30.0, 'Sleep stage N3'], [21840.0, 30.0, 'Sleep stage N3'], [21870.0, 30.0, 'Sleep stage N3'], [21900.0, 30.0, 'Sleep stage N3'], [21930.0, 30.0, 'Sleep stage N3'], [21960.0, 30.0, 'Sleep stage N3'], [21990.0, 30.0, 'Sleep stage N3'], [22020.0, 30.0, 'Sleep stage N2'], [22050.0, 30.0, 'Sleep stage N2'], [22080.0, 30.0, 'Sleep stage N1'], [22110.0, 30.0, 'Sleep stage N1'], [22140.0, 30.0, 'Sleep stage N1'], [22170.0, 30.0, 'Sleep stage N1'], [22200.0, 30.0, 'Sleep stage N1'], [22230.0, 30.0, 'Sleep stage W'], [22260.0, 30.0, 'Sleep stage W'], [22290.0, 30.0, 'Sleep stage N1'], [22320.0, 30.0, 'Sleep stage N1'], [22350.0, 30.0, 'Sleep stage N1'], [22380.0, 30.0, 'Sleep stage N1'], [22410.0, 30.0, 'Sleep stage W'], [22440.0, 30.0, 'Sleep stage W'], [22470.0, 30.0, 'Sleep stage W'], [22500.0, 30.0, 'Sleep stage W'], [22530.0, 30.0, 'Sleep stage W'], [22560.0, 30.0, 'Sleep stage W'], [22590.0, 30.0, 'Sleep stage W'], [22620.0, 30.0, 'Sleep stage N1'], [22650.0, 30.0, 'Sleep stage N1'], [22680.0, 30.0, 'Sleep stage N1'], [22710.0, 30.0, 'Sleep stage W'], [22740.0, 30.0, 'Sleep stage W'], [22770.0, 30.0, 'Sleep stage W'], [22800.0, 30.0, 'Sleep stage W'], [22830.0, 30.0, 'Sleep stage N1'], [22860.0, 30.0, 'Sleep stage W'], [22890.0, 30.0, 'Sleep stage N1'], [22920.0, 30.0, 'Sleep stage N1'], [22950.0, 30.0, 'Sleep stage W'], [22980.0, 30.0, 'Sleep stage W'], [23010.0, 30.0, 'Sleep stage W'], [23040.0, 30.0, 'Sleep stage W'], [23070.0, 30.0, 'Sleep stage N1'], [23100.0, 30.0, 'Sleep stage N1'], [23130.0, 30.0, 'Sleep stage N1'], [23159.7, 0.0, 'Lights on@@SaO2'], [23160.0, 30.0, 'Sleep stage W']]}]\n",
            "[[-4.95161364e+02 -3.51604486e+02 -2.39322499e+02 ... -3.66216526e-02\n",
            "  -3.66216526e-02 -3.66216526e-02]]\n",
            "{'technician': '', 'recording_additional': '', 'patientname': 'X', 'patient_additional': '', 'patientcode': 'SN031', 'equipment': '', 'admincode': '', 'gender': '', 'startdate': datetime.datetime(2001, 1, 1, 0, 49), 'birthdate': '', 'annotations': [[0.0, 30.0, 'Sleep stage W'], [30.0, 30.0, 'Sleep stage W'], [32.4, 0.0, 'Lights off@@SaO2'], [60.0, 30.0, 'Sleep stage W'], [90.0, 30.0, 'Sleep stage W'], [120.0, 30.0, 'Sleep stage W'], [150.0, 30.0, 'Sleep stage W'], [180.0, 30.0, 'Sleep stage W'], [210.0, 30.0, 'Sleep stage W'], [240.0, 30.0, 'Sleep stage W'], [270.0, 30.0, 'Sleep stage W'], [300.0, 30.0, 'Sleep stage W'], [330.0, 30.0, 'Sleep stage W'], [360.0, 30.0, 'Sleep stage W'], [390.0, 30.0, 'Sleep stage W'], [420.0, 30.0, 'Sleep stage W'], [450.0, 30.0, 'Sleep stage W'], [480.0, 30.0, 'Sleep stage W'], [510.0, 30.0, 'Sleep stage W'], [540.0, 30.0, 'Sleep stage W'], [570.0, 30.0, 'Sleep stage W'], [600.0, 30.0, 'Sleep stage W'], [630.0, 30.0, 'Sleep stage W'], [660.0, 30.0, 'Sleep stage W'], [690.0, 30.0, 'Sleep stage W'], [720.0, 30.0, 'Sleep stage N1'], [750.0, 30.0, 'Sleep stage W'], [780.0, 30.0, 'Sleep stage W'], [810.0, 30.0, 'Sleep stage W'], [840.0, 30.0, 'Sleep stage W'], [870.0, 30.0, 'Sleep stage W'], [900.0, 30.0, 'Sleep stage W'], [930.0, 30.0, 'Sleep stage W'], [960.0, 30.0, 'Sleep stage W'], [990.0, 30.0, 'Sleep stage N1'], [1020.0, 30.0, 'Sleep stage N1'], [1050.0, 30.0, 'Sleep stage N1'], [1080.0, 30.0, 'Sleep stage N1'], [1110.0, 30.0, 'Sleep stage N1'], [1140.0, 30.0, 'Sleep stage N1'], [1170.0, 30.0, 'Sleep stage N1'], [1200.0, 30.0, 'Sleep stage N1'], [1230.0, 30.0, 'Sleep stage N1'], [1260.0, 30.0, 'Sleep stage N1'], [1290.0, 30.0, 'Sleep stage N2'], [1320.0, 30.0, 'Sleep stage N1'], [1350.0, 30.0, 'Sleep stage W'], [1380.0, 30.0, 'Sleep stage W'], [1410.0, 30.0, 'Sleep stage N1'], [1440.0, 30.0, 'Sleep stage N1'], [1470.0, 30.0, 'Sleep stage N1'], [1500.0, 30.0, 'Sleep stage N2'], [1530.0, 30.0, 'Sleep stage N1'], [1560.0, 30.0, 'Sleep stage N2'], [1590.0, 30.0, 'Sleep stage N2'], [1620.0, 30.0, 'Sleep stage N2'], [1650.0, 30.0, 'Sleep stage N2'], [1680.0, 30.0, 'Sleep stage N2'], [1710.0, 30.0, 'Sleep stage N2'], [1740.0, 30.0, 'Sleep stage N2'], [1770.0, 30.0, 'Sleep stage N2'], [1800.0, 30.0, 'Sleep stage N2'], [1830.0, 30.0, 'Sleep stage N2'], [1860.0, 30.0, 'Sleep stage N2'], [1890.0, 30.0, 'Sleep stage N2'], [1920.0, 30.0, 'Sleep stage N2'], [1950.0, 30.0, 'Sleep stage N2'], [1980.0, 30.0, 'Sleep stage N2'], [2010.0, 30.0, 'Sleep stage N2'], [2040.0, 30.0, 'Sleep stage N2'], [2070.0, 30.0, 'Sleep stage N3'], [2100.0, 30.0, 'Sleep stage N3'], [2130.0, 30.0, 'Sleep stage N3'], [2160.0, 30.0, 'Sleep stage N3'], [2190.0, 30.0, 'Sleep stage N3'], [2220.0, 30.0, 'Sleep stage N3'], [2250.0, 30.0, 'Sleep stage N3'], [2280.0, 30.0, 'Sleep stage N3'], [2310.0, 30.0, 'Sleep stage N1'], [2340.0, 30.0, 'Sleep stage N2'], [2370.0, 30.0, 'Sleep stage N2'], [2400.0, 30.0, 'Sleep stage N2'], [2430.0, 30.0, 'Sleep stage N2'], [2460.0, 30.0, 'Sleep stage N2'], [2490.0, 30.0, 'Sleep stage N2'], [2520.0, 30.0, 'Sleep stage N2'], [2550.0, 30.0, 'Sleep stage N1'], [2580.0, 30.0, 'Sleep stage W'], [2610.0, 30.0, 'Sleep stage N1'], [2640.0, 30.0, 'Sleep stage N1'], [2670.0, 30.0, 'Sleep stage N1'], [2700.0, 30.0, 'Sleep stage N2'], [2730.0, 30.0, 'Sleep stage N1'], [2760.0, 30.0, 'Sleep stage N2'], [2790.0, 30.0, 'Sleep stage N2'], [2820.0, 30.0, 'Sleep stage N2'], [2850.0, 30.0, 'Sleep stage N2'], [2880.0, 30.0, 'Sleep stage N2'], [2910.0, 30.0, 'Sleep stage N2'], [2940.0, 30.0, 'Sleep stage N2'], [2970.0, 30.0, 'Sleep stage N2'], [3000.0, 30.0, 'Sleep stage N2'], [3030.0, 30.0, 'Sleep stage N3'], [3060.0, 30.0, 'Sleep stage N3'], [3090.0, 30.0, 'Sleep stage N3'], [3120.0, 30.0, 'Sleep stage N3'], [3150.0, 30.0, 'Sleep stage N3'], [3180.0, 30.0, 'Sleep stage N3'], [3210.0, 30.0, 'Sleep stage N3'], [3240.0, 30.0, 'Sleep stage N3'], [3270.0, 30.0, 'Sleep stage N3'], [3300.0, 30.0, 'Sleep stage N3'], [3330.0, 30.0, 'Sleep stage N3'], [3360.0, 30.0, 'Sleep stage N3'], [3390.0, 30.0, 'Sleep stage N3'], [3420.0, 30.0, 'Sleep stage N3'], [3450.0, 30.0, 'Sleep stage N3'], [3480.0, 30.0, 'Sleep stage N3'], [3510.0, 30.0, 'Sleep stage N3'], [3540.0, 30.0, 'Sleep stage N3'], [3570.0, 30.0, 'Sleep stage N3'], [3600.0, 30.0, 'Sleep stage N3'], [3630.0, 30.0, 'Sleep stage N3'], [3660.0, 30.0, 'Sleep stage N3'], [3690.0, 30.0, 'Sleep stage N3'], [3720.0, 30.0, 'Sleep stage N3'], [3750.0, 30.0, 'Sleep stage N3'], [3780.0, 30.0, 'Sleep stage N3'], [3810.0, 30.0, 'Sleep stage N3'], [3840.0, 30.0, 'Sleep stage N3'], [3870.0, 30.0, 'Sleep stage N3'], [3900.0, 30.0, 'Sleep stage R'], [3930.0, 30.0, 'Sleep stage R'], [3960.0, 30.0, 'Sleep stage R'], [3990.0, 30.0, 'Sleep stage R'], [4020.0, 30.0, 'Sleep stage N1'], [4050.0, 30.0, 'Sleep stage N1'], [4080.0, 30.0, 'Sleep stage N1'], [4110.0, 30.0, 'Sleep stage W'], [4140.0, 30.0, 'Sleep stage N1'], [4170.0, 30.0, 'Sleep stage R'], [4200.0, 30.0, 'Sleep stage R'], [4230.0, 30.0, 'Sleep stage R'], [4260.0, 30.0, 'Sleep stage R'], [4290.0, 30.0, 'Sleep stage N1'], [4320.0, 30.0, 'Sleep stage N1'], [4350.0, 30.0, 'Sleep stage N1'], [4380.0, 30.0, 'Sleep stage N1'], [4410.0, 30.0, 'Sleep stage N1'], [4440.0, 30.0, 'Sleep stage N1'], [4470.0, 30.0, 'Sleep stage R'], [4500.0, 30.0, 'Sleep stage R'], [4530.0, 30.0, 'Sleep stage N1'], [4560.0, 30.0, 'Sleep stage N1'], [4590.0, 30.0, 'Sleep stage N1'], [4620.0, 30.0, 'Sleep stage N1'], [4650.0, 30.0, 'Sleep stage N1'], [4680.0, 30.0, 'Sleep stage R'], [4710.0, 30.0, 'Sleep stage N1'], [4740.0, 30.0, 'Sleep stage N1'], [4770.0, 30.0, 'Sleep stage R'], [4800.0, 30.0, 'Sleep stage R'], [4830.0, 30.0, 'Sleep stage N1'], [4860.0, 30.0, 'Sleep stage N1'], [4890.0, 30.0, 'Sleep stage N1'], [4920.0, 30.0, 'Sleep stage R'], [4950.0, 30.0, 'Sleep stage N1'], [4980.0, 30.0, 'Sleep stage R'], [5010.0, 30.0, 'Sleep stage R'], [5040.0, 30.0, 'Sleep stage N1'], [5070.0, 30.0, 'Sleep stage N1'], [5100.0, 30.0, 'Sleep stage N1'], [5130.0, 30.0, 'Sleep stage N1'], [5160.0, 30.0, 'Sleep stage N1'], [5190.0, 30.0, 'Sleep stage N1'], [5220.0, 30.0, 'Sleep stage W'], [5250.0, 30.0, 'Sleep stage N1'], [5280.0, 30.0, 'Sleep stage N1'], [5310.0, 30.0, 'Sleep stage N1'], [5340.0, 30.0, 'Sleep stage N1'], [5370.0, 30.0, 'Sleep stage N1'], [5400.0, 30.0, 'Sleep stage N2'], [5430.0, 30.0, 'Sleep stage N2'], [5460.0, 30.0, 'Sleep stage N2'], [5490.0, 30.0, 'Sleep stage N2'], [5520.0, 30.0, 'Sleep stage N2'], [5550.0, 30.0, 'Sleep stage N2'], [5580.0, 30.0, 'Sleep stage N2'], [5610.0, 30.0, 'Sleep stage N2'], [5640.0, 30.0, 'Sleep stage N2'], [5670.0, 30.0, 'Sleep stage W'], [5700.0, 30.0, 'Sleep stage W'], [5730.0, 30.0, 'Sleep stage W'], [5760.0, 30.0, 'Sleep stage N1'], [5790.0, 30.0, 'Sleep stage W'], [5820.0, 30.0, 'Sleep stage W'], [5850.0, 30.0, 'Sleep stage N1'], [5880.0, 30.0, 'Sleep stage N2'], [5910.0, 30.0, 'Sleep stage N2'], [5940.0, 30.0, 'Sleep stage N1'], [5970.0, 30.0, 'Sleep stage N2'], [6000.0, 30.0, 'Sleep stage N2'], [6030.0, 30.0, 'Sleep stage N2'], [6060.0, 30.0, 'Sleep stage N2'], [6090.0, 30.0, 'Sleep stage N2'], [6120.0, 30.0, 'Sleep stage N2'], [6150.0, 30.0, 'Sleep stage N2'], [6180.0, 30.0, 'Sleep stage N2'], [6210.0, 30.0, 'Sleep stage N2'], [6240.0, 30.0, 'Sleep stage N2'], [6270.0, 30.0, 'Sleep stage N2'], [6300.0, 30.0, 'Sleep stage N2'], [6330.0, 30.0, 'Sleep stage N2'], [6360.0, 30.0, 'Sleep stage N2'], [6390.0, 30.0, 'Sleep stage N2'], [6420.0, 30.0, 'Sleep stage N2'], [6450.0, 30.0, 'Sleep stage N2'], [6480.0, 30.0, 'Sleep stage N2'], [6510.0, 30.0, 'Sleep stage N3'], [6540.0, 30.0, 'Sleep stage N3'], [6570.0, 30.0, 'Sleep stage N3'], [6600.0, 30.0, 'Sleep stage N3'], [6630.0, 30.0, 'Sleep stage N3'], [6660.0, 30.0, 'Sleep stage N3'], [6690.0, 30.0, 'Sleep stage N3'], [6720.0, 30.0, 'Sleep stage N3'], [6750.0, 30.0, 'Sleep stage N3'], [6780.0, 30.0, 'Sleep stage N3'], [6810.0, 30.0, 'Sleep stage N3'], [6840.0, 30.0, 'Sleep stage N3'], [6870.0, 30.0, 'Sleep stage N3'], [6900.0, 30.0, 'Sleep stage N3'], [6930.0, 30.0, 'Sleep stage N3'], [6960.0, 30.0, 'Sleep stage N3'], [6990.0, 30.0, 'Sleep stage N3'], [7020.0, 30.0, 'Sleep stage N3'], [7050.0, 30.0, 'Sleep stage N3'], [7080.0, 30.0, 'Sleep stage N3'], [7110.0, 30.0, 'Sleep stage N3'], [7140.0, 30.0, 'Sleep stage N3'], [7170.0, 30.0, 'Sleep stage N2'], [7200.0, 30.0, 'Sleep stage N3'], [7230.0, 30.0, 'Sleep stage N2'], [7260.0, 30.0, 'Sleep stage N1'], [7290.0, 30.0, 'Sleep stage W'], [7320.0, 30.0, 'Sleep stage N1'], [7350.0, 30.0, 'Sleep stage N1'], [7380.0, 30.0, 'Sleep stage N1'], [7410.0, 30.0, 'Sleep stage N1'], [7440.0, 30.0, 'Sleep stage N2'], [7470.0, 30.0, 'Sleep stage N2'], [7500.0, 30.0, 'Sleep stage N1'], [7530.0, 30.0, 'Sleep stage N1'], [7560.0, 30.0, 'Sleep stage W'], [7590.0, 30.0, 'Sleep stage N1'], [7620.0, 30.0, 'Sleep stage N1'], [7650.0, 30.0, 'Sleep stage N1'], [7680.0, 30.0, 'Sleep stage N1'], [7710.0, 30.0, 'Sleep stage N2'], [7740.0, 30.0, 'Sleep stage N2'], [7770.0, 30.0, 'Sleep stage N2'], [7800.0, 30.0, 'Sleep stage N2'], [7830.0, 30.0, 'Sleep stage N2'], [7860.0, 30.0, 'Sleep stage N2'], [7890.0, 30.0, 'Sleep stage N2'], [7920.0, 30.0, 'Sleep stage N2'], [7950.0, 30.0, 'Sleep stage N2'], [7980.0, 30.0, 'Sleep stage N2'], [8010.0, 30.0, 'Sleep stage N2'], [8040.0, 30.0, 'Sleep stage W'], [8070.0, 30.0, 'Sleep stage N1'], [8100.0, 30.0, 'Sleep stage N1'], [8130.0, 30.0, 'Sleep stage N2'], [8160.0, 30.0, 'Sleep stage N2'], [8190.0, 30.0, 'Sleep stage N2'], [8220.0, 30.0, 'Sleep stage N1'], [8250.0, 30.0, 'Sleep stage N2'], [8280.0, 30.0, 'Sleep stage N2'], [8310.0, 30.0, 'Sleep stage N2'], [8340.0, 30.0, 'Sleep stage N3'], [8370.0, 30.0, 'Sleep stage N3'], [8400.0, 30.0, 'Sleep stage N3'], [8430.0, 30.0, 'Sleep stage N3'], [8460.0, 30.0, 'Sleep stage N1'], [8490.0, 30.0, 'Sleep stage N1'], [8520.0, 30.0, 'Sleep stage N2'], [8550.0, 30.0, 'Sleep stage N2'], [8580.0, 30.0, 'Sleep stage N3'], [8610.0, 30.0, 'Sleep stage N3'], [8640.0, 30.0, 'Sleep stage N3'], [8670.0, 30.0, 'Sleep stage N3'], [8700.0, 30.0, 'Sleep stage N3'], [8730.0, 30.0, 'Sleep stage N3'], [8760.0, 30.0, 'Sleep stage N3'], [8790.0, 30.0, 'Sleep stage N3'], [8820.0, 30.0, 'Sleep stage N3'], [8850.0, 30.0, 'Sleep stage N1'], [8880.0, 30.0, 'Sleep stage N1'], [8910.0, 30.0, 'Sleep stage N2'], [8940.0, 30.0, 'Sleep stage N1'], [8970.0, 30.0, 'Sleep stage N2'], [9000.0, 30.0, 'Sleep stage N2'], [9030.0, 30.0, 'Sleep stage N1'], [9060.0, 30.0, 'Sleep stage N2'], [9090.0, 30.0, 'Sleep stage N2'], [9120.0, 30.0, 'Sleep stage N2'], [9150.0, 30.0, 'Sleep stage N1'], [9180.0, 30.0, 'Sleep stage R'], [9210.0, 30.0, 'Sleep stage R'], [9240.0, 30.0, 'Sleep stage R'], [9270.0, 30.0, 'Sleep stage R'], [9300.0, 30.0, 'Sleep stage N1'], [9330.0, 30.0, 'Sleep stage R'], [9360.0, 30.0, 'Sleep stage R'], [9390.0, 30.0, 'Sleep stage N1'], [9420.0, 30.0, 'Sleep stage N1'], [9450.0, 30.0, 'Sleep stage N1'], [9480.0, 30.0, 'Sleep stage R'], [9510.0, 30.0, 'Sleep stage N1'], [9540.0, 30.0, 'Sleep stage R'], [9570.0, 30.0, 'Sleep stage N1'], [9600.0, 30.0, 'Sleep stage R'], [9630.0, 30.0, 'Sleep stage R'], [9660.0, 30.0, 'Sleep stage N1'], [9690.0, 30.0, 'Sleep stage R'], [9720.0, 30.0, 'Sleep stage N1'], [9750.0, 30.0, 'Sleep stage N1'], [9780.0, 30.0, 'Sleep stage R'], [9810.0, 30.0, 'Sleep stage R'], [9840.0, 30.0, 'Sleep stage N1'], [9870.0, 30.0, 'Sleep stage R'], [9900.0, 30.0, 'Sleep stage R'], [9930.0, 30.0, 'Sleep stage N1'], [9960.0, 30.0, 'Sleep stage R'], [9990.0, 30.0, 'Sleep stage R'], [10020.0, 30.0, 'Sleep stage R'], [10050.0, 30.0, 'Sleep stage R'], [10080.0, 30.0, 'Sleep stage R'], [10110.0, 30.0, 'Sleep stage R'], [10140.0, 30.0, 'Sleep stage R'], [10170.0, 30.0, 'Sleep stage N1'], [10200.0, 30.0, 'Sleep stage R'], [10230.0, 30.0, 'Sleep stage R'], [10260.0, 30.0, 'Sleep stage N1'], [10290.0, 30.0, 'Sleep stage R'], [10320.0, 30.0, 'Sleep stage R'], [10350.0, 30.0, 'Sleep stage N1'], [10380.0, 30.0, 'Sleep stage R'], [10410.0, 30.0, 'Sleep stage R'], [10440.0, 30.0, 'Sleep stage N1'], [10470.0, 30.0, 'Sleep stage R'], [10500.0, 30.0, 'Sleep stage R'], [10530.0, 30.0, 'Sleep stage W'], [10560.0, 30.0, 'Sleep stage N1'], [10590.0, 30.0, 'Sleep stage N1'], [10620.0, 30.0, 'Sleep stage R'], [10650.0, 30.0, 'Sleep stage N1'], [10680.0, 30.0, 'Sleep stage R'], [10710.0, 30.0, 'Sleep stage R'], [10740.0, 30.0, 'Sleep stage N1'], [10770.0, 30.0, 'Sleep stage R'], [10800.0, 30.0, 'Sleep stage W'], [10830.0, 30.0, 'Sleep stage W'], [10860.0, 30.0, 'Sleep stage N1'], [10890.0, 30.0, 'Sleep stage N1'], [10920.0, 30.0, 'Sleep stage N1'], [10950.0, 30.0, 'Sleep stage N1'], [10980.0, 30.0, 'Sleep stage N1'], [11010.0, 30.0, 'Sleep stage N1'], [11040.0, 30.0, 'Sleep stage N2'], [11070.0, 30.0, 'Sleep stage N2'], [11100.0, 30.0, 'Sleep stage N2'], [11130.0, 30.0, 'Sleep stage N1'], [11160.0, 30.0, 'Sleep stage N1'], [11190.0, 30.0, 'Sleep stage N1'], [11220.0, 30.0, 'Sleep stage N2'], [11250.0, 30.0, 'Sleep stage N2'], [11280.0, 30.0, 'Sleep stage N2'], [11310.0, 30.0, 'Sleep stage N2'], [11340.0, 30.0, 'Sleep stage N2'], [11370.0, 30.0, 'Sleep stage N2'], [11400.0, 30.0, 'Sleep stage N2'], [11430.0, 30.0, 'Sleep stage N2'], [11460.0, 30.0, 'Sleep stage N2'], [11490.0, 30.0, 'Sleep stage N2'], [11520.0, 30.0, 'Sleep stage N2'], [11550.0, 30.0, 'Sleep stage N2'], [11580.0, 30.0, 'Sleep stage N2'], [11610.0, 30.0, 'Sleep stage N2'], [11640.0, 30.0, 'Sleep stage N2'], [11670.0, 30.0, 'Sleep stage N2'], [11700.0, 30.0, 'Sleep stage N2'], [11730.0, 30.0, 'Sleep stage N2'], [11760.0, 30.0, 'Sleep stage N2'], [11790.0, 30.0, 'Sleep stage N2'], [11820.0, 30.0, 'Sleep stage N3'], [11850.0, 30.0, 'Sleep stage N3'], [11880.0, 30.0, 'Sleep stage N3'], [11910.0, 30.0, 'Sleep stage N3'], [11940.0, 30.0, 'Sleep stage N3'], [11970.0, 30.0, 'Sleep stage N3'], [12000.0, 30.0, 'Sleep stage N3'], [12030.0, 30.0, 'Sleep stage N3'], [12060.0, 30.0, 'Sleep stage N3'], [12090.0, 30.0, 'Sleep stage N3'], [12120.0, 30.0, 'Sleep stage N3'], [12150.0, 30.0, 'Sleep stage N3'], [12180.0, 30.0, 'Sleep stage N3'], [12210.0, 30.0, 'Sleep stage N3'], [12240.0, 30.0, 'Sleep stage N3'], [12270.0, 30.0, 'Sleep stage N3'], [12300.0, 30.0, 'Sleep stage N3'], [12330.0, 30.0, 'Sleep stage N3'], [12360.0, 30.0, 'Sleep stage N3'], [12390.0, 30.0, 'Sleep stage N3'], [12420.0, 30.0, 'Sleep stage N3'], [12450.0, 30.0, 'Sleep stage N3'], [12480.0, 30.0, 'Sleep stage N3'], [12510.0, 30.0, 'Sleep stage N3'], [12540.0, 30.0, 'Sleep stage N3'], [12570.0, 30.0, 'Sleep stage N3'], [12600.0, 30.0, 'Sleep stage N3'], [12630.0, 30.0, 'Sleep stage N3'], [12660.0, 30.0, 'Sleep stage N3'], [12690.0, 30.0, 'Sleep stage N1'], [12720.0, 30.0, 'Sleep stage N2'], [12750.0, 30.0, 'Sleep stage N2'], [12780.0, 30.0, 'Sleep stage N2'], [12810.0, 30.0, 'Sleep stage N2'], [12840.0, 30.0, 'Sleep stage N2'], [12870.0, 30.0, 'Sleep stage N2'], [12900.0, 30.0, 'Sleep stage N2'], [12930.0, 30.0, 'Sleep stage N2'], [12960.0, 30.0, 'Sleep stage N2'], [12990.0, 30.0, 'Sleep stage N2'], [13020.0, 30.0, 'Sleep stage N2'], [13050.0, 30.0, 'Sleep stage N2'], [13080.0, 30.0, 'Sleep stage N2'], [13110.0, 30.0, 'Sleep stage N2'], [13140.0, 30.0, 'Sleep stage N2'], [13170.0, 30.0, 'Sleep stage N2'], [13200.0, 30.0, 'Sleep stage N2'], [13230.0, 30.0, 'Sleep stage N2'], [13260.0, 30.0, 'Sleep stage N2'], [13290.0, 30.0, 'Sleep stage N2'], [13320.0, 30.0, 'Sleep stage N2'], [13350.0, 30.0, 'Sleep stage N2'], [13380.0, 30.0, 'Sleep stage N2'], [13410.0, 30.0, 'Sleep stage N2'], [13440.0, 30.0, 'Sleep stage N2'], [13470.0, 30.0, 'Sleep stage N2'], [13500.0, 30.0, 'Sleep stage N2'], [13530.0, 30.0, 'Sleep stage N2'], [13560.0, 30.0, 'Sleep stage N2'], [13590.0, 30.0, 'Sleep stage N2'], [13620.0, 30.0, 'Sleep stage N2'], [13650.0, 30.0, 'Sleep stage N2'], [13680.0, 30.0, 'Sleep stage N2'], [13710.0, 30.0, 'Sleep stage N2'], [13740.0, 30.0, 'Sleep stage N1'], [13770.0, 30.0, 'Sleep stage N1'], [13800.0, 30.0, 'Sleep stage N1'], [13830.0, 30.0, 'Sleep stage N2'], [13860.0, 30.0, 'Sleep stage N1'], [13890.0, 30.0, 'Sleep stage N1'], [13920.0, 30.0, 'Sleep stage N1'], [13950.0, 30.0, 'Sleep stage N2'], [13980.0, 30.0, 'Sleep stage N1'], [14010.0, 30.0, 'Sleep stage N1'], [14040.0, 30.0, 'Sleep stage N1'], [14070.0, 30.0, 'Sleep stage N1'], [14100.0, 30.0, 'Sleep stage R'], [14130.0, 30.0, 'Sleep stage R'], [14160.0, 30.0, 'Sleep stage R'], [14190.0, 30.0, 'Sleep stage R'], [14220.0, 30.0, 'Sleep stage N1'], [14250.0, 30.0, 'Sleep stage R'], [14280.0, 30.0, 'Sleep stage R'], [14310.0, 30.0, 'Sleep stage R'], [14340.0, 30.0, 'Sleep stage R'], [14370.0, 30.0, 'Sleep stage N1'], [14400.0, 30.0, 'Sleep stage R'], [14430.0, 30.0, 'Sleep stage R'], [14460.0, 30.0, 'Sleep stage R'], [14490.0, 30.0, 'Sleep stage R'], [14520.0, 30.0, 'Sleep stage R'], [14550.0, 30.0, 'Sleep stage R'], [14580.0, 30.0, 'Sleep stage R'], [14610.0, 30.0, 'Sleep stage R'], [14640.0, 30.0, 'Sleep stage R'], [14670.0, 30.0, 'Sleep stage R'], [14700.0, 30.0, 'Sleep stage R'], [14730.0, 30.0, 'Sleep stage R'], [14760.0, 30.0, 'Sleep stage R'], [14790.0, 30.0, 'Sleep stage R'], [14820.0, 30.0, 'Sleep stage R'], [14850.0, 30.0, 'Sleep stage R'], [14880.0, 30.0, 'Sleep stage R'], [14910.0, 30.0, 'Sleep stage R'], [14940.0, 30.0, 'Sleep stage R'], [14970.0, 30.0, 'Sleep stage R'], [15000.0, 30.0, 'Sleep stage N1'], [15030.0, 30.0, 'Sleep stage R'], [15060.0, 30.0, 'Sleep stage R'], [15090.0, 30.0, 'Sleep stage R'], [15120.0, 30.0, 'Sleep stage W'], [15150.0, 30.0, 'Sleep stage N1'], [15180.0, 30.0, 'Sleep stage N1'], [15210.0, 30.0, 'Sleep stage N1'], [15240.0, 30.0, 'Sleep stage N1'], [15270.0, 30.0, 'Sleep stage N1'], [15300.0, 30.0, 'Sleep stage N1'], [15330.0, 30.0, 'Sleep stage N1'], [15360.0, 30.0, 'Sleep stage N1'], [15390.0, 30.0, 'Sleep stage N1'], [15420.0, 30.0, 'Sleep stage R'], [15450.0, 30.0, 'Sleep stage R'], [15480.0, 30.0, 'Sleep stage N1'], [15510.0, 30.0, 'Sleep stage R'], [15540.0, 30.0, 'Sleep stage N1'], [15570.0, 30.0, 'Sleep stage N1'], [15600.0, 30.0, 'Sleep stage R'], [15630.0, 30.0, 'Sleep stage N1'], [15660.0, 30.0, 'Sleep stage N1'], [15690.0, 30.0, 'Sleep stage N2'], [15720.0, 30.0, 'Sleep stage N2'], [15750.0, 30.0, 'Sleep stage N1'], [15780.0, 30.0, 'Sleep stage W'], [15810.0, 30.0, 'Sleep stage N1'], [15840.0, 30.0, 'Sleep stage N2'], [15870.0, 30.0, 'Sleep stage N2'], [15900.0, 30.0, 'Sleep stage N2'], [15930.0, 30.0, 'Sleep stage N2'], [15960.0, 30.0, 'Sleep stage N2'], [15990.0, 30.0, 'Sleep stage N1'], [16020.0, 30.0, 'Sleep stage N1'], [16050.0, 30.0, 'Sleep stage N2'], [16080.0, 30.0, 'Sleep stage N1'], [16110.0, 30.0, 'Sleep stage N1'], [16140.0, 30.0, 'Sleep stage N1'], [16170.0, 30.0, 'Sleep stage N1'], [16200.0, 30.0, 'Sleep stage N1'], [16230.0, 30.0, 'Sleep stage N2'], [16260.0, 30.0, 'Sleep stage N2'], [16290.0, 30.0, 'Sleep stage N1'], [16320.0, 30.0, 'Sleep stage N2'], [16350.0, 30.0, 'Sleep stage N1'], [16380.0, 30.0, 'Sleep stage N1'], [16410.0, 30.0, 'Sleep stage N1'], [16440.0, 30.0, 'Sleep stage N2'], [16470.0, 30.0, 'Sleep stage N2'], [16500.0, 30.0, 'Sleep stage N2'], [16530.0, 30.0, 'Sleep stage N1'], [16560.0, 30.0, 'Sleep stage N1'], [16590.0, 30.0, 'Sleep stage N2'], [16620.0, 30.0, 'Sleep stage N2'], [16650.0, 30.0, 'Sleep stage N2'], [16680.0, 30.0, 'Sleep stage N2'], [16710.0, 30.0, 'Sleep stage W'], [16740.0, 30.0, 'Sleep stage W'], [16770.0, 30.0, 'Sleep stage W'], [16800.0, 30.0, 'Sleep stage N1'], [16830.0, 30.0, 'Sleep stage N1'], [16860.0, 30.0, 'Sleep stage N1'], [16890.0, 30.0, 'Sleep stage N1'], [16920.0, 30.0, 'Sleep stage N1'], [16950.0, 30.0, 'Sleep stage N1'], [16980.0, 30.0, 'Sleep stage N1'], [17010.0, 30.0, 'Sleep stage N1'], [17040.0, 30.0, 'Sleep stage N1'], [17070.0, 30.0, 'Sleep stage N2'], [17100.0, 30.0, 'Sleep stage N1'], [17130.0, 30.0, 'Sleep stage N1'], [17160.0, 30.0, 'Sleep stage N1'], [17190.0, 30.0, 'Sleep stage N1'], [17220.0, 30.0, 'Sleep stage N2'], [17250.0, 30.0, 'Sleep stage N2'], [17280.0, 30.0, 'Sleep stage N2'], [17310.0, 30.0, 'Sleep stage N2'], [17340.0, 30.0, 'Sleep stage N2'], [17370.0, 30.0, 'Sleep stage N2'], [17400.0, 30.0, 'Sleep stage N2'], [17430.0, 30.0, 'Sleep stage N2'], [17460.0, 30.0, 'Sleep stage N2'], [17490.0, 30.0, 'Sleep stage N2'], [17520.0, 30.0, 'Sleep stage N2'], [17550.0, 30.0, 'Sleep stage N2'], [17580.0, 30.0, 'Sleep stage N2'], [17610.0, 30.0, 'Sleep stage N2'], [17640.0, 30.0, 'Sleep stage N2'], [17670.0, 30.0, 'Sleep stage N1'], [17700.0, 30.0, 'Sleep stage N1'], [17730.0, 30.0, 'Sleep stage N1'], [17760.0, 30.0, 'Sleep stage N1'], [17790.0, 30.0, 'Sleep stage N1'], [17820.0, 30.0, 'Sleep stage N2'], [17850.0, 30.0, 'Sleep stage N2'], [17880.0, 30.0, 'Sleep stage N2'], [17910.0, 30.0, 'Sleep stage N1'], [17940.0, 30.0, 'Sleep stage N1'], [17970.0, 30.0, 'Sleep stage N2'], [18000.0, 30.0, 'Sleep stage N1'], [18030.0, 30.0, 'Sleep stage N1'], [18060.0, 30.0, 'Sleep stage N1'], [18090.0, 30.0, 'Sleep stage N1'], [18120.0, 30.0, 'Sleep stage N1'], [18150.0, 30.0, 'Sleep stage N2'], [18180.0, 30.0, 'Sleep stage N2'], [18210.0, 30.0, 'Sleep stage N2'], [18240.0, 30.0, 'Sleep stage N2'], [18270.0, 30.0, 'Sleep stage N2'], [18300.0, 30.0, 'Sleep stage N2'], [18330.0, 30.0, 'Sleep stage N2'], [18360.0, 30.0, 'Sleep stage N2'], [18390.0, 30.0, 'Sleep stage N2'], [18420.0, 30.0, 'Sleep stage N2'], [18450.0, 30.0, 'Sleep stage N2'], [18480.0, 30.0, 'Sleep stage N2'], [18510.0, 30.0, 'Sleep stage N2'], [18540.0, 30.0, 'Sleep stage N2'], [18570.0, 30.0, 'Sleep stage N2'], [18600.0, 30.0, 'Sleep stage N2'], [18630.0, 30.0, 'Sleep stage N2'], [18660.0, 30.0, 'Sleep stage N2'], [18690.0, 30.0, 'Sleep stage N2'], [18720.0, 30.0, 'Sleep stage N2'], [18750.0, 30.0, 'Sleep stage N3'], [18780.0, 30.0, 'Sleep stage N2'], [18810.0, 30.0, 'Sleep stage N3'], [18840.0, 30.0, 'Sleep stage N3'], [18870.0, 30.0, 'Sleep stage N3'], [18900.0, 30.0, 'Sleep stage N3'], [18930.0, 30.0, 'Sleep stage N1'], [18960.0, 30.0, 'Sleep stage N1'], [18990.0, 30.0, 'Sleep stage N2'], [19020.0, 30.0, 'Sleep stage N2'], [19050.0, 30.0, 'Sleep stage N2'], [19080.0, 30.0, 'Sleep stage N2'], [19110.0, 30.0, 'Sleep stage N2'], [19140.0, 30.0, 'Sleep stage N2'], [19170.0, 30.0, 'Sleep stage N2'], [19200.0, 30.0, 'Sleep stage N2'], [19230.0, 30.0, 'Sleep stage N2'], [19260.0, 30.0, 'Sleep stage N2'], [19290.0, 30.0, 'Sleep stage N1'], [19320.0, 30.0, 'Sleep stage N1'], [19350.0, 30.0, 'Sleep stage W'], [19380.0, 30.0, 'Sleep stage N1'], [19410.0, 30.0, 'Sleep stage N1'], [19440.0, 30.0, 'Sleep stage N1'], [19470.0, 30.0, 'Sleep stage N2'], [19500.0, 30.0, 'Sleep stage N2'], [19530.0, 30.0, 'Sleep stage N2'], [19560.0, 30.0, 'Sleep stage N1'], [19590.0, 30.0, 'Sleep stage N2'], [19620.0, 30.0, 'Sleep stage R'], [19650.0, 30.0, 'Sleep stage R'], [19680.0, 30.0, 'Sleep stage R'], [19710.0, 30.0, 'Sleep stage N1'], [19740.0, 30.0, 'Sleep stage R'], [19770.0, 30.0, 'Sleep stage R'], [19800.0, 30.0, 'Sleep stage R'], [19830.0, 30.0, 'Sleep stage R'], [19860.0, 30.0, 'Sleep stage R'], [19890.0, 30.0, 'Sleep stage R'], [19920.0, 30.0, 'Sleep stage R'], [19950.0, 30.0, 'Sleep stage R'], [19980.0, 30.0, 'Sleep stage R'], [20010.0, 30.0, 'Sleep stage R'], [20040.0, 30.0, 'Sleep stage R'], [20070.0, 30.0, 'Sleep stage N1'], [20100.0, 30.0, 'Sleep stage N1'], [20130.0, 30.0, 'Sleep stage N1'], [20160.0, 30.0, 'Sleep stage R'], [20190.0, 30.0, 'Sleep stage R'], [20220.0, 30.0, 'Sleep stage N1'], [20250.0, 30.0, 'Sleep stage R'], [20280.0, 30.0, 'Sleep stage R'], [20310.0, 30.0, 'Sleep stage N1'], [20340.0, 30.0, 'Sleep stage R'], [20370.0, 30.0, 'Sleep stage R'], [20400.0, 30.0, 'Sleep stage N1'], [20430.0, 30.0, 'Sleep stage N1'], [20460.0, 30.0, 'Sleep stage R'], [20490.0, 30.0, 'Sleep stage R'], [20520.0, 30.0, 'Sleep stage N1'], [20550.0, 30.0, 'Sleep stage R'], [20580.0, 30.0, 'Sleep stage R'], [20610.0, 30.0, 'Sleep stage N1'], [20640.0, 30.0, 'Sleep stage N1'], [20670.0, 30.0, 'Sleep stage R'], [20700.0, 30.0, 'Sleep stage R'], [20730.0, 30.0, 'Sleep stage N1'], [20760.0, 30.0, 'Sleep stage N1'], [20790.0, 30.0, 'Sleep stage R'], [20820.0, 30.0, 'Sleep stage W'], [20850.0, 30.0, 'Sleep stage N1'], [20880.0, 30.0, 'Sleep stage N1'], [20910.0, 30.0, 'Sleep stage N1'], [20940.0, 30.0, 'Sleep stage N1'], [20970.0, 30.0, 'Sleep stage N1'], [21000.0, 30.0, 'Sleep stage R'], [21030.0, 30.0, 'Sleep stage R'], [21060.0, 30.0, 'Sleep stage N1'], [21090.0, 30.0, 'Sleep stage N2'], [21120.0, 30.0, 'Sleep stage N2'], [21150.0, 30.0, 'Sleep stage N2'], [21180.0, 30.0, 'Sleep stage N2'], [21210.0, 30.0, 'Sleep stage N2'], [21240.0, 30.0, 'Sleep stage N2'], [21270.0, 30.0, 'Sleep stage N2'], [21300.0, 30.0, 'Sleep stage N2'], [21330.0, 30.0, 'Sleep stage N2'], [21360.0, 30.0, 'Sleep stage N3'], [21390.0, 30.0, 'Sleep stage N3'], [21420.0, 30.0, 'Sleep stage N3'], [21450.0, 30.0, 'Sleep stage N3'], [21480.0, 30.0, 'Sleep stage N3'], [21510.0, 30.0, 'Sleep stage N3'], [21540.0, 30.0, 'Sleep stage N3'], [21570.0, 30.0, 'Sleep stage N3'], [21600.0, 30.0, 'Sleep stage N3'], [21630.0, 30.0, 'Sleep stage N3'], [21660.0, 30.0, 'Sleep stage N3'], [21690.0, 30.0, 'Sleep stage N3'], [21720.0, 30.0, 'Sleep stage N3'], [21750.0, 30.0, 'Sleep stage N3'], [21780.0, 30.0, 'Sleep stage N3'], [21810.0, 30.0, 'Sleep stage N3'], [21840.0, 30.0, 'Sleep stage N3'], [21870.0, 30.0, 'Sleep stage N3'], [21900.0, 30.0, 'Sleep stage N3'], [21930.0, 30.0, 'Sleep stage N3'], [21960.0, 30.0, 'Sleep stage N3'], [21990.0, 30.0, 'Sleep stage N3'], [22020.0, 30.0, 'Sleep stage N2'], [22050.0, 30.0, 'Sleep stage N2'], [22080.0, 30.0, 'Sleep stage N1'], [22110.0, 30.0, 'Sleep stage N1'], [22140.0, 30.0, 'Sleep stage N1'], [22170.0, 30.0, 'Sleep stage N1'], [22200.0, 30.0, 'Sleep stage N1'], [22230.0, 30.0, 'Sleep stage W'], [22260.0, 30.0, 'Sleep stage W'], [22290.0, 30.0, 'Sleep stage N1'], [22320.0, 30.0, 'Sleep stage N1'], [22350.0, 30.0, 'Sleep stage N1'], [22380.0, 30.0, 'Sleep stage N1'], [22410.0, 30.0, 'Sleep stage W'], [22440.0, 30.0, 'Sleep stage W'], [22470.0, 30.0, 'Sleep stage W'], [22500.0, 30.0, 'Sleep stage W'], [22530.0, 30.0, 'Sleep stage W'], [22560.0, 30.0, 'Sleep stage W'], [22590.0, 30.0, 'Sleep stage W'], [22620.0, 30.0, 'Sleep stage N1'], [22650.0, 30.0, 'Sleep stage N1'], [22680.0, 30.0, 'Sleep stage N1'], [22710.0, 30.0, 'Sleep stage W'], [22740.0, 30.0, 'Sleep stage W'], [22770.0, 30.0, 'Sleep stage W'], [22800.0, 30.0, 'Sleep stage W'], [22830.0, 30.0, 'Sleep stage N1'], [22860.0, 30.0, 'Sleep stage W'], [22890.0, 30.0, 'Sleep stage N1'], [22920.0, 30.0, 'Sleep stage N1'], [22950.0, 30.0, 'Sleep stage W'], [22980.0, 30.0, 'Sleep stage W'], [23010.0, 30.0, 'Sleep stage W'], [23040.0, 30.0, 'Sleep stage W'], [23070.0, 30.0, 'Sleep stage N1'], [23100.0, 30.0, 'Sleep stage N1'], [23130.0, 30.0, 'Sleep stage N1'], [23159.7, 0.0, 'Lights on@@SaO2'], [23160.0, 30.0, 'Sleep stage W']]}\n",
            "1\n",
            "{'technician': '', 'recording_additional': '', 'patientname': 'X', 'patient_additional': '', 'patientcode': 'SN031', 'equipment': '', 'admincode': '', 'gender': '', 'startdate': datetime.datetime(2001, 1, 1, 0, 49), 'birthdate': '', 'annotations': [[0.0, 30.0, 'Sleep stage W'], [30.0, 30.0, 'Sleep stage W'], [32.4, 0.0, 'Lights off@@SaO2'], [60.0, 30.0, 'Sleep stage W'], [90.0, 30.0, 'Sleep stage W'], [120.0, 30.0, 'Sleep stage W'], [150.0, 30.0, 'Sleep stage W'], [180.0, 30.0, 'Sleep stage W'], [210.0, 30.0, 'Sleep stage W'], [240.0, 30.0, 'Sleep stage W'], [270.0, 30.0, 'Sleep stage W'], [300.0, 30.0, 'Sleep stage W'], [330.0, 30.0, 'Sleep stage W'], [360.0, 30.0, 'Sleep stage W'], [390.0, 30.0, 'Sleep stage W'], [420.0, 30.0, 'Sleep stage W'], [450.0, 30.0, 'Sleep stage W'], [480.0, 30.0, 'Sleep stage W'], [510.0, 30.0, 'Sleep stage W'], [540.0, 30.0, 'Sleep stage W'], [570.0, 30.0, 'Sleep stage W'], [600.0, 30.0, 'Sleep stage W'], [630.0, 30.0, 'Sleep stage W'], [660.0, 30.0, 'Sleep stage W'], [690.0, 30.0, 'Sleep stage W'], [720.0, 30.0, 'Sleep stage N1'], [750.0, 30.0, 'Sleep stage W'], [780.0, 30.0, 'Sleep stage W'], [810.0, 30.0, 'Sleep stage W'], [840.0, 30.0, 'Sleep stage W'], [870.0, 30.0, 'Sleep stage W'], [900.0, 30.0, 'Sleep stage W'], [930.0, 30.0, 'Sleep stage W'], [960.0, 30.0, 'Sleep stage W'], [990.0, 30.0, 'Sleep stage N1'], [1020.0, 30.0, 'Sleep stage N1'], [1050.0, 30.0, 'Sleep stage N1'], [1080.0, 30.0, 'Sleep stage N1'], [1110.0, 30.0, 'Sleep stage N1'], [1140.0, 30.0, 'Sleep stage N1'], [1170.0, 30.0, 'Sleep stage N1'], [1200.0, 30.0, 'Sleep stage N1'], [1230.0, 30.0, 'Sleep stage N1'], [1260.0, 30.0, 'Sleep stage N1'], [1290.0, 30.0, 'Sleep stage N2'], [1320.0, 30.0, 'Sleep stage N1'], [1350.0, 30.0, 'Sleep stage W'], [1380.0, 30.0, 'Sleep stage W'], [1410.0, 30.0, 'Sleep stage N1'], [1440.0, 30.0, 'Sleep stage N1'], [1470.0, 30.0, 'Sleep stage N1'], [1500.0, 30.0, 'Sleep stage N2'], [1530.0, 30.0, 'Sleep stage N1'], [1560.0, 30.0, 'Sleep stage N2'], [1590.0, 30.0, 'Sleep stage N2'], [1620.0, 30.0, 'Sleep stage N2'], [1650.0, 30.0, 'Sleep stage N2'], [1680.0, 30.0, 'Sleep stage N2'], [1710.0, 30.0, 'Sleep stage N2'], [1740.0, 30.0, 'Sleep stage N2'], [1770.0, 30.0, 'Sleep stage N2'], [1800.0, 30.0, 'Sleep stage N2'], [1830.0, 30.0, 'Sleep stage N2'], [1860.0, 30.0, 'Sleep stage N2'], [1890.0, 30.0, 'Sleep stage N2'], [1920.0, 30.0, 'Sleep stage N2'], [1950.0, 30.0, 'Sleep stage N2'], [1980.0, 30.0, 'Sleep stage N2'], [2010.0, 30.0, 'Sleep stage N2'], [2040.0, 30.0, 'Sleep stage N2'], [2070.0, 30.0, 'Sleep stage N3'], [2100.0, 30.0, 'Sleep stage N3'], [2130.0, 30.0, 'Sleep stage N3'], [2160.0, 30.0, 'Sleep stage N3'], [2190.0, 30.0, 'Sleep stage N3'], [2220.0, 30.0, 'Sleep stage N3'], [2250.0, 30.0, 'Sleep stage N3'], [2280.0, 30.0, 'Sleep stage N3'], [2310.0, 30.0, 'Sleep stage N1'], [2340.0, 30.0, 'Sleep stage N2'], [2370.0, 30.0, 'Sleep stage N2'], [2400.0, 30.0, 'Sleep stage N2'], [2430.0, 30.0, 'Sleep stage N2'], [2460.0, 30.0, 'Sleep stage N2'], [2490.0, 30.0, 'Sleep stage N2'], [2520.0, 30.0, 'Sleep stage N2'], [2550.0, 30.0, 'Sleep stage N1'], [2580.0, 30.0, 'Sleep stage W'], [2610.0, 30.0, 'Sleep stage N1'], [2640.0, 30.0, 'Sleep stage N1'], [2670.0, 30.0, 'Sleep stage N1'], [2700.0, 30.0, 'Sleep stage N2'], [2730.0, 30.0, 'Sleep stage N1'], [2760.0, 30.0, 'Sleep stage N2'], [2790.0, 30.0, 'Sleep stage N2'], [2820.0, 30.0, 'Sleep stage N2'], [2850.0, 30.0, 'Sleep stage N2'], [2880.0, 30.0, 'Sleep stage N2'], [2910.0, 30.0, 'Sleep stage N2'], [2940.0, 30.0, 'Sleep stage N2'], [2970.0, 30.0, 'Sleep stage N2'], [3000.0, 30.0, 'Sleep stage N2'], [3030.0, 30.0, 'Sleep stage N3'], [3060.0, 30.0, 'Sleep stage N3'], [3090.0, 30.0, 'Sleep stage N3'], [3120.0, 30.0, 'Sleep stage N3'], [3150.0, 30.0, 'Sleep stage N3'], [3180.0, 30.0, 'Sleep stage N3'], [3210.0, 30.0, 'Sleep stage N3'], [3240.0, 30.0, 'Sleep stage N3'], [3270.0, 30.0, 'Sleep stage N3'], [3300.0, 30.0, 'Sleep stage N3'], [3330.0, 30.0, 'Sleep stage N3'], [3360.0, 30.0, 'Sleep stage N3'], [3390.0, 30.0, 'Sleep stage N3'], [3420.0, 30.0, 'Sleep stage N3'], [3450.0, 30.0, 'Sleep stage N3'], [3480.0, 30.0, 'Sleep stage N3'], [3510.0, 30.0, 'Sleep stage N3'], [3540.0, 30.0, 'Sleep stage N3'], [3570.0, 30.0, 'Sleep stage N3'], [3600.0, 30.0, 'Sleep stage N3'], [3630.0, 30.0, 'Sleep stage N3'], [3660.0, 30.0, 'Sleep stage N3'], [3690.0, 30.0, 'Sleep stage N3'], [3720.0, 30.0, 'Sleep stage N3'], [3750.0, 30.0, 'Sleep stage N3'], [3780.0, 30.0, 'Sleep stage N3'], [3810.0, 30.0, 'Sleep stage N3'], [3840.0, 30.0, 'Sleep stage N3'], [3870.0, 30.0, 'Sleep stage N3'], [3900.0, 30.0, 'Sleep stage R'], [3930.0, 30.0, 'Sleep stage R'], [3960.0, 30.0, 'Sleep stage R'], [3990.0, 30.0, 'Sleep stage R'], [4020.0, 30.0, 'Sleep stage N1'], [4050.0, 30.0, 'Sleep stage N1'], [4080.0, 30.0, 'Sleep stage N1'], [4110.0, 30.0, 'Sleep stage W'], [4140.0, 30.0, 'Sleep stage N1'], [4170.0, 30.0, 'Sleep stage R'], [4200.0, 30.0, 'Sleep stage R'], [4230.0, 30.0, 'Sleep stage R'], [4260.0, 30.0, 'Sleep stage R'], [4290.0, 30.0, 'Sleep stage N1'], [4320.0, 30.0, 'Sleep stage N1'], [4350.0, 30.0, 'Sleep stage N1'], [4380.0, 30.0, 'Sleep stage N1'], [4410.0, 30.0, 'Sleep stage N1'], [4440.0, 30.0, 'Sleep stage N1'], [4470.0, 30.0, 'Sleep stage R'], [4500.0, 30.0, 'Sleep stage R'], [4530.0, 30.0, 'Sleep stage N1'], [4560.0, 30.0, 'Sleep stage N1'], [4590.0, 30.0, 'Sleep stage N1'], [4620.0, 30.0, 'Sleep stage N1'], [4650.0, 30.0, 'Sleep stage N1'], [4680.0, 30.0, 'Sleep stage R'], [4710.0, 30.0, 'Sleep stage N1'], [4740.0, 30.0, 'Sleep stage N1'], [4770.0, 30.0, 'Sleep stage R'], [4800.0, 30.0, 'Sleep stage R'], [4830.0, 30.0, 'Sleep stage N1'], [4860.0, 30.0, 'Sleep stage N1'], [4890.0, 30.0, 'Sleep stage N1'], [4920.0, 30.0, 'Sleep stage R'], [4950.0, 30.0, 'Sleep stage N1'], [4980.0, 30.0, 'Sleep stage R'], [5010.0, 30.0, 'Sleep stage R'], [5040.0, 30.0, 'Sleep stage N1'], [5070.0, 30.0, 'Sleep stage N1'], [5100.0, 30.0, 'Sleep stage N1'], [5130.0, 30.0, 'Sleep stage N1'], [5160.0, 30.0, 'Sleep stage N1'], [5190.0, 30.0, 'Sleep stage N1'], [5220.0, 30.0, 'Sleep stage W'], [5250.0, 30.0, 'Sleep stage N1'], [5280.0, 30.0, 'Sleep stage N1'], [5310.0, 30.0, 'Sleep stage N1'], [5340.0, 30.0, 'Sleep stage N1'], [5370.0, 30.0, 'Sleep stage N1'], [5400.0, 30.0, 'Sleep stage N2'], [5430.0, 30.0, 'Sleep stage N2'], [5460.0, 30.0, 'Sleep stage N2'], [5490.0, 30.0, 'Sleep stage N2'], [5520.0, 30.0, 'Sleep stage N2'], [5550.0, 30.0, 'Sleep stage N2'], [5580.0, 30.0, 'Sleep stage N2'], [5610.0, 30.0, 'Sleep stage N2'], [5640.0, 30.0, 'Sleep stage N2'], [5670.0, 30.0, 'Sleep stage W'], [5700.0, 30.0, 'Sleep stage W'], [5730.0, 30.0, 'Sleep stage W'], [5760.0, 30.0, 'Sleep stage N1'], [5790.0, 30.0, 'Sleep stage W'], [5820.0, 30.0, 'Sleep stage W'], [5850.0, 30.0, 'Sleep stage N1'], [5880.0, 30.0, 'Sleep stage N2'], [5910.0, 30.0, 'Sleep stage N2'], [5940.0, 30.0, 'Sleep stage N1'], [5970.0, 30.0, 'Sleep stage N2'], [6000.0, 30.0, 'Sleep stage N2'], [6030.0, 30.0, 'Sleep stage N2'], [6060.0, 30.0, 'Sleep stage N2'], [6090.0, 30.0, 'Sleep stage N2'], [6120.0, 30.0, 'Sleep stage N2'], [6150.0, 30.0, 'Sleep stage N2'], [6180.0, 30.0, 'Sleep stage N2'], [6210.0, 30.0, 'Sleep stage N2'], [6240.0, 30.0, 'Sleep stage N2'], [6270.0, 30.0, 'Sleep stage N2'], [6300.0, 30.0, 'Sleep stage N2'], [6330.0, 30.0, 'Sleep stage N2'], [6360.0, 30.0, 'Sleep stage N2'], [6390.0, 30.0, 'Sleep stage N2'], [6420.0, 30.0, 'Sleep stage N2'], [6450.0, 30.0, 'Sleep stage N2'], [6480.0, 30.0, 'Sleep stage N2'], [6510.0, 30.0, 'Sleep stage N3'], [6540.0, 30.0, 'Sleep stage N3'], [6570.0, 30.0, 'Sleep stage N3'], [6600.0, 30.0, 'Sleep stage N3'], [6630.0, 30.0, 'Sleep stage N3'], [6660.0, 30.0, 'Sleep stage N3'], [6690.0, 30.0, 'Sleep stage N3'], [6720.0, 30.0, 'Sleep stage N3'], [6750.0, 30.0, 'Sleep stage N3'], [6780.0, 30.0, 'Sleep stage N3'], [6810.0, 30.0, 'Sleep stage N3'], [6840.0, 30.0, 'Sleep stage N3'], [6870.0, 30.0, 'Sleep stage N3'], [6900.0, 30.0, 'Sleep stage N3'], [6930.0, 30.0, 'Sleep stage N3'], [6960.0, 30.0, 'Sleep stage N3'], [6990.0, 30.0, 'Sleep stage N3'], [7020.0, 30.0, 'Sleep stage N3'], [7050.0, 30.0, 'Sleep stage N3'], [7080.0, 30.0, 'Sleep stage N3'], [7110.0, 30.0, 'Sleep stage N3'], [7140.0, 30.0, 'Sleep stage N3'], [7170.0, 30.0, 'Sleep stage N2'], [7200.0, 30.0, 'Sleep stage N3'], [7230.0, 30.0, 'Sleep stage N2'], [7260.0, 30.0, 'Sleep stage N1'], [7290.0, 30.0, 'Sleep stage W'], [7320.0, 30.0, 'Sleep stage N1'], [7350.0, 30.0, 'Sleep stage N1'], [7380.0, 30.0, 'Sleep stage N1'], [7410.0, 30.0, 'Sleep stage N1'], [7440.0, 30.0, 'Sleep stage N2'], [7470.0, 30.0, 'Sleep stage N2'], [7500.0, 30.0, 'Sleep stage N1'], [7530.0, 30.0, 'Sleep stage N1'], [7560.0, 30.0, 'Sleep stage W'], [7590.0, 30.0, 'Sleep stage N1'], [7620.0, 30.0, 'Sleep stage N1'], [7650.0, 30.0, 'Sleep stage N1'], [7680.0, 30.0, 'Sleep stage N1'], [7710.0, 30.0, 'Sleep stage N2'], [7740.0, 30.0, 'Sleep stage N2'], [7770.0, 30.0, 'Sleep stage N2'], [7800.0, 30.0, 'Sleep stage N2'], [7830.0, 30.0, 'Sleep stage N2'], [7860.0, 30.0, 'Sleep stage N2'], [7890.0, 30.0, 'Sleep stage N2'], [7920.0, 30.0, 'Sleep stage N2'], [7950.0, 30.0, 'Sleep stage N2'], [7980.0, 30.0, 'Sleep stage N2'], [8010.0, 30.0, 'Sleep stage N2'], [8040.0, 30.0, 'Sleep stage W'], [8070.0, 30.0, 'Sleep stage N1'], [8100.0, 30.0, 'Sleep stage N1'], [8130.0, 30.0, 'Sleep stage N2'], [8160.0, 30.0, 'Sleep stage N2'], [8190.0, 30.0, 'Sleep stage N2'], [8220.0, 30.0, 'Sleep stage N1'], [8250.0, 30.0, 'Sleep stage N2'], [8280.0, 30.0, 'Sleep stage N2'], [8310.0, 30.0, 'Sleep stage N2'], [8340.0, 30.0, 'Sleep stage N3'], [8370.0, 30.0, 'Sleep stage N3'], [8400.0, 30.0, 'Sleep stage N3'], [8430.0, 30.0, 'Sleep stage N3'], [8460.0, 30.0, 'Sleep stage N1'], [8490.0, 30.0, 'Sleep stage N1'], [8520.0, 30.0, 'Sleep stage N2'], [8550.0, 30.0, 'Sleep stage N2'], [8580.0, 30.0, 'Sleep stage N3'], [8610.0, 30.0, 'Sleep stage N3'], [8640.0, 30.0, 'Sleep stage N3'], [8670.0, 30.0, 'Sleep stage N3'], [8700.0, 30.0, 'Sleep stage N3'], [8730.0, 30.0, 'Sleep stage N3'], [8760.0, 30.0, 'Sleep stage N3'], [8790.0, 30.0, 'Sleep stage N3'], [8820.0, 30.0, 'Sleep stage N3'], [8850.0, 30.0, 'Sleep stage N1'], [8880.0, 30.0, 'Sleep stage N1'], [8910.0, 30.0, 'Sleep stage N2'], [8940.0, 30.0, 'Sleep stage N1'], [8970.0, 30.0, 'Sleep stage N2'], [9000.0, 30.0, 'Sleep stage N2'], [9030.0, 30.0, 'Sleep stage N1'], [9060.0, 30.0, 'Sleep stage N2'], [9090.0, 30.0, 'Sleep stage N2'], [9120.0, 30.0, 'Sleep stage N2'], [9150.0, 30.0, 'Sleep stage N1'], [9180.0, 30.0, 'Sleep stage R'], [9210.0, 30.0, 'Sleep stage R'], [9240.0, 30.0, 'Sleep stage R'], [9270.0, 30.0, 'Sleep stage R'], [9300.0, 30.0, 'Sleep stage N1'], [9330.0, 30.0, 'Sleep stage R'], [9360.0, 30.0, 'Sleep stage R'], [9390.0, 30.0, 'Sleep stage N1'], [9420.0, 30.0, 'Sleep stage N1'], [9450.0, 30.0, 'Sleep stage N1'], [9480.0, 30.0, 'Sleep stage R'], [9510.0, 30.0, 'Sleep stage N1'], [9540.0, 30.0, 'Sleep stage R'], [9570.0, 30.0, 'Sleep stage N1'], [9600.0, 30.0, 'Sleep stage R'], [9630.0, 30.0, 'Sleep stage R'], [9660.0, 30.0, 'Sleep stage N1'], [9690.0, 30.0, 'Sleep stage R'], [9720.0, 30.0, 'Sleep stage N1'], [9750.0, 30.0, 'Sleep stage N1'], [9780.0, 30.0, 'Sleep stage R'], [9810.0, 30.0, 'Sleep stage R'], [9840.0, 30.0, 'Sleep stage N1'], [9870.0, 30.0, 'Sleep stage R'], [9900.0, 30.0, 'Sleep stage R'], [9930.0, 30.0, 'Sleep stage N1'], [9960.0, 30.0, 'Sleep stage R'], [9990.0, 30.0, 'Sleep stage R'], [10020.0, 30.0, 'Sleep stage R'], [10050.0, 30.0, 'Sleep stage R'], [10080.0, 30.0, 'Sleep stage R'], [10110.0, 30.0, 'Sleep stage R'], [10140.0, 30.0, 'Sleep stage R'], [10170.0, 30.0, 'Sleep stage N1'], [10200.0, 30.0, 'Sleep stage R'], [10230.0, 30.0, 'Sleep stage R'], [10260.0, 30.0, 'Sleep stage N1'], [10290.0, 30.0, 'Sleep stage R'], [10320.0, 30.0, 'Sleep stage R'], [10350.0, 30.0, 'Sleep stage N1'], [10380.0, 30.0, 'Sleep stage R'], [10410.0, 30.0, 'Sleep stage R'], [10440.0, 30.0, 'Sleep stage N1'], [10470.0, 30.0, 'Sleep stage R'], [10500.0, 30.0, 'Sleep stage R'], [10530.0, 30.0, 'Sleep stage W'], [10560.0, 30.0, 'Sleep stage N1'], [10590.0, 30.0, 'Sleep stage N1'], [10620.0, 30.0, 'Sleep stage R'], [10650.0, 30.0, 'Sleep stage N1'], [10680.0, 30.0, 'Sleep stage R'], [10710.0, 30.0, 'Sleep stage R'], [10740.0, 30.0, 'Sleep stage N1'], [10770.0, 30.0, 'Sleep stage R'], [10800.0, 30.0, 'Sleep stage W'], [10830.0, 30.0, 'Sleep stage W'], [10860.0, 30.0, 'Sleep stage N1'], [10890.0, 30.0, 'Sleep stage N1'], [10920.0, 30.0, 'Sleep stage N1'], [10950.0, 30.0, 'Sleep stage N1'], [10980.0, 30.0, 'Sleep stage N1'], [11010.0, 30.0, 'Sleep stage N1'], [11040.0, 30.0, 'Sleep stage N2'], [11070.0, 30.0, 'Sleep stage N2'], [11100.0, 30.0, 'Sleep stage N2'], [11130.0, 30.0, 'Sleep stage N1'], [11160.0, 30.0, 'Sleep stage N1'], [11190.0, 30.0, 'Sleep stage N1'], [11220.0, 30.0, 'Sleep stage N2'], [11250.0, 30.0, 'Sleep stage N2'], [11280.0, 30.0, 'Sleep stage N2'], [11310.0, 30.0, 'Sleep stage N2'], [11340.0, 30.0, 'Sleep stage N2'], [11370.0, 30.0, 'Sleep stage N2'], [11400.0, 30.0, 'Sleep stage N2'], [11430.0, 30.0, 'Sleep stage N2'], [11460.0, 30.0, 'Sleep stage N2'], [11490.0, 30.0, 'Sleep stage N2'], [11520.0, 30.0, 'Sleep stage N2'], [11550.0, 30.0, 'Sleep stage N2'], [11580.0, 30.0, 'Sleep stage N2'], [11610.0, 30.0, 'Sleep stage N2'], [11640.0, 30.0, 'Sleep stage N2'], [11670.0, 30.0, 'Sleep stage N2'], [11700.0, 30.0, 'Sleep stage N2'], [11730.0, 30.0, 'Sleep stage N2'], [11760.0, 30.0, 'Sleep stage N2'], [11790.0, 30.0, 'Sleep stage N2'], [11820.0, 30.0, 'Sleep stage N3'], [11850.0, 30.0, 'Sleep stage N3'], [11880.0, 30.0, 'Sleep stage N3'], [11910.0, 30.0, 'Sleep stage N3'], [11940.0, 30.0, 'Sleep stage N3'], [11970.0, 30.0, 'Sleep stage N3'], [12000.0, 30.0, 'Sleep stage N3'], [12030.0, 30.0, 'Sleep stage N3'], [12060.0, 30.0, 'Sleep stage N3'], [12090.0, 30.0, 'Sleep stage N3'], [12120.0, 30.0, 'Sleep stage N3'], [12150.0, 30.0, 'Sleep stage N3'], [12180.0, 30.0, 'Sleep stage N3'], [12210.0, 30.0, 'Sleep stage N3'], [12240.0, 30.0, 'Sleep stage N3'], [12270.0, 30.0, 'Sleep stage N3'], [12300.0, 30.0, 'Sleep stage N3'], [12330.0, 30.0, 'Sleep stage N3'], [12360.0, 30.0, 'Sleep stage N3'], [12390.0, 30.0, 'Sleep stage N3'], [12420.0, 30.0, 'Sleep stage N3'], [12450.0, 30.0, 'Sleep stage N3'], [12480.0, 30.0, 'Sleep stage N3'], [12510.0, 30.0, 'Sleep stage N3'], [12540.0, 30.0, 'Sleep stage N3'], [12570.0, 30.0, 'Sleep stage N3'], [12600.0, 30.0, 'Sleep stage N3'], [12630.0, 30.0, 'Sleep stage N3'], [12660.0, 30.0, 'Sleep stage N3'], [12690.0, 30.0, 'Sleep stage N1'], [12720.0, 30.0, 'Sleep stage N2'], [12750.0, 30.0, 'Sleep stage N2'], [12780.0, 30.0, 'Sleep stage N2'], [12810.0, 30.0, 'Sleep stage N2'], [12840.0, 30.0, 'Sleep stage N2'], [12870.0, 30.0, 'Sleep stage N2'], [12900.0, 30.0, 'Sleep stage N2'], [12930.0, 30.0, 'Sleep stage N2'], [12960.0, 30.0, 'Sleep stage N2'], [12990.0, 30.0, 'Sleep stage N2'], [13020.0, 30.0, 'Sleep stage N2'], [13050.0, 30.0, 'Sleep stage N2'], [13080.0, 30.0, 'Sleep stage N2'], [13110.0, 30.0, 'Sleep stage N2'], [13140.0, 30.0, 'Sleep stage N2'], [13170.0, 30.0, 'Sleep stage N2'], [13200.0, 30.0, 'Sleep stage N2'], [13230.0, 30.0, 'Sleep stage N2'], [13260.0, 30.0, 'Sleep stage N2'], [13290.0, 30.0, 'Sleep stage N2'], [13320.0, 30.0, 'Sleep stage N2'], [13350.0, 30.0, 'Sleep stage N2'], [13380.0, 30.0, 'Sleep stage N2'], [13410.0, 30.0, 'Sleep stage N2'], [13440.0, 30.0, 'Sleep stage N2'], [13470.0, 30.0, 'Sleep stage N2'], [13500.0, 30.0, 'Sleep stage N2'], [13530.0, 30.0, 'Sleep stage N2'], [13560.0, 30.0, 'Sleep stage N2'], [13590.0, 30.0, 'Sleep stage N2'], [13620.0, 30.0, 'Sleep stage N2'], [13650.0, 30.0, 'Sleep stage N2'], [13680.0, 30.0, 'Sleep stage N2'], [13710.0, 30.0, 'Sleep stage N2'], [13740.0, 30.0, 'Sleep stage N1'], [13770.0, 30.0, 'Sleep stage N1'], [13800.0, 30.0, 'Sleep stage N1'], [13830.0, 30.0, 'Sleep stage N2'], [13860.0, 30.0, 'Sleep stage N1'], [13890.0, 30.0, 'Sleep stage N1'], [13920.0, 30.0, 'Sleep stage N1'], [13950.0, 30.0, 'Sleep stage N2'], [13980.0, 30.0, 'Sleep stage N1'], [14010.0, 30.0, 'Sleep stage N1'], [14040.0, 30.0, 'Sleep stage N1'], [14070.0, 30.0, 'Sleep stage N1'], [14100.0, 30.0, 'Sleep stage R'], [14130.0, 30.0, 'Sleep stage R'], [14160.0, 30.0, 'Sleep stage R'], [14190.0, 30.0, 'Sleep stage R'], [14220.0, 30.0, 'Sleep stage N1'], [14250.0, 30.0, 'Sleep stage R'], [14280.0, 30.0, 'Sleep stage R'], [14310.0, 30.0, 'Sleep stage R'], [14340.0, 30.0, 'Sleep stage R'], [14370.0, 30.0, 'Sleep stage N1'], [14400.0, 30.0, 'Sleep stage R'], [14430.0, 30.0, 'Sleep stage R'], [14460.0, 30.0, 'Sleep stage R'], [14490.0, 30.0, 'Sleep stage R'], [14520.0, 30.0, 'Sleep stage R'], [14550.0, 30.0, 'Sleep stage R'], [14580.0, 30.0, 'Sleep stage R'], [14610.0, 30.0, 'Sleep stage R'], [14640.0, 30.0, 'Sleep stage R'], [14670.0, 30.0, 'Sleep stage R'], [14700.0, 30.0, 'Sleep stage R'], [14730.0, 30.0, 'Sleep stage R'], [14760.0, 30.0, 'Sleep stage R'], [14790.0, 30.0, 'Sleep stage R'], [14820.0, 30.0, 'Sleep stage R'], [14850.0, 30.0, 'Sleep stage R'], [14880.0, 30.0, 'Sleep stage R'], [14910.0, 30.0, 'Sleep stage R'], [14940.0, 30.0, 'Sleep stage R'], [14970.0, 30.0, 'Sleep stage R'], [15000.0, 30.0, 'Sleep stage N1'], [15030.0, 30.0, 'Sleep stage R'], [15060.0, 30.0, 'Sleep stage R'], [15090.0, 30.0, 'Sleep stage R'], [15120.0, 30.0, 'Sleep stage W'], [15150.0, 30.0, 'Sleep stage N1'], [15180.0, 30.0, 'Sleep stage N1'], [15210.0, 30.0, 'Sleep stage N1'], [15240.0, 30.0, 'Sleep stage N1'], [15270.0, 30.0, 'Sleep stage N1'], [15300.0, 30.0, 'Sleep stage N1'], [15330.0, 30.0, 'Sleep stage N1'], [15360.0, 30.0, 'Sleep stage N1'], [15390.0, 30.0, 'Sleep stage N1'], [15420.0, 30.0, 'Sleep stage R'], [15450.0, 30.0, 'Sleep stage R'], [15480.0, 30.0, 'Sleep stage N1'], [15510.0, 30.0, 'Sleep stage R'], [15540.0, 30.0, 'Sleep stage N1'], [15570.0, 30.0, 'Sleep stage N1'], [15600.0, 30.0, 'Sleep stage R'], [15630.0, 30.0, 'Sleep stage N1'], [15660.0, 30.0, 'Sleep stage N1'], [15690.0, 30.0, 'Sleep stage N2'], [15720.0, 30.0, 'Sleep stage N2'], [15750.0, 30.0, 'Sleep stage N1'], [15780.0, 30.0, 'Sleep stage W'], [15810.0, 30.0, 'Sleep stage N1'], [15840.0, 30.0, 'Sleep stage N2'], [15870.0, 30.0, 'Sleep stage N2'], [15900.0, 30.0, 'Sleep stage N2'], [15930.0, 30.0, 'Sleep stage N2'], [15960.0, 30.0, 'Sleep stage N2'], [15990.0, 30.0, 'Sleep stage N1'], [16020.0, 30.0, 'Sleep stage N1'], [16050.0, 30.0, 'Sleep stage N2'], [16080.0, 30.0, 'Sleep stage N1'], [16110.0, 30.0, 'Sleep stage N1'], [16140.0, 30.0, 'Sleep stage N1'], [16170.0, 30.0, 'Sleep stage N1'], [16200.0, 30.0, 'Sleep stage N1'], [16230.0, 30.0, 'Sleep stage N2'], [16260.0, 30.0, 'Sleep stage N2'], [16290.0, 30.0, 'Sleep stage N1'], [16320.0, 30.0, 'Sleep stage N2'], [16350.0, 30.0, 'Sleep stage N1'], [16380.0, 30.0, 'Sleep stage N1'], [16410.0, 30.0, 'Sleep stage N1'], [16440.0, 30.0, 'Sleep stage N2'], [16470.0, 30.0, 'Sleep stage N2'], [16500.0, 30.0, 'Sleep stage N2'], [16530.0, 30.0, 'Sleep stage N1'], [16560.0, 30.0, 'Sleep stage N1'], [16590.0, 30.0, 'Sleep stage N2'], [16620.0, 30.0, 'Sleep stage N2'], [16650.0, 30.0, 'Sleep stage N2'], [16680.0, 30.0, 'Sleep stage N2'], [16710.0, 30.0, 'Sleep stage W'], [16740.0, 30.0, 'Sleep stage W'], [16770.0, 30.0, 'Sleep stage W'], [16800.0, 30.0, 'Sleep stage N1'], [16830.0, 30.0, 'Sleep stage N1'], [16860.0, 30.0, 'Sleep stage N1'], [16890.0, 30.0, 'Sleep stage N1'], [16920.0, 30.0, 'Sleep stage N1'], [16950.0, 30.0, 'Sleep stage N1'], [16980.0, 30.0, 'Sleep stage N1'], [17010.0, 30.0, 'Sleep stage N1'], [17040.0, 30.0, 'Sleep stage N1'], [17070.0, 30.0, 'Sleep stage N2'], [17100.0, 30.0, 'Sleep stage N1'], [17130.0, 30.0, 'Sleep stage N1'], [17160.0, 30.0, 'Sleep stage N1'], [17190.0, 30.0, 'Sleep stage N1'], [17220.0, 30.0, 'Sleep stage N2'], [17250.0, 30.0, 'Sleep stage N2'], [17280.0, 30.0, 'Sleep stage N2'], [17310.0, 30.0, 'Sleep stage N2'], [17340.0, 30.0, 'Sleep stage N2'], [17370.0, 30.0, 'Sleep stage N2'], [17400.0, 30.0, 'Sleep stage N2'], [17430.0, 30.0, 'Sleep stage N2'], [17460.0, 30.0, 'Sleep stage N2'], [17490.0, 30.0, 'Sleep stage N2'], [17520.0, 30.0, 'Sleep stage N2'], [17550.0, 30.0, 'Sleep stage N2'], [17580.0, 30.0, 'Sleep stage N2'], [17610.0, 30.0, 'Sleep stage N2'], [17640.0, 30.0, 'Sleep stage N2'], [17670.0, 30.0, 'Sleep stage N1'], [17700.0, 30.0, 'Sleep stage N1'], [17730.0, 30.0, 'Sleep stage N1'], [17760.0, 30.0, 'Sleep stage N1'], [17790.0, 30.0, 'Sleep stage N1'], [17820.0, 30.0, 'Sleep stage N2'], [17850.0, 30.0, 'Sleep stage N2'], [17880.0, 30.0, 'Sleep stage N2'], [17910.0, 30.0, 'Sleep stage N1'], [17940.0, 30.0, 'Sleep stage N1'], [17970.0, 30.0, 'Sleep stage N2'], [18000.0, 30.0, 'Sleep stage N1'], [18030.0, 30.0, 'Sleep stage N1'], [18060.0, 30.0, 'Sleep stage N1'], [18090.0, 30.0, 'Sleep stage N1'], [18120.0, 30.0, 'Sleep stage N1'], [18150.0, 30.0, 'Sleep stage N2'], [18180.0, 30.0, 'Sleep stage N2'], [18210.0, 30.0, 'Sleep stage N2'], [18240.0, 30.0, 'Sleep stage N2'], [18270.0, 30.0, 'Sleep stage N2'], [18300.0, 30.0, 'Sleep stage N2'], [18330.0, 30.0, 'Sleep stage N2'], [18360.0, 30.0, 'Sleep stage N2'], [18390.0, 30.0, 'Sleep stage N2'], [18420.0, 30.0, 'Sleep stage N2'], [18450.0, 30.0, 'Sleep stage N2'], [18480.0, 30.0, 'Sleep stage N2'], [18510.0, 30.0, 'Sleep stage N2'], [18540.0, 30.0, 'Sleep stage N2'], [18570.0, 30.0, 'Sleep stage N2'], [18600.0, 30.0, 'Sleep stage N2'], [18630.0, 30.0, 'Sleep stage N2'], [18660.0, 30.0, 'Sleep stage N2'], [18690.0, 30.0, 'Sleep stage N2'], [18720.0, 30.0, 'Sleep stage N2'], [18750.0, 30.0, 'Sleep stage N3'], [18780.0, 30.0, 'Sleep stage N2'], [18810.0, 30.0, 'Sleep stage N3'], [18840.0, 30.0, 'Sleep stage N3'], [18870.0, 30.0, 'Sleep stage N3'], [18900.0, 30.0, 'Sleep stage N3'], [18930.0, 30.0, 'Sleep stage N1'], [18960.0, 30.0, 'Sleep stage N1'], [18990.0, 30.0, 'Sleep stage N2'], [19020.0, 30.0, 'Sleep stage N2'], [19050.0, 30.0, 'Sleep stage N2'], [19080.0, 30.0, 'Sleep stage N2'], [19110.0, 30.0, 'Sleep stage N2'], [19140.0, 30.0, 'Sleep stage N2'], [19170.0, 30.0, 'Sleep stage N2'], [19200.0, 30.0, 'Sleep stage N2'], [19230.0, 30.0, 'Sleep stage N2'], [19260.0, 30.0, 'Sleep stage N2'], [19290.0, 30.0, 'Sleep stage N1'], [19320.0, 30.0, 'Sleep stage N1'], [19350.0, 30.0, 'Sleep stage W'], [19380.0, 30.0, 'Sleep stage N1'], [19410.0, 30.0, 'Sleep stage N1'], [19440.0, 30.0, 'Sleep stage N1'], [19470.0, 30.0, 'Sleep stage N2'], [19500.0, 30.0, 'Sleep stage N2'], [19530.0, 30.0, 'Sleep stage N2'], [19560.0, 30.0, 'Sleep stage N1'], [19590.0, 30.0, 'Sleep stage N2'], [19620.0, 30.0, 'Sleep stage R'], [19650.0, 30.0, 'Sleep stage R'], [19680.0, 30.0, 'Sleep stage R'], [19710.0, 30.0, 'Sleep stage N1'], [19740.0, 30.0, 'Sleep stage R'], [19770.0, 30.0, 'Sleep stage R'], [19800.0, 30.0, 'Sleep stage R'], [19830.0, 30.0, 'Sleep stage R'], [19860.0, 30.0, 'Sleep stage R'], [19890.0, 30.0, 'Sleep stage R'], [19920.0, 30.0, 'Sleep stage R'], [19950.0, 30.0, 'Sleep stage R'], [19980.0, 30.0, 'Sleep stage R'], [20010.0, 30.0, 'Sleep stage R'], [20040.0, 30.0, 'Sleep stage R'], [20070.0, 30.0, 'Sleep stage N1'], [20100.0, 30.0, 'Sleep stage N1'], [20130.0, 30.0, 'Sleep stage N1'], [20160.0, 30.0, 'Sleep stage R'], [20190.0, 30.0, 'Sleep stage R'], [20220.0, 30.0, 'Sleep stage N1'], [20250.0, 30.0, 'Sleep stage R'], [20280.0, 30.0, 'Sleep stage R'], [20310.0, 30.0, 'Sleep stage N1'], [20340.0, 30.0, 'Sleep stage R'], [20370.0, 30.0, 'Sleep stage R'], [20400.0, 30.0, 'Sleep stage N1'], [20430.0, 30.0, 'Sleep stage N1'], [20460.0, 30.0, 'Sleep stage R'], [20490.0, 30.0, 'Sleep stage R'], [20520.0, 30.0, 'Sleep stage N1'], [20550.0, 30.0, 'Sleep stage R'], [20580.0, 30.0, 'Sleep stage R'], [20610.0, 30.0, 'Sleep stage N1'], [20640.0, 30.0, 'Sleep stage N1'], [20670.0, 30.0, 'Sleep stage R'], [20700.0, 30.0, 'Sleep stage R'], [20730.0, 30.0, 'Sleep stage N1'], [20760.0, 30.0, 'Sleep stage N1'], [20790.0, 30.0, 'Sleep stage R'], [20820.0, 30.0, 'Sleep stage W'], [20850.0, 30.0, 'Sleep stage N1'], [20880.0, 30.0, 'Sleep stage N1'], [20910.0, 30.0, 'Sleep stage N1'], [20940.0, 30.0, 'Sleep stage N1'], [20970.0, 30.0, 'Sleep stage N1'], [21000.0, 30.0, 'Sleep stage R'], [21030.0, 30.0, 'Sleep stage R'], [21060.0, 30.0, 'Sleep stage N1'], [21090.0, 30.0, 'Sleep stage N2'], [21120.0, 30.0, 'Sleep stage N2'], [21150.0, 30.0, 'Sleep stage N2'], [21180.0, 30.0, 'Sleep stage N2'], [21210.0, 30.0, 'Sleep stage N2'], [21240.0, 30.0, 'Sleep stage N2'], [21270.0, 30.0, 'Sleep stage N2'], [21300.0, 30.0, 'Sleep stage N2'], [21330.0, 30.0, 'Sleep stage N2'], [21360.0, 30.0, 'Sleep stage N3'], [21390.0, 30.0, 'Sleep stage N3'], [21420.0, 30.0, 'Sleep stage N3'], [21450.0, 30.0, 'Sleep stage N3'], [21480.0, 30.0, 'Sleep stage N3'], [21510.0, 30.0, 'Sleep stage N3'], [21540.0, 30.0, 'Sleep stage N3'], [21570.0, 30.0, 'Sleep stage N3'], [21600.0, 30.0, 'Sleep stage N3'], [21630.0, 30.0, 'Sleep stage N3'], [21660.0, 30.0, 'Sleep stage N3'], [21690.0, 30.0, 'Sleep stage N3'], [21720.0, 30.0, 'Sleep stage N3'], [21750.0, 30.0, 'Sleep stage N3'], [21780.0, 30.0, 'Sleep stage N3'], [21810.0, 30.0, 'Sleep stage N3'], [21840.0, 30.0, 'Sleep stage N3'], [21870.0, 30.0, 'Sleep stage N3'], [21900.0, 30.0, 'Sleep stage N3'], [21930.0, 30.0, 'Sleep stage N3'], [21960.0, 30.0, 'Sleep stage N3'], [21990.0, 30.0, 'Sleep stage N3'], [22020.0, 30.0, 'Sleep stage N2'], [22050.0, 30.0, 'Sleep stage N2'], [22080.0, 30.0, 'Sleep stage N1'], [22110.0, 30.0, 'Sleep stage N1'], [22140.0, 30.0, 'Sleep stage N1'], [22170.0, 30.0, 'Sleep stage N1'], [22200.0, 30.0, 'Sleep stage N1'], [22230.0, 30.0, 'Sleep stage W'], [22260.0, 30.0, 'Sleep stage W'], [22290.0, 30.0, 'Sleep stage N1'], [22320.0, 30.0, 'Sleep stage N1'], [22350.0, 30.0, 'Sleep stage N1'], [22380.0, 30.0, 'Sleep stage N1'], [22410.0, 30.0, 'Sleep stage W'], [22440.0, 30.0, 'Sleep stage W'], [22470.0, 30.0, 'Sleep stage W'], [22500.0, 30.0, 'Sleep stage W'], [22530.0, 30.0, 'Sleep stage W'], [22560.0, 30.0, 'Sleep stage W'], [22590.0, 30.0, 'Sleep stage W'], [22620.0, 30.0, 'Sleep stage N1'], [22650.0, 30.0, 'Sleep stage N1'], [22680.0, 30.0, 'Sleep stage N1'], [22710.0, 30.0, 'Sleep stage W'], [22740.0, 30.0, 'Sleep stage W'], [22770.0, 30.0, 'Sleep stage W'], [22800.0, 30.0, 'Sleep stage W'], [22830.0, 30.0, 'Sleep stage N1'], [22860.0, 30.0, 'Sleep stage W'], [22890.0, 30.0, 'Sleep stage N1'], [22920.0, 30.0, 'Sleep stage N1'], [22950.0, 30.0, 'Sleep stage W'], [22980.0, 30.0, 'Sleep stage W'], [23010.0, 30.0, 'Sleep stage W'], [23040.0, 30.0, 'Sleep stage W'], [23070.0, 30.0, 'Sleep stage N1'], [23100.0, 30.0, 'Sleep stage N1'], [23130.0, 30.0, 'Sleep stage N1'], [23159.7, 0.0, 'Lights on@@SaO2'], [23160.0, 30.0, 'Sleep stage W']]}\n"
          ]
        }
      ]
    },
    {
      "cell_type": "code",
      "source": [
        "edf = pyedflib.EdfReader(trains[0])\n",
        "print(edf)"
      ],
      "metadata": {
        "colab": {
          "base_uri": "https://localhost:8080/"
        },
        "id": "IUCwrvDs2Ub8",
        "outputId": "d18dc5e3-c6d3-448f-ad52-f694b07cd659"
      },
      "execution_count": null,
      "outputs": [
        {
          "output_type": "stream",
          "name": "stdout",
          "text": [
            "<pyedflib.edfreader.EdfReader object at 0x1ae7f4020>\n"
          ]
        }
      ]
    },
    {
      "cell_type": "code",
      "source": [
        "f = pyedflib.data.test_generator()\n",
        "print(f.readSignal(0))\n",
        "print(edf.readSignal(7))"
      ],
      "metadata": {
        "colab": {
          "base_uri": "https://localhost:8080/"
        },
        "id": "fMDjK9HR67Oz",
        "outputId": "13cdadb7-146a-43ac-d243-a50f704e5b7c"
      },
      "execution_count": null,
      "outputs": [
        {
          "output_type": "stream",
          "name": "stdout",
          "text": [
            "[ 99.99237049  99.99237049  99.99237049 ... -99.96185245 -99.96185245\n",
            " -99.96185245]\n",
            "[-8.53284504 20.91096361  7.58068208 ... -0.03662165 -0.03662165\n",
            " -0.03662165]\n"
          ]
        }
      ]
    },
    {
      "cell_type": "code",
      "source": [
        "print(trains)"
      ],
      "metadata": {
        "colab": {
          "base_uri": "https://localhost:8080/"
        },
        "id": "yKKEuTWqHSPh",
        "outputId": "2e599ad6-0796-46aa-8891-6366aa7be747"
      },
      "execution_count": null,
      "outputs": [
        {
          "output_type": "stream",
          "name": "stdout",
          "text": [
            "['/content/drive/MyDrive/physionet/HMC/hmc-sleep-staging/recordings/SN031.edf', '/content/drive/MyDrive/physionet/HMC/hmc-sleep-staging/recordings/SN032.edf', '/content/drive/MyDrive/physionet/HMC/hmc-sleep-staging/recordings/SN033.edf', '/content/drive/MyDrive/physionet/HMC/hmc-sleep-staging/recordings/SN034.edf', '/content/drive/MyDrive/physionet/HMC/hmc-sleep-staging/recordings/SN035.edf', '/content/drive/MyDrive/physionet/HMC/hmc-sleep-staging/recordings/SN036.edf', '/content/drive/MyDrive/physionet/HMC/hmc-sleep-staging/recordings/SN037.edf', '/content/drive/MyDrive/physionet/HMC/hmc-sleep-staging/recordings/SN038.edf', '/content/drive/MyDrive/physionet/HMC/hmc-sleep-staging/recordings/SN039.edf', '/content/drive/MyDrive/physionet/HMC/hmc-sleep-staging/recordings/SN040.edf', '/content/drive/MyDrive/physionet/HMC/hmc-sleep-staging/recordings/SN041.edf', '/content/drive/MyDrive/physionet/HMC/hmc-sleep-staging/recordings/SN042.edf', '/content/drive/MyDrive/physionet/HMC/hmc-sleep-staging/recordings/SN043.edf', '/content/drive/MyDrive/physionet/HMC/hmc-sleep-staging/recordings/SN044.edf', '/content/drive/MyDrive/physionet/HMC/hmc-sleep-staging/recordings/SN045.edf', '/content/drive/MyDrive/physionet/HMC/hmc-sleep-staging/recordings/SN046.edf', '/content/drive/MyDrive/physionet/HMC/hmc-sleep-staging/recordings/SN047.edf', '/content/drive/MyDrive/physionet/HMC/hmc-sleep-staging/recordings/SN048.edf', '/content/drive/MyDrive/physionet/HMC/hmc-sleep-staging/recordings/SN049.edf', '/content/drive/MyDrive/physionet/HMC/hmc-sleep-staging/recordings/SN050.edf', '/content/drive/MyDrive/physionet/HMC/hmc-sleep-staging/recordings/SN051.edf', '/content/drive/MyDrive/physionet/HMC/hmc-sleep-staging/recordings/SN052.edf', '/content/drive/MyDrive/physionet/HMC/hmc-sleep-staging/recordings/SN053.edf', '/content/drive/MyDrive/physionet/HMC/hmc-sleep-staging/recordings/SN054.edf', '/content/drive/MyDrive/physionet/HMC/hmc-sleep-staging/recordings/SN055.edf', '/content/drive/MyDrive/physionet/HMC/hmc-sleep-staging/recordings/SN056.edf', '/content/drive/MyDrive/physionet/HMC/hmc-sleep-staging/recordings/SN057.edf', '/content/drive/MyDrive/physionet/HMC/hmc-sleep-staging/recordings/SN058.edf', '/content/drive/MyDrive/physionet/HMC/hmc-sleep-staging/recordings/SN059.edf', '/content/drive/MyDrive/physionet/HMC/hmc-sleep-staging/recordings/SN060.edf', '/content/drive/MyDrive/physionet/HMC/hmc-sleep-staging/recordings/SN061.edf', '/content/drive/MyDrive/physionet/HMC/hmc-sleep-staging/recordings/SN062.edf', '/content/drive/MyDrive/physionet/HMC/hmc-sleep-staging/recordings/SN063.edf', '/content/drive/MyDrive/physionet/HMC/hmc-sleep-staging/recordings/SN065.edf', '/content/drive/MyDrive/physionet/HMC/hmc-sleep-staging/recordings/SN066.edf', '/content/drive/MyDrive/physionet/HMC/hmc-sleep-staging/recordings/SN067.edf', '/content/drive/MyDrive/physionet/HMC/hmc-sleep-staging/recordings/SN068.edf', '/content/drive/MyDrive/physionet/HMC/hmc-sleep-staging/recordings/SN069.edf', '/content/drive/MyDrive/physionet/HMC/hmc-sleep-staging/recordings/SN070.edf', '/content/drive/MyDrive/physionet/HMC/hmc-sleep-staging/recordings/SN071.edf', '/content/drive/MyDrive/physionet/HMC/hmc-sleep-staging/recordings/SN072.edf', '/content/drive/MyDrive/physionet/HMC/hmc-sleep-staging/recordings/SN073.edf', '/content/drive/MyDrive/physionet/HMC/hmc-sleep-staging/recordings/SN074.edf', '/content/drive/MyDrive/physionet/HMC/hmc-sleep-staging/recordings/SN075.edf', '/content/drive/MyDrive/physionet/HMC/hmc-sleep-staging/recordings/SN076.edf', '/content/drive/MyDrive/physionet/HMC/hmc-sleep-staging/recordings/SN077.edf', '/content/drive/MyDrive/physionet/HMC/hmc-sleep-staging/recordings/SN078.edf', '/content/drive/MyDrive/physionet/HMC/hmc-sleep-staging/recordings/SN079.edf', '/content/drive/MyDrive/physionet/HMC/hmc-sleep-staging/recordings/SN080.edf', '/content/drive/MyDrive/physionet/HMC/hmc-sleep-staging/recordings/SN081.edf', '/content/drive/MyDrive/physionet/HMC/hmc-sleep-staging/recordings/SN082.edf', '/content/drive/MyDrive/physionet/HMC/hmc-sleep-staging/recordings/SN083.edf', '/content/drive/MyDrive/physionet/HMC/hmc-sleep-staging/recordings/SN084.edf', '/content/drive/MyDrive/physionet/HMC/hmc-sleep-staging/recordings/SN085.edf', '/content/drive/MyDrive/physionet/HMC/hmc-sleep-staging/recordings/SN086.edf', '/content/drive/MyDrive/physionet/HMC/hmc-sleep-staging/recordings/SN087.edf', '/content/drive/MyDrive/physionet/HMC/hmc-sleep-staging/recordings/SN088.edf', '/content/drive/MyDrive/physionet/HMC/hmc-sleep-staging/recordings/SN089.edf', '/content/drive/MyDrive/physionet/HMC/hmc-sleep-staging/recordings/SN090.edf', '/content/drive/MyDrive/physionet/HMC/hmc-sleep-staging/recordings/SN091.edf', '/content/drive/MyDrive/physionet/HMC/hmc-sleep-staging/recordings/SN092.edf', '/content/drive/MyDrive/physionet/HMC/hmc-sleep-staging/recordings/SN093.edf', '/content/drive/MyDrive/physionet/HMC/hmc-sleep-staging/recordings/SN094.edf', '/content/drive/MyDrive/physionet/HMC/hmc-sleep-staging/recordings/SN095.edf', '/content/drive/MyDrive/physionet/HMC/hmc-sleep-staging/recordings/SN096.edf', '/content/drive/MyDrive/physionet/HMC/hmc-sleep-staging/recordings/SN097.edf', '/content/drive/MyDrive/physionet/HMC/hmc-sleep-staging/recordings/SN098.edf', '/content/drive/MyDrive/physionet/HMC/hmc-sleep-staging/recordings/SN099.edf', '/content/drive/MyDrive/physionet/HMC/hmc-sleep-staging/recordings/SN100.edf', '/content/drive/MyDrive/physionet/HMC/hmc-sleep-staging/recordings/SN101.edf', '/content/drive/MyDrive/physionet/HMC/hmc-sleep-staging/recordings/SN102.edf', '/content/drive/MyDrive/physionet/HMC/hmc-sleep-staging/recordings/SN103.edf', '/content/drive/MyDrive/physionet/HMC/hmc-sleep-staging/recordings/SN104.edf', '/content/drive/MyDrive/physionet/HMC/hmc-sleep-staging/recordings/SN105.edf', '/content/drive/MyDrive/physionet/HMC/hmc-sleep-staging/recordings/SN106.edf', '/content/drive/MyDrive/physionet/HMC/hmc-sleep-staging/recordings/SN107.edf', '/content/drive/MyDrive/physionet/HMC/hmc-sleep-staging/recordings/SN108.edf', '/content/drive/MyDrive/physionet/HMC/hmc-sleep-staging/recordings/SN109.edf', '/content/drive/MyDrive/physionet/HMC/hmc-sleep-staging/recordings/SN110.edf', '/content/drive/MyDrive/physionet/HMC/hmc-sleep-staging/recordings/SN111.edf', '/content/drive/MyDrive/physionet/HMC/hmc-sleep-staging/recordings/SN112.edf', '/content/drive/MyDrive/physionet/HMC/hmc-sleep-staging/recordings/SN113.edf', '/content/drive/MyDrive/physionet/HMC/hmc-sleep-staging/recordings/SN114.edf', '/content/drive/MyDrive/physionet/HMC/hmc-sleep-staging/recordings/SN115.edf', '/content/drive/MyDrive/physionet/HMC/hmc-sleep-staging/recordings/SN116.edf', '/content/drive/MyDrive/physionet/HMC/hmc-sleep-staging/recordings/SN117.edf', '/content/drive/MyDrive/physionet/HMC/hmc-sleep-staging/recordings/SN118.edf', '/content/drive/MyDrive/physionet/HMC/hmc-sleep-staging/recordings/SN119.edf', '/content/drive/MyDrive/physionet/HMC/hmc-sleep-staging/recordings/SN120.edf', '/content/drive/MyDrive/physionet/HMC/hmc-sleep-staging/recordings/SN121.edf', '/content/drive/MyDrive/physionet/HMC/hmc-sleep-staging/recordings/SN122.edf', '/content/drive/MyDrive/physionet/HMC/hmc-sleep-staging/recordings/SN123.edf', '/content/drive/MyDrive/physionet/HMC/hmc-sleep-staging/recordings/SN124.edf', '/content/drive/MyDrive/physionet/HMC/hmc-sleep-staging/recordings/SN125.edf', '/content/drive/MyDrive/physionet/HMC/hmc-sleep-staging/recordings/SN126.edf', '/content/drive/MyDrive/physionet/HMC/hmc-sleep-staging/recordings/SN127.edf', '/content/drive/MyDrive/physionet/HMC/hmc-sleep-staging/recordings/SN128.edf', '/content/drive/MyDrive/physionet/HMC/hmc-sleep-staging/recordings/SN129.edf', '/content/drive/MyDrive/physionet/HMC/hmc-sleep-staging/recordings/SN130.edf', '/content/drive/MyDrive/physionet/HMC/hmc-sleep-staging/recordings/SN131.edf', '/content/drive/MyDrive/physionet/HMC/hmc-sleep-staging/recordings/SN132.edf', '/content/drive/MyDrive/physionet/HMC/hmc-sleep-staging/recordings/SN133.edf', '/content/drive/MyDrive/physionet/HMC/hmc-sleep-staging/recordings/SN134.edf', '/content/drive/MyDrive/physionet/HMC/hmc-sleep-staging/recordings/SN136.edf', '/content/drive/MyDrive/physionet/HMC/hmc-sleep-staging/recordings/SN137.edf', '/content/drive/MyDrive/physionet/HMC/hmc-sleep-staging/recordings/SN138.edf', '/content/drive/MyDrive/physionet/HMC/hmc-sleep-staging/recordings/SN139.edf', '/content/drive/MyDrive/physionet/HMC/hmc-sleep-staging/recordings/SN140.edf', '/content/drive/MyDrive/physionet/HMC/hmc-sleep-staging/recordings/SN141.edf', '/content/drive/MyDrive/physionet/HMC/hmc-sleep-staging/recordings/SN142.edf', '/content/drive/MyDrive/physionet/HMC/hmc-sleep-staging/recordings/SN143.edf', '/content/drive/MyDrive/physionet/HMC/hmc-sleep-staging/recordings/SN144.edf', '/content/drive/MyDrive/physionet/HMC/hmc-sleep-staging/recordings/SN145.edf', '/content/drive/MyDrive/physionet/HMC/hmc-sleep-staging/recordings/SN146.edf', '/content/drive/MyDrive/physionet/HMC/hmc-sleep-staging/recordings/SN147.edf', '/content/drive/MyDrive/physionet/HMC/hmc-sleep-staging/recordings/SN148.edf', '/content/drive/MyDrive/physionet/HMC/hmc-sleep-staging/recordings/SN149.edf', '/content/drive/MyDrive/physionet/HMC/hmc-sleep-staging/recordings/SN150.edf', '/content/drive/MyDrive/physionet/HMC/hmc-sleep-staging/recordings/SN151.edf', '/content/drive/MyDrive/physionet/HMC/hmc-sleep-staging/recordings/SN152.edf', '/content/drive/MyDrive/physionet/HMC/hmc-sleep-staging/recordings/SN153.edf', '/content/drive/MyDrive/physionet/HMC/hmc-sleep-staging/recordings/SN154.edf', '/content/drive/MyDrive/physionet/HMC/hmc-sleep-staging/recordings/SN001.edf', '/content/drive/MyDrive/physionet/HMC/hmc-sleep-staging/recordings/SN003.edf', '/content/drive/MyDrive/physionet/HMC/hmc-sleep-staging/recordings/SN005.edf', '/content/drive/MyDrive/physionet/HMC/hmc-sleep-staging/recordings/SN004.edf', '/content/drive/MyDrive/physionet/HMC/hmc-sleep-staging/recordings/SN002.edf', '/content/drive/MyDrive/physionet/HMC/hmc-sleep-staging/recordings/SN007.edf', '/content/drive/MyDrive/physionet/HMC/hmc-sleep-staging/recordings/SN008.edf', '/content/drive/MyDrive/physionet/HMC/hmc-sleep-staging/recordings/SN010.edf', '/content/drive/MyDrive/physionet/HMC/hmc-sleep-staging/recordings/SN006.edf', '/content/drive/MyDrive/physionet/HMC/hmc-sleep-staging/recordings/SN009.edf', '/content/drive/MyDrive/physionet/HMC/hmc-sleep-staging/recordings/SN012.edf', '/content/drive/MyDrive/physionet/HMC/hmc-sleep-staging/recordings/SN011.edf', '/content/drive/MyDrive/physionet/HMC/hmc-sleep-staging/recordings/SN015.edf', '/content/drive/MyDrive/physionet/HMC/hmc-sleep-staging/recordings/SN013.edf', '/content/drive/MyDrive/physionet/HMC/hmc-sleep-staging/recordings/SN020.edf', '/content/drive/MyDrive/physionet/HMC/hmc-sleep-staging/recordings/SN017.edf', '/content/drive/MyDrive/physionet/HMC/hmc-sleep-staging/recordings/SN019.edf', '/content/drive/MyDrive/physionet/HMC/hmc-sleep-staging/recordings/SN016.edf', '/content/drive/MyDrive/physionet/HMC/hmc-sleep-staging/recordings/SN018.edf', '/content/drive/MyDrive/physionet/HMC/hmc-sleep-staging/recordings/SN023.edf', '/content/drive/MyDrive/physionet/HMC/hmc-sleep-staging/recordings/SN025.edf', '/content/drive/MyDrive/physionet/HMC/hmc-sleep-staging/recordings/SN021.edf', '/content/drive/MyDrive/physionet/HMC/hmc-sleep-staging/recordings/SN024.edf', '/content/drive/MyDrive/physionet/HMC/hmc-sleep-staging/recordings/SN022.edf', '/content/drive/MyDrive/physionet/HMC/hmc-sleep-staging/recordings/SN029.edf', '/content/drive/MyDrive/physionet/HMC/hmc-sleep-staging/recordings/SN027.edf', '/content/drive/MyDrive/physionet/HMC/hmc-sleep-staging/recordings/SN026.edf', '/content/drive/MyDrive/physionet/HMC/hmc-sleep-staging/recordings/SN028.edf', '/content/drive/MyDrive/physionet/HMC/hmc-sleep-staging/recordings/SN030.edf']\n"
          ]
        }
      ]
    },
    {
      "cell_type": "code",
      "source": [
        "f = pyedflib.EdfReader(trains[47])\n",
        "n = f.signals_in_file\n",
        "signal_labels = f.getSignalLabels()\n",
        "sigbufs = np.zeros((n, f.getNSamples()[0]))\n",
        "for i in np.arange(n):\n",
        "        sigbufs[i, :] = f.readSignal(i)"
      ],
      "metadata": {
        "id": "LAQIECza9JZO"
      },
      "execution_count": null,
      "outputs": []
    },
    {
      "cell_type": "code",
      "source": [
        "print((len(sigbufs[7])))\n",
        "print(sigbufs[7])#"
      ],
      "metadata": {
        "colab": {
          "base_uri": "https://localhost:8080/"
        },
        "id": "COvWQNrAAkLX",
        "outputId": "0b18935f-90fd-47dd-d421-f2160be4178d"
      },
      "execution_count": null,
      "outputs": [
        {
          "output_type": "stream",
          "name": "stdout",
          "text": [
            "8583680\n",
            "[-9.33485924e+01 -7.11558709e+01 -1.20888075e+02 ... -3.66216526e-02\n",
            " -3.66216526e-02 -3.66216526e-02]\n"
          ]
        }
      ]
    },
    {
      "cell_type": "code",
      "source": [
        "edfl = pyedflib.EdfReader(labels[0])\n",
        "print(\"Anotation:\"+str(edfl.read_annotation()))\n",
        "print(len(edfl.read_annotation()))"
      ],
      "metadata": {
        "colab": {
          "base_uri": "https://localhost:8080/"
        },
        "id": "IAtwOzJqLslv",
        "outputId": "1e8abb50-d671-4095-dba4-3c9b431ce1e6"
      },
      "execution_count": null,
      "outputs": [
        {
          "output_type": "stream",
          "name": "stdout",
          "text": [
            "Anotation:[[0, b'30', b'Sleep stage W'], [300000000, b'30', b'Sleep stage W'], [324000000, b'0', b'Lights off@@SaO2'], [600000000, b'30', b'Sleep stage W'], [900000000, b'30', b'Sleep stage W'], [1200000000, b'30', b'Sleep stage W'], [1500000000, b'30', b'Sleep stage W'], [1800000000, b'30', b'Sleep stage W'], [2100000000, b'30', b'Sleep stage W'], [2400000000, b'30', b'Sleep stage W'], [2700000000, b'30', b'Sleep stage W'], [3000000000, b'30', b'Sleep stage W'], [3300000000, b'30', b'Sleep stage W'], [3600000000, b'30', b'Sleep stage W'], [3900000000, b'30', b'Sleep stage W'], [4200000000, b'30', b'Sleep stage W'], [4500000000, b'30', b'Sleep stage W'], [4800000000, b'30', b'Sleep stage W'], [5100000000, b'30', b'Sleep stage W'], [5400000000, b'30', b'Sleep stage W'], [5700000000, b'30', b'Sleep stage W'], [6000000000, b'30', b'Sleep stage W'], [6300000000, b'30', b'Sleep stage W'], [6600000000, b'30', b'Sleep stage W'], [6900000000, b'30', b'Sleep stage W'], [7200000000, b'30', b'Sleep stage N1'], [7500000000, b'30', b'Sleep stage W'], [7800000000, b'30', b'Sleep stage W'], [8100000000, b'30', b'Sleep stage W'], [8400000000, b'30', b'Sleep stage W'], [8700000000, b'30', b'Sleep stage W'], [9000000000, b'30', b'Sleep stage W'], [9300000000, b'30', b'Sleep stage W'], [9600000000, b'30', b'Sleep stage W'], [9900000000, b'30', b'Sleep stage N1'], [10200000000, b'30', b'Sleep stage N1'], [10500000000, b'30', b'Sleep stage N1'], [10800000000, b'30', b'Sleep stage N1'], [11100000000, b'30', b'Sleep stage N1'], [11400000000, b'30', b'Sleep stage N1'], [11700000000, b'30', b'Sleep stage N1'], [12000000000, b'30', b'Sleep stage N1'], [12300000000, b'30', b'Sleep stage N1'], [12600000000, b'30', b'Sleep stage N1'], [12900000000, b'30', b'Sleep stage N2'], [13200000000, b'30', b'Sleep stage N1'], [13500000000, b'30', b'Sleep stage W'], [13800000000, b'30', b'Sleep stage W'], [14100000000, b'30', b'Sleep stage N1'], [14400000000, b'30', b'Sleep stage N1'], [14700000000, b'30', b'Sleep stage N1'], [15000000000, b'30', b'Sleep stage N2'], [15300000000, b'30', b'Sleep stage N1'], [15600000000, b'30', b'Sleep stage N2'], [15900000000, b'30', b'Sleep stage N2'], [16200000000, b'30', b'Sleep stage N2'], [16500000000, b'30', b'Sleep stage N2'], [16800000000, b'30', b'Sleep stage N2'], [17100000000, b'30', b'Sleep stage N2'], [17400000000, b'30', b'Sleep stage N2'], [17700000000, b'30', b'Sleep stage N2'], [18000000000, b'30', b'Sleep stage N2'], [18300000000, b'30', b'Sleep stage N2'], [18600000000, b'30', b'Sleep stage N2'], [18900000000, b'30', b'Sleep stage N2'], [19200000000, b'30', b'Sleep stage N2'], [19500000000, b'30', b'Sleep stage N2'], [19800000000, b'30', b'Sleep stage N2'], [20100000000, b'30', b'Sleep stage N2'], [20400000000, b'30', b'Sleep stage N2'], [20700000000, b'30', b'Sleep stage N3'], [21000000000, b'30', b'Sleep stage N3'], [21300000000, b'30', b'Sleep stage N3'], [21600000000, b'30', b'Sleep stage N3'], [21900000000, b'30', b'Sleep stage N3'], [22200000000, b'30', b'Sleep stage N3'], [22500000000, b'30', b'Sleep stage N3'], [22800000000, b'30', b'Sleep stage N3'], [23100000000, b'30', b'Sleep stage N1'], [23400000000, b'30', b'Sleep stage N2'], [23700000000, b'30', b'Sleep stage N2'], [24000000000, b'30', b'Sleep stage N2'], [24300000000, b'30', b'Sleep stage N2'], [24600000000, b'30', b'Sleep stage N2'], [24900000000, b'30', b'Sleep stage N2'], [25200000000, b'30', b'Sleep stage N2'], [25500000000, b'30', b'Sleep stage N1'], [25800000000, b'30', b'Sleep stage W'], [26100000000, b'30', b'Sleep stage N1'], [26400000000, b'30', b'Sleep stage N1'], [26700000000, b'30', b'Sleep stage N1'], [27000000000, b'30', b'Sleep stage N2'], [27300000000, b'30', b'Sleep stage N1'], [27600000000, b'30', b'Sleep stage N2'], [27900000000, b'30', b'Sleep stage N2'], [28200000000, b'30', b'Sleep stage N2'], [28500000000, b'30', b'Sleep stage N2'], [28800000000, b'30', b'Sleep stage N2'], [29100000000, b'30', b'Sleep stage N2'], [29400000000, b'30', b'Sleep stage N2'], [29700000000, b'30', b'Sleep stage N2'], [30000000000, b'30', b'Sleep stage N2'], [30300000000, b'30', b'Sleep stage N3'], [30600000000, b'30', b'Sleep stage N3'], [30900000000, b'30', b'Sleep stage N3'], [31200000000, b'30', b'Sleep stage N3'], [31500000000, b'30', b'Sleep stage N3'], [31800000000, b'30', b'Sleep stage N3'], [32100000000, b'30', b'Sleep stage N3'], [32400000000, b'30', b'Sleep stage N3'], [32700000000, b'30', b'Sleep stage N3'], [33000000000, b'30', b'Sleep stage N3'], [33300000000, b'30', b'Sleep stage N3'], [33600000000, b'30', b'Sleep stage N3'], [33900000000, b'30', b'Sleep stage N3'], [34200000000, b'30', b'Sleep stage N3'], [34500000000, b'30', b'Sleep stage N3'], [34800000000, b'30', b'Sleep stage N3'], [35100000000, b'30', b'Sleep stage N3'], [35400000000, b'30', b'Sleep stage N3'], [35700000000, b'30', b'Sleep stage N3'], [36000000000, b'30', b'Sleep stage N3'], [36300000000, b'30', b'Sleep stage N3'], [36600000000, b'30', b'Sleep stage N3'], [36900000000, b'30', b'Sleep stage N3'], [37200000000, b'30', b'Sleep stage N3'], [37500000000, b'30', b'Sleep stage N3'], [37800000000, b'30', b'Sleep stage N3'], [38100000000, b'30', b'Sleep stage N3'], [38400000000, b'30', b'Sleep stage N3'], [38700000000, b'30', b'Sleep stage N3'], [39000000000, b'30', b'Sleep stage R'], [39300000000, b'30', b'Sleep stage R'], [39600000000, b'30', b'Sleep stage R'], [39900000000, b'30', b'Sleep stage R'], [40200000000, b'30', b'Sleep stage N1'], [40500000000, b'30', b'Sleep stage N1'], [40800000000, b'30', b'Sleep stage N1'], [41100000000, b'30', b'Sleep stage W'], [41400000000, b'30', b'Sleep stage N1'], [41700000000, b'30', b'Sleep stage R'], [42000000000, b'30', b'Sleep stage R'], [42300000000, b'30', b'Sleep stage R'], [42600000000, b'30', b'Sleep stage R'], [42900000000, b'30', b'Sleep stage N1'], [43200000000, b'30', b'Sleep stage N1'], [43500000000, b'30', b'Sleep stage N1'], [43800000000, b'30', b'Sleep stage N1'], [44100000000, b'30', b'Sleep stage N1'], [44400000000, b'30', b'Sleep stage N1'], [44700000000, b'30', b'Sleep stage R'], [45000000000, b'30', b'Sleep stage R'], [45300000000, b'30', b'Sleep stage N1'], [45600000000, b'30', b'Sleep stage N1'], [45900000000, b'30', b'Sleep stage N1'], [46200000000, b'30', b'Sleep stage N1'], [46500000000, b'30', b'Sleep stage N1'], [46800000000, b'30', b'Sleep stage R'], [47100000000, b'30', b'Sleep stage N1'], [47400000000, b'30', b'Sleep stage N1'], [47700000000, b'30', b'Sleep stage R'], [48000000000, b'30', b'Sleep stage R'], [48300000000, b'30', b'Sleep stage N1'], [48600000000, b'30', b'Sleep stage N1'], [48900000000, b'30', b'Sleep stage N1'], [49200000000, b'30', b'Sleep stage R'], [49500000000, b'30', b'Sleep stage N1'], [49800000000, b'30', b'Sleep stage R'], [50100000000, b'30', b'Sleep stage R'], [50400000000, b'30', b'Sleep stage N1'], [50700000000, b'30', b'Sleep stage N1'], [51000000000, b'30', b'Sleep stage N1'], [51300000000, b'30', b'Sleep stage N1'], [51600000000, b'30', b'Sleep stage N1'], [51900000000, b'30', b'Sleep stage N1'], [52200000000, b'30', b'Sleep stage W'], [52500000000, b'30', b'Sleep stage N1'], [52800000000, b'30', b'Sleep stage N1'], [53100000000, b'30', b'Sleep stage N1'], [53400000000, b'30', b'Sleep stage N1'], [53700000000, b'30', b'Sleep stage N1'], [54000000000, b'30', b'Sleep stage N2'], [54300000000, b'30', b'Sleep stage N2'], [54600000000, b'30', b'Sleep stage N2'], [54900000000, b'30', b'Sleep stage N2'], [55200000000, b'30', b'Sleep stage N2'], [55500000000, b'30', b'Sleep stage N2'], [55800000000, b'30', b'Sleep stage N2'], [56100000000, b'30', b'Sleep stage N2'], [56400000000, b'30', b'Sleep stage N2'], [56700000000, b'30', b'Sleep stage W'], [57000000000, b'30', b'Sleep stage W'], [57300000000, b'30', b'Sleep stage W'], [57600000000, b'30', b'Sleep stage N1'], [57900000000, b'30', b'Sleep stage W'], [58200000000, b'30', b'Sleep stage W'], [58500000000, b'30', b'Sleep stage N1'], [58800000000, b'30', b'Sleep stage N2'], [59100000000, b'30', b'Sleep stage N2'], [59400000000, b'30', b'Sleep stage N1'], [59700000000, b'30', b'Sleep stage N2'], [60000000000, b'30', b'Sleep stage N2'], [60300000000, b'30', b'Sleep stage N2'], [60600000000, b'30', b'Sleep stage N2'], [60900000000, b'30', b'Sleep stage N2'], [61200000000, b'30', b'Sleep stage N2'], [61500000000, b'30', b'Sleep stage N2'], [61800000000, b'30', b'Sleep stage N2'], [62100000000, b'30', b'Sleep stage N2'], [62400000000, b'30', b'Sleep stage N2'], [62700000000, b'30', b'Sleep stage N2'], [63000000000, b'30', b'Sleep stage N2'], [63300000000, b'30', b'Sleep stage N2'], [63600000000, b'30', b'Sleep stage N2'], [63900000000, b'30', b'Sleep stage N2'], [64200000000, b'30', b'Sleep stage N2'], [64500000000, b'30', b'Sleep stage N2'], [64800000000, b'30', b'Sleep stage N2'], [65100000000, b'30', b'Sleep stage N3'], [65400000000, b'30', b'Sleep stage N3'], [65700000000, b'30', b'Sleep stage N3'], [66000000000, b'30', b'Sleep stage N3'], [66300000000, b'30', b'Sleep stage N3'], [66600000000, b'30', b'Sleep stage N3'], [66900000000, b'30', b'Sleep stage N3'], [67200000000, b'30', b'Sleep stage N3'], [67500000000, b'30', b'Sleep stage N3'], [67800000000, b'30', b'Sleep stage N3'], [68100000000, b'30', b'Sleep stage N3'], [68400000000, b'30', b'Sleep stage N3'], [68700000000, b'30', b'Sleep stage N3'], [69000000000, b'30', b'Sleep stage N3'], [69300000000, b'30', b'Sleep stage N3'], [69600000000, b'30', b'Sleep stage N3'], [69900000000, b'30', b'Sleep stage N3'], [70200000000, b'30', b'Sleep stage N3'], [70500000000, b'30', b'Sleep stage N3'], [70800000000, b'30', b'Sleep stage N3'], [71100000000, b'30', b'Sleep stage N3'], [71400000000, b'30', b'Sleep stage N3'], [71700000000, b'30', b'Sleep stage N2'], [72000000000, b'30', b'Sleep stage N3'], [72300000000, b'30', b'Sleep stage N2'], [72600000000, b'30', b'Sleep stage N1'], [72900000000, b'30', b'Sleep stage W'], [73200000000, b'30', b'Sleep stage N1'], [73500000000, b'30', b'Sleep stage N1'], [73800000000, b'30', b'Sleep stage N1'], [74100000000, b'30', b'Sleep stage N1'], [74400000000, b'30', b'Sleep stage N2'], [74700000000, b'30', b'Sleep stage N2'], [75000000000, b'30', b'Sleep stage N1'], [75300000000, b'30', b'Sleep stage N1'], [75600000000, b'30', b'Sleep stage W'], [75900000000, b'30', b'Sleep stage N1'], [76200000000, b'30', b'Sleep stage N1'], [76500000000, b'30', b'Sleep stage N1'], [76800000000, b'30', b'Sleep stage N1'], [77100000000, b'30', b'Sleep stage N2'], [77400000000, b'30', b'Sleep stage N2'], [77700000000, b'30', b'Sleep stage N2'], [78000000000, b'30', b'Sleep stage N2'], [78300000000, b'30', b'Sleep stage N2'], [78600000000, b'30', b'Sleep stage N2'], [78900000000, b'30', b'Sleep stage N2'], [79200000000, b'30', b'Sleep stage N2'], [79500000000, b'30', b'Sleep stage N2'], [79800000000, b'30', b'Sleep stage N2'], [80100000000, b'30', b'Sleep stage N2'], [80400000000, b'30', b'Sleep stage W'], [80700000000, b'30', b'Sleep stage N1'], [81000000000, b'30', b'Sleep stage N1'], [81300000000, b'30', b'Sleep stage N2'], [81600000000, b'30', b'Sleep stage N2'], [81900000000, b'30', b'Sleep stage N2'], [82200000000, b'30', b'Sleep stage N1'], [82500000000, b'30', b'Sleep stage N2'], [82800000000, b'30', b'Sleep stage N2'], [83100000000, b'30', b'Sleep stage N2'], [83400000000, b'30', b'Sleep stage N3'], [83700000000, b'30', b'Sleep stage N3'], [84000000000, b'30', b'Sleep stage N3'], [84300000000, b'30', b'Sleep stage N3'], [84600000000, b'30', b'Sleep stage N1'], [84900000000, b'30', b'Sleep stage N1'], [85200000000, b'30', b'Sleep stage N2'], [85500000000, b'30', b'Sleep stage N2'], [85800000000, b'30', b'Sleep stage N3'], [86100000000, b'30', b'Sleep stage N3'], [86400000000, b'30', b'Sleep stage N3'], [86700000000, b'30', b'Sleep stage N3'], [87000000000, b'30', b'Sleep stage N3'], [87300000000, b'30', b'Sleep stage N3'], [87600000000, b'30', b'Sleep stage N3'], [87900000000, b'30', b'Sleep stage N3'], [88200000000, b'30', b'Sleep stage N3'], [88500000000, b'30', b'Sleep stage N1'], [88800000000, b'30', b'Sleep stage N1'], [89100000000, b'30', b'Sleep stage N2'], [89400000000, b'30', b'Sleep stage N1'], [89700000000, b'30', b'Sleep stage N2'], [90000000000, b'30', b'Sleep stage N2'], [90300000000, b'30', b'Sleep stage N1'], [90600000000, b'30', b'Sleep stage N2'], [90900000000, b'30', b'Sleep stage N2'], [91200000000, b'30', b'Sleep stage N2'], [91500000000, b'30', b'Sleep stage N1'], [91800000000, b'30', b'Sleep stage R'], [92100000000, b'30', b'Sleep stage R'], [92400000000, b'30', b'Sleep stage R'], [92700000000, b'30', b'Sleep stage R'], [93000000000, b'30', b'Sleep stage N1'], [93300000000, b'30', b'Sleep stage R'], [93600000000, b'30', b'Sleep stage R'], [93900000000, b'30', b'Sleep stage N1'], [94200000000, b'30', b'Sleep stage N1'], [94500000000, b'30', b'Sleep stage N1'], [94800000000, b'30', b'Sleep stage R'], [95100000000, b'30', b'Sleep stage N1'], [95400000000, b'30', b'Sleep stage R'], [95700000000, b'30', b'Sleep stage N1'], [96000000000, b'30', b'Sleep stage R'], [96300000000, b'30', b'Sleep stage R'], [96600000000, b'30', b'Sleep stage N1'], [96900000000, b'30', b'Sleep stage R'], [97200000000, b'30', b'Sleep stage N1'], [97500000000, b'30', b'Sleep stage N1'], [97800000000, b'30', b'Sleep stage R'], [98100000000, b'30', b'Sleep stage R'], [98400000000, b'30', b'Sleep stage N1'], [98700000000, b'30', b'Sleep stage R'], [99000000000, b'30', b'Sleep stage R'], [99300000000, b'30', b'Sleep stage N1'], [99600000000, b'30', b'Sleep stage R'], [99900000000, b'30', b'Sleep stage R'], [100200000000, b'30', b'Sleep stage R'], [100500000000, b'30', b'Sleep stage R'], [100800000000, b'30', b'Sleep stage R'], [101100000000, b'30', b'Sleep stage R'], [101400000000, b'30', b'Sleep stage R'], [101700000000, b'30', b'Sleep stage N1'], [102000000000, b'30', b'Sleep stage R'], [102300000000, b'30', b'Sleep stage R'], [102600000000, b'30', b'Sleep stage N1'], [102900000000, b'30', b'Sleep stage R'], [103200000000, b'30', b'Sleep stage R'], [103500000000, b'30', b'Sleep stage N1'], [103800000000, b'30', b'Sleep stage R'], [104100000000, b'30', b'Sleep stage R'], [104400000000, b'30', b'Sleep stage N1'], [104700000000, b'30', b'Sleep stage R'], [105000000000, b'30', b'Sleep stage R'], [105300000000, b'30', b'Sleep stage W'], [105600000000, b'30', b'Sleep stage N1'], [105900000000, b'30', b'Sleep stage N1'], [106200000000, b'30', b'Sleep stage R'], [106500000000, b'30', b'Sleep stage N1'], [106800000000, b'30', b'Sleep stage R'], [107100000000, b'30', b'Sleep stage R'], [107400000000, b'30', b'Sleep stage N1'], [107700000000, b'30', b'Sleep stage R'], [108000000000, b'30', b'Sleep stage W'], [108300000000, b'30', b'Sleep stage W'], [108600000000, b'30', b'Sleep stage N1'], [108900000000, b'30', b'Sleep stage N1'], [109200000000, b'30', b'Sleep stage N1'], [109500000000, b'30', b'Sleep stage N1'], [109800000000, b'30', b'Sleep stage N1'], [110100000000, b'30', b'Sleep stage N1'], [110400000000, b'30', b'Sleep stage N2'], [110700000000, b'30', b'Sleep stage N2'], [111000000000, b'30', b'Sleep stage N2'], [111300000000, b'30', b'Sleep stage N1'], [111600000000, b'30', b'Sleep stage N1'], [111900000000, b'30', b'Sleep stage N1'], [112200000000, b'30', b'Sleep stage N2'], [112500000000, b'30', b'Sleep stage N2'], [112800000000, b'30', b'Sleep stage N2'], [113100000000, b'30', b'Sleep stage N2'], [113400000000, b'30', b'Sleep stage N2'], [113700000000, b'30', b'Sleep stage N2'], [114000000000, b'30', b'Sleep stage N2'], [114300000000, b'30', b'Sleep stage N2'], [114600000000, b'30', b'Sleep stage N2'], [114900000000, b'30', b'Sleep stage N2'], [115200000000, b'30', b'Sleep stage N2'], [115500000000, b'30', b'Sleep stage N2'], [115800000000, b'30', b'Sleep stage N2'], [116100000000, b'30', b'Sleep stage N2'], [116400000000, b'30', b'Sleep stage N2'], [116700000000, b'30', b'Sleep stage N2'], [117000000000, b'30', b'Sleep stage N2'], [117300000000, b'30', b'Sleep stage N2'], [117600000000, b'30', b'Sleep stage N2'], [117900000000, b'30', b'Sleep stage N2'], [118200000000, b'30', b'Sleep stage N3'], [118500000000, b'30', b'Sleep stage N3'], [118800000000, b'30', b'Sleep stage N3'], [119100000000, b'30', b'Sleep stage N3'], [119400000000, b'30', b'Sleep stage N3'], [119700000000, b'30', b'Sleep stage N3'], [120000000000, b'30', b'Sleep stage N3'], [120300000000, b'30', b'Sleep stage N3'], [120600000000, b'30', b'Sleep stage N3'], [120900000000, b'30', b'Sleep stage N3'], [121200000000, b'30', b'Sleep stage N3'], [121500000000, b'30', b'Sleep stage N3'], [121800000000, b'30', b'Sleep stage N3'], [122100000000, b'30', b'Sleep stage N3'], [122400000000, b'30', b'Sleep stage N3'], [122700000000, b'30', b'Sleep stage N3'], [123000000000, b'30', b'Sleep stage N3'], [123300000000, b'30', b'Sleep stage N3'], [123600000000, b'30', b'Sleep stage N3'], [123900000000, b'30', b'Sleep stage N3'], [124200000000, b'30', b'Sleep stage N3'], [124500000000, b'30', b'Sleep stage N3'], [124800000000, b'30', b'Sleep stage N3'], [125100000000, b'30', b'Sleep stage N3'], [125400000000, b'30', b'Sleep stage N3'], [125700000000, b'30', b'Sleep stage N3'], [126000000000, b'30', b'Sleep stage N3'], [126300000000, b'30', b'Sleep stage N3'], [126600000000, b'30', b'Sleep stage N3'], [126900000000, b'30', b'Sleep stage N1'], [127200000000, b'30', b'Sleep stage N2'], [127500000000, b'30', b'Sleep stage N2'], [127800000000, b'30', b'Sleep stage N2'], [128100000000, b'30', b'Sleep stage N2'], [128400000000, b'30', b'Sleep stage N2'], [128700000000, b'30', b'Sleep stage N2'], [129000000000, b'30', b'Sleep stage N2'], [129300000000, b'30', b'Sleep stage N2'], [129600000000, b'30', b'Sleep stage N2'], [129900000000, b'30', b'Sleep stage N2'], [130200000000, b'30', b'Sleep stage N2'], [130500000000, b'30', b'Sleep stage N2'], [130800000000, b'30', b'Sleep stage N2'], [131100000000, b'30', b'Sleep stage N2'], [131400000000, b'30', b'Sleep stage N2'], [131700000000, b'30', b'Sleep stage N2'], [132000000000, b'30', b'Sleep stage N2'], [132300000000, b'30', b'Sleep stage N2'], [132600000000, b'30', b'Sleep stage N2'], [132900000000, b'30', b'Sleep stage N2'], [133200000000, b'30', b'Sleep stage N2'], [133500000000, b'30', b'Sleep stage N2'], [133800000000, b'30', b'Sleep stage N2'], [134100000000, b'30', b'Sleep stage N2'], [134400000000, b'30', b'Sleep stage N2'], [134700000000, b'30', b'Sleep stage N2'], [135000000000, b'30', b'Sleep stage N2'], [135300000000, b'30', b'Sleep stage N2'], [135600000000, b'30', b'Sleep stage N2'], [135900000000, b'30', b'Sleep stage N2'], [136200000000, b'30', b'Sleep stage N2'], [136500000000, b'30', b'Sleep stage N2'], [136800000000, b'30', b'Sleep stage N2'], [137100000000, b'30', b'Sleep stage N2'], [137400000000, b'30', b'Sleep stage N1'], [137700000000, b'30', b'Sleep stage N1'], [138000000000, b'30', b'Sleep stage N1'], [138300000000, b'30', b'Sleep stage N2'], [138600000000, b'30', b'Sleep stage N1'], [138900000000, b'30', b'Sleep stage N1'], [139200000000, b'30', b'Sleep stage N1'], [139500000000, b'30', b'Sleep stage N2'], [139800000000, b'30', b'Sleep stage N1'], [140100000000, b'30', b'Sleep stage N1'], [140400000000, b'30', b'Sleep stage N1'], [140700000000, b'30', b'Sleep stage N1'], [141000000000, b'30', b'Sleep stage R'], [141300000000, b'30', b'Sleep stage R'], [141600000000, b'30', b'Sleep stage R'], [141900000000, b'30', b'Sleep stage R'], [142200000000, b'30', b'Sleep stage N1'], [142500000000, b'30', b'Sleep stage R'], [142800000000, b'30', b'Sleep stage R'], [143100000000, b'30', b'Sleep stage R'], [143400000000, b'30', b'Sleep stage R'], [143700000000, b'30', b'Sleep stage N1'], [144000000000, b'30', b'Sleep stage R'], [144300000000, b'30', b'Sleep stage R'], [144600000000, b'30', b'Sleep stage R'], [144900000000, b'30', b'Sleep stage R'], [145200000000, b'30', b'Sleep stage R'], [145500000000, b'30', b'Sleep stage R'], [145800000000, b'30', b'Sleep stage R'], [146100000000, b'30', b'Sleep stage R'], [146400000000, b'30', b'Sleep stage R'], [146700000000, b'30', b'Sleep stage R'], [147000000000, b'30', b'Sleep stage R'], [147300000000, b'30', b'Sleep stage R'], [147600000000, b'30', b'Sleep stage R'], [147900000000, b'30', b'Sleep stage R'], [148200000000, b'30', b'Sleep stage R'], [148500000000, b'30', b'Sleep stage R'], [148800000000, b'30', b'Sleep stage R'], [149100000000, b'30', b'Sleep stage R'], [149400000000, b'30', b'Sleep stage R'], [149700000000, b'30', b'Sleep stage R'], [150000000000, b'30', b'Sleep stage N1'], [150300000000, b'30', b'Sleep stage R'], [150600000000, b'30', b'Sleep stage R'], [150900000000, b'30', b'Sleep stage R'], [151200000000, b'30', b'Sleep stage W'], [151500000000, b'30', b'Sleep stage N1'], [151800000000, b'30', b'Sleep stage N1'], [152100000000, b'30', b'Sleep stage N1'], [152400000000, b'30', b'Sleep stage N1'], [152700000000, b'30', b'Sleep stage N1'], [153000000000, b'30', b'Sleep stage N1'], [153300000000, b'30', b'Sleep stage N1'], [153600000000, b'30', b'Sleep stage N1'], [153900000000, b'30', b'Sleep stage N1'], [154200000000, b'30', b'Sleep stage R'], [154500000000, b'30', b'Sleep stage R'], [154800000000, b'30', b'Sleep stage N1'], [155100000000, b'30', b'Sleep stage R'], [155400000000, b'30', b'Sleep stage N1'], [155700000000, b'30', b'Sleep stage N1'], [156000000000, b'30', b'Sleep stage R'], [156300000000, b'30', b'Sleep stage N1'], [156600000000, b'30', b'Sleep stage N1'], [156900000000, b'30', b'Sleep stage N2'], [157200000000, b'30', b'Sleep stage N2'], [157500000000, b'30', b'Sleep stage N1'], [157800000000, b'30', b'Sleep stage W'], [158100000000, b'30', b'Sleep stage N1'], [158400000000, b'30', b'Sleep stage N2'], [158700000000, b'30', b'Sleep stage N2'], [159000000000, b'30', b'Sleep stage N2'], [159300000000, b'30', b'Sleep stage N2'], [159600000000, b'30', b'Sleep stage N2'], [159900000000, b'30', b'Sleep stage N1'], [160200000000, b'30', b'Sleep stage N1'], [160500000000, b'30', b'Sleep stage N2'], [160800000000, b'30', b'Sleep stage N1'], [161100000000, b'30', b'Sleep stage N1'], [161400000000, b'30', b'Sleep stage N1'], [161700000000, b'30', b'Sleep stage N1'], [162000000000, b'30', b'Sleep stage N1'], [162300000000, b'30', b'Sleep stage N2'], [162600000000, b'30', b'Sleep stage N2'], [162900000000, b'30', b'Sleep stage N1'], [163200000000, b'30', b'Sleep stage N2'], [163500000000, b'30', b'Sleep stage N1'], [163800000000, b'30', b'Sleep stage N1'], [164100000000, b'30', b'Sleep stage N1'], [164400000000, b'30', b'Sleep stage N2'], [164700000000, b'30', b'Sleep stage N2'], [165000000000, b'30', b'Sleep stage N2'], [165300000000, b'30', b'Sleep stage N1'], [165600000000, b'30', b'Sleep stage N1'], [165900000000, b'30', b'Sleep stage N2'], [166200000000, b'30', b'Sleep stage N2'], [166500000000, b'30', b'Sleep stage N2'], [166800000000, b'30', b'Sleep stage N2'], [167100000000, b'30', b'Sleep stage W'], [167400000000, b'30', b'Sleep stage W'], [167700000000, b'30', b'Sleep stage W'], [168000000000, b'30', b'Sleep stage N1'], [168300000000, b'30', b'Sleep stage N1'], [168600000000, b'30', b'Sleep stage N1'], [168900000000, b'30', b'Sleep stage N1'], [169200000000, b'30', b'Sleep stage N1'], [169500000000, b'30', b'Sleep stage N1'], [169800000000, b'30', b'Sleep stage N1'], [170100000000, b'30', b'Sleep stage N1'], [170400000000, b'30', b'Sleep stage N1'], [170700000000, b'30', b'Sleep stage N2'], [171000000000, b'30', b'Sleep stage N1'], [171300000000, b'30', b'Sleep stage N1'], [171600000000, b'30', b'Sleep stage N1'], [171900000000, b'30', b'Sleep stage N1'], [172200000000, b'30', b'Sleep stage N2'], [172500000000, b'30', b'Sleep stage N2'], [172800000000, b'30', b'Sleep stage N2'], [173100000000, b'30', b'Sleep stage N2'], [173400000000, b'30', b'Sleep stage N2'], [173700000000, b'30', b'Sleep stage N2'], [174000000000, b'30', b'Sleep stage N2'], [174300000000, b'30', b'Sleep stage N2'], [174600000000, b'30', b'Sleep stage N2'], [174900000000, b'30', b'Sleep stage N2'], [175200000000, b'30', b'Sleep stage N2'], [175500000000, b'30', b'Sleep stage N2'], [175800000000, b'30', b'Sleep stage N2'], [176100000000, b'30', b'Sleep stage N2'], [176400000000, b'30', b'Sleep stage N2'], [176700000000, b'30', b'Sleep stage N1'], [177000000000, b'30', b'Sleep stage N1'], [177300000000, b'30', b'Sleep stage N1'], [177600000000, b'30', b'Sleep stage N1'], [177900000000, b'30', b'Sleep stage N1'], [178200000000, b'30', b'Sleep stage N2'], [178500000000, b'30', b'Sleep stage N2'], [178800000000, b'30', b'Sleep stage N2'], [179100000000, b'30', b'Sleep stage N1'], [179400000000, b'30', b'Sleep stage N1'], [179700000000, b'30', b'Sleep stage N2'], [180000000000, b'30', b'Sleep stage N1'], [180300000000, b'30', b'Sleep stage N1'], [180600000000, b'30', b'Sleep stage N1'], [180900000000, b'30', b'Sleep stage N1'], [181200000000, b'30', b'Sleep stage N1'], [181500000000, b'30', b'Sleep stage N2'], [181800000000, b'30', b'Sleep stage N2'], [182100000000, b'30', b'Sleep stage N2'], [182400000000, b'30', b'Sleep stage N2'], [182700000000, b'30', b'Sleep stage N2'], [183000000000, b'30', b'Sleep stage N2'], [183300000000, b'30', b'Sleep stage N2'], [183600000000, b'30', b'Sleep stage N2'], [183900000000, b'30', b'Sleep stage N2'], [184200000000, b'30', b'Sleep stage N2'], [184500000000, b'30', b'Sleep stage N2'], [184800000000, b'30', b'Sleep stage N2'], [185100000000, b'30', b'Sleep stage N2'], [185400000000, b'30', b'Sleep stage N2'], [185700000000, b'30', b'Sleep stage N2'], [186000000000, b'30', b'Sleep stage N2'], [186300000000, b'30', b'Sleep stage N2'], [186600000000, b'30', b'Sleep stage N2'], [186900000000, b'30', b'Sleep stage N2'], [187200000000, b'30', b'Sleep stage N2'], [187500000000, b'30', b'Sleep stage N3'], [187800000000, b'30', b'Sleep stage N2'], [188100000000, b'30', b'Sleep stage N3'], [188400000000, b'30', b'Sleep stage N3'], [188700000000, b'30', b'Sleep stage N3'], [189000000000, b'30', b'Sleep stage N3'], [189300000000, b'30', b'Sleep stage N1'], [189600000000, b'30', b'Sleep stage N1'], [189900000000, b'30', b'Sleep stage N2'], [190200000000, b'30', b'Sleep stage N2'], [190500000000, b'30', b'Sleep stage N2'], [190800000000, b'30', b'Sleep stage N2'], [191100000000, b'30', b'Sleep stage N2'], [191400000000, b'30', b'Sleep stage N2'], [191700000000, b'30', b'Sleep stage N2'], [192000000000, b'30', b'Sleep stage N2'], [192300000000, b'30', b'Sleep stage N2'], [192600000000, b'30', b'Sleep stage N2'], [192900000000, b'30', b'Sleep stage N1'], [193200000000, b'30', b'Sleep stage N1'], [193500000000, b'30', b'Sleep stage W'], [193800000000, b'30', b'Sleep stage N1'], [194100000000, b'30', b'Sleep stage N1'], [194400000000, b'30', b'Sleep stage N1'], [194700000000, b'30', b'Sleep stage N2'], [195000000000, b'30', b'Sleep stage N2'], [195300000000, b'30', b'Sleep stage N2'], [195600000000, b'30', b'Sleep stage N1'], [195900000000, b'30', b'Sleep stage N2'], [196200000000, b'30', b'Sleep stage R'], [196500000000, b'30', b'Sleep stage R'], [196800000000, b'30', b'Sleep stage R'], [197100000000, b'30', b'Sleep stage N1'], [197400000000, b'30', b'Sleep stage R'], [197700000000, b'30', b'Sleep stage R'], [198000000000, b'30', b'Sleep stage R'], [198300000000, b'30', b'Sleep stage R'], [198600000000, b'30', b'Sleep stage R'], [198900000000, b'30', b'Sleep stage R'], [199200000000, b'30', b'Sleep stage R'], [199500000000, b'30', b'Sleep stage R'], [199800000000, b'30', b'Sleep stage R'], [200100000000, b'30', b'Sleep stage R'], [200400000000, b'30', b'Sleep stage R'], [200700000000, b'30', b'Sleep stage N1'], [201000000000, b'30', b'Sleep stage N1'], [201300000000, b'30', b'Sleep stage N1'], [201600000000, b'30', b'Sleep stage R'], [201900000000, b'30', b'Sleep stage R'], [202200000000, b'30', b'Sleep stage N1'], [202500000000, b'30', b'Sleep stage R'], [202800000000, b'30', b'Sleep stage R'], [203100000000, b'30', b'Sleep stage N1'], [203400000000, b'30', b'Sleep stage R'], [203700000000, b'30', b'Sleep stage R'], [204000000000, b'30', b'Sleep stage N1'], [204300000000, b'30', b'Sleep stage N1'], [204600000000, b'30', b'Sleep stage R'], [204900000000, b'30', b'Sleep stage R'], [205200000000, b'30', b'Sleep stage N1'], [205500000000, b'30', b'Sleep stage R'], [205800000000, b'30', b'Sleep stage R'], [206100000000, b'30', b'Sleep stage N1'], [206400000000, b'30', b'Sleep stage N1'], [206700000000, b'30', b'Sleep stage R'], [207000000000, b'30', b'Sleep stage R'], [207300000000, b'30', b'Sleep stage N1'], [207600000000, b'30', b'Sleep stage N1'], [207900000000, b'30', b'Sleep stage R'], [208200000000, b'30', b'Sleep stage W'], [208500000000, b'30', b'Sleep stage N1'], [208800000000, b'30', b'Sleep stage N1'], [209100000000, b'30', b'Sleep stage N1'], [209400000000, b'30', b'Sleep stage N1'], [209700000000, b'30', b'Sleep stage N1'], [210000000000, b'30', b'Sleep stage R'], [210300000000, b'30', b'Sleep stage R'], [210600000000, b'30', b'Sleep stage N1'], [210900000000, b'30', b'Sleep stage N2'], [211200000000, b'30', b'Sleep stage N2'], [211500000000, b'30', b'Sleep stage N2'], [211800000000, b'30', b'Sleep stage N2'], [212100000000, b'30', b'Sleep stage N2'], [212400000000, b'30', b'Sleep stage N2'], [212700000000, b'30', b'Sleep stage N2'], [213000000000, b'30', b'Sleep stage N2'], [213300000000, b'30', b'Sleep stage N2'], [213600000000, b'30', b'Sleep stage N3'], [213900000000, b'30', b'Sleep stage N3'], [214200000000, b'30', b'Sleep stage N3'], [214500000000, b'30', b'Sleep stage N3'], [214800000000, b'30', b'Sleep stage N3'], [215100000000, b'30', b'Sleep stage N3'], [215400000000, b'30', b'Sleep stage N3'], [215700000000, b'30', b'Sleep stage N3'], [216000000000, b'30', b'Sleep stage N3'], [216300000000, b'30', b'Sleep stage N3'], [216600000000, b'30', b'Sleep stage N3'], [216900000000, b'30', b'Sleep stage N3'], [217200000000, b'30', b'Sleep stage N3'], [217500000000, b'30', b'Sleep stage N3'], [217800000000, b'30', b'Sleep stage N3'], [218100000000, b'30', b'Sleep stage N3'], [218400000000, b'30', b'Sleep stage N3'], [218700000000, b'30', b'Sleep stage N3'], [219000000000, b'30', b'Sleep stage N3'], [219300000000, b'30', b'Sleep stage N3'], [219600000000, b'30', b'Sleep stage N3'], [219900000000, b'30', b'Sleep stage N3'], [220200000000, b'30', b'Sleep stage N2'], [220500000000, b'30', b'Sleep stage N2'], [220800000000, b'30', b'Sleep stage N1'], [221100000000, b'30', b'Sleep stage N1'], [221400000000, b'30', b'Sleep stage N1'], [221700000000, b'30', b'Sleep stage N1'], [222000000000, b'30', b'Sleep stage N1'], [222300000000, b'30', b'Sleep stage W'], [222600000000, b'30', b'Sleep stage W'], [222900000000, b'30', b'Sleep stage N1'], [223200000000, b'30', b'Sleep stage N1'], [223500000000, b'30', b'Sleep stage N1'], [223800000000, b'30', b'Sleep stage N1'], [224100000000, b'30', b'Sleep stage W'], [224400000000, b'30', b'Sleep stage W'], [224700000000, b'30', b'Sleep stage W'], [225000000000, b'30', b'Sleep stage W'], [225300000000, b'30', b'Sleep stage W'], [225600000000, b'30', b'Sleep stage W'], [225900000000, b'30', b'Sleep stage W'], [226200000000, b'30', b'Sleep stage N1'], [226500000000, b'30', b'Sleep stage N1'], [226800000000, b'30', b'Sleep stage N1'], [227100000000, b'30', b'Sleep stage W'], [227400000000, b'30', b'Sleep stage W'], [227700000000, b'30', b'Sleep stage W'], [228000000000, b'30', b'Sleep stage W'], [228300000000, b'30', b'Sleep stage N1'], [228600000000, b'30', b'Sleep stage W'], [228900000000, b'30', b'Sleep stage N1'], [229200000000, b'30', b'Sleep stage N1'], [229500000000, b'30', b'Sleep stage W'], [229800000000, b'30', b'Sleep stage W'], [230100000000, b'30', b'Sleep stage W'], [230400000000, b'30', b'Sleep stage W'], [230700000000, b'30', b'Sleep stage N1'], [231000000000, b'30', b'Sleep stage N1'], [231300000000, b'30', b'Sleep stage N1'], [231597000000, b'0', b'Lights on@@SaO2'], [231600000000, b'30', b'Sleep stage W']]\n",
            "775\n"
          ]
        }
      ]
    },
    {
      "cell_type": "code",
      "source": [
        "(1초당 256개의 진폭데이터)가 60 0000000"
      ],
      "metadata": {
        "id": "XaQNqeu3a3R4"
      },
      "execution_count": null,
      "outputs": []
    },
    {
      "cell_type": "markdown",
      "source": [
        "#기타"
      ],
      "metadata": {
        "id": "L0M9eyYXt6RH"
      }
    },
    {
      "cell_type": "code",
      "source": [
        "!pip install mne  \n",
        "!pip install mne.io"
      ],
      "metadata": {
        "colab": {
          "base_uri": "https://localhost:8080/"
        },
        "id": "SnwahiE2WBi-",
        "outputId": "817693d6-450b-4b68-d7da-97dce9b79cef"
      },
      "execution_count": null,
      "outputs": [
        {
          "output_type": "stream",
          "name": "stdout",
          "text": [
            "Collecting mne\n",
            "  Downloading mne-1.0.2-py3-none-any.whl (7.5 MB)\n",
            "\u001b[K     |████████████████████████████████| 7.5 MB 25.9 MB/s \n",
            "\u001b[?25hRequirement already satisfied: numpy>=1.15.4 in /usr/local/lib/python3.7/dist-packages (from mne) (1.21.6)\n",
            "Requirement already satisfied: packaging in /usr/local/lib/python3.7/dist-packages (from mne) (21.3)\n",
            "Requirement already satisfied: scipy>=1.1.0 in /usr/local/lib/python3.7/dist-packages (from mne) (1.4.1)\n",
            "Requirement already satisfied: jinja2 in /usr/local/lib/python3.7/dist-packages (from mne) (2.11.3)\n",
            "Requirement already satisfied: matplotlib in /usr/local/lib/python3.7/dist-packages (from mne) (3.2.2)\n",
            "Requirement already satisfied: decorator in /usr/local/lib/python3.7/dist-packages (from mne) (4.4.2)\n",
            "Requirement already satisfied: pooch>=1.5 in /usr/local/lib/python3.7/dist-packages (from mne) (1.6.0)\n",
            "Requirement already satisfied: tqdm in /usr/local/lib/python3.7/dist-packages (from mne) (4.64.0)\n",
            "Requirement already satisfied: appdirs>=1.3.0 in /usr/local/lib/python3.7/dist-packages (from pooch>=1.5->mne) (1.4.4)\n",
            "Requirement already satisfied: requests>=2.19.0 in /usr/local/lib/python3.7/dist-packages (from pooch>=1.5->mne) (2.23.0)\n",
            "Requirement already satisfied: pyparsing!=3.0.5,>=2.0.2 in /usr/local/lib/python3.7/dist-packages (from packaging->mne) (3.0.8)\n",
            "Requirement already satisfied: certifi>=2017.4.17 in /usr/local/lib/python3.7/dist-packages (from requests>=2.19.0->pooch>=1.5->mne) (2021.10.8)\n",
            "Requirement already satisfied: chardet<4,>=3.0.2 in /usr/local/lib/python3.7/dist-packages (from requests>=2.19.0->pooch>=1.5->mne) (3.0.4)\n",
            "Requirement already satisfied: idna<3,>=2.5 in /usr/local/lib/python3.7/dist-packages (from requests>=2.19.0->pooch>=1.5->mne) (2.10)\n",
            "Requirement already satisfied: urllib3!=1.25.0,!=1.25.1,<1.26,>=1.21.1 in /usr/local/lib/python3.7/dist-packages (from requests>=2.19.0->pooch>=1.5->mne) (1.24.3)\n",
            "Requirement already satisfied: MarkupSafe>=0.23 in /usr/local/lib/python3.7/dist-packages (from jinja2->mne) (2.0.1)\n",
            "Requirement already satisfied: cycler>=0.10 in /usr/local/lib/python3.7/dist-packages (from matplotlib->mne) (0.11.0)\n",
            "Requirement already satisfied: python-dateutil>=2.1 in /usr/local/lib/python3.7/dist-packages (from matplotlib->mne) (2.8.2)\n",
            "Requirement already satisfied: kiwisolver>=1.0.1 in /usr/local/lib/python3.7/dist-packages (from matplotlib->mne) (1.4.2)\n",
            "Requirement already satisfied: typing-extensions in /usr/local/lib/python3.7/dist-packages (from kiwisolver>=1.0.1->matplotlib->mne) (4.2.0)\n",
            "Requirement already satisfied: six>=1.5 in /usr/local/lib/python3.7/dist-packages (from python-dateutil>=2.1->matplotlib->mne) (1.15.0)\n",
            "Installing collected packages: mne\n",
            "Successfully installed mne-1.0.2\n",
            "\u001b[31mERROR: Could not find a version that satisfies the requirement mne.io (from versions: none)\u001b[0m\n",
            "\u001b[31mERROR: No matching distribution found for mne.io\u001b[0m\n"
          ]
        }
      ]
    },
    {
      "cell_type": "code",
      "source": [
        ""
      ],
      "metadata": {
        "colab": {
          "base_uri": "https://localhost:8080/"
        },
        "id": "7hhuiCVOWTyu",
        "outputId": "2dba4078-13e9-439d-c2f1-91df59f9aa69"
      },
      "execution_count": null,
      "outputs": [
        {
          "output_type": "stream",
          "name": "stdout",
          "text": [
            "\u001b[31mERROR: Could not find a version that satisfies the requirement dhedfreader (from versions: none)\u001b[0m\n",
            "\u001b[31mERROR: No matching distribution found for dhedfreader\u001b[0m\n"
          ]
        }
      ]
    },
    {
      "cell_type": "code",
      "source": [
        "import argparse\n",
        "import glob\n",
        "import math\n",
        "import ntpath\n",
        "import os\n",
        "import shutil\n",
        "import urllib.request, urllib.parse, urllib.error\n",
        "import urllib.request, urllib.error, urllib.parse\n",
        "\n",
        "from datetime import datetime\n",
        "\n",
        "import numpy as np\n",
        "\n",
        "from mne import Epochs, pick_types, find_events\n",
        "from mne.io import concatenate_raws, read_raw_edf\n",
        "\n",
        "import dhedfreader\n",
        "\n",
        "\n",
        "# Label values\n",
        "W = 0\n",
        "N1 = 1\n",
        "N2 = 2\n",
        "N3 = 3\n",
        "REM = 4\n",
        "UNKNOWN = 5\n",
        "\n",
        "stage_dict = {\n",
        "    \"W\": W,\n",
        "    \"N1\": N1,\n",
        "    \"N2\": N2,\n",
        "    \"N3\": N3,\n",
        "    \"REM\": REM,\n",
        "    \"UNKNOWN\": UNKNOWN\n",
        "}\n",
        "\n",
        "class_dict = {\n",
        "    0: \"W\",\n",
        "    1: \"N1\",\n",
        "    2: \"N2\",\n",
        "    3: \"N3\",\n",
        "    4: \"REM\",\n",
        "    5: \"UNKNOWN\"\n",
        "}\n",
        "\n",
        "ann2label = {\n",
        "    \"Sleep stage W\": 0,\n",
        "    \"Sleep stage 1\": 1,\n",
        "    \"Sleep stage 2\": 2,\n",
        "    \"Sleep stage 3\": 3,\n",
        "    \"Sleep stage 4\": 3,\n",
        "    \"Sleep stage R\": 4,\n",
        "    \"Sleep stage ?\": 5,\n",
        "    \"Movement time\": 5\n",
        "}\n",
        "\n",
        "EPOCH_SEC_SIZE = 30\n",
        "\n",
        "\n",
        "def main():\n",
        "    parser = argparse.ArgumentParser()\n",
        "    parser.add_argument(\"--data_dir\", type=str, default=\"/content/drive/MyDrive/HMC\",\n",
        "                        help=\"File path to the CSV or NPY file that contains walking data.\")\n",
        "    parser.add_argument(\"--output_dir\", type=str, default=\"/content/drive/MyDrive/HMC/HMC_output\",\n",
        "                        help=\"Directory where to save outputs.\")\n",
        "    parser.add_argument(\"--select_ch\", type=str, default=\"ECG\",\n",
        "                        help=\"File path to the trained model used to estimate walking speeds.\")\n",
        "    args = parser.parse_args()\n",
        "\n",
        "    # Output dir\n",
        "    if not os.path.exists(args.output_dir):\n",
        "        os.makedirs(args.output_dir)\n",
        "    else:\n",
        "        shutil.rmtree(args.output_dir)\n",
        "        os.makedirs(args.output_dir)\n",
        "\n",
        "    # Select channel\n",
        "    select_ch = args.select_ch\n",
        "\n",
        "    # Read raw and annotation EDF files\n",
        "    psg_fnames = glob.glob(os.path.join(args.data_dir, \"*.edf\"))\n",
        "    ann_fnames = glob.glob(os.path.join(args.data_dir, \"*sleepscoring.edf\"))\n",
        "    psg_fnames.sort()\n",
        "    ann_fnames.sort()\n",
        "    psg_fnames = np.asarray(psg_fnames)\n",
        "    ann_fnames = np.asarray(ann_fnames)\n",
        "\n",
        "    for i in range(len(psg_fnames)):\n",
        "        # if not \"ST7171J0-PSG.edf\" in psg_fnames[i]:\n",
        "        #     continue\n",
        "\n",
        "        raw = read_raw_edf(psg_fnames[i], preload=True, stim_channel=None)\n",
        "        sampling_rate = raw.info['sfreq']\n",
        "        raw_ch_df = raw.to_data_frame(scaling_time=100.0)[select_ch]\n",
        "        raw_ch_df = raw_ch_df.to_frame()\n",
        "        raw_ch_df.set_index(np.arange(len(raw_ch_df)))\n",
        "\n",
        "        # Get raw header\n",
        "        f = open(psg_fnames[i], 'r', encoding='iso-8859-1')\n",
        "        reader_raw = dhedfreader.BaseEDFReader(f)\n",
        "        reader_raw.read_header()\n",
        "        h_raw = reader_raw.header\n",
        "        f.close()\n",
        "        raw_start_dt = datetime.strptime(h_raw['date_time'], \"%Y-%m-%d %H:%M:%S\")\n",
        "\n",
        "        # Read annotation and its header\n",
        "        f = open(ann_fnames[i], 'r', encoding='iso-8859-1')\n",
        "        reader_ann = dhedfreader.BaseEDFReader(f)\n",
        "        reader_ann.read_header()\n",
        "        h_ann = reader_ann.header\n",
        "        _, _, ann = list(zip(*reader_ann.records()))\n",
        "        f.close()\n",
        "        ann_start_dt = datetime.strptime(h_ann['date_time'], \"%Y-%m-%d %H:%M:%S\")\n",
        "\n",
        "        # Assert that raw and annotation files start at the same time\n",
        "        assert raw_start_dt == ann_start_dt\n",
        "\n",
        "        # Generate label and remove indices\n",
        "        remove_idx = []    # indicies of the data that will be removed\n",
        "        labels = []        # indicies of the data that have labels\n",
        "        label_idx = []\n",
        "        for a in ann[0]:\n",
        "            onset_sec, duration_sec, ann_char = a\n",
        "            ann_str = \"\".join(ann_char)\n",
        "            label = ann2label[ann_str]\n",
        "            if label != UNKNOWN:\n",
        "                if duration_sec % EPOCH_SEC_SIZE != 0:\n",
        "                    raise Exception(\"Something wrong\")\n",
        "                duration_epoch = int(duration_sec / EPOCH_SEC_SIZE)\n",
        "                label_epoch = np.ones(duration_epoch, dtype=np.int) * label\n",
        "                labels.append(label_epoch)\n",
        "                idx = int(onset_sec * sampling_rate) + np.arange(duration_sec * sampling_rate, dtype=np.int)\n",
        "                label_idx.append(idx)\n",
        "\n",
        "                print(\"Include onset:{}, duration:{}, label:{} ({})\".format(\n",
        "                    onset_sec, duration_sec, label, ann_str\n",
        "                ))\n",
        "            else:\n",
        "                idx = int(onset_sec * sampling_rate) + np.arange(duration_sec * sampling_rate, dtype=np.int)\n",
        "                remove_idx.append(idx)\n",
        "\n",
        "                print(\"Remove onset:{}, duration:{}, label:{} ({})\".format(\n",
        "                    onset_sec, duration_sec, label, ann_str\n",
        "                ))\n",
        "        labels = np.hstack(labels)\n",
        "        \n",
        "        print(\"before remove unwanted: {}\".format(np.arange(len(raw_ch_df)).shape))\n",
        "        if len(remove_idx) > 0:\n",
        "            remove_idx = np.hstack(remove_idx)\n",
        "            select_idx = np.setdiff1d(np.arange(len(raw_ch_df)), remove_idx)\n",
        "        else:\n",
        "            select_idx = np.arange(len(raw_ch_df))\n",
        "        print(\"after remove unwanted: {}\".format(select_idx.shape))\n",
        "\n",
        "        # Select only the data with labels\n",
        "        print(\"before intersect label: {}\".format(select_idx.shape))\n",
        "        label_idx = np.hstack(label_idx)\n",
        "        select_idx = np.intersect1d(select_idx, label_idx)\n",
        "        print(\"after intersect label: {}\".format(select_idx.shape))\n",
        "\n",
        "        # Remove extra index\n",
        "        if len(label_idx) > len(select_idx):\n",
        "            print(\"before remove extra labels: {}, {}\".format(select_idx.shape, labels.shape))\n",
        "            extra_idx = np.setdiff1d(label_idx, select_idx)\n",
        "            # Trim the tail\n",
        "            if np.all(extra_idx > select_idx[-1]):\n",
        "                n_trims = len(select_idx) % int(EPOCH_SEC_SIZE * sampling_rate)\n",
        "                n_label_trims = int(math.ceil(n_trims / (EPOCH_SEC_SIZE * sampling_rate)))\n",
        "                select_idx = select_idx[:-n_trims]\n",
        "                labels = labels[:-n_label_trims]\n",
        "            print(\"after remove extra labels: {}, {}\".format(select_idx.shape, labels.shape))\n",
        "\n",
        "        # Remove movement and unknown stages if any\n",
        "        raw_ch = raw_ch_df.values[select_idx]\n",
        "\n",
        "        # Verify that we can split into 30-s epochs\n",
        "        if len(raw_ch) % (EPOCH_SEC_SIZE * sampling_rate) != 0:\n",
        "            raise Exception(\"Something wrong\")\n",
        "        n_epochs = len(raw_ch) / (EPOCH_SEC_SIZE * sampling_rate)\n",
        "\n",
        "        # Get epochs and their corresponding labels\n",
        "        x = np.asarray(np.split(raw_ch, n_epochs)).astype(np.float32)\n",
        "        y = labels.astype(np.int32)\n",
        "\n",
        "        assert len(x) == len(y)\n",
        "\n",
        "        # Select on sleep periods\n",
        "        w_edge_mins = 30\n",
        "        nw_idx = np.where(y != stage_dict[\"W\"])[0]\n",
        "        start_idx = nw_idx[0] - (w_edge_mins * 2)\n",
        "        end_idx = nw_idx[-1] + (w_edge_mins * 2)\n",
        "        if start_idx < 0: start_idx = 0\n",
        "        if end_idx >= len(y): end_idx = len(y) - 1\n",
        "        select_idx = np.arange(start_idx, end_idx+1)\n",
        "        print((\"Data before selection: {}, {}\".format(x.shape, y.shape)))\n",
        "        x = x[select_idx]\n",
        "        y = y[select_idx]\n",
        "        print((\"Data after selection: {}, {}\".format(x.shape, y.shape)))\n",
        "\n",
        "        # Save\n",
        "        filename = ntpath.basename(psg_fnames[i]).replace(\"-PSG.edf\", \".npz\")\n",
        "        save_dict = {\n",
        "            \"x\": x, \n",
        "            \"y\": y, \n",
        "            \"fs\": sampling_rate,\n",
        "            \"ch_label\": select_ch,\n",
        "            \"header_raw\": h_raw,\n",
        "            \"header_annotation\": h_ann,\n",
        "        }\n",
        "        np.savez(os.path.join(args.output_dir, filename), **save_dict)\n",
        "\n",
        "        print(\"\\n=======================================\\n\")\n",
        "\n",
        "\n",
        "if __name__ == \"__main__\":\n",
        "    main()"
      ],
      "metadata": {
        "id": "jYGl-oxdDW8l",
        "colab": {
          "base_uri": "https://localhost:8080/",
          "height": 390
        },
        "outputId": "a2935746-5646-4f13-d03e-152cb6824d80"
      },
      "execution_count": null,
      "outputs": [
        {
          "output_type": "error",
          "ename": "ModuleNotFoundError",
          "evalue": "ignored",
          "traceback": [
            "\u001b[0;31m---------------------------------------------------------------------------\u001b[0m",
            "\u001b[0;31mModuleNotFoundError\u001b[0m                       Traceback (most recent call last)",
            "\u001b[0;32m<ipython-input-4-9a7b7ee54066>\u001b[0m in \u001b[0;36m<module>\u001b[0;34m()\u001b[0m\n\u001b[1;32m     15\u001b[0m \u001b[0;32mfrom\u001b[0m \u001b[0mmne\u001b[0m\u001b[0;34m.\u001b[0m\u001b[0mio\u001b[0m \u001b[0;32mimport\u001b[0m \u001b[0mconcatenate_raws\u001b[0m\u001b[0;34m,\u001b[0m \u001b[0mread_raw_edf\u001b[0m\u001b[0;34m\u001b[0m\u001b[0;34m\u001b[0m\u001b[0m\n\u001b[1;32m     16\u001b[0m \u001b[0;34m\u001b[0m\u001b[0m\n\u001b[0;32m---> 17\u001b[0;31m \u001b[0;32mimport\u001b[0m \u001b[0mdhedfreader\u001b[0m\u001b[0;34m\u001b[0m\u001b[0;34m\u001b[0m\u001b[0m\n\u001b[0m\u001b[1;32m     18\u001b[0m \u001b[0;34m\u001b[0m\u001b[0m\n\u001b[1;32m     19\u001b[0m \u001b[0;34m\u001b[0m\u001b[0m\n",
            "\u001b[0;31mModuleNotFoundError\u001b[0m: No module named 'dhedfreader'",
            "",
            "\u001b[0;31m---------------------------------------------------------------------------\u001b[0;32m\nNOTE: If your import is failing due to a missing package, you can\nmanually install dependencies using either !pip or !apt.\n\nTo view examples of installing some common dependencies, click the\n\"Open Examples\" button below.\n\u001b[0;31m---------------------------------------------------------------------------\u001b[0m\n"
          ],
          "errorDetails": {
            "actions": [
              {
                "action": "open_url",
                "actionText": "Open Examples",
                "url": "/notebooks/snippets/importing_libraries.ipynb"
              }
            ]
          }
        }
      ]
    },
    {
      "cell_type": "markdown",
      "source": [
        ""
      ],
      "metadata": {
        "id": "Q9WntAD9DnlK"
      }
    },
    {
      "cell_type": "markdown",
      "source": [
        "#Importing libraries and initializing variables"
      ],
      "metadata": {
        "id": "07v2YvQeDqub"
      }
    },
    {
      "cell_type": "code",
      "source": [
        "!pip install edfreader"
      ],
      "metadata": {
        "colab": {
          "base_uri": "https://localhost:8080/"
        },
        "outputId": "2e7ca238-dd73-4867-e0d1-0fa23cf53950",
        "id": "jfQEH9G7Dquc"
      },
      "execution_count": null,
      "outputs": [
        {
          "output_type": "stream",
          "name": "stdout",
          "text": [
            "\u001b[31mERROR: Could not find a version that satisfies the requirement edfreader (from versions: none)\u001b[0m\n",
            "\u001b[31mERROR: No matching distribution found for edfreader\u001b[0m\n"
          ]
        }
      ]
    },
    {
      "cell_type": "code",
      "execution_count": null,
      "metadata": {
        "colab": {
          "base_uri": "https://localhost:8080/",
          "height": 390
        },
        "outputId": "157e2a82-14ef-40ed-b7de-1350c4958174",
        "id": "gZJiU3yNDque"
      },
      "outputs": [
        {
          "output_type": "error",
          "ename": "ModuleNotFoundError",
          "evalue": "ignored",
          "traceback": [
            "\u001b[0;31m---------------------------------------------------------------------------\u001b[0m",
            "\u001b[0;31mModuleNotFoundError\u001b[0m                       Traceback (most recent call last)",
            "\u001b[0;32m<ipython-input-5-722b08068d55>\u001b[0m in \u001b[0;36m<module>\u001b[0;34m()\u001b[0m\n\u001b[1;32m     10\u001b[0m \u001b[0;32mimport\u001b[0m \u001b[0mmatplotlib\u001b[0m\u001b[0;34m.\u001b[0m\u001b[0mpyplot\u001b[0m \u001b[0;32mas\u001b[0m \u001b[0mplt\u001b[0m\u001b[0;34m\u001b[0m\u001b[0;34m\u001b[0m\u001b[0m\n\u001b[1;32m     11\u001b[0m \u001b[0;32mimport\u001b[0m \u001b[0mseaborn\u001b[0m \u001b[0;32mas\u001b[0m \u001b[0msns\u001b[0m\u001b[0;34m\u001b[0m\u001b[0;34m\u001b[0m\u001b[0m\n\u001b[0;32m---> 12\u001b[0;31m \u001b[0;32mimport\u001b[0m \u001b[0medfreader\u001b[0m\u001b[0;34m\u001b[0m\u001b[0;34m\u001b[0m\u001b[0m\n\u001b[0m\u001b[1;32m     13\u001b[0m \u001b[0;32mimport\u001b[0m \u001b[0mmodels\u001b[0m\u001b[0;34m\u001b[0m\u001b[0;34m\u001b[0m\u001b[0m\n\u001b[1;32m     14\u001b[0m \u001b[0;32mimport\u001b[0m \u001b[0mmne\u001b[0m\u001b[0;34m\u001b[0m\u001b[0;34m\u001b[0m\u001b[0m\n",
            "\u001b[0;31mModuleNotFoundError\u001b[0m: No module named 'edfreader'",
            "",
            "\u001b[0;31m---------------------------------------------------------------------------\u001b[0;32m\nNOTE: If your import is failing due to a missing package, you can\nmanually install dependencies using either !pip or !apt.\n\nTo view examples of installing some common dependencies, click the\n\"Open Examples\" button below.\n\u001b[0;31m---------------------------------------------------------------------------\u001b[0m\n"
          ],
          "errorDetails": {
            "actions": [
              {
                "action": "open_url",
                "actionText": "Open Examples",
                "url": "/notebooks/snippets/importing_libraries.ipynb"
              }
            ]
          }
        }
      ],
      "source": [
        "%matplotlib inline\n",
        "\n",
        "import glob\n",
        "import math\n",
        "import ntpath\n",
        "import random, os, sys\n",
        "import numpy as np\n",
        "import pandas as pd\n",
        "import tensorflow as tf\n",
        "import matplotlib.pyplot as plt\n",
        "import seaborn as sns\n",
        "import edfreader\n",
        "import models\n",
        "import mne\n",
        "import pyeeg\n",
        "import warnings\n",
        "warnings.filterwarnings('ignore')\n",
        "\n",
        "from matplotlib.backends.backend_pdf import PdfPages\n",
        "from mne.datasets.sleep_physionet._utils import _fetch_one, _data_path, AGE_SLEEP_RECORDS, _check_subjects\n",
        "from datetime import datetime\n",
        "from mne import Epochs, pick_types, find_events\n",
        "from mne.io import concatenate_raws, read_raw_edf\n",
        "from mne.time_frequency import psd_welch\n",
        "from sklearn.ensemble import RandomForestClassifier\n",
        "from sklearn.metrics import classification_report\n",
        "# from sklearn.pipeline import make_pipeline\n",
        "# from sklearn.preprocessing import FunctionTransformer\n",
        "from tqdm.notebook import tqdm\n",
        "from sklearn.model_selection import train_test_split\n",
        "from tensorflow import keras\n",
        "# from tensorflow.keras import optimizers, losses\n",
        "from tensorflow.keras.utils import to_categorical\n",
        "# from tensorflow.keras.models import Model, load_model\n",
        "# from tensorflow.keras.layers import Input, Conv1D, Dense, Dropout, MaxPool1D, Activation, SpatialDropout1D, GlobalMaxPool1D\n",
        "# from tensorflow.keras.layers import Reshape, LSTM, TimeDistributed, Bidirectional, BatchNormalization, Flatten, RepeatVector\n",
        "# from tensorflow.keras.layers import concatenate\n",
        "# from tensorflow.keras.callbacks import EarlyStopping\n",
        "from tensorflow.keras.callbacks import ModelCheckpoint, ReduceLROnPlateau, CSVLogger\n",
        "from imblearn.over_sampling import SMOTE\n",
        "from sklearn.svm import SVC\n",
        "from sklearn.externals import joblib\n",
        "# from sklearn.preprocessing import StandardScaler\n",
        "# from sklearn.multiclass import OneVsOneClassifier\n",
        "from sklearn.metrics import make_scorer, f1_score, accuracy_score, classification_report, log_loss\n",
        "from sklearn.metrics import roc_auc_score, confusion_matrix, roc_auc_score, roc_curve\n",
        "# from keras.wrappers.scikit_learn import KerasClassifier\n",
        "from sklearn.tree import DecisionTreeClassifier\n",
        "from sklearn.neighbors import KNeighborsClassifier\n",
        "from sklearn.ensemble import RandomForestClassifier, AdaBoostClassifier, GradientBoostingClassifier\n",
        "from sklearn.naive_bayes import GaussianNB\n",
        "from sklearn.discriminant_analysis import LinearDiscriminantAnalysis\n",
        "from sklearn.discriminant_analysis import QuadraticDiscriminantAnalysis\n",
        "from xgboost import XGBClassifier\n",
        "import xgboost\n",
        "\n",
        "VBS = True  # constant boolean to enable/disbale verbose\n",
        "EPOCH_SEC_SIZE = 30  # Epoch duration selection\n",
        "seed = 42  # seed value for the random seeds\n",
        "batch_size = 64\n",
        "number_of_subj = 50\n",
        "\n",
        "# values to label the stages\n",
        "UNKNOWN = -1\n",
        "W = 0\n",
        "N1 = 1\n",
        "N2 = 2\n",
        "N3 = 3\n",
        "REM = 4\n",
        "\n",
        "# making string dictionary for the label values\n",
        "label_dict = {\n",
        "    \"UNKNOWN\"  : UNKNOWN,\n",
        "    \"W\"        : W,\n",
        "    \"N1\"       : N1,\n",
        "    \"N2\"       : N2,\n",
        "    \"N3\"       : N3,\n",
        "    \"REM\"      : REM\n",
        "}\n",
        "\n",
        "# converting from label values to strings \n",
        "class_dict = {\n",
        "    -1: \"UNKNOWN\",\n",
        "    0 : \"W\",\n",
        "    1 : \"N1\",\n",
        "    2 : \"N2\",\n",
        "    3 : \"N3\",\n",
        "    4 : \"REM\"\n",
        "}\n",
        "\n",
        "# annotation dictionary to convert from string to label values\n",
        "annot2label = {\n",
        "    \"Sleep stage ?\": -1,\n",
        "    \"Movement time\": -1,\n",
        "    \"Sleep stage W\": 0,\n",
        "    \"Sleep stage 1\": 1,\n",
        "    \"Sleep stage 2\": 2,\n",
        "    \"Sleep stage 3\": 3,\n",
        "    \"Sleep stage 4\": 3,\n",
        "    \"Sleep stage R\": 4\n",
        "}\n",
        "project_path = os.path.abspath(os.getcwd())  # finding the current project path in windows"
      ]
    },
    {
      "cell_type": "code",
      "source": [
        "mol = np.array([1,2,3])\n",
        "print(mol)\n",
        "mol = mol[np.array([1,0,2])] \n",
        "print(mol)"
      ],
      "metadata": {
        "colab": {
          "base_uri": "https://localhost:8080/"
        },
        "id": "4BBVfrqpGnpk",
        "outputId": "824ec5a0-23de-4350-8ac4-809f98a85007"
      },
      "execution_count": 35,
      "outputs": [
        {
          "output_type": "stream",
          "name": "stdout",
          "text": [
            "[1 2 3]\n",
            "[2 1 3]\n"
          ]
        }
      ]
    },
    {
      "cell_type": "markdown",
      "source": [
        "Localizing fetch_data function to import all subjects\n"
      ],
      "metadata": {
        "id": "telHNoeRDque"
      }
    },
    {
      "cell_type": "code",
      "source": [
        "# localized fetch_data function by using mne library\n",
        "# https://github.com/mne-tools/mne-python/blob/maint/0.20/mne/datasets/sleep_physionet/age.py#L18-L111\n",
        "data_path = _data_path\n",
        "BASE_URL = 'https://physionet.org/physiobank/database/sleep-edfx/sleep-cassette/'\n",
        "def fetch_data(subjects, recording=[1, 2], path=None, force_update=False,\n",
        "               update_path=None, base_url=BASE_URL,\n",
        "               verbose=None):  # noqa: D301\n",
        "    records = np.loadtxt(AGE_SLEEP_RECORDS,\n",
        "                         skiprows=1,\n",
        "                         delimiter=',',\n",
        "                         usecols=(0, 1, 2, 6, 7),\n",
        "                         dtype={'names': ('subject', 'record', 'type', 'sha',\n",
        "                                          'fname'),\n",
        "                                'formats': ('<i2', 'i1', '<S9', 'S40', '<S22')}\n",
        "                         )\n",
        "    psg_records = records[np.where(records['type'] == b'PSG')]\n",
        "    hyp_records = records[np.where(records['type'] == b'Hypnogram')]\n",
        "\n",
        "    path = data_path(path=path, update_path=update_path)\n",
        "    params = [path, force_update, base_url]\n",
        "    fnames = []\n",
        "    for subject in subjects:\n",
        "        for idx in np.where(psg_records['subject'] == subject)[0]:\n",
        "            if psg_records['record'][idx] in recording:\n",
        "                psg_fname = _fetch_one(psg_records['fname'][idx].decode(),\n",
        "                                       psg_records['sha'][idx].decode(),\n",
        "                                       *params)\n",
        "                hyp_fname = _fetch_one(hyp_records['fname'][idx].decode(),\n",
        "                                       hyp_records['sha'][idx].decode(),\n",
        "                                       *params)\n",
        "                fnames.append([psg_fname, hyp_fname])\n",
        "\n",
        "    return fnames"
      ],
      "metadata": {
        "colab": {
          "base_uri": "https://localhost:8080/",
          "height": 244
        },
        "outputId": "a227c79e-2e23-49bb-c567-149879a03341",
        "id": "lLilJRdZDque"
      },
      "execution_count": null,
      "outputs": [
        {
          "output_type": "error",
          "ename": "NameError",
          "evalue": "ignored",
          "traceback": [
            "\u001b[0;31m---------------------------------------------------------------------------\u001b[0m",
            "\u001b[0;31mNameError\u001b[0m                                 Traceback (most recent call last)",
            "\u001b[0;32m<ipython-input-4-c12bf2cce2e5>\u001b[0m in \u001b[0;36m<module>\u001b[0;34m()\u001b[0m\n\u001b[1;32m      1\u001b[0m \u001b[0;31m# localized fetch_data function by using mne library\u001b[0m\u001b[0;34m\u001b[0m\u001b[0;34m\u001b[0m\u001b[0;34m\u001b[0m\u001b[0m\n\u001b[1;32m      2\u001b[0m \u001b[0;31m# https://github.com/mne-tools/mne-python/blob/maint/0.20/mne/datasets/sleep_physionet/age.py#L18-L111\u001b[0m\u001b[0;34m\u001b[0m\u001b[0;34m\u001b[0m\u001b[0;34m\u001b[0m\u001b[0m\n\u001b[0;32m----> 3\u001b[0;31m \u001b[0mdata_path\u001b[0m \u001b[0;34m=\u001b[0m \u001b[0m_data_path\u001b[0m\u001b[0;34m\u001b[0m\u001b[0;34m\u001b[0m\u001b[0m\n\u001b[0m\u001b[1;32m      4\u001b[0m \u001b[0mBASE_URL\u001b[0m \u001b[0;34m=\u001b[0m \u001b[0;34m'https://physionet.org/physiobank/database/sleep-edfx/sleep-cassette/'\u001b[0m\u001b[0;34m\u001b[0m\u001b[0;34m\u001b[0m\u001b[0m\n\u001b[1;32m      5\u001b[0m def fetch_data(subjects, recording=[1, 2], path=None, force_update=False,\n",
            "\u001b[0;31mNameError\u001b[0m: name '_data_path' is not defined"
          ]
        }
      ]
    },
    {
      "cell_type": "code",
      "source": [
        "path = '/content/drive/MyDrive/HMC/'\n",
        "\n",
        "#test_images = sorted(\n",
        "#    glob.glob(os.path.join(data_dir,)))\n",
        "#data_list = sorted(glob.glob(os.path.join(path,\"SN*\",\".edf\")))\n",
        "data_list = glob.glob(path+'/**')\n",
        "print(data_list)\n",
        "\n",
        "trains=[]\n",
        "labels=[]\n",
        "trains = [x for x in data_list if x.startswith('edf',33)]\n",
        "labels = [x for x in data_list if x.endswith('_sleepscoring.edf')]\n",
        "print(trains)\n",
        "print(\"#########\")\n",
        "print(labels)\n",
        "print(\"#########\")\n",
        "print(highlevel.read_edf(trains[0]))\n",
        "print(highlevel.read_edf(labels[0]))\n",
        "signals, _, signals_header = highlevel.read_edf(trains[0],ch_names='ECG')\n",
        "print(f'signals={signals}')\n",
        "print(len(signals[0]))"
      ],
      "metadata": {
        "colab": {
          "base_uri": "https://localhost:8080/"
        },
        "outputId": "009f0900-ec4b-4f9d-c0ce-b3038cfc4522",
        "id": "I5YWxw7ZDquf"
      },
      "execution_count": null,
      "outputs": [
        {
          "output_type": "stream",
          "name": "stdout",
          "text": [
            "['/content/drive/MyDrive/HMC/SN001_sleepscoring.edf', '/content/drive/MyDrive/HMC/SN001.edf']\n",
            "['/content/drive/MyDrive/HMC/SN001.edf']\n",
            "#########\n",
            "['/content/drive/MyDrive/HMC/SN001_sleepscoring.edf']\n",
            "#########\n",
            "(array([[ 1.71267262e+01,  1.82253758e+01,  1.75906004e+01, ...,\n",
            "        -1.22072175e-02, -1.22072175e-02, -1.22072175e-02],\n",
            "       [ 1.47585260e+01,  1.55642023e+01,  1.06324865e+01, ...,\n",
            "        -1.22072175e-02, -1.22072175e-02, -1.22072175e-02],\n",
            "       [ 3.83428702e+01,  3.71221485e+01,  2.41092546e+01, ...,\n",
            "        -1.22072175e-02, -1.22072175e-02, -1.22072175e-02],\n",
            "       ...,\n",
            "       [ 3.74761578e+00,  1.09987030e+01,  2.16433967e+01, ...,\n",
            "        -1.22072175e-02, -1.22072175e-02, -1.22072175e-02],\n",
            "       [-9.28969253e+00, -1.09010452e+01, -9.50942245e+00, ...,\n",
            "        -1.22072175e-02, -1.22072175e-02, -1.22072175e-02],\n",
            "       [ 7.37193866e+01,  7.09361410e+01,  6.93980316e+01, ...,\n",
            "        -3.66216526e-02, -3.66216526e-02, -3.66216526e-02]]), [{'label': 'EEG F4-M1', 'dimension': 'uV', 'sample_rate': 256.0, 'sample_frequency': 256.0, 'physical_max': 800.0, 'physical_min': -800.0, 'digital_max': 32767, 'digital_min': -32768, 'prefilter': 'HP:0.2Hz LP:35.0Hz', 'transducer': 'AgAgCl electrodes'}, {'label': 'EEG C4-M1', 'dimension': 'uV', 'sample_rate': 256.0, 'sample_frequency': 256.0, 'physical_max': 800.0, 'physical_min': -800.0, 'digital_max': 32767, 'digital_min': -32768, 'prefilter': 'HP:0.2Hz LP:35.0Hz', 'transducer': 'AgAgCl electrodes'}, {'label': 'EEG O2-M1', 'dimension': 'uV', 'sample_rate': 256.0, 'sample_frequency': 256.0, 'physical_max': 800.0, 'physical_min': -800.0, 'digital_max': 32767, 'digital_min': -32768, 'prefilter': 'HP:0.2Hz LP:35.0Hz', 'transducer': 'AgAgCl electrodes'}, {'label': 'EEG C3-M2', 'dimension': 'uV', 'sample_rate': 256.0, 'sample_frequency': 256.0, 'physical_max': 800.0, 'physical_min': -800.0, 'digital_max': 32767, 'digital_min': -32768, 'prefilter': 'HP:0.2Hz LP:35.0Hz', 'transducer': 'AgAgCl electrodes'}, {'label': 'EMG chin', 'dimension': 'uV', 'sample_rate': 256.0, 'sample_frequency': 256.0, 'physical_max': 800.0, 'physical_min': -800.0, 'digital_max': 32767, 'digital_min': -32768, 'prefilter': 'HP:1.0Hz LP:150.0Hz', 'transducer': 'AgAgCl electrodes'}, {'label': 'EOG E1-M2', 'dimension': 'uV', 'sample_rate': 256.0, 'sample_frequency': 256.0, 'physical_max': 800.0, 'physical_min': -800.0, 'digital_max': 32767, 'digital_min': -32768, 'prefilter': 'HP:0.2Hz LP:35.0Hz', 'transducer': 'AgAgCl electrodes'}, {'label': 'EOG E2-M2', 'dimension': 'uV', 'sample_rate': 256.0, 'sample_frequency': 256.0, 'physical_max': 800.0, 'physical_min': -800.0, 'digital_max': 32767, 'digital_min': -32768, 'prefilter': 'HP:0.2Hz LP:35.0Hz', 'transducer': 'AgAgCl electrodes'}, {'label': 'ECG', 'dimension': 'uV', 'sample_rate': 256.0, 'sample_frequency': 256.0, 'physical_max': 2400.0, 'physical_min': -2400.0, 'digital_max': 32767, 'digital_min': -32768, 'prefilter': 'HP:1.0Hz LP:150.0Hz', 'transducer': 'AgAgCl electrodes'}], {'technician': '', 'recording_additional': '', 'patientname': '', 'patient_additional': '', 'patientcode': '', 'equipment': '', 'admincode': '', 'gender': '', 'startdate': datetime.datetime(2001, 1, 1, 23, 59, 30), 'birthdate': '', 'annotations': []})\n",
            "(array([], dtype=float64), [], {'technician': '', 'recording_additional': '', 'patientname': 'X', 'patient_additional': '', 'patientcode': 'SN001', 'equipment': '', 'admincode': '', 'gender': '', 'startdate': datetime.datetime(2001, 1, 1, 23, 59, 30), 'birthdate': '', 'annotations': [[0.0, 30.0, 'Sleep stage W'], [30.0, 30.0, 'Sleep stage W'], [33.43, 0.0, 'Lights off@@EEG F4-A1'], [60.0, 30.0, 'Sleep stage W'], [90.0, 30.0, 'Sleep stage W'], [120.0, 30.0, 'Sleep stage W'], [150.0, 30.0, 'Sleep stage W'], [180.0, 30.0, 'Sleep stage W'], [210.0, 30.0, 'Sleep stage W'], [240.0, 30.0, 'Sleep stage N1'], [270.0, 30.0, 'Sleep stage N1'], [300.0, 30.0, 'Sleep stage N1'], [330.0, 30.0, 'Sleep stage N1'], [360.0, 30.0, 'Sleep stage N1'], [390.0, 30.0, 'Sleep stage N1'], [420.0, 30.0, 'Sleep stage N1'], [450.0, 30.0, 'Sleep stage N1'], [480.0, 30.0, 'Sleep stage N2'], [510.0, 30.0, 'Sleep stage N1'], [540.0, 30.0, 'Sleep stage N2'], [570.0, 30.0, 'Sleep stage N2'], [600.0, 30.0, 'Sleep stage N2'], [630.0, 30.0, 'Sleep stage N2'], [660.0, 30.0, 'Sleep stage N2'], [690.0, 30.0, 'Sleep stage N2'], [720.0, 30.0, 'Sleep stage N1'], [750.0, 30.0, 'Sleep stage N1'], [780.0, 30.0, 'Sleep stage W'], [810.0, 30.0, 'Sleep stage N1'], [840.0, 30.0, 'Sleep stage N1'], [870.0, 30.0, 'Sleep stage N1'], [900.0, 30.0, 'Sleep stage N1'], [930.0, 30.0, 'Sleep stage N1'], [960.0, 30.0, 'Sleep stage N1'], [990.0, 30.0, 'Sleep stage N2'], [1020.0, 30.0, 'Sleep stage N1'], [1050.0, 30.0, 'Sleep stage W'], [1080.0, 30.0, 'Sleep stage W'], [1110.0, 30.0, 'Sleep stage W'], [1140.0, 30.0, 'Sleep stage W'], [1170.0, 30.0, 'Sleep stage N1'], [1200.0, 30.0, 'Sleep stage N1'], [1230.0, 30.0, 'Sleep stage N1'], [1260.0, 30.0, 'Sleep stage N1'], [1290.0, 30.0, 'Sleep stage N1'], [1320.0, 30.0, 'Sleep stage N1'], [1350.0, 30.0, 'Sleep stage N1'], [1380.0, 30.0, 'Sleep stage N1'], [1410.0, 30.0, 'Sleep stage N1'], [1440.0, 30.0, 'Sleep stage N1'], [1470.0, 30.0, 'Sleep stage N1'], [1500.0, 30.0, 'Sleep stage N1'], [1530.0, 30.0, 'Sleep stage N2'], [1560.0, 30.0, 'Sleep stage N2'], [1590.0, 30.0, 'Sleep stage N2'], [1620.0, 30.0, 'Sleep stage N2'], [1650.0, 30.0, 'Sleep stage N2'], [1680.0, 30.0, 'Sleep stage N2'], [1710.0, 30.0, 'Sleep stage N2'], [1740.0, 30.0, 'Sleep stage N2'], [1770.0, 30.0, 'Sleep stage N2'], [1800.0, 30.0, 'Sleep stage N2'], [1830.0, 30.0, 'Sleep stage N2'], [1860.0, 30.0, 'Sleep stage N2'], [1890.0, 30.0, 'Sleep stage N2'], [1920.0, 30.0, 'Sleep stage N2'], [1950.0, 30.0, 'Sleep stage N2'], [1980.0, 30.0, 'Sleep stage N2'], [2010.0, 30.0, 'Sleep stage N2'], [2040.0, 30.0, 'Sleep stage N2'], [2070.0, 30.0, 'Sleep stage N2'], [2100.0, 30.0, 'Sleep stage N2'], [2130.0, 30.0, 'Sleep stage N2'], [2160.0, 30.0, 'Sleep stage N2'], [2190.0, 30.0, 'Sleep stage N2'], [2220.0, 30.0, 'Sleep stage N2'], [2250.0, 30.0, 'Sleep stage N2'], [2280.0, 30.0, 'Sleep stage N2'], [2310.0, 30.0, 'Sleep stage N2'], [2340.0, 30.0, 'Sleep stage N2'], [2370.0, 30.0, 'Sleep stage N2'], [2400.0, 30.0, 'Sleep stage N2'], [2430.0, 30.0, 'Sleep stage N2'], [2460.0, 30.0, 'Sleep stage N1'], [2490.0, 30.0, 'Sleep stage N2'], [2520.0, 30.0, 'Sleep stage N2'], [2550.0, 30.0, 'Sleep stage N2'], [2580.0, 30.0, 'Sleep stage N2'], [2610.0, 30.0, 'Sleep stage N2'], [2640.0, 30.0, 'Sleep stage N2'], [2670.0, 30.0, 'Sleep stage N2'], [2700.0, 30.0, 'Sleep stage N2'], [2730.0, 30.0, 'Sleep stage N2'], [2760.0, 30.0, 'Sleep stage N2'], [2790.0, 30.0, 'Sleep stage N2'], [2820.0, 30.0, 'Sleep stage N2'], [2850.0, 30.0, 'Sleep stage N2'], [2880.0, 30.0, 'Sleep stage N2'], [2910.0, 30.0, 'Sleep stage N2'], [2940.0, 30.0, 'Sleep stage N2'], [2970.0, 30.0, 'Sleep stage N2'], [3000.0, 30.0, 'Sleep stage N2'], [3030.0, 30.0, 'Sleep stage N2'], [3060.0, 30.0, 'Sleep stage N2'], [3090.0, 30.0, 'Sleep stage N2'], [3120.0, 30.0, 'Sleep stage N2'], [3150.0, 30.0, 'Sleep stage N3'], [3180.0, 30.0, 'Sleep stage N3'], [3210.0, 30.0, 'Sleep stage N2'], [3240.0, 30.0, 'Sleep stage N3'], [3270.0, 30.0, 'Sleep stage N3'], [3300.0, 30.0, 'Sleep stage N2'], [3330.0, 30.0, 'Sleep stage N3'], [3360.0, 30.0, 'Sleep stage N3'], [3390.0, 30.0, 'Sleep stage N3'], [3420.0, 30.0, 'Sleep stage N3'], [3450.0, 30.0, 'Sleep stage N3'], [3480.0, 30.0, 'Sleep stage N3'], [3510.0, 30.0, 'Sleep stage N2'], [3540.0, 30.0, 'Sleep stage N3'], [3570.0, 30.0, 'Sleep stage N3'], [3600.0, 30.0, 'Sleep stage N2'], [3630.0, 30.0, 'Sleep stage N3'], [3660.0, 30.0, 'Sleep stage N2'], [3690.0, 30.0, 'Sleep stage N2'], [3720.0, 30.0, 'Sleep stage N2'], [3750.0, 30.0, 'Sleep stage N2'], [3780.0, 30.0, 'Sleep stage N2'], [3810.0, 30.0, 'Sleep stage N2'], [3840.0, 30.0, 'Sleep stage N2'], [3870.0, 30.0, 'Sleep stage N2'], [3900.0, 30.0, 'Sleep stage N2'], [3930.0, 30.0, 'Sleep stage N2'], [3960.0, 30.0, 'Sleep stage N2'], [3990.0, 30.0, 'Sleep stage N2'], [4020.0, 30.0, 'Sleep stage N2'], [4050.0, 30.0, 'Sleep stage N2'], [4080.0, 30.0, 'Sleep stage N2'], [4110.0, 30.0, 'Sleep stage N2'], [4140.0, 30.0, 'Sleep stage N2'], [4170.0, 30.0, 'Sleep stage N2'], [4200.0, 30.0, 'Sleep stage N1'], [4230.0, 30.0, 'Sleep stage N2'], [4260.0, 30.0, 'Sleep stage N2'], [4290.0, 30.0, 'Sleep stage N2'], [4320.0, 30.0, 'Sleep stage N2'], [4350.0, 30.0, 'Sleep stage N2'], [4380.0, 30.0, 'Sleep stage N2'], [4410.0, 30.0, 'Sleep stage N2'], [4440.0, 30.0, 'Sleep stage N1'], [4470.0, 30.0, 'Sleep stage N2'], [4500.0, 30.0, 'Sleep stage N2'], [4530.0, 30.0, 'Sleep stage N2'], [4560.0, 30.0, 'Sleep stage N2'], [4590.0, 30.0, 'Sleep stage N1'], [4620.0, 30.0, 'Sleep stage N2'], [4650.0, 30.0, 'Sleep stage R'], [4680.0, 30.0, 'Sleep stage R'], [4710.0, 30.0, 'Sleep stage R'], [4740.0, 30.0, 'Sleep stage R'], [4770.0, 30.0, 'Sleep stage R'], [4800.0, 30.0, 'Sleep stage R'], [4830.0, 30.0, 'Sleep stage R'], [4860.0, 30.0, 'Sleep stage R'], [4890.0, 30.0, 'Sleep stage R'], [4920.0, 30.0, 'Sleep stage R'], [4950.0, 30.0, 'Sleep stage R'], [4980.0, 30.0, 'Sleep stage R'], [5010.0, 30.0, 'Sleep stage R'], [5040.0, 30.0, 'Sleep stage R'], [5070.0, 30.0, 'Sleep stage R'], [5100.0, 30.0, 'Sleep stage R'], [5130.0, 30.0, 'Sleep stage R'], [5160.0, 30.0, 'Sleep stage R'], [5190.0, 30.0, 'Sleep stage N1'], [5220.0, 30.0, 'Sleep stage R'], [5250.0, 30.0, 'Sleep stage R'], [5280.0, 30.0, 'Sleep stage R'], [5310.0, 30.0, 'Sleep stage R'], [5340.0, 30.0, 'Sleep stage R'], [5370.0, 30.0, 'Sleep stage R'], [5400.0, 30.0, 'Sleep stage W'], [5430.0, 30.0, 'Sleep stage W'], [5460.0, 30.0, 'Sleep stage W'], [5490.0, 30.0, 'Sleep stage W'], [5520.0, 30.0, 'Sleep stage W'], [5550.0, 30.0, 'Sleep stage W'], [5580.0, 30.0, 'Sleep stage W'], [5610.0, 30.0, 'Sleep stage W'], [5640.0, 30.0, 'Sleep stage W'], [5670.0, 30.0, 'Sleep stage W'], [5700.0, 30.0, 'Sleep stage W'], [5730.0, 30.0, 'Sleep stage W'], [5760.0, 30.0, 'Sleep stage N1'], [5790.0, 30.0, 'Sleep stage N1'], [5820.0, 30.0, 'Sleep stage N1'], [5850.0, 30.0, 'Sleep stage N1'], [5880.0, 30.0, 'Sleep stage N1'], [5910.0, 30.0, 'Sleep stage N1'], [5940.0, 30.0, 'Sleep stage N2'], [5970.0, 30.0, 'Sleep stage N2'], [6000.0, 30.0, 'Sleep stage N2'], [6030.0, 30.0, 'Sleep stage N2'], [6060.0, 30.0, 'Sleep stage N1'], [6090.0, 30.0, 'Sleep stage N1'], [6120.0, 30.0, 'Sleep stage N2'], [6150.0, 30.0, 'Sleep stage N2'], [6180.0, 30.0, 'Sleep stage N2'], [6210.0, 30.0, 'Sleep stage N2'], [6240.0, 30.0, 'Sleep stage N2'], [6270.0, 30.0, 'Sleep stage N2'], [6300.0, 30.0, 'Sleep stage N2'], [6330.0, 30.0, 'Sleep stage N2'], [6360.0, 30.0, 'Sleep stage N2'], [6390.0, 30.0, 'Sleep stage N2'], [6420.0, 30.0, 'Sleep stage N2'], [6450.0, 30.0, 'Sleep stage N2'], [6480.0, 30.0, 'Sleep stage N2'], [6510.0, 30.0, 'Sleep stage N2'], [6540.0, 30.0, 'Sleep stage N2'], [6570.0, 30.0, 'Sleep stage N2'], [6600.0, 30.0, 'Sleep stage N2'], [6630.0, 30.0, 'Sleep stage N2'], [6660.0, 30.0, 'Sleep stage N2'], [6690.0, 30.0, 'Sleep stage N2'], [6720.0, 30.0, 'Sleep stage N2'], [6750.0, 30.0, 'Sleep stage N2'], [6780.0, 30.0, 'Sleep stage N2'], [6810.0, 30.0, 'Sleep stage N2'], [6840.0, 30.0, 'Sleep stage N2'], [6870.0, 30.0, 'Sleep stage N2'], [6900.0, 30.0, 'Sleep stage N2'], [6930.0, 30.0, 'Sleep stage N2'], [6960.0, 30.0, 'Sleep stage N2'], [6990.0, 30.0, 'Sleep stage N2'], [7020.0, 30.0, 'Sleep stage N2'], [7050.0, 30.0, 'Sleep stage N2'], [7080.0, 30.0, 'Sleep stage N2'], [7110.0, 30.0, 'Sleep stage N2'], [7140.0, 30.0, 'Sleep stage N2'], [7170.0, 30.0, 'Sleep stage N2'], [7200.0, 30.0, 'Sleep stage N1'], [7230.0, 30.0, 'Sleep stage N1'], [7260.0, 30.0, 'Sleep stage N1'], [7290.0, 30.0, 'Sleep stage N1'], [7320.0, 30.0, 'Sleep stage N1'], [7350.0, 30.0, 'Sleep stage N1'], [7380.0, 30.0, 'Sleep stage N1'], [7410.0, 30.0, 'Sleep stage W'], [7440.0, 30.0, 'Sleep stage N1'], [7470.0, 30.0, 'Sleep stage N1'], [7500.0, 30.0, 'Sleep stage N1'], [7530.0, 30.0, 'Sleep stage N1'], [7560.0, 30.0, 'Sleep stage N1'], [7590.0, 30.0, 'Sleep stage N2'], [7620.0, 30.0, 'Sleep stage N2'], [7650.0, 30.0, 'Sleep stage N2'], [7680.0, 30.0, 'Sleep stage N2'], [7710.0, 30.0, 'Sleep stage N2'], [7740.0, 30.0, 'Sleep stage N2'], [7770.0, 30.0, 'Sleep stage N2'], [7800.0, 30.0, 'Sleep stage N2'], [7830.0, 30.0, 'Sleep stage N2'], [7860.0, 30.0, 'Sleep stage N2'], [7890.0, 30.0, 'Sleep stage N2'], [7920.0, 30.0, 'Sleep stage N2'], [7950.0, 30.0, 'Sleep stage N2'], [7980.0, 30.0, 'Sleep stage N2'], [8010.0, 30.0, 'Sleep stage N2'], [8040.0, 30.0, 'Sleep stage N2'], [8070.0, 30.0, 'Sleep stage N2'], [8100.0, 30.0, 'Sleep stage N2'], [8130.0, 30.0, 'Sleep stage N2'], [8160.0, 30.0, 'Sleep stage N2'], [8190.0, 30.0, 'Sleep stage N2'], [8220.0, 30.0, 'Sleep stage N2'], [8250.0, 30.0, 'Sleep stage N2'], [8280.0, 30.0, 'Sleep stage N2'], [8310.0, 30.0, 'Sleep stage N1'], [8340.0, 30.0, 'Sleep stage N2'], [8370.0, 30.0, 'Sleep stage N2'], [8400.0, 30.0, 'Sleep stage N2'], [8430.0, 30.0, 'Sleep stage N2'], [8460.0, 30.0, 'Sleep stage N2'], [8490.0, 30.0, 'Sleep stage N2'], [8520.0, 30.0, 'Sleep stage N2'], [8550.0, 30.0, 'Sleep stage N2'], [8580.0, 30.0, 'Sleep stage N2'], [8610.0, 30.0, 'Sleep stage N2'], [8640.0, 30.0, 'Sleep stage N1'], [8670.0, 30.0, 'Sleep stage N2'], [8700.0, 30.0, 'Sleep stage N2'], [8730.0, 30.0, 'Sleep stage N2'], [8760.0, 30.0, 'Sleep stage N2'], [8790.0, 30.0, 'Sleep stage N2'], [8820.0, 30.0, 'Sleep stage N2'], [8850.0, 30.0, 'Sleep stage N2'], [8880.0, 30.0, 'Sleep stage N2'], [8910.0, 30.0, 'Sleep stage N2'], [8940.0, 30.0, 'Sleep stage N2'], [8970.0, 30.0, 'Sleep stage N2'], [9000.0, 30.0, 'Sleep stage N1'], [9030.0, 30.0, 'Sleep stage N2'], [9060.0, 30.0, 'Sleep stage N2'], [9090.0, 30.0, 'Sleep stage N2'], [9120.0, 30.0, 'Sleep stage N2'], [9150.0, 30.0, 'Sleep stage N2'], [9180.0, 30.0, 'Sleep stage N2'], [9210.0, 30.0, 'Sleep stage N2'], [9240.0, 30.0, 'Sleep stage N2'], [9270.0, 30.0, 'Sleep stage N2'], [9300.0, 30.0, 'Sleep stage N2'], [9330.0, 30.0, 'Sleep stage N2'], [9360.0, 30.0, 'Sleep stage N2'], [9390.0, 30.0, 'Sleep stage R'], [9420.0, 30.0, 'Sleep stage N2'], [9450.0, 30.0, 'Sleep stage R'], [9480.0, 30.0, 'Sleep stage N1'], [9510.0, 30.0, 'Sleep stage W'], [9540.0, 30.0, 'Sleep stage W'], [9570.0, 30.0, 'Sleep stage W'], [9600.0, 30.0, 'Sleep stage W'], [9630.0, 30.0, 'Sleep stage W'], [9660.0, 30.0, 'Sleep stage W'], [9690.0, 30.0, 'Sleep stage W'], [9720.0, 30.0, 'Sleep stage W'], [9750.0, 30.0, 'Sleep stage W'], [9780.0, 30.0, 'Sleep stage W'], [9810.0, 30.0, 'Sleep stage W'], [9840.0, 30.0, 'Sleep stage W'], [9870.0, 30.0, 'Sleep stage W'], [9900.0, 30.0, 'Sleep stage W'], [9930.0, 30.0, 'Sleep stage W'], [9960.0, 30.0, 'Sleep stage W'], [9990.0, 30.0, 'Sleep stage W'], [10020.0, 30.0, 'Sleep stage W'], [10050.0, 30.0, 'Sleep stage W'], [10080.0, 30.0, 'Sleep stage W'], [10110.0, 30.0, 'Sleep stage W'], [10140.0, 30.0, 'Sleep stage W'], [10170.0, 30.0, 'Sleep stage W'], [10200.0, 30.0, 'Sleep stage W'], [10230.0, 30.0, 'Sleep stage W'], [10260.0, 30.0, 'Sleep stage W'], [10290.0, 30.0, 'Sleep stage W'], [10320.0, 30.0, 'Sleep stage W'], [10350.0, 30.0, 'Sleep stage W'], [10380.0, 30.0, 'Sleep stage W'], [10410.0, 30.0, 'Sleep stage W'], [10440.0, 30.0, 'Sleep stage W'], [10470.0, 30.0, 'Sleep stage W'], [10500.0, 30.0, 'Sleep stage W'], [10530.0, 30.0, 'Sleep stage W'], [10560.0, 30.0, 'Sleep stage W'], [10590.0, 30.0, 'Sleep stage W'], [10620.0, 30.0, 'Sleep stage W'], [10650.0, 30.0, 'Sleep stage W'], [10680.0, 30.0, 'Sleep stage W'], [10710.0, 30.0, 'Sleep stage W'], [10740.0, 30.0, 'Sleep stage W'], [10770.0, 30.0, 'Sleep stage W'], [10800.0, 30.0, 'Sleep stage W'], [10830.0, 30.0, 'Sleep stage W'], [10860.0, 30.0, 'Sleep stage W'], [10890.0, 30.0, 'Sleep stage W'], [10920.0, 30.0, 'Sleep stage W'], [10950.0, 30.0, 'Sleep stage W'], [10980.0, 30.0, 'Sleep stage W'], [11010.0, 30.0, 'Sleep stage W'], [11040.0, 30.0, 'Sleep stage W'], [11070.0, 30.0, 'Sleep stage W'], [11100.0, 30.0, 'Sleep stage W'], [11130.0, 30.0, 'Sleep stage W'], [11160.0, 30.0, 'Sleep stage W'], [11190.0, 30.0, 'Sleep stage W'], [11220.0, 30.0, 'Sleep stage W'], [11250.0, 30.0, 'Sleep stage W'], [11280.0, 30.0, 'Sleep stage W'], [11310.0, 30.0, 'Sleep stage W'], [11340.0, 30.0, 'Sleep stage W'], [11370.0, 30.0, 'Sleep stage W'], [11400.0, 30.0, 'Sleep stage W'], [11430.0, 30.0, 'Sleep stage W'], [11460.0, 30.0, 'Sleep stage W'], [11490.0, 30.0, 'Sleep stage W'], [11520.0, 30.0, 'Sleep stage W'], [11550.0, 30.0, 'Sleep stage W'], [11580.0, 30.0, 'Sleep stage W'], [11610.0, 30.0, 'Sleep stage W'], [11640.0, 30.0, 'Sleep stage W'], [11670.0, 30.0, 'Sleep stage W'], [11700.0, 30.0, 'Sleep stage W'], [11730.0, 30.0, 'Sleep stage W'], [11760.0, 30.0, 'Sleep stage W'], [11790.0, 30.0, 'Sleep stage W'], [11820.0, 30.0, 'Sleep stage W'], [11850.0, 30.0, 'Sleep stage W'], [11880.0, 30.0, 'Sleep stage W'], [11910.0, 30.0, 'Sleep stage W'], [11940.0, 30.0, 'Sleep stage W'], [11970.0, 30.0, 'Sleep stage W'], [12000.0, 30.0, 'Sleep stage W'], [12030.0, 30.0, 'Sleep stage N1'], [12060.0, 30.0, 'Sleep stage W'], [12090.0, 30.0, 'Sleep stage N1'], [12120.0, 30.0, 'Sleep stage W'], [12150.0, 30.0, 'Sleep stage W'], [12180.0, 30.0, 'Sleep stage N1'], [12210.0, 30.0, 'Sleep stage N1'], [12240.0, 30.0, 'Sleep stage N1'], [12270.0, 30.0, 'Sleep stage N1'], [12300.0, 30.0, 'Sleep stage N1'], [12330.0, 30.0, 'Sleep stage N1'], [12360.0, 30.0, 'Sleep stage N1'], [12390.0, 30.0, 'Sleep stage N1'], [12420.0, 30.0, 'Sleep stage N2'], [12450.0, 30.0, 'Sleep stage N2'], [12480.0, 30.0, 'Sleep stage N2'], [12510.0, 30.0, 'Sleep stage N2'], [12540.0, 30.0, 'Sleep stage N2'], [12570.0, 30.0, 'Sleep stage N2'], [12600.0, 30.0, 'Sleep stage N2'], [12630.0, 30.0, 'Sleep stage N2'], [12660.0, 30.0, 'Sleep stage N2'], [12690.0, 30.0, 'Sleep stage N2'], [12720.0, 30.0, 'Sleep stage N2'], [12750.0, 30.0, 'Sleep stage N2'], [12780.0, 30.0, 'Sleep stage N2'], [12810.0, 30.0, 'Sleep stage N2'], [12840.0, 30.0, 'Sleep stage N1'], [12870.0, 30.0, 'Sleep stage N2'], [12900.0, 30.0, 'Sleep stage N2'], [12930.0, 30.0, 'Sleep stage N2'], [12960.0, 30.0, 'Sleep stage N2'], [12990.0, 30.0, 'Sleep stage N2'], [13020.0, 30.0, 'Sleep stage N2'], [13050.0, 30.0, 'Sleep stage N2'], [13080.0, 30.0, 'Sleep stage N2'], [13110.0, 30.0, 'Sleep stage N2'], [13140.0, 30.0, 'Sleep stage N2'], [13170.0, 30.0, 'Sleep stage N2'], [13200.0, 30.0, 'Sleep stage N2'], [13230.0, 30.0, 'Sleep stage N1'], [13260.0, 30.0, 'Sleep stage N2'], [13290.0, 30.0, 'Sleep stage N2'], [13320.0, 30.0, 'Sleep stage N2'], [13350.0, 30.0, 'Sleep stage N2'], [13380.0, 30.0, 'Sleep stage N2'], [13410.0, 30.0, 'Sleep stage N2'], [13440.0, 30.0, 'Sleep stage N2'], [13470.0, 30.0, 'Sleep stage N2'], [13500.0, 30.0, 'Sleep stage N2'], [13530.0, 30.0, 'Sleep stage N2'], [13560.0, 30.0, 'Sleep stage N2'], [13590.0, 30.0, 'Sleep stage N2'], [13620.0, 30.0, 'Sleep stage N2'], [13650.0, 30.0, 'Sleep stage N2'], [13680.0, 30.0, 'Sleep stage N2'], [13710.0, 30.0, 'Sleep stage N2'], [13740.0, 30.0, 'Sleep stage N2'], [13770.0, 30.0, 'Sleep stage N2'], [13800.0, 30.0, 'Sleep stage N2'], [13830.0, 30.0, 'Sleep stage N2'], [13860.0, 30.0, 'Sleep stage N2'], [13890.0, 30.0, 'Sleep stage N2'], [13920.0, 30.0, 'Sleep stage N2'], [13950.0, 30.0, 'Sleep stage N3'], [13980.0, 30.0, 'Sleep stage N3'], [14010.0, 30.0, 'Sleep stage N3'], [14040.0, 30.0, 'Sleep stage N3'], [14070.0, 30.0, 'Sleep stage N3'], [14100.0, 30.0, 'Sleep stage N2'], [14130.0, 30.0, 'Sleep stage N2'], [14160.0, 30.0, 'Sleep stage N2'], [14190.0, 30.0, 'Sleep stage N2'], [14220.0, 30.0, 'Sleep stage N2'], [14250.0, 30.0, 'Sleep stage N2'], [14280.0, 30.0, 'Sleep stage N2'], [14310.0, 30.0, 'Sleep stage N1'], [14340.0, 30.0, 'Sleep stage N2'], [14370.0, 30.0, 'Sleep stage N2'], [14400.0, 30.0, 'Sleep stage N2'], [14430.0, 30.0, 'Sleep stage N2'], [14460.0, 30.0, 'Sleep stage N2'], [14490.0, 30.0, 'Sleep stage N2'], [14520.0, 30.0, 'Sleep stage N2'], [14550.0, 30.0, 'Sleep stage N2'], [14580.0, 30.0, 'Sleep stage N2'], [14610.0, 30.0, 'Sleep stage N2'], [14640.0, 30.0, 'Sleep stage N2'], [14670.0, 30.0, 'Sleep stage N2'], [14700.0, 30.0, 'Sleep stage N2'], [14730.0, 30.0, 'Sleep stage N2'], [14760.0, 30.0, 'Sleep stage N2'], [14790.0, 30.0, 'Sleep stage N2'], [14820.0, 30.0, 'Sleep stage N2'], [14850.0, 30.0, 'Sleep stage N2'], [14880.0, 30.0, 'Sleep stage N2'], [14910.0, 30.0, 'Sleep stage N2'], [14940.0, 30.0, 'Sleep stage N2'], [14970.0, 30.0, 'Sleep stage N2'], [15000.0, 30.0, 'Sleep stage N2'], [15030.0, 30.0, 'Sleep stage N2'], [15060.0, 30.0, 'Sleep stage N2'], [15090.0, 30.0, 'Sleep stage N2'], [15120.0, 30.0, 'Sleep stage N2'], [15150.0, 30.0, 'Sleep stage N1'], [15180.0, 30.0, 'Sleep stage N2'], [15210.0, 30.0, 'Sleep stage N2'], [15240.0, 30.0, 'Sleep stage N2'], [15270.0, 30.0, 'Sleep stage N2'], [15300.0, 30.0, 'Sleep stage N2'], [15330.0, 30.0, 'Sleep stage N2'], [15360.0, 30.0, 'Sleep stage N2'], [15390.0, 30.0, 'Sleep stage N2'], [15420.0, 30.0, 'Sleep stage N2'], [15450.0, 30.0, 'Sleep stage N2'], [15480.0, 30.0, 'Sleep stage N2'], [15510.0, 30.0, 'Sleep stage N2'], [15540.0, 30.0, 'Sleep stage R'], [15570.0, 30.0, 'Sleep stage R'], [15600.0, 30.0, 'Sleep stage R'], [15630.0, 30.0, 'Sleep stage R'], [15660.0, 30.0, 'Sleep stage R'], [15690.0, 30.0, 'Sleep stage R'], [15720.0, 30.0, 'Sleep stage R'], [15750.0, 30.0, 'Sleep stage R'], [15780.0, 30.0, 'Sleep stage R'], [15810.0, 30.0, 'Sleep stage R'], [15840.0, 30.0, 'Sleep stage R'], [15870.0, 30.0, 'Sleep stage R'], [15900.0, 30.0, 'Sleep stage R'], [15930.0, 30.0, 'Sleep stage R'], [15960.0, 30.0, 'Sleep stage R'], [15990.0, 30.0, 'Sleep stage R'], [16020.0, 30.0, 'Sleep stage R'], [16050.0, 30.0, 'Sleep stage R'], [16080.0, 30.0, 'Sleep stage R'], [16110.0, 30.0, 'Sleep stage R'], [16140.0, 30.0, 'Sleep stage R'], [16170.0, 30.0, 'Sleep stage R'], [16200.0, 30.0, 'Sleep stage R'], [16230.0, 30.0, 'Sleep stage R'], [16260.0, 30.0, 'Sleep stage R'], [16290.0, 30.0, 'Sleep stage R'], [16320.0, 30.0, 'Sleep stage R'], [16350.0, 30.0, 'Sleep stage R'], [16380.0, 30.0, 'Sleep stage N1'], [16410.0, 30.0, 'Sleep stage R'], [16440.0, 30.0, 'Sleep stage R'], [16470.0, 30.0, 'Sleep stage R'], [16500.0, 30.0, 'Sleep stage R'], [16530.0, 30.0, 'Sleep stage R'], [16560.0, 30.0, 'Sleep stage R'], [16590.0, 30.0, 'Sleep stage R'], [16620.0, 30.0, 'Sleep stage R'], [16650.0, 30.0, 'Sleep stage R'], [16680.0, 30.0, 'Sleep stage R'], [16710.0, 30.0, 'Sleep stage R'], [16740.0, 30.0, 'Sleep stage R'], [16770.0, 30.0, 'Sleep stage R'], [16800.0, 30.0, 'Sleep stage R'], [16830.0, 30.0, 'Sleep stage R'], [16860.0, 30.0, 'Sleep stage R'], [16890.0, 30.0, 'Sleep stage R'], [16920.0, 30.0, 'Sleep stage R'], [16950.0, 30.0, 'Sleep stage R'], [16980.0, 30.0, 'Sleep stage R'], [17010.0, 30.0, 'Sleep stage R'], [17040.0, 30.0, 'Sleep stage R'], [17070.0, 30.0, 'Sleep stage R'], [17100.0, 30.0, 'Sleep stage R'], [17130.0, 30.0, 'Sleep stage R'], [17160.0, 30.0, 'Sleep stage R'], [17190.0, 30.0, 'Sleep stage R'], [17220.0, 30.0, 'Sleep stage R'], [17250.0, 30.0, 'Sleep stage W'], [17280.0, 30.0, 'Sleep stage W'], [17310.0, 30.0, 'Sleep stage W'], [17340.0, 30.0, 'Sleep stage W'], [17370.0, 30.0, 'Sleep stage W'], [17400.0, 30.0, 'Sleep stage N1'], [17430.0, 30.0, 'Sleep stage N1'], [17460.0, 30.0, 'Sleep stage N1'], [17490.0, 30.0, 'Sleep stage N1'], [17520.0, 30.0, 'Sleep stage N1'], [17550.0, 30.0, 'Sleep stage N1'], [17580.0, 30.0, 'Sleep stage N1'], [17610.0, 30.0, 'Sleep stage N1'], [17640.0, 30.0, 'Sleep stage N1'], [17670.0, 30.0, 'Sleep stage N1'], [17700.0, 30.0, 'Sleep stage N1'], [17730.0, 30.0, 'Sleep stage N1'], [17760.0, 30.0, 'Sleep stage N2'], [17790.0, 30.0, 'Sleep stage N2'], [17820.0, 30.0, 'Sleep stage N2'], [17850.0, 30.0, 'Sleep stage N2'], [17880.0, 30.0, 'Sleep stage N2'], [17910.0, 30.0, 'Sleep stage N2'], [17940.0, 30.0, 'Sleep stage N2'], [17970.0, 30.0, 'Sleep stage N2'], [18000.0, 30.0, 'Sleep stage N2'], [18030.0, 30.0, 'Sleep stage N2'], [18060.0, 30.0, 'Sleep stage N2'], [18090.0, 30.0, 'Sleep stage N2'], [18120.0, 30.0, 'Sleep stage N2'], [18150.0, 30.0, 'Sleep stage N2'], [18180.0, 30.0, 'Sleep stage N2'], [18210.0, 30.0, 'Sleep stage N2'], [18240.0, 30.0, 'Sleep stage N2'], [18270.0, 30.0, 'Sleep stage N2'], [18300.0, 30.0, 'Sleep stage N2'], [18330.0, 30.0, 'Sleep stage N2'], [18360.0, 30.0, 'Sleep stage N2'], [18390.0, 30.0, 'Sleep stage N2'], [18420.0, 30.0, 'Sleep stage N2'], [18450.0, 30.0, 'Sleep stage N2'], [18480.0, 30.0, 'Sleep stage N2'], [18510.0, 30.0, 'Sleep stage N2'], [18540.0, 30.0, 'Sleep stage N2'], [18570.0, 30.0, 'Sleep stage N2'], [18600.0, 30.0, 'Sleep stage N2'], [18630.0, 30.0, 'Sleep stage N2'], [18660.0, 30.0, 'Sleep stage N2'], [18690.0, 30.0, 'Sleep stage N2'], [18720.0, 30.0, 'Sleep stage N2'], [18750.0, 30.0, 'Sleep stage N2'], [18780.0, 30.0, 'Sleep stage N2'], [18810.0, 30.0, 'Sleep stage N2'], [18840.0, 30.0, 'Sleep stage N2'], [18870.0, 30.0, 'Sleep stage N2'], [18900.0, 30.0, 'Sleep stage N2'], [18930.0, 30.0, 'Sleep stage N2'], [18960.0, 30.0, 'Sleep stage N2'], [18990.0, 30.0, 'Sleep stage N2'], [19020.0, 30.0, 'Sleep stage N2'], [19050.0, 30.0, 'Sleep stage N2'], [19080.0, 30.0, 'Sleep stage N2'], [19110.0, 30.0, 'Sleep stage N2'], [19140.0, 30.0, 'Sleep stage N2'], [19170.0, 30.0, 'Sleep stage N2'], [19200.0, 30.0, 'Sleep stage N2'], [19230.0, 30.0, 'Sleep stage N2'], [19260.0, 30.0, 'Sleep stage N2'], [19290.0, 30.0, 'Sleep stage N2'], [19320.0, 30.0, 'Sleep stage N3'], [19350.0, 30.0, 'Sleep stage N3'], [19380.0, 30.0, 'Sleep stage N3'], [19410.0, 30.0, 'Sleep stage N3'], [19440.0, 30.0, 'Sleep stage N2'], [19470.0, 30.0, 'Sleep stage N3'], [19500.0, 30.0, 'Sleep stage N2'], [19530.0, 30.0, 'Sleep stage N2'], [19560.0, 30.0, 'Sleep stage W'], [19590.0, 30.0, 'Sleep stage W'], [19620.0, 30.0, 'Sleep stage W'], [19650.0, 30.0, 'Sleep stage N1'], [19680.0, 30.0, 'Sleep stage N2'], [19710.0, 30.0, 'Sleep stage N2'], [19740.0, 30.0, 'Sleep stage N2'], [19770.0, 30.0, 'Sleep stage N2'], [19800.0, 30.0, 'Sleep stage N2'], [19830.0, 30.0, 'Sleep stage N2'], [19860.0, 30.0, 'Sleep stage N2'], [19890.0, 30.0, 'Sleep stage N2'], [19920.0, 30.0, 'Sleep stage N2'], [19950.0, 30.0, 'Sleep stage N2'], [19980.0, 30.0, 'Sleep stage N2'], [20010.0, 30.0, 'Sleep stage N2'], [20040.0, 30.0, 'Sleep stage N2'], [20070.0, 30.0, 'Sleep stage N2'], [20100.0, 30.0, 'Sleep stage N2'], [20130.0, 30.0, 'Sleep stage N2'], [20160.0, 30.0, 'Sleep stage N2'], [20190.0, 30.0, 'Sleep stage N2'], [20220.0, 30.0, 'Sleep stage N2'], [20250.0, 30.0, 'Sleep stage N2'], [20280.0, 30.0, 'Sleep stage N2'], [20310.0, 30.0, 'Sleep stage N2'], [20340.0, 30.0, 'Sleep stage N2'], [20370.0, 30.0, 'Sleep stage N2'], [20400.0, 30.0, 'Sleep stage N2'], [20430.0, 30.0, 'Sleep stage N2'], [20460.0, 30.0, 'Sleep stage N2'], [20490.0, 30.0, 'Sleep stage N2'], [20520.0, 30.0, 'Sleep stage N2'], [20550.0, 30.0, 'Sleep stage N2'], [20580.0, 30.0, 'Sleep stage N2'], [20610.0, 30.0, 'Sleep stage N2'], [20640.0, 30.0, 'Sleep stage N2'], [20670.0, 30.0, 'Sleep stage N2'], [20700.0, 30.0, 'Sleep stage R'], [20730.0, 30.0, 'Sleep stage N1'], [20760.0, 30.0, 'Sleep stage N1'], [20790.0, 30.0, 'Sleep stage N1'], [20820.0, 30.0, 'Sleep stage N1'], [20850.0, 30.0, 'Sleep stage N1'], [20880.0, 30.0, 'Sleep stage R'], [20910.0, 30.0, 'Sleep stage R'], [20940.0, 30.0, 'Sleep stage R'], [20970.0, 30.0, 'Sleep stage R'], [21000.0, 30.0, 'Sleep stage R'], [21030.0, 30.0, 'Sleep stage R'], [21060.0, 30.0, 'Sleep stage R'], [21090.0, 30.0, 'Sleep stage R'], [21120.0, 30.0, 'Sleep stage R'], [21150.0, 30.0, 'Sleep stage R'], [21180.0, 30.0, 'Sleep stage R'], [21210.0, 30.0, 'Sleep stage R'], [21240.0, 30.0, 'Sleep stage R'], [21270.0, 30.0, 'Sleep stage R'], [21300.0, 30.0, 'Sleep stage R'], [21330.0, 30.0, 'Sleep stage R'], [21360.0, 30.0, 'Sleep stage R'], [21390.0, 30.0, 'Sleep stage R'], [21420.0, 30.0, 'Sleep stage R'], [21450.0, 30.0, 'Sleep stage R'], [21480.0, 30.0, 'Sleep stage R'], [21510.0, 30.0, 'Sleep stage R'], [21540.0, 30.0, 'Sleep stage R'], [21570.0, 30.0, 'Sleep stage R'], [21600.0, 30.0, 'Sleep stage R'], [21630.0, 30.0, 'Sleep stage R'], [21660.0, 30.0, 'Sleep stage R'], [21690.0, 30.0, 'Sleep stage R'], [21720.0, 30.0, 'Sleep stage R'], [21750.0, 30.0, 'Sleep stage R'], [21780.0, 30.0, 'Sleep stage R'], [21810.0, 30.0, 'Sleep stage R'], [21840.0, 30.0, 'Sleep stage R'], [21870.0, 30.0, 'Sleep stage R'], [21900.0, 30.0, 'Sleep stage R'], [21930.0, 30.0, 'Sleep stage R'], [21960.0, 30.0, 'Sleep stage R'], [21990.0, 30.0, 'Sleep stage R'], [22020.0, 30.0, 'Sleep stage R'], [22050.0, 30.0, 'Sleep stage R'], [22080.0, 30.0, 'Sleep stage R'], [22110.0, 30.0, 'Sleep stage R'], [22140.0, 30.0, 'Sleep stage R'], [22170.0, 30.0, 'Sleep stage R'], [22200.0, 30.0, 'Sleep stage R'], [22230.0, 30.0, 'Sleep stage R'], [22260.0, 30.0, 'Sleep stage R'], [22290.0, 30.0, 'Sleep stage R'], [22320.0, 30.0, 'Sleep stage R'], [22350.0, 30.0, 'Sleep stage R'], [22380.0, 30.0, 'Sleep stage R'], [22410.0, 30.0, 'Sleep stage R'], [22440.0, 30.0, 'Sleep stage R'], [22470.0, 30.0, 'Sleep stage R'], [22500.0, 30.0, 'Sleep stage R'], [22530.0, 30.0, 'Sleep stage R'], [22560.0, 30.0, 'Sleep stage R'], [22590.0, 30.0, 'Sleep stage R'], [22620.0, 30.0, 'Sleep stage N1'], [22650.0, 30.0, 'Sleep stage W'], [22680.0, 30.0, 'Sleep stage N1'], [22710.0, 30.0, 'Sleep stage N1'], [22740.0, 30.0, 'Sleep stage N1'], [22770.0, 30.0, 'Sleep stage N1'], [22800.0, 30.0, 'Sleep stage N1'], [22830.0, 30.0, 'Sleep stage N1'], [22860.0, 30.0, 'Sleep stage N1'], [22890.0, 30.0, 'Sleep stage N2'], [22920.0, 30.0, 'Sleep stage N2'], [22950.0, 30.0, 'Sleep stage N2'], [22980.0, 30.0, 'Sleep stage N2'], [23010.0, 30.0, 'Sleep stage N2'], [23040.0, 30.0, 'Sleep stage N2'], [23070.0, 30.0, 'Sleep stage N2'], [23100.0, 30.0, 'Sleep stage N2'], [23130.0, 30.0, 'Sleep stage N2'], [23160.0, 30.0, 'Sleep stage N1'], [23190.0, 30.0, 'Sleep stage N2'], [23220.0, 30.0, 'Sleep stage N2'], [23250.0, 30.0, 'Sleep stage N1'], [23280.0, 30.0, 'Sleep stage W'], [23310.0, 30.0, 'Sleep stage N1'], [23340.0, 30.0, 'Sleep stage N1'], [23370.0, 30.0, 'Sleep stage W'], [23400.0, 30.0, 'Sleep stage W'], [23430.0, 30.0, 'Sleep stage W'], [23460.0, 30.0, 'Sleep stage W'], [23490.0, 30.0, 'Sleep stage W'], [23520.0, 30.0, 'Sleep stage W'], [23550.0, 30.0, 'Sleep stage W'], [23580.0, 30.0, 'Sleep stage W'], [23610.0, 30.0, 'Sleep stage W'], [23640.0, 30.0, 'Sleep stage W'], [23670.0, 30.0, 'Sleep stage W'], [23700.0, 30.0, 'Sleep stage W'], [23730.0, 30.0, 'Sleep stage W'], [23760.0, 30.0, 'Sleep stage W'], [23790.0, 30.0, 'Sleep stage W'], [23820.0, 30.0, 'Sleep stage W'], [23850.0, 30.0, 'Sleep stage W'], [23880.0, 30.0, 'Sleep stage W'], [23910.0, 30.0, 'Sleep stage N1'], [23940.0, 30.0, 'Sleep stage N1'], [23970.0, 30.0, 'Sleep stage N1'], [24000.0, 30.0, 'Sleep stage N1'], [24030.0, 30.0, 'Sleep stage N1'], [24060.0, 30.0, 'Sleep stage N2'], [24090.0, 30.0, 'Sleep stage N2'], [24120.0, 30.0, 'Sleep stage N2'], [24150.0, 30.0, 'Sleep stage N2'], [24180.0, 30.0, 'Sleep stage N2'], [24210.0, 30.0, 'Sleep stage N2'], [24240.0, 30.0, 'Sleep stage N2'], [24270.0, 30.0, 'Sleep stage N2'], [24300.0, 30.0, 'Sleep stage N2'], [24330.0, 30.0, 'Sleep stage N2'], [24360.0, 30.0, 'Sleep stage N2'], [24390.0, 30.0, 'Sleep stage N2'], [24420.0, 30.0, 'Sleep stage N2'], [24450.0, 30.0, 'Sleep stage N2'], [24480.0, 30.0, 'Sleep stage N2'], [24510.0, 30.0, 'Sleep stage N2'], [24540.0, 30.0, 'Sleep stage N2'], [24570.0, 30.0, 'Sleep stage N2'], [24600.0, 30.0, 'Sleep stage N2'], [24630.0, 30.0, 'Sleep stage N2'], [24660.0, 30.0, 'Sleep stage N2'], [24690.0, 30.0, 'Sleep stage N2'], [24720.0, 30.0, 'Sleep stage N2'], [24750.0, 30.0, 'Sleep stage N2'], [24780.0, 30.0, 'Sleep stage N2'], [24810.0, 30.0, 'Sleep stage N2'], [24840.0, 30.0, 'Sleep stage N2'], [24870.0, 30.0, 'Sleep stage N2'], [24900.0, 30.0, 'Sleep stage N2'], [24930.0, 30.0, 'Sleep stage N2'], [24960.0, 30.0, 'Sleep stage N2'], [24990.0, 30.0, 'Sleep stage N2'], [25020.0, 30.0, 'Sleep stage N2'], [25050.0, 30.0, 'Sleep stage N2'], [25080.0, 30.0, 'Sleep stage N2'], [25110.0, 30.0, 'Sleep stage N2'], [25140.0, 30.0, 'Sleep stage N2'], [25170.0, 30.0, 'Sleep stage N2'], [25200.0, 30.0, 'Sleep stage N2'], [25230.0, 30.0, 'Sleep stage N2'], [25260.0, 30.0, 'Sleep stage N2'], [25290.0, 30.0, 'Sleep stage N2'], [25320.0, 30.0, 'Sleep stage W'], [25350.0, 30.0, 'Sleep stage W'], [25380.0, 30.0, 'Sleep stage W'], [25410.0, 30.0, 'Sleep stage W'], [25440.0, 30.0, 'Sleep stage W'], [25470.0, 30.0, 'Sleep stage W'], [25500.0, 30.0, 'Sleep stage W'], [25530.0, 30.0, 'Sleep stage W'], [25560.0, 30.0, 'Sleep stage W'], [25590.0, 30.0, 'Sleep stage W'], [25618.74, 0.0, 'Lights on@@EEG Fpz-Cz']]})\n",
            "signals=[[ 7.37193866e+01  7.09361410e+01  6.93980316e+01 ... -3.66216526e-02\n",
            "  -3.66216526e-02 -3.66216526e-02]]\n",
            "6566400\n"
          ]
        }
      ]
    }
  ]
}